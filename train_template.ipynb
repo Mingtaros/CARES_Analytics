{
 "cells": [
  {
   "cell_type": "markdown",
   "metadata": {},
   "source": [
    "# Train.ipynb\n",
    "Notebook that can kickstart training your own model.This is a notebook that was done on 7/25/2024 aligned with Leo and JJ"
   ]
  },
  {
   "cell_type": "markdown",
   "metadata": {},
   "source": [
    "#### For importing important libraries/packages"
   ]
  },
  {
   "cell_type": "code",
   "execution_count": 1,
   "metadata": {},
   "outputs": [],
   "source": [
    "import pandas as pd\n",
    "from sklearn.model_selection import train_test_split"
   ]
  },
  {
   "cell_type": "markdown",
   "metadata": {},
   "source": [
    "#### Read the data"
   ]
  },
  {
   "cell_type": "code",
   "execution_count": 3,
   "metadata": {},
   "outputs": [],
   "source": [
    "df = pd.read_excel('data/CARES_data.xlsx')"
   ]
  },
  {
   "cell_type": "markdown",
   "metadata": {},
   "source": [
    "#### About the Dataframe"
   ]
  },
  {
   "cell_type": "code",
   "execution_count": 6,
   "metadata": {},
   "outputs": [
    {
     "name": "stdout",
     "output_type": "stream",
     "text": [
      "(90785, 32)\n",
      "Index(['Indexno', 'AGE', 'GENDER', 'RCRI score', 'Anemia category',\n",
      "       'PreopEGFRMDRD', 'GradeofKidneydisease', 'DaysbetweenDeathandoperation',\n",
      "       '@30daymortality', 'Preoptransfusionwithin30days', 'Intraop',\n",
      "       'Postopwithin30days', 'Transfusionintraandpostop', 'AnaestypeCategory',\n",
      "       'PriorityCategory', 'TransfusionIntraandpostopCategory', 'AGEcategory',\n",
      "       'AGEcategoryOriginal', 'Mortality', 'thirtydaymortality',\n",
      "       'SurgRiskCategory', 'RaceCategory', 'CVARCRICategory',\n",
      "       'IHDRCRICategory', 'CHFRCRICategory', 'DMinsulinRCRICategory',\n",
      "       'CreatinineRCRICategory', 'GradeofKidneyCategory',\n",
      "       'Anemiacategorybinned', 'RDW15.7', 'ASAcategorybinned', 'ICUAdmgt24h'],\n",
      "      dtype='object')\n"
     ]
    },
    {
     "data": {
      "text/html": [
       "<div>\n",
       "<style scoped>\n",
       "    .dataframe tbody tr th:only-of-type {\n",
       "        vertical-align: middle;\n",
       "    }\n",
       "\n",
       "    .dataframe tbody tr th {\n",
       "        vertical-align: top;\n",
       "    }\n",
       "\n",
       "    .dataframe thead th {\n",
       "        text-align: right;\n",
       "    }\n",
       "</style>\n",
       "<table border=\"1\" class=\"dataframe\">\n",
       "  <thead>\n",
       "    <tr style=\"text-align: right;\">\n",
       "      <th></th>\n",
       "      <th>Indexno</th>\n",
       "      <th>AGE</th>\n",
       "      <th>GENDER</th>\n",
       "      <th>RCRI score</th>\n",
       "      <th>Anemia category</th>\n",
       "      <th>PreopEGFRMDRD</th>\n",
       "      <th>GradeofKidneydisease</th>\n",
       "      <th>DaysbetweenDeathandoperation</th>\n",
       "      <th>@30daymortality</th>\n",
       "      <th>Preoptransfusionwithin30days</th>\n",
       "      <th>...</th>\n",
       "      <th>CVARCRICategory</th>\n",
       "      <th>IHDRCRICategory</th>\n",
       "      <th>CHFRCRICategory</th>\n",
       "      <th>DMinsulinRCRICategory</th>\n",
       "      <th>CreatinineRCRICategory</th>\n",
       "      <th>GradeofKidneyCategory</th>\n",
       "      <th>Anemiacategorybinned</th>\n",
       "      <th>RDW15.7</th>\n",
       "      <th>ASAcategorybinned</th>\n",
       "      <th>ICUAdmgt24h</th>\n",
       "    </tr>\n",
       "  </thead>\n",
       "  <tbody>\n",
       "    <tr>\n",
       "      <th>0</th>\n",
       "      <td>2</td>\n",
       "      <td>48</td>\n",
       "      <td>FEMALE</td>\n",
       "      <td>NaN</td>\n",
       "      <td>NaN</td>\n",
       "      <td>NaN</td>\n",
       "      <td>BLANK</td>\n",
       "      <td>NaN</td>\n",
       "      <td>NO</td>\n",
       "      <td>0</td>\n",
       "      <td>...</td>\n",
       "      <td>#NULL!</td>\n",
       "      <td>#NULL!</td>\n",
       "      <td>#NULL!</td>\n",
       "      <td>#NULL!</td>\n",
       "      <td>no</td>\n",
       "      <td>#NULL!</td>\n",
       "      <td>#NULL!</td>\n",
       "      <td>#NULL!</td>\n",
       "      <td>I</td>\n",
       "      <td>no</td>\n",
       "    </tr>\n",
       "    <tr>\n",
       "      <th>1</th>\n",
       "      <td>5</td>\n",
       "      <td>36</td>\n",
       "      <td>FEMALE</td>\n",
       "      <td>NaN</td>\n",
       "      <td>none</td>\n",
       "      <td>NaN</td>\n",
       "      <td>BLANK</td>\n",
       "      <td>NaN</td>\n",
       "      <td>NO</td>\n",
       "      <td>0</td>\n",
       "      <td>...</td>\n",
       "      <td>#NULL!</td>\n",
       "      <td>#NULL!</td>\n",
       "      <td>#NULL!</td>\n",
       "      <td>#NULL!</td>\n",
       "      <td>#NULL!</td>\n",
       "      <td>#NULL!</td>\n",
       "      <td>None</td>\n",
       "      <td>&lt;= 15.7</td>\n",
       "      <td>I</td>\n",
       "      <td>no</td>\n",
       "    </tr>\n",
       "    <tr>\n",
       "      <th>2</th>\n",
       "      <td>6</td>\n",
       "      <td>64</td>\n",
       "      <td>FEMALE</td>\n",
       "      <td>NaN</td>\n",
       "      <td>mild</td>\n",
       "      <td>152.538570</td>\n",
       "      <td>g1</td>\n",
       "      <td>NaN</td>\n",
       "      <td>NO</td>\n",
       "      <td>0</td>\n",
       "      <td>...</td>\n",
       "      <td>#NULL!</td>\n",
       "      <td>#NULL!</td>\n",
       "      <td>#NULL!</td>\n",
       "      <td>#NULL!</td>\n",
       "      <td>#NULL!</td>\n",
       "      <td>G1</td>\n",
       "      <td>Mild</td>\n",
       "      <td>&lt;= 15.7</td>\n",
       "      <td>I</td>\n",
       "      <td>no</td>\n",
       "    </tr>\n",
       "    <tr>\n",
       "      <th>3</th>\n",
       "      <td>9</td>\n",
       "      <td>73</td>\n",
       "      <td>MALE</td>\n",
       "      <td>NaN</td>\n",
       "      <td>moderate</td>\n",
       "      <td>117.231496</td>\n",
       "      <td>g1</td>\n",
       "      <td>NaN</td>\n",
       "      <td>NO</td>\n",
       "      <td>0</td>\n",
       "      <td>...</td>\n",
       "      <td>#NULL!</td>\n",
       "      <td>#NULL!</td>\n",
       "      <td>#NULL!</td>\n",
       "      <td>#NULL!</td>\n",
       "      <td>no</td>\n",
       "      <td>G1</td>\n",
       "      <td>Moderate/Severe</td>\n",
       "      <td>&lt;= 15.7</td>\n",
       "      <td>I</td>\n",
       "      <td>no</td>\n",
       "    </tr>\n",
       "    <tr>\n",
       "      <th>4</th>\n",
       "      <td>10</td>\n",
       "      <td>73</td>\n",
       "      <td>MALE</td>\n",
       "      <td>0.0</td>\n",
       "      <td>mild</td>\n",
       "      <td>98.651255</td>\n",
       "      <td>g1</td>\n",
       "      <td>59.0</td>\n",
       "      <td>NO</td>\n",
       "      <td>0</td>\n",
       "      <td>...</td>\n",
       "      <td>no</td>\n",
       "      <td>no</td>\n",
       "      <td>no</td>\n",
       "      <td>no</td>\n",
       "      <td>no</td>\n",
       "      <td>G1</td>\n",
       "      <td>Mild</td>\n",
       "      <td>&gt;15.7</td>\n",
       "      <td>II</td>\n",
       "      <td>no</td>\n",
       "    </tr>\n",
       "  </tbody>\n",
       "</table>\n",
       "<p>5 rows × 32 columns</p>\n",
       "</div>"
      ],
      "text/plain": [
       "   Indexno  AGE  GENDER  RCRI score Anemia category  PreopEGFRMDRD  \\\n",
       "0        2   48  FEMALE         NaN             NaN            NaN   \n",
       "1        5   36  FEMALE         NaN            none            NaN   \n",
       "2        6   64  FEMALE         NaN            mild     152.538570   \n",
       "3        9   73    MALE         NaN        moderate     117.231496   \n",
       "4       10   73    MALE         0.0            mild      98.651255   \n",
       "\n",
       "  GradeofKidneydisease  DaysbetweenDeathandoperation @30daymortality  \\\n",
       "0                BLANK                           NaN              NO   \n",
       "1                BLANK                           NaN              NO   \n",
       "2                   g1                           NaN              NO   \n",
       "3                   g1                           NaN              NO   \n",
       "4                   g1                          59.0              NO   \n",
       "\n",
       "   Preoptransfusionwithin30days  ...  CVARCRICategory  IHDRCRICategory  \\\n",
       "0                             0  ...           #NULL!           #NULL!   \n",
       "1                             0  ...           #NULL!           #NULL!   \n",
       "2                             0  ...           #NULL!           #NULL!   \n",
       "3                             0  ...           #NULL!           #NULL!   \n",
       "4                             0  ...               no               no   \n",
       "\n",
       "   CHFRCRICategory DMinsulinRCRICategory CreatinineRCRICategory  \\\n",
       "0           #NULL!                #NULL!                     no   \n",
       "1           #NULL!                #NULL!                 #NULL!   \n",
       "2           #NULL!                #NULL!                 #NULL!   \n",
       "3           #NULL!                #NULL!                     no   \n",
       "4               no                    no                     no   \n",
       "\n",
       "  GradeofKidneyCategory Anemiacategorybinned  RDW15.7 ASAcategorybinned  \\\n",
       "0                #NULL!               #NULL!   #NULL!                 I   \n",
       "1                #NULL!                 None  <= 15.7                 I   \n",
       "2                    G1                 Mild  <= 15.7                 I   \n",
       "3                    G1      Moderate/Severe  <= 15.7                 I   \n",
       "4                    G1                 Mild    >15.7                II   \n",
       "\n",
       "  ICUAdmgt24h  \n",
       "0          no  \n",
       "1          no  \n",
       "2          no  \n",
       "3          no  \n",
       "4          no  \n",
       "\n",
       "[5 rows x 32 columns]"
      ]
     },
     "execution_count": 6,
     "metadata": {},
     "output_type": "execute_result"
    }
   ],
   "source": [
    "# Check the shape of the dataframe\n",
    "'''\n",
    "90 785 patients and 32 columns, later to realize only 5 are dependent variables, and 27 are independent variables\n",
    "'''\n",
    "print(df.shape)\n",
    "\n",
    "# Show the columns of the dataframe\n",
    "print(df.columns)\n",
    "\n",
    "# Print the first 5 rows of the dataframe\n",
    "df.head()"
   ]
  },
  {
   "cell_type": "markdown",
   "metadata": {},
   "source": [
    "#### Data Preparation"
   ]
  },
  {
   "cell_type": "markdown",
   "metadata": {},
   "source": [
    "Paper only uses \"Outcome measures were death within 30 days after surgery and ICU admission\". But we have DaysBetweenDeathAndOperation though\n",
    "\n",
    "Additionally, @30daymortality and thirtydaymortality are actually the same thing by definition (verified by JJ, Leo, JS)"
   ]
  },
  {
   "cell_type": "code",
   "execution_count": 12,
   "metadata": {},
   "outputs": [
    {
     "name": "stdout",
     "output_type": "stream",
     "text": [
      "X_i, Features Shape are: (90785, 27)\n",
      "Y_i, Target Variables Shape are: (90785, 5)\n"
     ]
    }
   ],
   "source": [
    "# Seperate the data into X and Y\n",
    "\n",
    "# Y is the target variable\n",
    "target_variables = ['DaysbetweenDeathandoperation', '@30daymortality', 'thirtydaymortality', 'Mortality','ICUAdmgt24h']\n",
    "\n",
    "#Y is the target variable colunns\n",
    "Y = df[target_variables]\n",
    "\n",
    "# X are the feature columns\n",
    "X = df.drop(target_variables, axis=1)\n",
    "\n",
    "# Check the shape of the X and Y\n",
    "print('X_i, Features Shape are:',X.shape)\n",
    "print('Y_i, Target Variables Shape are:',Y.shape)"
   ]
  },
  {
   "cell_type": "markdown",
   "metadata": {},
   "source": [
    "Assume all data preparation have been done, we can do a train test val split,\n",
    "where train is for training the model, test is for hyperparameter tuning, and val is for model validation on unseen set\n",
    "\n",
    "Note: The paper did not do a test set for hyperparameter tuning. But Leo and JS agreed to have this split since the requirement pdf specified it."
   ]
  },
  {
   "cell_type": "code",
   "execution_count": 15,
   "metadata": {},
   "outputs": [],
   "source": [
    "# split the data into training, testing and validation sets\n",
    "\n",
    "# Split the data into training and testing sets\n",
    "X_train, X_test, Y_train, Y_test = train_test_split(X, Y, \n",
    "                                                    test_size=0.2, \n",
    "                                                    random_state=2024)\n",
    "\n",
    "# Split the training data into training and validation sets\n",
    "X_train, X_val, Y_train, Y_val = train_test_split(X_train, Y_train, \n",
    "                                                  test_size=0.2, \n",
    "                                                  random_state=2024)"
   ]
  },
  {
   "cell_type": "code",
   "execution_count": 17,
   "metadata": {},
   "outputs": [
    {
     "name": "stdout",
     "output_type": "stream",
     "text": [
      "X_train Shape: (58102, 27)\n",
      "Y_train Shape: (58102, 5)\n",
      "---------------------------------\n",
      "X_test Shape: (18157, 27)\n",
      "Y_test Shape: (18157, 5)\n",
      "---------------------------------\n",
      "X_val Shape: (14526, 27)\n",
      "Y_val Shape: (14526, 5)\n"
     ]
    }
   ],
   "source": [
    "# Let's check the shape of all the sets\n",
    "print('X_train Shape:',X_train.shape)\n",
    "print('Y_train Shape:',Y_train.shape)\n",
    "print('---------------------------------')\n",
    "print('X_test Shape:',X_test.shape)\n",
    "print('Y_test Shape:',Y_test.shape)\n",
    "print('---------------------------------')\n",
    "print('X_val Shape:',X_val.shape)\n",
    "print('Y_val Shape:',Y_val.shape)"
   ]
  },
  {
   "cell_type": "code",
   "execution_count": null,
   "metadata": {},
   "outputs": [],
   "source": []
  }
 ],
 "metadata": {
  "kernelspec": {
   "display_name": "smumitb",
   "language": "python",
   "name": "python3"
  },
  "language_info": {
   "codemirror_mode": {
    "name": "ipython",
    "version": 3
   },
   "file_extension": ".py",
   "mimetype": "text/x-python",
   "name": "python",
   "nbconvert_exporter": "python",
   "pygments_lexer": "ipython3",
   "version": "3.11.4"
  }
 },
 "nbformat": 4,
 "nbformat_minor": 2
}
