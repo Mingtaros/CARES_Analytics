{
 "cells": [
  {
   "cell_type": "markdown",
   "metadata": {},
   "source": [
    "# Statistical Hypothesis Testing"
   ]
  },
  {
   "cell_type": "markdown",
   "metadata": {},
   "source": [
    "This notebook attempts to explore mainly on the Univariate analysis of each factor w.r.t to the 3 outcomes of interest ['ICUAdmgt24h', 'thirtydaymortality', 'Mortality']\n",
    "Will employ Anova/Chi-square accordingly based on the nature of data\n",
    "\n",
    "Side note: I have only done for all categorical responses using chi-square. CAA 07/Jul/2024... Will do the same for continuous response in abit"
   ]
  },
  {
   "cell_type": "code",
   "execution_count": 1,
   "metadata": {},
   "outputs": [],
   "source": [
    "# Statistical Hypothesis Testing"
   ]
  },
  {
   "cell_type": "code",
   "execution_count": 17,
   "metadata": {},
   "outputs": [],
   "source": [
    "import pandas as pd\n",
    "import scipy"
   ]
  },
  {
   "cell_type": "code",
   "execution_count": 5,
   "metadata": {},
   "outputs": [
    {
     "data": {
      "text/html": [
       "<div>\n",
       "<style scoped>\n",
       "    .dataframe tbody tr th:only-of-type {\n",
       "        vertical-align: middle;\n",
       "    }\n",
       "\n",
       "    .dataframe tbody tr th {\n",
       "        vertical-align: top;\n",
       "    }\n",
       "\n",
       "    .dataframe thead th {\n",
       "        text-align: right;\n",
       "    }\n",
       "</style>\n",
       "<table border=\"1\" class=\"dataframe\">\n",
       "  <thead>\n",
       "    <tr style=\"text-align: right;\">\n",
       "      <th></th>\n",
       "      <th>GENDER</th>\n",
       "      <th>RCRI_score</th>\n",
       "      <th>Anemia category</th>\n",
       "      <th>Preoptransfusionwithin30days</th>\n",
       "      <th>Intraop</th>\n",
       "      <th>Postopwithin30days</th>\n",
       "      <th>Transfusionintraandpostop</th>\n",
       "      <th>AnaestypeCategory</th>\n",
       "      <th>PriorityCategory</th>\n",
       "      <th>TransfusionIntraandpostopCategory</th>\n",
       "      <th>...</th>\n",
       "      <th>RaceCategory</th>\n",
       "      <th>CVARCRICategory</th>\n",
       "      <th>IHDRCRICategory</th>\n",
       "      <th>CHFRCRICategory</th>\n",
       "      <th>DMinsulinRCRICategory</th>\n",
       "      <th>CreatinineRCRICategory</th>\n",
       "      <th>GradeofKidneyCategory</th>\n",
       "      <th>RDW15.7</th>\n",
       "      <th>ASAcategorybinned</th>\n",
       "      <th>ICUAdmgt24h</th>\n",
       "    </tr>\n",
       "  </thead>\n",
       "  <tbody>\n",
       "    <tr>\n",
       "      <th>0</th>\n",
       "      <td>FEMALE</td>\n",
       "      <td>0</td>\n",
       "      <td>mild</td>\n",
       "      <td>0.0</td>\n",
       "      <td>0.0</td>\n",
       "      <td>0.0</td>\n",
       "      <td>0.0</td>\n",
       "      <td>GA</td>\n",
       "      <td>Elective</td>\n",
       "      <td>0 units</td>\n",
       "      <td>...</td>\n",
       "      <td>Chinese</td>\n",
       "      <td>no</td>\n",
       "      <td>no</td>\n",
       "      <td>no</td>\n",
       "      <td>no</td>\n",
       "      <td>no</td>\n",
       "      <td>G1</td>\n",
       "      <td>&lt;= 15.7</td>\n",
       "      <td>I</td>\n",
       "      <td>no</td>\n",
       "    </tr>\n",
       "    <tr>\n",
       "      <th>1</th>\n",
       "      <td>MALE</td>\n",
       "      <td>0</td>\n",
       "      <td>moderate/severe</td>\n",
       "      <td>0.0</td>\n",
       "      <td>1.0</td>\n",
       "      <td>0.0</td>\n",
       "      <td>1.0</td>\n",
       "      <td>GA</td>\n",
       "      <td>Elective</td>\n",
       "      <td>1 unit</td>\n",
       "      <td>...</td>\n",
       "      <td>Chinese</td>\n",
       "      <td>no</td>\n",
       "      <td>no</td>\n",
       "      <td>no</td>\n",
       "      <td>no</td>\n",
       "      <td>no</td>\n",
       "      <td>G1</td>\n",
       "      <td>&lt;= 15.7</td>\n",
       "      <td>I</td>\n",
       "      <td>no</td>\n",
       "    </tr>\n",
       "    <tr>\n",
       "      <th>2</th>\n",
       "      <td>MALE</td>\n",
       "      <td>0</td>\n",
       "      <td>mild</td>\n",
       "      <td>0.0</td>\n",
       "      <td>0.0</td>\n",
       "      <td>0.0</td>\n",
       "      <td>0.0</td>\n",
       "      <td>GA</td>\n",
       "      <td>Elective</td>\n",
       "      <td>0 units</td>\n",
       "      <td>...</td>\n",
       "      <td>Chinese</td>\n",
       "      <td>no</td>\n",
       "      <td>no</td>\n",
       "      <td>no</td>\n",
       "      <td>no</td>\n",
       "      <td>no</td>\n",
       "      <td>G1</td>\n",
       "      <td>&gt;15.7</td>\n",
       "      <td>II</td>\n",
       "      <td>no</td>\n",
       "    </tr>\n",
       "    <tr>\n",
       "      <th>3</th>\n",
       "      <td>MALE</td>\n",
       "      <td>0</td>\n",
       "      <td>none</td>\n",
       "      <td>0.0</td>\n",
       "      <td>0.0</td>\n",
       "      <td>0.0</td>\n",
       "      <td>0.0</td>\n",
       "      <td>GA</td>\n",
       "      <td>Emergency</td>\n",
       "      <td>0 units</td>\n",
       "      <td>...</td>\n",
       "      <td>Indian</td>\n",
       "      <td>no</td>\n",
       "      <td>no</td>\n",
       "      <td>no</td>\n",
       "      <td>no</td>\n",
       "      <td>no</td>\n",
       "      <td>G1</td>\n",
       "      <td>&lt;= 15.7</td>\n",
       "      <td>I</td>\n",
       "      <td>no</td>\n",
       "    </tr>\n",
       "    <tr>\n",
       "      <th>4</th>\n",
       "      <td>FEMALE</td>\n",
       "      <td>0</td>\n",
       "      <td>none</td>\n",
       "      <td>0.0</td>\n",
       "      <td>0.0</td>\n",
       "      <td>0.0</td>\n",
       "      <td>0.0</td>\n",
       "      <td>GA</td>\n",
       "      <td>Elective</td>\n",
       "      <td>0 units</td>\n",
       "      <td>...</td>\n",
       "      <td>Chinese</td>\n",
       "      <td>no</td>\n",
       "      <td>no</td>\n",
       "      <td>no</td>\n",
       "      <td>no</td>\n",
       "      <td>no</td>\n",
       "      <td>G2</td>\n",
       "      <td>&lt;= 15.7</td>\n",
       "      <td>II</td>\n",
       "      <td>no</td>\n",
       "    </tr>\n",
       "  </tbody>\n",
       "</table>\n",
       "<p>5 rows × 24 columns</p>\n",
       "</div>"
      ],
      "text/plain": [
       "   GENDER RCRI_score  Anemia category  Preoptransfusionwithin30days  Intraop  \\\n",
       "0  FEMALE          0             mild                           0.0      0.0   \n",
       "1    MALE          0  moderate/severe                           0.0      1.0   \n",
       "2    MALE          0             mild                           0.0      0.0   \n",
       "3    MALE          0             none                           0.0      0.0   \n",
       "4  FEMALE          0             none                           0.0      0.0   \n",
       "\n",
       "   Postopwithin30days  Transfusionintraandpostop AnaestypeCategory  \\\n",
       "0                 0.0                        0.0                GA   \n",
       "1                 0.0                        1.0                GA   \n",
       "2                 0.0                        0.0                GA   \n",
       "3                 0.0                        0.0                GA   \n",
       "4                 0.0                        0.0                GA   \n",
       "\n",
       "  PriorityCategory TransfusionIntraandpostopCategory  ... RaceCategory  \\\n",
       "0         Elective                           0 units  ...      Chinese   \n",
       "1         Elective                            1 unit  ...      Chinese   \n",
       "2         Elective                           0 units  ...      Chinese   \n",
       "3        Emergency                           0 units  ...       Indian   \n",
       "4         Elective                           0 units  ...      Chinese   \n",
       "\n",
       "  CVARCRICategory  IHDRCRICategory CHFRCRICategory DMinsulinRCRICategory  \\\n",
       "0              no               no              no                    no   \n",
       "1              no               no              no                    no   \n",
       "2              no               no              no                    no   \n",
       "3              no               no              no                    no   \n",
       "4              no               no              no                    no   \n",
       "\n",
       "  CreatinineRCRICategory GradeofKidneyCategory  RDW15.7 ASAcategorybinned  \\\n",
       "0                     no                    G1  <= 15.7                 I   \n",
       "1                     no                    G1  <= 15.7                 I   \n",
       "2                     no                    G1    >15.7                II   \n",
       "3                     no                    G1  <= 15.7                 I   \n",
       "4                     no                    G2  <= 15.7                II   \n",
       "\n",
       "  ICUAdmgt24h  \n",
       "0          no  \n",
       "1          no  \n",
       "2          no  \n",
       "3          no  \n",
       "4          no  \n",
       "\n",
       "[5 rows x 24 columns]"
      ]
     },
     "execution_count": 5,
     "metadata": {},
     "output_type": "execute_result"
    }
   ],
   "source": [
    "# import dataset clean and imputed previously\n",
    "df = pd.read_csv('../data/CARES_data_imputedv1.csv', dtype={'RCRI_score':str})\n",
    "\n",
    "# show first 5 rows\n",
    "df.head()"
   ]
  },
  {
   "cell_type": "code",
   "execution_count": 7,
   "metadata": {},
   "outputs": [
    {
     "name": "stdout",
     "output_type": "stream",
     "text": [
      "<class 'pandas.core.frame.DataFrame'>\n",
      "RangeIndex: 69667 entries, 0 to 69666\n",
      "Data columns (total 24 columns):\n",
      " #   Column                             Non-Null Count  Dtype  \n",
      "---  ------                             --------------  -----  \n",
      " 0   GENDER                             69667 non-null  object \n",
      " 1   RCRI_score                         69667 non-null  object \n",
      " 2   Anemia category                    69667 non-null  object \n",
      " 3   Preoptransfusionwithin30days       69667 non-null  float64\n",
      " 4   Intraop                            69667 non-null  float64\n",
      " 5   Postopwithin30days                 69667 non-null  float64\n",
      " 6   Transfusionintraandpostop          69667 non-null  float64\n",
      " 7   AnaestypeCategory                  69667 non-null  object \n",
      " 8   PriorityCategory                   69667 non-null  object \n",
      " 9   TransfusionIntraandpostopCategory  69667 non-null  object \n",
      " 10  AGEcategory                        69667 non-null  object \n",
      " 11  Mortality                          69667 non-null  object \n",
      " 12  thirtydaymortality                 69667 non-null  bool   \n",
      " 13  SurgRiskCategory                   69667 non-null  object \n",
      " 14  RaceCategory                       69667 non-null  object \n",
      " 15  CVARCRICategory                    69667 non-null  object \n",
      " 16  IHDRCRICategory                    69667 non-null  object \n",
      " 17  CHFRCRICategory                    69667 non-null  object \n",
      " 18  DMinsulinRCRICategory              69667 non-null  object \n",
      " 19  CreatinineRCRICategory             69667 non-null  object \n",
      " 20  GradeofKidneyCategory              69667 non-null  object \n",
      " 21  RDW15.7                            69667 non-null  object \n",
      " 22  ASAcategorybinned                  69667 non-null  object \n",
      " 23  ICUAdmgt24h                        69667 non-null  object \n",
      "dtypes: bool(1), float64(4), object(19)\n",
      "memory usage: 12.3+ MB\n"
     ]
    }
   ],
   "source": [
    "df.info()"
   ]
  },
  {
   "cell_type": "code",
   "execution_count": 8,
   "metadata": {},
   "outputs": [],
   "source": [
    "# target columns y_i\n",
    "Y =  ['ICUAdmgt24h', 'thirtydaymortality', 'Mortality']"
   ]
  },
  {
   "cell_type": "code",
   "execution_count": 11,
   "metadata": {},
   "outputs": [],
   "source": [
    "# Select categorical columns and exclude target columns\n",
    "cat_cols = df.select_dtypes(include=['object', 'category']).columns.to_list()\n",
    "cat_cols = [col for col in cat_cols if col not in Y]\n",
    "\n",
    "# Select numerical columns and exclude target columns\n",
    "num_cols = df.select_dtypes(include=['number']).columns.tolist()\n",
    "num_cols = [col for col in num_cols if col not in Y]"
   ]
  },
  {
   "cell_type": "code",
   "execution_count": 13,
   "metadata": {},
   "outputs": [
    {
     "data": {
      "text/html": [
       "<div>\n",
       "<style scoped>\n",
       "    .dataframe tbody tr th:only-of-type {\n",
       "        vertical-align: middle;\n",
       "    }\n",
       "\n",
       "    .dataframe tbody tr th {\n",
       "        vertical-align: top;\n",
       "    }\n",
       "\n",
       "    .dataframe thead th {\n",
       "        text-align: right;\n",
       "    }\n",
       "</style>\n",
       "<table border=\"1\" class=\"dataframe\">\n",
       "  <thead>\n",
       "    <tr style=\"text-align: right;\">\n",
       "      <th></th>\n",
       "      <th>Column</th>\n",
       "      <th>Number of Unique Values</th>\n",
       "      <th>Unique Values</th>\n",
       "    </tr>\n",
       "  </thead>\n",
       "  <tbody>\n",
       "    <tr>\n",
       "      <th>0</th>\n",
       "      <td>GENDER</td>\n",
       "      <td>2</td>\n",
       "      <td>[FEMALE, MALE]</td>\n",
       "    </tr>\n",
       "    <tr>\n",
       "      <th>1</th>\n",
       "      <td>RCRI_score</td>\n",
       "      <td>7</td>\n",
       "      <td>[0, 1, 2, 4, 3, 6, 5]</td>\n",
       "    </tr>\n",
       "    <tr>\n",
       "      <th>2</th>\n",
       "      <td>Anemia category</td>\n",
       "      <td>3</td>\n",
       "      <td>[mild, moderate/severe, none]</td>\n",
       "    </tr>\n",
       "    <tr>\n",
       "      <th>3</th>\n",
       "      <td>AnaestypeCategory</td>\n",
       "      <td>2</td>\n",
       "      <td>[GA, RA]</td>\n",
       "    </tr>\n",
       "    <tr>\n",
       "      <th>4</th>\n",
       "      <td>PriorityCategory</td>\n",
       "      <td>2</td>\n",
       "      <td>[Elective, Emergency]</td>\n",
       "    </tr>\n",
       "    <tr>\n",
       "      <th>5</th>\n",
       "      <td>TransfusionIntraandpostopCategory</td>\n",
       "      <td>3</td>\n",
       "      <td>[0 units, 1 unit, 2 or more units]</td>\n",
       "    </tr>\n",
       "    <tr>\n",
       "      <th>6</th>\n",
       "      <td>AGEcategory</td>\n",
       "      <td>6</td>\n",
       "      <td>[50-64, 65-74, 30-49, 75-84, 18-29, &gt;=85]</td>\n",
       "    </tr>\n",
       "    <tr>\n",
       "      <th>7</th>\n",
       "      <td>SurgRiskCategory</td>\n",
       "      <td>3</td>\n",
       "      <td>[Low, Moderate, High]</td>\n",
       "    </tr>\n",
       "    <tr>\n",
       "      <th>8</th>\n",
       "      <td>RaceCategory</td>\n",
       "      <td>4</td>\n",
       "      <td>[Chinese, Indian, Others, Malay]</td>\n",
       "    </tr>\n",
       "    <tr>\n",
       "      <th>9</th>\n",
       "      <td>CVARCRICategory</td>\n",
       "      <td>2</td>\n",
       "      <td>[no, yes]</td>\n",
       "    </tr>\n",
       "    <tr>\n",
       "      <th>10</th>\n",
       "      <td>IHDRCRICategory</td>\n",
       "      <td>2</td>\n",
       "      <td>[no, yes]</td>\n",
       "    </tr>\n",
       "    <tr>\n",
       "      <th>11</th>\n",
       "      <td>CHFRCRICategory</td>\n",
       "      <td>2</td>\n",
       "      <td>[no, yes]</td>\n",
       "    </tr>\n",
       "    <tr>\n",
       "      <th>12</th>\n",
       "      <td>DMinsulinRCRICategory</td>\n",
       "      <td>2</td>\n",
       "      <td>[no, yes]</td>\n",
       "    </tr>\n",
       "    <tr>\n",
       "      <th>13</th>\n",
       "      <td>CreatinineRCRICategory</td>\n",
       "      <td>2</td>\n",
       "      <td>[no, yes]</td>\n",
       "    </tr>\n",
       "    <tr>\n",
       "      <th>14</th>\n",
       "      <td>GradeofKidneyCategory</td>\n",
       "      <td>4</td>\n",
       "      <td>[G1, G2, G4-G5, G3]</td>\n",
       "    </tr>\n",
       "    <tr>\n",
       "      <th>15</th>\n",
       "      <td>RDW15.7</td>\n",
       "      <td>2</td>\n",
       "      <td>[&lt;= 15.7, &gt;15.7]</td>\n",
       "    </tr>\n",
       "    <tr>\n",
       "      <th>16</th>\n",
       "      <td>ASAcategorybinned</td>\n",
       "      <td>4</td>\n",
       "      <td>[I, II, III, IV-VI]</td>\n",
       "    </tr>\n",
       "  </tbody>\n",
       "</table>\n",
       "</div>"
      ],
      "text/plain": [
       "                               Column  Number of Unique Values  \\\n",
       "0                              GENDER                        2   \n",
       "1                          RCRI_score                        7   \n",
       "2                     Anemia category                        3   \n",
       "3                   AnaestypeCategory                        2   \n",
       "4                    PriorityCategory                        2   \n",
       "5   TransfusionIntraandpostopCategory                        3   \n",
       "6                         AGEcategory                        6   \n",
       "7                    SurgRiskCategory                        3   \n",
       "8                        RaceCategory                        4   \n",
       "9                     CVARCRICategory                        2   \n",
       "10                    IHDRCRICategory                        2   \n",
       "11                    CHFRCRICategory                        2   \n",
       "12              DMinsulinRCRICategory                        2   \n",
       "13             CreatinineRCRICategory                        2   \n",
       "14              GradeofKidneyCategory                        4   \n",
       "15                            RDW15.7                        2   \n",
       "16                  ASAcategorybinned                        4   \n",
       "\n",
       "                                Unique Values  \n",
       "0                              [FEMALE, MALE]  \n",
       "1                       [0, 1, 2, 4, 3, 6, 5]  \n",
       "2               [mild, moderate/severe, none]  \n",
       "3                                    [GA, RA]  \n",
       "4                       [Elective, Emergency]  \n",
       "5          [0 units, 1 unit, 2 or more units]  \n",
       "6   [50-64, 65-74, 30-49, 75-84, 18-29, >=85]  \n",
       "7                       [Low, Moderate, High]  \n",
       "8            [Chinese, Indian, Others, Malay]  \n",
       "9                                   [no, yes]  \n",
       "10                                  [no, yes]  \n",
       "11                                  [no, yes]  \n",
       "12                                  [no, yes]  \n",
       "13                                  [no, yes]  \n",
       "14                        [G1, G2, G4-G5, G3]  \n",
       "15                           [<= 15.7, >15.7]  \n",
       "16                        [I, II, III, IV-VI]  "
      ]
     },
     "execution_count": 13,
     "metadata": {},
     "output_type": "execute_result"
    }
   ],
   "source": [
    "# See what are the unique categories present in the categorical columns\n",
    "summary_cat_data = {\n",
    "    'Column': [],\n",
    "    'Number of Unique Values': [],\n",
    "    'Unique Values': []\n",
    "}\n",
    "\n",
    "for column in cat_cols:\n",
    "    summary_cat_data['Column'].append(column)\n",
    "    summary_cat_data['Number of Unique Values'].append(df[column].nunique())\n",
    "    summary_cat_data['Unique Values'].append(df[column].unique())\n",
    "\n",
    "summary_df = pd.DataFrame(summary_cat_data)\n",
    "summary_df\n",
    "# There are no NaN values in the columns"
   ]
  },
  {
   "cell_type": "code",
   "execution_count": 14,
   "metadata": {},
   "outputs": [
    {
     "data": {
      "text/plain": [
       "['Preoptransfusionwithin30days',\n",
       " 'Intraop',\n",
       " 'Postopwithin30days',\n",
       " 'Transfusionintraandpostop']"
      ]
     },
     "execution_count": 14,
     "metadata": {},
     "output_type": "execute_result"
    }
   ],
   "source": [
    "num_cols"
   ]
  },
  {
   "cell_type": "markdown",
   "metadata": {},
   "source": [
    "Perform univariate analysis for AGEcategory to ICUAdmgt24h"
   ]
  },
  {
   "cell_type": "code",
   "execution_count": 32,
   "metadata": {},
   "outputs": [
    {
     "name": "stdout",
     "output_type": "stream",
     "text": [
      "Chi2: 355.7421570463822\n",
      "p-value: 1.0156666132806244e-74\n",
      "Degree of Freedom: 5\n",
      "Expected Frequencies: [[6.86582649e+03 1.17173511e+02]\n",
      " [1.90931526e+04 3.25847403e+02]\n",
      " [2.17389981e+04 3.71001909e+02]\n",
      " [1.29185299e+04 2.20470108e+02]\n",
      " [6.61117246e+03 1.12827537e+02]\n",
      " [1.27032047e+03 2.16795326e+01]]\n"
     ]
    }
   ],
   "source": [
    "# Build contingency table 01\n",
    "conti_table01 = pd.crosstab(df['AGEcategory'], df['ICUAdmgt24h'])\n",
    "#conti_table01\n",
    "# Perform chisquare\n",
    "chi2, p, dof, ex = scipy.stats.chi2_contingency(conti_table01)\n",
    "\n",
    "print(f'Chi2: {chi2}')\n",
    "print(f'p-value: {p}')\n",
    "print(f'Degree of Freedom: {dof}')\n",
    "print(f'Expected Frequencies: {ex}')"
   ]
  },
  {
   "cell_type": "markdown",
   "metadata": {},
   "source": [
    "Perform univariate analysis for AGEcategory to Mortality"
   ]
  },
  {
   "cell_type": "code",
   "execution_count": 35,
   "metadata": {},
   "outputs": [
    {
     "data": {
      "text/plain": [
       "Mortality\n",
       "No death    64327\n",
       "Yes          5340\n",
       "Name: count, dtype: int64"
      ]
     },
     "execution_count": 35,
     "metadata": {},
     "output_type": "execute_result"
    }
   ],
   "source": [
    "# sanity check\n",
    "df['Mortality'].value_counts()"
   ]
  },
  {
   "cell_type": "code",
   "execution_count": 42,
   "metadata": {},
   "outputs": [
    {
     "name": "stdout",
     "output_type": "stream",
     "text": [
      "Mortality    No death   Yes\n",
      "AGEcategory                \n",
      "18-29            6941    42\n",
      "30-49           18957   462\n",
      "50-64           20385  1725\n",
      "65-74           11601  1538\n",
      "75-84            5514  1210\n",
      ">=85              929   363 \n",
      "\n",
      "Chi2: 3338.422281464878\n",
      "p-value: 0.0\n",
      "Degree of Freedom: 5\n",
      "Expected Frequencies: [[ 6447.75059928   535.24940072]\n",
      " [17930.5268348   1488.4731652 ]\n",
      " [20415.26074038  1694.73925962]\n",
      " [12131.8910388   1007.1089612 ]\n",
      " [ 6208.60304018   515.39695982]\n",
      " [ 1192.96774657    99.03225343]]\n"
     ]
    }
   ],
   "source": [
    "# Build Contingency table 02\n",
    "conti_table02 = pd.crosstab(df['AGEcategory'], df['Mortality'])\n",
    "print(conti_table02,'\\n')\n",
    "# Perform chisquare\n",
    "chi2, p, dof, ex = scipy.stats.chi2_contingency(conti_table02)\n",
    "\n",
    "print(f'Chi2: {chi2}')\n",
    "print(f'p-value: {p}')\n",
    "print(f'Degree of Freedom: {dof}')\n",
    "print(f'Expected Frequencies: {ex}')"
   ]
  },
  {
   "cell_type": "markdown",
   "metadata": {},
   "source": [
    "Perform Univariate Analysis for AGECategory to thirtydaymortality"
   ]
  },
  {
   "cell_type": "code",
   "execution_count": 43,
   "metadata": {},
   "outputs": [
    {
     "data": {
      "text/plain": [
       "thirtydaymortality\n",
       "False    69143\n",
       "True       524\n",
       "Name: count, dtype: int64"
      ]
     },
     "execution_count": 43,
     "metadata": {},
     "output_type": "execute_result"
    }
   ],
   "source": [
    "df['thirtydaymortality'].value_counts()"
   ]
  },
  {
   "cell_type": "code",
   "execution_count": 44,
   "metadata": {},
   "outputs": [
    {
     "name": "stdout",
     "output_type": "stream",
     "text": [
      "thirtydaymortality  False  True \n",
      "AGEcategory                     \n",
      "18-29                6977      6\n",
      "30-49               19376     43\n",
      "50-64               21971    139\n",
      "65-74               13013    126\n",
      "75-84                6579    145\n",
      ">=85                 1227     65 \n",
      "\n",
      "Chi2: 621.3406910405658\n",
      "p-value: 4.94870936061591e-132\n",
      "Degree of Freedom: 5\n",
      "Expected Frequencies: [[6.93047740e+03 5.25226004e+01]\n",
      " [1.92729401e+04 1.46059914e+02]\n",
      " [2.19436997e+04 1.66300257e+02]\n",
      " [1.30401751e+04 9.88249243e+01]\n",
      " [6.67342547e+03 5.05745331e+01]\n",
      " [1.28228223e+03 9.71777169e+00]]\n"
     ]
    }
   ],
   "source": [
    "# Build Contingency table 02\n",
    "conti_table02 = pd.crosstab(df['AGEcategory'], df['thirtydaymortality'])\n",
    "print(conti_table02,'\\n')\n",
    "# Perform chisquare\n",
    "chi2, p, dof, ex = scipy.stats.chi2_contingency(conti_table02)\n",
    "\n",
    "print(f'Chi2: {chi2}')\n",
    "print(f'p-value: {p}')\n",
    "print(f'Degree of Freedom: {dof}')\n",
    "print(f'Expected Frequencies: {ex}')"
   ]
  },
  {
   "cell_type": "markdown",
   "metadata": {},
   "source": [
    "# Am i going to one-by-one do for all? Can we do this better in a operationalize manner..."
   ]
  },
  {
   "cell_type": "code",
   "execution_count": 67,
   "metadata": {},
   "outputs": [],
   "source": [
    "outcome_lists = ['ICUAdmgt24h', 'thirtydaymortality', 'Mortality']\n",
    "\n",
    "def chi_square_test_for_all_outcomes(df, risk_factor_identified, outcome_lists):\n",
    "    for outcome in outcome_lists:\n",
    "        conti_table = pd.crosstab(df[risk_factor_identified], df[outcome])\n",
    "        chi2, p, dof, ex = scipy.stats.chi2_contingency(conti_table)\n",
    "        print(f'======={risk_factor_identified} for {outcome}=======')\n",
    "        print(f'Chi2: {chi2}')\n",
    "        print(f'p-value: {p}', 'Statisitcal Significant' if p < 0.05 else 'Not Significant')\n",
    "        print(f'Degree of Freedom: {dof}')\n",
    "        print(f'Expected Frequencies: {ex}')\n",
    "        print('\\n')"
   ]
  },
  {
   "cell_type": "code",
   "execution_count": 68,
   "metadata": {},
   "outputs": [
    {
     "name": "stdout",
     "output_type": "stream",
     "text": [
      "=======AGEcategory for ICUAdmgt24h=======\n",
      "Chi2: 355.7421570463822\n",
      "p-value: 1.0156666132806244e-74 Statisitcal Significant\n",
      "Degree of Freedom: 5\n",
      "Expected Frequencies: [[6.86582649e+03 1.17173511e+02]\n",
      " [1.90931526e+04 3.25847403e+02]\n",
      " [2.17389981e+04 3.71001909e+02]\n",
      " [1.29185299e+04 2.20470108e+02]\n",
      " [6.61117246e+03 1.12827537e+02]\n",
      " [1.27032047e+03 2.16795326e+01]]\n",
      "\n",
      "\n",
      "=======AGEcategory for thirtydaymortality=======\n",
      "Chi2: 621.3406910405658\n",
      "p-value: 4.94870936061591e-132 Statisitcal Significant\n",
      "Degree of Freedom: 5\n",
      "Expected Frequencies: [[6.93047740e+03 5.25226004e+01]\n",
      " [1.92729401e+04 1.46059914e+02]\n",
      " [2.19436997e+04 1.66300257e+02]\n",
      " [1.30401751e+04 9.88249243e+01]\n",
      " [6.67342547e+03 5.05745331e+01]\n",
      " [1.28228223e+03 9.71777169e+00]]\n",
      "\n",
      "\n",
      "=======AGEcategory for Mortality=======\n",
      "Chi2: 3338.422281464878\n",
      "p-value: 0.0 Statisitcal Significant\n",
      "Degree of Freedom: 5\n",
      "Expected Frequencies: [[ 6447.75059928   535.24940072]\n",
      " [17930.5268348   1488.4731652 ]\n",
      " [20415.26074038  1694.73925962]\n",
      " [12131.8910388   1007.1089612 ]\n",
      " [ 6208.60304018   515.39695982]\n",
      " [ 1192.96774657    99.03225343]]\n",
      "\n",
      "\n"
     ]
    }
   ],
   "source": [
    "chi_square_test_for_all_outcomes(df=df, risk_factor_identified= 'AGEcategory', outcome_lists=outcome_lists) "
   ]
  },
  {
   "cell_type": "code",
   "execution_count": 69,
   "metadata": {},
   "outputs": [
    {
     "name": "stdout",
     "output_type": "stream",
     "text": [
      "=======RCRI_score for ICUAdmgt24h=======\n",
      "Chi2: 972.2768229378177\n",
      "p-value: 8.852114921263676e-207 Statisitcal Significant\n",
      "Degree of Freedom: 6\n",
      "Expected Frequencies: [[5.40977573e+04 9.23242697e+02]\n",
      " [1.11762637e+04 1.90736260e+02]\n",
      " [2.32728216e+03 3.97178435e+01]\n",
      " [6.58757518e+02 1.12424821e+01]\n",
      " [2.02543356e+02 3.45664375e+00]\n",
      " [3.24462658e+01 5.53734193e-01]\n",
      " [2.94966053e+00 5.03394721e-02]]\n",
      "\n",
      "\n",
      "=======RCRI_score for thirtydaymortality=======\n",
      "Chi2: 735.8423312630983\n",
      "p-value: 1.1135464311263952e-155 Statisitcal Significant\n",
      "Degree of Freedom: 6\n",
      "Expected Frequencies: [[5.46071598e+04 4.13840183e+02]\n",
      " [1.12815032e+04 8.54968349e+01]\n",
      " [2.34919662e+03 1.78033789e+01]\n",
      " [6.64960598e+02 5.03940173e+00]\n",
      " [2.04450572e+02 1.54942799e+00]\n",
      " [3.27517907e+01 2.48209339e-01]\n",
      " [2.97743551e+00 2.25644853e-02]]\n",
      "\n",
      "\n",
      "=======RCRI_score for Mortality=======\n",
      "Chi2: 2301.3644056451362\n",
      "p-value: 0.0 Statisitcal Significant\n",
      "Degree of Freedom: 6\n",
      "Expected Frequencies: [[5.08036210e+04 4.21737896e+03]\n",
      " [1.04957155e+04 8.71284539e+02]\n",
      " [2.18556862e+03 1.81431381e+02]\n",
      " [6.18644265e+02 5.13557351e+01]\n",
      " [1.90210028e+02 1.57899723e+01]\n",
      " [3.04705384e+01 2.52946158e+00]\n",
      " [2.77004895e+00 2.29951053e-01]]\n",
      "\n",
      "\n"
     ]
    }
   ],
   "source": [
    "chi_square_test_for_all_outcomes(df=df, risk_factor_identified= 'RCRI_score', outcome_lists=outcome_lists) "
   ]
  },
  {
   "cell_type": "code",
   "execution_count": 71,
   "metadata": {},
   "outputs": [
    {
     "name": "stdout",
     "output_type": "stream",
     "text": [
      "=======GENDER for ICUAdmgt24h=======\n",
      "Chi2: 75.67269323993298\n",
      "p-value: 3.348058845829266e-18 Statisitcal Significant\n",
      "Degree of Freedom: 1\n",
      "Expected Frequencies: [[34510.04495672   588.95504328]\n",
      " [33987.95504328   580.04495672]]\n",
      "\n",
      "\n",
      "=======GENDER for thirtydaymortality=======\n",
      "Chi2: 12.614719744340402\n",
      "p-value: 0.00038272091539977786 Statisitcal Significant\n",
      "Degree of Freedom: 1\n",
      "Expected Frequencies: [[34835.00304305   263.99695695]\n",
      " [34307.99695695   260.00304305]]\n",
      "\n",
      "\n",
      "=======GENDER for Mortality=======\n",
      "Chi2: 87.20269819554039\n",
      "p-value: 9.7950080692153e-21 Statisitcal Significant\n",
      "Degree of Freedom: 1\n",
      "Expected Frequencies: [[32408.64933182  2690.35066818]\n",
      " [31918.35066818  2649.64933182]]\n",
      "\n",
      "\n"
     ]
    }
   ],
   "source": [
    "chi_square_test_for_all_outcomes(df=df, risk_factor_identified= 'GENDER', outcome_lists=outcome_lists) "
   ]
  },
  {
   "cell_type": "code",
   "execution_count": 72,
   "metadata": {},
   "outputs": [
    {
     "name": "stdout",
     "output_type": "stream",
     "text": [
      "=======SurgRiskCategory for ICUAdmgt24h=======\n",
      "Chi2: 2126.8362096827323\n",
      "p-value: 0.0 Statisitcal Significant\n",
      "Degree of Freedom: 2\n",
      "Expected Frequencies: [[ 3164.98574648    54.01425352]\n",
      " [34112.82400563   582.17599437]\n",
      " [31220.19024789   532.80975211]]\n",
      "\n",
      "\n",
      "=======SurgRiskCategory for thirtydaymortality=======\n",
      "Chi2: 215.84639028675448\n",
      "p-value: 1.34757169367986e-47 Statisitcal Significant\n",
      "Degree of Freedom: 2\n",
      "Expected Frequencies: [[3.19478831e+03 2.42116928e+01]\n",
      " [3.44340417e+04 2.60958273e+02]\n",
      " [3.15141700e+04 2.38830034e+02]]\n",
      "\n",
      "\n",
      "=======SurgRiskCategory for Mortality=======\n",
      "Chi2: 1354.0828546959629\n",
      "p-value: 9.218156624034719e-295 Statisitcal Significant\n",
      "Degree of Freedom: 2\n",
      "Expected Frequencies: [[ 2972.26252028   246.73747972]\n",
      " [32035.61607361  2659.38392639]\n",
      " [29319.12140612  2433.87859388]]\n",
      "\n",
      "\n"
     ]
    }
   ],
   "source": [
    "chi_square_test_for_all_outcomes(df=df, risk_factor_identified='SurgRiskCategory', outcome_lists=outcome_lists)"
   ]
  },
  {
   "cell_type": "code",
   "execution_count": 74,
   "metadata": {},
   "outputs": [
    {
     "name": "stdout",
     "output_type": "stream",
     "text": [
      "=======Anemia category for ICUAdmgt24h=======\n",
      "Chi2: 588.677248368308\n",
      "p-value: 1.4803339720113876e-128 Statisitcal Significant\n",
      "Degree of Freedom: 2\n",
      "Expected Frequencies: [[11395.52183961   194.47816039]\n",
      " [ 9793.85617294   167.14382706]\n",
      " [47308.62198745   807.37801255]]\n",
      "\n",
      "\n",
      "=======Anemia category for thirtydaymortality=======\n",
      "Chi2: 983.4355532618051\n",
      "p-value: 2.816326200473028e-214 Statisitcal Significant\n",
      "Degree of Freedom: 2\n",
      "Expected Frequencies: [[11502.82587165    87.17412835]\n",
      " [ 9886.07838718    74.92161282]\n",
      " [47754.09574117   361.90425883]]\n",
      "\n",
      "\n",
      "=======Anemia category for Mortality=======\n",
      "Chi2: 4752.48001382974\n",
      "p-value: 0.0 Statisitcal Significant\n",
      "Degree of Freedom: 2\n",
      "Expected Frequencies: [[10701.62243243   888.37756757]\n",
      " [ 9197.48585413   763.51414587]\n",
      " [44427.89171344  3688.10828656]]\n",
      "\n",
      "\n"
     ]
    }
   ],
   "source": [
    "chi_square_test_for_all_outcomes(df=df, risk_factor_identified='Anemia category', outcome_lists=outcome_lists)"
   ]
  },
  {
   "cell_type": "code",
   "execution_count": 73,
   "metadata": {},
   "outputs": [
    {
     "name": "stdout",
     "output_type": "stream",
     "text": [
      "=======RaceCategory for ICUAdmgt24h=======\n",
      "Chi2: 4.0100259487504575\n",
      "p-value: 0.2603835418212841 Not Significant\n",
      "Degree of Freedom: 3\n",
      "Expected Frequencies: [[47789.41665351   815.58334649]\n",
      " [ 6501.05180358   110.94819642]\n",
      " [ 7306.30912771   124.69087229]\n",
      " [ 6901.2224152    117.7775848 ]]\n",
      "\n",
      "\n",
      "=======RaceCategory for thirtydaymortality=======\n",
      "Chi2: 12.389430789207571\n",
      "p-value: 0.006161512310634597 Statisitcal Significant\n",
      "Degree of Freedom: 3\n",
      "Expected Frequencies: [[48239.41773006   365.58226994]\n",
      " [ 6562.26787432    49.73212568]\n",
      " [ 7375.10776982    55.89223018]\n",
      " [ 6966.20662581    52.79337419]]\n",
      "\n",
      "\n",
      "=======RaceCategory for Mortality=======\n",
      "Chi2: 396.19707389151836\n",
      "p-value: 1.475320109998201e-85 Statisitcal Significant\n",
      "Degree of Freedom: 3\n",
      "Expected Frequencies: [[44879.40969182  3725.59030818]\n",
      " [ 6105.18787948   506.81212052]\n",
      " [ 6861.41124205   569.58875795]\n",
      " [ 6480.99118665   538.00881335]]\n",
      "\n",
      "\n"
     ]
    }
   ],
   "source": [
    "# lets do for race in which i do not expect to be statistical significant\n",
    "chi_square_test_for_all_outcomes(df=df, risk_factor_identified='RaceCategory', outcome_lists=outcome_lists)"
   ]
  },
  {
   "cell_type": "code",
   "execution_count": 75,
   "metadata": {},
   "outputs": [
    {
     "name": "stdout",
     "output_type": "stream",
     "text": [
      "=======PriorityCategory for ICUAdmgt24h=======\n",
      "Chi2: 464.6711722323638\n",
      "p-value: 4.627799605502532e-103 Statisitcal Significant\n",
      "Degree of Freedom: 1\n",
      "Expected Frequencies: [[52907.07766948   902.92233052]\n",
      " [15590.92233052   266.07766948]]\n",
      "\n",
      "\n",
      "=======PriorityCategory for thirtydaymortality=======\n",
      "Chi2: 569.7306074134207\n",
      "p-value: 6.425646595827109e-126 Statisitcal Significant\n",
      "Degree of Freedom: 1\n",
      "Expected Frequencies: [[53405.268348   404.731652]\n",
      " [15737.731652   119.268348]]\n",
      "\n",
      "\n",
      "=======PriorityCategory for Mortality=======\n",
      "Chi2: 709.1796072414033\n",
      "p-value: 3.016870333647481e-156 Statisitcal Significant\n",
      "Degree of Freedom: 1\n",
      "Expected Frequencies: [[49685.4446151  4124.5553849]\n",
      " [14641.5553849  1215.4446151]]\n",
      "\n",
      "\n"
     ]
    }
   ],
   "source": [
    "chi_square_test_for_all_outcomes(df=df, risk_factor_identified='PriorityCategory', outcome_lists=outcome_lists)"
   ]
  },
  {
   "cell_type": "code",
   "execution_count": 76,
   "metadata": {},
   "outputs": [
    {
     "name": "stdout",
     "output_type": "stream",
     "text": [
      "=======GradeofKidneyCategory for ICUAdmgt24h=======\n",
      "Chi2: 764.4693698476417\n",
      "p-value: 2.1967095614770173e-165 Statisitcal Significant\n",
      "Degree of Freedom: 3\n",
      "Expected Frequencies: [[39884.32643863   680.67356137]\n",
      " [20453.92932091   349.07067909]\n",
      " [ 4963.29544835    84.70455165]\n",
      " [ 3196.44879211    54.55120789]]\n",
      "\n",
      "\n",
      "=======GradeofKidneyCategory for thirtydaymortality=======\n",
      "Chi2: 1151.3307273837886\n",
      "p-value: 2.658434446762911e-249 Statisitcal Significant\n",
      "Degree of Freedom: 3\n",
      "Expected Frequencies: [[4.02598906e+04 3.05109449e+02]\n",
      " [2.06465303e+04 1.56469663e+02]\n",
      " [5.01003149e+03 3.79685073e+01]\n",
      " [3.22654762e+03 2.44523806e+01]]\n",
      "\n",
      "\n",
      "=======GradeofKidneyCategory for Mortality=======\n",
      "Chi2: 4272.872819032678\n",
      "p-value: 0.0 Statisitcal Significant\n",
      "Degree of Freedom: 3\n",
      "Expected Frequencies: [[37455.6785135   3109.3214865 ]\n",
      " [19208.44274908  1594.55725092]\n",
      " [ 4661.06902838   386.93097162]\n",
      " [ 3001.80970904   249.19029096]]\n",
      "\n",
      "\n"
     ]
    }
   ],
   "source": [
    "chi_square_test_for_all_outcomes(df=df, risk_factor_identified='GradeofKidneyCategory', outcome_lists=outcome_lists)"
   ]
  },
  {
   "cell_type": "code",
   "execution_count": 77,
   "metadata": {},
   "outputs": [
    {
     "name": "stdout",
     "output_type": "stream",
     "text": [
      "=======ASAcategorybinned for ICUAdmgt24h=======\n",
      "Chi2: 3881.644377419353\n",
      "p-value: 0.0 Statisitcal Significant\n",
      "Degree of Freedom: 3\n",
      "Expected Frequencies: [[1.56037042e+04 2.66295807e+02]\n",
      " [3.86267878e+04 6.59212166e+02]\n",
      " [1.31948148e+04 2.25185238e+02]\n",
      " [1.07269321e+03 1.83067880e+01]]\n",
      "\n",
      "\n",
      "=======ASAcategorybinned for thirtydaymortality=======\n",
      "Chi2: 3043.9193051984507\n",
      "p-value: 0.0 Statisitcal Significant\n",
      "Degree of Freedom: 3\n",
      "Expected Frequencies: [[1.57506339e+04 1.19366127e+02]\n",
      " [3.89905105e+04 2.95489457e+02]\n",
      " [1.33190615e+04 1.00938464e+02]\n",
      " [1.08279405e+03 8.20595117e+00]]\n",
      "\n",
      "\n",
      "=======ASAcategorybinned for Mortality=======\n",
      "Chi2: 6220.945926622753\n",
      "p-value: 0.0 Statisitcal Significant\n",
      "Degree of Freedom: 3\n",
      "Expected Frequencies: [[14653.55893034  1216.44106966]\n",
      " [36274.71431237  3011.28568763]\n",
      " [12391.35229018  1028.64770982]\n",
      " [ 1007.37446711    83.62553289]]\n",
      "\n",
      "\n"
     ]
    }
   ],
   "source": [
    "chi_square_test_for_all_outcomes(df=df, risk_factor_identified='ASAcategorybinned', outcome_lists=outcome_lists)"
   ]
  },
  {
   "cell_type": "code",
   "execution_count": 78,
   "metadata": {},
   "outputs": [
    {
     "name": "stdout",
     "output_type": "stream",
     "text": [
      "=======RDW15.7 for ICUAdmgt24h=======\n",
      "Chi2: 188.81417999216563\n",
      "p-value: 5.76997713575394e-43 Statisitcal Significant\n",
      "Degree of Freedom: 1\n",
      "Expected Frequencies: [[60839.69804929  1038.30195071]\n",
      " [ 7658.30195071   130.69804929]]\n",
      "\n",
      "\n",
      "=======RDW15.7 for thirtydaymortality=======\n",
      "Chi2: 526.6287457173818\n",
      "p-value: 1.5289308794616506e-116 Statisitcal Significant\n",
      "Degree of Freedom: 1\n",
      "Expected Frequencies: [[6.14125849e+04 4.65415075e+02]\n",
      " [7.73041507e+03 5.85849254e+01]]\n",
      "\n",
      "\n",
      "=======RDW15.7 for Mortality=======\n",
      "Chi2: 1670.7733299187246\n",
      "p-value: 0.0 Statisitcal Significant\n",
      "Degree of Freedom: 1\n",
      "Expected Frequencies: [[57135.02958359  4742.97041641]\n",
      " [ 7191.97041641   597.02958359]]\n",
      "\n",
      "\n"
     ]
    }
   ],
   "source": [
    "chi_square_test_for_all_outcomes(df=df, risk_factor_identified='RDW15.7', outcome_lists=outcome_lists)"
   ]
  },
  {
   "cell_type": "code",
   "execution_count": 79,
   "metadata": {},
   "outputs": [
    {
     "name": "stdout",
     "output_type": "stream",
     "text": [
      "=======IHDRCRICategory for ICUAdmgt24h=======\n",
      "Chi2: 207.52880085624955\n",
      "p-value: 4.75363995132204e-47 Statisitcal Significant\n",
      "Degree of Freedom: 1\n",
      "Expected Frequencies: [[64474.66303989  1100.33696011]\n",
      " [ 4023.33696011    68.66303989]]\n",
      "\n",
      "\n",
      "=======IHDRCRICategory for thirtydaymortality=======\n",
      "Chi2: 305.5001181626003\n",
      "p-value: 2.0869712445835437e-68 Statisitcal Significant\n",
      "Degree of Freedom: 1\n",
      "Expected Frequencies: [[6.50817780e+04 4.93222042e+02]\n",
      " [4.06122204e+03 3.07779580e+01]]\n",
      "\n",
      "\n",
      "=======IHDRCRICategory for Mortality=======\n",
      "Chi2: 779.0869562119626\n",
      "p-value: 1.901115178376054e-171 Statisitcal Significant\n",
      "Degree of Freedom: 1\n",
      "Expected Frequencies: [[60548.65323611  5026.34676389]\n",
      " [ 3778.34676389   313.65323611]]\n",
      "\n",
      "\n"
     ]
    }
   ],
   "source": [
    "chi_square_test_for_all_outcomes(df=df, risk_factor_identified='IHDRCRICategory', outcome_lists=outcome_lists)"
   ]
  },
  {
   "cell_type": "code",
   "execution_count": 80,
   "metadata": {},
   "outputs": [
    {
     "name": "stdout",
     "output_type": "stream",
     "text": [
      "=======CVARCRICategory for ICUAdmgt24h=======\n",
      "Chi2: 35.654586370018805\n",
      "p-value: 2.355925700016726e-09 Statisitcal Significant\n",
      "Degree of Freedom: 1\n",
      "Expected Frequencies: [[6.70251362e+04 1.14386382e+03]\n",
      " [1.47286382e+03 2.51361764e+01]]\n",
      "\n",
      "\n",
      "=======CVARCRICategory for thirtydaymortality=======\n",
      "Chi2: 83.53333814473179\n",
      "p-value: 6.265046528343105e-20 Statisitcal Significant\n",
      "Degree of Freedom: 1\n",
      "Expected Frequencies: [[6.76562672e+04 5.12732800e+02]\n",
      " [1.48673280e+03 1.12671997e+01]]\n",
      "\n",
      "\n",
      "=======CVARCRICategory for Mortality=======\n",
      "Chi2: 321.6765925835274\n",
      "p-value: 6.247496362741055e-72 Statisitcal Significant\n",
      "Degree of Freedom: 1\n",
      "Expected Frequencies: [[62943.82222573  5225.17777427]\n",
      " [ 1383.17777427   114.82222573]]\n",
      "\n",
      "\n"
     ]
    }
   ],
   "source": [
    "chi_square_test_for_all_outcomes(df=df, risk_factor_identified='CVARCRICategory', outcome_lists=outcome_lists)"
   ]
  },
  {
   "cell_type": "code",
   "execution_count": 81,
   "metadata": {},
   "outputs": [
    {
     "name": "stdout",
     "output_type": "stream",
     "text": [
      "=======AnaestypeCategory for ICUAdmgt24h=======\n",
      "Chi2: 115.21564853140003\n",
      "p-value: 7.058838055594819e-27 Statisitcal Significant\n",
      "Degree of Freedom: 1\n",
      "Expected Frequencies: [[57384.6623509   979.3376491]\n",
      " [11113.3376491   189.6623509]]\n",
      "\n",
      "\n",
      "=======AnaestypeCategory for thirtydaymortality=======\n",
      "Chi2: 0.7924892131058686\n",
      "p-value: 0.3733485018891709 Not Significant\n",
      "Degree of Freedom: 1\n",
      "Expected Frequencies: [[57925.01545926   438.98454074]\n",
      " [11217.98454074    85.01545926]]\n",
      "\n",
      "\n",
      "=======AnaestypeCategory for Mortality=======\n",
      "Chi2: 170.5895799900371\n",
      "p-value: 5.5004422705253526e-39 Statisitcal Significant\n",
      "Degree of Freedom: 1\n",
      "Expected Frequencies: [[53890.37891685  4473.62108315]\n",
      " [10436.62108315   866.37891685]]\n",
      "\n",
      "\n"
     ]
    }
   ],
   "source": [
    "chi_square_test_for_all_outcomes(df=df, risk_factor_identified='AnaestypeCategory', outcome_lists=outcome_lists)"
   ]
  },
  {
   "cell_type": "code",
   "execution_count": 82,
   "metadata": {},
   "outputs": [
    {
     "name": "stdout",
     "output_type": "stream",
     "text": [
      "=======TransfusionIntraandpostopCategory for ICUAdmgt24h=======\n",
      "Chi2: 2317.174173226892\n",
      "p-value: 0.0 Statisitcal Significant\n",
      "Degree of Freedom: 2\n",
      "Expected Frequencies: [[6.38631001e+04 1.08989991e+03]\n",
      " [3.73033735e+03 6.36626523e+01]\n",
      " [9.04562562e+02 1.54374381e+01]]\n",
      "\n",
      "\n",
      "=======TransfusionIntraandpostopCategory for thirtydaymortality=======\n",
      "Chi2: 1182.1257744712493\n",
      "p-value: 2.0167386235657975e-257 Statisitcal Significant\n",
      "Degree of Freedom: 2\n",
      "Expected Frequencies: [[6.44644563e+04 4.88543672e+02]\n",
      " [3.76546345e+03 2.85365525e+01]\n",
      " [9.13080224e+02 6.91977550e+00]]\n",
      "\n",
      "\n",
      "=======TransfusionIntraandpostopCategory for Mortality=======\n",
      "Chi2: 2455.578452091934\n",
      "p-value: 0.0 Statisitcal Significant\n",
      "Degree of Freedom: 2\n",
      "Expected Frequencies: [[59974.3297544   4978.6702456 ]\n",
      " [ 3503.18856848   290.81143152]\n",
      " [  849.48167712    70.51832288]]\n",
      "\n",
      "\n"
     ]
    }
   ],
   "source": [
    "chi_square_test_for_all_outcomes(df=df, risk_factor_identified='TransfusionIntraandpostopCategory', outcome_lists=outcome_lists)"
   ]
  },
  {
   "cell_type": "code",
   "execution_count": 83,
   "metadata": {},
   "outputs": [
    {
     "name": "stdout",
     "output_type": "stream",
     "text": [
      "=======CHFRCRICategory for ICUAdmgt24h=======\n",
      "Chi2: 164.03353827768277\n",
      "p-value: 1.4874249664414105e-37 Statisitcal Significant\n",
      "Degree of Freedom: 1\n",
      "Expected Frequencies: [[6.77369876e+04 1.15601242e+03]\n",
      " [7.61012416e+02 1.29875838e+01]]\n",
      "\n",
      "\n",
      "=======CHFRCRICategory for thirtydaymortality=======\n",
      "Chi2: 143.94430036669388\n",
      "p-value: 3.6540016335549025e-33 Statisitcal Significant\n",
      "Degree of Freedom: 1\n",
      "Expected Frequencies: [[6.83748216e+04 5.18178363e+02]\n",
      " [7.68178363e+02 5.82163722e+00]]\n",
      "\n",
      "\n",
      "=======CHFRCRICategory for Mortality=======\n",
      "Chi2: 592.6169170675167\n",
      "p-value: 6.756079958909795e-131 Statisitcal Significant\n",
      "Degree of Freedom: 1\n",
      "Expected Frequencies: [[6.36123274e+04 5.28067263e+03]\n",
      " [7.14672628e+02 5.93273716e+01]]\n",
      "\n",
      "\n"
     ]
    }
   ],
   "source": [
    "chi_square_test_for_all_outcomes(df=df, risk_factor_identified='CHFRCRICategory', outcome_lists=outcome_lists)"
   ]
  },
  {
   "cell_type": "code",
   "execution_count": 84,
   "metadata": {},
   "outputs": [
    {
     "name": "stdout",
     "output_type": "stream",
     "text": [
      "=======DMinsulinRCRICategory for ICUAdmgt24h=======\n",
      "Chi2: 17.563852640359364\n",
      "p-value: 2.778194498974527e-05 Statisitcal Significant\n",
      "Degree of Freedom: 1\n",
      "Expected Frequencies: [[6.66092340e+04 1.13676596e+03]\n",
      " [1.88876596e+03 3.22340419e+01]]\n",
      "\n",
      "\n",
      "=======DMinsulinRCRICategory for thirtydaymortality=======\n",
      "Chi2: 41.48246771776999\n",
      "p-value: 1.1893278186161898e-10 Statisitcal Significant\n",
      "Degree of Freedom: 1\n",
      "Expected Frequencies: [[6.72364488e+04 5.09551208e+02]\n",
      " [1.90655121e+03 1.44487921e+01]]\n",
      "\n",
      "\n",
      "=======DMinsulinRCRICategory for Mortality=======\n",
      "Chi2: 370.27182406534206\n",
      "p-value: 1.633088194464354e-82 Statisitcal Significant\n",
      "Degree of Freedom: 1\n",
      "Expected Frequencies: [[62553.24532419  5192.75467581]\n",
      " [ 1773.75467581   147.24532419]]\n",
      "\n",
      "\n"
     ]
    }
   ],
   "source": [
    "chi_square_test_for_all_outcomes(df=df, risk_factor_identified='DMinsulinRCRICategory', outcome_lists=outcome_lists)"
   ]
  },
  {
   "cell_type": "code",
   "execution_count": 86,
   "metadata": {},
   "outputs": [
    {
     "name": "stdout",
     "output_type": "stream",
     "text": [
      "=======CreatinineRCRICategory for ICUAdmgt24h=======\n",
      "Chi2: 224.88972688766435\n",
      "p-value: 7.759994401604294e-51 Statisitcal Significant\n",
      "Degree of Freedom: 1\n",
      "Expected Frequencies: [[6.62621573e+04 1.13084268e+03]\n",
      " [2.23584268e+03 3.81573198e+01]]\n",
      "\n",
      "\n",
      "=======CreatinineRCRICategory for thirtydaymortality=======\n",
      "Chi2: 542.6313246379763\n",
      "p-value: 5.046565765166787e-120 Statisitcal Significant\n",
      "Degree of Freedom: 1\n",
      "Expected Frequencies: [[6.68861039e+04 5.06896120e+02]\n",
      " [2.25689612e+03 1.71038799e+01]]\n",
      "\n",
      "\n",
      "=======CreatinineRCRICategory for Mortality=======\n",
      "Chi2: 1652.3233879996642\n",
      "p-value: 0.0 Statisitcal Significant\n",
      "Degree of Freedom: 1\n",
      "Expected Frequencies: [[62227.30289807  5165.69710193]\n",
      " [ 2099.69710193   174.30289807]]\n",
      "\n",
      "\n"
     ]
    }
   ],
   "source": [
    "chi_square_test_for_all_outcomes(df=df, risk_factor_identified='CreatinineRCRICategory', outcome_lists=outcome_lists)"
   ]
  },
  {
   "cell_type": "code",
   "execution_count": null,
   "metadata": {},
   "outputs": [],
   "source": []
  }
 ],
 "metadata": {
  "kernelspec": {
   "display_name": "smumitb",
   "language": "python",
   "name": "python3"
  },
  "language_info": {
   "codemirror_mode": {
    "name": "ipython",
    "version": 3
   },
   "file_extension": ".py",
   "mimetype": "text/x-python",
   "name": "python",
   "nbconvert_exporter": "python",
   "pygments_lexer": "ipython3",
   "version": "3.11.4"
  }
 },
 "nbformat": 4,
 "nbformat_minor": 2
}
