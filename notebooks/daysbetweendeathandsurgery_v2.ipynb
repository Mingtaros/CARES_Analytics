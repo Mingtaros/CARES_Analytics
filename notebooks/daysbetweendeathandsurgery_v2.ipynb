{
 "cells": [
  {
   "cell_type": "code",
   "execution_count": 88,
   "metadata": {},
   "outputs": [],
   "source": [
    "import numpy as np\n",
    "import pandas as pd\n",
    "import scipy.stats as stats\n",
    "import matplotlib.pyplot as plt\n",
    "\n",
    "from tqdm.notebook import tqdm\n",
    "tqdm.pandas()\n"
   ]
  },
  {
   "cell_type": "code",
   "execution_count": 89,
   "metadata": {},
   "outputs": [
    {
     "data": {
      "text/plain": [
       "AGE                                    int64\n",
       "GENDER                                object\n",
       "RCRI score                           float64\n",
       "Anemia category                       object\n",
       "PreopEGFRMDRD                        float64\n",
       "GradeofKidneydisease                  object\n",
       "DaysbetweenDeathandoperation         float64\n",
       "@30daymortality                       object\n",
       "Preoptransfusionwithin30days           int64\n",
       "Intraop                                int64\n",
       "Postopwithin30days                     int64\n",
       "Transfusionintraandpostop              int64\n",
       "AnaestypeCategory                     object\n",
       "PriorityCategory                      object\n",
       "TransfusionIntraandpostopCategory     object\n",
       "AGEcategory                           object\n",
       "AGEcategoryOriginal                   object\n",
       "Mortality                             object\n",
       "thirtydaymortality                    object\n",
       "SurgRiskCategory                      object\n",
       "RaceCategory                          object\n",
       "CVARCRICategory                       object\n",
       "IHDRCRICategory                       object\n",
       "CHFRCRICategory                       object\n",
       "DMinsulinRCRICategory                 object\n",
       "CreatinineRCRICategory                object\n",
       "GradeofKidneyCategory                 object\n",
       "Anemiacategorybinned                  object\n",
       "RDW15.7                               object\n",
       "ASAcategorybinned                     object\n",
       "ICUAdmgt24h                           object\n",
       "dtype: object"
      ]
     },
     "execution_count": 89,
     "metadata": {},
     "output_type": "execute_result"
    }
   ],
   "source": [
    "cares_data_path = \"../data/CARES_continuous.csv\"\n",
    "data = pd.read_csv(cares_data_path)\n",
    "data.dtypes"
   ]
  },
  {
   "cell_type": "code",
   "execution_count": 90,
   "metadata": {},
   "outputs": [],
   "source": [
    "#separating only the cont variables and DaysbetweenDeathandoperation\n",
    "df = data[['Preoptransfusionwithin30days','Intraop','Postopwithin30days','Transfusionintraandpostop','DaysbetweenDeathandoperation','PreopEGFRMDRD','RCRI score','AGE']]"
   ]
  },
  {
   "cell_type": "code",
   "execution_count": 91,
   "metadata": {},
   "outputs": [
    {
     "data": {
      "text/plain": [
       "Preoptransfusionwithin30days      int64\n",
       "Intraop                           int64\n",
       "Postopwithin30days                int64\n",
       "Transfusionintraandpostop         int64\n",
       "DaysbetweenDeathandoperation    float64\n",
       "PreopEGFRMDRD                   float64\n",
       "RCRI score                      float64\n",
       "AGE                               int64\n",
       "dtype: object"
      ]
     },
     "execution_count": 91,
     "metadata": {},
     "output_type": "execute_result"
    }
   ],
   "source": [
    "df.dtypes"
   ]
  },
  {
   "cell_type": "code",
   "execution_count": 92,
   "metadata": {},
   "outputs": [
    {
     "data": {
      "text/plain": [
       "(5591, 8)"
      ]
     },
     "execution_count": 92,
     "metadata": {},
     "output_type": "execute_result"
    }
   ],
   "source": [
    "#considering only non-empty DaysbetweenDeathandoperation as people who died\n",
    "df_dead = df[df['DaysbetweenDeathandoperation'].notna()]\n",
    "df_dead.shape"
   ]
  },
  {
   "cell_type": "code",
   "execution_count": 93,
   "metadata": {},
   "outputs": [
    {
     "data": {
      "text/plain": [
       "Preoptransfusionwithin30days       0\n",
       "Intraop                            0\n",
       "Postopwithin30days                 0\n",
       "Transfusionintraandpostop          0\n",
       "DaysbetweenDeathandoperation       0\n",
       "PreopEGFRMDRD                    220\n",
       "RCRI score                      2036\n",
       "AGE                                0\n",
       "dtype: int64"
      ]
     },
     "execution_count": 93,
     "metadata": {},
     "output_type": "execute_result"
    }
   ],
   "source": [
    "#checking empty values in 5591 rows\n",
    "df_dead.isna().sum()"
   ]
  },
  {
   "cell_type": "markdown",
   "metadata": {},
   "source": [
    "##### Plotting PreopEGFRMDRD with empty records"
   ]
  },
  {
   "cell_type": "code",
   "execution_count": 94,
   "metadata": {},
   "outputs": [
    {
     "data": {
      "image/png": "[encoded data removed]",
      "text/plain": [
       "<Figure size 640x480 with 1 Axes>"
      ]
     },
     "metadata": {},
     "output_type": "display_data"
    }
   ],
   "source": [
    "import seaborn as sns\n",
    "import matplotlib.pyplot as plt\n",
    "\n",
    "# Create the boxplot\n",
    "sns.boxplot(x=df_dead['PreopEGFRMDRD'])\n",
    "\n",
    "# Add a title and labels\n",
    "plt.title('Boxplot of PreopEGFRMDRD')\n",
    "plt.xlabel('PreopEGFRMDRD')\n",
    "\n",
    "# Display the plot\n",
    "plt.show()\n"
   ]
  },
  {
   "cell_type": "code",
   "execution_count": 95,
   "metadata": {},
   "outputs": [
    {
     "data": {
      "text/plain": [
       "count    5371.000000\n",
       "mean       78.572905\n",
       "std        52.254774\n",
       "min         2.541026\n",
       "25%        39.364003\n",
       "50%        76.898013\n",
       "75%       107.464507\n",
       "max       588.466578\n",
       "Name: PreopEGFRMDRD, dtype: float64"
      ]
     },
     "execution_count": 95,
     "metadata": {},
     "output_type": "execute_result"
    }
   ],
   "source": [
    "df_dead['PreopEGFRMDRD'].describe()"
   ]
  },
  {
   "cell_type": "code",
   "execution_count": 96,
   "metadata": {},
   "outputs": [
    {
     "data": {
      "text/plain": [
       "(95, 8)"
      ]
     },
     "execution_count": 96,
     "metadata": {},
     "output_type": "execute_result"
    }
   ],
   "source": [
    "dfd = df_dead[(df_dead['PreopEGFRMDRD'] > 209) & (df_dead['PreopEGFRMDRD'] < 588.466578)]\n",
    "#209 is 1.5 IQR\n",
    "dfd.shape"
   ]
  },
  {
   "cell_type": "markdown",
   "metadata": {},
   "source": [
    "PreopEGFRMDRD median"
   ]
  },
  {
   "cell_type": "code",
   "execution_count": 97,
   "metadata": {},
   "outputs": [
    {
     "name": "stdout",
     "output_type": "stream",
     "text": [
      "76.8980126286732\n"
     ]
    }
   ],
   "source": [
    "median = df_dead['PreopEGFRMDRD'].median()\n",
    "print(median)"
   ]
  },
  {
   "cell_type": "markdown",
   "metadata": {},
   "source": [
    "##### Plotting RCRI with empty records"
   ]
  },
  {
   "cell_type": "code",
   "execution_count": 98,
   "metadata": {},
   "outputs": [
    {
     "data": {
      "image/png": "[encoded data removed]",
      "text/plain": [
       "<Figure size 640x480 with 1 Axes>"
      ]
     },
     "metadata": {},
     "output_type": "display_data"
    }
   ],
   "source": [
    "import seaborn as sns\n",
    "import matplotlib.pyplot as plt\n",
    "\n",
    "# Create the boxplot\n",
    "sns.boxplot(x=df_dead['RCRI score'])\n",
    "\n",
    "# Add a title and labels\n",
    "plt.title('Boxplot of RCRI score')\n",
    "plt.xlabel('RCRI score')\n",
    "\n",
    "# Display the plot\n",
    "plt.show()\n"
   ]
  },
  {
   "cell_type": "code",
   "execution_count": 99,
   "metadata": {},
   "outputs": [
    {
     "data": {
      "text/plain": [
       "count    3555.000000\n",
       "mean        0.992686\n",
       "std         1.024161\n",
       "min         0.000000\n",
       "25%         0.000000\n",
       "50%         1.000000\n",
       "75%         1.000000\n",
       "max         5.000000\n",
       "Name: RCRI score, dtype: float64"
      ]
     },
     "execution_count": 99,
     "metadata": {},
     "output_type": "execute_result"
    }
   ],
   "source": [
    "df_dead['RCRI score'].describe()"
   ]
  },
  {
   "cell_type": "code",
   "execution_count": 100,
   "metadata": {},
   "outputs": [
    {
     "data": {
      "text/plain": [
       "RCRI score\n",
       "1.0    1384\n",
       "0.0    1315\n",
       "2.0     532\n",
       "3.0     235\n",
       "4.0      69\n",
       "5.0      20\n",
       "Name: count, dtype: int64"
      ]
     },
     "execution_count": 100,
     "metadata": {},
     "output_type": "execute_result"
    }
   ],
   "source": [
    "df_dead['RCRI score'].value_counts()"
   ]
  },
  {
   "cell_type": "markdown",
   "metadata": {},
   "source": [
    "RCRI median"
   ]
  },
  {
   "cell_type": "code",
   "execution_count": 101,
   "metadata": {},
   "outputs": [
    {
     "name": "stdout",
     "output_type": "stream",
     "text": [
      "1.0\n"
     ]
    }
   ],
   "source": [
    "median_rcri = df_dead['RCRI score'].median()\n",
    "print(median_rcri)"
   ]
  },
  {
   "cell_type": "markdown",
   "metadata": {},
   "source": [
    "### Imputing with Median for both RCRI score and PreopEGFRMDRD"
   ]
  },
  {
   "cell_type": "code",
   "execution_count": 102,
   "metadata": {},
   "outputs": [
    {
     "name": "stderr",
     "output_type": "stream",
     "text": [
      "C:\\Users\\glsam\\AppData\\Local\\Temp\\ipykernel_21020\\1229134905.py:3: FutureWarning: A value is trying to be set on a copy of a DataFrame or Series through chained assignment using an inplace method.\n",
      "The behavior will change in pandas 3.0. This inplace method will never work because the intermediate object on which we are setting values always behaves as a copy.\n",
      "\n",
      "For example, when doing 'df[col].method(value, inplace=True)', try using 'df.method({col: value}, inplace=True)' or df[col] = df[col].method(value) instead, to perform the operation inplace on the original object.\n",
      "\n",
      "\n",
      "  df_dead_imputed['PreopEGFRMDRD'].fillna(76.8980126286732, inplace=True)\n",
      "C:\\Users\\glsam\\AppData\\Local\\Temp\\ipykernel_21020\\1229134905.py:4: FutureWarning: A value is trying to be set on a copy of a DataFrame or Series through chained assignment using an inplace method.\n",
      "The behavior will change in pandas 3.0. This inplace method will never work because the intermediate object on which we are setting values always behaves as a copy.\n",
      "\n",
      "For example, when doing 'df[col].method(value, inplace=True)', try using 'df.method({col: value}, inplace=True)' or df[col] = df[col].method(value) instead, to perform the operation inplace on the original object.\n",
      "\n",
      "\n",
      "  df_dead_imputed['RCRI score'].fillna(1.0, inplace=True)\n"
     ]
    }
   ],
   "source": [
    "#median = 76.8980126286732\n",
    "df_dead_imputed = df_dead.copy()\n",
    "df_dead_imputed['PreopEGFRMDRD'].fillna(76.8980126286732, inplace=True)\n",
    "df_dead_imputed['RCRI score'].fillna(1.0, inplace=True)"
   ]
  },
  {
   "cell_type": "code",
   "execution_count": 103,
   "metadata": {},
   "outputs": [
    {
     "data": {
      "text/plain": [
       "count    5591.000000\n",
       "mean       78.507000\n",
       "std        51.217219\n",
       "min         2.541026\n",
       "25%        41.366861\n",
       "50%        76.898013\n",
       "75%       105.795592\n",
       "max       588.466578\n",
       "Name: PreopEGFRMDRD, dtype: float64"
      ]
     },
     "execution_count": 103,
     "metadata": {},
     "output_type": "execute_result"
    }
   ],
   "source": [
    "df_dead_imputed['PreopEGFRMDRD'].describe()"
   ]
  },
  {
   "cell_type": "code",
   "execution_count": 104,
   "metadata": {},
   "outputs": [
    {
     "data": {
      "text/plain": [
       "PreopEGFRMDRD\n",
       "76.898013     222\n",
       "112.382587      6\n",
       "103.500168      5\n",
       "96.448454       5\n",
       "136.727095      4\n",
       "             ... \n",
       "7.300964        1\n",
       "45.812942       1\n",
       "62.628424       1\n",
       "38.621983       1\n",
       "108.123708      1\n",
       "Name: count, Length: 4444, dtype: int64"
      ]
     },
     "execution_count": 104,
     "metadata": {},
     "output_type": "execute_result"
    }
   ],
   "source": [
    "df_dead_imputed['PreopEGFRMDRD'].value_counts()"
   ]
  },
  {
   "cell_type": "code",
   "execution_count": 105,
   "metadata": {},
   "outputs": [
    {
     "data": {
      "text/plain": [
       "count    5591.000000\n",
       "mean        0.995350\n",
       "std         0.816629\n",
       "min         0.000000\n",
       "25%         1.000000\n",
       "50%         1.000000\n",
       "75%         1.000000\n",
       "max         5.000000\n",
       "Name: RCRI score, dtype: float64"
      ]
     },
     "execution_count": 105,
     "metadata": {},
     "output_type": "execute_result"
    }
   ],
   "source": [
    "df_dead_imputed['RCRI score'].describe()"
   ]
  },
  {
   "cell_type": "code",
   "execution_count": 106,
   "metadata": {},
   "outputs": [
    {
     "data": {
      "text/html": [
       "<div>\n",
       "<style scoped>\n",
       "    .dataframe tbody tr th:only-of-type {\n",
       "        vertical-align: middle;\n",
       "    }\n",
       "\n",
       "    .dataframe tbody tr th {\n",
       "        vertical-align: top;\n",
       "    }\n",
       "\n",
       "    .dataframe thead th {\n",
       "        text-align: right;\n",
       "    }\n",
       "</style>\n",
       "<table border=\"1\" class=\"dataframe\">\n",
       "  <thead>\n",
       "    <tr style=\"text-align: right;\">\n",
       "      <th></th>\n",
       "      <th>Preoptransfusionwithin30days</th>\n",
       "      <th>Intraop</th>\n",
       "      <th>Postopwithin30days</th>\n",
       "      <th>Transfusionintraandpostop</th>\n",
       "      <th>DaysbetweenDeathandoperation</th>\n",
       "      <th>PreopEGFRMDRD</th>\n",
       "      <th>RCRI score</th>\n",
       "      <th>AGE</th>\n",
       "    </tr>\n",
       "  </thead>\n",
       "  <tbody>\n",
       "    <tr>\n",
       "      <th>103</th>\n",
       "      <td>0</td>\n",
       "      <td>0</td>\n",
       "      <td>0</td>\n",
       "      <td>0</td>\n",
       "      <td>793.0</td>\n",
       "      <td>102.832998</td>\n",
       "      <td>NaN</td>\n",
       "      <td>87</td>\n",
       "    </tr>\n",
       "    <tr>\n",
       "      <th>107</th>\n",
       "      <td>0</td>\n",
       "      <td>0</td>\n",
       "      <td>0</td>\n",
       "      <td>0</td>\n",
       "      <td>17.0</td>\n",
       "      <td>99.129633</td>\n",
       "      <td>NaN</td>\n",
       "      <td>61</td>\n",
       "    </tr>\n",
       "    <tr>\n",
       "      <th>108</th>\n",
       "      <td>0</td>\n",
       "      <td>0</td>\n",
       "      <td>0</td>\n",
       "      <td>0</td>\n",
       "      <td>433.0</td>\n",
       "      <td>107.520574</td>\n",
       "      <td>0.0</td>\n",
       "      <td>78</td>\n",
       "    </tr>\n",
       "    <tr>\n",
       "      <th>109</th>\n",
       "      <td>0</td>\n",
       "      <td>0</td>\n",
       "      <td>0</td>\n",
       "      <td>0</td>\n",
       "      <td>1032.0</td>\n",
       "      <td>104.801171</td>\n",
       "      <td>1.0</td>\n",
       "      <td>75</td>\n",
       "    </tr>\n",
       "    <tr>\n",
       "      <th>230</th>\n",
       "      <td>0</td>\n",
       "      <td>0</td>\n",
       "      <td>0</td>\n",
       "      <td>0</td>\n",
       "      <td>155.0</td>\n",
       "      <td>129.079606</td>\n",
       "      <td>1.0</td>\n",
       "      <td>57</td>\n",
       "    </tr>\n",
       "    <tr>\n",
       "      <th>...</th>\n",
       "      <td>...</td>\n",
       "      <td>...</td>\n",
       "      <td>...</td>\n",
       "      <td>...</td>\n",
       "      <td>...</td>\n",
       "      <td>...</td>\n",
       "      <td>...</td>\n",
       "      <td>...</td>\n",
       "    </tr>\n",
       "    <tr>\n",
       "      <th>78676</th>\n",
       "      <td>3</td>\n",
       "      <td>1</td>\n",
       "      <td>0</td>\n",
       "      <td>1</td>\n",
       "      <td>12.0</td>\n",
       "      <td>103.331556</td>\n",
       "      <td>NaN</td>\n",
       "      <td>74</td>\n",
       "    </tr>\n",
       "    <tr>\n",
       "      <th>78753</th>\n",
       "      <td>0</td>\n",
       "      <td>0</td>\n",
       "      <td>0</td>\n",
       "      <td>0</td>\n",
       "      <td>18.0</td>\n",
       "      <td>109.175965</td>\n",
       "      <td>NaN</td>\n",
       "      <td>52</td>\n",
       "    </tr>\n",
       "    <tr>\n",
       "      <th>78788</th>\n",
       "      <td>0</td>\n",
       "      <td>0</td>\n",
       "      <td>0</td>\n",
       "      <td>0</td>\n",
       "      <td>230.0</td>\n",
       "      <td>128.321706</td>\n",
       "      <td>NaN</td>\n",
       "      <td>62</td>\n",
       "    </tr>\n",
       "    <tr>\n",
       "      <th>78791</th>\n",
       "      <td>3</td>\n",
       "      <td>1</td>\n",
       "      <td>0</td>\n",
       "      <td>1</td>\n",
       "      <td>15.0</td>\n",
       "      <td>269.023482</td>\n",
       "      <td>NaN</td>\n",
       "      <td>49</td>\n",
       "    </tr>\n",
       "    <tr>\n",
       "      <th>78834</th>\n",
       "      <td>0</td>\n",
       "      <td>0</td>\n",
       "      <td>0</td>\n",
       "      <td>0</td>\n",
       "      <td>143.0</td>\n",
       "      <td>108.123708</td>\n",
       "      <td>0.0</td>\n",
       "      <td>25</td>\n",
       "    </tr>\n",
       "  </tbody>\n",
       "</table>\n",
       "<p>1669 rows × 8 columns</p>\n",
       "</div>"
      ],
      "text/plain": [
       "       Preoptransfusionwithin30days  Intraop  Postopwithin30days  \\\n",
       "103                               0        0                   0   \n",
       "107                               0        0                   0   \n",
       "108                               0        0                   0   \n",
       "109                               0        0                   0   \n",
       "230                               0        0                   0   \n",
       "...                             ...      ...                 ...   \n",
       "78676                             3        1                   0   \n",
       "78753                             0        0                   0   \n",
       "78788                             0        0                   0   \n",
       "78791                             3        1                   0   \n",
       "78834                             0        0                   0   \n",
       "\n",
       "       Transfusionintraandpostop  DaysbetweenDeathandoperation  PreopEGFRMDRD  \\\n",
       "103                            0                         793.0     102.832998   \n",
       "107                            0                          17.0      99.129633   \n",
       "108                            0                         433.0     107.520574   \n",
       "109                            0                        1032.0     104.801171   \n",
       "230                            0                         155.0     129.079606   \n",
       "...                          ...                           ...            ...   \n",
       "78676                          1                          12.0     103.331556   \n",
       "78753                          0                          18.0     109.175965   \n",
       "78788                          0                         230.0     128.321706   \n",
       "78791                          1                          15.0     269.023482   \n",
       "78834                          0                         143.0     108.123708   \n",
       "\n",
       "       RCRI score  AGE  \n",
       "103           NaN   87  \n",
       "107           NaN   61  \n",
       "108           0.0   78  \n",
       "109           1.0   75  \n",
       "230           1.0   57  \n",
       "...           ...  ...  \n",
       "78676         NaN   74  \n",
       "78753         NaN   52  \n",
       "78788         NaN   62  \n",
       "78791         NaN   49  \n",
       "78834         0.0   25  \n",
       "\n",
       "[1669 rows x 8 columns]"
      ]
     },
     "execution_count": 106,
     "metadata": {},
     "output_type": "execute_result"
    }
   ],
   "source": [
    "df_dead[df_dead['PreopEGFRMDRD']>98.688]"
   ]
  },
  {
   "cell_type": "code",
   "execution_count": 107,
   "metadata": {},
   "outputs": [
    {
     "data": {
      "text/html": [
       "<div>\n",
       "<style scoped>\n",
       "    .dataframe tbody tr th:only-of-type {\n",
       "        vertical-align: middle;\n",
       "    }\n",
       "\n",
       "    .dataframe tbody tr th {\n",
       "        vertical-align: top;\n",
       "    }\n",
       "\n",
       "    .dataframe thead th {\n",
       "        text-align: right;\n",
       "    }\n",
       "</style>\n",
       "<table border=\"1\" class=\"dataframe\">\n",
       "  <thead>\n",
       "    <tr style=\"text-align: right;\">\n",
       "      <th></th>\n",
       "      <th>Preoptransfusionwithin30days</th>\n",
       "      <th>Intraop</th>\n",
       "      <th>Postopwithin30days</th>\n",
       "      <th>Transfusionintraandpostop</th>\n",
       "      <th>DaysbetweenDeathandoperation</th>\n",
       "      <th>PreopEGFRMDRD</th>\n",
       "      <th>RCRI score</th>\n",
       "      <th>AGE</th>\n",
       "    </tr>\n",
       "  </thead>\n",
       "  <tbody>\n",
       "    <tr>\n",
       "      <th>103</th>\n",
       "      <td>0</td>\n",
       "      <td>0</td>\n",
       "      <td>0</td>\n",
       "      <td>0</td>\n",
       "      <td>793.0</td>\n",
       "      <td>102.832998</td>\n",
       "      <td>1.0</td>\n",
       "      <td>87</td>\n",
       "    </tr>\n",
       "    <tr>\n",
       "      <th>107</th>\n",
       "      <td>0</td>\n",
       "      <td>0</td>\n",
       "      <td>0</td>\n",
       "      <td>0</td>\n",
       "      <td>17.0</td>\n",
       "      <td>99.129633</td>\n",
       "      <td>1.0</td>\n",
       "      <td>61</td>\n",
       "    </tr>\n",
       "    <tr>\n",
       "      <th>108</th>\n",
       "      <td>0</td>\n",
       "      <td>0</td>\n",
       "      <td>0</td>\n",
       "      <td>0</td>\n",
       "      <td>433.0</td>\n",
       "      <td>107.520574</td>\n",
       "      <td>0.0</td>\n",
       "      <td>78</td>\n",
       "    </tr>\n",
       "    <tr>\n",
       "      <th>109</th>\n",
       "      <td>0</td>\n",
       "      <td>0</td>\n",
       "      <td>0</td>\n",
       "      <td>0</td>\n",
       "      <td>1032.0</td>\n",
       "      <td>104.801171</td>\n",
       "      <td>1.0</td>\n",
       "      <td>75</td>\n",
       "    </tr>\n",
       "    <tr>\n",
       "      <th>230</th>\n",
       "      <td>0</td>\n",
       "      <td>0</td>\n",
       "      <td>0</td>\n",
       "      <td>0</td>\n",
       "      <td>155.0</td>\n",
       "      <td>129.079606</td>\n",
       "      <td>1.0</td>\n",
       "      <td>57</td>\n",
       "    </tr>\n",
       "    <tr>\n",
       "      <th>...</th>\n",
       "      <td>...</td>\n",
       "      <td>...</td>\n",
       "      <td>...</td>\n",
       "      <td>...</td>\n",
       "      <td>...</td>\n",
       "      <td>...</td>\n",
       "      <td>...</td>\n",
       "      <td>...</td>\n",
       "    </tr>\n",
       "    <tr>\n",
       "      <th>78676</th>\n",
       "      <td>3</td>\n",
       "      <td>1</td>\n",
       "      <td>0</td>\n",
       "      <td>1</td>\n",
       "      <td>12.0</td>\n",
       "      <td>103.331556</td>\n",
       "      <td>1.0</td>\n",
       "      <td>74</td>\n",
       "    </tr>\n",
       "    <tr>\n",
       "      <th>78753</th>\n",
       "      <td>0</td>\n",
       "      <td>0</td>\n",
       "      <td>0</td>\n",
       "      <td>0</td>\n",
       "      <td>18.0</td>\n",
       "      <td>109.175965</td>\n",
       "      <td>1.0</td>\n",
       "      <td>52</td>\n",
       "    </tr>\n",
       "    <tr>\n",
       "      <th>78788</th>\n",
       "      <td>0</td>\n",
       "      <td>0</td>\n",
       "      <td>0</td>\n",
       "      <td>0</td>\n",
       "      <td>230.0</td>\n",
       "      <td>128.321706</td>\n",
       "      <td>1.0</td>\n",
       "      <td>62</td>\n",
       "    </tr>\n",
       "    <tr>\n",
       "      <th>78791</th>\n",
       "      <td>3</td>\n",
       "      <td>1</td>\n",
       "      <td>0</td>\n",
       "      <td>1</td>\n",
       "      <td>15.0</td>\n",
       "      <td>269.023482</td>\n",
       "      <td>1.0</td>\n",
       "      <td>49</td>\n",
       "    </tr>\n",
       "    <tr>\n",
       "      <th>78834</th>\n",
       "      <td>0</td>\n",
       "      <td>0</td>\n",
       "      <td>0</td>\n",
       "      <td>0</td>\n",
       "      <td>143.0</td>\n",
       "      <td>108.123708</td>\n",
       "      <td>0.0</td>\n",
       "      <td>25</td>\n",
       "    </tr>\n",
       "  </tbody>\n",
       "</table>\n",
       "<p>1669 rows × 8 columns</p>\n",
       "</div>"
      ],
      "text/plain": [
       "       Preoptransfusionwithin30days  Intraop  Postopwithin30days  \\\n",
       "103                               0        0                   0   \n",
       "107                               0        0                   0   \n",
       "108                               0        0                   0   \n",
       "109                               0        0                   0   \n",
       "230                               0        0                   0   \n",
       "...                             ...      ...                 ...   \n",
       "78676                             3        1                   0   \n",
       "78753                             0        0                   0   \n",
       "78788                             0        0                   0   \n",
       "78791                             3        1                   0   \n",
       "78834                             0        0                   0   \n",
       "\n",
       "       Transfusionintraandpostop  DaysbetweenDeathandoperation  PreopEGFRMDRD  \\\n",
       "103                            0                         793.0     102.832998   \n",
       "107                            0                          17.0      99.129633   \n",
       "108                            0                         433.0     107.520574   \n",
       "109                            0                        1032.0     104.801171   \n",
       "230                            0                         155.0     129.079606   \n",
       "...                          ...                           ...            ...   \n",
       "78676                          1                          12.0     103.331556   \n",
       "78753                          0                          18.0     109.175965   \n",
       "78788                          0                         230.0     128.321706   \n",
       "78791                          1                          15.0     269.023482   \n",
       "78834                          0                         143.0     108.123708   \n",
       "\n",
       "       RCRI score  AGE  \n",
       "103           1.0   87  \n",
       "107           1.0   61  \n",
       "108           0.0   78  \n",
       "109           1.0   75  \n",
       "230           1.0   57  \n",
       "...           ...  ...  \n",
       "78676         1.0   74  \n",
       "78753         1.0   52  \n",
       "78788         1.0   62  \n",
       "78791         1.0   49  \n",
       "78834         0.0   25  \n",
       "\n",
       "[1669 rows x 8 columns]"
      ]
     },
     "execution_count": 107,
     "metadata": {},
     "output_type": "execute_result"
    }
   ],
   "source": [
    "df_dead_imputed[df_dead_imputed['PreopEGFRMDRD']>98.688]"
   ]
  },
  {
   "cell_type": "markdown",
   "metadata": {},
   "source": [
    "## Statistical tests for imputed data"
   ]
  },
  {
   "cell_type": "markdown",
   "metadata": {},
   "source": [
    "Normality tests for imputed data"
   ]
  },
  {
   "cell_type": "code",
   "execution_count": 108,
   "metadata": {},
   "outputs": [
    {
     "name": "stdout",
     "output_type": "stream",
     "text": [
      "Preoptransfusionwithin30days: Statistics=0.265, p-value=0.0000000000000000000000000000000000000000000000000000000000000000000000000000000000000000001364456843663592434855801084269018732177090545208258759838672225621198175242016500202273937023849245994314573071492731894919234277186887550041438921404455220181151144731903623592129847009260338136024706900984804105925234313581584366659171791980043053627014160156250000000000000000000000000000000000000000000000\n",
      "Intraop: Statistics=0.512, p-value=0.0000000000000000000000000000000000000000000000000000000000000000000000000000000002450076706062760129883288449345696729688414745740034567386819379964770921070225896962225998370804730767475214881034802764080541599497432133255045685276878145966840800068126811266288066025859236661473298732327741333847370697185397148132324218750000000000000000000000000000000000000000000000000000000000000000000000000000\n",
      "Postopwithin30days: Statistics=0.169, p-value=0.0000000000000000000000000000000000000000000000000000000000000000000000000000000000000000000001831766089247523662493720272793107157507758946893303074703281062588257401680693545117574151441215455016473843169607144394612194980502534395477237830973892630663637661339683002158661976622332046179436409974293061915046425086912450404252883373601434868760406970977783203125000000000000000000000000000000000000\n",
      "Transfusionintraandpostop: Statistics=0.384, p-value=0.0000000000000000000000000000000000000000000000000000000000000000000000000000000000000015820092925009456665362858405658416208111194285291724055134269169285166893777460600439259723089164318251939889787113011586926349928475219274608608244047889047205263604974531409431420865465529898686375207449435306879259588441755113308317959308624267578125000000000000000000000000000000000000000000000000000000000000\n",
      "PreopEGFRMDRD: Statistics=0.919, p-value=0.0000000000000000000000000000000000000000000000105607040969672756941768672899600878184135128496867804982541239172685063651347091784223866496660734992752326638848839324147377283225068822503089904785156250000000000000000000000000000000000000000000000000000000000000000000000000000000000000000000000000000000000000000000000000000000000000000000000000000000000000000000000000000000000000000000000000000000\n",
      "RCRI score: Statistics=0.757, p-value=0.0000000000000000000000000000000000000000000000000000000000000000000942139387486120836790609929575226360517174751924799259291762777254803726713135861870446071774480650706866322846051722075802106547303617642933400111924764723368057664498742553860211046412587165832519531250000000000000000000000000000000000000000000000000000000000000000000000000000000000000000000000000000000000000000000000000000000000\n",
      "AGE: Statistics=0.990, p-value=0.0000000000000000000656609433960723790643488388051545703952602023661201452106594977919939992716535925865173339843750000000000000000000000000000000000000000000000000000000000000000000000000000000000000000000000000000000000000000000000000000000000000000000000000000000000000000000000000000000000000000000000000000000000000000000000000000000000000000000000000000000000000000000000000000000000000000000000\n"
     ]
    },
    {
     "name": "stderr",
     "output_type": "stream",
     "text": [
      "d:\\dev_tools\\python\\Lib\\site-packages\\scipy\\stats\\_axis_nan_policy.py:531: UserWarning: scipy.stats.shapiro: For N > 5000, computed p-value may not be accurate. Current N is 5591.\n",
      "  res = hypotest_fun_out(*samples, **kwds)\n"
     ]
    }
   ],
   "source": [
    "# List of columns to test\n",
    "columns = ['Preoptransfusionwithin30days', 'Intraop', 'Postopwithin30days', \n",
    "           'Transfusionintraandpostop', 'PreopEGFRMDRD','RCRI score','AGE']\n",
    "\n",
    "# Create a dictionary to store results\n",
    "shapiro_results = {}\n",
    "\n",
    "# Perform the Shapiro-Wilk test for each column\n",
    "for column in columns:\n",
    "    data = df_dead_imputed[column]\n",
    "    stat, p_value = stats.shapiro(data)\n",
    "    shapiro_results[column] = (stat, p_value)\n",
    "\n",
    "# Print results\n",
    "for column, (stat, p_value) in shapiro_results.items():\n",
    "    print(f'{column}: Statistics={stat:.3f}, p-value={p_value:.400f}')\n"
   ]
  },
  {
   "cell_type": "markdown",
   "metadata": {},
   "source": [
    "None of the varaibles are normally distributed as p-value < 0.05"
   ]
  },
  {
   "cell_type": "markdown",
   "metadata": {},
   "source": [
    "Adding log transformation to the variables"
   ]
  },
  {
   "cell_type": "code",
   "execution_count": 109,
   "metadata": {},
   "outputs": [
    {
     "data": {
      "text/html": [
       "<div>\n",
       "<style scoped>\n",
       "    .dataframe tbody tr th:only-of-type {\n",
       "        vertical-align: middle;\n",
       "    }\n",
       "\n",
       "    .dataframe tbody tr th {\n",
       "        vertical-align: top;\n",
       "    }\n",
       "\n",
       "    .dataframe thead th {\n",
       "        text-align: right;\n",
       "    }\n",
       "</style>\n",
       "<table border=\"1\" class=\"dataframe\">\n",
       "  <thead>\n",
       "    <tr style=\"text-align: right;\">\n",
       "      <th></th>\n",
       "      <th>Preoptransfusionwithin30days</th>\n",
       "      <th>Intraop</th>\n",
       "      <th>Postopwithin30days</th>\n",
       "      <th>Transfusionintraandpostop</th>\n",
       "      <th>DaysbetweenDeathandoperation</th>\n",
       "      <th>PreopEGFRMDRD</th>\n",
       "      <th>RCRI score</th>\n",
       "      <th>AGE</th>\n",
       "    </tr>\n",
       "  </thead>\n",
       "  <tbody>\n",
       "    <tr>\n",
       "      <th>4</th>\n",
       "      <td>0.0</td>\n",
       "      <td>0.0</td>\n",
       "      <td>0.0</td>\n",
       "      <td>0.0</td>\n",
       "      <td>59.0</td>\n",
       "      <td>4.601677</td>\n",
       "      <td>0.000000</td>\n",
       "      <td>4.304065</td>\n",
       "    </tr>\n",
       "    <tr>\n",
       "      <th>45</th>\n",
       "      <td>0.0</td>\n",
       "      <td>0.0</td>\n",
       "      <td>0.0</td>\n",
       "      <td>0.0</td>\n",
       "      <td>1063.0</td>\n",
       "      <td>4.573155</td>\n",
       "      <td>0.693147</td>\n",
       "      <td>4.304065</td>\n",
       "    </tr>\n",
       "    <tr>\n",
       "      <th>103</th>\n",
       "      <td>0.0</td>\n",
       "      <td>0.0</td>\n",
       "      <td>0.0</td>\n",
       "      <td>0.0</td>\n",
       "      <td>793.0</td>\n",
       "      <td>4.642784</td>\n",
       "      <td>0.693147</td>\n",
       "      <td>4.477337</td>\n",
       "    </tr>\n",
       "    <tr>\n",
       "      <th>107</th>\n",
       "      <td>0.0</td>\n",
       "      <td>0.0</td>\n",
       "      <td>0.0</td>\n",
       "      <td>0.0</td>\n",
       "      <td>17.0</td>\n",
       "      <td>4.606466</td>\n",
       "      <td>0.693147</td>\n",
       "      <td>4.127134</td>\n",
       "    </tr>\n",
       "    <tr>\n",
       "      <th>108</th>\n",
       "      <td>0.0</td>\n",
       "      <td>0.0</td>\n",
       "      <td>0.0</td>\n",
       "      <td>0.0</td>\n",
       "      <td>433.0</td>\n",
       "      <td>4.686940</td>\n",
       "      <td>0.000000</td>\n",
       "      <td>4.369448</td>\n",
       "    </tr>\n",
       "  </tbody>\n",
       "</table>\n",
       "</div>"
      ],
      "text/plain": [
       "     Preoptransfusionwithin30days  Intraop  Postopwithin30days  \\\n",
       "4                             0.0      0.0                 0.0   \n",
       "45                            0.0      0.0                 0.0   \n",
       "103                           0.0      0.0                 0.0   \n",
       "107                           0.0      0.0                 0.0   \n",
       "108                           0.0      0.0                 0.0   \n",
       "\n",
       "     Transfusionintraandpostop  DaysbetweenDeathandoperation  PreopEGFRMDRD  \\\n",
       "4                          0.0                          59.0       4.601677   \n",
       "45                         0.0                        1063.0       4.573155   \n",
       "103                        0.0                         793.0       4.642784   \n",
       "107                        0.0                          17.0       4.606466   \n",
       "108                        0.0                         433.0       4.686940   \n",
       "\n",
       "     RCRI score       AGE  \n",
       "4      0.000000  4.304065  \n",
       "45     0.693147  4.304065  \n",
       "103    0.693147  4.477337  \n",
       "107    0.693147  4.127134  \n",
       "108    0.000000  4.369448  "
      ]
     },
     "execution_count": 109,
     "metadata": {},
     "output_type": "execute_result"
    }
   ],
   "source": [
    "# Apply log transformation with c = 1\n",
    "df_dead_imputed_log = df_dead_imputed.copy()\n",
    "for column in columns:\n",
    "    # Ensure there are no zero or negative values before applying log\n",
    "    df_dead_imputed_log[column] = np.log(df_dead_imputed_log[column] + 1)\n",
    "\n",
    "df_dead_imputed_log.head()"
   ]
  },
  {
   "cell_type": "markdown",
   "metadata": {},
   "source": [
    "Checking normality of log transformed columns"
   ]
  },
  {
   "cell_type": "code",
   "execution_count": 110,
   "metadata": {},
   "outputs": [
    {
     "name": "stdout",
     "output_type": "stream",
     "text": [
      "Preoptransfusionwithin30days: Statistics=0.362, p-value=0.0000000000000000000000000000000000000000000000000000000000000000000000000000000000000002416176931286933876487887412991359485073816262398910101213045365350108625218931383537665504407918780510238564537488979038777885845704210392173475085833141127023647646810653291061691013371397901721671137028562218590759663738865015147894155234098434448242187500000000000000000000000000000000000000000000000000000000\n",
      "Intraop: Statistics=0.512, p-value=0.0000000000000000000000000000000000000000000000000000000000000000000000000000000002450076706062760129883288449345696729688414745740034567386819379964770921070225896962225998370804730767475214881034802764080541599497432133255045685276878145966840800068126811266288066025859236661473298732327741333847370697185397148132324218750000000000000000000000000000000000000000000000000000000000000000000000000000\n",
      "Postopwithin30days: Statistics=0.247, p-value=0.0000000000000000000000000000000000000000000000000000000000000000000000000000000000000000000364870664558628741900501940099655120813660732800348163324104080193241188915487077887487553415942816868011924970041464272262319208029291916000014433364392955812749629561055336440771865817466197865867636867942888904747075122601135399591498753579799085855484008789062500000000000000000000000000000000000000000000\n",
      "Transfusionintraandpostop: Statistics=0.542, p-value=0.0000000000000000000000000000000000000000000000000000000000000000000000000000000059705594273132241300559229072951033161959533173813020950243804726621556779292981043074968332565632649556470198109167710169074530074631068786289912129671590061093543014548177495655434298238226341901460636485410304885590448975563049316406250000000000000000000000000000000000000000000000000000000000000000000000000000000000\n",
      "PreopEGFRMDRD: Statistics=0.901, p-value=0.0000000000000000000000000000000000000000000000000052166551680486190531764278932272441258180095805148263743366166839344540177743461768490524210834949512231042804976398603055597535602116998632027389248833060264587402343750000000000000000000000000000000000000000000000000000000000000000000000000000000000000000000000000000000000000000000000000000000000000000000000000000000000000000000000000000000000000\n",
      "RCRI score: Statistics=0.794, p-value=0.0000000000000000000000000000000000000000000000000000000000000001679177839614516950403335058900226777930715367499592015322987142928811760270075230938901344907637358216647018885419328333838379824064415927118081515044932939921540349104134293156675994396209716796875000000000000000000000000000000000000000000000000000000000000000000000000000000000000000000000000000000000000000000000000000000000000000000\n",
      "AGE: Statistics=0.929, p-value=0.0000000000000000000000000000000000000000000015173014351402577679172863721280799457418093883115351739557076676306593652401079837663001048416215411980790927885549140841092707887582946568727493286132812500000000000000000000000000000000000000000000000000000000000000000000000000000000000000000000000000000000000000000000000000000000000000000000000000000000000000000000000000000000000000000000000000000000\n"
     ]
    },
    {
     "name": "stderr",
     "output_type": "stream",
     "text": [
      "d:\\dev_tools\\python\\Lib\\site-packages\\scipy\\stats\\_axis_nan_policy.py:531: UserWarning: scipy.stats.shapiro: For N > 5000, computed p-value may not be accurate. Current N is 5591.\n",
      "  res = hypotest_fun_out(*samples, **kwds)\n"
     ]
    }
   ],
   "source": [
    "# List of columns to test\n",
    "columns = ['Preoptransfusionwithin30days', 'Intraop', 'Postopwithin30days', \n",
    "           'Transfusionintraandpostop', 'PreopEGFRMDRD', 'RCRI score', 'AGE']\n",
    "\n",
    "# Create a dictionary to store results\n",
    "shapiro_results = {}\n",
    "\n",
    "# Perform the Shapiro-Wilk test for each column\n",
    "for column in columns:\n",
    "    data = df_dead_imputed_log[column]\n",
    "    stat, p_value = stats.shapiro(data)\n",
    "    shapiro_results[column] = (stat, p_value)\n",
    "\n",
    "# Print results\n",
    "for column, (stat, p_value) in shapiro_results.items():\n",
    "    print(f'{column}: Statistics={stat:.3f}, p-value={p_value:.400f}')\n"
   ]
  },
  {
   "cell_type": "markdown",
   "metadata": {},
   "source": [
    "None of them are normally distributed"
   ]
  },
  {
   "cell_type": "markdown",
   "metadata": {},
   "source": [
    "ANOVA for log transformed variables"
   ]
  },
  {
   "cell_type": "code",
   "execution_count": 111,
   "metadata": {},
   "outputs": [
    {
     "name": "stdout",
     "output_type": "stream",
     "text": [
      "ANOVA for Preoptransfusionwithin30days:\n",
      "  F-statistic: 0.840\n",
      "  p-value: 1.000\n",
      "\n",
      "ANOVA for Intraop:\n",
      "  F-statistic: 1.033\n",
      "  p-value: 0.227\n",
      "\n",
      "ANOVA for Postopwithin30days:\n",
      "  F-statistic: 0.674\n",
      "  p-value: 1.000\n",
      "\n",
      "ANOVA for Transfusionintraandpostop:\n",
      "  F-statistic: 0.911\n",
      "  p-value: 0.982\n",
      "\n",
      "ANOVA for PreopEGFRMDRD:\n",
      "  F-statistic: 0.991\n",
      "  p-value: 0.576\n",
      "\n",
      "ANOVA for RCRI score:\n",
      "  F-statistic: 1.037\n",
      "  p-value: 0.200\n",
      "\n",
      "ANOVA for AGE:\n",
      "  F-statistic: 0.896\n",
      "  p-value: 0.994\n",
      "\n"
     ]
    }
   ],
   "source": [
    "import pandas as pd\n",
    "import scipy.stats as stats\n",
    "\n",
    "# List of variables to test\n",
    "variables = ['Preoptransfusionwithin30days', 'Intraop', 'Postopwithin30days', \n",
    "              'Transfusionintraandpostop', 'PreopEGFRMDRD', 'RCRI score', 'AGE']\n",
    "\n",
    "# Convert 'DaysbetweenDeathandoperation' to categorical if it's not already\n",
    "df_dead_imputed_log['DaysbetweenDeathandoperation'] = pd.Categorical(df_dead_imputed_log['DaysbetweenDeathandoperation'])\n",
    "\n",
    "# Perform ANOVA for each variable\n",
    "anova_results = {}\n",
    "\n",
    "for var in variables:\n",
    "    # Group the data by 'DaysbetweenDeathandoperation'\n",
    "    grouped_data = [df_dead_imputed_log[df_dead_imputed_log['DaysbetweenDeathandoperation'] == category][var]\n",
    "                    for category in df_dead_imputed_log['DaysbetweenDeathandoperation'].cat.categories]\n",
    "    \n",
    "    # Perform one-way ANOVA\n",
    "    f_stat, p_value = stats.f_oneway(*grouped_data)\n",
    "    anova_results[var] = (f_stat, p_value)\n",
    "\n",
    "# Print ANOVA results\n",
    "for var, (f_stat, p_value) in anova_results.items():\n",
    "    print(f'ANOVA for {var}:')\n",
    "    print(f'  F-statistic: {f_stat:.3f}')\n",
    "    print(f'  p-value: {p_value:.3f}')\n",
    "    print()\n"
   ]
  },
  {
   "cell_type": "markdown",
   "metadata": {},
   "source": [
    "Kruskal-Wallis for log transformed variables"
   ]
  },
  {
   "cell_type": "code",
   "execution_count": 112,
   "metadata": {},
   "outputs": [
    {
     "name": "stdout",
     "output_type": "stream",
     "text": [
      "Kruskal-Wallis test for Preoptransfusionwithin30days:\n",
      "  H-statistic: 1366.584\n",
      "  p-value: 0.775\n",
      "\n",
      "Kruskal-Wallis test for Intraop:\n",
      "  H-statistic: 1441.168\n",
      "  p-value: 0.257\n",
      "\n",
      "Kruskal-Wallis test for Postopwithin30days:\n",
      "  H-statistic: 1118.969\n",
      "  p-value: 1.000\n",
      "\n",
      "Kruskal-Wallis test for Transfusionintraandpostop:\n",
      "  H-statistic: 1420.082\n",
      "  p-value: 0.398\n",
      "\n",
      "Kruskal-Wallis test for PreopEGFRMDRD:\n",
      "  H-statistic: 1413.948\n",
      "  p-value: 0.443\n",
      "\n",
      "Kruskal-Wallis test for RCRI score:\n",
      "  H-statistic: 1475.153\n",
      "  p-value: 0.101\n",
      "\n",
      "Kruskal-Wallis test for AGE:\n",
      "  H-statistic: 1327.812\n",
      "  p-value: 0.934\n",
      "\n"
     ]
    }
   ],
   "source": [
    "import pandas as pd\n",
    "import scipy.stats as stats\n",
    "\n",
    "# List of variables to test\n",
    "variables = ['Preoptransfusionwithin30days', 'Intraop', 'Postopwithin30days', \n",
    "              'Transfusionintraandpostop', 'PreopEGFRMDRD', 'RCRI score', 'AGE']\n",
    "\n",
    "# Convert 'DaysbetweenDeathandoperation' to categorical if it's not already\n",
    "df_dead_imputed_log['DaysbetweenDeathandoperation'] = pd.Categorical(df_dead_imputed_log['DaysbetweenDeathandoperation'])\n",
    "\n",
    "# Perform Kruskal-Wallis test for each variable\n",
    "kruskal_results = {}\n",
    "\n",
    "for var in variables:\n",
    "    # Group the data by 'DaysbetweenDeathandoperation'\n",
    "    grouped_data = [df_dead_imputed_log[df_dead_imputed_log['DaysbetweenDeathandoperation'] == category][var]\n",
    "                    for category in df_dead_imputed_log['DaysbetweenDeathandoperation'].cat.categories]\n",
    "    \n",
    "    # Perform Kruskal-Wallis test\n",
    "    h_stat, p_value = stats.kruskal(*grouped_data)\n",
    "    kruskal_results[var] = (h_stat, p_value)\n",
    "\n",
    "# Print Kruskal-Wallis test results\n",
    "for var, (h_stat, p_value) in kruskal_results.items():\n",
    "    print(f'Kruskal-Wallis test for {var}:')\n",
    "    print(f'  H-statistic: {h_stat:.3f}')\n",
    "    print(f'  p-value: {p_value:.3f}')\n",
    "    print()\n"
   ]
  },
  {
   "attachments": {
    "image-3.png": {
     "image/png": "[encoded data removed]"
    }
   },
   "cell_type": "markdown",
   "metadata": {},
   "source": [
    "![image-3.png](attachment:image-3.png)"
   ]
  },
  {
   "cell_type": "markdown",
   "metadata": {},
   "source": [
    "#### Chi-square on imputed binned PreopEGFRMDRD"
   ]
  },
  {
   "cell_type": "code",
   "execution_count": 113,
   "metadata": {},
   "outputs": [
    {
     "name": "stdout",
     "output_type": "stream",
     "text": [
      "     Preoptransfusionwithin30days  Intraop  Postopwithin30days  \\\n",
      "4                               0        0                   0   \n",
      "45                              0        0                   0   \n",
      "103                             0        0                   0   \n",
      "107                             0        0                   0   \n",
      "108                             0        0                   0   \n",
      "\n",
      "     Transfusionintraandpostop  DaysbetweenDeathandoperation  PreopEGFRMDRD  \\\n",
      "4                            0                          59.0      98.651255   \n",
      "45                           0                        1063.0      95.849232   \n",
      "103                          0                         793.0     102.832998   \n",
      "107                          0                          17.0      99.129633   \n",
      "108                          0                         433.0     107.520574   \n",
      "\n",
      "     RCRI score  AGE  PreopEGFRMDRD_binned DaysbetweenDeathandoperation_binned  \n",
      "4           0.0   73                     0                            6 months  \n",
      "45          1.0   73                     0                           > 2 years  \n",
      "103         1.0   87                     1                           > 2 years  \n",
      "107         1.0   61                     1                             1 month  \n",
      "108         0.0   78                     1                             2 years  \n"
     ]
    }
   ],
   "source": [
    "# Define the combined binning function\n",
    "def combined_binning(row):\n",
    "    # Binning for eGFR\n",
    "    if row['PreopEGFRMDRD'] <= 98.688:\n",
    "        eGFR_bin = 0\n",
    "    else:\n",
    "        eGFR_bin = 1\n",
    "\n",
    "    # Binning for days\n",
    "    days = row['DaysbetweenDeathandoperation']\n",
    "    if days <= 30:\n",
    "        days_bin = '1 month'\n",
    "    elif days <= 180:\n",
    "        days_bin = '6 months'\n",
    "    elif days <= 730:\n",
    "        days_bin = '2 years'\n",
    "    else:\n",
    "        days_bin = '> 2 years'\n",
    "    \n",
    "    # Set the bin values in the row\n",
    "    return pd.Series([eGFR_bin, days_bin], index=['PreopEGFRMDRD_binned', 'DaysbetweenDeathandoperation_binned'])\n",
    "\n",
    "# Apply the combined binning function to each row\n",
    "df_dead_imputed[['PreopEGFRMDRD_binned', 'DaysbetweenDeathandoperation_binned']] = df_dead_imputed.apply(combined_binning, axis=1)\n",
    "\n",
    "# Display the updated DataFrame\n",
    "print(df_dead_imputed.head())\n"
   ]
  },
  {
   "cell_type": "code",
   "execution_count": 114,
   "metadata": {},
   "outputs": [
    {
     "data": {
      "text/plain": [
       "PreopEGFRMDRD_binned\n",
       "0    3922\n",
       "1    1669\n",
       "Name: count, dtype: int64"
      ]
     },
     "execution_count": 114,
     "metadata": {},
     "output_type": "execute_result"
    }
   ],
   "source": [
    "df_dead_imputed['PreopEGFRMDRD_binned'].value_counts()"
   ]
  },
  {
   "cell_type": "code",
   "execution_count": 115,
   "metadata": {},
   "outputs": [
    {
     "data": {
      "text/plain": [
       "DaysbetweenDeathandoperation_binned\n",
       "2 years      2337\n",
       "> 2 years    1441\n",
       "6 months     1274\n",
       "1 month       539\n",
       "Name: count, dtype: int64"
      ]
     },
     "execution_count": 115,
     "metadata": {},
     "output_type": "execute_result"
    }
   ],
   "source": [
    "df_dead_imputed['DaysbetweenDeathandoperation_binned'].value_counts()"
   ]
  },
  {
   "cell_type": "code",
   "execution_count": 116,
   "metadata": {},
   "outputs": [
    {
     "name": "stdout",
     "output_type": "stream",
     "text": [
      "Index(['Preoptransfusionwithin30days', 'Intraop', 'Postopwithin30days',\n",
      "       'Transfusionintraandpostop', 'DaysbetweenDeathandoperation',\n",
      "       'PreopEGFRMDRD', 'RCRI score', 'AGE', 'PreopEGFRMDRD_binned',\n",
      "       'DaysbetweenDeathandoperation_binned'],\n",
      "      dtype='object')\n"
     ]
    }
   ],
   "source": [
    "print(df_dead_imputed.columns)\n"
   ]
  },
  {
   "cell_type": "code",
   "execution_count": 117,
   "metadata": {},
   "outputs": [
    {
     "name": "stdout",
     "output_type": "stream",
     "text": [
      "Contingency Table:\n",
      "DaysbetweenDeathandoperation_binned  1 month  2 years  6 months  > 2 years\n",
      "PreopEGFRMDRD_binned                                                      \n",
      "0                                        416     1575       834       1097\n",
      "1                                        123      762       440        344\n",
      "\n",
      "Chi-Square Test Results:\n",
      "Chi2 Statistic: 59.150703790907606\n",
      "P-value: 8.926317513635372e-13\n",
      "Degrees of Freedom: 3\n",
      "Expected Frequencies:\n",
      "[[ 378.10016097 1639.36934359  893.69128957 1010.83920587]\n",
      " [ 160.89983903  697.63065641  380.30871043  430.16079413]]\n"
     ]
    }
   ],
   "source": [
    "# Create a contingency table\n",
    "contingency_table = pd.crosstab(df_dead_imputed['PreopEGFRMDRD_binned'], df_dead_imputed['DaysbetweenDeathandoperation_binned'])\n",
    "print(\"Contingency Table:\")\n",
    "print(contingency_table)\n",
    "\n",
    "# Perform Chi-Square Test of Independence\n",
    "chi2, p, dof, expected = stats.chi2_contingency(contingency_table)\n",
    "\n",
    "print(\"\\nChi-Square Test Results:\")\n",
    "print(f\"Chi2 Statistic: {chi2}\")\n",
    "print(f\"P-value: {p}\")\n",
    "print(f\"Degrees of Freedom: {dof}\")\n",
    "print(\"Expected Frequencies:\") #Expected frequencies \n",
    "print(expected)"
   ]
  },
  {
   "cell_type": "markdown",
   "metadata": {},
   "source": [
    "Null Hypothesis (H0): There is no association between DaysbetweenDeathandoperation and PreopEGFRMDRD_binned; they are independent. <br>\n",
    "Alternative Hypothesis (H1): There is an association between DaysbetweenDeathandoperation and PreopEGFRMDRD_binned; they are not independent.<br><br>\n",
    "Since the p-value is < 0.05, the null hypothesis is rejected."
   ]
  }
 ],
 "metadata": {
  "kernelspec": {
   "display_name": "Python 3",
   "language": "python",
   "name": "python3"
  },
  "language_info": {
   "codemirror_mode": {
    "name": "ipython",
    "version": 3
   },
   "file_extension": ".py",
   "mimetype": "text/x-python",
   "name": "python",
   "nbconvert_exporter": "python",
   "pygments_lexer": "ipython3",
   "version": "3.11.5"
  }
 },
 "nbformat": 4,
 "nbformat_minor": 2
}
