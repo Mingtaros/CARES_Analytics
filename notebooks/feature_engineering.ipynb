{
 "cells": [
  {
   "cell_type": "code",
   "execution_count": 1,
   "id": "cfb54e13-c046-4a30-8f20-c5c182928d39",
   "metadata": {},
   "outputs": [],
   "source": [
    "# import dependencies\n",
    "import pandas as pd\n",
    "import duckdb\n",
    "from duckdb import sql"
   ]
  },
  {
   "cell_type": "code",
   "execution_count": 3,
   "id": "e3157c7b-816f-4eb5-a32e-10d5057e255a",
   "metadata": {},
   "outputs": [
    {
     "name": "stdout",
     "output_type": "stream",
     "text": [
      "<class 'pandas.core.frame.DataFrame'>\n",
      "RangeIndex: 69667 entries, 0 to 69666\n",
      "Data columns (total 24 columns):\n",
      " #   Column                             Non-Null Count  Dtype  \n",
      "---  ------                             --------------  -----  \n",
      " 0   GENDER                             69667 non-null  object \n",
      " 1   RCRI_score                         69667 non-null  int64  \n",
      " 2   Anemia category                    69667 non-null  object \n",
      " 3   Preoptransfusionwithin30days       69667 non-null  float64\n",
      " 4   Intraop                            69667 non-null  float64\n",
      " 5   Postopwithin30days                 69667 non-null  float64\n",
      " 6   Transfusionintraandpostop          69667 non-null  float64\n",
      " 7   AnaestypeCategory                  69667 non-null  object \n",
      " 8   PriorityCategory                   69667 non-null  object \n",
      " 9   TransfusionIntraandpostopCategory  69667 non-null  object \n",
      " 10  AGEcategory                        69667 non-null  object \n",
      " 11  Mortality                          69667 non-null  object \n",
      " 12  thirtydaymortality                 69667 non-null  bool   \n",
      " 13  SurgRiskCategory                   69667 non-null  object \n",
      " 14  RaceCategory                       69667 non-null  object \n",
      " 15  CVARCRICategory                    69667 non-null  object \n",
      " 16  IHDRCRICategory                    69667 non-null  object \n",
      " 17  CHFRCRICategory                    69667 non-null  object \n",
      " 18  DMinsulinRCRICategory              69667 non-null  object \n",
      " 19  CreatinineRCRICategory             69667 non-null  object \n",
      " 20  GradeofKidneyCategory              69667 non-null  object \n",
      " 21  RDW15.7                            69667 non-null  object \n",
      " 22  ASAcategorybinned                  69667 non-null  object \n",
      " 23  ICUAdmgt24h                        69667 non-null  object \n",
      "dtypes: bool(1), float64(4), int64(1), object(18)\n",
      "memory usage: 12.3+ MB\n"
     ]
    }
   ],
   "source": [
    "# import dataset\n",
    "data = pd.read_csv(\"../data/CARES_data_imputedv1.csv\")\n",
    "data.info()"
   ]
  },
  {
   "cell_type": "code",
   "execution_count": null,
   "id": "2d37e74c-e18a-4593-9bc3-3ca5c24cc056",
   "metadata": {},
   "outputs": [],
   "source": []
  }
 ],
 "metadata": {
  "kernelspec": {
   "display_name": "Python 3 (ipykernel)",
   "language": "python",
   "name": "python3"
  },
  "language_info": {
   "codemirror_mode": {
    "name": "ipython",
    "version": 3
   },
   "file_extension": ".py",
   "mimetype": "text/x-python",
   "name": "python",
   "nbconvert_exporter": "python",
   "pygments_lexer": "ipython3",
   "version": "3.9.15"
  }
 },
 "nbformat": 4,
 "nbformat_minor": 5
}
