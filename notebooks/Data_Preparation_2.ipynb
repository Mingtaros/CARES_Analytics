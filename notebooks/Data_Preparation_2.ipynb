{
 "cells": [
  {
   "cell_type": "markdown",
   "metadata": {},
   "source": [
    "# Data Preparation"
   ]
  },
  {
   "cell_type": "markdown",
   "metadata": {},
   "source": [
    "- This notebook continues from Data_Preparation.ipynb\n",
    "- The previously unprocessed columns are addressed:\n",
    "    - RCRI score\n",
    "    - Preoptransfusionwithin30days\n",
    "    - Intraop\n",
    "    - Postopwithin30days\n",
    "    - TransfusionIntraandpostopCategory\n",
    "    - Transfusionintraandpostop\n",
    "    - AnaestypeCategory\n",
    "    - ASAcategorybinned (Imputation)\n",
    "- We use the file CARES_encoded.csv for all purposes of feature engineering in this notebook\n",
    "- Drop missing records for Anemia category (1.3% missing), GradeofKidneyCategory, RDW15.7, PreopEGFRMDRD due to low missing rates"
   ]
  },
  {
   "cell_type": "markdown",
   "metadata": {},
   "source": [
    "## Data Pre-Processing"
   ]
  },
  {
   "cell_type": "markdown",
   "metadata": {},
   "source": [
    "### Import Libraries"
   ]
  },
  {
   "cell_type": "code",
   "execution_count": 1,
   "metadata": {},
   "outputs": [],
   "source": [
    "# Import dependencies\n",
    "import pandas as pd\n",
    "import numpy as np\n",
    "import seaborn as sns\n",
    "import matplotlib.pyplot as plt\n",
    "import scipy.stats as stats\n",
    "from statsmodels.stats.outliers_influence import variance_inflation_factor\n",
    "import statsmodels.api as sm\n",
    "from sklearn.ensemble import RandomForestClassifier\n",
    "from sklearn.model_selection import train_test_split\n",
    "from sklearn.metrics import classification_report\n",
    "from sklearn.preprocessing import OneHotEncoder\n",
    "from sklearn.compose import ColumnTransformer\n",
    "from sklearn.pipeline import Pipeline"
   ]
  },
  {
   "cell_type": "code",
   "execution_count": 2,
   "metadata": {},
   "outputs": [],
   "source": [
    "# Import dataset\n",
    "data = pd.read_csv(\"../data/CARES_encoded.csv\")"
   ]
  },
  {
   "cell_type": "markdown",
   "metadata": {},
   "source": [
    "### Drop Duplicated columns"
   ]
  },
  {
   "cell_type": "code",
   "execution_count": 3,
   "metadata": {},
   "outputs": [
    {
     "data": {
      "text/plain": [
       "73201"
      ]
     },
     "execution_count": 3,
     "metadata": {},
     "output_type": "execute_result"
    }
   ],
   "source": [
    "# Remove duplicated records with respect to all columns\n",
    "data = data.drop_duplicates()\n",
    "data.reset_index(drop=True, inplace=True)\n",
    "len(data)"
   ]
  },
  {
   "cell_type": "markdown",
   "metadata": {},
   "source": [
    "### Check Missing Values"
   ]
  },
  {
   "cell_type": "code",
   "execution_count": 4,
   "metadata": {},
   "outputs": [
    {
     "name": "stdout",
     "output_type": "stream",
     "text": [
      "<class 'pandas.core.frame.DataFrame'>\n",
      "RangeIndex: 73201 entries, 0 to 73200\n",
      "Data columns (total 28 columns):\n",
      " #   Column                             Non-Null Count  Dtype  \n",
      "---  ------                             --------------  -----  \n",
      " 0   GENDER                             73201 non-null  int64  \n",
      " 1   RCRI score                         50370 non-null  float64\n",
      " 2   Anemia category                    72216 non-null  float64\n",
      " 3   PreopEGFRMDRD                      70069 non-null  float64\n",
      " 4   DaysbetweenDeathandoperation       5595 non-null   float64\n",
      " 5   Preoptransfusionwithin30days       73201 non-null  float64\n",
      " 6   Intraop                            73201 non-null  float64\n",
      " 7   Postopwithin30days                 73201 non-null  float64\n",
      " 8   Transfusionintraandpostop          73201 non-null  float64\n",
      " 9   AnaestypeCategory                  73201 non-null  int64  \n",
      " 10  PriorityCategory                   73201 non-null  int64  \n",
      " 11  TransfusionIntraandpostopCategory  73201 non-null  object \n",
      " 12  AGEcategory                        73201 non-null  int64  \n",
      " 13  Mortality                          73201 non-null  int64  \n",
      " 14  thirtydaymortality                 73201 non-null  int64  \n",
      " 15  SurgRiskCategory                   73201 non-null  int64  \n",
      " 16  CVARCRICategory                    73201 non-null  int64  \n",
      " 17  IHDRCRICategory                    73201 non-null  int64  \n",
      " 18  CHFRCRICategory                    73201 non-null  int64  \n",
      " 19  DMinsulinRCRICategory              73201 non-null  int64  \n",
      " 20  CreatinineRCRICategory             73201 non-null  int64  \n",
      " 21  GradeofKidneyCategory              70069 non-null  float64\n",
      " 22  RDW15.7                            71170 non-null  float64\n",
      " 23  ASAcategorybinned                  69374 non-null  float64\n",
      " 24  ICUAdmgt24h                        73201 non-null  int64  \n",
      " 25  Chinese                            73201 non-null  int64  \n",
      " 26  Indian                             73201 non-null  int64  \n",
      " 27  Malay                              73201 non-null  int64  \n",
      "dtypes: float64(11), int64(16), object(1)\n",
      "memory usage: 15.6+ MB\n"
     ]
    }
   ],
   "source": [
    "data.info()"
   ]
  },
  {
   "cell_type": "code",
   "execution_count": 5,
   "metadata": {},
   "outputs": [],
   "source": [
    "data.dropna(subset=['Anemia category', 'GradeofKidneyCategory', 'RDW15.7'], inplace=True)"
   ]
  },
  {
   "cell_type": "code",
   "execution_count": 6,
   "metadata": {},
   "outputs": [],
   "source": [
    "# Define categorical, numeric & target columns\n",
    "# Define the target columns\n",
    "target_cols = ['ICUAdmgt24h', 'thirtydaymortality', 'Mortality']\n",
    "\n",
    "# Select categorical columns and exclude target columns\n",
    "cat_cols = data.select_dtypes(include=['object', 'category']).columns.to_list()\n",
    "cat_cols = [col for col in cat_cols if col not in target_cols]\n",
    "\n",
    "# Select numerical columns and exclude target columns\n",
    "num_cols = data.select_dtypes(include=['number']).columns.tolist()\n",
    "num_cols = [col for col in num_cols if col not in target_cols]\n",
    "\n",
    "# Columns ignored in the research paper\n",
    "rev_cols = ['RCRI score','PreopEGFRMDRD','Preoptransfusionwithin30days','Intraop','Postopwithin30days','Transfusionintraandpostop','AnaestypeCategory','TransfusionIntraandpostopCategory']"
   ]
  },
  {
   "cell_type": "code",
   "execution_count": 7,
   "metadata": {},
   "outputs": [
    {
     "data": {
      "text/plain": [
       "['TransfusionIntraandpostopCategory']"
      ]
     },
     "execution_count": 7,
     "metadata": {},
     "output_type": "execute_result"
    }
   ],
   "source": [
    "cat_cols"
   ]
  },
  {
   "cell_type": "code",
   "execution_count": 8,
   "metadata": {},
   "outputs": [
    {
     "data": {
      "text/plain": [
       "['GENDER',\n",
       " 'RCRI score',\n",
       " 'Anemia category',\n",
       " 'PreopEGFRMDRD',\n",
       " 'DaysbetweenDeathandoperation',\n",
       " 'Preoptransfusionwithin30days',\n",
       " 'Intraop',\n",
       " 'Postopwithin30days',\n",
       " 'Transfusionintraandpostop',\n",
       " 'AnaestypeCategory',\n",
       " 'PriorityCategory',\n",
       " 'AGEcategory',\n",
       " 'SurgRiskCategory',\n",
       " 'CVARCRICategory',\n",
       " 'IHDRCRICategory',\n",
       " 'CHFRCRICategory',\n",
       " 'DMinsulinRCRICategory',\n",
       " 'CreatinineRCRICategory',\n",
       " 'GradeofKidneyCategory',\n",
       " 'RDW15.7',\n",
       " 'ASAcategorybinned',\n",
       " 'Chinese',\n",
       " 'Indian',\n",
       " 'Malay']"
      ]
     },
     "execution_count": 8,
     "metadata": {},
     "output_type": "execute_result"
    }
   ],
   "source": [
    "num_cols"
   ]
  },
  {
   "cell_type": "code",
   "execution_count": 9,
   "metadata": {},
   "outputs": [
    {
     "data": {
      "text/plain": [
       "['ICUAdmgt24h', 'thirtydaymortality', 'Mortality']"
      ]
     },
     "execution_count": 9,
     "metadata": {},
     "output_type": "execute_result"
    }
   ],
   "source": [
    "target_cols"
   ]
  },
  {
   "cell_type": "code",
   "execution_count": 10,
   "metadata": {},
   "outputs": [
    {
     "name": "stdout",
     "output_type": "stream",
     "text": [
      "Percentage of missing data in target columns:\n",
      "ICUAdmgt24h           0.0\n",
      "thirtydaymortality    0.0\n",
      "Mortality             0.0\n",
      "dtype: float64\n",
      "\n",
      "Percentage of missing data in categorical columns:\n",
      "TransfusionIntraandpostopCategory    0.0\n",
      "dtype: float64\n",
      "\n",
      "Percentage of missing data in numerical columns:\n",
      "GENDER                           0.000000\n",
      "RCRI score                      30.866838\n",
      "Anemia category                  0.000000\n",
      "PreopEGFRMDRD                    0.000000\n",
      "DaysbetweenDeathandoperation    92.334965\n",
      "Preoptransfusionwithin30days     0.000000\n",
      "Intraop                          0.000000\n",
      "Postopwithin30days               0.000000\n",
      "Transfusionintraandpostop        0.000000\n",
      "AnaestypeCategory                0.000000\n",
      "PriorityCategory                 0.000000\n",
      "AGEcategory                      0.000000\n",
      "SurgRiskCategory                 0.000000\n",
      "CVARCRICategory                  0.000000\n",
      "IHDRCRICategory                  0.000000\n",
      "CHFRCRICategory                  0.000000\n",
      "DMinsulinRCRICategory            0.000000\n",
      "CreatinineRCRICategory           0.000000\n",
      "GradeofKidneyCategory            0.000000\n",
      "RDW15.7                          0.000000\n",
      "ASAcategorybinned                4.933469\n",
      "Chinese                          0.000000\n",
      "Indian                           0.000000\n",
      "Malay                            0.000000\n",
      "dtype: float64\n"
     ]
    }
   ],
   "source": [
    "# Function to calculate the percentage of missing data for given columns\n",
    "def calculate_missing_data_percentage(data, columns):\n",
    "    missing_data = data[columns].isnull().mean() * 100\n",
    "    return missing_data\n",
    "\n",
    "# Calculate the percentage of missing data for target columns\n",
    "missing_target_cols = calculate_missing_data_percentage(data, target_cols)\n",
    "print(\"Percentage of missing data in target columns:\")\n",
    "print(missing_target_cols)\n",
    "\n",
    "# Calculate the percentage of missing data for categorical columns\n",
    "missing_cat_cols = calculate_missing_data_percentage(data, cat_cols)\n",
    "print(\"\\nPercentage of missing data in categorical columns:\")\n",
    "print(missing_cat_cols)\n",
    "\n",
    "# Calculate the percentage of missing data for numerical columns\n",
    "missing_num_cols = calculate_missing_data_percentage(data, num_cols)\n",
    "print(\"\\nPercentage of missing data in numerical columns:\")\n",
    "print(missing_num_cols)\n"
   ]
  },
  {
   "cell_type": "code",
   "execution_count": 11,
   "metadata": {},
   "outputs": [],
   "source": [
    "mortality_significant_columns = [\n",
    "    'AGEcategory',\n",
    "    'SurgRiskCategory',\n",
    "    'Chinese',\n",
    "    'Indian',\n",
    "    'Malay',\n",
    "    'Anemia category',\n",
    "    'GradeofKidneyCategory',\n",
    "    'RDW15.7',\n",
    "    'CVARCRICategory',\n",
    "    'IHDRCRICategory',\n",
    "    'CHFRCRICategory',\n",
    "    'DMinsulinRCRICategory',\n",
    "    'ASAcategorybinned',\n",
    "    'GENDER'\n",
    "]"
   ]
  },
  {
   "cell_type": "markdown",
   "metadata": {},
   "source": [
    "## Statistical Tests"
   ]
  },
  {
   "cell_type": "markdown",
   "metadata": {},
   "source": [
    "### Chi-Squared Test"
   ]
  },
  {
   "cell_type": "code",
   "execution_count": 12,
   "metadata": {},
   "outputs": [],
   "source": [
    "def chi2_test(data, col1, col2):\n",
    "    contingency_table = pd.crosstab(data[col1].astype(int), data[col2].astype(int))\n",
    "\n",
    "    # print(\"Contingency Table:\")\n",
    "    # print(contingency_table)\n",
    "    \n",
    "    # Perform the chi-squared test\n",
    "    chi2, p, dof, expected = stats.chi2_contingency(contingency_table)\n",
    "    \n",
    "    # Output the results\n",
    "    print(f\"Chi-squared Test Statistic: {chi2}\")\n",
    "    print(f\"P-value: {p}\")\n",
    "    print(f\"Degrees of Freedom: {dof}\")\n",
    "    print(\"Expected Frequencies Table:\")\n",
    "    print(expected)\n",
    "\n",
    "    # Interpretation\n",
    "    alpha = 0.05\n",
    "    if p < alpha:\n",
    "        print(\"The result is statistically significant, suggesting an association between the variables.\")\n",
    "    else:\n",
    "        print(\"The result is not statistically significant, suggesting no association between the variables.\")"
   ]
  },
  {
   "cell_type": "markdown",
   "metadata": {},
   "source": [
    "### Variance Inflation Factor (Check for Multicollinearity)"
   ]
  },
  {
   "cell_type": "code",
   "execution_count": 13,
   "metadata": {},
   "outputs": [],
   "source": [
    "def vif(columns, df):\n",
    "    # Assuming X is your independent variables dataframe\n",
    "    X = df[columns]  # Add more predictors if needed    \n",
    "    X.dropna(inplace=True)\n",
    "    X = X.astype(int)\n",
    "    X = sm.add_constant(X)\n",
    "\n",
    "    # Calculating VIF for each predictor\n",
    "    vif_data = pd.DataFrame()\n",
    "    vif_data[\"feature\"] = X.columns\n",
    "    vif_data[\"VIF\"] = [variance_inflation_factor(X.values, i) for i in range(len(X.columns))]\n",
    "\n",
    "    print(vif_data)"
   ]
  },
  {
   "cell_type": "markdown",
   "metadata": {},
   "source": [
    "### Logistic Regression and Lowess Curve (Linearity)"
   ]
  },
  {
   "cell_type": "code",
   "execution_count": 14,
   "metadata": {},
   "outputs": [],
   "source": [
    "def logistic_reg(data, x_col, y_col):\n",
    "    # Fit the logistic regression model\n",
    "    df = data.copy()\n",
    "    X = df[x_col]\n",
    "    X = sm.add_constant(X)\n",
    "    y = df[y_col]\n",
    "\n",
    "    model = sm.Logit(y, X)\n",
    "    result = model.fit()\n",
    "\n",
    "    print(result.summary())\n",
    "\n",
    "    # Calculate the predicted probabilities\n",
    "    df['predicted_prob'] = result.predict(X)\n",
    "\n",
    "    # Calculate the logit (log odds)\n",
    "    df['logit'] = np.log(df['predicted_prob'] / (1 - df['predicted_prob']))\n",
    "\n",
    "    # Loop through each predictor and plot\n",
    "    for predictor in x_col:\n",
    "        sns.regplot(x=df[predictor], y=df[y_col], lowess=True, line_kws={'color': 'red'})\n",
    "        plt.xlabel(predictor)\n",
    "        plt.ylabel('Outcome')\n",
    "        plt.title(f'Lowess Smoothing for {predictor}')\n",
    "        plt.show()"
   ]
  },
  {
   "cell_type": "markdown",
   "metadata": {},
   "source": [
    "## Additional Features"
   ]
  },
  {
   "cell_type": "code",
   "execution_count": 15,
   "metadata": {},
   "outputs": [],
   "source": [
    "df = data.copy()"
   ]
  },
  {
   "cell_type": "markdown",
   "metadata": {},
   "source": [
    "### 1. **RCRI score**\n",
    "- ***Definition:*** *Revised Cardiac Risk Index. Six independent predictors of complications were identified and included in a Revised Cardiac Risk Index: high-risk type of surgery, history of ischemic heart disease, history of congestive heart failure, history of cerebrovascular disease, preoperative treatment with insulin, and preoperative serum creatinine >2.0 mg/dL.*\n",
    "- **Paper**: https://pubmed.ncbi.nlm.nih.gov/10477528/\n",
    "- Important predictors (based on paper): 'SurgRiskCategory', 'CVARCRICategory', 'IHDRCRICategory', 'CHFRCRICategory', 'DMinsulinRCRICategory', 'CreatinineRCRICategory', 'Age'\n",
    "- **Suggestion:** \n",
    "  - Since RCRI score is dependant on the above important predictors, we do not include it in modelling as it may lead to multi-collinearity.\n",
    "  - Impute based on ML strategy - Training RF model on important predictors & running inference on RCRI_score."
   ]
  },
  {
   "cell_type": "code",
   "execution_count": 16,
   "metadata": {},
   "outputs": [],
   "source": [
    "# Convert float values to strings and remove decimal places\n",
    "data['RCRI score'] = data['RCRI score'].astype('Int64')\n",
    "data['RCRI score'] = data['RCRI score'].astype(str)"
   ]
  },
  {
   "cell_type": "code",
   "execution_count": 17,
   "metadata": {},
   "outputs": [
    {
     "data": {
      "text/plain": [
       "<Axes: >"
      ]
     },
     "execution_count": 17,
     "metadata": {},
     "output_type": "execute_result"
    },
    {
     "data": {
      "image/png": "[encoded data removed]",
      "text/plain": [
       "<Figure size 640x480 with 1 Axes>"
      ]
     },
     "metadata": {},
     "output_type": "display_data"
    }
   ],
   "source": [
    "data['RCRI score'].hist(bins=10)"
   ]
  },
  {
   "cell_type": "code",
   "execution_count": 18,
   "metadata": {},
   "outputs": [
    {
     "data": {
      "text/plain": [
       "RCRI score\n",
       "0       33558\n",
       "<NA>    21504\n",
       "1       11367\n",
       "2        2367\n",
       "3         670\n",
       "4         166\n",
       "5          33\n",
       "6           2\n",
       "Name: count, dtype: int64"
      ]
     },
     "execution_count": 18,
     "metadata": {},
     "output_type": "execute_result"
    }
   ],
   "source": [
    "data['RCRI score'].value_counts()"
   ]
  },
  {
   "cell_type": "code",
   "execution_count": 19,
   "metadata": {},
   "outputs": [],
   "source": [
    "# Replace '<NA>' strings with NaN in the 'RCRI_score' column\n",
    "data['RCRI score'] = data['RCRI score'].replace('<NA>', np.nan)"
   ]
  },
  {
   "cell_type": "code",
   "execution_count": 20,
   "metadata": {},
   "outputs": [
    {
     "data": {
      "text/html": [
       "<div>\n",
       "<style scoped>\n",
       "    .dataframe tbody tr th:only-of-type {\n",
       "        vertical-align: middle;\n",
       "    }\n",
       "\n",
       "    .dataframe tbody tr th {\n",
       "        vertical-align: top;\n",
       "    }\n",
       "\n",
       "    .dataframe thead th {\n",
       "        text-align: right;\n",
       "    }\n",
       "</style>\n",
       "<table border=\"1\" class=\"dataframe\">\n",
       "  <thead>\n",
       "    <tr style=\"text-align: right;\">\n",
       "      <th></th>\n",
       "      <th>RCRI score</th>\n",
       "      <th>AGEcategory</th>\n",
       "      <th>SurgRiskCategory</th>\n",
       "      <th>CHFRCRICategory</th>\n",
       "      <th>CVARCRICategory</th>\n",
       "      <th>IHDRCRICategory</th>\n",
       "      <th>DMinsulinRCRICategory</th>\n",
       "      <th>CreatinineRCRICategory</th>\n",
       "    </tr>\n",
       "  </thead>\n",
       "  <tbody>\n",
       "    <tr>\n",
       "      <th>4</th>\n",
       "      <td>0</td>\n",
       "      <td>3</td>\n",
       "      <td>0</td>\n",
       "      <td>0</td>\n",
       "      <td>0</td>\n",
       "      <td>0</td>\n",
       "      <td>0</td>\n",
       "      <td>0</td>\n",
       "    </tr>\n",
       "    <tr>\n",
       "      <th>8</th>\n",
       "      <td>0</td>\n",
       "      <td>2</td>\n",
       "      <td>1</td>\n",
       "      <td>0</td>\n",
       "      <td>0</td>\n",
       "      <td>0</td>\n",
       "      <td>0</td>\n",
       "      <td>0</td>\n",
       "    </tr>\n",
       "    <tr>\n",
       "      <th>9</th>\n",
       "      <td>1</td>\n",
       "      <td>2</td>\n",
       "      <td>1</td>\n",
       "      <td>0</td>\n",
       "      <td>0</td>\n",
       "      <td>0</td>\n",
       "      <td>0</td>\n",
       "      <td>0</td>\n",
       "    </tr>\n",
       "    <tr>\n",
       "      <th>10</th>\n",
       "      <td>0</td>\n",
       "      <td>2</td>\n",
       "      <td>0</td>\n",
       "      <td>0</td>\n",
       "      <td>0</td>\n",
       "      <td>0</td>\n",
       "      <td>0</td>\n",
       "      <td>0</td>\n",
       "    </tr>\n",
       "    <tr>\n",
       "      <th>11</th>\n",
       "      <td>1</td>\n",
       "      <td>1</td>\n",
       "      <td>1</td>\n",
       "      <td>0</td>\n",
       "      <td>0</td>\n",
       "      <td>0</td>\n",
       "      <td>0</td>\n",
       "      <td>0</td>\n",
       "    </tr>\n",
       "  </tbody>\n",
       "</table>\n",
       "</div>"
      ],
      "text/plain": [
       "   RCRI score  AGEcategory  SurgRiskCategory  CHFRCRICategory  \\\n",
       "4           0            3                 0                0   \n",
       "8           0            2                 1                0   \n",
       "9           1            2                 1                0   \n",
       "10          0            2                 0                0   \n",
       "11          1            1                 1                0   \n",
       "\n",
       "    CVARCRICategory  IHDRCRICategory  DMinsulinRCRICategory  \\\n",
       "4                 0                0                      0   \n",
       "8                 0                0                      0   \n",
       "9                 0                0                      0   \n",
       "10                0                0                      0   \n",
       "11                0                0                      0   \n",
       "\n",
       "    CreatinineRCRICategory  \n",
       "4                        0  \n",
       "8                        0  \n",
       "9                        0  \n",
       "10                       0  \n",
       "11                       0  "
      ]
     },
     "execution_count": 20,
     "metadata": {},
     "output_type": "execute_result"
    }
   ],
   "source": [
    "subset = data[['RCRI score', 'AGEcategory', 'SurgRiskCategory', 'CHFRCRICategory', 'CVARCRICategory', 'IHDRCRICategory', 'DMinsulinRCRICategory', 'CreatinineRCRICategory']]\n",
    "subset1 = subset.loc[(~subset['RCRI score'].isnull())]\n",
    "subset1.head()"
   ]
  },
  {
   "cell_type": "code",
   "execution_count": 21,
   "metadata": {},
   "outputs": [],
   "source": [
    "df = data.copy()"
   ]
  },
  {
   "cell_type": "code",
   "execution_count": 22,
   "metadata": {},
   "outputs": [
    {
     "data": {
      "text/plain": [
       "np.int64(21504)"
      ]
     },
     "execution_count": 22,
     "metadata": {},
     "output_type": "execute_result"
    }
   ],
   "source": [
    "data['RCRI score'].isnull().sum()"
   ]
  },
  {
   "cell_type": "code",
   "execution_count": 23,
   "metadata": {},
   "outputs": [
    {
     "data": {
      "text/plain": [
       "Index(['RCRI score', 'AGEcategory', 'SurgRiskCategory', 'CHFRCRICategory',\n",
       "       'CVARCRICategory', 'IHDRCRICategory', 'DMinsulinRCRICategory',\n",
       "       'CreatinineRCRICategory'],\n",
       "      dtype='object')"
      ]
     },
     "execution_count": 23,
     "metadata": {},
     "output_type": "execute_result"
    }
   ],
   "source": [
    "subset1.columns"
   ]
  },
  {
   "cell_type": "code",
   "execution_count": 24,
   "metadata": {},
   "outputs": [],
   "source": [
    "def impute_rcri_score(subset, data):\n",
    "    # Rename the column 'RCRI score' to 'RCRI_score' in both dataframes\n",
    "    subset.rename(columns={'RCRI score': 'RCRI_score'}, inplace=True)\n",
    "    data.rename(columns={'RCRI score': 'RCRI_score'}, inplace=True)\n",
    "    \n",
    "    # Define the features and target column\n",
    "    features = ['AGEcategory', 'SurgRiskCategory', 'CHFRCRICategory',\n",
    "       'CVARCRICategory', 'IHDRCRICategory', 'DMinsulinRCRICategory',\n",
    "       'CreatinineRCRICategory']\n",
    "    target_col = 'RCRI_score'\n",
    "    \n",
    "    # Separate features and target in subset\n",
    "    X = subset[features]\n",
    "    y = subset[target_col]\n",
    "    \n",
    "    # Define the Random Forest model with class weights\n",
    "    rf = RandomForestClassifier(class_weight='balanced', random_state=42)\n",
    "    \n",
    "    # Split the data into training and validation sets\n",
    "    X_train, X_val, y_train, y_val = train_test_split(X, y, test_size=0.2, random_state=42)\n",
    "    \n",
    "    # Train the Random Forest model\n",
    "    rf.fit(X_train, y_train)\n",
    "    \n",
    "    # Evaluate the model on the validation set\n",
    "    y_val_pred = rf.predict(X_val)\n",
    "    print(\"Validation Set Classification Report:\")\n",
    "    print(classification_report(y_val, y_val_pred))\n",
    "    \n",
    "    # Identify rows with missing 'RCRI_score' in the data\n",
    "    missing_rcri_score = data[target_col].isnull()\n",
    "    \n",
    "    # Prepare features for rows with missing 'RCRI_score'\n",
    "    X_missing = data.loc[missing_rcri_score, features]\n",
    "    \n",
    "    # Impute the missing values using the trained Random Forest model\n",
    "    imputed_rcri_scores = rf.predict(X_missing)\n",
    "    \n",
    "    # Impute the missing values in the original data\n",
    "    data.loc[missing_rcri_score, target_col] = imputed_rcri_scores\n",
    "    \n",
    "    return data"
   ]
  },
  {
   "cell_type": "code",
   "execution_count": 25,
   "metadata": {},
   "outputs": [
    {
     "name": "stderr",
     "output_type": "stream",
     "text": [
      "C:\\Users\\danie\\AppData\\Local\\Temp\\ipykernel_10208\\2005745821.py:3: SettingWithCopyWarning: \n",
      "A value is trying to be set on a copy of a slice from a DataFrame\n",
      "\n",
      "See the caveats in the documentation: https://pandas.pydata.org/pandas-docs/stable/user_guide/indexing.html#returning-a-view-versus-a-copy\n",
      "  subset.rename(columns={'RCRI score': 'RCRI_score'}, inplace=True)\n"
     ]
    },
    {
     "name": "stdout",
     "output_type": "stream",
     "text": [
      "Validation Set Classification Report:\n",
      "              precision    recall  f1-score   support\n",
      "\n",
      "           0       0.90      0.74      0.81      6698\n",
      "           1       0.43      0.58      0.49      2296\n",
      "           2       0.44      0.74      0.55       477\n",
      "           3       0.43      0.58      0.50       129\n",
      "           4       0.40      0.58      0.47        31\n",
      "           5       0.33      1.00      0.50         2\n",
      "\n",
      "    accuracy                           0.70      9633\n",
      "   macro avg       0.49      0.70      0.56      9633\n",
      "weighted avg       0.76      0.70      0.72      9633\n",
      "\n"
     ]
    }
   ],
   "source": [
    "data = impute_rcri_score(subset1, data)"
   ]
  },
  {
   "cell_type": "code",
   "execution_count": 26,
   "metadata": {},
   "outputs": [
    {
     "data": {
      "text/plain": [
       "np.int64(21504)"
      ]
     },
     "execution_count": 26,
     "metadata": {},
     "output_type": "execute_result"
    }
   ],
   "source": [
    "df['RCRI score'].isnull().sum()"
   ]
  },
  {
   "cell_type": "code",
   "execution_count": 27,
   "metadata": {},
   "outputs": [
    {
     "data": {
      "text/plain": [
       "RCRI score\n",
       "0    33558\n",
       "1    11367\n",
       "2     2367\n",
       "3      670\n",
       "4      166\n",
       "5       33\n",
       "6        2\n",
       "Name: count, dtype: int64"
      ]
     },
     "execution_count": 27,
     "metadata": {},
     "output_type": "execute_result"
    }
   ],
   "source": [
    "df['RCRI score'].value_counts()"
   ]
  },
  {
   "cell_type": "code",
   "execution_count": 28,
   "metadata": {},
   "outputs": [
    {
     "data": {
      "text/plain": [
       "np.int64(0)"
      ]
     },
     "execution_count": 28,
     "metadata": {},
     "output_type": "execute_result"
    }
   ],
   "source": [
    "data['RCRI_score'].isnull().sum()"
   ]
  },
  {
   "cell_type": "code",
   "execution_count": 29,
   "metadata": {},
   "outputs": [
    {
     "data": {
      "text/plain": [
       "RCRI_score\n",
       "0    48719\n",
       "1    17351\n",
       "2     2708\n",
       "3      685\n",
       "4      169\n",
       "5       33\n",
       "6        2\n",
       "Name: count, dtype: int64"
      ]
     },
     "execution_count": 29,
     "metadata": {},
     "output_type": "execute_result"
    }
   ],
   "source": [
    "data['RCRI_score'].value_counts()"
   ]
  },
  {
   "cell_type": "code",
   "execution_count": 30,
   "metadata": {},
   "outputs": [
    {
     "data": {
      "text/plain": [
       "Mortality\n",
       "0    64327\n",
       "1     5340\n",
       "Name: count, dtype: int64"
      ]
     },
     "execution_count": 30,
     "metadata": {},
     "output_type": "execute_result"
    }
   ],
   "source": [
    "data.Mortality.value_counts()"
   ]
  },
  {
   "cell_type": "code",
   "execution_count": 31,
   "metadata": {},
   "outputs": [
    {
     "name": "stderr",
     "output_type": "stream",
     "text": [
      "C:\\Users\\danie\\AppData\\Local\\Temp\\ipykernel_10208\\581674317.py:4: SettingWithCopyWarning: \n",
      "A value is trying to be set on a copy of a slice from a DataFrame\n",
      "\n",
      "See the caveats in the documentation: https://pandas.pydata.org/pandas-docs/stable/user_guide/indexing.html#returning-a-view-versus-a-copy\n",
      "  X.dropna(inplace=True)\n"
     ]
    },
    {
     "name": "stdout",
     "output_type": "stream",
     "text": [
      "                  feature       VIF\n",
      "0                   const  4.222498\n",
      "1              RCRI_score  3.159228\n",
      "2             AGEcategory  1.094808\n",
      "3        SurgRiskCategory  1.361241\n",
      "4         CHFRCRICategory  1.173559\n",
      "5         CVARCRICategory  1.196874\n",
      "6         IHDRCRICategory  1.584391\n",
      "7   DMinsulinRCRICategory  1.253043\n",
      "8  CreatinineRCRICategory  1.385521\n"
     ]
    }
   ],
   "source": [
    "vif(['RCRI_score', 'AGEcategory', 'SurgRiskCategory', 'CHFRCRICategory', 'CVARCRICategory', 'IHDRCRICategory', 'DMinsulinRCRICategory', 'CreatinineRCRICategory'], data)"
   ]
  },
  {
   "cell_type": "code",
   "execution_count": 32,
   "metadata": {},
   "outputs": [
    {
     "data": {
      "text/plain": [
       "RCRI_score\n",
       "0    48719\n",
       "1    17351\n",
       "2     2708\n",
       "3      685\n",
       "4      169\n",
       "5       33\n",
       "6        2\n",
       "Name: count, dtype: int64"
      ]
     },
     "execution_count": 32,
     "metadata": {},
     "output_type": "execute_result"
    }
   ],
   "source": [
    "data['RCRI_score'].value_counts()"
   ]
  },
  {
   "cell_type": "code",
   "execution_count": 33,
   "metadata": {},
   "outputs": [
    {
     "name": "stdout",
     "output_type": "stream",
     "text": [
      "Chi-squared Test Statistic: 2805.31972522095\n",
      "P-value: 0.0\n",
      "Degrees of Freedom: 6\n",
      "Expected Frequencies Table:\n",
      "[[4.49846716e+04 3.73432845e+03]\n",
      " [1.60210398e+04 1.32996024e+03]\n",
      " [2.50043085e+03 2.07569150e+02]\n",
      " [6.32494510e+02 5.25054904e+01]\n",
      " [1.56046091e+02 1.29539093e+01]\n",
      " [3.04705384e+01 2.52946158e+00]\n",
      " [1.84669930e+00 1.53300702e-01]]\n",
      "The result is statistically significant, suggesting an association between the variables.\n"
     ]
    }
   ],
   "source": [
    "chi2_test(data, 'RCRI_score', 'Mortality')"
   ]
  },
  {
   "cell_type": "markdown",
   "metadata": {},
   "source": [
    "### 2. **Preoperative Estimated Glomerular Filtration Rate using the Modification of Diet in Renal Disease (PreopEGFRMDRD)**\n",
    "- **Definition:** Estimated glomerular filtration rate (eGFR), describing filtrate flow through the kidneys, is a universal surrogate indicator for assessing renal function. It has been widely used in the clinical diagnosis of chronic kidney disease (CKD).\n",
    "- The PreopEGFRMDRD is typically measured in mL/min/1.73m² and is used to assess kidney function. Normal values generally range from 90 to 120 mL/min/1.73m², with lower values indicating impaired kidney function.\n",
    "- Paper: https://www.ncbi.nlm.nih.gov/pmc/articles/PMC7936476/\n",
    "- **Insights:** In this study, they confirmed an independent nonlinear relationship between preop-eGFR and postoperative 30-day mortality. A stable U-shaped trend can be seen in this relationship. When preop-eGFR ≤ 98.688 mL/min/1.73 m2, the 30-day mortality would be decreased by 1.6% for each additional unit of preop-eGFR. While preop-eGFR > 98.688 mL/min/1.73 m2, there would be a 1.3% increase of 30-day mortality rate for each additional unit of preop-eGFR. CHF, DM, IHD and anemia complications (CHF, DM, IHD acting as a promoting factor, while anemia as an inhibitory factor) interfere with the effect of preop-eGFR on postoperative 30-day mortality.\n",
    "- The paper excluded all cases of missing data for preop-eGFR and outliers.\n",
    "- **Suggestion:** Based on the findings in the paper, we will classify the feature into two classes: preop-eGFR ≤ 98.688 mL/min/1.73 m2 (0) and preop-eGFR > 98.688 mL/min/1.73 m2 (1)"
   ]
  },
  {
   "cell_type": "code",
   "execution_count": 34,
   "metadata": {},
   "outputs": [
    {
     "data": {
      "text/plain": [
       "Index(['GENDER', 'RCRI_score', 'Anemia category', 'PreopEGFRMDRD',\n",
       "       'DaysbetweenDeathandoperation', 'Preoptransfusionwithin30days',\n",
       "       'Intraop', 'Postopwithin30days', 'Transfusionintraandpostop',\n",
       "       'AnaestypeCategory', 'PriorityCategory',\n",
       "       'TransfusionIntraandpostopCategory', 'AGEcategory', 'Mortality',\n",
       "       'thirtydaymortality', 'SurgRiskCategory', 'CVARCRICategory',\n",
       "       'IHDRCRICategory', 'CHFRCRICategory', 'DMinsulinRCRICategory',\n",
       "       'CreatinineRCRICategory', 'GradeofKidneyCategory', 'RDW15.7',\n",
       "       'ASAcategorybinned', 'ICUAdmgt24h', 'Chinese', 'Indian', 'Malay'],\n",
       "      dtype='object')"
      ]
     },
     "execution_count": 34,
     "metadata": {},
     "output_type": "execute_result"
    }
   ],
   "source": [
    "data.columns"
   ]
  },
  {
   "cell_type": "code",
   "execution_count": 35,
   "metadata": {},
   "outputs": [],
   "source": [
    "data=data.dropna(subset=['PreopEGFRMDRD'])"
   ]
  },
  {
   "cell_type": "code",
   "execution_count": 36,
   "metadata": {},
   "outputs": [
    {
     "name": "stdout",
     "output_type": "stream",
     "text": [
      "   PreopEGFRMDRD  eGFR_Class\n",
      "2     152.538570           1\n",
      "3     117.231496           1\n",
      "4      98.651255           0\n",
      "5     104.487306           1\n",
      "6      72.669742           0\n"
     ]
    }
   ],
   "source": [
    "threshold = 98.688\n",
    "\n",
    "# Create a new binary feature based on the threshold\n",
    "data['eGFR_Class'] = data['PreopEGFRMDRD'].apply(lambda x: 1 if x > threshold else 0)\n",
    "\n",
    "# Print the first few rows to verify the new feature\n",
    "print(data[['PreopEGFRMDRD', 'eGFR_Class']].head())"
   ]
  },
  {
   "cell_type": "code",
   "execution_count": 37,
   "metadata": {},
   "outputs": [
    {
     "data": {
      "image/png": "[encoded data removed]",
      "text/plain": [
       "<Figure size 800x600 with 1 Axes>"
      ]
     },
     "metadata": {},
     "output_type": "display_data"
    }
   ],
   "source": [
    "# Visualize the distribution of the new binary feature\n",
    "plt.figure(figsize=(8, 6))\n",
    "data['eGFR_Class'].value_counts().plot(kind='bar')\n",
    "plt.title('Distribution of eGFR_Class')\n",
    "plt.xlabel('eGFR Class')\n",
    "plt.ylabel('Count')\n",
    "plt.show()"
   ]
  },
  {
   "cell_type": "code",
   "execution_count": 38,
   "metadata": {},
   "outputs": [],
   "source": [
    "data['PreopEGFRMDRD'] = data['eGFR_Class']\n",
    "data.drop(columns=['eGFR_Class'], inplace=True)"
   ]
  },
  {
   "cell_type": "code",
   "execution_count": 39,
   "metadata": {},
   "outputs": [
    {
     "name": "stderr",
     "output_type": "stream",
     "text": [
      "C:\\Users\\danie\\AppData\\Local\\Temp\\ipykernel_10208\\581674317.py:4: SettingWithCopyWarning: \n",
      "A value is trying to be set on a copy of a slice from a DataFrame\n",
      "\n",
      "See the caveats in the documentation: https://pandas.pydata.org/pandas-docs/stable/user_guide/indexing.html#returning-a-view-versus-a-copy\n",
      "  X.dropna(inplace=True)\n"
     ]
    },
    {
     "name": "stdout",
     "output_type": "stream",
     "text": [
      "                  feature        VIF\n",
      "0                   const  49.681184\n",
      "1             AGEcategory   1.449098\n",
      "2        SurgRiskCategory   1.066804\n",
      "3                 Chinese   2.499203\n",
      "4                  Indian   1.781012\n",
      "5                   Malay   1.875836\n",
      "6         Anemia category   1.435052\n",
      "7   GradeofKidneyCategory   3.360468\n",
      "8                 RDW15.7   1.255222\n",
      "9         CVARCRICategory   1.047385\n",
      "10        IHDRCRICategory   1.187558\n",
      "11        CHFRCRICategory   1.083906\n",
      "12  DMinsulinRCRICategory   1.071112\n",
      "13      ASAcategorybinned   1.472165\n",
      "14                 GENDER   1.071524\n",
      "15          PreopEGFRMDRD   3.150406\n"
     ]
    }
   ],
   "source": [
    "vif(mortality_significant_columns+['PreopEGFRMDRD'], df)"
   ]
  },
  {
   "cell_type": "code",
   "execution_count": 40,
   "metadata": {},
   "outputs": [
    {
     "name": "stdout",
     "output_type": "stream",
     "text": [
      "Chi-squared Test Statistic: 497.30975629049544\n",
      "P-value: 3.658610314669082e-110\n",
      "Degrees of Freedom: 1\n",
      "Expected Frequencies Table:\n",
      "[[34964.48116038  2902.51883962]\n",
      " [29362.51883962  2437.48116038]]\n",
      "The result is statistically significant, suggesting an association between the variables.\n"
     ]
    }
   ],
   "source": [
    "chi2_test(data, 'PreopEGFRMDRD', 'Mortality')"
   ]
  },
  {
   "cell_type": "code",
   "execution_count": 41,
   "metadata": {},
   "outputs": [],
   "source": [
    "mortality_significant_columns.append('PreopEGFRMDRD')"
   ]
  },
  {
   "cell_type": "markdown",
   "metadata": {},
   "source": [
    "### **3. Perioperative transfusion (Preoptransfusionwithin30days, Intraop, Postopwithin30days)**\n",
    "- **Definition:** Perioperative blood transfusions are often associated with an increased risk of postoperative complications, including infection, cardiovascular events, and increased mortality. This is particularly significant in patients undergoing major surgeries.\n",
    "- **Paper:** https://pubmed.ncbi.nlm.nih.gov/15784356/\n",
    "- **Insights:** The study found that patients who received peri-operative RBC transfusions had higher 30-day and 1-year mortality rates compared to those who did not receive transfusions.\n",
    "- Kaplan-Meier survival curves showed a clear survival disadvantage for patients receiving RBC transfusions. This effect was observed both at 30 days and at 1 year post-surgery.\n",
    "- **Paper:** https://pubs.asahq.org/anesthesiology/article/114/2/283/10961/Association-between-Intraoperative-Blood\n",
    "- **Insights:** This multicenter observational study suggests that intraoperative blood transfusion is associated with a higher risk of mortality and morbidity. It is unknown whether this association is due to the adverse effects of blood transfusion or is, instead, the result of increased blood loss in the patients receiving blood. The study emphasizes the importance of considering intraoperative transfusions as a significant risk factor in predicting short-term outcomes after surgery.\n",
    "- **Paper:** https://jamanetwork.com/journals/jama/article-abstract/187160\n",
    "- **Insights:** Perioperative transfusion in patients with hemoglobin levels 80 g/L (8.0 g/dL) or higher did not appear to influence the risk of 30- or 90-day mortality in this elderly population. At hemoglobin concentrations of less than 80 g/L (8.0 g/dL), 90.5% of patients received a transfusion, precluding further analysis of the association of transfusion and mortality.\n",
    "- **Suggestions:** \n",
    "  - Classify the field as 1 and 0 if the patient recieved Pre-op and Post-Op transfusion.\n",
    "  - Group all three transfusion columns and name the feature as Perioperativetransfusion (1, 0), presence of a single transfusion using OR operation.\n",
    "  - Need to make a decision of whether the field should be used as research papers support both arguments, will need to check from a statistical view-point."
   ]
  },
  {
   "cell_type": "code",
   "execution_count": 42,
   "metadata": {},
   "outputs": [
    {
     "data": {
      "text/plain": [
       "Preoptransfusionwithin30days\n",
       "0.0     67882\n",
       "1.0       958\n",
       "2.0       436\n",
       "3.0       176\n",
       "4.0        73\n",
       "5.0        44\n",
       "6.0        23\n",
       "7.0        23\n",
       "8.0        19\n",
       "10.0        7\n",
       "11.0        7\n",
       "9.0         6\n",
       "13.0        5\n",
       "14.0        4\n",
       "17.0        1\n",
       "12.0        1\n",
       "20.0        1\n",
       "21.0        1\n",
       "Name: count, dtype: int64"
      ]
     },
     "execution_count": 42,
     "metadata": {},
     "output_type": "execute_result"
    }
   ],
   "source": [
    "data['Preoptransfusionwithin30days'].value_counts()"
   ]
  },
  {
   "cell_type": "code",
   "execution_count": 43,
   "metadata": {},
   "outputs": [
    {
     "data": {
      "text/plain": [
       "Intraop\n",
       "0.0    64965\n",
       "1.0     4702\n",
       "Name: count, dtype: int64"
      ]
     },
     "execution_count": 43,
     "metadata": {},
     "output_type": "execute_result"
    }
   ],
   "source": [
    "data['Intraop'].value_counts()"
   ]
  },
  {
   "cell_type": "code",
   "execution_count": 44,
   "metadata": {},
   "outputs": [
    {
     "data": {
      "text/plain": [
       "Postopwithin30days\n",
       "0.0     68738\n",
       "1.0       595\n",
       "2.0       179\n",
       "3.0        61\n",
       "4.0        34\n",
       "5.0        23\n",
       "6.0        12\n",
       "7.0         9\n",
       "8.0         5\n",
       "12.0        3\n",
       "9.0         3\n",
       "15.0        2\n",
       "23.0        1\n",
       "16.0        1\n",
       "10.0        1\n",
       "Name: count, dtype: int64"
      ]
     },
     "execution_count": 44,
     "metadata": {},
     "output_type": "execute_result"
    }
   ],
   "source": [
    "data['Postopwithin30days'].value_counts()"
   ]
  },
  {
   "cell_type": "code",
   "execution_count": 45,
   "metadata": {},
   "outputs": [],
   "source": [
    "transfusion_cols = ['Preoptransfusionwithin30days', 'Intraop', 'Postopwithin30days']"
   ]
  },
  {
   "cell_type": "code",
   "execution_count": 46,
   "metadata": {},
   "outputs": [
    {
     "data": {
      "image/png": "[encoded data removed]",
      "text/plain": [
       "<Figure size 1000x600 with 1 Axes>"
      ]
     },
     "metadata": {},
     "output_type": "display_data"
    }
   ],
   "source": [
    "# Histogram\n",
    "plt.figure(figsize=(10, 6))\n",
    "sns.histplot(data[transfusion_cols], bins=30, color='blue')\n",
    "plt.title('Distribution of Preoperative Transfusion Within 30 Days')\n",
    "plt.xlabel('Units of Blood Transfused')\n",
    "plt.ylabel('Frequency')\n",
    "plt.show()"
   ]
  },
  {
   "cell_type": "markdown",
   "metadata": {},
   "source": [
    "Multicollinearity: Check Variance Inflation Factor (VIF) values. If VIF values are significantly higher than 10, it may indicate problematic multicollinearity."
   ]
  },
  {
   "cell_type": "code",
   "execution_count": 47,
   "metadata": {},
   "outputs": [
    {
     "name": "stderr",
     "output_type": "stream",
     "text": [
      "C:\\Users\\danie\\AppData\\Local\\Temp\\ipykernel_10208\\581674317.py:4: SettingWithCopyWarning: \n",
      "A value is trying to be set on a copy of a slice from a DataFrame\n",
      "\n",
      "See the caveats in the documentation: https://pandas.pydata.org/pandas-docs/stable/user_guide/indexing.html#returning-a-view-versus-a-copy\n",
      "  X.dropna(inplace=True)\n"
     ]
    },
    {
     "name": "stdout",
     "output_type": "stream",
     "text": [
      "                         feature        VIF\n",
      "0                          const  18.648417\n",
      "1                    AGEcategory   1.472328\n",
      "2               SurgRiskCategory   1.113226\n",
      "3                        Chinese   2.500236\n",
      "4                         Indian   1.782070\n",
      "5                          Malay   1.876494\n",
      "6                Anemia category   1.532576\n",
      "7          GradeofKidneyCategory   2.138049\n",
      "8                        RDW15.7   1.262833\n",
      "9                CVARCRICategory   1.047419\n",
      "10               IHDRCRICategory   1.187505\n",
      "11               CHFRCRICategory   1.084946\n",
      "12         DMinsulinRCRICategory   1.072987\n",
      "13             ASAcategorybinned   1.484155\n",
      "14                        GENDER   1.075018\n",
      "15                 PreopEGFRMDRD   1.899802\n",
      "16  Preoptransfusionwithin30days   1.298857\n",
      "17                       Intraop   1.421473\n",
      "18            Postopwithin30days   1.180681\n"
     ]
    }
   ],
   "source": [
    "vif(mortality_significant_columns + transfusion_cols, data)"
   ]
  },
  {
   "cell_type": "markdown",
   "metadata": {},
   "source": [
    "Check linearity of the relationship between 'Preoptransfusionwithin30days' and 'Mortality'."
   ]
  },
  {
   "cell_type": "code",
   "execution_count": 48,
   "metadata": {},
   "outputs": [
    {
     "name": "stdout",
     "output_type": "stream",
     "text": [
      "Optimization terminated successfully.\n",
      "         Current function value: 0.258311\n",
      "         Iterations 7\n",
      "                           Logit Regression Results                           \n",
      "==============================================================================\n",
      "Dep. Variable:              Mortality   No. Observations:                69667\n",
      "Model:                          Logit   Df Residuals:                    69663\n",
      "Method:                           MLE   Df Model:                            3\n",
      "Date:                Tue, 13 Aug 2024   Pseudo R-squ.:                 0.04510\n",
      "Time:                        01:00:35   Log-Likelihood:                -17996.\n",
      "converged:                       True   LL-Null:                       -18846.\n",
      "Covariance Type:            nonrobust   LLR p-value:                     0.000\n",
      "================================================================================================\n",
      "                                   coef    std err          z      P>|z|      [0.025      0.975]\n",
      "------------------------------------------------------------------------------------------------\n",
      "const                           -2.6850      0.016   -167.351      0.000      -2.716      -2.654\n",
      "Preoptransfusionwithin30days     0.2020      0.022      9.209      0.000       0.159       0.245\n",
      "Intraop                          1.3291      0.044     30.245      0.000       1.243       1.415\n",
      "Postopwithin30days               0.2535      0.034      7.353      0.000       0.186       0.321\n",
      "================================================================================================\n"
     ]
    },
    {
     "name": "stderr",
     "output_type": "stream",
     "text": [
      "d:\\OneDrive - Singapore Management University\\SMU Singapore\\Academics\\Jul 2024\\Applied Healthcare Analytics\\CARES_Analytics\\venv\\Lib\\site-packages\\statsmodels\\nonparametric\\smoothers_lowess.py:226: RuntimeWarning: invalid value encountered in divide\n",
      "  res, _ = _lowess(y, x, x, np.ones_like(x),\n"
     ]
    },
    {
     "data": {
      "image/png": "[encoded data removed]",
      "text/plain": [
       "<Figure size 640x480 with 1 Axes>"
      ]
     },
     "metadata": {},
     "output_type": "display_data"
    },
    {
     "data": {
      "image/png": "[encoded data removed]",
      "text/plain": [
       "<Figure size 640x480 with 1 Axes>"
      ]
     },
     "metadata": {},
     "output_type": "display_data"
    },
    {
     "data": {
      "image/png": "[encoded data removed]",
      "text/plain": [
       "<Figure size 640x480 with 1 Axes>"
      ]
     },
     "metadata": {},
     "output_type": "display_data"
    }
   ],
   "source": [
    "logistic_reg(df, x_col=transfusion_cols, y_col='Mortality')"
   ]
  },
  {
   "cell_type": "markdown",
   "metadata": {},
   "source": [
    "Postopwithin30days has a non-linear relationship with Mortality."
   ]
  },
  {
   "cell_type": "code",
   "execution_count": 49,
   "metadata": {},
   "outputs": [],
   "source": [
    "data['Preoptransfusionwithin30days'] = data['Preoptransfusionwithin30days'].apply(lambda x: 1 if x > 0 else 0)\n",
    "data['Postopwithin30days'] = data['Postopwithin30days'].apply(lambda x: 1 if x > 0 else 0)"
   ]
  },
  {
   "cell_type": "code",
   "execution_count": 50,
   "metadata": {},
   "outputs": [
    {
     "name": "stdout",
     "output_type": "stream",
     "text": [
      "Chi-squared Test Statistic: 1724.0544871483562\n",
      "P-value: 0.0\n",
      "Degrees of Freedom: 1\n",
      "Expected Frequencies Table:\n",
      "[[62678.82087646  5203.17912354]\n",
      " [ 1648.17912354   136.82087646]]\n",
      "The result is statistically significant, suggesting an association between the variables.\n"
     ]
    }
   ],
   "source": [
    "chi2_test(data, 'Preoptransfusionwithin30days', 'Mortality')"
   ]
  },
  {
   "cell_type": "code",
   "execution_count": 51,
   "metadata": {},
   "outputs": [
    {
     "name": "stdout",
     "output_type": "stream",
     "text": [
      "Chi-squared Test Statistic: 2215.073348613947\n",
      "P-value: 0.0\n",
      "Degrees of Freedom: 1\n",
      "Expected Frequencies Table:\n",
      "[[59985.40995019  4979.59004981]\n",
      " [ 4341.59004981   360.40995019]]\n",
      "The result is statistically significant, suggesting an association between the variables.\n"
     ]
    }
   ],
   "source": [
    "chi2_test(data, 'Intraop', 'Mortality')"
   ]
  },
  {
   "cell_type": "code",
   "execution_count": 52,
   "metadata": {},
   "outputs": [
    {
     "name": "stdout",
     "output_type": "stream",
     "text": [
      "Chi-squared Test Statistic: 1142.8872022776236\n",
      "P-value: 1.5767270310689664e-250\n",
      "Degrees of Freedom: 1\n",
      "Expected Frequencies Table:\n",
      "[[63469.20817604  5268.79182396]\n",
      " [  857.79182396    71.20817604]]\n",
      "The result is statistically significant, suggesting an association between the variables.\n"
     ]
    }
   ],
   "source": [
    "chi2_test(data, 'Postopwithin30days', 'Mortality')"
   ]
  },
  {
   "cell_type": "code",
   "execution_count": 53,
   "metadata": {},
   "outputs": [
    {
     "name": "stdout",
     "output_type": "stream",
     "text": [
      "Optimization terminated successfully.\n",
      "         Current function value: 0.258385\n",
      "         Iterations 7\n",
      "                           Logit Regression Results                           \n",
      "==============================================================================\n",
      "Dep. Variable:              Mortality   No. Observations:                69667\n",
      "Model:                          Logit   Df Residuals:                    69663\n",
      "Method:                           MLE   Df Model:                            3\n",
      "Date:                Tue, 13 Aug 2024   Pseudo R-squ.:                 0.04483\n",
      "Time:                        01:00:36   Log-Likelihood:                -18001.\n",
      "converged:                       True   LL-Null:                       -18846.\n",
      "Covariance Type:            nonrobust   LLR p-value:                     0.000\n",
      "================================================================================================\n",
      "                                   coef    std err          z      P>|z|      [0.025      0.975]\n",
      "------------------------------------------------------------------------------------------------\n",
      "const                           -2.6853      0.016   -167.367      0.000      -2.717      -2.654\n",
      "Preoptransfusionwithin30days     0.6696      0.068      9.800      0.000       0.536       0.804\n",
      "Intraop                          1.1749      0.052     22.582      0.000       1.073       1.277\n",
      "Postopwithin30days               0.6825      0.079      8.610      0.000       0.527       0.838\n",
      "================================================================================================\n"
     ]
    },
    {
     "name": "stderr",
     "output_type": "stream",
     "text": [
      "d:\\OneDrive - Singapore Management University\\SMU Singapore\\Academics\\Jul 2024\\Applied Healthcare Analytics\\CARES_Analytics\\venv\\Lib\\site-packages\\statsmodels\\nonparametric\\smoothers_lowess.py:226: RuntimeWarning: invalid value encountered in divide\n",
      "  res, _ = _lowess(y, x, x, np.ones_like(x),\n"
     ]
    },
    {
     "data": {
      "image/png": "[encoded data removed]",
      "text/plain": [
       "<Figure size 640x480 with 1 Axes>"
      ]
     },
     "metadata": {},
     "output_type": "display_data"
    },
    {
     "data": {
      "image/png": "[encoded data removed]",
      "text/plain": [
       "<Figure size 640x480 with 1 Axes>"
      ]
     },
     "metadata": {},
     "output_type": "display_data"
    },
    {
     "data": {
      "image/png": "[encoded data removed]",
      "text/plain": [
       "<Figure size 640x480 with 1 Axes>"
      ]
     },
     "metadata": {},
     "output_type": "display_data"
    }
   ],
   "source": [
    "logistic_reg(data, x_col=transfusion_cols, y_col='Mortality')"
   ]
  },
  {
   "cell_type": "markdown",
   "metadata": {},
   "source": [
    "We see statistical significance with all transfusion columns and no multi-collinearity."
   ]
  },
  {
   "cell_type": "markdown",
   "metadata": {},
   "source": [
    "Given that there is statistical significance and there is no problem of multi-collinearity we can use this feature for modelling"
   ]
  },
  {
   "cell_type": "code",
   "execution_count": 54,
   "metadata": {},
   "outputs": [],
   "source": [
    "data['Perioperativetransfusionwithin30days'] = data[transfusion_cols].any(axis=1).astype(int)"
   ]
  },
  {
   "cell_type": "code",
   "execution_count": 55,
   "metadata": {},
   "outputs": [
    {
     "name": "stdout",
     "output_type": "stream",
     "text": [
      "Chi-squared Test Statistic: 2250.466141143118\n",
      "P-value: 0.0\n",
      "Degrees of Freedom: 1\n",
      "Expected Frequencies Table:\n",
      "[[59954.01606212  4976.98393788]\n",
      " [ 4372.98393788   363.01606212]]\n",
      "The result is statistically significant, suggesting an association between the variables.\n"
     ]
    }
   ],
   "source": [
    "chi2_test(data, 'Perioperativetransfusionwithin30days', 'Mortality')"
   ]
  },
  {
   "cell_type": "code",
   "execution_count": 56,
   "metadata": {},
   "outputs": [
    {
     "name": "stderr",
     "output_type": "stream",
     "text": [
      "C:\\Users\\danie\\AppData\\Local\\Temp\\ipykernel_10208\\581674317.py:4: SettingWithCopyWarning: \n",
      "A value is trying to be set on a copy of a slice from a DataFrame\n",
      "\n",
      "See the caveats in the documentation: https://pandas.pydata.org/pandas-docs/stable/user_guide/indexing.html#returning-a-view-versus-a-copy\n",
      "  X.dropna(inplace=True)\n"
     ]
    },
    {
     "name": "stdout",
     "output_type": "stream",
     "text": [
      "                                 feature        VIF\n",
      "0                                  const  18.634788\n",
      "1                            AGEcategory   1.471342\n",
      "2                       SurgRiskCategory   1.112888\n",
      "3                                Chinese   2.499782\n",
      "4                                 Indian   1.781901\n",
      "5                                  Malay   1.876286\n",
      "6                        Anemia category   1.531496\n",
      "7                  GradeofKidneyCategory   2.136394\n",
      "8                                RDW15.7   1.257398\n",
      "9                        CVARCRICategory   1.047421\n",
      "10                       IHDRCRICategory   1.187419\n",
      "11                       CHFRCRICategory   1.084564\n",
      "12                 DMinsulinRCRICategory   1.072953\n",
      "13                     ASAcategorybinned   1.478963\n",
      "14                                GENDER   1.074104\n",
      "15                         PreopEGFRMDRD   1.899500\n",
      "16  Perioperativetransfusionwithin30days   1.177623\n"
     ]
    }
   ],
   "source": [
    "vif(mortality_significant_columns + ['Perioperativetransfusionwithin30days'], data)"
   ]
  },
  {
   "cell_type": "code",
   "execution_count": 57,
   "metadata": {},
   "outputs": [
    {
     "name": "stdout",
     "output_type": "stream",
     "text": [
      "Optimization terminated successfully.\n",
      "         Current function value: 0.259498\n",
      "         Iterations 7\n",
      "                           Logit Regression Results                           \n",
      "==============================================================================\n",
      "Dep. Variable:              Mortality   No. Observations:                69667\n",
      "Model:                          Logit   Df Residuals:                    69665\n",
      "Method:                           MLE   Df Model:                            1\n",
      "Date:                Tue, 13 Aug 2024   Pseudo R-squ.:                 0.04071\n",
      "Time:                        01:00:38   Log-Likelihood:                -18078.\n",
      "converged:                       True   LL-Null:                       -18846.\n",
      "Covariance Type:            nonrobust   LLR p-value:                     0.000\n",
      "========================================================================================================\n",
      "                                           coef    std err          z      P>|z|      [0.025      0.975]\n",
      "--------------------------------------------------------------------------------------------------------\n",
      "const                                   -2.6873      0.016   -167.265      0.000      -2.719      -2.656\n",
      "Perioperativetransfusionwithin30days     1.6088      0.037     43.418      0.000       1.536       1.681\n",
      "========================================================================================================\n"
     ]
    },
    {
     "name": "stderr",
     "output_type": "stream",
     "text": [
      "d:\\OneDrive - Singapore Management University\\SMU Singapore\\Academics\\Jul 2024\\Applied Healthcare Analytics\\CARES_Analytics\\venv\\Lib\\site-packages\\statsmodels\\nonparametric\\smoothers_lowess.py:226: RuntimeWarning: invalid value encountered in divide\n",
      "  res, _ = _lowess(y, x, x, np.ones_like(x),\n"
     ]
    },
    {
     "data": {
      "image/png": "[encoded data removed]",
      "text/plain": [
       "<Figure size 640x480 with 1 Axes>"
      ]
     },
     "metadata": {},
     "output_type": "display_data"
    }
   ],
   "source": [
    "logistic_reg(data, x_col=['Perioperativetransfusionwithin30days'], y_col='Mortality')"
   ]
  },
  {
   "cell_type": "code",
   "execution_count": 58,
   "metadata": {},
   "outputs": [],
   "source": [
    "data.drop(columns=transfusion_cols, inplace=True)"
   ]
  },
  {
   "cell_type": "markdown",
   "metadata": {},
   "source": [
    "### 4. **Intra and Post op transfusion - categorical (TransfusionIntraandpostopCategory)**\n",
    "- **Definition:** Categorical column created from Transfusionintraandpostop.\n",
    "- **Suggestion:** Drop the column as it is redundant"
   ]
  },
  {
   "cell_type": "code",
   "execution_count": 59,
   "metadata": {},
   "outputs": [
    {
     "data": {
      "text/plain": [
       "TransfusionIntraandpostopCategory\n",
       "0 units            64953\n",
       "1 unit              3794\n",
       "2 or more units      920\n",
       "Name: count, dtype: int64"
      ]
     },
     "execution_count": 59,
     "metadata": {},
     "output_type": "execute_result"
    }
   ],
   "source": [
    "data.TransfusionIntraandpostopCategory.value_counts()"
   ]
  },
  {
   "cell_type": "code",
   "execution_count": 60,
   "metadata": {},
   "outputs": [],
   "source": [
    "data.drop(columns=['TransfusionIntraandpostopCategory'], inplace=True)"
   ]
  },
  {
   "cell_type": "markdown",
   "metadata": {},
   "source": [
    "### 5. **Type of anaesthesia (AnaestypeCategory)**\n",
    "- **Definition:** Anesthesia has the potential to induce physiological changes that may lead to morbidity and mortality. As a result, it is commonly regarded as a high-risk activity. A number of investigators, however, have reported that anesthesia-related mortality rates have declined over the past two decades. This decrease has been attributed to a variety of safety improvements including improved monitoring techniques, the development and widespread adoption of practice guidelines, and other systematic approaches to error reduction.\n",
    "- **Paper:** https://www.ncbi.nlm.nih.gov/pmc/articles/PMC2763076/\n",
    "- **Insights:** In conclusion, our systematic review of the literature confirms that perioperative mortality rates are higher in Brazil and other developing countries than in developed countries. Anesthesia-related mortality rates in Brazil and in developed countries are similar and lower than 1 per 10,000 anesthetics. Major risk factors for mortality are apparent for newborns, children under 1 year of age, the elderly, males, patients of ASA III or poorer physical status, emergency surgeries, during general anesthesia, and in cardiac, vascular, thoracic, gastroenterologic, orthopedic, and pediatric surgeries. Medication-related cardiocirculatory events and airway management accounted for the majority of the cases of anesthesia-related mortality. These data may be useful in developing prevention strategies.\n",
    "- **Suggestion:** Check for statistical significance as the feature seems to be related to mortality but very rarely in developed countries and this rate is decreasing with each year."
   ]
  },
  {
   "cell_type": "code",
   "execution_count": 61,
   "metadata": {},
   "outputs": [
    {
     "data": {
      "text/plain": [
       "AnaestypeCategory\n",
       "0    58364\n",
       "1    11303\n",
       "Name: count, dtype: int64"
      ]
     },
     "execution_count": 61,
     "metadata": {},
     "output_type": "execute_result"
    }
   ],
   "source": [
    "data.AnaestypeCategory.value_counts()"
   ]
  },
  {
   "cell_type": "code",
   "execution_count": 62,
   "metadata": {},
   "outputs": [
    {
     "name": "stdout",
     "output_type": "stream",
     "text": [
      "Chi-squared Test Statistic: 170.5895799900371\n",
      "P-value: 5.500442270525351e-39\n",
      "Degrees of Freedom: 1\n",
      "Expected Frequencies Table:\n",
      "[[53890.37891685  4473.62108315]\n",
      " [10436.62108315   866.37891685]]\n",
      "The result is statistically significant, suggesting an association between the variables.\n"
     ]
    }
   ],
   "source": [
    "chi2_test(data, 'AnaestypeCategory', 'Mortality')"
   ]
  },
  {
   "cell_type": "code",
   "execution_count": 63,
   "metadata": {},
   "outputs": [
    {
     "name": "stderr",
     "output_type": "stream",
     "text": [
      "C:\\Users\\danie\\AppData\\Local\\Temp\\ipykernel_10208\\581674317.py:4: SettingWithCopyWarning: \n",
      "A value is trying to be set on a copy of a slice from a DataFrame\n",
      "\n",
      "See the caveats in the documentation: https://pandas.pydata.org/pandas-docs/stable/user_guide/indexing.html#returning-a-view-versus-a-copy\n",
      "  X.dropna(inplace=True)\n"
     ]
    },
    {
     "name": "stdout",
     "output_type": "stream",
     "text": [
      "                  feature        VIF\n",
      "0                   const  18.641504\n",
      "1             AGEcategory   1.538803\n",
      "2        SurgRiskCategory   1.066286\n",
      "3                 Chinese   2.501917\n",
      "4                  Indian   1.782459\n",
      "5                   Malay   1.878869\n",
      "6         Anemia category   1.445427\n",
      "7   GradeofKidneyCategory   2.142325\n",
      "8                 RDW15.7   1.256455\n",
      "9         CVARCRICategory   1.047400\n",
      "10        IHDRCRICategory   1.187412\n",
      "11        CHFRCRICategory   1.085119\n",
      "12  DMinsulinRCRICategory   1.074361\n",
      "13      ASAcategorybinned   1.477333\n",
      "14                 GENDER   1.074114\n",
      "15          PreopEGFRMDRD   1.900712\n",
      "16      AnaestypeCategory   1.102976\n"
     ]
    }
   ],
   "source": [
    "vif(mortality_significant_columns + ['AnaestypeCategory'], data)"
   ]
  },
  {
   "cell_type": "markdown",
   "metadata": {},
   "source": [
    "### 6. **Intra and Post op transfusion (Transfusionintraandpostop)**\n",
    "- **Definition:** Column created from Intra and Post op transfusion.\n",
    "- **Suggestion:** Drop the column as it is redundant"
   ]
  },
  {
   "cell_type": "code",
   "execution_count": 64,
   "metadata": {},
   "outputs": [
    {
     "data": {
      "text/plain": [
       "Transfusionintraandpostop\n",
       "0.0     64953\n",
       "1.0      3794\n",
       "2.0       589\n",
       "3.0       176\n",
       "4.0        61\n",
       "5.0        34\n",
       "6.0        23\n",
       "7.0        12\n",
       "8.0         9\n",
       "9.0         5\n",
       "13.0        3\n",
       "10.0        3\n",
       "16.0        2\n",
       "24.0        1\n",
       "17.0        1\n",
       "11.0        1\n",
       "Name: count, dtype: int64"
      ]
     },
     "execution_count": 64,
     "metadata": {},
     "output_type": "execute_result"
    }
   ],
   "source": [
    "data.Transfusionintraandpostop.value_counts()"
   ]
  },
  {
   "cell_type": "code",
   "execution_count": 65,
   "metadata": {},
   "outputs": [],
   "source": [
    "data.drop(columns=['Transfusionintraandpostop'], inplace=True)"
   ]
  },
  {
   "cell_type": "code",
   "execution_count": 66,
   "metadata": {},
   "outputs": [
    {
     "data": {
      "text/plain": [
       "Index(['GENDER', 'RCRI_score', 'Anemia category', 'PreopEGFRMDRD',\n",
       "       'DaysbetweenDeathandoperation', 'AnaestypeCategory', 'PriorityCategory',\n",
       "       'AGEcategory', 'Mortality', 'thirtydaymortality', 'SurgRiskCategory',\n",
       "       'CVARCRICategory', 'IHDRCRICategory', 'CHFRCRICategory',\n",
       "       'DMinsulinRCRICategory', 'CreatinineRCRICategory',\n",
       "       'GradeofKidneyCategory', 'RDW15.7', 'ASAcategorybinned', 'ICUAdmgt24h',\n",
       "       'Chinese', 'Indian', 'Malay', 'Perioperativetransfusionwithin30days'],\n",
       "      dtype='object')"
      ]
     },
     "execution_count": 66,
     "metadata": {},
     "output_type": "execute_result"
    }
   ],
   "source": [
    "data.columns"
   ]
  },
  {
   "cell_type": "markdown",
   "metadata": {},
   "source": [
    "### 7. ASAcategorybinned\n",
    "- **Definition:** The American Society of Anesthesiologists Physical Status classification system (ASA PS) is a method of characterizing patient operative risk on a scale of 1-5, where 1 is normal health and 5 is moribund. Every anesthesiologist is trained in this measure, and it is performed before every procedure in which a patient undergoes anesthesia. We measured the independent predictive value of ASA-PS for complications and mortality in the ACS-NSQIP database by multivariate regression. We conducted analogous regressions after standardizing ASA-PS to control for interprocedural variations in risk in the overall model and sub-analyses by surgical specialty and the most common procedures.\n",
    "- **Paper:** https://pubmed.ncbi.nlm.nih.gov/25937154/, https://www.asahq.org/standards-and-practice-parameters/statement-on-asa-physical-status-classification-system\n",
    "- **Insights:** Seems like Age & Cardiac-associated factors are linked to ASA PS scores for patients.\n",
    "- Explore Correlations of ASA PS scores with variables: 'AGEcategory', 'RCRI_score'\n",
    "- **Suggestion:** Impute based on probabilistic model generated - Impute ASA PS scores based on normalized %s across age categories. Only consider this imputation method because missing % is low (~4.9%)."
   ]
  },
  {
   "cell_type": "code",
   "execution_count": 67,
   "metadata": {},
   "outputs": [
    {
     "data": {
      "text/plain": [
       "ASAcategorybinned\n",
       "1.0    0.564759\n",
       "0.0    0.226287\n",
       "2.0    0.193296\n",
       "3.0    0.015658\n",
       "Name: proportion, dtype: float64"
      ]
     },
     "execution_count": 67,
     "metadata": {},
     "output_type": "execute_result"
    }
   ],
   "source": [
    "data['ASAcategorybinned'].value_counts(normalize=True)"
   ]
  },
  {
   "cell_type": "code",
   "execution_count": 68,
   "metadata": {},
   "outputs": [
    {
     "data": {
      "text/plain": [
       "dtype('float64')"
      ]
     },
     "execution_count": 68,
     "metadata": {},
     "output_type": "execute_result"
    }
   ],
   "source": [
    "data['ASAcategorybinned'].dtypes"
   ]
  },
  {
   "cell_type": "code",
   "execution_count": 69,
   "metadata": {},
   "outputs": [
    {
     "data": {
      "text/html": [
       "<div>\n",
       "<style scoped>\n",
       "    .dataframe tbody tr th:only-of-type {\n",
       "        vertical-align: middle;\n",
       "    }\n",
       "\n",
       "    .dataframe tbody tr th {\n",
       "        vertical-align: top;\n",
       "    }\n",
       "\n",
       "    .dataframe thead th {\n",
       "        text-align: right;\n",
       "    }\n",
       "</style>\n",
       "<table border=\"1\" class=\"dataframe\">\n",
       "  <thead>\n",
       "    <tr style=\"text-align: right;\">\n",
       "      <th></th>\n",
       "      <th>AGEcategory</th>\n",
       "      <th>ASAcategorybinned</th>\n",
       "      <th>RCRI_score</th>\n",
       "    </tr>\n",
       "  </thead>\n",
       "  <tbody>\n",
       "    <tr>\n",
       "      <th>2</th>\n",
       "      <td>2</td>\n",
       "      <td>0.0</td>\n",
       "      <td>0</td>\n",
       "    </tr>\n",
       "    <tr>\n",
       "      <th>3</th>\n",
       "      <td>3</td>\n",
       "      <td>0.0</td>\n",
       "      <td>0</td>\n",
       "    </tr>\n",
       "    <tr>\n",
       "      <th>4</th>\n",
       "      <td>3</td>\n",
       "      <td>1.0</td>\n",
       "      <td>0</td>\n",
       "    </tr>\n",
       "    <tr>\n",
       "      <th>5</th>\n",
       "      <td>2</td>\n",
       "      <td>0.0</td>\n",
       "      <td>0</td>\n",
       "    </tr>\n",
       "    <tr>\n",
       "      <th>6</th>\n",
       "      <td>1</td>\n",
       "      <td>1.0</td>\n",
       "      <td>1</td>\n",
       "    </tr>\n",
       "  </tbody>\n",
       "</table>\n",
       "</div>"
      ],
      "text/plain": [
       "   AGEcategory  ASAcategorybinned RCRI_score\n",
       "2            2                0.0          0\n",
       "3            3                0.0          0\n",
       "4            3                1.0          0\n",
       "5            2                0.0          0\n",
       "6            1                1.0          1"
      ]
     },
     "execution_count": 69,
     "metadata": {},
     "output_type": "execute_result"
    }
   ],
   "source": [
    "subset = data.loc[~data['ASAcategorybinned'].isnull()][['AGEcategory','ASAcategorybinned', 'RCRI_score']]\n",
    "subset.head()"
   ]
  },
  {
   "cell_type": "code",
   "execution_count": 70,
   "metadata": {},
   "outputs": [
    {
     "data": {
      "text/plain": [
       "AGEcategory\n",
       "2    21117\n",
       "1    18276\n",
       "3    12647\n",
       "0     6520\n",
       "4     6452\n",
       "5     1218\n",
       "Name: count, dtype: int64"
      ]
     },
     "execution_count": 70,
     "metadata": {},
     "output_type": "execute_result"
    }
   ],
   "source": [
    "subset['AGEcategory'].value_counts()"
   ]
  },
  {
   "cell_type": "code",
   "execution_count": 71,
   "metadata": {},
   "outputs": [
    {
     "data": {
      "text/html": [
       "<div>\n",
       "<style scoped>\n",
       "    .dataframe tbody tr th:only-of-type {\n",
       "        vertical-align: middle;\n",
       "    }\n",
       "\n",
       "    .dataframe tbody tr th {\n",
       "        vertical-align: top;\n",
       "    }\n",
       "\n",
       "    .dataframe thead th {\n",
       "        text-align: right;\n",
       "    }\n",
       "</style>\n",
       "<table border=\"1\" class=\"dataframe\">\n",
       "  <thead>\n",
       "    <tr style=\"text-align: right;\">\n",
       "      <th>ASAcategorybinned</th>\n",
       "      <th>0.0</th>\n",
       "      <th>1.0</th>\n",
       "      <th>2.0</th>\n",
       "      <th>3.0</th>\n",
       "    </tr>\n",
       "    <tr>\n",
       "      <th>AGEcategory</th>\n",
       "      <th></th>\n",
       "      <th></th>\n",
       "      <th></th>\n",
       "      <th></th>\n",
       "    </tr>\n",
       "  </thead>\n",
       "  <tbody>\n",
       "    <tr>\n",
       "      <th>0</th>\n",
       "      <td>0.555828</td>\n",
       "      <td>0.395245</td>\n",
       "      <td>0.041871</td>\n",
       "      <td>0.007055</td>\n",
       "    </tr>\n",
       "    <tr>\n",
       "      <th>1</th>\n",
       "      <td>0.386244</td>\n",
       "      <td>0.514664</td>\n",
       "      <td>0.090337</td>\n",
       "      <td>0.008755</td>\n",
       "    </tr>\n",
       "    <tr>\n",
       "      <th>2</th>\n",
       "      <td>0.163802</td>\n",
       "      <td>0.622200</td>\n",
       "      <td>0.199555</td>\n",
       "      <td>0.014443</td>\n",
       "    </tr>\n",
       "    <tr>\n",
       "      <th>3</th>\n",
       "      <td>0.055586</td>\n",
       "      <td>0.640705</td>\n",
       "      <td>0.284020</td>\n",
       "      <td>0.019688</td>\n",
       "    </tr>\n",
       "    <tr>\n",
       "      <th>4</th>\n",
       "      <td>0.019994</td>\n",
       "      <td>0.564941</td>\n",
       "      <td>0.383912</td>\n",
       "      <td>0.031153</td>\n",
       "    </tr>\n",
       "    <tr>\n",
       "      <th>5</th>\n",
       "      <td>0.010673</td>\n",
       "      <td>0.438424</td>\n",
       "      <td>0.488506</td>\n",
       "      <td>0.062397</td>\n",
       "    </tr>\n",
       "  </tbody>\n",
       "</table>\n",
       "</div>"
      ],
      "text/plain": [
       "ASAcategorybinned       0.0       1.0       2.0       3.0\n",
       "AGEcategory                                              \n",
       "0                  0.555828  0.395245  0.041871  0.007055\n",
       "1                  0.386244  0.514664  0.090337  0.008755\n",
       "2                  0.163802  0.622200  0.199555  0.014443\n",
       "3                  0.055586  0.640705  0.284020  0.019688\n",
       "4                  0.019994  0.564941  0.383912  0.031153\n",
       "5                  0.010673  0.438424  0.488506  0.062397"
      ]
     },
     "execution_count": 71,
     "metadata": {},
     "output_type": "execute_result"
    }
   ],
   "source": [
    "col = 'AGEcategory'\n",
    "target_col = 'ASAcategorybinned'\n",
    "crosstab = pd.crosstab(subset[col], subset[target_col], normalize='index')\n",
    "crosstab"
   ]
  },
  {
   "cell_type": "code",
   "execution_count": 72,
   "metadata": {},
   "outputs": [],
   "source": [
    "# explore age as a predictor of ASA PS scores\n",
    "def plot_categorical_proportions(subset1):\n",
    "    '''Plot proportion of RCRI_score counts in each category normalized across RCRI_score categories'''\n",
    "    \n",
    "    # Define the target column\n",
    "    target_col = 'ASAcategorybinned'\n",
    "    \n",
    "    # Get the list of other columns to plot against the target\n",
    "    other_cols = [col for col in subset1.columns if col != target_col]\n",
    "    \n",
    "    # Set the plot style\n",
    "    sns.set(style=\"whitegrid\")\n",
    "    \n",
    "    # Create a proportion plot for each categorical variable\n",
    "    for col in other_cols:\n",
    "        # Create a cross-tabulation of the categorical column and the target column\n",
    "        crosstab = pd.crosstab(subset1[col], subset1[target_col], normalize='index')\n",
    "        \n",
    "        # Plot the proportions using a stacked bar plot\n",
    "        crosstab.plot(kind='bar', stacked=True, figsize=(10, 6))\n",
    "        \n",
    "        # Set the title and labels\n",
    "        plt.title(f'Proportion Plot of {col} by {target_col}')\n",
    "        plt.xlabel(col)\n",
    "        plt.ylabel('Proportion')\n",
    "        \n",
    "        # Add a legend\n",
    "        plt.legend(title=target_col, bbox_to_anchor=(1.05, 1), loc='upper left')\n",
    "        \n",
    "        # Adjust the layout and show the plot\n",
    "        plt.tight_layout()\n",
    "        plt.show()"
   ]
  },
  {
   "cell_type": "code",
   "execution_count": 73,
   "metadata": {},
   "outputs": [
    {
     "data": {
      "image/png": "[encoded data removed]",
      "text/plain": [
       "<Figure size 1000x600 with 1 Axes>"
      ]
     },
     "metadata": {},
     "output_type": "display_data"
    },
    {
     "data": {
      "image/png": "[encoded data removed]",
      "text/plain": [
       "<Figure size 1000x600 with 1 Axes>"
      ]
     },
     "metadata": {},
     "output_type": "display_data"
    }
   ],
   "source": [
    "plot_categorical_proportions(subset)"
   ]
  },
  {
   "cell_type": "markdown",
   "metadata": {},
   "source": [
    "#### Findings\n",
    "- Age category seems to be a strong determinant of ASA PS scores.\n",
    "- *I.E. When age category increases, normalized (age) proportions of lower bound scores (ASA PS of I & II) gradually decreases while proportions of upper bounds (III & IV-VI) gradually increases. \n",
    "- Impute ASA PS scores based on normalized %s across age categories. \n",
    "- Only consider this imputation method because missing % is low (~4.9%)"
   ]
  },
  {
   "cell_type": "code",
   "execution_count": 74,
   "metadata": {},
   "outputs": [
    {
     "data": {
      "text/html": [
       "<div>\n",
       "<style scoped>\n",
       "    .dataframe tbody tr th:only-of-type {\n",
       "        vertical-align: middle;\n",
       "    }\n",
       "\n",
       "    .dataframe tbody tr th {\n",
       "        vertical-align: top;\n",
       "    }\n",
       "\n",
       "    .dataframe thead th {\n",
       "        text-align: right;\n",
       "    }\n",
       "</style>\n",
       "<table border=\"1\" class=\"dataframe\">\n",
       "  <thead>\n",
       "    <tr style=\"text-align: right;\">\n",
       "      <th></th>\n",
       "      <th>AGEcategory</th>\n",
       "      <th>ASAcategorybinned</th>\n",
       "    </tr>\n",
       "  </thead>\n",
       "  <tbody>\n",
       "    <tr>\n",
       "      <th>2</th>\n",
       "      <td>2</td>\n",
       "      <td>0.0</td>\n",
       "    </tr>\n",
       "    <tr>\n",
       "      <th>3</th>\n",
       "      <td>3</td>\n",
       "      <td>0.0</td>\n",
       "    </tr>\n",
       "    <tr>\n",
       "      <th>4</th>\n",
       "      <td>3</td>\n",
       "      <td>1.0</td>\n",
       "    </tr>\n",
       "    <tr>\n",
       "      <th>5</th>\n",
       "      <td>2</td>\n",
       "      <td>0.0</td>\n",
       "    </tr>\n",
       "    <tr>\n",
       "      <th>6</th>\n",
       "      <td>1</td>\n",
       "      <td>1.0</td>\n",
       "    </tr>\n",
       "  </tbody>\n",
       "</table>\n",
       "</div>"
      ],
      "text/plain": [
       "   AGEcategory  ASAcategorybinned\n",
       "2            2                0.0\n",
       "3            3                0.0\n",
       "4            3                1.0\n",
       "5            2                0.0\n",
       "6            1                1.0"
      ]
     },
     "execution_count": 74,
     "metadata": {},
     "output_type": "execute_result"
    }
   ],
   "source": [
    "subset.drop('RCRI_score', axis=1, inplace=True)\n",
    "subset.head()"
   ]
  },
  {
   "cell_type": "markdown",
   "metadata": {},
   "source": [
    "#### Probabilistic imputation"
   ]
  },
  {
   "cell_type": "code",
   "execution_count": 75,
   "metadata": {},
   "outputs": [],
   "source": [
    "def impute_missing_values(data, crosstab, age_col='AGEcategory', target_col='ASAcategorybinned'):\n",
    "    \"\"\"\n",
    "    Impute missing values in the target column based on the crosstab probabilities.\n",
    "\n",
    "    Parameters:\n",
    "    - data (pd.DataFrame): The main dataset with missing values to be imputed.\n",
    "    - crosstab (pd.DataFrame): Normalized crosstab with probabilities of each ASAcategorybinned given AGEcategory.\n",
    "    - age_col (str): The name of the column in data representing age categories.\n",
    "    - target_col (str): The name of the column in data to impute.\n",
    "\n",
    "    Returns:\n",
    "    - pd.DataFrame: The dataset with missing values imputed.\n",
    "    \"\"\"\n",
    "    \n",
    "    # Ensure the target column exists in the DataFrame\n",
    "    if target_col not in data.columns:\n",
    "        raise ValueError(f\"{target_col} not found in data columns.\")\n",
    "    \n",
    "    # Ensure the age column exists in the DataFrame\n",
    "    if age_col not in data.columns:\n",
    "        raise ValueError(f\"{age_col} not found in data columns.\")\n",
    "    \n",
    "    # Get the unique age categories\n",
    "    age_categories = crosstab.index\n",
    "    \n",
    "    # Define a function to impute values based on age category\n",
    "    def impute_row(row):\n",
    "        if pd.isna(row[target_col]):\n",
    "            age_category = row[age_col]\n",
    "            if age_category in age_categories:\n",
    "                probabilities = crosstab.loc[age_category].values\n",
    "                choices = crosstab.columns\n",
    "                imputed_value = np.random.choice(choices, p=probabilities)\n",
    "                return imputed_value\n",
    "            else:\n",
    "                # If age category is not found in crosstab, return NaN or a default value\n",
    "                return np.nan\n",
    "        else:\n",
    "            return row[target_col]\n",
    "    \n",
    "    # Apply the imputation function to each row\n",
    "    data[target_col] = data.apply(impute_row, axis=1)\n",
    "    \n",
    "    return data"
   ]
  },
  {
   "cell_type": "code",
   "execution_count": 76,
   "metadata": {},
   "outputs": [
    {
     "data": {
      "text/html": [
       "<div>\n",
       "<style scoped>\n",
       "    .dataframe tbody tr th:only-of-type {\n",
       "        vertical-align: middle;\n",
       "    }\n",
       "\n",
       "    .dataframe tbody tr th {\n",
       "        vertical-align: top;\n",
       "    }\n",
       "\n",
       "    .dataframe thead th {\n",
       "        text-align: right;\n",
       "    }\n",
       "</style>\n",
       "<table border=\"1\" class=\"dataframe\">\n",
       "  <thead>\n",
       "    <tr style=\"text-align: right;\">\n",
       "      <th></th>\n",
       "      <th>GENDER</th>\n",
       "      <th>RCRI_score</th>\n",
       "      <th>Anemia category</th>\n",
       "      <th>PreopEGFRMDRD</th>\n",
       "      <th>DaysbetweenDeathandoperation</th>\n",
       "      <th>AnaestypeCategory</th>\n",
       "      <th>PriorityCategory</th>\n",
       "      <th>AGEcategory</th>\n",
       "      <th>Mortality</th>\n",
       "      <th>thirtydaymortality</th>\n",
       "      <th>...</th>\n",
       "      <th>DMinsulinRCRICategory</th>\n",
       "      <th>CreatinineRCRICategory</th>\n",
       "      <th>GradeofKidneyCategory</th>\n",
       "      <th>RDW15.7</th>\n",
       "      <th>ASAcategorybinned</th>\n",
       "      <th>ICUAdmgt24h</th>\n",
       "      <th>Chinese</th>\n",
       "      <th>Indian</th>\n",
       "      <th>Malay</th>\n",
       "      <th>Perioperativetransfusionwithin30days</th>\n",
       "    </tr>\n",
       "  </thead>\n",
       "  <tbody>\n",
       "    <tr>\n",
       "      <th>2</th>\n",
       "      <td>0</td>\n",
       "      <td>0</td>\n",
       "      <td>1.0</td>\n",
       "      <td>1</td>\n",
       "      <td>NaN</td>\n",
       "      <td>0</td>\n",
       "      <td>0</td>\n",
       "      <td>2</td>\n",
       "      <td>0</td>\n",
       "      <td>0</td>\n",
       "      <td>...</td>\n",
       "      <td>0</td>\n",
       "      <td>0</td>\n",
       "      <td>0.0</td>\n",
       "      <td>0.0</td>\n",
       "      <td>0.0</td>\n",
       "      <td>0</td>\n",
       "      <td>1</td>\n",
       "      <td>0</td>\n",
       "      <td>0</td>\n",
       "      <td>0</td>\n",
       "    </tr>\n",
       "    <tr>\n",
       "      <th>3</th>\n",
       "      <td>1</td>\n",
       "      <td>0</td>\n",
       "      <td>2.0</td>\n",
       "      <td>1</td>\n",
       "      <td>NaN</td>\n",
       "      <td>0</td>\n",
       "      <td>0</td>\n",
       "      <td>3</td>\n",
       "      <td>0</td>\n",
       "      <td>0</td>\n",
       "      <td>...</td>\n",
       "      <td>0</td>\n",
       "      <td>0</td>\n",
       "      <td>0.0</td>\n",
       "      <td>0.0</td>\n",
       "      <td>0.0</td>\n",
       "      <td>0</td>\n",
       "      <td>1</td>\n",
       "      <td>0</td>\n",
       "      <td>0</td>\n",
       "      <td>1</td>\n",
       "    </tr>\n",
       "    <tr>\n",
       "      <th>4</th>\n",
       "      <td>1</td>\n",
       "      <td>0</td>\n",
       "      <td>1.0</td>\n",
       "      <td>0</td>\n",
       "      <td>59.0</td>\n",
       "      <td>0</td>\n",
       "      <td>0</td>\n",
       "      <td>3</td>\n",
       "      <td>1</td>\n",
       "      <td>0</td>\n",
       "      <td>...</td>\n",
       "      <td>0</td>\n",
       "      <td>0</td>\n",
       "      <td>0.0</td>\n",
       "      <td>1.0</td>\n",
       "      <td>1.0</td>\n",
       "      <td>0</td>\n",
       "      <td>1</td>\n",
       "      <td>0</td>\n",
       "      <td>0</td>\n",
       "      <td>0</td>\n",
       "    </tr>\n",
       "    <tr>\n",
       "      <th>5</th>\n",
       "      <td>1</td>\n",
       "      <td>0</td>\n",
       "      <td>0.0</td>\n",
       "      <td>1</td>\n",
       "      <td>NaN</td>\n",
       "      <td>0</td>\n",
       "      <td>1</td>\n",
       "      <td>2</td>\n",
       "      <td>0</td>\n",
       "      <td>0</td>\n",
       "      <td>...</td>\n",
       "      <td>0</td>\n",
       "      <td>0</td>\n",
       "      <td>0.0</td>\n",
       "      <td>0.0</td>\n",
       "      <td>0.0</td>\n",
       "      <td>0</td>\n",
       "      <td>0</td>\n",
       "      <td>1</td>\n",
       "      <td>0</td>\n",
       "      <td>0</td>\n",
       "    </tr>\n",
       "    <tr>\n",
       "      <th>6</th>\n",
       "      <td>0</td>\n",
       "      <td>1</td>\n",
       "      <td>0.0</td>\n",
       "      <td>0</td>\n",
       "      <td>NaN</td>\n",
       "      <td>0</td>\n",
       "      <td>0</td>\n",
       "      <td>1</td>\n",
       "      <td>0</td>\n",
       "      <td>0</td>\n",
       "      <td>...</td>\n",
       "      <td>0</td>\n",
       "      <td>0</td>\n",
       "      <td>1.0</td>\n",
       "      <td>0.0</td>\n",
       "      <td>1.0</td>\n",
       "      <td>0</td>\n",
       "      <td>1</td>\n",
       "      <td>0</td>\n",
       "      <td>0</td>\n",
       "      <td>0</td>\n",
       "    </tr>\n",
       "    <tr>\n",
       "      <th>...</th>\n",
       "      <td>...</td>\n",
       "      <td>...</td>\n",
       "      <td>...</td>\n",
       "      <td>...</td>\n",
       "      <td>...</td>\n",
       "      <td>...</td>\n",
       "      <td>...</td>\n",
       "      <td>...</td>\n",
       "      <td>...</td>\n",
       "      <td>...</td>\n",
       "      <td>...</td>\n",
       "      <td>...</td>\n",
       "      <td>...</td>\n",
       "      <td>...</td>\n",
       "      <td>...</td>\n",
       "      <td>...</td>\n",
       "      <td>...</td>\n",
       "      <td>...</td>\n",
       "      <td>...</td>\n",
       "      <td>...</td>\n",
       "      <td>...</td>\n",
       "    </tr>\n",
       "    <tr>\n",
       "      <th>73195</th>\n",
       "      <td>1</td>\n",
       "      <td>0</td>\n",
       "      <td>0.0</td>\n",
       "      <td>0</td>\n",
       "      <td>NaN</td>\n",
       "      <td>0</td>\n",
       "      <td>0</td>\n",
       "      <td>2</td>\n",
       "      <td>0</td>\n",
       "      <td>0</td>\n",
       "      <td>...</td>\n",
       "      <td>0</td>\n",
       "      <td>0</td>\n",
       "      <td>1.0</td>\n",
       "      <td>0.0</td>\n",
       "      <td>1.0</td>\n",
       "      <td>0</td>\n",
       "      <td>0</td>\n",
       "      <td>0</td>\n",
       "      <td>0</td>\n",
       "      <td>0</td>\n",
       "    </tr>\n",
       "    <tr>\n",
       "      <th>73196</th>\n",
       "      <td>0</td>\n",
       "      <td>0</td>\n",
       "      <td>0.0</td>\n",
       "      <td>0</td>\n",
       "      <td>NaN</td>\n",
       "      <td>0</td>\n",
       "      <td>0</td>\n",
       "      <td>4</td>\n",
       "      <td>0</td>\n",
       "      <td>0</td>\n",
       "      <td>...</td>\n",
       "      <td>0</td>\n",
       "      <td>0</td>\n",
       "      <td>2.0</td>\n",
       "      <td>0.0</td>\n",
       "      <td>1.0</td>\n",
       "      <td>0</td>\n",
       "      <td>0</td>\n",
       "      <td>0</td>\n",
       "      <td>0</td>\n",
       "      <td>0</td>\n",
       "    </tr>\n",
       "    <tr>\n",
       "      <th>73198</th>\n",
       "      <td>0</td>\n",
       "      <td>2</td>\n",
       "      <td>1.0</td>\n",
       "      <td>0</td>\n",
       "      <td>NaN</td>\n",
       "      <td>0</td>\n",
       "      <td>0</td>\n",
       "      <td>3</td>\n",
       "      <td>0</td>\n",
       "      <td>0</td>\n",
       "      <td>...</td>\n",
       "      <td>1</td>\n",
       "      <td>0</td>\n",
       "      <td>2.0</td>\n",
       "      <td>0.0</td>\n",
       "      <td>1.0</td>\n",
       "      <td>0</td>\n",
       "      <td>0</td>\n",
       "      <td>0</td>\n",
       "      <td>0</td>\n",
       "      <td>0</td>\n",
       "    </tr>\n",
       "    <tr>\n",
       "      <th>73199</th>\n",
       "      <td>1</td>\n",
       "      <td>1</td>\n",
       "      <td>2.0</td>\n",
       "      <td>1</td>\n",
       "      <td>NaN</td>\n",
       "      <td>0</td>\n",
       "      <td>1</td>\n",
       "      <td>2</td>\n",
       "      <td>0</td>\n",
       "      <td>0</td>\n",
       "      <td>...</td>\n",
       "      <td>1</td>\n",
       "      <td>0</td>\n",
       "      <td>0.0</td>\n",
       "      <td>0.0</td>\n",
       "      <td>1.0</td>\n",
       "      <td>0</td>\n",
       "      <td>0</td>\n",
       "      <td>0</td>\n",
       "      <td>0</td>\n",
       "      <td>0</td>\n",
       "    </tr>\n",
       "    <tr>\n",
       "      <th>73200</th>\n",
       "      <td>0</td>\n",
       "      <td>0</td>\n",
       "      <td>0.0</td>\n",
       "      <td>0</td>\n",
       "      <td>NaN</td>\n",
       "      <td>0</td>\n",
       "      <td>0</td>\n",
       "      <td>2</td>\n",
       "      <td>0</td>\n",
       "      <td>0</td>\n",
       "      <td>...</td>\n",
       "      <td>0</td>\n",
       "      <td>0</td>\n",
       "      <td>1.0</td>\n",
       "      <td>0.0</td>\n",
       "      <td>1.0</td>\n",
       "      <td>0</td>\n",
       "      <td>0</td>\n",
       "      <td>0</td>\n",
       "      <td>0</td>\n",
       "      <td>0</td>\n",
       "    </tr>\n",
       "  </tbody>\n",
       "</table>\n",
       "<p>69667 rows × 24 columns</p>\n",
       "</div>"
      ],
      "text/plain": [
       "       GENDER RCRI_score  Anemia category  PreopEGFRMDRD  \\\n",
       "2           0          0              1.0              1   \n",
       "3           1          0              2.0              1   \n",
       "4           1          0              1.0              0   \n",
       "5           1          0              0.0              1   \n",
       "6           0          1              0.0              0   \n",
       "...       ...        ...              ...            ...   \n",
       "73195       1          0              0.0              0   \n",
       "73196       0          0              0.0              0   \n",
       "73198       0          2              1.0              0   \n",
       "73199       1          1              2.0              1   \n",
       "73200       0          0              0.0              0   \n",
       "\n",
       "       DaysbetweenDeathandoperation  AnaestypeCategory  PriorityCategory  \\\n",
       "2                               NaN                  0                 0   \n",
       "3                               NaN                  0                 0   \n",
       "4                              59.0                  0                 0   \n",
       "5                               NaN                  0                 1   \n",
       "6                               NaN                  0                 0   \n",
       "...                             ...                ...               ...   \n",
       "73195                           NaN                  0                 0   \n",
       "73196                           NaN                  0                 0   \n",
       "73198                           NaN                  0                 0   \n",
       "73199                           NaN                  0                 1   \n",
       "73200                           NaN                  0                 0   \n",
       "\n",
       "       AGEcategory  Mortality  thirtydaymortality  ...  DMinsulinRCRICategory  \\\n",
       "2                2          0                   0  ...                      0   \n",
       "3                3          0                   0  ...                      0   \n",
       "4                3          1                   0  ...                      0   \n",
       "5                2          0                   0  ...                      0   \n",
       "6                1          0                   0  ...                      0   \n",
       "...            ...        ...                 ...  ...                    ...   \n",
       "73195            2          0                   0  ...                      0   \n",
       "73196            4          0                   0  ...                      0   \n",
       "73198            3          0                   0  ...                      1   \n",
       "73199            2          0                   0  ...                      1   \n",
       "73200            2          0                   0  ...                      0   \n",
       "\n",
       "       CreatinineRCRICategory  GradeofKidneyCategory  RDW15.7  \\\n",
       "2                           0                    0.0      0.0   \n",
       "3                           0                    0.0      0.0   \n",
       "4                           0                    0.0      1.0   \n",
       "5                           0                    0.0      0.0   \n",
       "6                           0                    1.0      0.0   \n",
       "...                       ...                    ...      ...   \n",
       "73195                       0                    1.0      0.0   \n",
       "73196                       0                    2.0      0.0   \n",
       "73198                       0                    2.0      0.0   \n",
       "73199                       0                    0.0      0.0   \n",
       "73200                       0                    1.0      0.0   \n",
       "\n",
       "       ASAcategorybinned  ICUAdmgt24h  Chinese  Indian  Malay  \\\n",
       "2                    0.0            0        1       0      0   \n",
       "3                    0.0            0        1       0      0   \n",
       "4                    1.0            0        1       0      0   \n",
       "5                    0.0            0        0       1      0   \n",
       "6                    1.0            0        1       0      0   \n",
       "...                  ...          ...      ...     ...    ...   \n",
       "73195                1.0            0        0       0      0   \n",
       "73196                1.0            0        0       0      0   \n",
       "73198                1.0            0        0       0      0   \n",
       "73199                1.0            0        0       0      0   \n",
       "73200                1.0            0        0       0      0   \n",
       "\n",
       "       Perioperativetransfusionwithin30days  \n",
       "2                                         0  \n",
       "3                                         1  \n",
       "4                                         0  \n",
       "5                                         0  \n",
       "6                                         0  \n",
       "...                                     ...  \n",
       "73195                                     0  \n",
       "73196                                     0  \n",
       "73198                                     0  \n",
       "73199                                     0  \n",
       "73200                                     0  \n",
       "\n",
       "[69667 rows x 24 columns]"
      ]
     },
     "execution_count": 76,
     "metadata": {},
     "output_type": "execute_result"
    }
   ],
   "source": [
    "col = 'AGEcategory'\n",
    "target_col = 'ASAcategorybinned'\n",
    "crosstab = pd.crosstab(subset[col], subset[target_col], normalize='index')\n",
    "df = data.copy()\n",
    "impute_missing_values(data, crosstab, age_col='AGEcategory', target_col='ASAcategorybinned')"
   ]
  },
  {
   "cell_type": "code",
   "execution_count": 77,
   "metadata": {},
   "outputs": [
    {
     "data": {
      "text/plain": [
       "np.int64(0)"
      ]
     },
     "execution_count": 77,
     "metadata": {},
     "output_type": "execute_result"
    }
   ],
   "source": [
    "data['ASAcategorybinned'].isnull().sum()"
   ]
  },
  {
   "cell_type": "code",
   "execution_count": 78,
   "metadata": {},
   "outputs": [
    {
     "data": {
      "text/plain": [
       "ASAcategorybinned\n",
       "1.0    37404\n",
       "0.0    14987\n",
       "2.0    12802\n",
       "3.0     1037\n",
       "Name: count, dtype: int64"
      ]
     },
     "execution_count": 78,
     "metadata": {},
     "output_type": "execute_result"
    }
   ],
   "source": [
    "df['ASAcategorybinned'].value_counts()"
   ]
  },
  {
   "cell_type": "code",
   "execution_count": 79,
   "metadata": {},
   "outputs": [
    {
     "data": {
      "text/plain": [
       "ASAcategorybinned\n",
       "1.0    39269\n",
       "0.0    15893\n",
       "2.0    13416\n",
       "3.0     1089\n",
       "Name: count, dtype: int64"
      ]
     },
     "execution_count": 79,
     "metadata": {},
     "output_type": "execute_result"
    }
   ],
   "source": [
    "data['ASAcategorybinned'].value_counts()"
   ]
  },
  {
   "cell_type": "code",
   "execution_count": 80,
   "metadata": {},
   "outputs": [],
   "source": [
    "# Define categorical, numeric & target columns\n",
    "# Define the target columns\n",
    "target_cols = ['ICUAdmgt24h', 'thirtydaymortality', 'Mortality']\n",
    "\n",
    "# Select categorical columns and exclude target columns\n",
    "cat_cols = data.select_dtypes(include=['object', 'category']).columns.to_list()\n",
    "cat_cols = [col for col in cat_cols if col not in target_cols]\n",
    "\n",
    "# Select numerical columns and exclude target columns\n",
    "num_cols = data.select_dtypes(include=['number']).columns.tolist()\n",
    "num_cols = [col for col in num_cols if col not in target_cols]"
   ]
  },
  {
   "cell_type": "code",
   "execution_count": 81,
   "metadata": {},
   "outputs": [
    {
     "name": "stdout",
     "output_type": "stream",
     "text": [
      "Percentage of missing data in target columns:\n",
      "ICUAdmgt24h           0.0\n",
      "thirtydaymortality    0.0\n",
      "Mortality             0.0\n",
      "dtype: float64\n",
      "\n",
      "Percentage of missing data in categorical columns:\n",
      "RCRI_score    0.0\n",
      "dtype: float64\n",
      "\n",
      "Percentage of missing data in numerical columns:\n",
      "GENDER                                   0.000000\n",
      "Anemia category                          0.000000\n",
      "PreopEGFRMDRD                            0.000000\n",
      "DaysbetweenDeathandoperation            92.334965\n",
      "AnaestypeCategory                        0.000000\n",
      "PriorityCategory                         0.000000\n",
      "AGEcategory                              0.000000\n",
      "SurgRiskCategory                         0.000000\n",
      "CVARCRICategory                          0.000000\n",
      "IHDRCRICategory                          0.000000\n",
      "CHFRCRICategory                          0.000000\n",
      "DMinsulinRCRICategory                    0.000000\n",
      "CreatinineRCRICategory                   0.000000\n",
      "GradeofKidneyCategory                    0.000000\n",
      "RDW15.7                                  0.000000\n",
      "ASAcategorybinned                        0.000000\n",
      "Chinese                                  0.000000\n",
      "Indian                                   0.000000\n",
      "Malay                                    0.000000\n",
      "Perioperativetransfusionwithin30days     0.000000\n",
      "dtype: float64\n"
     ]
    }
   ],
   "source": [
    "# Function to calculate the percentage of missing data for given columns\n",
    "def calculate_missing_data_percentage(data, columns):\n",
    "    missing_data = data[columns].isnull().mean() * 100\n",
    "    return missing_data\n",
    "\n",
    "# Calculate the percentage of missing data for target columns\n",
    "missing_target_cols = calculate_missing_data_percentage(data, target_cols)\n",
    "print(\"Percentage of missing data in target columns:\")\n",
    "print(missing_target_cols)\n",
    "\n",
    "# Calculate the percentage of missing data for categorical columns\n",
    "missing_cat_cols = calculate_missing_data_percentage(data, cat_cols)\n",
    "print(\"\\nPercentage of missing data in categorical columns:\")\n",
    "print(missing_cat_cols)\n",
    "\n",
    "# Calculate the percentage of missing data for numerical columns\n",
    "missing_num_cols = calculate_missing_data_percentage(data, num_cols)\n",
    "print(\"\\nPercentage of missing data in numerical columns:\")\n",
    "print(missing_num_cols)"
   ]
  },
  {
   "cell_type": "code",
   "execution_count": 82,
   "metadata": {},
   "outputs": [
    {
     "data": {
      "text/plain": [
       "69667"
      ]
     },
     "execution_count": 82,
     "metadata": {},
     "output_type": "execute_result"
    }
   ],
   "source": [
    "len(data)"
   ]
  },
  {
   "cell_type": "code",
   "execution_count": 83,
   "metadata": {},
   "outputs": [],
   "source": [
    "data.drop(columns=['RCRI_score'], axis=1, inplace=True)"
   ]
  },
  {
   "cell_type": "code",
   "execution_count": 84,
   "metadata": {},
   "outputs": [],
   "source": [
    "data.to_csv('../data/CARES_encoded_ignorecols.csv', index=False)"
   ]
  }
 ],
 "metadata": {
  "kernelspec": {
   "display_name": "venv",
   "language": "python",
   "name": "python3"
  },
  "language_info": {
   "codemirror_mode": {
    "name": "ipython",
    "version": 3
   },
   "file_extension": ".py",
   "mimetype": "text/x-python",
   "name": "python",
   "nbconvert_exporter": "python",
   "pygments_lexer": "ipython3",
   "version": "3.11.9"
  }
 },
 "nbformat": 4,
 "nbformat_minor": 2
}
