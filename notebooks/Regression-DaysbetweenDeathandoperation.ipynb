{
 "cells": [
  {
   "cell_type": "code",
   "execution_count": 199,
   "id": "bee3fdcd-6273-4ed0-ad2c-bea6317e9a92",
   "metadata": {},
   "outputs": [],
   "source": [
    "import numpy as np\n",
    "import pandas as pd\n",
    "import seaborn as sns\n",
    "import matplotlib.pyplot as plt\n",
    "from sklearn.preprocessing import PolynomialFeatures\n",
    "from sklearn.preprocessing import MinMaxScaler, RobustScaler, StandardScaler"
   ]
  },
  {
   "cell_type": "code",
   "execution_count": 221,
   "id": "9f7f859e-cac0-41bf-bc7c-6a449d4f1772",
   "metadata": {},
   "outputs": [
    {
     "data": {
      "text/html": [
       "<div>\n",
       "<style scoped>\n",
       "    .dataframe tbody tr th:only-of-type {\n",
       "        vertical-align: middle;\n",
       "    }\n",
       "\n",
       "    .dataframe tbody tr th {\n",
       "        vertical-align: top;\n",
       "    }\n",
       "\n",
       "    .dataframe thead th {\n",
       "        text-align: right;\n",
       "    }\n",
       "</style>\n",
       "<table border=\"1\" class=\"dataframe\">\n",
       "  <thead>\n",
       "    <tr style=\"text-align: right;\">\n",
       "      <th></th>\n",
       "      <th>AGE</th>\n",
       "      <th>GENDER</th>\n",
       "      <th>RCRI score</th>\n",
       "      <th>Anemia category</th>\n",
       "      <th>PreopEGFRMDRD</th>\n",
       "      <th>GradeofKidneydisease</th>\n",
       "      <th>DaysbetweenDeathandoperation</th>\n",
       "      <th>@30daymortality</th>\n",
       "      <th>Preoptransfusionwithin30days</th>\n",
       "      <th>Intraop</th>\n",
       "      <th>...</th>\n",
       "      <th>CVARCRICategory</th>\n",
       "      <th>IHDRCRICategory</th>\n",
       "      <th>CHFRCRICategory</th>\n",
       "      <th>DMinsulinRCRICategory</th>\n",
       "      <th>CreatinineRCRICategory</th>\n",
       "      <th>GradeofKidneyCategory</th>\n",
       "      <th>Anemiacategorybinned</th>\n",
       "      <th>RDW15.7</th>\n",
       "      <th>ASAcategorybinned</th>\n",
       "      <th>ICUAdmgt24h</th>\n",
       "    </tr>\n",
       "  </thead>\n",
       "  <tbody>\n",
       "    <tr>\n",
       "      <th>0</th>\n",
       "      <td>48</td>\n",
       "      <td>FEMALE</td>\n",
       "      <td>NaN</td>\n",
       "      <td>NaN</td>\n",
       "      <td>NaN</td>\n",
       "      <td>BLANK</td>\n",
       "      <td>NaN</td>\n",
       "      <td>NO</td>\n",
       "      <td>0</td>\n",
       "      <td>0</td>\n",
       "      <td>...</td>\n",
       "      <td>#NULL!</td>\n",
       "      <td>#NULL!</td>\n",
       "      <td>#NULL!</td>\n",
       "      <td>#NULL!</td>\n",
       "      <td>no</td>\n",
       "      <td>#NULL!</td>\n",
       "      <td>#NULL!</td>\n",
       "      <td>#NULL!</td>\n",
       "      <td>I</td>\n",
       "      <td>no</td>\n",
       "    </tr>\n",
       "    <tr>\n",
       "      <th>1</th>\n",
       "      <td>36</td>\n",
       "      <td>FEMALE</td>\n",
       "      <td>NaN</td>\n",
       "      <td>none</td>\n",
       "      <td>NaN</td>\n",
       "      <td>BLANK</td>\n",
       "      <td>NaN</td>\n",
       "      <td>NO</td>\n",
       "      <td>0</td>\n",
       "      <td>0</td>\n",
       "      <td>...</td>\n",
       "      <td>#NULL!</td>\n",
       "      <td>#NULL!</td>\n",
       "      <td>#NULL!</td>\n",
       "      <td>#NULL!</td>\n",
       "      <td>#NULL!</td>\n",
       "      <td>#NULL!</td>\n",
       "      <td>NaN</td>\n",
       "      <td>&lt;= 15.7</td>\n",
       "      <td>I</td>\n",
       "      <td>no</td>\n",
       "    </tr>\n",
       "    <tr>\n",
       "      <th>2</th>\n",
       "      <td>64</td>\n",
       "      <td>FEMALE</td>\n",
       "      <td>NaN</td>\n",
       "      <td>mild</td>\n",
       "      <td>152.538570</td>\n",
       "      <td>g1</td>\n",
       "      <td>NaN</td>\n",
       "      <td>NO</td>\n",
       "      <td>0</td>\n",
       "      <td>0</td>\n",
       "      <td>...</td>\n",
       "      <td>#NULL!</td>\n",
       "      <td>#NULL!</td>\n",
       "      <td>#NULL!</td>\n",
       "      <td>#NULL!</td>\n",
       "      <td>#NULL!</td>\n",
       "      <td>G1</td>\n",
       "      <td>Mild</td>\n",
       "      <td>&lt;= 15.7</td>\n",
       "      <td>I</td>\n",
       "      <td>no</td>\n",
       "    </tr>\n",
       "    <tr>\n",
       "      <th>3</th>\n",
       "      <td>73</td>\n",
       "      <td>MALE</td>\n",
       "      <td>NaN</td>\n",
       "      <td>moderate</td>\n",
       "      <td>117.231496</td>\n",
       "      <td>g1</td>\n",
       "      <td>NaN</td>\n",
       "      <td>NO</td>\n",
       "      <td>0</td>\n",
       "      <td>1</td>\n",
       "      <td>...</td>\n",
       "      <td>#NULL!</td>\n",
       "      <td>#NULL!</td>\n",
       "      <td>#NULL!</td>\n",
       "      <td>#NULL!</td>\n",
       "      <td>no</td>\n",
       "      <td>G1</td>\n",
       "      <td>Moderate/Severe</td>\n",
       "      <td>&lt;= 15.7</td>\n",
       "      <td>I</td>\n",
       "      <td>no</td>\n",
       "    </tr>\n",
       "    <tr>\n",
       "      <th>4</th>\n",
       "      <td>73</td>\n",
       "      <td>MALE</td>\n",
       "      <td>0.0</td>\n",
       "      <td>mild</td>\n",
       "      <td>98.651255</td>\n",
       "      <td>g1</td>\n",
       "      <td>59.0</td>\n",
       "      <td>NO</td>\n",
       "      <td>0</td>\n",
       "      <td>0</td>\n",
       "      <td>...</td>\n",
       "      <td>no</td>\n",
       "      <td>no</td>\n",
       "      <td>no</td>\n",
       "      <td>no</td>\n",
       "      <td>no</td>\n",
       "      <td>G1</td>\n",
       "      <td>Mild</td>\n",
       "      <td>&gt;15.7</td>\n",
       "      <td>II</td>\n",
       "      <td>no</td>\n",
       "    </tr>\n",
       "    <tr>\n",
       "      <th>...</th>\n",
       "      <td>...</td>\n",
       "      <td>...</td>\n",
       "      <td>...</td>\n",
       "      <td>...</td>\n",
       "      <td>...</td>\n",
       "      <td>...</td>\n",
       "      <td>...</td>\n",
       "      <td>...</td>\n",
       "      <td>...</td>\n",
       "      <td>...</td>\n",
       "      <td>...</td>\n",
       "      <td>...</td>\n",
       "      <td>...</td>\n",
       "      <td>...</td>\n",
       "      <td>...</td>\n",
       "      <td>...</td>\n",
       "      <td>...</td>\n",
       "      <td>...</td>\n",
       "      <td>...</td>\n",
       "      <td>...</td>\n",
       "      <td>...</td>\n",
       "    </tr>\n",
       "    <tr>\n",
       "      <th>78860</th>\n",
       "      <td>81</td>\n",
       "      <td>FEMALE</td>\n",
       "      <td>0.0</td>\n",
       "      <td>none</td>\n",
       "      <td>57.609630</td>\n",
       "      <td>G3a</td>\n",
       "      <td>NaN</td>\n",
       "      <td>NO</td>\n",
       "      <td>0</td>\n",
       "      <td>0</td>\n",
       "      <td>...</td>\n",
       "      <td>no</td>\n",
       "      <td>no</td>\n",
       "      <td>no</td>\n",
       "      <td>no</td>\n",
       "      <td>no</td>\n",
       "      <td>G3</td>\n",
       "      <td>NaN</td>\n",
       "      <td>&lt;= 15.7</td>\n",
       "      <td>II</td>\n",
       "      <td>no</td>\n",
       "    </tr>\n",
       "    <tr>\n",
       "      <th>78861</th>\n",
       "      <td>46</td>\n",
       "      <td>MALE</td>\n",
       "      <td>NaN</td>\n",
       "      <td>NaN</td>\n",
       "      <td>NaN</td>\n",
       "      <td>BLANK</td>\n",
       "      <td>NaN</td>\n",
       "      <td>NO</td>\n",
       "      <td>0</td>\n",
       "      <td>0</td>\n",
       "      <td>...</td>\n",
       "      <td>#NULL!</td>\n",
       "      <td>#NULL!</td>\n",
       "      <td>#NULL!</td>\n",
       "      <td>#NULL!</td>\n",
       "      <td>yes</td>\n",
       "      <td>#NULL!</td>\n",
       "      <td>#NULL!</td>\n",
       "      <td>#NULL!</td>\n",
       "      <td>III</td>\n",
       "      <td>no</td>\n",
       "    </tr>\n",
       "    <tr>\n",
       "      <th>78862</th>\n",
       "      <td>66</td>\n",
       "      <td>FEMALE</td>\n",
       "      <td>2.0</td>\n",
       "      <td>mild</td>\n",
       "      <td>48.339582</td>\n",
       "      <td>G3a</td>\n",
       "      <td>NaN</td>\n",
       "      <td>NO</td>\n",
       "      <td>0</td>\n",
       "      <td>0</td>\n",
       "      <td>...</td>\n",
       "      <td>no</td>\n",
       "      <td>no</td>\n",
       "      <td>no</td>\n",
       "      <td>yes</td>\n",
       "      <td>no</td>\n",
       "      <td>G3</td>\n",
       "      <td>Mild</td>\n",
       "      <td>&lt;= 15.7</td>\n",
       "      <td>II</td>\n",
       "      <td>no</td>\n",
       "    </tr>\n",
       "    <tr>\n",
       "      <th>78863</th>\n",
       "      <td>50</td>\n",
       "      <td>MALE</td>\n",
       "      <td>1.0</td>\n",
       "      <td>moderate</td>\n",
       "      <td>126.592489</td>\n",
       "      <td>g1</td>\n",
       "      <td>NaN</td>\n",
       "      <td>NO</td>\n",
       "      <td>0</td>\n",
       "      <td>0</td>\n",
       "      <td>...</td>\n",
       "      <td>no</td>\n",
       "      <td>no</td>\n",
       "      <td>no</td>\n",
       "      <td>yes</td>\n",
       "      <td>no</td>\n",
       "      <td>G1</td>\n",
       "      <td>Moderate/Severe</td>\n",
       "      <td>&lt;= 15.7</td>\n",
       "      <td>#NULL!</td>\n",
       "      <td>no</td>\n",
       "    </tr>\n",
       "    <tr>\n",
       "      <th>78864</th>\n",
       "      <td>58</td>\n",
       "      <td>FEMALE</td>\n",
       "      <td>NaN</td>\n",
       "      <td>none</td>\n",
       "      <td>86.306771</td>\n",
       "      <td>G2</td>\n",
       "      <td>NaN</td>\n",
       "      <td>NO</td>\n",
       "      <td>0</td>\n",
       "      <td>0</td>\n",
       "      <td>...</td>\n",
       "      <td>#NULL!</td>\n",
       "      <td>#NULL!</td>\n",
       "      <td>#NULL!</td>\n",
       "      <td>#NULL!</td>\n",
       "      <td>#NULL!</td>\n",
       "      <td>G2</td>\n",
       "      <td>NaN</td>\n",
       "      <td>&lt;= 15.7</td>\n",
       "      <td>#NULL!</td>\n",
       "      <td>no</td>\n",
       "    </tr>\n",
       "  </tbody>\n",
       "</table>\n",
       "<p>78865 rows × 31 columns</p>\n",
       "</div>"
      ],
      "text/plain": [
       "       AGE  GENDER  RCRI score Anemia category  PreopEGFRMDRD  \\\n",
       "0       48  FEMALE         NaN             NaN            NaN   \n",
       "1       36  FEMALE         NaN            none            NaN   \n",
       "2       64  FEMALE         NaN            mild     152.538570   \n",
       "3       73    MALE         NaN        moderate     117.231496   \n",
       "4       73    MALE         0.0            mild      98.651255   \n",
       "...    ...     ...         ...             ...            ...   \n",
       "78860   81  FEMALE         0.0            none      57.609630   \n",
       "78861   46    MALE         NaN             NaN            NaN   \n",
       "78862   66  FEMALE         2.0            mild      48.339582   \n",
       "78863   50    MALE         1.0        moderate     126.592489   \n",
       "78864   58  FEMALE         NaN            none      86.306771   \n",
       "\n",
       "      GradeofKidneydisease  DaysbetweenDeathandoperation @30daymortality  \\\n",
       "0                    BLANK                           NaN              NO   \n",
       "1                    BLANK                           NaN              NO   \n",
       "2                       g1                           NaN              NO   \n",
       "3                       g1                           NaN              NO   \n",
       "4                       g1                          59.0              NO   \n",
       "...                    ...                           ...             ...   \n",
       "78860                  G3a                           NaN              NO   \n",
       "78861                BLANK                           NaN              NO   \n",
       "78862                  G3a                           NaN              NO   \n",
       "78863                   g1                           NaN              NO   \n",
       "78864                   G2                           NaN              NO   \n",
       "\n",
       "       Preoptransfusionwithin30days  Intraop  ...  CVARCRICategory  \\\n",
       "0                                 0        0  ...           #NULL!   \n",
       "1                                 0        0  ...           #NULL!   \n",
       "2                                 0        0  ...           #NULL!   \n",
       "3                                 0        1  ...           #NULL!   \n",
       "4                                 0        0  ...               no   \n",
       "...                             ...      ...  ...              ...   \n",
       "78860                             0        0  ...               no   \n",
       "78861                             0        0  ...           #NULL!   \n",
       "78862                             0        0  ...               no   \n",
       "78863                             0        0  ...               no   \n",
       "78864                             0        0  ...           #NULL!   \n",
       "\n",
       "       IHDRCRICategory CHFRCRICategory DMinsulinRCRICategory  \\\n",
       "0               #NULL!          #NULL!                #NULL!   \n",
       "1               #NULL!          #NULL!                #NULL!   \n",
       "2               #NULL!          #NULL!                #NULL!   \n",
       "3               #NULL!          #NULL!                #NULL!   \n",
       "4                   no              no                    no   \n",
       "...                ...             ...                   ...   \n",
       "78860               no              no                    no   \n",
       "78861           #NULL!          #NULL!                #NULL!   \n",
       "78862               no              no                   yes   \n",
       "78863               no              no                   yes   \n",
       "78864           #NULL!          #NULL!                #NULL!   \n",
       "\n",
       "      CreatinineRCRICategory GradeofKidneyCategory Anemiacategorybinned  \\\n",
       "0                         no                #NULL!               #NULL!   \n",
       "1                     #NULL!                #NULL!                  NaN   \n",
       "2                     #NULL!                    G1                 Mild   \n",
       "3                         no                    G1      Moderate/Severe   \n",
       "4                         no                    G1                 Mild   \n",
       "...                      ...                   ...                  ...   \n",
       "78860                     no                    G3                  NaN   \n",
       "78861                    yes                #NULL!               #NULL!   \n",
       "78862                     no                    G3                 Mild   \n",
       "78863                     no                    G1      Moderate/Severe   \n",
       "78864                 #NULL!                    G2                  NaN   \n",
       "\n",
       "       RDW15.7 ASAcategorybinned ICUAdmgt24h  \n",
       "0       #NULL!                 I          no  \n",
       "1      <= 15.7                 I          no  \n",
       "2      <= 15.7                 I          no  \n",
       "3      <= 15.7                 I          no  \n",
       "4        >15.7                II          no  \n",
       "...        ...               ...         ...  \n",
       "78860  <= 15.7                II          no  \n",
       "78861   #NULL!               III          no  \n",
       "78862  <= 15.7                II          no  \n",
       "78863  <= 15.7            #NULL!          no  \n",
       "78864  <= 15.7            #NULL!          no  \n",
       "\n",
       "[78865 rows x 31 columns]"
      ]
     },
     "execution_count": 221,
     "metadata": {},
     "output_type": "execute_result"
    }
   ],
   "source": [
    "cares = pd.read_csv(\"../data/CARES_continuous.csv\")\n",
    "cares"
   ]
  },
  {
   "cell_type": "code",
   "execution_count": 215,
   "id": "42d28a8a-85a5-45b1-be09-f4d2a1e5862a",
   "metadata": {},
   "outputs": [
    {
     "data": {
      "text/plain": [
       "Index(['GENDER', 'RCRI score', 'Anemia category', 'PreopEGFRMDRD',\n",
       "       'DaysbetweenDeathandoperation', 'Preoptransfusionwithin30days',\n",
       "       'Intraop', 'Postopwithin30days', 'Transfusionintraandpostop',\n",
       "       'AnaestypeCategory', 'PriorityCategory',\n",
       "       'TransfusionIntraandpostopCategory', 'AGEcategory', 'Mortality',\n",
       "       'thirtydaymortality', 'SurgRiskCategory', 'CVARCRICategory',\n",
       "       'IHDRCRICategory', 'CHFRCRICategory', 'DMinsulinRCRICategory',\n",
       "       'CreatinineRCRICategory', 'GradeofKidneyCategory', 'RDW15.7',\n",
       "       'ASAcategorybinned', 'ICUAdmgt24h', 'Chinese', 'Indian', 'Malay'],\n",
       "      dtype='object')"
      ]
     },
     "execution_count": 215,
     "metadata": {},
     "output_type": "execute_result"
    }
   ],
   "source": [
    "cares.columns"
   ]
  },
  {
   "cell_type": "code",
   "execution_count": 222,
   "id": "dfb69dde-4b9b-4ca0-a2c6-b7120c45f687",
   "metadata": {},
   "outputs": [],
   "source": [
    "# features are those that are continuous\n",
    "days_significant_columns = [\n",
    "    'PreopEGFRMDRD',\n",
    "    'Preoptransfusionwithin30days',\n",
    "    'Intraop',\n",
    "    'Postopwithin30days',\n",
    "    'Transfusionintraandpostop'\n",
    "]\n",
    "\n",
    "days_cares = cares[days_significant_columns + ['DaysbetweenDeathandoperation']]"
   ]
  },
  {
   "cell_type": "code",
   "execution_count": 224,
   "id": "16a49f63-3716-4589-bf24-6dd6dadf6fa7",
   "metadata": {},
   "outputs": [],
   "source": [
    "days_cares = days_cares.dropna(subset=['PreopEGFRMDRD','DaysbetweenDeathandoperation'])\n",
    "# dont drop first"
   ]
  },
  {
   "cell_type": "code",
   "execution_count": 225,
   "id": "9c06b798",
   "metadata": {},
   "outputs": [
    {
     "data": {
      "text/html": [
       "<div>\n",
       "<style scoped>\n",
       "    .dataframe tbody tr th:only-of-type {\n",
       "        vertical-align: middle;\n",
       "    }\n",
       "\n",
       "    .dataframe tbody tr th {\n",
       "        vertical-align: top;\n",
       "    }\n",
       "\n",
       "    .dataframe thead th {\n",
       "        text-align: right;\n",
       "    }\n",
       "</style>\n",
       "<table border=\"1\" class=\"dataframe\">\n",
       "  <thead>\n",
       "    <tr style=\"text-align: right;\">\n",
       "      <th></th>\n",
       "      <th>Missing Values</th>\n",
       "      <th>Percentage</th>\n",
       "    </tr>\n",
       "  </thead>\n",
       "  <tbody>\n",
       "    <tr>\n",
       "      <th>PreopEGFRMDRD</th>\n",
       "      <td>0</td>\n",
       "      <td>0.0</td>\n",
       "    </tr>\n",
       "    <tr>\n",
       "      <th>Preoptransfusionwithin30days</th>\n",
       "      <td>0</td>\n",
       "      <td>0.0</td>\n",
       "    </tr>\n",
       "    <tr>\n",
       "      <th>Intraop</th>\n",
       "      <td>0</td>\n",
       "      <td>0.0</td>\n",
       "    </tr>\n",
       "    <tr>\n",
       "      <th>Postopwithin30days</th>\n",
       "      <td>0</td>\n",
       "      <td>0.0</td>\n",
       "    </tr>\n",
       "    <tr>\n",
       "      <th>Transfusionintraandpostop</th>\n",
       "      <td>0</td>\n",
       "      <td>0.0</td>\n",
       "    </tr>\n",
       "    <tr>\n",
       "      <th>DaysbetweenDeathandoperation</th>\n",
       "      <td>0</td>\n",
       "      <td>0.0</td>\n",
       "    </tr>\n",
       "  </tbody>\n",
       "</table>\n",
       "</div>"
      ],
      "text/plain": [
       "                              Missing Values  Percentage\n",
       "PreopEGFRMDRD                              0         0.0\n",
       "Preoptransfusionwithin30days               0         0.0\n",
       "Intraop                                    0         0.0\n",
       "Postopwithin30days                         0         0.0\n",
       "Transfusionintraandpostop                  0         0.0\n",
       "DaysbetweenDeathandoperation               0         0.0"
      ]
     },
     "execution_count": 225,
     "metadata": {},
     "output_type": "execute_result"
    }
   ],
   "source": [
    "def check_missing_values(df):\n",
    "    \"\"\"\n",
    "    This function checks for missing values in each column of a DataFrame.\n",
    "    \n",
    "    Parameters:\n",
    "    df (pandas.DataFrame): The DataFrame to check for missing values.\n",
    "    \n",
    "    Returns:\n",
    "    pandas.DataFrame: A DataFrame containing the count and percentage of missing values for each column.\n",
    "    \"\"\"\n",
    "    missing_values = df.isnull().sum()\n",
    "    missing_percentage = (missing_values / len(df)) * 100\n",
    "    \n",
    "    missing_df = pd.DataFrame({\n",
    "        'Missing Values': missing_values,\n",
    "        'Percentage': missing_percentage\n",
    "    })\n",
    "    \n",
    "    return missing_df\n",
    "\n",
    "check_missing_values(days_cares)"
   ]
  },
  {
   "cell_type": "markdown",
   "id": "e0cb6e42",
   "metadata": {},
   "source": [
    "78865 - 73274 = 5,591"
   ]
  },
  {
   "cell_type": "code",
   "execution_count": 226,
   "id": "82959303-8f47-4053-83b6-f4f3e5198aad",
   "metadata": {},
   "outputs": [
    {
     "data": {
      "text/plain": [
       "(5371, 6)"
      ]
     },
     "execution_count": 226,
     "metadata": {},
     "output_type": "execute_result"
    }
   ],
   "source": [
    "days_cares.shape"
   ]
  },
  {
   "cell_type": "code",
   "execution_count": 227,
   "id": "c3965e0b",
   "metadata": {},
   "outputs": [
    {
     "data": {
      "text/html": [
       "<div>\n",
       "<style scoped>\n",
       "    .dataframe tbody tr th:only-of-type {\n",
       "        vertical-align: middle;\n",
       "    }\n",
       "\n",
       "    .dataframe tbody tr th {\n",
       "        vertical-align: top;\n",
       "    }\n",
       "\n",
       "    .dataframe thead th {\n",
       "        text-align: right;\n",
       "    }\n",
       "</style>\n",
       "<table border=\"1\" class=\"dataframe\">\n",
       "  <thead>\n",
       "    <tr style=\"text-align: right;\">\n",
       "      <th></th>\n",
       "      <th>PreopEGFRMDRD</th>\n",
       "      <th>Preoptransfusionwithin30days</th>\n",
       "      <th>Intraop</th>\n",
       "      <th>Postopwithin30days</th>\n",
       "      <th>Transfusionintraandpostop</th>\n",
       "      <th>DaysbetweenDeathandoperation</th>\n",
       "    </tr>\n",
       "  </thead>\n",
       "  <tbody>\n",
       "    <tr>\n",
       "      <th>4</th>\n",
       "      <td>98.651255</td>\n",
       "      <td>0</td>\n",
       "      <td>0</td>\n",
       "      <td>0</td>\n",
       "      <td>0</td>\n",
       "      <td>59.0</td>\n",
       "    </tr>\n",
       "    <tr>\n",
       "      <th>45</th>\n",
       "      <td>95.849232</td>\n",
       "      <td>0</td>\n",
       "      <td>0</td>\n",
       "      <td>0</td>\n",
       "      <td>0</td>\n",
       "      <td>1063.0</td>\n",
       "    </tr>\n",
       "    <tr>\n",
       "      <th>103</th>\n",
       "      <td>102.832998</td>\n",
       "      <td>0</td>\n",
       "      <td>0</td>\n",
       "      <td>0</td>\n",
       "      <td>0</td>\n",
       "      <td>793.0</td>\n",
       "    </tr>\n",
       "    <tr>\n",
       "      <th>107</th>\n",
       "      <td>99.129633</td>\n",
       "      <td>0</td>\n",
       "      <td>0</td>\n",
       "      <td>0</td>\n",
       "      <td>0</td>\n",
       "      <td>17.0</td>\n",
       "    </tr>\n",
       "    <tr>\n",
       "      <th>108</th>\n",
       "      <td>107.520574</td>\n",
       "      <td>0</td>\n",
       "      <td>0</td>\n",
       "      <td>0</td>\n",
       "      <td>0</td>\n",
       "      <td>433.0</td>\n",
       "    </tr>\n",
       "  </tbody>\n",
       "</table>\n",
       "</div>"
      ],
      "text/plain": [
       "     PreopEGFRMDRD  Preoptransfusionwithin30days  Intraop  Postopwithin30days  \\\n",
       "4        98.651255                             0        0                   0   \n",
       "45       95.849232                             0        0                   0   \n",
       "103     102.832998                             0        0                   0   \n",
       "107      99.129633                             0        0                   0   \n",
       "108     107.520574                             0        0                   0   \n",
       "\n",
       "     Transfusionintraandpostop  DaysbetweenDeathandoperation  \n",
       "4                            0                          59.0  \n",
       "45                           0                        1063.0  \n",
       "103                          0                         793.0  \n",
       "107                          0                          17.0  \n",
       "108                          0                         433.0  "
      ]
     },
     "execution_count": 227,
     "metadata": {},
     "output_type": "execute_result"
    }
   ],
   "source": [
    "days_cares.head()"
   ]
  },
  {
   "cell_type": "markdown",
   "id": "e0552cfe",
   "metadata": {},
   "source": [
    "Check if features need rescaling"
   ]
  },
  {
   "cell_type": "code",
   "execution_count": 147,
   "id": "0d67bce6",
   "metadata": {},
   "outputs": [
    {
     "data": {
      "text/plain": [
       "AGEcategory\n",
       "2    1741\n",
       "3    1546\n",
       "4    1215\n",
       "1     465\n",
       "5     364\n",
       "0      42\n",
       "Name: count, dtype: int64"
      ]
     },
     "execution_count": 147,
     "metadata": {},
     "output_type": "execute_result"
    }
   ],
   "source": [
    "days_cares['AGEcategory'].value_counts()"
   ]
  },
  {
   "cell_type": "code",
   "execution_count": 148,
   "id": "7b913179",
   "metadata": {},
   "outputs": [
    {
     "data": {
      "text/plain": [
       "PreopEGFRMDRD\n",
       "112.382587    6\n",
       "96.448454     5\n",
       "103.500168    5\n",
       "83.071515     4\n",
       "108.871038    4\n",
       "             ..\n",
       "122.038330    1\n",
       "32.114377     1\n",
       "109.175965    1\n",
       "269.023482    1\n",
       "177.230873    1\n",
       "Name: count, Length: 4444, dtype: int64"
      ]
     },
     "execution_count": 148,
     "metadata": {},
     "output_type": "execute_result"
    }
   ],
   "source": [
    "days_cares['PreopEGFRMDRD'].value_counts()"
   ]
  },
  {
   "cell_type": "markdown",
   "id": "52debb48",
   "metadata": {},
   "source": [
    "Check deeper for PreopEGFRMDRD"
   ]
  },
  {
   "cell_type": "code",
   "execution_count": 149,
   "id": "0e6d0ad5",
   "metadata": {},
   "outputs": [
    {
     "data": {
      "text/plain": [
       "count    5373.000000\n",
       "mean       78.585733\n",
       "std        52.249525\n",
       "min         2.541026\n",
       "25%        39.380409\n",
       "50%        76.907395\n",
       "75%       107.464507\n",
       "max       588.466578\n",
       "Name: PreopEGFRMDRD, dtype: float64"
      ]
     },
     "execution_count": 149,
     "metadata": {},
     "output_type": "execute_result"
    }
   ],
   "source": [
    "days_cares['PreopEGFRMDRD'].describe()"
   ]
  },
  {
   "cell_type": "code",
   "execution_count": 150,
   "id": "eb03a626",
   "metadata": {},
   "outputs": [
    {
     "data": {
      "text/plain": [
       "Preoptransfusionwithin30days\n",
       "0.0     4773\n",
       "1.0      272\n",
       "2.0      146\n",
       "3.0       71\n",
       "4.0       32\n",
       "5.0       22\n",
       "7.0       17\n",
       "8.0       12\n",
       "6.0       12\n",
       "11.0       4\n",
       "14.0       3\n",
       "10.0       2\n",
       "9.0        2\n",
       "13.0       2\n",
       "17.0       1\n",
       "12.0       1\n",
       "21.0       1\n",
       "Name: count, dtype: int64"
      ]
     },
     "execution_count": 150,
     "metadata": {},
     "output_type": "execute_result"
    }
   ],
   "source": [
    "days_cares['Preoptransfusionwithin30days'].value_counts()"
   ]
  },
  {
   "cell_type": "code",
   "execution_count": 151,
   "id": "7a479503",
   "metadata": {},
   "outputs": [
    {
     "data": {
      "text/plain": [
       "Intraop\n",
       "0.0    4180\n",
       "1.0    1193\n",
       "Name: count, dtype: int64"
      ]
     },
     "execution_count": 151,
     "metadata": {},
     "output_type": "execute_result"
    }
   ],
   "source": [
    "days_cares['Intraop'].value_counts()"
   ]
  },
  {
   "cell_type": "code",
   "execution_count": 152,
   "id": "a29fa864",
   "metadata": {},
   "outputs": [
    {
     "data": {
      "text/plain": [
       "Postopwithin30days\n",
       "0.0     5029\n",
       "1.0      192\n",
       "2.0       67\n",
       "3.0       32\n",
       "5.0       14\n",
       "4.0       12\n",
       "6.0        8\n",
       "7.0        8\n",
       "8.0        4\n",
       "9.0        3\n",
       "15.0       1\n",
       "12.0       1\n",
       "23.0       1\n",
       "10.0       1\n",
       "Name: count, dtype: int64"
      ]
     },
     "execution_count": 152,
     "metadata": {},
     "output_type": "execute_result"
    }
   ],
   "source": [
    "days_cares['Postopwithin30days'].value_counts()"
   ]
  },
  {
   "cell_type": "code",
   "execution_count": 154,
   "id": "eb23585c",
   "metadata": {},
   "outputs": [
    {
     "data": {
      "text/plain": [
       "Transfusionintraandpostop\n",
       "0.0     4176\n",
       "1.0      855\n",
       "2.0      192\n",
       "3.0       65\n",
       "4.0       32\n",
       "6.0       14\n",
       "5.0       12\n",
       "7.0        8\n",
       "8.0        8\n",
       "9.0        4\n",
       "10.0       3\n",
       "16.0       1\n",
       "13.0       1\n",
       "24.0       1\n",
       "11.0       1\n",
       "Name: count, dtype: int64"
      ]
     },
     "execution_count": 154,
     "metadata": {},
     "output_type": "execute_result"
    }
   ],
   "source": [
    "days_cares['Transfusionintraandpostop'].value_counts()"
   ]
  },
  {
   "cell_type": "markdown",
   "id": "906fcb79",
   "metadata": {},
   "source": [
    "From the above, PreopEGFRMDRD needs to be normalized as the range is significantly different from the rest"
   ]
  },
  {
   "cell_type": "code",
   "execution_count": 228,
   "id": "201b7c46",
   "metadata": {},
   "outputs": [
    {
     "name": "stdout",
     "output_type": "stream",
     "text": [
      "DomainScaler:\n",
      "count    5371.000000\n",
      "mean        3.273871\n",
      "std         2.177282\n",
      "min         0.105876\n",
      "25%         1.640167\n",
      "50%         3.204084\n",
      "75%         4.477688\n",
      "max        24.519441\n",
      "Name: PreopEGFRMDRD, dtype: float64\n"
     ]
    }
   ],
   "source": [
    "#use domain scaler to fit into range of other features since they share a common range from 0 to 24\n",
    "\n",
    "days_cares['PreopEGFRMDRD'] = (days_cares['PreopEGFRMDRD']-0)/(24-0)\n",
    "print('DomainScaler:\\n{}'.format(days_cares['PreopEGFRMDRD'].describe()))"
   ]
  },
  {
   "cell_type": "markdown",
   "id": "20a6749b",
   "metadata": {},
   "source": [
    "Now let's look at dependent variable"
   ]
  },
  {
   "cell_type": "code",
   "execution_count": 229,
   "id": "28d15485-5509-4a0f-a516-cd7608e25e25",
   "metadata": {},
   "outputs": [
    {
     "data": {
      "text/plain": [
       "DaysbetweenDeathandoperation\n",
       "False    5371\n",
       "Name: count, dtype: int64"
      ]
     },
     "execution_count": 229,
     "metadata": {},
     "output_type": "execute_result"
    }
   ],
   "source": [
    "days_cares[\"DaysbetweenDeathandoperation\"].isna().value_counts()"
   ]
  },
  {
   "cell_type": "code",
   "execution_count": 230,
   "id": "d5f50f01",
   "metadata": {},
   "outputs": [
    {
     "data": {
      "text/plain": [
       "DaysbetweenDeathandoperation\n",
       "1.0       32\n",
       "7.0       26\n",
       "4.0       24\n",
       "6.0       23\n",
       "13.0      22\n",
       "          ..\n",
       "1393.0     1\n",
       "1551.0     1\n",
       "1309.0     1\n",
       "965.0      1\n",
       "1315.0     1\n",
       "Name: count, Length: 1400, dtype: int64"
      ]
     },
     "execution_count": 230,
     "metadata": {},
     "output_type": "execute_result"
    }
   ],
   "source": [
    "days_cares['DaysbetweenDeathandoperation'].value_counts()"
   ]
  },
  {
   "cell_type": "code",
   "execution_count": 231,
   "id": "3f0e19ac",
   "metadata": {},
   "outputs": [
    {
     "data": {
      "text/plain": [
       "count    5371.000000\n",
       "mean      476.665612\n",
       "std       424.401938\n",
       "min         0.000000\n",
       "25%       119.000000\n",
       "50%       352.000000\n",
       "75%       748.500000\n",
       "max      1783.000000\n",
       "Name: DaysbetweenDeathandoperation, dtype: float64"
      ]
     },
     "execution_count": 231,
     "metadata": {},
     "output_type": "execute_result"
    }
   ],
   "source": [
    "days_cares['DaysbetweenDeathandoperation'].describe()"
   ]
  },
  {
   "cell_type": "code",
   "execution_count": 232,
   "id": "d42d20b4-be25-4fb2-8c5d-b05838d58e36",
   "metadata": {},
   "outputs": [
    {
     "data": {
      "image/png": "[encoded data removed]",
      "text/plain": [
       "<Figure size 2000x2000 with 1 Axes>"
      ]
     },
     "metadata": {},
     "output_type": "display_data"
    }
   ],
   "source": [
    "p = days_cares[\"DaysbetweenDeathandoperation\"].hist(figsize=(20,20))"
   ]
  },
  {
   "cell_type": "markdown",
   "id": "a0aebdd2",
   "metadata": {},
   "source": [
    "Dependent variable is highly skewed, let's try to normalize it"
   ]
  },
  {
   "cell_type": "code",
   "execution_count": 160,
   "id": "ca7d8722",
   "metadata": {},
   "outputs": [
    {
     "name": "stdout",
     "output_type": "stream",
     "text": [
      "DomainScaler:\n",
      "count    5373.000000\n",
      "mean       19.859227\n",
      "std        17.680380\n",
      "min         0.000000\n",
      "25%         4.958333\n",
      "50%        14.666667\n",
      "75%        31.166667\n",
      "max        74.291667\n",
      "Name: DaysbetweenDeathandoperation, dtype: float64\n"
     ]
    }
   ],
   "source": [
    "days_cares['DaysbetweenDeathandoperation'] = (days_cares['DaysbetweenDeathandoperation']-0)/(24-0)\n",
    "print('DomainScaler:\\n{}'.format(days_cares['DaysbetweenDeathandoperation'].describe()))"
   ]
  },
  {
   "cell_type": "markdown",
   "id": "c166900d-c0b6-4fd1-a415-f9b0bb481926",
   "metadata": {},
   "source": [
    "# Simple Modeling (lin reg, DT reg, ridge, lasso)"
   ]
  },
  {
   "cell_type": "code",
   "execution_count": 233,
   "id": "870b5bbe-2e4e-44ad-849f-fd0ba0b88843",
   "metadata": {},
   "outputs": [],
   "source": [
    "RANDOM_SEED = 623"
   ]
  },
  {
   "cell_type": "code",
   "execution_count": 234,
   "id": "419760cc-4383-4976-8602-d4725fb7e6c2",
   "metadata": {},
   "outputs": [],
   "source": [
    "np.random.seed(RANDOM_SEED)"
   ]
  },
  {
   "cell_type": "code",
   "execution_count": 235,
   "id": "be5b55a5-69f6-45ad-b91d-cbd41615a85d",
   "metadata": {},
   "outputs": [],
   "source": [
    "from sklearn.model_selection import train_test_split\n",
    "from sklearn.tree import DecisionTreeRegressor # Import Decision Tree Classifier\n",
    "from sklearn import tree, linear_model\n",
    "from sklearn.linear_model import LinearRegression, Ridge, Lasso\n",
    "\n",
    "from sklearn.metrics import mean_absolute_error, mean_squared_error, r2_score"
   ]
  },
  {
   "cell_type": "code",
   "execution_count": null,
   "id": "88c50eb1",
   "metadata": {},
   "outputs": [],
   "source": [
    "'''\n",
    "[\n",
    "    'AGEcategory',\n",
    "    'PreopEGFRMDRD',\n",
    "    'Preoptransfusionwithin30days',\n",
    "    'Intraop',\n",
    "    'Postopwithin30days',\n",
    "    'Transfusionintraandpostop'\n",
    "]\n",
    "'''"
   ]
  },
  {
   "cell_type": "code",
   "execution_count": 269,
   "id": "86c3ed59-d174-472d-a0f8-3dec2f26a2b7",
   "metadata": {},
   "outputs": [],
   "source": [
    "X = days_cares[['Preoptransfusionwithin30days','Intraop']]\n",
    "y = days_cares['DaysbetweenDeathandoperation']\n",
    "X_train, X_test, y_train, y_test = train_test_split(X, y, test_size=0.3, random_state=RANDOM_SEED)"
   ]
  },
  {
   "cell_type": "code",
   "execution_count": 270,
   "id": "acbde716",
   "metadata": {},
   "outputs": [
    {
     "name": "stdout",
     "output_type": "stream",
     "text": [
      "Shape of X_train: (3759, 2)\n",
      "Shape of y_train: (3759,)\n",
      "Shape of X_test: (1612, 2)\n",
      "Shape of y_test: (1612,)\n"
     ]
    }
   ],
   "source": [
    "# Check the shapes\n",
    "print(\"Shape of X_train:\", X_train.shape)\n",
    "print(\"Shape of y_train:\", y_train.shape)\n",
    "print(\"Shape of X_test:\", X_test.shape)\n",
    "print(\"Shape of y_test:\", y_test.shape)"
   ]
  },
  {
   "cell_type": "code",
   "execution_count": 271,
   "id": "6c01c973",
   "metadata": {},
   "outputs": [
    {
     "ename": "ValueError",
     "evalue": "Found input variables with inconsistent numbers of samples: [7518, 3759]",
     "output_type": "error",
     "traceback": [
      "\u001b[1;31m---------------------------------------------------------------------------\u001b[0m",
      "\u001b[1;31mValueError\u001b[0m                                Traceback (most recent call last)",
      "Cell \u001b[1;32mIn[271], line 28\u001b[0m\n\u001b[0;32m     25\u001b[0m linreg \u001b[38;5;241m=\u001b[39m LinearRegression()\n\u001b[0;32m     27\u001b[0m \u001b[38;5;66;03m# Train the linear regressor with X_train data with polynomial features added of degree N\u001b[39;00m\n\u001b[1;32m---> 28\u001b[0m \u001b[43mlinreg\u001b[49m\u001b[38;5;241;43m.\u001b[39;49m\u001b[43mfit\u001b[49m\u001b[43m(\u001b[49m\u001b[43mX_train_\u001b[49m\u001b[43m,\u001b[49m\u001b[43m \u001b[49m\u001b[43my_train\u001b[49m\u001b[43m)\u001b[49m\n\u001b[0;32m     30\u001b[0m \u001b[38;5;66;03m# Transform the test data to include polynomial features of the same degree\u001b[39;00m\n\u001b[0;32m     31\u001b[0m \u001b[38;5;66;03m#X_test_ = poly.fit_transform(X_test)\u001b[39;00m\n\u001b[0;32m     32\u001b[0m \n\u001b[0;32m     33\u001b[0m \u001b[38;5;66;03m# Transform the test data to include polynomial features of the same degree\u001b[39;00m\n\u001b[0;32m     34\u001b[0m X_test_ \u001b[38;5;241m=\u001b[39m poly\u001b[38;5;241m.\u001b[39mfit_transform(X_test\u001b[38;5;241m.\u001b[39mvalues\u001b[38;5;241m.\u001b[39mreshape(\u001b[38;5;241m-\u001b[39m\u001b[38;5;241m1\u001b[39m, \u001b[38;5;241m1\u001b[39m))\n",
      "File \u001b[1;32m~\\AppData\\Local\\Packages\\PythonSoftwareFoundation.Python.3.12_qbz5n2kfra8p0\\LocalCache\\local-packages\\Python312\\site-packages\\sklearn\\base.py:1473\u001b[0m, in \u001b[0;36m_fit_context.<locals>.decorator.<locals>.wrapper\u001b[1;34m(estimator, *args, **kwargs)\u001b[0m\n\u001b[0;32m   1466\u001b[0m     estimator\u001b[38;5;241m.\u001b[39m_validate_params()\n\u001b[0;32m   1468\u001b[0m \u001b[38;5;28;01mwith\u001b[39;00m config_context(\n\u001b[0;32m   1469\u001b[0m     skip_parameter_validation\u001b[38;5;241m=\u001b[39m(\n\u001b[0;32m   1470\u001b[0m         prefer_skip_nested_validation \u001b[38;5;129;01mor\u001b[39;00m global_skip_validation\n\u001b[0;32m   1471\u001b[0m     )\n\u001b[0;32m   1472\u001b[0m ):\n\u001b[1;32m-> 1473\u001b[0m     \u001b[38;5;28;01mreturn\u001b[39;00m \u001b[43mfit_method\u001b[49m\u001b[43m(\u001b[49m\u001b[43mestimator\u001b[49m\u001b[43m,\u001b[49m\u001b[43m \u001b[49m\u001b[38;5;241;43m*\u001b[39;49m\u001b[43margs\u001b[49m\u001b[43m,\u001b[49m\u001b[43m \u001b[49m\u001b[38;5;241;43m*\u001b[39;49m\u001b[38;5;241;43m*\u001b[39;49m\u001b[43mkwargs\u001b[49m\u001b[43m)\u001b[49m\n",
      "File \u001b[1;32m~\\AppData\\Local\\Packages\\PythonSoftwareFoundation.Python.3.12_qbz5n2kfra8p0\\LocalCache\\local-packages\\Python312\\site-packages\\sklearn\\linear_model\\_base.py:609\u001b[0m, in \u001b[0;36mLinearRegression.fit\u001b[1;34m(self, X, y, sample_weight)\u001b[0m\n\u001b[0;32m    605\u001b[0m n_jobs_ \u001b[38;5;241m=\u001b[39m \u001b[38;5;28mself\u001b[39m\u001b[38;5;241m.\u001b[39mn_jobs\n\u001b[0;32m    607\u001b[0m accept_sparse \u001b[38;5;241m=\u001b[39m \u001b[38;5;28;01mFalse\u001b[39;00m \u001b[38;5;28;01mif\u001b[39;00m \u001b[38;5;28mself\u001b[39m\u001b[38;5;241m.\u001b[39mpositive \u001b[38;5;28;01melse\u001b[39;00m [\u001b[38;5;124m\"\u001b[39m\u001b[38;5;124mcsr\u001b[39m\u001b[38;5;124m\"\u001b[39m, \u001b[38;5;124m\"\u001b[39m\u001b[38;5;124mcsc\u001b[39m\u001b[38;5;124m\"\u001b[39m, \u001b[38;5;124m\"\u001b[39m\u001b[38;5;124mcoo\u001b[39m\u001b[38;5;124m\"\u001b[39m]\n\u001b[1;32m--> 609\u001b[0m X, y \u001b[38;5;241m=\u001b[39m \u001b[38;5;28;43mself\u001b[39;49m\u001b[38;5;241;43m.\u001b[39;49m\u001b[43m_validate_data\u001b[49m\u001b[43m(\u001b[49m\n\u001b[0;32m    610\u001b[0m \u001b[43m    \u001b[49m\u001b[43mX\u001b[49m\u001b[43m,\u001b[49m\n\u001b[0;32m    611\u001b[0m \u001b[43m    \u001b[49m\u001b[43my\u001b[49m\u001b[43m,\u001b[49m\n\u001b[0;32m    612\u001b[0m \u001b[43m    \u001b[49m\u001b[43maccept_sparse\u001b[49m\u001b[38;5;241;43m=\u001b[39;49m\u001b[43maccept_sparse\u001b[49m\u001b[43m,\u001b[49m\n\u001b[0;32m    613\u001b[0m \u001b[43m    \u001b[49m\u001b[43my_numeric\u001b[49m\u001b[38;5;241;43m=\u001b[39;49m\u001b[38;5;28;43;01mTrue\u001b[39;49;00m\u001b[43m,\u001b[49m\n\u001b[0;32m    614\u001b[0m \u001b[43m    \u001b[49m\u001b[43mmulti_output\u001b[49m\u001b[38;5;241;43m=\u001b[39;49m\u001b[38;5;28;43;01mTrue\u001b[39;49;00m\u001b[43m,\u001b[49m\n\u001b[0;32m    615\u001b[0m \u001b[43m    \u001b[49m\u001b[43mforce_writeable\u001b[49m\u001b[38;5;241;43m=\u001b[39;49m\u001b[38;5;28;43;01mTrue\u001b[39;49;00m\u001b[43m,\u001b[49m\n\u001b[0;32m    616\u001b[0m \u001b[43m\u001b[49m\u001b[43m)\u001b[49m\n\u001b[0;32m    618\u001b[0m has_sw \u001b[38;5;241m=\u001b[39m sample_weight \u001b[38;5;129;01mis\u001b[39;00m \u001b[38;5;129;01mnot\u001b[39;00m \u001b[38;5;28;01mNone\u001b[39;00m\n\u001b[0;32m    619\u001b[0m \u001b[38;5;28;01mif\u001b[39;00m has_sw:\n",
      "File \u001b[1;32m~\\AppData\\Local\\Packages\\PythonSoftwareFoundation.Python.3.12_qbz5n2kfra8p0\\LocalCache\\local-packages\\Python312\\site-packages\\sklearn\\base.py:650\u001b[0m, in \u001b[0;36mBaseEstimator._validate_data\u001b[1;34m(self, X, y, reset, validate_separately, cast_to_ndarray, **check_params)\u001b[0m\n\u001b[0;32m    648\u001b[0m         y \u001b[38;5;241m=\u001b[39m check_array(y, input_name\u001b[38;5;241m=\u001b[39m\u001b[38;5;124m\"\u001b[39m\u001b[38;5;124my\u001b[39m\u001b[38;5;124m\"\u001b[39m, \u001b[38;5;241m*\u001b[39m\u001b[38;5;241m*\u001b[39mcheck_y_params)\n\u001b[0;32m    649\u001b[0m     \u001b[38;5;28;01melse\u001b[39;00m:\n\u001b[1;32m--> 650\u001b[0m         X, y \u001b[38;5;241m=\u001b[39m \u001b[43mcheck_X_y\u001b[49m\u001b[43m(\u001b[49m\u001b[43mX\u001b[49m\u001b[43m,\u001b[49m\u001b[43m \u001b[49m\u001b[43my\u001b[49m\u001b[43m,\u001b[49m\u001b[43m \u001b[49m\u001b[38;5;241;43m*\u001b[39;49m\u001b[38;5;241;43m*\u001b[39;49m\u001b[43mcheck_params\u001b[49m\u001b[43m)\u001b[49m\n\u001b[0;32m    651\u001b[0m     out \u001b[38;5;241m=\u001b[39m X, y\n\u001b[0;32m    653\u001b[0m \u001b[38;5;28;01mif\u001b[39;00m \u001b[38;5;129;01mnot\u001b[39;00m no_val_X \u001b[38;5;129;01mand\u001b[39;00m check_params\u001b[38;5;241m.\u001b[39mget(\u001b[38;5;124m\"\u001b[39m\u001b[38;5;124mensure_2d\u001b[39m\u001b[38;5;124m\"\u001b[39m, \u001b[38;5;28;01mTrue\u001b[39;00m):\n",
      "File \u001b[1;32m~\\AppData\\Local\\Packages\\PythonSoftwareFoundation.Python.3.12_qbz5n2kfra8p0\\LocalCache\\local-packages\\Python312\\site-packages\\sklearn\\utils\\validation.py:1320\u001b[0m, in \u001b[0;36mcheck_X_y\u001b[1;34m(X, y, accept_sparse, accept_large_sparse, dtype, order, copy, force_writeable, force_all_finite, ensure_2d, allow_nd, multi_output, ensure_min_samples, ensure_min_features, y_numeric, estimator)\u001b[0m\n\u001b[0;32m   1301\u001b[0m X \u001b[38;5;241m=\u001b[39m check_array(\n\u001b[0;32m   1302\u001b[0m     X,\n\u001b[0;32m   1303\u001b[0m     accept_sparse\u001b[38;5;241m=\u001b[39maccept_sparse,\n\u001b[1;32m   (...)\u001b[0m\n\u001b[0;32m   1315\u001b[0m     input_name\u001b[38;5;241m=\u001b[39m\u001b[38;5;124m\"\u001b[39m\u001b[38;5;124mX\u001b[39m\u001b[38;5;124m\"\u001b[39m,\n\u001b[0;32m   1316\u001b[0m )\n\u001b[0;32m   1318\u001b[0m y \u001b[38;5;241m=\u001b[39m _check_y(y, multi_output\u001b[38;5;241m=\u001b[39mmulti_output, y_numeric\u001b[38;5;241m=\u001b[39my_numeric, estimator\u001b[38;5;241m=\u001b[39mestimator)\n\u001b[1;32m-> 1320\u001b[0m \u001b[43mcheck_consistent_length\u001b[49m\u001b[43m(\u001b[49m\u001b[43mX\u001b[49m\u001b[43m,\u001b[49m\u001b[43m \u001b[49m\u001b[43my\u001b[49m\u001b[43m)\u001b[49m\n\u001b[0;32m   1322\u001b[0m \u001b[38;5;28;01mreturn\u001b[39;00m X, y\n",
      "File \u001b[1;32m~\\AppData\\Local\\Packages\\PythonSoftwareFoundation.Python.3.12_qbz5n2kfra8p0\\LocalCache\\local-packages\\Python312\\site-packages\\sklearn\\utils\\validation.py:457\u001b[0m, in \u001b[0;36mcheck_consistent_length\u001b[1;34m(*arrays)\u001b[0m\n\u001b[0;32m    455\u001b[0m uniques \u001b[38;5;241m=\u001b[39m np\u001b[38;5;241m.\u001b[39munique(lengths)\n\u001b[0;32m    456\u001b[0m \u001b[38;5;28;01mif\u001b[39;00m \u001b[38;5;28mlen\u001b[39m(uniques) \u001b[38;5;241m>\u001b[39m \u001b[38;5;241m1\u001b[39m:\n\u001b[1;32m--> 457\u001b[0m     \u001b[38;5;28;01mraise\u001b[39;00m \u001b[38;5;167;01mValueError\u001b[39;00m(\n\u001b[0;32m    458\u001b[0m         \u001b[38;5;124m\"\u001b[39m\u001b[38;5;124mFound input variables with inconsistent numbers of samples: \u001b[39m\u001b[38;5;132;01m%r\u001b[39;00m\u001b[38;5;124m\"\u001b[39m\n\u001b[0;32m    459\u001b[0m         \u001b[38;5;241m%\u001b[39m [\u001b[38;5;28mint\u001b[39m(l) \u001b[38;5;28;01mfor\u001b[39;00m l \u001b[38;5;129;01min\u001b[39;00m lengths]\n\u001b[0;32m    460\u001b[0m     )\n",
      "\u001b[1;31mValueError\u001b[0m: Found input variables with inconsistent numbers of samples: [7518, 3759]"
     ]
    }
   ],
   "source": [
    "# Feature engineer the generated data X by adding polynomial features of degree N\n",
    "# Initialise a list of degrees \n",
    "list_deg = [1, 3, 6, 9]\n",
    "# Initial number of predicted values\n",
    "num_points = 1612\n",
    "# Initialise the 2D array to store the predicted values\n",
    "degree_predictions = np.zeros((len(list_deg), num_points))\n",
    "\n",
    "# Initialise lists to store MSE and R² values for each degree\n",
    "mae_list = []\n",
    "mse_list = []\n",
    "r2_list = []\n",
    "\n",
    "for i, N in enumerate(list_deg):\n",
    "    # Initialise the polynomial feature transformer \n",
    "    poly = PolynomialFeatures(degree=N)\n",
    "    \n",
    "    # Fits and transforms the input train data and creates new features of degree N\n",
    "    #X_train_ = poly.fit_transform(X_train)\n",
    "\n",
    "    # Fits and transforms the input train data and creates new features of degree 1\n",
    "    X_train_ = poly.fit_transform(X_train.values.reshape(-1, 1))\n",
    "    \n",
    "    # Instantiate a linear regressor\n",
    "    linreg = LinearRegression()\n",
    "    \n",
    "    # Train the linear regressor with X_train data with polynomial features added of degree N\n",
    "    linreg.fit(X_train_, y_train)\n",
    "    \n",
    "    # Transform the test data to include polynomial features of the same degree\n",
    "    #X_test_ = poly.fit_transform(X_test)\n",
    "\n",
    "    # Transform the test data to include polynomial features of the same degree\n",
    "    X_test_ = poly.fit_transform(X_test.values.reshape(-1, 1))\n",
    "    \n",
    "    # Store the predicted values on the ith row\n",
    "    y_pred = linreg.predict(X_test_)\n",
    "    degree_predictions[i, :] = y_pred\n",
    "    \n",
    "    # Calculate and store the MSE and R² values\n",
    "    mae = mean_absolute_error(y_test, y_pred)\n",
    "    mse = mean_squared_error(y_test, y_pred)\n",
    "    r2 = r2_score(y_test, y_pred)\n",
    "    mae_list.append(mae)\n",
    "    mse_list.append(mse)\n",
    "    r2_list.append(r2)\n",
    "    \n",
    "    # Print MSE and R² for the current degree\n",
    "    print(f\"Degree {N}: MAE = {mae:.4f}, Degree {N}: MSE = {mse:.4f}, R² = {r2:.4f}\")\n",
    "\n",
    "# degree_predictions now contains the predictions for each degree of polynomial features\n",
    "degree_predictions"
   ]
  },
  {
   "cell_type": "markdown",
   "id": "a4fbda23",
   "metadata": {},
   "source": [
    "From polynomial regression, seems like degree 1 (lin reg) performs the best"
   ]
  },
  {
   "cell_type": "code",
   "execution_count": 273,
   "id": "7c1ac9fc",
   "metadata": {},
   "outputs": [
    {
     "data": {
      "text/plain": [
       "(3759, 2)"
      ]
     },
     "execution_count": 273,
     "metadata": {},
     "output_type": "execute_result"
    }
   ],
   "source": [
    "X_train.shape"
   ]
  },
  {
   "cell_type": "code",
   "execution_count": 275,
   "id": "0bd0fd1d",
   "metadata": {},
   "outputs": [
    {
     "name": "stdout",
     "output_type": "stream",
     "text": [
      "\n",
      "Linear Regression Evaluation:\n",
      "Intercept: 510.99910499915524\n",
      "Coefficient: [-36.67343657 -91.85422334]\n",
      "Mean Absolute Error (MAE): 339.35\n",
      "Mean Squared Error (MSE): 166369.76\n",
      "Root Mean Squared Error (RMSE): 407.88\n",
      "R-squared (R²): 0.02\n",
      "\n",
      "Ridge Regression Evaluation:\n",
      "Intercept: 510.9959642332499\n",
      "Coefficient: [-36.6754208  -91.83769521]\n",
      "Mean Absolute Error (MAE): 339.35\n",
      "Mean Squared Error (MSE): 166369.76\n",
      "Root Mean Squared Error (RMSE): 407.88\n",
      "R-squared (R²): 0.02\n",
      "\n",
      "Lasso Regression Evaluation:\n",
      "Intercept: 510.870393491378\n",
      "Coefficient: [-36.69732517 -91.24846391]\n",
      "Mean Absolute Error (MAE): 339.35\n",
      "Mean Squared Error (MSE): 166369.12\n",
      "Root Mean Squared Error (RMSE): 407.88\n",
      "R-squared (R²): 0.02\n",
      "\n",
      "Decision Tree Regression Evaluation:\n",
      "\n",
      "\n",
      "Mean Absolute Error (MAE): 338.60\n",
      "Mean Squared Error (MSE): 166284.70\n",
      "Root Mean Squared Error (RMSE): 407.78\n",
      "R-squared (R²): 0.02\n"
     ]
    }
   ],
   "source": [
    "# Define the models to evaluate\n",
    "models = {\n",
    "    \"Linear Regression\": LinearRegression(),\n",
    "    \"Ridge Regression\": Ridge(alpha=0.1),\n",
    "    \"Lasso Regression\": Lasso(alpha=0.1),\n",
    "    \"Decision Tree Regression\": DecisionTreeRegressor(max_depth=50)\n",
    "}\n",
    "\n",
    "# Evaluate each model\n",
    "for name, model in models.items():\n",
    "    # Train the model\n",
    "    model.fit(X_train, y_train)\n",
    "\n",
    "    # Predict using the test set\n",
    "    y_pred = model.predict(X_test)\n",
    "\n",
    "    # Calculate evaluation metrics\n",
    "    mae = mean_absolute_error(y_test, y_pred)\n",
    "    mse = mean_squared_error(y_test, y_pred)\n",
    "    rmse = np.sqrt(mse)\n",
    "    r2 = r2_score(y_test, y_pred)\n",
    "\n",
    "    # Print the evaluation results\n",
    "    print(f\"\\n{name} Evaluation:\")\n",
    "    print(f\"Intercept: {model.intercept_}\" if hasattr(model, 'intercept_') else \"\")\n",
    "    print(f\"Coefficient: {model.coef_}\" if hasattr(model, 'coef_') else \"\")\n",
    "    print(f\"Mean Absolute Error (MAE): {mae:.2f}\")\n",
    "    print(f\"Mean Squared Error (MSE): {mse:.2f}\")\n",
    "    print(f\"Root Mean Squared Error (RMSE): {rmse:.2f}\")\n",
    "    print(f\"R-squared (R²): {r2:.2f}\")"
   ]
  },
  {
   "cell_type": "code",
   "execution_count": 248,
   "id": "c6da63c8",
   "metadata": {},
   "outputs": [
    {
     "data": {
      "text/plain": [
       "(1612,)"
      ]
     },
     "execution_count": 248,
     "metadata": {},
     "output_type": "execute_result"
    }
   ],
   "source": [
    "y_pred.shape"
   ]
  },
  {
   "cell_type": "code",
   "execution_count": 256,
   "id": "abf1e413",
   "metadata": {},
   "outputs": [
    {
     "data": {
      "image/png": "[encoded data removed]",
      "text/plain": [
       "<Figure size 640x480 with 1 Axes>"
      ]
     },
     "metadata": {},
     "output_type": "display_data"
    }
   ],
   "source": [
    "import matplotlib.pyplot as plt\n",
    "\n",
    "# Create a scatter plot\n",
    "plt.scatter(X_test['PreopEGFRMDRD'], y_pred, color='blue', marker='o')\n",
    "\n",
    "# Add labels and title\n",
    "plt.xlabel('X values')\n",
    "plt.ylabel('Predicted Y values')\n",
    "plt.title('Scatter Plot of X vs Predicted Y')\n",
    "\n",
    "# Show the plot\n",
    "plt.show()\n"
   ]
  },
  {
   "cell_type": "code",
   "execution_count": null,
   "id": "69a9c41c",
   "metadata": {},
   "outputs": [],
   "source": []
  }
 ],
 "metadata": {
  "kernelspec": {
   "display_name": "Python 3 (ipykernel)",
   "language": "python",
   "name": "python3"
  },
  "language_info": {
   "codemirror_mode": {
    "name": "ipython",
    "version": 3
   },
   "file_extension": ".py",
   "mimetype": "text/x-python",
   "name": "python",
   "nbconvert_exporter": "python",
   "pygments_lexer": "ipython3",
   "version": "3.12.5"
  }
 },
 "nbformat": 4,
 "nbformat_minor": 5
}
