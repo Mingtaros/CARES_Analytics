{
 "cells": [
  {
   "cell_type": "code",
   "execution_count": 74,
   "id": "bee3fdcd-6273-4ed0-ad2c-bea6317e9a92",
   "metadata": {},
   "outputs": [],
   "source": [
    "import numpy as np\n",
    "import pandas as pd\n",
    "import seaborn as sns\n",
    "import matplotlib.pyplot as plt\n",
    "from sklearn.preprocessing import PolynomialFeatures\n",
    "from sklearn.preprocessing import MinMaxScaler, RobustScaler, StandardScaler"
   ]
  },
  {
   "cell_type": "code",
   "execution_count": 75,
   "id": "9f7f859e-cac0-41bf-bc7c-6a449d4f1772",
   "metadata": {},
   "outputs": [
    {
     "data": {
      "text/html": [
       "<div>\n",
       "<style scoped>\n",
       "    .dataframe tbody tr th:only-of-type {\n",
       "        vertical-align: middle;\n",
       "    }\n",
       "\n",
       "    .dataframe tbody tr th {\n",
       "        vertical-align: top;\n",
       "    }\n",
       "\n",
       "    .dataframe thead th {\n",
       "        text-align: right;\n",
       "    }\n",
       "</style>\n",
       "<table border=\"1\" class=\"dataframe\">\n",
       "  <thead>\n",
       "    <tr style=\"text-align: right;\">\n",
       "      <th></th>\n",
       "      <th>GENDER</th>\n",
       "      <th>RCRI score</th>\n",
       "      <th>Anemia category</th>\n",
       "      <th>PreopEGFRMDRD</th>\n",
       "      <th>DaysbetweenDeathandoperation</th>\n",
       "      <th>Preoptransfusionwithin30days</th>\n",
       "      <th>Intraop</th>\n",
       "      <th>Postopwithin30days</th>\n",
       "      <th>Transfusionintraandpostop</th>\n",
       "      <th>AnaestypeCategory</th>\n",
       "      <th>...</th>\n",
       "      <th>CHFRCRICategory</th>\n",
       "      <th>DMinsulinRCRICategory</th>\n",
       "      <th>CreatinineRCRICategory</th>\n",
       "      <th>GradeofKidneyCategory</th>\n",
       "      <th>RDW15.7</th>\n",
       "      <th>ASAcategorybinned</th>\n",
       "      <th>ICUAdmgt24h</th>\n",
       "      <th>Chinese</th>\n",
       "      <th>Indian</th>\n",
       "      <th>Malay</th>\n",
       "    </tr>\n",
       "  </thead>\n",
       "  <tbody>\n",
       "    <tr>\n",
       "      <th>0</th>\n",
       "      <td>0</td>\n",
       "      <td>NaN</td>\n",
       "      <td>NaN</td>\n",
       "      <td>NaN</td>\n",
       "      <td>NaN</td>\n",
       "      <td>0.0</td>\n",
       "      <td>0.0</td>\n",
       "      <td>0.0</td>\n",
       "      <td>0.0</td>\n",
       "      <td>0</td>\n",
       "      <td>...</td>\n",
       "      <td>0</td>\n",
       "      <td>0</td>\n",
       "      <td>0</td>\n",
       "      <td>NaN</td>\n",
       "      <td>NaN</td>\n",
       "      <td>0.0</td>\n",
       "      <td>0</td>\n",
       "      <td>1</td>\n",
       "      <td>0</td>\n",
       "      <td>0</td>\n",
       "    </tr>\n",
       "    <tr>\n",
       "      <th>1</th>\n",
       "      <td>0</td>\n",
       "      <td>NaN</td>\n",
       "      <td>0.0</td>\n",
       "      <td>NaN</td>\n",
       "      <td>NaN</td>\n",
       "      <td>0.0</td>\n",
       "      <td>0.0</td>\n",
       "      <td>0.0</td>\n",
       "      <td>0.0</td>\n",
       "      <td>0</td>\n",
       "      <td>...</td>\n",
       "      <td>0</td>\n",
       "      <td>0</td>\n",
       "      <td>0</td>\n",
       "      <td>NaN</td>\n",
       "      <td>0.0</td>\n",
       "      <td>0.0</td>\n",
       "      <td>0</td>\n",
       "      <td>1</td>\n",
       "      <td>0</td>\n",
       "      <td>0</td>\n",
       "    </tr>\n",
       "    <tr>\n",
       "      <th>2</th>\n",
       "      <td>0</td>\n",
       "      <td>NaN</td>\n",
       "      <td>1.0</td>\n",
       "      <td>152.538570</td>\n",
       "      <td>NaN</td>\n",
       "      <td>0.0</td>\n",
       "      <td>0.0</td>\n",
       "      <td>0.0</td>\n",
       "      <td>0.0</td>\n",
       "      <td>0</td>\n",
       "      <td>...</td>\n",
       "      <td>0</td>\n",
       "      <td>0</td>\n",
       "      <td>0</td>\n",
       "      <td>0.0</td>\n",
       "      <td>0.0</td>\n",
       "      <td>0.0</td>\n",
       "      <td>0</td>\n",
       "      <td>1</td>\n",
       "      <td>0</td>\n",
       "      <td>0</td>\n",
       "    </tr>\n",
       "    <tr>\n",
       "      <th>3</th>\n",
       "      <td>1</td>\n",
       "      <td>NaN</td>\n",
       "      <td>2.0</td>\n",
       "      <td>117.231496</td>\n",
       "      <td>NaN</td>\n",
       "      <td>0.0</td>\n",
       "      <td>1.0</td>\n",
       "      <td>0.0</td>\n",
       "      <td>1.0</td>\n",
       "      <td>0</td>\n",
       "      <td>...</td>\n",
       "      <td>0</td>\n",
       "      <td>0</td>\n",
       "      <td>0</td>\n",
       "      <td>0.0</td>\n",
       "      <td>0.0</td>\n",
       "      <td>0.0</td>\n",
       "      <td>0</td>\n",
       "      <td>1</td>\n",
       "      <td>0</td>\n",
       "      <td>0</td>\n",
       "    </tr>\n",
       "    <tr>\n",
       "      <th>4</th>\n",
       "      <td>1</td>\n",
       "      <td>0.0</td>\n",
       "      <td>1.0</td>\n",
       "      <td>98.651255</td>\n",
       "      <td>59.0</td>\n",
       "      <td>0.0</td>\n",
       "      <td>0.0</td>\n",
       "      <td>0.0</td>\n",
       "      <td>0.0</td>\n",
       "      <td>0</td>\n",
       "      <td>...</td>\n",
       "      <td>0</td>\n",
       "      <td>0</td>\n",
       "      <td>0</td>\n",
       "      <td>0.0</td>\n",
       "      <td>1.0</td>\n",
       "      <td>1.0</td>\n",
       "      <td>0</td>\n",
       "      <td>1</td>\n",
       "      <td>0</td>\n",
       "      <td>0</td>\n",
       "    </tr>\n",
       "    <tr>\n",
       "      <th>...</th>\n",
       "      <td>...</td>\n",
       "      <td>...</td>\n",
       "      <td>...</td>\n",
       "      <td>...</td>\n",
       "      <td>...</td>\n",
       "      <td>...</td>\n",
       "      <td>...</td>\n",
       "      <td>...</td>\n",
       "      <td>...</td>\n",
       "      <td>...</td>\n",
       "      <td>...</td>\n",
       "      <td>...</td>\n",
       "      <td>...</td>\n",
       "      <td>...</td>\n",
       "      <td>...</td>\n",
       "      <td>...</td>\n",
       "      <td>...</td>\n",
       "      <td>...</td>\n",
       "      <td>...</td>\n",
       "      <td>...</td>\n",
       "      <td>...</td>\n",
       "    </tr>\n",
       "    <tr>\n",
       "      <th>90780</th>\n",
       "      <td>0</td>\n",
       "      <td>2.0</td>\n",
       "      <td>1.0</td>\n",
       "      <td>48.339582</td>\n",
       "      <td>NaN</td>\n",
       "      <td>0.0</td>\n",
       "      <td>0.0</td>\n",
       "      <td>0.0</td>\n",
       "      <td>0.0</td>\n",
       "      <td>0</td>\n",
       "      <td>...</td>\n",
       "      <td>0</td>\n",
       "      <td>1</td>\n",
       "      <td>0</td>\n",
       "      <td>2.0</td>\n",
       "      <td>0.0</td>\n",
       "      <td>1.0</td>\n",
       "      <td>0</td>\n",
       "      <td>0</td>\n",
       "      <td>0</td>\n",
       "      <td>0</td>\n",
       "    </tr>\n",
       "    <tr>\n",
       "      <th>90781</th>\n",
       "      <td>1</td>\n",
       "      <td>1.0</td>\n",
       "      <td>2.0</td>\n",
       "      <td>126.592489</td>\n",
       "      <td>NaN</td>\n",
       "      <td>0.0</td>\n",
       "      <td>0.0</td>\n",
       "      <td>0.0</td>\n",
       "      <td>0.0</td>\n",
       "      <td>0</td>\n",
       "      <td>...</td>\n",
       "      <td>0</td>\n",
       "      <td>1</td>\n",
       "      <td>0</td>\n",
       "      <td>0.0</td>\n",
       "      <td>0.0</td>\n",
       "      <td>NaN</td>\n",
       "      <td>0</td>\n",
       "      <td>0</td>\n",
       "      <td>0</td>\n",
       "      <td>0</td>\n",
       "    </tr>\n",
       "    <tr>\n",
       "      <th>90782</th>\n",
       "      <td>0</td>\n",
       "      <td>NaN</td>\n",
       "      <td>0.0</td>\n",
       "      <td>86.306771</td>\n",
       "      <td>NaN</td>\n",
       "      <td>0.0</td>\n",
       "      <td>0.0</td>\n",
       "      <td>0.0</td>\n",
       "      <td>0.0</td>\n",
       "      <td>0</td>\n",
       "      <td>...</td>\n",
       "      <td>0</td>\n",
       "      <td>0</td>\n",
       "      <td>0</td>\n",
       "      <td>1.0</td>\n",
       "      <td>0.0</td>\n",
       "      <td>NaN</td>\n",
       "      <td>0</td>\n",
       "      <td>0</td>\n",
       "      <td>0</td>\n",
       "      <td>0</td>\n",
       "    </tr>\n",
       "    <tr>\n",
       "      <th>90783</th>\n",
       "      <td>0</td>\n",
       "      <td>0.0</td>\n",
       "      <td>NaN</td>\n",
       "      <td>NaN</td>\n",
       "      <td>NaN</td>\n",
       "      <td>0.0</td>\n",
       "      <td>0.0</td>\n",
       "      <td>0.0</td>\n",
       "      <td>0.0</td>\n",
       "      <td>0</td>\n",
       "      <td>...</td>\n",
       "      <td>0</td>\n",
       "      <td>0</td>\n",
       "      <td>0</td>\n",
       "      <td>NaN</td>\n",
       "      <td>NaN</td>\n",
       "      <td>1.0</td>\n",
       "      <td>0</td>\n",
       "      <td>1</td>\n",
       "      <td>0</td>\n",
       "      <td>0</td>\n",
       "    </tr>\n",
       "    <tr>\n",
       "      <th>90784</th>\n",
       "      <td>0</td>\n",
       "      <td>0.0</td>\n",
       "      <td>1.0</td>\n",
       "      <td>125.902498</td>\n",
       "      <td>NaN</td>\n",
       "      <td>0.0</td>\n",
       "      <td>0.0</td>\n",
       "      <td>0.0</td>\n",
       "      <td>0.0</td>\n",
       "      <td>0</td>\n",
       "      <td>...</td>\n",
       "      <td>0</td>\n",
       "      <td>0</td>\n",
       "      <td>0</td>\n",
       "      <td>0.0</td>\n",
       "      <td>0.0</td>\n",
       "      <td>1.0</td>\n",
       "      <td>0</td>\n",
       "      <td>1</td>\n",
       "      <td>0</td>\n",
       "      <td>0</td>\n",
       "    </tr>\n",
       "  </tbody>\n",
       "</table>\n",
       "<p>90785 rows × 28 columns</p>\n",
       "</div>"
      ],
      "text/plain": [
       "       GENDER  RCRI score  Anemia category  PreopEGFRMDRD  \\\n",
       "0           0         NaN              NaN            NaN   \n",
       "1           0         NaN              0.0            NaN   \n",
       "2           0         NaN              1.0     152.538570   \n",
       "3           1         NaN              2.0     117.231496   \n",
       "4           1         0.0              1.0      98.651255   \n",
       "...       ...         ...              ...            ...   \n",
       "90780       0         2.0              1.0      48.339582   \n",
       "90781       1         1.0              2.0     126.592489   \n",
       "90782       0         NaN              0.0      86.306771   \n",
       "90783       0         0.0              NaN            NaN   \n",
       "90784       0         0.0              1.0     125.902498   \n",
       "\n",
       "       DaysbetweenDeathandoperation  Preoptransfusionwithin30days  Intraop  \\\n",
       "0                               NaN                           0.0      0.0   \n",
       "1                               NaN                           0.0      0.0   \n",
       "2                               NaN                           0.0      0.0   \n",
       "3                               NaN                           0.0      1.0   \n",
       "4                              59.0                           0.0      0.0   \n",
       "...                             ...                           ...      ...   \n",
       "90780                           NaN                           0.0      0.0   \n",
       "90781                           NaN                           0.0      0.0   \n",
       "90782                           NaN                           0.0      0.0   \n",
       "90783                           NaN                           0.0      0.0   \n",
       "90784                           NaN                           0.0      0.0   \n",
       "\n",
       "       Postopwithin30days  Transfusionintraandpostop  AnaestypeCategory  ...  \\\n",
       "0                     0.0                        0.0                  0  ...   \n",
       "1                     0.0                        0.0                  0  ...   \n",
       "2                     0.0                        0.0                  0  ...   \n",
       "3                     0.0                        1.0                  0  ...   \n",
       "4                     0.0                        0.0                  0  ...   \n",
       "...                   ...                        ...                ...  ...   \n",
       "90780                 0.0                        0.0                  0  ...   \n",
       "90781                 0.0                        0.0                  0  ...   \n",
       "90782                 0.0                        0.0                  0  ...   \n",
       "90783                 0.0                        0.0                  0  ...   \n",
       "90784                 0.0                        0.0                  0  ...   \n",
       "\n",
       "       CHFRCRICategory DMinsulinRCRICategory  CreatinineRCRICategory  \\\n",
       "0                    0                     0                       0   \n",
       "1                    0                     0                       0   \n",
       "2                    0                     0                       0   \n",
       "3                    0                     0                       0   \n",
       "4                    0                     0                       0   \n",
       "...                ...                   ...                     ...   \n",
       "90780                0                     1                       0   \n",
       "90781                0                     1                       0   \n",
       "90782                0                     0                       0   \n",
       "90783                0                     0                       0   \n",
       "90784                0                     0                       0   \n",
       "\n",
       "       GradeofKidneyCategory  RDW15.7  ASAcategorybinned  ICUAdmgt24h  \\\n",
       "0                        NaN      NaN                0.0            0   \n",
       "1                        NaN      0.0                0.0            0   \n",
       "2                        0.0      0.0                0.0            0   \n",
       "3                        0.0      0.0                0.0            0   \n",
       "4                        0.0      1.0                1.0            0   \n",
       "...                      ...      ...                ...          ...   \n",
       "90780                    2.0      0.0                1.0            0   \n",
       "90781                    0.0      0.0                NaN            0   \n",
       "90782                    1.0      0.0                NaN            0   \n",
       "90783                    NaN      NaN                1.0            0   \n",
       "90784                    0.0      0.0                1.0            0   \n",
       "\n",
       "       Chinese  Indian  Malay  \n",
       "0            1       0      0  \n",
       "1            1       0      0  \n",
       "2            1       0      0  \n",
       "3            1       0      0  \n",
       "4            1       0      0  \n",
       "...        ...     ...    ...  \n",
       "90780        0       0      0  \n",
       "90781        0       0      0  \n",
       "90782        0       0      0  \n",
       "90783        1       0      0  \n",
       "90784        1       0      0  \n",
       "\n",
       "[90785 rows x 28 columns]"
      ]
     },
     "execution_count": 75,
     "metadata": {},
     "output_type": "execute_result"
    }
   ],
   "source": [
    "cares = pd.read_csv(\"../data/CARES_encoded.csv\")\n",
    "cares"
   ]
  },
  {
   "cell_type": "code",
   "execution_count": 76,
   "id": "42d28a8a-85a5-45b1-be09-f4d2a1e5862a",
   "metadata": {},
   "outputs": [
    {
     "data": {
      "text/plain": [
       "Index(['GENDER', 'RCRI score', 'Anemia category', 'PreopEGFRMDRD',\n",
       "       'DaysbetweenDeathandoperation', 'Preoptransfusionwithin30days',\n",
       "       'Intraop', 'Postopwithin30days', 'Transfusionintraandpostop',\n",
       "       'AnaestypeCategory', 'PriorityCategory',\n",
       "       'TransfusionIntraandpostopCategory', 'AGEcategory', 'Mortality',\n",
       "       'thirtydaymortality', 'SurgRiskCategory', 'CVARCRICategory',\n",
       "       'IHDRCRICategory', 'CHFRCRICategory', 'DMinsulinRCRICategory',\n",
       "       'CreatinineRCRICategory', 'GradeofKidneyCategory', 'RDW15.7',\n",
       "       'ASAcategorybinned', 'ICUAdmgt24h', 'Chinese', 'Indian', 'Malay'],\n",
       "      dtype='object')"
      ]
     },
     "execution_count": 76,
     "metadata": {},
     "output_type": "execute_result"
    }
   ],
   "source": [
    "cares.columns"
   ]
  },
  {
   "cell_type": "code",
   "execution_count": 77,
   "id": "dfb69dde-4b9b-4ca0-a2c6-b7120c45f687",
   "metadata": {},
   "outputs": [],
   "source": [
    "# features are those that are continuous\n",
    "days_significant_columns = [\n",
    "    'PreopEGFRMDRD',\n",
    "    'Preoptransfusionwithin30days',\n",
    "    'Intraop',\n",
    "    'Postopwithin30days',\n",
    "    'Transfusionintraandpostop'\n",
    "]\n",
    "\n",
    "days_cares = cares[days_significant_columns + ['DaysbetweenDeathandoperation']]"
   ]
  },
  {
   "cell_type": "code",
   "execution_count": 78,
   "id": "16a49f63-3716-4589-bf24-6dd6dadf6fa7",
   "metadata": {},
   "outputs": [],
   "source": [
    "days_cares = days_cares.dropna(how='any')"
   ]
  },
  {
   "cell_type": "code",
   "execution_count": 79,
   "id": "82959303-8f47-4053-83b6-f4f3e5198aad",
   "metadata": {},
   "outputs": [
    {
     "data": {
      "text/plain": [
       "(5373, 6)"
      ]
     },
     "execution_count": 79,
     "metadata": {},
     "output_type": "execute_result"
    }
   ],
   "source": [
    "days_cares.shape"
   ]
  },
  {
   "cell_type": "code",
   "execution_count": 80,
   "id": "c3965e0b",
   "metadata": {},
   "outputs": [
    {
     "data": {
      "text/html": [
       "<div>\n",
       "<style scoped>\n",
       "    .dataframe tbody tr th:only-of-type {\n",
       "        vertical-align: middle;\n",
       "    }\n",
       "\n",
       "    .dataframe tbody tr th {\n",
       "        vertical-align: top;\n",
       "    }\n",
       "\n",
       "    .dataframe thead th {\n",
       "        text-align: right;\n",
       "    }\n",
       "</style>\n",
       "<table border=\"1\" class=\"dataframe\">\n",
       "  <thead>\n",
       "    <tr style=\"text-align: right;\">\n",
       "      <th></th>\n",
       "      <th>PreopEGFRMDRD</th>\n",
       "      <th>Preoptransfusionwithin30days</th>\n",
       "      <th>Intraop</th>\n",
       "      <th>Postopwithin30days</th>\n",
       "      <th>Transfusionintraandpostop</th>\n",
       "      <th>DaysbetweenDeathandoperation</th>\n",
       "    </tr>\n",
       "  </thead>\n",
       "  <tbody>\n",
       "    <tr>\n",
       "      <th>4</th>\n",
       "      <td>98.651255</td>\n",
       "      <td>0.0</td>\n",
       "      <td>0.0</td>\n",
       "      <td>0.0</td>\n",
       "      <td>0.0</td>\n",
       "      <td>59.0</td>\n",
       "    </tr>\n",
       "    <tr>\n",
       "      <th>45</th>\n",
       "      <td>95.849232</td>\n",
       "      <td>0.0</td>\n",
       "      <td>0.0</td>\n",
       "      <td>0.0</td>\n",
       "      <td>0.0</td>\n",
       "      <td>1063.0</td>\n",
       "    </tr>\n",
       "    <tr>\n",
       "      <th>103</th>\n",
       "      <td>102.832998</td>\n",
       "      <td>0.0</td>\n",
       "      <td>0.0</td>\n",
       "      <td>0.0</td>\n",
       "      <td>0.0</td>\n",
       "      <td>793.0</td>\n",
       "    </tr>\n",
       "    <tr>\n",
       "      <th>107</th>\n",
       "      <td>99.129633</td>\n",
       "      <td>0.0</td>\n",
       "      <td>0.0</td>\n",
       "      <td>0.0</td>\n",
       "      <td>0.0</td>\n",
       "      <td>17.0</td>\n",
       "    </tr>\n",
       "    <tr>\n",
       "      <th>108</th>\n",
       "      <td>107.520574</td>\n",
       "      <td>0.0</td>\n",
       "      <td>0.0</td>\n",
       "      <td>0.0</td>\n",
       "      <td>0.0</td>\n",
       "      <td>433.0</td>\n",
       "    </tr>\n",
       "  </tbody>\n",
       "</table>\n",
       "</div>"
      ],
      "text/plain": [
       "     PreopEGFRMDRD  Preoptransfusionwithin30days  Intraop  Postopwithin30days  \\\n",
       "4        98.651255                           0.0      0.0                 0.0   \n",
       "45       95.849232                           0.0      0.0                 0.0   \n",
       "103     102.832998                           0.0      0.0                 0.0   \n",
       "107      99.129633                           0.0      0.0                 0.0   \n",
       "108     107.520574                           0.0      0.0                 0.0   \n",
       "\n",
       "     Transfusionintraandpostop  DaysbetweenDeathandoperation  \n",
       "4                          0.0                          59.0  \n",
       "45                         0.0                        1063.0  \n",
       "103                        0.0                         793.0  \n",
       "107                        0.0                          17.0  \n",
       "108                        0.0                         433.0  "
      ]
     },
     "execution_count": 80,
     "metadata": {},
     "output_type": "execute_result"
    }
   ],
   "source": [
    "days_cares.head()"
   ]
  },
  {
   "cell_type": "markdown",
   "id": "e0552cfe",
   "metadata": {},
   "source": [
    "Check if features need rescaling"
   ]
  },
  {
   "cell_type": "code",
   "execution_count": 81,
   "id": "7b913179",
   "metadata": {},
   "outputs": [
    {
     "data": {
      "text/plain": [
       "PreopEGFRMDRD\n",
       "112.382587    6\n",
       "96.448454     5\n",
       "103.500168    5\n",
       "83.071515     4\n",
       "108.871038    4\n",
       "             ..\n",
       "122.038330    1\n",
       "32.114377     1\n",
       "109.175965    1\n",
       "269.023482    1\n",
       "177.230873    1\n",
       "Name: count, Length: 4444, dtype: int64"
      ]
     },
     "execution_count": 81,
     "metadata": {},
     "output_type": "execute_result"
    }
   ],
   "source": [
    "days_cares['PreopEGFRMDRD'].value_counts()"
   ]
  },
  {
   "cell_type": "markdown",
   "id": "52debb48",
   "metadata": {},
   "source": [
    "Check deeper for PreopEGFRMDRD"
   ]
  },
  {
   "cell_type": "code",
   "execution_count": 82,
   "id": "0e6d0ad5",
   "metadata": {},
   "outputs": [
    {
     "data": {
      "text/plain": [
       "count    5373.000000\n",
       "mean       78.585733\n",
       "std        52.249525\n",
       "min         2.541026\n",
       "25%        39.380409\n",
       "50%        76.907395\n",
       "75%       107.464507\n",
       "max       588.466578\n",
       "Name: PreopEGFRMDRD, dtype: float64"
      ]
     },
     "execution_count": 82,
     "metadata": {},
     "output_type": "execute_result"
    }
   ],
   "source": [
    "days_cares['PreopEGFRMDRD'].describe()"
   ]
  },
  {
   "cell_type": "code",
   "execution_count": 83,
   "id": "eb03a626",
   "metadata": {},
   "outputs": [
    {
     "data": {
      "text/plain": [
       "Preoptransfusionwithin30days\n",
       "0.0     4773\n",
       "1.0      272\n",
       "2.0      146\n",
       "3.0       71\n",
       "4.0       32\n",
       "5.0       22\n",
       "7.0       17\n",
       "8.0       12\n",
       "6.0       12\n",
       "11.0       4\n",
       "14.0       3\n",
       "10.0       2\n",
       "9.0        2\n",
       "13.0       2\n",
       "17.0       1\n",
       "12.0       1\n",
       "21.0       1\n",
       "Name: count, dtype: int64"
      ]
     },
     "execution_count": 83,
     "metadata": {},
     "output_type": "execute_result"
    }
   ],
   "source": [
    "days_cares['Preoptransfusionwithin30days'].value_counts()"
   ]
  },
  {
   "cell_type": "code",
   "execution_count": 84,
   "id": "7a479503",
   "metadata": {},
   "outputs": [
    {
     "data": {
      "text/plain": [
       "Intraop\n",
       "0.0    4180\n",
       "1.0    1193\n",
       "Name: count, dtype: int64"
      ]
     },
     "execution_count": 84,
     "metadata": {},
     "output_type": "execute_result"
    }
   ],
   "source": [
    "days_cares['Intraop'].value_counts()"
   ]
  },
  {
   "cell_type": "code",
   "execution_count": 85,
   "id": "a29fa864",
   "metadata": {},
   "outputs": [
    {
     "data": {
      "text/plain": [
       "Postopwithin30days\n",
       "0.0     5029\n",
       "1.0      192\n",
       "2.0       67\n",
       "3.0       32\n",
       "5.0       14\n",
       "4.0       12\n",
       "6.0        8\n",
       "7.0        8\n",
       "8.0        4\n",
       "9.0        3\n",
       "15.0       1\n",
       "12.0       1\n",
       "23.0       1\n",
       "10.0       1\n",
       "Name: count, dtype: int64"
      ]
     },
     "execution_count": 85,
     "metadata": {},
     "output_type": "execute_result"
    }
   ],
   "source": [
    "days_cares['Postopwithin30days'].value_counts()"
   ]
  },
  {
   "cell_type": "code",
   "execution_count": 86,
   "id": "eb23585c",
   "metadata": {},
   "outputs": [
    {
     "data": {
      "text/plain": [
       "Transfusionintraandpostop\n",
       "0.0     4176\n",
       "1.0      855\n",
       "2.0      192\n",
       "3.0       65\n",
       "4.0       32\n",
       "6.0       14\n",
       "5.0       12\n",
       "7.0        8\n",
       "8.0        8\n",
       "9.0        4\n",
       "10.0       3\n",
       "16.0       1\n",
       "13.0       1\n",
       "24.0       1\n",
       "11.0       1\n",
       "Name: count, dtype: int64"
      ]
     },
     "execution_count": 86,
     "metadata": {},
     "output_type": "execute_result"
    }
   ],
   "source": [
    "days_cares['Transfusionintraandpostop'].value_counts()"
   ]
  },
  {
   "cell_type": "markdown",
   "id": "906fcb79",
   "metadata": {},
   "source": [
    "From the above, PreopEGFRMDRD needs to be normalized as the range is significantly different from the rest"
   ]
  },
  {
   "cell_type": "code",
   "execution_count": 87,
   "id": "201b7c46",
   "metadata": {},
   "outputs": [
    {
     "name": "stdout",
     "output_type": "stream",
     "text": [
      "DomainScaler:\n",
      "count    5373.000000\n",
      "mean        3.274406\n",
      "std         2.177064\n",
      "min         0.105876\n",
      "25%         1.640850\n",
      "50%         3.204475\n",
      "75%         4.477688\n",
      "max        24.519441\n",
      "Name: PreopEGFRMDRD, dtype: float64\n"
     ]
    }
   ],
   "source": [
    "#use domain scaler to fit into range of other features since they share a common range from 0 to 24\n",
    "\n",
    "days_cares['PreopEGFRMDRD'] = (days_cares['PreopEGFRMDRD']-0)/(24-0)\n",
    "print('DomainScaler:\\n{}'.format(days_cares['PreopEGFRMDRD'].describe()))"
   ]
  },
  {
   "cell_type": "markdown",
   "id": "20a6749b",
   "metadata": {},
   "source": [
    "Now let's look at dependent variable"
   ]
  },
  {
   "cell_type": "code",
   "execution_count": 88,
   "id": "28d15485-5509-4a0f-a516-cd7608e25e25",
   "metadata": {},
   "outputs": [
    {
     "data": {
      "text/plain": [
       "DaysbetweenDeathandoperation\n",
       "False    5373\n",
       "Name: count, dtype: int64"
      ]
     },
     "execution_count": 88,
     "metadata": {},
     "output_type": "execute_result"
    }
   ],
   "source": [
    "days_cares[\"DaysbetweenDeathandoperation\"].isna().value_counts()"
   ]
  },
  {
   "cell_type": "code",
   "execution_count": 89,
   "id": "d5f50f01",
   "metadata": {},
   "outputs": [
    {
     "data": {
      "text/plain": [
       "DaysbetweenDeathandoperation\n",
       "1.0       32\n",
       "7.0       26\n",
       "4.0       24\n",
       "6.0       23\n",
       "13.0      22\n",
       "          ..\n",
       "1393.0     1\n",
       "1551.0     1\n",
       "1309.0     1\n",
       "965.0      1\n",
       "1315.0     1\n",
       "Name: count, Length: 1400, dtype: int64"
      ]
     },
     "execution_count": 89,
     "metadata": {},
     "output_type": "execute_result"
    }
   ],
   "source": [
    "days_cares['DaysbetweenDeathandoperation'].value_counts()"
   ]
  },
  {
   "cell_type": "code",
   "execution_count": 90,
   "id": "3f0e19ac",
   "metadata": {},
   "outputs": [
    {
     "data": {
      "text/plain": [
       "count    5373.000000\n",
       "mean      476.621441\n",
       "std       424.329110\n",
       "min         0.000000\n",
       "25%       119.000000\n",
       "50%       352.000000\n",
       "75%       748.000000\n",
       "max      1783.000000\n",
       "Name: DaysbetweenDeathandoperation, dtype: float64"
      ]
     },
     "execution_count": 90,
     "metadata": {},
     "output_type": "execute_result"
    }
   ],
   "source": [
    "days_cares['DaysbetweenDeathandoperation'].describe()"
   ]
  },
  {
   "cell_type": "code",
   "execution_count": 91,
   "id": "d42d20b4-be25-4fb2-8c5d-b05838d58e36",
   "metadata": {},
   "outputs": [
    {
     "data": {
      "image/png": "[encoded data removed]",
      "text/plain": [
       "<Figure size 2000x2000 with 1 Axes>"
      ]
     },
     "metadata": {},
     "output_type": "display_data"
    }
   ],
   "source": [
    "p = days_cares[\"DaysbetweenDeathandoperation\"].hist(figsize=(20,20))"
   ]
  },
  {
   "cell_type": "markdown",
   "id": "a0aebdd2",
   "metadata": {},
   "source": [
    "Dependent variable is highly skewed, let's try to normalize it"
   ]
  },
  {
   "cell_type": "code",
   "execution_count": 92,
   "id": "ca7d8722",
   "metadata": {},
   "outputs": [
    {
     "name": "stdout",
     "output_type": "stream",
     "text": [
      "DomainScaler:\n",
      "count    5373.000000\n",
      "mean       19.859227\n",
      "std        17.680380\n",
      "min         0.000000\n",
      "25%         4.958333\n",
      "50%        14.666667\n",
      "75%        31.166667\n",
      "max        74.291667\n",
      "Name: DaysbetweenDeathandoperation, dtype: float64\n"
     ]
    }
   ],
   "source": [
    "days_cares['DaysbetweenDeathandoperation'] = (days_cares['DaysbetweenDeathandoperation']-0)/(24-0)\n",
    "print('DomainScaler:\\n{}'.format(days_cares['DaysbetweenDeathandoperation'].describe()))"
   ]
  },
  {
   "cell_type": "markdown",
   "id": "c166900d-c0b6-4fd1-a415-f9b0bb481926",
   "metadata": {},
   "source": [
    "# Simple Modeling (lin reg, DT reg, ridge, lasso)"
   ]
  },
  {
   "cell_type": "code",
   "execution_count": 94,
   "id": "870b5bbe-2e4e-44ad-849f-fd0ba0b88843",
   "metadata": {},
   "outputs": [],
   "source": [
    "RANDOM_SEED = 623"
   ]
  },
  {
   "cell_type": "code",
   "execution_count": 95,
   "id": "419760cc-4383-4976-8602-d4725fb7e6c2",
   "metadata": {},
   "outputs": [],
   "source": [
    "np.random.seed(RANDOM_SEED)"
   ]
  },
  {
   "cell_type": "code",
   "execution_count": 96,
   "id": "be5b55a5-69f6-45ad-b91d-cbd41615a85d",
   "metadata": {},
   "outputs": [],
   "source": [
    "from sklearn.model_selection import train_test_split\n",
    "from sklearn.tree import DecisionTreeClassifier, DecisionTreeRegressor # Import Decision Tree Classifier\n",
    "from sklearn import tree, linear_model\n",
    "from sklearn.linear_model import LinearRegression, Ridge, Lasso\n",
    "\n",
    "from sklearn.metrics import mean_absolute_error, mean_squared_error, r2_score"
   ]
  },
  {
   "cell_type": "code",
   "execution_count": 98,
   "id": "86c3ed59-d174-472d-a0f8-3dec2f26a2b7",
   "metadata": {},
   "outputs": [],
   "source": [
    "X = days_cares.drop('DaysbetweenDeathandoperation', axis=1)\n",
    "y = days_cares['DaysbetweenDeathandoperation']\n",
    "X_train, X_test, y_train, y_test = train_test_split(X, y, test_size=0.3, random_state=RANDOM_SEED)"
   ]
  },
  {
   "cell_type": "code",
   "execution_count": 99,
   "id": "acbde716",
   "metadata": {},
   "outputs": [
    {
     "name": "stdout",
     "output_type": "stream",
     "text": [
      "Shape of X_train: (3761, 5)\n",
      "Shape of y_train: (3761,)\n",
      "Shape of X_test: (1612, 5)\n",
      "Shape of y_test: (1612,)\n"
     ]
    }
   ],
   "source": [
    "# Check the shapes\n",
    "print(\"Shape of X_train:\", X_train.shape)\n",
    "print(\"Shape of y_train:\", y_train.shape)\n",
    "print(\"Shape of X_test:\", X_test.shape)\n",
    "print(\"Shape of y_test:\", y_test.shape)"
   ]
  },
  {
   "cell_type": "code",
   "execution_count": 100,
   "id": "6c01c973",
   "metadata": {},
   "outputs": [
    {
     "name": "stdout",
     "output_type": "stream",
     "text": [
      "Degree 1: MAE = 14.2201, Degree 1: MSE = 291.4899, R² = 0.0159\n",
      "Degree 3: MAE = 229331239.7274, Degree 3: MSE = 74718171965545938944.0000, R² = -252267241273885472.0000\n",
      "Degree 6: MAE = 1013587.0232, Degree 6: MSE = 1444857494220222.5000, R² = -4878200369634.7598\n",
      "Degree 9: MAE = 4764874.2909, Degree 9: MSE = 11596691137139596.0000, R² = -39153330496635.2734\n"
     ]
    },
    {
     "data": {
      "text/plain": [
       "array([[  12.97343517,   22.99915803,   15.98053123, ...,   23.00115014,\n",
       "          22.82429422,   14.71448099],\n",
       "       [  16.2539109 ,   21.5296485 ,   17.56454933, ...,   21.52391868,\n",
       "          21.98762622,   11.96997536],\n",
       "       [  31.7762059 ,   21.14751424,   15.6020518 , ...,   21.14864011,\n",
       "          21.16978267,    8.50295902],\n",
       "       [-213.9034765 ,   19.56262883,   14.64366998, ...,   19.58080931,\n",
       "          18.95652501,   79.51184281]])"
      ]
     },
     "execution_count": 100,
     "metadata": {},
     "output_type": "execute_result"
    }
   ],
   "source": [
    "# Feature engineer the generated data X by adding polynomial features of degree N\n",
    "# Initialise a list of degrees \n",
    "list_deg = [1, 3, 6, 9]\n",
    "# Initial number of predicted values\n",
    "num_points = 1612\n",
    "# Initialise the 2D array to store the predicted values\n",
    "degree_predictions = np.zeros((len(list_deg), num_points))\n",
    "\n",
    "# Initialise lists to store MSE and R² values for each degree\n",
    "mae_list = []\n",
    "mse_list = []\n",
    "r2_list = []\n",
    "\n",
    "for i, N in enumerate(list_deg):\n",
    "    # Initialise the polynomial feature transformer \n",
    "    poly = PolynomialFeatures(degree=N)\n",
    "    \n",
    "    # Fits and transforms the input train data and creates new features of degree N\n",
    "    X_train_ = poly.fit_transform(X_train)\n",
    "    \n",
    "    # Instantiate a linear regressor\n",
    "    linreg = LinearRegression()\n",
    "    \n",
    "    # Train the linear regressor with X_train data with polynomial features added of degree N\n",
    "    linreg.fit(X_train_, y_train)\n",
    "    \n",
    "    # Transform the test data to include polynomial features of the same degree\n",
    "    X_test_ = poly.fit_transform(X_test)\n",
    "    \n",
    "    # Store the predicted values on the ith row\n",
    "    y_pred = linreg.predict(X_test_)\n",
    "    degree_predictions[i, :] = y_pred\n",
    "    \n",
    "    # Calculate and store the MSE and R² values\n",
    "    mae = mean_absolute_error(y_test, y_pred)\n",
    "    mse = mean_squared_error(y_test, y_pred)\n",
    "    r2 = r2_score(y_test, y_pred)\n",
    "    mae_list.append(mae)\n",
    "    mse_list.append(mse)\n",
    "    r2_list.append(r2)\n",
    "    \n",
    "    # Print MSE and R² for the current degree\n",
    "    print(f\"Degree {N}: MAE = {mae:.4f}, Degree {N}: MSE = {mse:.4f}, R² = {r2:.4f}\")\n",
    "\n",
    "# degree_predictions now contains the predictions for each degree of polynomial features\n",
    "degree_predictions"
   ]
  },
  {
   "cell_type": "markdown",
   "id": "a4fbda23",
   "metadata": {},
   "source": [
    "From polynomial regression, seems like degree 1 (lin reg) performs the best"
   ]
  },
  {
   "cell_type": "code",
   "execution_count": 101,
   "id": "0bd0fd1d",
   "metadata": {},
   "outputs": [
    {
     "name": "stdout",
     "output_type": "stream",
     "text": [
      "\n",
      "Linear Regression Evaluation:\n",
      "Intercept: 23.37263694264176\n",
      "Coefficient: [-0.59789983 -1.46568417 -2.09800728  0.62859566 -1.46941161]\n",
      "Mean Absolute Error (MAE): 14.22\n",
      "Mean Squared Error (MSE): 291.49\n",
      "Root Mean Squared Error (RMSE): 17.07\n",
      "R-squared (R²): 0.02\n",
      "\n",
      "Ridge Regression Evaluation:\n",
      "Intercept: 23.372564045682285\n",
      "Coefficient: [-0.59789941 -1.46569774 -2.09771336  0.62840367 -1.46930969]\n",
      "Mean Absolute Error (MAE): 14.22\n",
      "Mean Squared Error (MSE): 291.49\n",
      "Root Mean Squared Error (RMSE): 17.07\n",
      "R-squared (R²): 0.02\n",
      "\n",
      "Lasso Regression Evaluation:\n",
      "Intercept: 23.19028586139803\n",
      "Coefficient: [-0.58117889 -1.4665218  -1.96439818 -0.         -0.95540209]\n",
      "Mean Absolute Error (MAE): 14.22\n",
      "Mean Squared Error (MSE): 291.24\n",
      "Root Mean Squared Error (RMSE): 17.07\n",
      "R-squared (R²): 0.02\n",
      "\n",
      "Decision Tree Regression Evaluation:\n",
      "\n",
      "\n",
      "Mean Absolute Error (MAE): 18.94\n",
      "Mean Squared Error (MSE): 599.43\n",
      "Root Mean Squared Error (RMSE): 24.48\n",
      "R-squared (R²): -1.02\n"
     ]
    }
   ],
   "source": [
    "# Define the models to evaluate\n",
    "models = {\n",
    "    \"Linear Regression\": LinearRegression(),\n",
    "    \"Ridge Regression\": Ridge(alpha=0.1),\n",
    "    \"Lasso Regression\": Lasso(alpha=0.1),\n",
    "    \"Decision Tree Regression\": DecisionTreeRegressor(random_state=42)\n",
    "}\n",
    "\n",
    "# Evaluate each model\n",
    "for name, model in models.items():\n",
    "    # Train the model\n",
    "    model.fit(X_train, y_train)\n",
    "\n",
    "    # Predict using the test set\n",
    "    y_pred = model.predict(X_test)\n",
    "\n",
    "    # Calculate evaluation metrics\n",
    "    mae = mean_absolute_error(y_test, y_pred)\n",
    "    mse = mean_squared_error(y_test, y_pred)\n",
    "    rmse = np.sqrt(mse)\n",
    "    r2 = r2_score(y_test, y_pred)\n",
    "\n",
    "    # Print the evaluation results\n",
    "    print(f\"\\n{name} Evaluation:\")\n",
    "    print(f\"Intercept: {model.intercept_}\" if hasattr(model, 'intercept_') else \"\")\n",
    "    print(f\"Coefficient: {model.coef_}\" if hasattr(model, 'coef_') else \"\")\n",
    "    print(f\"Mean Absolute Error (MAE): {mae:.2f}\")\n",
    "    print(f\"Mean Squared Error (MSE): {mse:.2f}\")\n",
    "    print(f\"Root Mean Squared Error (RMSE): {rmse:.2f}\")\n",
    "    print(f\"R-squared (R²): {r2:.2f}\")"
   ]
  }
 ],
 "metadata": {
  "kernelspec": {
   "display_name": "Python 3 (ipykernel)",
   "language": "python",
   "name": "python3"
  },
  "language_info": {
   "codemirror_mode": {
    "name": "ipython",
    "version": 3
   },
   "file_extension": ".py",
   "mimetype": "text/x-python",
   "name": "python",
   "nbconvert_exporter": "python",
   "pygments_lexer": "ipython3",
   "version": "3.12.5"
  }
 },
 "nbformat": 4,
 "nbformat_minor": 5
}
