{
 "cells": [
  {
   "cell_type": "markdown",
   "metadata": {},
   "source": [
    "# Data Preparation"
   ]
  },
  {
   "cell_type": "markdown",
   "metadata": {},
   "source": [
    "Data Cleaning and Imputation for columns ignored in the CARES Research Paper."
   ]
  },
  {
   "cell_type": "markdown",
   "metadata": {},
   "source": [
    "## Data Pre-Processing"
   ]
  },
  {
   "cell_type": "markdown",
   "metadata": {},
   "source": [
    "### Observations & Imputation Strategies"
   ]
  },
  {
   "cell_type": "code",
   "execution_count": 2,
   "metadata": {},
   "outputs": [],
   "source": [
    "# Import dependencies\n",
    "import pandas as pd\n",
    "import numpy as np\n",
    "import seaborn as sns\n",
    "import matplotlib.pyplot as plt\n",
    "import duckdb\n",
    "from duckdb import sql"
   ]
  },
  {
   "cell_type": "code",
   "execution_count": 3,
   "metadata": {},
   "outputs": [],
   "source": [
    "# Import dataset\n",
    "data = pd.read_csv(\"../data/CARES_encoded.csv\")"
   ]
  },
  {
   "cell_type": "markdown",
   "metadata": {},
   "source": [
    "### Drop Duplicated columns"
   ]
  },
  {
   "cell_type": "code",
   "execution_count": 4,
   "metadata": {},
   "outputs": [
    {
     "data": {
      "text/plain": [
       "73201"
      ]
     },
     "execution_count": 4,
     "metadata": {},
     "output_type": "execute_result"
    }
   ],
   "source": [
    "# Remove duplicated records with respect to all columns\n",
    "data = data.drop_duplicates()\n",
    "data.reset_index(drop=True, inplace=True)\n",
    "len(data)"
   ]
  },
  {
   "cell_type": "markdown",
   "metadata": {},
   "source": [
    "### Check Missing Values"
   ]
  },
  {
   "cell_type": "code",
   "execution_count": 5,
   "metadata": {},
   "outputs": [
    {
     "name": "stdout",
     "output_type": "stream",
     "text": [
      "<class 'pandas.core.frame.DataFrame'>\n",
      "RangeIndex: 73201 entries, 0 to 73200\n",
      "Data columns (total 28 columns):\n",
      " #   Column                             Non-Null Count  Dtype  \n",
      "---  ------                             --------------  -----  \n",
      " 0   GENDER                             73201 non-null  int64  \n",
      " 1   RCRI score                         50370 non-null  float64\n",
      " 2   Anemia category                    72216 non-null  float64\n",
      " 3   PreopEGFRMDRD                      70069 non-null  float64\n",
      " 4   DaysbetweenDeathandoperation       5595 non-null   float64\n",
      " 5   Preoptransfusionwithin30days       73201 non-null  float64\n",
      " 6   Intraop                            73201 non-null  float64\n",
      " 7   Postopwithin30days                 73201 non-null  float64\n",
      " 8   Transfusionintraandpostop          73201 non-null  float64\n",
      " 9   AnaestypeCategory                  73201 non-null  int64  \n",
      " 10  PriorityCategory                   73201 non-null  int64  \n",
      " 11  TransfusionIntraandpostopCategory  73201 non-null  object \n",
      " 12  AGEcategory                        73201 non-null  int64  \n",
      " 13  Mortality                          73201 non-null  int64  \n",
      " 14  thirtydaymortality                 73201 non-null  int64  \n",
      " 15  SurgRiskCategory                   73201 non-null  int64  \n",
      " 16  CVARCRICategory                    73201 non-null  int64  \n",
      " 17  IHDRCRICategory                    73201 non-null  int64  \n",
      " 18  CHFRCRICategory                    73201 non-null  int64  \n",
      " 19  DMinsulinRCRICategory              73201 non-null  int64  \n",
      " 20  CreatinineRCRICategory             73201 non-null  int64  \n",
      " 21  GradeofKidneyCategory              70069 non-null  float64\n",
      " 22  RDW15.7                            71170 non-null  float64\n",
      " 23  ASAcategorybinned                  69374 non-null  float64\n",
      " 24  ICUAdmgt24h                        73201 non-null  int64  \n",
      " 25  Chinese                            73201 non-null  int64  \n",
      " 26  Indian                             73201 non-null  int64  \n",
      " 27  Malay                              73201 non-null  int64  \n",
      "dtypes: float64(11), int64(16), object(1)\n",
      "memory usage: 15.6+ MB\n"
     ]
    }
   ],
   "source": [
    "data.info()"
   ]
  },
  {
   "cell_type": "code",
   "execution_count": 6,
   "metadata": {},
   "outputs": [],
   "source": [
    "# Define categorical, numeric & target columns\n",
    "# Define the target columns\n",
    "target_cols = ['ICUAdmgt24h', 'thirtydaymortality', 'Mortality']\n",
    "\n",
    "# Select categorical columns and exclude target columns\n",
    "cat_cols = data.select_dtypes(include=['object', 'category']).columns.to_list()\n",
    "cat_cols = [col for col in cat_cols if col not in target_cols]\n",
    "\n",
    "# Select numerical columns and exclude target columns\n",
    "num_cols = data.select_dtypes(include=['number']).columns.tolist()\n",
    "num_cols = [col for col in num_cols if col not in target_cols]\n",
    "\n",
    "# Columns ignored in the research paper\n",
    "rev_cols = ['RCRI score','PreopEGFRMDRD','Preoptransfusionwithin30days','Intraop','Postopwithin30days','Transfusionintraandpostop','AnaestypeCategory','TransfusionIntraandpostopCategory']"
   ]
  },
  {
   "cell_type": "code",
   "execution_count": 7,
   "metadata": {},
   "outputs": [
    {
     "data": {
      "text/plain": [
       "['TransfusionIntraandpostopCategory']"
      ]
     },
     "execution_count": 7,
     "metadata": {},
     "output_type": "execute_result"
    }
   ],
   "source": [
    "cat_cols"
   ]
  },
  {
   "cell_type": "code",
   "execution_count": 8,
   "metadata": {},
   "outputs": [
    {
     "data": {
      "text/plain": [
       "['GENDER',\n",
       " 'RCRI score',\n",
       " 'Anemia category',\n",
       " 'PreopEGFRMDRD',\n",
       " 'DaysbetweenDeathandoperation',\n",
       " 'Preoptransfusionwithin30days',\n",
       " 'Intraop',\n",
       " 'Postopwithin30days',\n",
       " 'Transfusionintraandpostop',\n",
       " 'AnaestypeCategory',\n",
       " 'PriorityCategory',\n",
       " 'AGEcategory',\n",
       " 'SurgRiskCategory',\n",
       " 'CVARCRICategory',\n",
       " 'IHDRCRICategory',\n",
       " 'CHFRCRICategory',\n",
       " 'DMinsulinRCRICategory',\n",
       " 'CreatinineRCRICategory',\n",
       " 'GradeofKidneyCategory',\n",
       " 'RDW15.7',\n",
       " 'ASAcategorybinned',\n",
       " 'Chinese',\n",
       " 'Indian',\n",
       " 'Malay']"
      ]
     },
     "execution_count": 8,
     "metadata": {},
     "output_type": "execute_result"
    }
   ],
   "source": [
    "num_cols"
   ]
  },
  {
   "cell_type": "code",
   "execution_count": 9,
   "metadata": {},
   "outputs": [
    {
     "data": {
      "text/plain": [
       "['ICUAdmgt24h', 'thirtydaymortality', 'Mortality']"
      ]
     },
     "execution_count": 9,
     "metadata": {},
     "output_type": "execute_result"
    }
   ],
   "source": [
    "target_cols"
   ]
  },
  {
   "cell_type": "code",
   "execution_count": 10,
   "metadata": {},
   "outputs": [
    {
     "data": {
      "text/plain": [
       "['RCRI score',\n",
       " 'PreopEGFRMDRD',\n",
       " 'Preoptransfusionwithin30days',\n",
       " 'Intraop',\n",
       " 'Postopwithin30days',\n",
       " 'Transfusionintraandpostop',\n",
       " 'AnaestypeCategory',\n",
       " 'TransfusionIntraandpostopCategory']"
      ]
     },
     "execution_count": 10,
     "metadata": {},
     "output_type": "execute_result"
    }
   ],
   "source": [
    "rev_cols"
   ]
  },
  {
   "cell_type": "code",
   "execution_count": 11,
   "metadata": {},
   "outputs": [
    {
     "name": "stdout",
     "output_type": "stream",
     "text": [
      "\n",
      "Percentage of missing data in review columns:\n",
      "RCRI score                           31.189465\n",
      "PreopEGFRMDRD                         4.278630\n",
      "Preoptransfusionwithin30days          0.000000\n",
      "Intraop                               0.000000\n",
      "Postopwithin30days                    0.000000\n",
      "Transfusionintraandpostop             0.000000\n",
      "AnaestypeCategory                     0.000000\n",
      "TransfusionIntraandpostopCategory     0.000000\n",
      "dtype: float64\n"
     ]
    }
   ],
   "source": [
    "# Function to calculate the percentage of missing data for given columns\n",
    "def calculate_missing_data_percentage(data, columns):\n",
    "    missing_data = data[columns].isnull().mean() * 100\n",
    "    return missing_data\n",
    "\n",
    "# Calculate the percentage of missing data for reviewed columns\n",
    "missing_rev_cols = calculate_missing_data_percentage(data, rev_cols)\n",
    "print(\"\\nPercentage of missing data in review columns:\")\n",
    "print(missing_rev_cols)\n"
   ]
  },
  {
   "cell_type": "code",
   "execution_count": 12,
   "metadata": {},
   "outputs": [],
   "source": [
    "mortality_significant_columns = [\n",
    "    'AGEcategory',\n",
    "    'SurgRiskCategory',\n",
    "    'Chinese',\n",
    "    'Indian',\n",
    "    'Malay',\n",
    "    'Anemia category',\n",
    "    'GradeofKidneyCategory',\n",
    "    'RDW15.7',\n",
    "    'CVARCRICategory',\n",
    "    'IHDRCRICategory',\n",
    "    'CHFRCRICategory',\n",
    "    'DMinsulinRCRICategory',\n",
    "    'ASAcategorybinned',\n",
    "    'GENDER'\n",
    "]"
   ]
  },
  {
   "cell_type": "markdown",
   "metadata": {},
   "source": [
    "## Statistical Tests"
   ]
  },
  {
   "cell_type": "markdown",
   "metadata": {},
   "source": [
    "### Chi-Squared Test"
   ]
  },
  {
   "cell_type": "code",
   "execution_count": 13,
   "metadata": {},
   "outputs": [],
   "source": [
    "import scipy.stats as stats\n",
    "\n",
    "def chi2_test(data, col1, col2):\n",
    "    contingency_table = pd.crosstab(data[col1].astype(int), data[col2].astype(int))\n",
    "\n",
    "    # print(\"Contingency Table:\")\n",
    "    # print(contingency_table)\n",
    "    \n",
    "    # Perform the chi-squared test\n",
    "    chi2, p, dof, expected = stats.chi2_contingency(contingency_table)\n",
    "    \n",
    "    # Output the results\n",
    "    print(f\"Chi-squared Test Statistic: {chi2}\")\n",
    "    print(f\"P-value: {p}\")\n",
    "    print(f\"Degrees of Freedom: {dof}\")\n",
    "    print(\"Expected Frequencies Table:\")\n",
    "    print(expected)\n",
    "\n",
    "    # Interpretation\n",
    "    alpha = 0.05\n",
    "    if p < alpha:\n",
    "        print(\"The result is statistically significant, suggesting an association between the variables.\")\n",
    "    else:\n",
    "        print(\"The result is not statistically significant, suggesting no association between the variables.\")"
   ]
  },
  {
   "cell_type": "markdown",
   "metadata": {},
   "source": [
    "### Variance Inflation Factor (Check for Multicollinearity)"
   ]
  },
  {
   "cell_type": "code",
   "execution_count": 14,
   "metadata": {},
   "outputs": [],
   "source": [
    "from statsmodels.stats.outliers_influence import variance_inflation_factor\n",
    "import statsmodels.api as sm\n",
    "\n",
    "def vif(columns, df):\n",
    "    # Assuming X is your independent variables dataframe\n",
    "    X = df[columns]  # Add more predictors if needed    \n",
    "    X.dropna(inplace=True)\n",
    "    X = X.astype(int)\n",
    "    X = sm.add_constant(X)\n",
    "\n",
    "    # Calculating VIF for each predictor\n",
    "    vif_data = pd.DataFrame()\n",
    "    vif_data[\"feature\"] = X.columns\n",
    "    vif_data[\"VIF\"] = [variance_inflation_factor(X.values, i) for i in range(len(X.columns))]\n",
    "\n",
    "    print(vif_data)"
   ]
  },
  {
   "cell_type": "markdown",
   "metadata": {},
   "source": [
    "### Logistic Regression and Lowess Curve (Linearity)"
   ]
  },
  {
   "cell_type": "code",
   "execution_count": 15,
   "metadata": {},
   "outputs": [],
   "source": [
    "import matplotlib.pyplot as plt\n",
    "import seaborn as sns\n",
    "\n",
    "def logistic_reg(data, x_col, y_col):\n",
    "    # Fit the logistic regression model\n",
    "    df = data.copy()\n",
    "    X = df[x_col]\n",
    "    X = sm.add_constant(X)\n",
    "    y = df[y_col]\n",
    "\n",
    "    model = sm.Logit(y, X)\n",
    "    result = model.fit()\n",
    "\n",
    "    print(result.summary())\n",
    "\n",
    "    # Calculate the predicted probabilities\n",
    "    df['predicted_prob'] = result.predict(X)\n",
    "\n",
    "    # Calculate the logit (log odds)\n",
    "    df['logit'] = np.log(df['predicted_prob'] / (1 - df['predicted_prob']))\n",
    "\n",
    "    # Loop through each predictor and plot\n",
    "    for predictor in x_col:\n",
    "        sns.regplot(x=df[predictor], y=df[y_col], lowess=True, line_kws={'color': 'red'})\n",
    "        plt.xlabel(predictor)\n",
    "        plt.ylabel('Outcome')\n",
    "        plt.title(f'Lowess Smoothing for {predictor}')\n",
    "        plt.show()"
   ]
  },
  {
   "cell_type": "markdown",
   "metadata": {},
   "source": [
    "## Additional Features"
   ]
  },
  {
   "cell_type": "code",
   "execution_count": 16,
   "metadata": {},
   "outputs": [],
   "source": [
    "df = data.copy()"
   ]
  },
  {
   "cell_type": "markdown",
   "metadata": {},
   "source": [
    "### 1. **RCRI score**\n",
    "- ***Definition:*** *Revised Cardiac Risk Index. Six independent predictors of complications were identified and included in a Revised Cardiac Risk Index: high-risk type of surgery, history of ischemic heart disease, history of congestive heart failure, history of cerebrovascular disease, preoperative treatment with insulin, and preoperative serum creatinine >2.0 mg/dL.*\n",
    "- **Paper**: https://pubmed.ncbi.nlm.nih.gov/10477528/\n",
    "- Important predictors (based on paper): 'SurgRiskCategory', 'CVARCRICategory', 'IHDRCRICategory', 'CHFRCRICategory', 'DMinsulinRCRICategory', 'CreatinineRCRICategory', 'Age'\n",
    "- **Suggestion:** \n",
    "  - Since RCRI score is dependant on the above important predictors, we do not include it in modelling as it may lead to multi-collinearity.\n",
    "  - Impute based on ML strategy - Training RF model on important predictors & running inference on RCRI_score."
   ]
  },
  {
   "cell_type": "code",
   "execution_count": 17,
   "metadata": {},
   "outputs": [],
   "source": [
    "# Convert float values to strings and remove decimal places\n",
    "data['RCRI score'] = data['RCRI score'].astype('Int64')\n",
    "data['RCRI score'] = data['RCRI score'].astype(str)"
   ]
  },
  {
   "cell_type": "code",
   "execution_count": 18,
   "metadata": {},
   "outputs": [
    {
     "data": {
      "text/plain": [
       "<Axes: >"
      ]
     },
     "execution_count": 18,
     "metadata": {},
     "output_type": "execute_result"
    },
    {
     "data": {
      "image/png": "[encoded data removed]",
      "text/plain": [
       "<Figure size 640x480 with 1 Axes>"
      ]
     },
     "metadata": {},
     "output_type": "display_data"
    }
   ],
   "source": [
    "data['RCRI score'].hist(bins=10)"
   ]
  },
  {
   "cell_type": "code",
   "execution_count": 19,
   "metadata": {},
   "outputs": [
    {
     "data": {
      "text/plain": [
       "RCRI score\n",
       "0       34966\n",
       "<NA>    22831\n",
       "1       12087\n",
       "2        2435\n",
       "3         679\n",
       "4         168\n",
       "5          33\n",
       "6           2\n",
       "Name: count, dtype: int64"
      ]
     },
     "execution_count": 19,
     "metadata": {},
     "output_type": "execute_result"
    }
   ],
   "source": [
    "data['RCRI score'].value_counts()"
   ]
  },
  {
   "cell_type": "code",
   "execution_count": 20,
   "metadata": {},
   "outputs": [],
   "source": [
    "# Replace '<NA>' strings with NaN in the 'RCRI_score' column\n",
    "data['RCRI score'] = data['RCRI score'].replace('<NA>', np.nan)"
   ]
  },
  {
   "cell_type": "code",
   "execution_count": 21,
   "metadata": {},
   "outputs": [
    {
     "data": {
      "text/html": [
       "<div>\n",
       "<style scoped>\n",
       "    .dataframe tbody tr th:only-of-type {\n",
       "        vertical-align: middle;\n",
       "    }\n",
       "\n",
       "    .dataframe tbody tr th {\n",
       "        vertical-align: top;\n",
       "    }\n",
       "\n",
       "    .dataframe thead th {\n",
       "        text-align: right;\n",
       "    }\n",
       "</style>\n",
       "<table border=\"1\" class=\"dataframe\">\n",
       "  <thead>\n",
       "    <tr style=\"text-align: right;\">\n",
       "      <th></th>\n",
       "      <th>RCRI score</th>\n",
       "      <th>AGEcategory</th>\n",
       "      <th>SurgRiskCategory</th>\n",
       "      <th>CHFRCRICategory</th>\n",
       "      <th>CVARCRICategory</th>\n",
       "      <th>IHDRCRICategory</th>\n",
       "      <th>DMinsulinRCRICategory</th>\n",
       "      <th>CreatinineRCRICategory</th>\n",
       "    </tr>\n",
       "  </thead>\n",
       "  <tbody>\n",
       "    <tr>\n",
       "      <th>4</th>\n",
       "      <td>0</td>\n",
       "      <td>3</td>\n",
       "      <td>0</td>\n",
       "      <td>0</td>\n",
       "      <td>0</td>\n",
       "      <td>0</td>\n",
       "      <td>0</td>\n",
       "      <td>0</td>\n",
       "    </tr>\n",
       "    <tr>\n",
       "      <th>8</th>\n",
       "      <td>0</td>\n",
       "      <td>2</td>\n",
       "      <td>1</td>\n",
       "      <td>0</td>\n",
       "      <td>0</td>\n",
       "      <td>0</td>\n",
       "      <td>0</td>\n",
       "      <td>0</td>\n",
       "    </tr>\n",
       "    <tr>\n",
       "      <th>9</th>\n",
       "      <td>1</td>\n",
       "      <td>2</td>\n",
       "      <td>1</td>\n",
       "      <td>0</td>\n",
       "      <td>0</td>\n",
       "      <td>0</td>\n",
       "      <td>0</td>\n",
       "      <td>0</td>\n",
       "    </tr>\n",
       "    <tr>\n",
       "      <th>10</th>\n",
       "      <td>0</td>\n",
       "      <td>2</td>\n",
       "      <td>0</td>\n",
       "      <td>0</td>\n",
       "      <td>0</td>\n",
       "      <td>0</td>\n",
       "      <td>0</td>\n",
       "      <td>0</td>\n",
       "    </tr>\n",
       "    <tr>\n",
       "      <th>11</th>\n",
       "      <td>1</td>\n",
       "      <td>1</td>\n",
       "      <td>1</td>\n",
       "      <td>0</td>\n",
       "      <td>0</td>\n",
       "      <td>0</td>\n",
       "      <td>0</td>\n",
       "      <td>0</td>\n",
       "    </tr>\n",
       "  </tbody>\n",
       "</table>\n",
       "</div>"
      ],
      "text/plain": [
       "   RCRI score  AGEcategory  SurgRiskCategory  CHFRCRICategory  \\\n",
       "4           0            3                 0                0   \n",
       "8           0            2                 1                0   \n",
       "9           1            2                 1                0   \n",
       "10          0            2                 0                0   \n",
       "11          1            1                 1                0   \n",
       "\n",
       "    CVARCRICategory  IHDRCRICategory  DMinsulinRCRICategory  \\\n",
       "4                 0                0                      0   \n",
       "8                 0                0                      0   \n",
       "9                 0                0                      0   \n",
       "10                0                0                      0   \n",
       "11                0                0                      0   \n",
       "\n",
       "    CreatinineRCRICategory  \n",
       "4                        0  \n",
       "8                        0  \n",
       "9                        0  \n",
       "10                       0  \n",
       "11                       0  "
      ]
     },
     "execution_count": 21,
     "metadata": {},
     "output_type": "execute_result"
    }
   ],
   "source": [
    "subset = data[['RCRI score', 'AGEcategory', 'SurgRiskCategory', 'CHFRCRICategory', 'CVARCRICategory', 'IHDRCRICategory', 'DMinsulinRCRICategory', 'CreatinineRCRICategory']]\n",
    "subset1 = subset.loc[(~subset['RCRI score'].isnull())]\n",
    "subset1.head()"
   ]
  },
  {
   "cell_type": "code",
   "execution_count": 22,
   "metadata": {},
   "outputs": [],
   "source": [
    "df = data.copy()"
   ]
  },
  {
   "cell_type": "code",
   "execution_count": 23,
   "metadata": {},
   "outputs": [
    {
     "data": {
      "text/plain": [
       "np.int64(22831)"
      ]
     },
     "execution_count": 23,
     "metadata": {},
     "output_type": "execute_result"
    }
   ],
   "source": [
    "data['RCRI score'].isnull().sum()"
   ]
  },
  {
   "cell_type": "code",
   "execution_count": 24,
   "metadata": {},
   "outputs": [
    {
     "data": {
      "text/plain": [
       "Index(['RCRI score', 'AGEcategory', 'SurgRiskCategory', 'CHFRCRICategory',\n",
       "       'CVARCRICategory', 'IHDRCRICategory', 'DMinsulinRCRICategory',\n",
       "       'CreatinineRCRICategory'],\n",
       "      dtype='object')"
      ]
     },
     "execution_count": 24,
     "metadata": {},
     "output_type": "execute_result"
    }
   ],
   "source": [
    "subset1.columns"
   ]
  },
  {
   "cell_type": "code",
   "execution_count": 25,
   "metadata": {},
   "outputs": [],
   "source": [
    "from sklearn.ensemble import RandomForestClassifier\n",
    "from sklearn.model_selection import train_test_split\n",
    "from sklearn.metrics import classification_report\n",
    "from sklearn.preprocessing import OneHotEncoder\n",
    "from sklearn.compose import ColumnTransformer\n",
    "from sklearn.pipeline import Pipeline\n",
    "\n",
    "def impute_rcri_score(subset, data):\n",
    "    # Rename the column 'RCRI score' to 'RCRI_score' in both dataframes\n",
    "    subset.rename(columns={'RCRI score': 'RCRI_score'}, inplace=True)\n",
    "    data.rename(columns={'RCRI score': 'RCRI_score'}, inplace=True)\n",
    "    \n",
    "    # Define the features and target column\n",
    "    features = ['AGEcategory', 'SurgRiskCategory', 'CHFRCRICategory',\n",
    "       'CVARCRICategory', 'IHDRCRICategory', 'DMinsulinRCRICategory',\n",
    "       'CreatinineRCRICategory']\n",
    "    target_col = 'RCRI_score'\n",
    "    \n",
    "    # Separate features and target in subset\n",
    "    X = subset[features]\n",
    "    y = subset[target_col]\n",
    "    \n",
    "    # Define the Random Forest model with class weights\n",
    "    rf = RandomForestClassifier(class_weight='balanced', random_state=42)\n",
    "    \n",
    "    # Split the data into training and validation sets\n",
    "    X_train, X_val, y_train, y_val = train_test_split(X, y, test_size=0.2, random_state=42)\n",
    "    \n",
    "    # Train the Random Forest model\n",
    "    rf.fit(X_train, y_train)\n",
    "    \n",
    "    # Evaluate the model on the validation set\n",
    "    y_val_pred = rf.predict(X_val)\n",
    "    print(\"Validation Set Classification Report:\")\n",
    "    print(classification_report(y_val, y_val_pred))\n",
    "    \n",
    "    # Identify rows with missing 'RCRI_score' in the data\n",
    "    missing_rcri_score = data[target_col].isnull()\n",
    "    \n",
    "    # Prepare features for rows with missing 'RCRI_score'\n",
    "    X_missing = data.loc[missing_rcri_score, features]\n",
    "    \n",
    "    # Impute the missing values using the trained Random Forest model\n",
    "    imputed_rcri_scores = rf.predict(X_missing)\n",
    "    \n",
    "    # Impute the missing values in the original data\n",
    "    data.loc[missing_rcri_score, target_col] = imputed_rcri_scores\n",
    "    \n",
    "    return data"
   ]
  },
  {
   "cell_type": "code",
   "execution_count": 26,
   "metadata": {},
   "outputs": [
    {
     "name": "stderr",
     "output_type": "stream",
     "text": [
      "C:\\Users\\danie\\AppData\\Local\\Temp\\ipykernel_5320\\1876182499.py:10: SettingWithCopyWarning: \n",
      "A value is trying to be set on a copy of a slice from a DataFrame\n",
      "\n",
      "See the caveats in the documentation: https://pandas.pydata.org/pandas-docs/stable/user_guide/indexing.html#returning-a-view-versus-a-copy\n",
      "  subset.rename(columns={'RCRI score': 'RCRI_score'}, inplace=True)\n"
     ]
    },
    {
     "name": "stdout",
     "output_type": "stream",
     "text": [
      "Validation Set Classification Report:\n",
      "              precision    recall  f1-score   support\n",
      "\n",
      "           0       0.90      0.75      0.82      7015\n",
      "           1       0.44      0.60      0.51      2352\n",
      "           2       0.48      0.77      0.59       517\n",
      "           3       0.55      0.66      0.60       146\n",
      "           4       0.52      0.62      0.57        37\n",
      "           5       0.38      0.43      0.40         7\n",
      "\n",
      "    accuracy                           0.71     10074\n",
      "   macro avg       0.55      0.64      0.58     10074\n",
      "weighted avg       0.77      0.71      0.73     10074\n",
      "\n"
     ]
    }
   ],
   "source": [
    "data = impute_rcri_score(subset1, data)"
   ]
  },
  {
   "cell_type": "code",
   "execution_count": 27,
   "metadata": {},
   "outputs": [
    {
     "data": {
      "text/plain": [
       "np.int64(22831)"
      ]
     },
     "execution_count": 27,
     "metadata": {},
     "output_type": "execute_result"
    }
   ],
   "source": [
    "df['RCRI score'].isnull().sum()"
   ]
  },
  {
   "cell_type": "code",
   "execution_count": 28,
   "metadata": {},
   "outputs": [
    {
     "data": {
      "text/plain": [
       "RCRI score\n",
       "0    34966\n",
       "1    12087\n",
       "2     2435\n",
       "3      679\n",
       "4      168\n",
       "5       33\n",
       "6        2\n",
       "Name: count, dtype: int64"
      ]
     },
     "execution_count": 28,
     "metadata": {},
     "output_type": "execute_result"
    }
   ],
   "source": [
    "df['RCRI score'].value_counts()"
   ]
  },
  {
   "cell_type": "code",
   "execution_count": 29,
   "metadata": {},
   "outputs": [
    {
     "data": {
      "text/plain": [
       "np.int64(0)"
      ]
     },
     "execution_count": 29,
     "metadata": {},
     "output_type": "execute_result"
    }
   ],
   "source": [
    "data['RCRI_score'].isnull().sum()"
   ]
  },
  {
   "cell_type": "code",
   "execution_count": 30,
   "metadata": {},
   "outputs": [
    {
     "data": {
      "text/plain": [
       "RCRI_score\n",
       "0    51038\n",
       "1    18528\n",
       "2     2735\n",
       "3      695\n",
       "4      170\n",
       "5       33\n",
       "6        2\n",
       "Name: count, dtype: int64"
      ]
     },
     "execution_count": 30,
     "metadata": {},
     "output_type": "execute_result"
    }
   ],
   "source": [
    "data['RCRI_score'].value_counts()"
   ]
  },
  {
   "cell_type": "code",
   "execution_count": 31,
   "metadata": {},
   "outputs": [
    {
     "data": {
      "text/plain": [
       "Mortality\n",
       "0    67606\n",
       "1     5595\n",
       "Name: count, dtype: int64"
      ]
     },
     "execution_count": 31,
     "metadata": {},
     "output_type": "execute_result"
    }
   ],
   "source": [
    "data.Mortality.value_counts()"
   ]
  },
  {
   "cell_type": "code",
   "execution_count": 32,
   "metadata": {},
   "outputs": [
    {
     "name": "stderr",
     "output_type": "stream",
     "text": [
      "C:\\Users\\danie\\AppData\\Local\\Temp\\ipykernel_5320\\910535912.py:7: SettingWithCopyWarning: \n",
      "A value is trying to be set on a copy of a slice from a DataFrame\n",
      "\n",
      "See the caveats in the documentation: https://pandas.pydata.org/pandas-docs/stable/user_guide/indexing.html#returning-a-view-versus-a-copy\n",
      "  X.dropna(inplace=True)\n"
     ]
    },
    {
     "name": "stdout",
     "output_type": "stream",
     "text": [
      "                  feature       VIF\n",
      "0                   const  4.141653\n",
      "1              RCRI_score  3.093313\n",
      "2             AGEcategory  1.092300\n",
      "3        SurgRiskCategory  1.367298\n",
      "4         CHFRCRICategory  1.168712\n",
      "5         CVARCRICategory  1.193143\n",
      "6         IHDRCRICategory  1.573336\n",
      "7   DMinsulinRCRICategory  1.251428\n",
      "8  CreatinineRCRICategory  1.356384\n"
     ]
    }
   ],
   "source": [
    "vif(['RCRI_score', 'AGEcategory', 'SurgRiskCategory', 'CHFRCRICategory', 'CVARCRICategory', 'IHDRCRICategory', 'DMinsulinRCRICategory', 'CreatinineRCRICategory'], data)"
   ]
  },
  {
   "cell_type": "code",
   "execution_count": 33,
   "metadata": {},
   "outputs": [
    {
     "data": {
      "text/plain": [
       "RCRI_score\n",
       "0    51038\n",
       "1    18528\n",
       "2     2735\n",
       "3      695\n",
       "4      170\n",
       "5       33\n",
       "6        2\n",
       "Name: count, dtype: int64"
      ]
     },
     "execution_count": 33,
     "metadata": {},
     "output_type": "execute_result"
    }
   ],
   "source": [
    "data['RCRI_score'].value_counts()"
   ]
  },
  {
   "cell_type": "code",
   "execution_count": 34,
   "metadata": {},
   "outputs": [
    {
     "name": "stdout",
     "output_type": "stream",
     "text": [
      "Chi-squared Test Statistic: 2775.0014149378367\n",
      "P-value: 0.0\n",
      "Degrees of Freedom: 6\n",
      "Expected Frequencies Table:\n",
      "[[4.71369930e+04 3.90100695e+03]\n",
      " [1.71118423e+04 1.41615770e+03]\n",
      " [2.52595470e+03 2.09045300e+02]\n",
      " [6.41878799e+02 5.31212005e+01]\n",
      " [1.57006325e+02 1.29936749e+01]\n",
      " [3.04776984e+01 2.52230161e+00]\n",
      " [1.84713324e+00 1.52866764e-01]]\n",
      "The result is statistically significant, suggesting an association between the variables.\n"
     ]
    }
   ],
   "source": [
    "chi2_test(data, 'RCRI_score', 'Mortality')"
   ]
  },
  {
   "cell_type": "code",
   "execution_count": 35,
   "metadata": {},
   "outputs": [],
   "source": [
    "data.drop(columns=['RCRI_score'], axis=1, inplace=True)"
   ]
  },
  {
   "cell_type": "markdown",
   "metadata": {},
   "source": [
    "### 2. **Preoperative Estimated Glomerular Filtration Rate using the Modification of Diet in Renal Disease (PreopEGFRMDRD)**\n",
    "- **Definition:** Estimated glomerular filtration rate (eGFR), describing filtrate flow through the kidneys, is a universal surrogate indicator for assessing renal function. It has been widely used in the clinical diagnosis of chronic kidney disease (CKD).\n",
    "- The PreopEGFRMDRD is typically measured in mL/min/1.73m² and is used to assess kidney function. Normal values generally range from 90 to 120 mL/min/1.73m², with lower values indicating impaired kidney function.\n",
    "- Paper: https://www.ncbi.nlm.nih.gov/pmc/articles/PMC7936476/\n",
    "- **Insights:** In this study, they confirmed an independent nonlinear relationship between preop-eGFR and postoperative 30-day mortality. A stable U-shaped trend can be seen in this relationship. When preop-eGFR ≤ 98.688 mL/min/1.73 m2, the 30-day mortality would be decreased by 1.6% for each additional unit of preop-eGFR. While preop-eGFR > 98.688 mL/min/1.73 m2, there would be a 1.3% increase of 30-day mortality rate for each additional unit of preop-eGFR. CHF, DM, IHD and anemia complications (CHF, DM, IHD acting as a promoting factor, while anemia as an inhibitory factor) interfere with the effect of preop-eGFR on postoperative 30-day mortality.\n",
    "- The paper excluded all cases of missing data for preop-eGFR and outliers.\n",
    "- **Suggestion:** Based on the findings in the paper, we will classify the feature into two classes: preop-eGFR ≤ 98.688 mL/min/1.73 m2 (0) and preop-eGFR > 98.688 mL/min/1.73 m2 (1)"
   ]
  },
  {
   "cell_type": "code",
   "execution_count": 36,
   "metadata": {},
   "outputs": [
    {
     "data": {
      "text/plain": [
       "Index(['GENDER', 'Anemia category', 'PreopEGFRMDRD',\n",
       "       'DaysbetweenDeathandoperation', 'Preoptransfusionwithin30days',\n",
       "       'Intraop', 'Postopwithin30days', 'Transfusionintraandpostop',\n",
       "       'AnaestypeCategory', 'PriorityCategory',\n",
       "       'TransfusionIntraandpostopCategory', 'AGEcategory', 'Mortality',\n",
       "       'thirtydaymortality', 'SurgRiskCategory', 'CVARCRICategory',\n",
       "       'IHDRCRICategory', 'CHFRCRICategory', 'DMinsulinRCRICategory',\n",
       "       'CreatinineRCRICategory', 'GradeofKidneyCategory', 'RDW15.7',\n",
       "       'ASAcategorybinned', 'ICUAdmgt24h', 'Chinese', 'Indian', 'Malay'],\n",
       "      dtype='object')"
      ]
     },
     "execution_count": 36,
     "metadata": {},
     "output_type": "execute_result"
    }
   ],
   "source": [
    "data.columns"
   ]
  },
  {
   "cell_type": "code",
   "execution_count": 37,
   "metadata": {},
   "outputs": [],
   "source": [
    "data=data.dropna(subset=['PreopEGFRMDRD'])"
   ]
  },
  {
   "cell_type": "code",
   "execution_count": 38,
   "metadata": {},
   "outputs": [
    {
     "name": "stdout",
     "output_type": "stream",
     "text": [
      "   PreopEGFRMDRD  eGFR_Class\n",
      "2     152.538570           1\n",
      "3     117.231496           1\n",
      "4      98.651255           0\n",
      "5     104.487306           1\n",
      "6      72.669742           0\n"
     ]
    }
   ],
   "source": [
    "threshold = 98.688\n",
    "\n",
    "# Create a new binary feature based on the threshold\n",
    "data['eGFR_Class'] = data['PreopEGFRMDRD'].apply(lambda x: 1 if x > threshold else 0)\n",
    "\n",
    "# Print the first few rows to verify the new feature\n",
    "print(data[['PreopEGFRMDRD', 'eGFR_Class']].head())"
   ]
  },
  {
   "cell_type": "code",
   "execution_count": 39,
   "metadata": {},
   "outputs": [
    {
     "data": {
      "image/png": "[encoded data removed]",
      "text/plain": [
       "<Figure size 800x600 with 1 Axes>"
      ]
     },
     "metadata": {},
     "output_type": "display_data"
    }
   ],
   "source": [
    "# Visualize the distribution of the new binary feature\n",
    "plt.figure(figsize=(8, 6))\n",
    "data['eGFR_Class'].value_counts().plot(kind='bar')\n",
    "plt.title('Distribution of eGFR_Class')\n",
    "plt.xlabel('eGFR Class')\n",
    "plt.ylabel('Count')\n",
    "plt.show()"
   ]
  },
  {
   "cell_type": "code",
   "execution_count": 40,
   "metadata": {},
   "outputs": [],
   "source": [
    "data['PreopEGFRMDRD'] = data['eGFR_Class']\n",
    "data.drop(columns=['eGFR_Class'], inplace=True)"
   ]
  },
  {
   "cell_type": "code",
   "execution_count": 41,
   "metadata": {},
   "outputs": [
    {
     "name": "stderr",
     "output_type": "stream",
     "text": [
      "C:\\Users\\danie\\AppData\\Local\\Temp\\ipykernel_5320\\910535912.py:7: SettingWithCopyWarning: \n",
      "A value is trying to be set on a copy of a slice from a DataFrame\n",
      "\n",
      "See the caveats in the documentation: https://pandas.pydata.org/pandas-docs/stable/user_guide/indexing.html#returning-a-view-versus-a-copy\n",
      "  X.dropna(inplace=True)\n"
     ]
    },
    {
     "name": "stdout",
     "output_type": "stream",
     "text": [
      "                  feature        VIF\n",
      "0                   const  49.681184\n",
      "1             AGEcategory   1.449098\n",
      "2        SurgRiskCategory   1.066804\n",
      "3                 Chinese   2.499203\n",
      "4                  Indian   1.781012\n",
      "5                   Malay   1.875836\n",
      "6         Anemia category   1.435052\n",
      "7   GradeofKidneyCategory   3.360468\n",
      "8                 RDW15.7   1.255222\n",
      "9         CVARCRICategory   1.047385\n",
      "10        IHDRCRICategory   1.187558\n",
      "11        CHFRCRICategory   1.083906\n",
      "12  DMinsulinRCRICategory   1.071112\n",
      "13      ASAcategorybinned   1.472165\n",
      "14                 GENDER   1.071524\n",
      "15          PreopEGFRMDRD   3.150406\n"
     ]
    }
   ],
   "source": [
    "vif(mortality_significant_columns+['PreopEGFRMDRD'], df)"
   ]
  },
  {
   "cell_type": "code",
   "execution_count": 42,
   "metadata": {},
   "outputs": [
    {
     "name": "stdout",
     "output_type": "stream",
     "text": [
      "Chi-squared Test Statistic: 495.85786068039965\n",
      "P-value: 7.572227216475161e-110\n",
      "Degrees of Freedom: 1\n",
      "Expected Frequencies Table:\n",
      "[[35162.73627424  2920.26372576]\n",
      " [29533.26372576  2452.73627424]]\n",
      "The result is statistically significant, suggesting an association between the variables.\n"
     ]
    }
   ],
   "source": [
    "chi2_test(data, 'PreopEGFRMDRD', 'Mortality')"
   ]
  },
  {
   "cell_type": "code",
   "execution_count": 43,
   "metadata": {},
   "outputs": [],
   "source": [
    "mortality_significant_columns.append('PreopEGFRMDRD')"
   ]
  },
  {
   "cell_type": "markdown",
   "metadata": {},
   "source": [
    "### **3. Perioperative transfusion (Preoptransfusionwithin30days, Intraop, Postopwithin30days)**\n",
    "- **Definition:** Perioperative blood transfusions are often associated with an increased risk of postoperative complications, including infection, cardiovascular events, and increased mortality. This is particularly significant in patients undergoing major surgeries.\n",
    "- **Paper:** https://pubmed.ncbi.nlm.nih.gov/15784356/\n",
    "- **Insights:** The study found that patients who received peri-operative RBC transfusions had higher 30-day and 1-year mortality rates compared to those who did not receive transfusions.\n",
    "- Kaplan-Meier survival curves showed a clear survival disadvantage for patients receiving RBC transfusions. This effect was observed both at 30 days and at 1 year post-surgery.\n",
    "- **Paper:** https://pubs.asahq.org/anesthesiology/article/114/2/283/10961/Association-between-Intraoperative-Blood\n",
    "- **Insights:** This multicenter observational study suggests that intraoperative blood transfusion is associated with a higher risk of mortality and morbidity. It is unknown whether this association is due to the adverse effects of blood transfusion or is, instead, the result of increased blood loss in the patients receiving blood. The study emphasizes the importance of considering intraoperative transfusions as a significant risk factor in predicting short-term outcomes after surgery.\n",
    "- **Paper:** https://jamanetwork.com/journals/jama/article-abstract/187160\n",
    "- **Insights:** Perioperative transfusion in patients with hemoglobin levels 80 g/L (8.0 g/dL) or higher did not appear to influence the risk of 30- or 90-day mortality in this elderly population. At hemoglobin concentrations of less than 80 g/L (8.0 g/dL), 90.5% of patients received a transfusion, precluding further analysis of the association of transfusion and mortality.\n",
    "- **Suggestions:** \n",
    "  - Classify the field as 1 and 0 if the patient recieved Pre-op and Post-Op transfusion.\n",
    "  - We could also group all three transfusion columns and name the feature as Perioperativetransfusion (1, 0), presence of a single transfusion using OR operation.\n",
    "  - Need to make a decision of whether the field should be used as research papers support both arguments, will need to check from a statistical view-point."
   ]
  },
  {
   "cell_type": "code",
   "execution_count": 44,
   "metadata": {},
   "outputs": [
    {
     "data": {
      "text/plain": [
       "Preoptransfusionwithin30days\n",
       "0.0     68276\n",
       "1.0       961\n",
       "2.0       437\n",
       "3.0       178\n",
       "4.0        73\n",
       "5.0        45\n",
       "6.0        23\n",
       "7.0        23\n",
       "8.0        19\n",
       "11.0        8\n",
       "10.0        7\n",
       "9.0         6\n",
       "13.0        5\n",
       "14.0        4\n",
       "17.0        1\n",
       "12.0        1\n",
       "20.0        1\n",
       "21.0        1\n",
       "Name: count, dtype: int64"
      ]
     },
     "execution_count": 44,
     "metadata": {},
     "output_type": "execute_result"
    }
   ],
   "source": [
    "data['Preoptransfusionwithin30days'].value_counts()"
   ]
  },
  {
   "cell_type": "code",
   "execution_count": 45,
   "metadata": {},
   "outputs": [
    {
     "data": {
      "text/plain": [
       "Intraop\n",
       "0.0    65348\n",
       "1.0     4721\n",
       "Name: count, dtype: int64"
      ]
     },
     "execution_count": 45,
     "metadata": {},
     "output_type": "execute_result"
    }
   ],
   "source": [
    "data['Intraop'].value_counts()"
   ]
  },
  {
   "cell_type": "code",
   "execution_count": 46,
   "metadata": {},
   "outputs": [
    {
     "data": {
      "text/plain": [
       "Postopwithin30days\n",
       "0.0     69140\n",
       "1.0       595\n",
       "2.0       179\n",
       "3.0        61\n",
       "4.0        34\n",
       "5.0        23\n",
       "6.0        12\n",
       "7.0         9\n",
       "8.0         5\n",
       "12.0        3\n",
       "9.0         3\n",
       "15.0        2\n",
       "23.0        1\n",
       "16.0        1\n",
       "10.0        1\n",
       "Name: count, dtype: int64"
      ]
     },
     "execution_count": 46,
     "metadata": {},
     "output_type": "execute_result"
    }
   ],
   "source": [
    "data['Postopwithin30days'].value_counts()"
   ]
  },
  {
   "cell_type": "code",
   "execution_count": 47,
   "metadata": {},
   "outputs": [],
   "source": [
    "transfusion_cols = ['Preoptransfusionwithin30days', 'Intraop', 'Postopwithin30days']"
   ]
  },
  {
   "cell_type": "code",
   "execution_count": 48,
   "metadata": {},
   "outputs": [
    {
     "data": {
      "image/png": "[encoded data removed]",
      "text/plain": [
       "<Figure size 1000x600 with 1 Axes>"
      ]
     },
     "metadata": {},
     "output_type": "display_data"
    }
   ],
   "source": [
    "# Histogram\n",
    "plt.figure(figsize=(10, 6))\n",
    "sns.histplot(data[transfusion_cols], bins=30, color='blue')\n",
    "plt.title('Distribution of Preoperative Transfusion Within 30 Days')\n",
    "plt.xlabel('Units of Blood Transfused')\n",
    "plt.ylabel('Frequency')\n",
    "plt.show()"
   ]
  },
  {
   "cell_type": "markdown",
   "metadata": {},
   "source": [
    "Multicollinearity: Check Variance Inflation Factor (VIF) values. If VIF values are significantly higher than 10, it may indicate problematic multicollinearity."
   ]
  },
  {
   "cell_type": "code",
   "execution_count": 49,
   "metadata": {},
   "outputs": [
    {
     "name": "stderr",
     "output_type": "stream",
     "text": [
      "C:\\Users\\danie\\AppData\\Local\\Temp\\ipykernel_5320\\910535912.py:7: SettingWithCopyWarning: \n",
      "A value is trying to be set on a copy of a slice from a DataFrame\n",
      "\n",
      "See the caveats in the documentation: https://pandas.pydata.org/pandas-docs/stable/user_guide/indexing.html#returning-a-view-versus-a-copy\n",
      "  X.dropna(inplace=True)\n"
     ]
    },
    {
     "name": "stdout",
     "output_type": "stream",
     "text": [
      "                         feature        VIF\n",
      "0                          const  18.648417\n",
      "1                    AGEcategory   1.472328\n",
      "2               SurgRiskCategory   1.113226\n",
      "3                        Chinese   2.500236\n",
      "4                         Indian   1.782070\n",
      "5                          Malay   1.876494\n",
      "6                Anemia category   1.532576\n",
      "7          GradeofKidneyCategory   2.138049\n",
      "8                        RDW15.7   1.262833\n",
      "9                CVARCRICategory   1.047419\n",
      "10               IHDRCRICategory   1.187505\n",
      "11               CHFRCRICategory   1.084946\n",
      "12         DMinsulinRCRICategory   1.072987\n",
      "13             ASAcategorybinned   1.484155\n",
      "14                        GENDER   1.075018\n",
      "15                 PreopEGFRMDRD   1.899802\n",
      "16  Preoptransfusionwithin30days   1.298857\n",
      "17                       Intraop   1.421473\n",
      "18            Postopwithin30days   1.180681\n"
     ]
    }
   ],
   "source": [
    "vif(mortality_significant_columns + transfusion_cols, data)"
   ]
  },
  {
   "cell_type": "markdown",
   "metadata": {},
   "source": [
    "Check linearity of the relationship between 'Preoptransfusionwithin30days' and 'Mortality'."
   ]
  },
  {
   "cell_type": "code",
   "execution_count": 50,
   "metadata": {},
   "outputs": [
    {
     "name": "stdout",
     "output_type": "stream",
     "text": [
      "Optimization terminated successfully.\n",
      "         Current function value: 0.258319\n",
      "         Iterations 7\n",
      "                           Logit Regression Results                           \n",
      "==============================================================================\n",
      "Dep. Variable:              Mortality   No. Observations:                73201\n",
      "Model:                          Logit   Df Residuals:                    73197\n",
      "Method:                           MLE   Df Model:                            3\n",
      "Date:                Mon, 12 Aug 2024   Pseudo R-squ.:                 0.04316\n",
      "Time:                        01:09:29   Log-Likelihood:                -18909.\n",
      "converged:                       True   LL-Null:                       -19762.\n",
      "Covariance Type:            nonrobust   LLR p-value:                     0.000\n",
      "================================================================================================\n",
      "                                   coef    std err          z      P>|z|      [0.025      0.975]\n",
      "------------------------------------------------------------------------------------------------\n",
      "const                           -2.6837      0.016   -171.445      0.000      -2.714      -2.653\n",
      "Preoptransfusionwithin30days     0.2051      0.022      9.504      0.000       0.163       0.247\n",
      "Intraop                          1.2906      0.043     30.160      0.000       1.207       1.374\n",
      "Postopwithin30days               0.2603      0.034      7.557      0.000       0.193       0.328\n",
      "================================================================================================\n"
     ]
    },
    {
     "name": "stderr",
     "output_type": "stream",
     "text": [
      "d:\\OneDrive - Singapore Management University\\SMU Singapore\\Academics\\Jul 2024\\Applied Healthcare Analytics\\CARES_Analytics\\venv\\Lib\\site-packages\\statsmodels\\nonparametric\\smoothers_lowess.py:226: RuntimeWarning: invalid value encountered in divide\n",
      "  res, _ = _lowess(y, x, x, np.ones_like(x),\n"
     ]
    },
    {
     "data": {
      "image/png": "[encoded data removed]",
      "text/plain": [
       "<Figure size 640x480 with 1 Axes>"
      ]
     },
     "metadata": {},
     "output_type": "display_data"
    },
    {
     "data": {
      "image/png": "[encoded data removed]",
      "text/plain": [
       "<Figure size 640x480 with 1 Axes>"
      ]
     },
     "metadata": {},
     "output_type": "display_data"
    },
    {
     "data": {
      "image/png": "[encoded data removed]",
      "text/plain": [
       "<Figure size 640x480 with 1 Axes>"
      ]
     },
     "metadata": {},
     "output_type": "display_data"
    }
   ],
   "source": [
    "logistic_reg(df, x_col=transfusion_cols, y_col='Mortality')"
   ]
  },
  {
   "cell_type": "code",
   "execution_count": 51,
   "metadata": {},
   "outputs": [],
   "source": [
    "data['Preoptransfusionwithin30days'] = data['Preoptransfusionwithin30days'].apply(lambda x: 1 if x > 0 else 0)\n",
    "data['Postopwithin30days'] = data['Postopwithin30days'].apply(lambda x: 1 if x > 0 else 0)"
   ]
  },
  {
   "cell_type": "code",
   "execution_count": 52,
   "metadata": {},
   "outputs": [
    {
     "name": "stdout",
     "output_type": "stream",
     "text": [
      "Chi-squared Test Statistic: 1725.5908178125842\n",
      "P-value: 0.0\n",
      "Degrees of Freedom: 1\n",
      "Expected Frequencies Table:\n",
      "[[63040.49003125  5235.50996875]\n",
      " [ 1655.50996875   137.49003125]]\n",
      "The result is statistically significant, suggesting an association between the variables.\n"
     ]
    }
   ],
   "source": [
    "chi2_test(data, 'Preoptransfusionwithin30days', 'Mortality')"
   ]
  },
  {
   "cell_type": "code",
   "execution_count": 53,
   "metadata": {},
   "outputs": [
    {
     "name": "stdout",
     "output_type": "stream",
     "text": [
      "Chi-squared Test Statistic: 2212.4945307255275\n",
      "P-value: 0.0\n",
      "Degrees of Freedom: 1\n",
      "Expected Frequencies Table:\n",
      "[[60337.01362942  5010.98637058]\n",
      " [ 4358.98637058   362.01362942]]\n",
      "The result is statistically significant, suggesting an association between the variables.\n"
     ]
    }
   ],
   "source": [
    "chi2_test(data, 'Intraop', 'Mortality')"
   ]
  },
  {
   "cell_type": "code",
   "execution_count": 54,
   "metadata": {},
   "outputs": [
    {
     "name": "stdout",
     "output_type": "stream",
     "text": [
      "Chi-squared Test Statistic: 1142.1288959239616\n",
      "P-value: 2.3044353017239638e-250\n",
      "Degrees of Freedom: 1\n",
      "Expected Frequencies Table:\n",
      "[[63838.23716622  5301.76283378]\n",
      " [  857.76283378    71.23716622]]\n",
      "The result is statistically significant, suggesting an association between the variables.\n"
     ]
    }
   ],
   "source": [
    "chi2_test(data, 'Postopwithin30days', 'Mortality')"
   ]
  },
  {
   "cell_type": "code",
   "execution_count": 55,
   "metadata": {},
   "outputs": [
    {
     "name": "stdout",
     "output_type": "stream",
     "text": [
      "Optimization terminated successfully.\n",
      "         Current function value: 0.258531\n",
      "         Iterations 7\n",
      "                           Logit Regression Results                           \n",
      "==============================================================================\n",
      "Dep. Variable:              Mortality   No. Observations:                70069\n",
      "Model:                          Logit   Df Residuals:                    70065\n",
      "Method:                           MLE   Df Model:                            3\n",
      "Date:                Mon, 12 Aug 2024   Pseudo R-squ.:                 0.04456\n",
      "Time:                        01:09:30   Log-Likelihood:                -18115.\n",
      "converged:                       True   LL-Null:                       -18960.\n",
      "Covariance Type:            nonrobust   LLR p-value:                     0.000\n",
      "================================================================================================\n",
      "                                   coef    std err          z      P>|z|      [0.025      0.975]\n",
      "------------------------------------------------------------------------------------------------\n",
      "const                           -2.6839      0.016   -167.874      0.000      -2.715      -2.653\n",
      "Preoptransfusionwithin30days     0.6706      0.068      9.830      0.000       0.537       0.804\n",
      "Intraop                          1.1709      0.052     22.540      0.000       1.069       1.273\n",
      "Postopwithin30days               0.6846      0.079      8.640      0.000       0.529       0.840\n",
      "================================================================================================\n"
     ]
    },
    {
     "name": "stderr",
     "output_type": "stream",
     "text": [
      "d:\\OneDrive - Singapore Management University\\SMU Singapore\\Academics\\Jul 2024\\Applied Healthcare Analytics\\CARES_Analytics\\venv\\Lib\\site-packages\\statsmodels\\nonparametric\\smoothers_lowess.py:226: RuntimeWarning: invalid value encountered in divide\n",
      "  res, _ = _lowess(y, x, x, np.ones_like(x),\n"
     ]
    },
    {
     "data": {
      "image/png": "[encoded data removed]",
      "text/plain": [
       "<Figure size 640x480 with 1 Axes>"
      ]
     },
     "metadata": {},
     "output_type": "display_data"
    },
    {
     "data": {
      "image/png": "[encoded data removed]",
      "text/plain": [
       "<Figure size 640x480 with 1 Axes>"
      ]
     },
     "metadata": {},
     "output_type": "display_data"
    },
    {
     "data": {
      "image/png": "[encoded data removed]",
      "text/plain": [
       "<Figure size 640x480 with 1 Axes>"
      ]
     },
     "metadata": {},
     "output_type": "display_data"
    }
   ],
   "source": [
    "logistic_reg(data, x_col=transfusion_cols, y_col='Mortality')"
   ]
  },
  {
   "cell_type": "markdown",
   "metadata": {},
   "source": [
    "We see statistical significance with all transfusion columns and no multi-collinearity."
   ]
  },
  {
   "cell_type": "markdown",
   "metadata": {},
   "source": [
    "Given that there is statistical significance and there is no problem of multi-collinearity we can use this feature for modelling"
   ]
  },
  {
   "cell_type": "code",
   "execution_count": 56,
   "metadata": {},
   "outputs": [],
   "source": [
    "data['Perioperativetransfusionwithin30days'] = data[transfusion_cols].any(axis=1).astype(int)"
   ]
  },
  {
   "cell_type": "code",
   "execution_count": 57,
   "metadata": {},
   "outputs": [
    {
     "name": "stdout",
     "output_type": "stream",
     "text": [
      "Chi-squared Test Statistic: 2247.8138034451267\n",
      "P-value: 0.0\n",
      "Degrees of Freedom: 1\n",
      "Expected Frequencies Table:\n",
      "[[60305.62080235  5008.37919765]\n",
      " [ 4390.37919765   364.62080235]]\n",
      "The result is statistically significant, suggesting an association between the variables.\n"
     ]
    }
   ],
   "source": [
    "chi2_test(data, 'Perioperativetransfusionwithin30days', 'Mortality')"
   ]
  },
  {
   "cell_type": "code",
   "execution_count": 58,
   "metadata": {},
   "outputs": [
    {
     "name": "stderr",
     "output_type": "stream",
     "text": [
      "C:\\Users\\danie\\AppData\\Local\\Temp\\ipykernel_5320\\910535912.py:7: SettingWithCopyWarning: \n",
      "A value is trying to be set on a copy of a slice from a DataFrame\n",
      "\n",
      "See the caveats in the documentation: https://pandas.pydata.org/pandas-docs/stable/user_guide/indexing.html#returning-a-view-versus-a-copy\n",
      "  X.dropna(inplace=True)\n"
     ]
    },
    {
     "name": "stdout",
     "output_type": "stream",
     "text": [
      "                                 feature        VIF\n",
      "0                                  const  18.634788\n",
      "1                            AGEcategory   1.471342\n",
      "2                       SurgRiskCategory   1.112888\n",
      "3                                Chinese   2.499782\n",
      "4                                 Indian   1.781901\n",
      "5                                  Malay   1.876286\n",
      "6                        Anemia category   1.531496\n",
      "7                  GradeofKidneyCategory   2.136394\n",
      "8                                RDW15.7   1.257398\n",
      "9                        CVARCRICategory   1.047421\n",
      "10                       IHDRCRICategory   1.187419\n",
      "11                       CHFRCRICategory   1.084564\n",
      "12                 DMinsulinRCRICategory   1.072953\n",
      "13                     ASAcategorybinned   1.478963\n",
      "14                                GENDER   1.074104\n",
      "15                         PreopEGFRMDRD   1.899500\n",
      "16  Perioperativetransfusionwithin30days   1.177623\n"
     ]
    }
   ],
   "source": [
    "vif(mortality_significant_columns + ['Perioperativetransfusionwithin30days'], data)"
   ]
  },
  {
   "cell_type": "code",
   "execution_count": 59,
   "metadata": {},
   "outputs": [
    {
     "name": "stdout",
     "output_type": "stream",
     "text": [
      "Optimization terminated successfully.\n",
      "         Current function value: 0.259645\n",
      "         Iterations 7\n",
      "                           Logit Regression Results                           \n",
      "==============================================================================\n",
      "Dep. Variable:              Mortality   No. Observations:                70069\n",
      "Model:                          Logit   Df Residuals:                    70067\n",
      "Method:                           MLE   Df Model:                            1\n",
      "Date:                Mon, 12 Aug 2024   Pseudo R-squ.:                 0.04044\n",
      "Time:                        01:09:32   Log-Likelihood:                -18193.\n",
      "converged:                       True   LL-Null:                       -18960.\n",
      "Covariance Type:            nonrobust   LLR p-value:                     0.000\n",
      "========================================================================================================\n",
      "                                           coef    std err          z      P>|z|      [0.025      0.975]\n",
      "--------------------------------------------------------------------------------------------------------\n",
      "const                                   -2.6858      0.016   -167.773      0.000      -2.717      -2.654\n",
      "Perioperativetransfusionwithin30days     1.6054      0.037     43.406      0.000       1.533       1.678\n",
      "========================================================================================================\n"
     ]
    },
    {
     "name": "stderr",
     "output_type": "stream",
     "text": [
      "d:\\OneDrive - Singapore Management University\\SMU Singapore\\Academics\\Jul 2024\\Applied Healthcare Analytics\\CARES_Analytics\\venv\\Lib\\site-packages\\statsmodels\\nonparametric\\smoothers_lowess.py:226: RuntimeWarning: invalid value encountered in divide\n",
      "  res, _ = _lowess(y, x, x, np.ones_like(x),\n"
     ]
    },
    {
     "data": {
      "image/png": "[encoded data removed]",
      "text/plain": [
       "<Figure size 640x480 with 1 Axes>"
      ]
     },
     "metadata": {},
     "output_type": "display_data"
    }
   ],
   "source": [
    "logistic_reg(data, x_col=['Perioperativetransfusionwithin30days'], y_col='Mortality')"
   ]
  },
  {
   "cell_type": "code",
   "execution_count": 60,
   "metadata": {},
   "outputs": [],
   "source": [
    "data.drop(columns=transfusion_cols, inplace=True)"
   ]
  },
  {
   "cell_type": "markdown",
   "metadata": {},
   "source": [
    "### 4. **Intra and Post op transfusion - categorical (TransfusionIntraandpostopCategory)**\n",
    "- **Definition:** Categorical column created from Transfusionintraandpostop.\n",
    "- **Suggestion:** Drop the column as it is redundant"
   ]
  },
  {
   "cell_type": "code",
   "execution_count": 61,
   "metadata": {},
   "outputs": [
    {
     "data": {
      "text/plain": [
       "TransfusionIntraandpostopCategory\n",
       "0 units            65336\n",
       "1 unit              3813\n",
       "2 or more units      920\n",
       "Name: count, dtype: int64"
      ]
     },
     "execution_count": 61,
     "metadata": {},
     "output_type": "execute_result"
    }
   ],
   "source": [
    "data.TransfusionIntraandpostopCategory.value_counts()"
   ]
  },
  {
   "cell_type": "code",
   "execution_count": 62,
   "metadata": {},
   "outputs": [],
   "source": [
    "data.drop(columns=['TransfusionIntraandpostopCategory'], inplace=True)"
   ]
  },
  {
   "cell_type": "markdown",
   "metadata": {},
   "source": [
    "### 5. **Type of anaesthesia (AnaestypeCategory)**\n",
    "- **Definition:** Anesthesia has the potential to induce physiological changes that may lead to morbidity and mortality. As a result, it is commonly regarded as a high-risk activity. A number of investigators, however, have reported that anesthesia-related mortality rates have declined over the past two decades. This decrease has been attributed to a variety of safety improvements including improved monitoring techniques, the development and widespread adoption of practice guidelines, and other systematic approaches to error reduction.\n",
    "- **Paper:** https://www.ncbi.nlm.nih.gov/pmc/articles/PMC2763076/\n",
    "- **Insights:** In conclusion, our systematic review of the literature confirms that perioperative mortality rates are higher in Brazil and other developing countries than in developed countries. Anesthesia-related mortality rates in Brazil and in developed countries are similar and lower than 1 per 10,000 anesthetics. Major risk factors for mortality are apparent for newborns, children under 1 year of age, the elderly, males, patients of ASA III or poorer physical status, emergency surgeries, during general anesthesia, and in cardiac, vascular, thoracic, gastroenterologic, orthopedic, and pediatric surgeries. Medication-related cardiocirculatory events and airway management accounted for the majority of the cases of anesthesia-related mortality. These data may be useful in developing prevention strategies.\n",
    "- **Suggestion:** Check for statistical significance as the feature seems to be related to mortality but very rarely in developed countries and this rate is decreasing with each year."
   ]
  },
  {
   "cell_type": "code",
   "execution_count": 63,
   "metadata": {},
   "outputs": [
    {
     "data": {
      "text/plain": [
       "AnaestypeCategory\n",
       "0    58740\n",
       "1    11329\n",
       "Name: count, dtype: int64"
      ]
     },
     "execution_count": 63,
     "metadata": {},
     "output_type": "execute_result"
    }
   ],
   "source": [
    "data.AnaestypeCategory.value_counts()"
   ]
  },
  {
   "cell_type": "code",
   "execution_count": 64,
   "metadata": {},
   "outputs": [
    {
     "name": "stdout",
     "output_type": "stream",
     "text": [
      "Chi-squared Test Statistic: 169.67273382670433\n",
      "P-value: 8.722582339921896e-39\n",
      "Degrees of Freedom: 1\n",
      "Expected Frequencies Table:\n",
      "[[54235.72535643  4504.27464357]\n",
      " [10460.27464357   868.72535643]]\n",
      "The result is statistically significant, suggesting an association between the variables.\n"
     ]
    }
   ],
   "source": [
    "chi2_test(data, 'AnaestypeCategory', 'Mortality')"
   ]
  },
  {
   "cell_type": "code",
   "execution_count": 65,
   "metadata": {},
   "outputs": [
    {
     "name": "stderr",
     "output_type": "stream",
     "text": [
      "C:\\Users\\danie\\AppData\\Local\\Temp\\ipykernel_5320\\910535912.py:7: SettingWithCopyWarning: \n",
      "A value is trying to be set on a copy of a slice from a DataFrame\n",
      "\n",
      "See the caveats in the documentation: https://pandas.pydata.org/pandas-docs/stable/user_guide/indexing.html#returning-a-view-versus-a-copy\n",
      "  X.dropna(inplace=True)\n"
     ]
    },
    {
     "name": "stdout",
     "output_type": "stream",
     "text": [
      "                  feature        VIF\n",
      "0                   const  18.641504\n",
      "1             AGEcategory   1.538803\n",
      "2        SurgRiskCategory   1.066286\n",
      "3                 Chinese   2.501917\n",
      "4                  Indian   1.782459\n",
      "5                   Malay   1.878869\n",
      "6         Anemia category   1.445427\n",
      "7   GradeofKidneyCategory   2.142325\n",
      "8                 RDW15.7   1.256455\n",
      "9         CVARCRICategory   1.047400\n",
      "10        IHDRCRICategory   1.187412\n",
      "11        CHFRCRICategory   1.085119\n",
      "12  DMinsulinRCRICategory   1.074361\n",
      "13      ASAcategorybinned   1.477333\n",
      "14                 GENDER   1.074114\n",
      "15          PreopEGFRMDRD   1.900712\n",
      "16      AnaestypeCategory   1.102976\n"
     ]
    }
   ],
   "source": [
    "vif(mortality_significant_columns + ['AnaestypeCategory'], data)"
   ]
  },
  {
   "cell_type": "markdown",
   "metadata": {},
   "source": [
    "### 6. **Intra and Post op transfusion (Transfusionintraandpostop)**\n",
    "- **Definition:** Column created from Intra and Post op transfusion.\n",
    "- **Suggestion:** Drop the column as it is redundant"
   ]
  },
  {
   "cell_type": "code",
   "execution_count": 66,
   "metadata": {},
   "outputs": [
    {
     "data": {
      "text/plain": [
       "Transfusionintraandpostop\n",
       "0.0     65336\n",
       "1.0      3813\n",
       "2.0       589\n",
       "3.0       176\n",
       "4.0        61\n",
       "5.0        34\n",
       "6.0        23\n",
       "7.0        12\n",
       "8.0         9\n",
       "9.0         5\n",
       "13.0        3\n",
       "10.0        3\n",
       "16.0        2\n",
       "24.0        1\n",
       "17.0        1\n",
       "11.0        1\n",
       "Name: count, dtype: int64"
      ]
     },
     "execution_count": 66,
     "metadata": {},
     "output_type": "execute_result"
    }
   ],
   "source": [
    "data.Transfusionintraandpostop.value_counts()"
   ]
  },
  {
   "cell_type": "code",
   "execution_count": 67,
   "metadata": {},
   "outputs": [],
   "source": [
    "data.drop(columns=['Transfusionintraandpostop'], inplace=True)"
   ]
  },
  {
   "cell_type": "code",
   "execution_count": 68,
   "metadata": {},
   "outputs": [
    {
     "data": {
      "text/plain": [
       "Index(['GENDER', 'Anemia category', 'PreopEGFRMDRD',\n",
       "       'DaysbetweenDeathandoperation', 'AnaestypeCategory', 'PriorityCategory',\n",
       "       'AGEcategory', 'Mortality', 'thirtydaymortality', 'SurgRiskCategory',\n",
       "       'CVARCRICategory', 'IHDRCRICategory', 'CHFRCRICategory',\n",
       "       'DMinsulinRCRICategory', 'CreatinineRCRICategory',\n",
       "       'GradeofKidneyCategory', 'RDW15.7', 'ASAcategorybinned', 'ICUAdmgt24h',\n",
       "       'Chinese', 'Indian', 'Malay', 'Perioperativetransfusionwithin30days'],\n",
       "      dtype='object')"
      ]
     },
     "execution_count": 68,
     "metadata": {},
     "output_type": "execute_result"
    }
   ],
   "source": [
    "data.columns"
   ]
  },
  {
   "cell_type": "code",
   "execution_count": 69,
   "metadata": {},
   "outputs": [],
   "source": [
    "data.to_csv('../data/CARES_encoded_ignorecols.csv', index=False)"
   ]
  }
 ],
 "metadata": {
  "kernelspec": {
   "display_name": "venv",
   "language": "python",
   "name": "python3"
  },
  "language_info": {
   "codemirror_mode": {
    "name": "ipython",
    "version": 3
   },
   "file_extension": ".py",
   "mimetype": "text/x-python",
   "name": "python",
   "nbconvert_exporter": "python",
   "pygments_lexer": "ipython3",
   "version": "3.11.9"
  }
 },
 "nbformat": 4,
 "nbformat_minor": 2
}
