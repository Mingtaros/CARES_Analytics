{
 "cells": [
  {
   "cell_type": "markdown",
   "metadata": {
    "id": "qvEF6GI_MzL7"
   },
   "source": [
    "# Data Preparation\n",
    "- This notebook has not considered in dropping duplicates / handling missing value imputation\n",
    "- Unprocessed columns are:\n",
    "    - RCRI score\n",
    "    - Preoptransfusionwithin30days\n",
    "    - Intraop\n",
    "    - Postopwithin30days\n",
    "    - TransfusionIntraandpostopCategory\n",
    "    - Transfusionintraandpostop\n",
    "    - AnaestypeCategory"
   ]
  },
  {
   "cell_type": "code",
   "execution_count": 1,
   "metadata": {
    "id": "ojyucFMDkpki"
   },
   "outputs": [],
   "source": [
    "import numpy as np\n",
    "import pandas as pd\n",
    "\n",
    "from tqdm.notebook import tqdm\n",
    "tqdm.pandas()"
   ]
  },
  {
   "cell_type": "code",
   "execution_count": null,
   "metadata": {
    "colab": {
     "base_uri": "https://localhost:8080/",
     "height": 270
    },
    "id": "9qd8uBdokyh9",
    "outputId": "5d1b8e56-f6d6-48ef-9677-ef1198088d70"
   },
   "outputs": [],
   "source": [
    "cares_data_path = \"https://github.com/ISSS623-AHA/ISSS623_2024/raw/main/Group_Project/Group_Project-SGH/CARES_data.xlsx\"\n",
    "cares = pd.read_excel(cares_data_path, \"Sheet1\")\n",
    "cares.head()"
   ]
  },
  {
   "cell_type": "code",
   "execution_count": 4,
   "metadata": {
    "colab": {
     "base_uri": "https://localhost:8080/",
     "height": 287
    },
    "id": "5ImyE3TllzFL",
    "outputId": "a15efc51-241a-4389-8c50-a36a8278ca72"
   },
   "outputs": [
    {
     "data": {
      "text/html": [
       "<div>\n",
       "<style scoped>\n",
       "    .dataframe tbody tr th:only-of-type {\n",
       "        vertical-align: middle;\n",
       "    }\n",
       "\n",
       "    .dataframe tbody tr th {\n",
       "        vertical-align: top;\n",
       "    }\n",
       "\n",
       "    .dataframe thead th {\n",
       "        text-align: right;\n",
       "    }\n",
       "</style>\n",
       "<table border=\"1\" class=\"dataframe\">\n",
       "  <thead>\n",
       "    <tr style=\"text-align: right;\">\n",
       "      <th></th>\n",
       "      <th>Indexno</th>\n",
       "      <th>AGE</th>\n",
       "      <th>GENDER</th>\n",
       "      <th>RCRI score</th>\n",
       "      <th>Anemia category</th>\n",
       "      <th>PreopEGFRMDRD</th>\n",
       "      <th>GradeofKidneydisease</th>\n",
       "      <th>DaysbetweenDeathandoperation</th>\n",
       "      <th>@30daymortality</th>\n",
       "      <th>Preoptransfusionwithin30days</th>\n",
       "      <th>...</th>\n",
       "      <th>CVARCRICategory</th>\n",
       "      <th>IHDRCRICategory</th>\n",
       "      <th>CHFRCRICategory</th>\n",
       "      <th>DMinsulinRCRICategory</th>\n",
       "      <th>CreatinineRCRICategory</th>\n",
       "      <th>GradeofKidneyCategory</th>\n",
       "      <th>Anemiacategorybinned</th>\n",
       "      <th>RDW15.7</th>\n",
       "      <th>ASAcategorybinned</th>\n",
       "      <th>ICUAdmgt24h</th>\n",
       "    </tr>\n",
       "  </thead>\n",
       "  <tbody>\n",
       "    <tr>\n",
       "      <th>90783</th>\n",
       "      <td>121198</td>\n",
       "      <td>63.0</td>\n",
       "      <td>FEMALE</td>\n",
       "      <td>0.0</td>\n",
       "      <td>NaN</td>\n",
       "      <td>NaN</td>\n",
       "      <td>BLANK</td>\n",
       "      <td>NaN</td>\n",
       "      <td>NO</td>\n",
       "      <td>0.0</td>\n",
       "      <td>...</td>\n",
       "      <td>no</td>\n",
       "      <td>no</td>\n",
       "      <td>no</td>\n",
       "      <td>no</td>\n",
       "      <td>no</td>\n",
       "      <td>#NULL!</td>\n",
       "      <td>#NULL!</td>\n",
       "      <td>#NULL!</td>\n",
       "      <td>II</td>\n",
       "      <td>no</td>\n",
       "    </tr>\n",
       "    <tr>\n",
       "      <th>90784</th>\n",
       "      <td>121200</td>\n",
       "      <td>45.0</td>\n",
       "      <td>FEMALE</td>\n",
       "      <td>0.0</td>\n",
       "      <td>mild</td>\n",
       "      <td>125.902498</td>\n",
       "      <td>g1</td>\n",
       "      <td>NaN</td>\n",
       "      <td>NO</td>\n",
       "      <td>0.0</td>\n",
       "      <td>...</td>\n",
       "      <td>no</td>\n",
       "      <td>no</td>\n",
       "      <td>no</td>\n",
       "      <td>no</td>\n",
       "      <td>no</td>\n",
       "      <td>G1</td>\n",
       "      <td>Mild</td>\n",
       "      <td>&lt;= 15.7</td>\n",
       "      <td>II</td>\n",
       "      <td>no</td>\n",
       "    </tr>\n",
       "    <tr>\n",
       "      <th>90785</th>\n",
       "      <td>NaN</td>\n",
       "      <td>NaN</td>\n",
       "      <td>NaN</td>\n",
       "      <td>NaN</td>\n",
       "      <td>NaN</td>\n",
       "      <td>NaN</td>\n",
       "      <td>NaN</td>\n",
       "      <td>NaN</td>\n",
       "      <td>NaN</td>\n",
       "      <td>NaN</td>\n",
       "      <td>...</td>\n",
       "      <td>NaN</td>\n",
       "      <td>NaN</td>\n",
       "      <td>NaN</td>\n",
       "      <td>NaN</td>\n",
       "      <td>NaN</td>\n",
       "      <td>NaN</td>\n",
       "      <td>NaN</td>\n",
       "      <td>NaN</td>\n",
       "      <td>NaN</td>\n",
       "      <td>NaN</td>\n",
       "    </tr>\n",
       "    <tr>\n",
       "      <th>90786</th>\n",
       "      <td>NaN</td>\n",
       "      <td>NaN</td>\n",
       "      <td>NaN</td>\n",
       "      <td>NaN</td>\n",
       "      <td>NaN</td>\n",
       "      <td>NaN</td>\n",
       "      <td>NaN</td>\n",
       "      <td>NaN</td>\n",
       "      <td>NaN</td>\n",
       "      <td>NaN</td>\n",
       "      <td>...</td>\n",
       "      <td>NaN</td>\n",
       "      <td>NaN</td>\n",
       "      <td>NaN</td>\n",
       "      <td>NaN</td>\n",
       "      <td>NaN</td>\n",
       "      <td>NaN</td>\n",
       "      <td>NaN</td>\n",
       "      <td>NaN</td>\n",
       "      <td>NaN</td>\n",
       "      <td>NaN</td>\n",
       "    </tr>\n",
       "    <tr>\n",
       "      <th>90787</th>\n",
       "      <td>? Duplicates</td>\n",
       "      <td>NaN</td>\n",
       "      <td>NaN</td>\n",
       "      <td>NaN</td>\n",
       "      <td>NaN</td>\n",
       "      <td>NaN</td>\n",
       "      <td>NaN</td>\n",
       "      <td>NaN</td>\n",
       "      <td>NaN</td>\n",
       "      <td>NaN</td>\n",
       "      <td>...</td>\n",
       "      <td>NaN</td>\n",
       "      <td>NaN</td>\n",
       "      <td>NaN</td>\n",
       "      <td>NaN</td>\n",
       "      <td>NaN</td>\n",
       "      <td>NaN</td>\n",
       "      <td>NaN</td>\n",
       "      <td>NaN</td>\n",
       "      <td>NaN</td>\n",
       "      <td>NaN</td>\n",
       "    </tr>\n",
       "  </tbody>\n",
       "</table>\n",
       "<p>5 rows × 32 columns</p>\n",
       "</div>"
      ],
      "text/plain": [
       "            Indexno   AGE  GENDER  RCRI score Anemia category  PreopEGFRMDRD  \\\n",
       "90783        121198  63.0  FEMALE         0.0             NaN            NaN   \n",
       "90784        121200  45.0  FEMALE         0.0            mild     125.902498   \n",
       "90785           NaN   NaN     NaN         NaN             NaN            NaN   \n",
       "90786           NaN   NaN     NaN         NaN             NaN            NaN   \n",
       "90787  ? Duplicates   NaN     NaN         NaN             NaN            NaN   \n",
       "\n",
       "      GradeofKidneydisease  DaysbetweenDeathandoperation @30daymortality  \\\n",
       "90783                BLANK                           NaN              NO   \n",
       "90784                   g1                           NaN              NO   \n",
       "90785                  NaN                           NaN             NaN   \n",
       "90786                  NaN                           NaN             NaN   \n",
       "90787                  NaN                           NaN             NaN   \n",
       "\n",
       "       Preoptransfusionwithin30days  ...  CVARCRICategory  IHDRCRICategory  \\\n",
       "90783                           0.0  ...               no               no   \n",
       "90784                           0.0  ...               no               no   \n",
       "90785                           NaN  ...              NaN              NaN   \n",
       "90786                           NaN  ...              NaN              NaN   \n",
       "90787                           NaN  ...              NaN              NaN   \n",
       "\n",
       "       CHFRCRICategory DMinsulinRCRICategory CreatinineRCRICategory  \\\n",
       "90783               no                    no                     no   \n",
       "90784               no                    no                     no   \n",
       "90785              NaN                   NaN                    NaN   \n",
       "90786              NaN                   NaN                    NaN   \n",
       "90787              NaN                   NaN                    NaN   \n",
       "\n",
       "      GradeofKidneyCategory Anemiacategorybinned  RDW15.7 ASAcategorybinned  \\\n",
       "90783                #NULL!               #NULL!   #NULL!                II   \n",
       "90784                    G1                 Mild  <= 15.7                II   \n",
       "90785                   NaN                  NaN      NaN               NaN   \n",
       "90786                   NaN                  NaN      NaN               NaN   \n",
       "90787                   NaN                  NaN      NaN               NaN   \n",
       "\n",
       "      ICUAdmgt24h  \n",
       "90783          no  \n",
       "90784          no  \n",
       "90785         NaN  \n",
       "90786         NaN  \n",
       "90787         NaN  \n",
       "\n",
       "[5 rows x 32 columns]"
      ]
     },
     "execution_count": 4,
     "metadata": {},
     "output_type": "execute_result"
    }
   ],
   "source": [
    "cares.tail()"
   ]
  },
  {
   "cell_type": "code",
   "execution_count": 5,
   "metadata": {
    "colab": {
     "base_uri": "https://localhost:8080/"
    },
    "id": "-XF8Vcx1lzuX",
    "outputId": "a264c6ac-2cdc-4631-df04-470810d7fc73"
   },
   "outputs": [
    {
     "data": {
      "text/plain": [
       "(90788, 32)"
      ]
     },
     "execution_count": 5,
     "metadata": {},
     "output_type": "execute_result"
    }
   ],
   "source": [
    "cares.shape"
   ]
  },
  {
   "cell_type": "code",
   "execution_count": 6,
   "metadata": {
    "colab": {
     "base_uri": "https://localhost:8080/"
    },
    "id": "W0f9ns33y5d1",
    "outputId": "1b2a37b2-f084-40ac-edd4-87eaa388bd28"
   },
   "outputs": [
    {
     "data": {
      "text/plain": [
       "Index(['Indexno', 'AGE', 'GENDER', 'RCRI score', 'Anemia category',\n",
       "       'PreopEGFRMDRD', 'GradeofKidneydisease', 'DaysbetweenDeathandoperation',\n",
       "       '@30daymortality', 'Preoptransfusionwithin30days', 'Intraop',\n",
       "       'Postopwithin30days', 'Transfusionintraandpostop', 'AnaestypeCategory',\n",
       "       'PriorityCategory', 'TransfusionIntraandpostopCategory', 'AGEcategory',\n",
       "       'AGEcategoryOriginal', 'Mortality', 'thirtydaymortality',\n",
       "       'SurgRiskCategory', 'RaceCategory', 'CVARCRICategory',\n",
       "       'IHDRCRICategory', 'CHFRCRICategory', 'DMinsulinRCRICategory',\n",
       "       'CreatinineRCRICategory', 'GradeofKidneyCategory',\n",
       "       'Anemiacategorybinned', 'RDW15.7', 'ASAcategorybinned', 'ICUAdmgt24h'],\n",
       "      dtype='object')"
      ]
     },
     "execution_count": 6,
     "metadata": {},
     "output_type": "execute_result"
    }
   ],
   "source": [
    "cares.columns"
   ]
  },
  {
   "cell_type": "markdown",
   "metadata": {
    "id": "lTQOjoF4lEhh"
   },
   "source": [
    "## EDA"
   ]
  },
  {
   "cell_type": "code",
   "execution_count": 7,
   "metadata": {
    "colab": {
     "base_uri": "https://localhost:8080/",
     "height": 270
    },
    "id": "g3XLoOHmldhM",
    "outputId": "10ed2f21-d3c9-43cd-9179-852401d531ff"
   },
   "outputs": [
    {
     "data": {
      "text/html": [
       "<div>\n",
       "<style scoped>\n",
       "    .dataframe tbody tr th:only-of-type {\n",
       "        vertical-align: middle;\n",
       "    }\n",
       "\n",
       "    .dataframe tbody tr th {\n",
       "        vertical-align: top;\n",
       "    }\n",
       "\n",
       "    .dataframe thead th {\n",
       "        text-align: right;\n",
       "    }\n",
       "</style>\n",
       "<table border=\"1\" class=\"dataframe\">\n",
       "  <thead>\n",
       "    <tr style=\"text-align: right;\">\n",
       "      <th></th>\n",
       "      <th>Indexno</th>\n",
       "      <th>AGE</th>\n",
       "      <th>GENDER</th>\n",
       "      <th>RCRI score</th>\n",
       "      <th>Anemia category</th>\n",
       "      <th>PreopEGFRMDRD</th>\n",
       "      <th>GradeofKidneydisease</th>\n",
       "      <th>DaysbetweenDeathandoperation</th>\n",
       "      <th>@30daymortality</th>\n",
       "      <th>Preoptransfusionwithin30days</th>\n",
       "      <th>...</th>\n",
       "      <th>CVARCRICategory</th>\n",
       "      <th>IHDRCRICategory</th>\n",
       "      <th>CHFRCRICategory</th>\n",
       "      <th>DMinsulinRCRICategory</th>\n",
       "      <th>CreatinineRCRICategory</th>\n",
       "      <th>GradeofKidneyCategory</th>\n",
       "      <th>Anemiacategorybinned</th>\n",
       "      <th>RDW15.7</th>\n",
       "      <th>ASAcategorybinned</th>\n",
       "      <th>ICUAdmgt24h</th>\n",
       "    </tr>\n",
       "  </thead>\n",
       "  <tbody>\n",
       "    <tr>\n",
       "      <th>90780</th>\n",
       "      <td>121192</td>\n",
       "      <td>66.0</td>\n",
       "      <td>FEMALE</td>\n",
       "      <td>2.0</td>\n",
       "      <td>mild</td>\n",
       "      <td>48.339582</td>\n",
       "      <td>G3a</td>\n",
       "      <td>NaN</td>\n",
       "      <td>NO</td>\n",
       "      <td>0.0</td>\n",
       "      <td>...</td>\n",
       "      <td>no</td>\n",
       "      <td>no</td>\n",
       "      <td>no</td>\n",
       "      <td>yes</td>\n",
       "      <td>no</td>\n",
       "      <td>G3</td>\n",
       "      <td>Mild</td>\n",
       "      <td>&lt;= 15.7</td>\n",
       "      <td>II</td>\n",
       "      <td>no</td>\n",
       "    </tr>\n",
       "    <tr>\n",
       "      <th>90781</th>\n",
       "      <td>121194</td>\n",
       "      <td>50.0</td>\n",
       "      <td>MALE</td>\n",
       "      <td>1.0</td>\n",
       "      <td>moderate</td>\n",
       "      <td>126.592489</td>\n",
       "      <td>g1</td>\n",
       "      <td>NaN</td>\n",
       "      <td>NO</td>\n",
       "      <td>0.0</td>\n",
       "      <td>...</td>\n",
       "      <td>no</td>\n",
       "      <td>no</td>\n",
       "      <td>no</td>\n",
       "      <td>yes</td>\n",
       "      <td>no</td>\n",
       "      <td>G1</td>\n",
       "      <td>Moderate/Severe</td>\n",
       "      <td>&lt;= 15.7</td>\n",
       "      <td>#NULL!</td>\n",
       "      <td>no</td>\n",
       "    </tr>\n",
       "    <tr>\n",
       "      <th>90782</th>\n",
       "      <td>121197</td>\n",
       "      <td>58.0</td>\n",
       "      <td>FEMALE</td>\n",
       "      <td>NaN</td>\n",
       "      <td>none</td>\n",
       "      <td>86.306771</td>\n",
       "      <td>G2</td>\n",
       "      <td>NaN</td>\n",
       "      <td>NO</td>\n",
       "      <td>0.0</td>\n",
       "      <td>...</td>\n",
       "      <td>#NULL!</td>\n",
       "      <td>#NULL!</td>\n",
       "      <td>#NULL!</td>\n",
       "      <td>#NULL!</td>\n",
       "      <td>#NULL!</td>\n",
       "      <td>G2</td>\n",
       "      <td>NaN</td>\n",
       "      <td>&lt;= 15.7</td>\n",
       "      <td>#NULL!</td>\n",
       "      <td>no</td>\n",
       "    </tr>\n",
       "    <tr>\n",
       "      <th>90783</th>\n",
       "      <td>121198</td>\n",
       "      <td>63.0</td>\n",
       "      <td>FEMALE</td>\n",
       "      <td>0.0</td>\n",
       "      <td>NaN</td>\n",
       "      <td>NaN</td>\n",
       "      <td>BLANK</td>\n",
       "      <td>NaN</td>\n",
       "      <td>NO</td>\n",
       "      <td>0.0</td>\n",
       "      <td>...</td>\n",
       "      <td>no</td>\n",
       "      <td>no</td>\n",
       "      <td>no</td>\n",
       "      <td>no</td>\n",
       "      <td>no</td>\n",
       "      <td>#NULL!</td>\n",
       "      <td>#NULL!</td>\n",
       "      <td>#NULL!</td>\n",
       "      <td>II</td>\n",
       "      <td>no</td>\n",
       "    </tr>\n",
       "    <tr>\n",
       "      <th>90784</th>\n",
       "      <td>121200</td>\n",
       "      <td>45.0</td>\n",
       "      <td>FEMALE</td>\n",
       "      <td>0.0</td>\n",
       "      <td>mild</td>\n",
       "      <td>125.902498</td>\n",
       "      <td>g1</td>\n",
       "      <td>NaN</td>\n",
       "      <td>NO</td>\n",
       "      <td>0.0</td>\n",
       "      <td>...</td>\n",
       "      <td>no</td>\n",
       "      <td>no</td>\n",
       "      <td>no</td>\n",
       "      <td>no</td>\n",
       "      <td>no</td>\n",
       "      <td>G1</td>\n",
       "      <td>Mild</td>\n",
       "      <td>&lt;= 15.7</td>\n",
       "      <td>II</td>\n",
       "      <td>no</td>\n",
       "    </tr>\n",
       "  </tbody>\n",
       "</table>\n",
       "<p>5 rows × 32 columns</p>\n",
       "</div>"
      ],
      "text/plain": [
       "      Indexno   AGE  GENDER  RCRI score Anemia category  PreopEGFRMDRD  \\\n",
       "90780  121192  66.0  FEMALE         2.0            mild      48.339582   \n",
       "90781  121194  50.0    MALE         1.0        moderate     126.592489   \n",
       "90782  121197  58.0  FEMALE         NaN            none      86.306771   \n",
       "90783  121198  63.0  FEMALE         0.0             NaN            NaN   \n",
       "90784  121200  45.0  FEMALE         0.0            mild     125.902498   \n",
       "\n",
       "      GradeofKidneydisease  DaysbetweenDeathandoperation @30daymortality  \\\n",
       "90780                  G3a                           NaN              NO   \n",
       "90781                   g1                           NaN              NO   \n",
       "90782                   G2                           NaN              NO   \n",
       "90783                BLANK                           NaN              NO   \n",
       "90784                   g1                           NaN              NO   \n",
       "\n",
       "       Preoptransfusionwithin30days  ...  CVARCRICategory  IHDRCRICategory  \\\n",
       "90780                           0.0  ...               no               no   \n",
       "90781                           0.0  ...               no               no   \n",
       "90782                           0.0  ...           #NULL!           #NULL!   \n",
       "90783                           0.0  ...               no               no   \n",
       "90784                           0.0  ...               no               no   \n",
       "\n",
       "       CHFRCRICategory DMinsulinRCRICategory CreatinineRCRICategory  \\\n",
       "90780               no                   yes                     no   \n",
       "90781               no                   yes                     no   \n",
       "90782           #NULL!                #NULL!                 #NULL!   \n",
       "90783               no                    no                     no   \n",
       "90784               no                    no                     no   \n",
       "\n",
       "      GradeofKidneyCategory Anemiacategorybinned  RDW15.7 ASAcategorybinned  \\\n",
       "90780                    G3                 Mild  <= 15.7                II   \n",
       "90781                    G1      Moderate/Severe  <= 15.7            #NULL!   \n",
       "90782                    G2                  NaN  <= 15.7            #NULL!   \n",
       "90783                #NULL!               #NULL!   #NULL!                II   \n",
       "90784                    G1                 Mild  <= 15.7                II   \n",
       "\n",
       "      ICUAdmgt24h  \n",
       "90780          no  \n",
       "90781          no  \n",
       "90782          no  \n",
       "90783          no  \n",
       "90784          no  \n",
       "\n",
       "[5 rows x 32 columns]"
      ]
     },
     "execution_count": 7,
     "metadata": {},
     "output_type": "execute_result"
    }
   ],
   "source": [
    "# remove the last 3 rows because there's a weird \"? Duplicates\" cell on the excel file\n",
    "cares.drop(cares.index[-3:], axis=0, inplace=True)\n",
    "cares.tail()"
   ]
  },
  {
   "cell_type": "code",
   "execution_count": 8,
   "metadata": {
    "id": "SacXwFmbzDTk"
   },
   "outputs": [],
   "source": [
    "# drop index number\n",
    "cares.drop(\"Indexno\", axis=1, inplace=True)"
   ]
  },
  {
   "cell_type": "code",
   "execution_count": 9,
   "metadata": {
    "colab": {
     "base_uri": "https://localhost:8080/"
    },
    "id": "AUGC0se2lul4",
    "outputId": "4057a1ce-5d84-49c3-a24d-bf56f8655420"
   },
   "outputs": [
    {
     "data": {
      "text/plain": [
       "(90785, 31)"
      ]
     },
     "execution_count": 9,
     "metadata": {},
     "output_type": "execute_result"
    }
   ],
   "source": [
    "cares.shape"
   ]
  },
  {
   "cell_type": "code",
   "execution_count": 10,
   "metadata": {
    "colab": {
     "base_uri": "https://localhost:8080/",
     "height": 317
    },
    "id": "H8Wp8VPbnAci",
    "outputId": "d8418125-e8a1-4a24-b1ac-eb573a3a424e"
   },
   "outputs": [
    {
     "data": {
      "text/html": [
       "<div>\n",
       "<style scoped>\n",
       "    .dataframe tbody tr th:only-of-type {\n",
       "        vertical-align: middle;\n",
       "    }\n",
       "\n",
       "    .dataframe tbody tr th {\n",
       "        vertical-align: top;\n",
       "    }\n",
       "\n",
       "    .dataframe thead th {\n",
       "        text-align: right;\n",
       "    }\n",
       "</style>\n",
       "<table border=\"1\" class=\"dataframe\">\n",
       "  <thead>\n",
       "    <tr style=\"text-align: right;\">\n",
       "      <th></th>\n",
       "      <th>AGE</th>\n",
       "      <th>RCRI score</th>\n",
       "      <th>PreopEGFRMDRD</th>\n",
       "      <th>DaysbetweenDeathandoperation</th>\n",
       "      <th>Preoptransfusionwithin30days</th>\n",
       "      <th>Intraop</th>\n",
       "      <th>Postopwithin30days</th>\n",
       "      <th>Transfusionintraandpostop</th>\n",
       "    </tr>\n",
       "  </thead>\n",
       "  <tbody>\n",
       "    <tr>\n",
       "      <th>count</th>\n",
       "      <td>90785.000000</td>\n",
       "      <td>63361.000000</td>\n",
       "      <td>79955.000000</td>\n",
       "      <td>5595.000000</td>\n",
       "      <td>90785.000000</td>\n",
       "      <td>90785.000000</td>\n",
       "      <td>90785.000000</td>\n",
       "      <td>90785.000000</td>\n",
       "    </tr>\n",
       "    <tr>\n",
       "      <th>mean</th>\n",
       "      <td>52.253225</td>\n",
       "      <td>0.322296</td>\n",
       "      <td>96.426155</td>\n",
       "      <td>476.782127</td>\n",
       "      <td>0.042672</td>\n",
       "      <td>0.056276</td>\n",
       "      <td>0.018946</td>\n",
       "      <td>0.075222</td>\n",
       "    </tr>\n",
       "    <tr>\n",
       "      <th>std</th>\n",
       "      <td>17.087307</td>\n",
       "      <td>0.634789</td>\n",
       "      <td>33.954241</td>\n",
       "      <td>421.866740</td>\n",
       "      <td>0.405840</td>\n",
       "      <td>0.230455</td>\n",
       "      <td>0.260728</td>\n",
       "      <td>0.395623</td>\n",
       "    </tr>\n",
       "    <tr>\n",
       "      <th>min</th>\n",
       "      <td>18.000000</td>\n",
       "      <td>0.000000</td>\n",
       "      <td>2.541026</td>\n",
       "      <td>0.000000</td>\n",
       "      <td>0.000000</td>\n",
       "      <td>0.000000</td>\n",
       "      <td>0.000000</td>\n",
       "      <td>0.000000</td>\n",
       "    </tr>\n",
       "    <tr>\n",
       "      <th>25%</th>\n",
       "      <td>39.000000</td>\n",
       "      <td>0.000000</td>\n",
       "      <td>79.078715</td>\n",
       "      <td>121.000000</td>\n",
       "      <td>0.000000</td>\n",
       "      <td>0.000000</td>\n",
       "      <td>0.000000</td>\n",
       "      <td>0.000000</td>\n",
       "    </tr>\n",
       "    <tr>\n",
       "      <th>50%</th>\n",
       "      <td>54.000000</td>\n",
       "      <td>0.000000</td>\n",
       "      <td>96.398561</td>\n",
       "      <td>355.000000</td>\n",
       "      <td>0.000000</td>\n",
       "      <td>0.000000</td>\n",
       "      <td>0.000000</td>\n",
       "      <td>0.000000</td>\n",
       "    </tr>\n",
       "    <tr>\n",
       "      <th>75%</th>\n",
       "      <td>65.000000</td>\n",
       "      <td>1.000000</td>\n",
       "      <td>114.310169</td>\n",
       "      <td>746.000000</td>\n",
       "      <td>0.000000</td>\n",
       "      <td>0.000000</td>\n",
       "      <td>0.000000</td>\n",
       "      <td>0.000000</td>\n",
       "    </tr>\n",
       "    <tr>\n",
       "      <th>max</th>\n",
       "      <td>103.000000</td>\n",
       "      <td>6.000000</td>\n",
       "      <td>671.298147</td>\n",
       "      <td>1783.000000</td>\n",
       "      <td>21.000000</td>\n",
       "      <td>1.000000</td>\n",
       "      <td>23.000000</td>\n",
       "      <td>24.000000</td>\n",
       "    </tr>\n",
       "  </tbody>\n",
       "</table>\n",
       "</div>"
      ],
      "text/plain": [
       "                AGE    RCRI score  PreopEGFRMDRD  \\\n",
       "count  90785.000000  63361.000000   79955.000000   \n",
       "mean      52.253225      0.322296      96.426155   \n",
       "std       17.087307      0.634789      33.954241   \n",
       "min       18.000000      0.000000       2.541026   \n",
       "25%       39.000000      0.000000      79.078715   \n",
       "50%       54.000000      0.000000      96.398561   \n",
       "75%       65.000000      1.000000     114.310169   \n",
       "max      103.000000      6.000000     671.298147   \n",
       "\n",
       "       DaysbetweenDeathandoperation  Preoptransfusionwithin30days  \\\n",
       "count                   5595.000000                  90785.000000   \n",
       "mean                     476.782127                      0.042672   \n",
       "std                      421.866740                      0.405840   \n",
       "min                        0.000000                      0.000000   \n",
       "25%                      121.000000                      0.000000   \n",
       "50%                      355.000000                      0.000000   \n",
       "75%                      746.000000                      0.000000   \n",
       "max                     1783.000000                     21.000000   \n",
       "\n",
       "            Intraop  Postopwithin30days  Transfusionintraandpostop  \n",
       "count  90785.000000        90785.000000               90785.000000  \n",
       "mean       0.056276            0.018946                   0.075222  \n",
       "std        0.230455            0.260728                   0.395623  \n",
       "min        0.000000            0.000000                   0.000000  \n",
       "25%        0.000000            0.000000                   0.000000  \n",
       "50%        0.000000            0.000000                   0.000000  \n",
       "75%        0.000000            0.000000                   0.000000  \n",
       "max        1.000000           23.000000                  24.000000  "
      ]
     },
     "execution_count": 10,
     "metadata": {},
     "output_type": "execute_result"
    }
   ],
   "source": [
    "cares.describe()"
   ]
  },
  {
   "cell_type": "code",
   "execution_count": 11,
   "metadata": {
    "colab": {
     "base_uri": "https://localhost:8080/",
     "height": 239
    },
    "id": "JS89x-I-nCvM",
    "outputId": "52f79385-3b76-4970-ef05-eb66f7a4879d"
   },
   "outputs": [
    {
     "data": {
      "text/html": [
       "<div>\n",
       "<style scoped>\n",
       "    .dataframe tbody tr th:only-of-type {\n",
       "        vertical-align: middle;\n",
       "    }\n",
       "\n",
       "    .dataframe tbody tr th {\n",
       "        vertical-align: top;\n",
       "    }\n",
       "\n",
       "    .dataframe thead th {\n",
       "        text-align: right;\n",
       "    }\n",
       "</style>\n",
       "<table border=\"1\" class=\"dataframe\">\n",
       "  <thead>\n",
       "    <tr style=\"text-align: right;\">\n",
       "      <th></th>\n",
       "      <th>AGE</th>\n",
       "      <th>GENDER</th>\n",
       "      <th>RCRI score</th>\n",
       "      <th>Anemia category</th>\n",
       "      <th>PreopEGFRMDRD</th>\n",
       "      <th>GradeofKidneydisease</th>\n",
       "      <th>DaysbetweenDeathandoperation</th>\n",
       "      <th>@30daymortality</th>\n",
       "      <th>Preoptransfusionwithin30days</th>\n",
       "      <th>Intraop</th>\n",
       "      <th>...</th>\n",
       "      <th>CVARCRICategory</th>\n",
       "      <th>IHDRCRICategory</th>\n",
       "      <th>CHFRCRICategory</th>\n",
       "      <th>DMinsulinRCRICategory</th>\n",
       "      <th>CreatinineRCRICategory</th>\n",
       "      <th>GradeofKidneyCategory</th>\n",
       "      <th>Anemiacategorybinned</th>\n",
       "      <th>RDW15.7</th>\n",
       "      <th>ASAcategorybinned</th>\n",
       "      <th>ICUAdmgt24h</th>\n",
       "    </tr>\n",
       "  </thead>\n",
       "  <tbody>\n",
       "    <tr>\n",
       "      <th>count</th>\n",
       "      <td>90785</td>\n",
       "      <td>90785</td>\n",
       "      <td>90785</td>\n",
       "      <td>90785</td>\n",
       "      <td>90785</td>\n",
       "      <td>90785</td>\n",
       "      <td>90785</td>\n",
       "      <td>90785</td>\n",
       "      <td>90785</td>\n",
       "      <td>90785</td>\n",
       "      <td>...</td>\n",
       "      <td>90785</td>\n",
       "      <td>90785</td>\n",
       "      <td>90785</td>\n",
       "      <td>90785</td>\n",
       "      <td>90785</td>\n",
       "      <td>90785</td>\n",
       "      <td>90785</td>\n",
       "      <td>90785</td>\n",
       "      <td>90785</td>\n",
       "      <td>90785</td>\n",
       "    </tr>\n",
       "    <tr>\n",
       "      <th>unique</th>\n",
       "      <td>1</td>\n",
       "      <td>1</td>\n",
       "      <td>2</td>\n",
       "      <td>2</td>\n",
       "      <td>2</td>\n",
       "      <td>1</td>\n",
       "      <td>2</td>\n",
       "      <td>1</td>\n",
       "      <td>1</td>\n",
       "      <td>1</td>\n",
       "      <td>...</td>\n",
       "      <td>1</td>\n",
       "      <td>1</td>\n",
       "      <td>1</td>\n",
       "      <td>1</td>\n",
       "      <td>1</td>\n",
       "      <td>1</td>\n",
       "      <td>2</td>\n",
       "      <td>1</td>\n",
       "      <td>1</td>\n",
       "      <td>1</td>\n",
       "    </tr>\n",
       "    <tr>\n",
       "      <th>top</th>\n",
       "      <td>False</td>\n",
       "      <td>False</td>\n",
       "      <td>False</td>\n",
       "      <td>False</td>\n",
       "      <td>False</td>\n",
       "      <td>False</td>\n",
       "      <td>True</td>\n",
       "      <td>False</td>\n",
       "      <td>False</td>\n",
       "      <td>False</td>\n",
       "      <td>...</td>\n",
       "      <td>False</td>\n",
       "      <td>False</td>\n",
       "      <td>False</td>\n",
       "      <td>False</td>\n",
       "      <td>False</td>\n",
       "      <td>False</td>\n",
       "      <td>True</td>\n",
       "      <td>False</td>\n",
       "      <td>False</td>\n",
       "      <td>False</td>\n",
       "    </tr>\n",
       "    <tr>\n",
       "      <th>freq</th>\n",
       "      <td>90785</td>\n",
       "      <td>90785</td>\n",
       "      <td>63361</td>\n",
       "      <td>86747</td>\n",
       "      <td>79955</td>\n",
       "      <td>90785</td>\n",
       "      <td>85190</td>\n",
       "      <td>90785</td>\n",
       "      <td>90785</td>\n",
       "      <td>90785</td>\n",
       "      <td>...</td>\n",
       "      <td>90785</td>\n",
       "      <td>90785</td>\n",
       "      <td>90785</td>\n",
       "      <td>90785</td>\n",
       "      <td>90785</td>\n",
       "      <td>90785</td>\n",
       "      <td>62878</td>\n",
       "      <td>90785</td>\n",
       "      <td>90785</td>\n",
       "      <td>90785</td>\n",
       "    </tr>\n",
       "  </tbody>\n",
       "</table>\n",
       "<p>4 rows × 31 columns</p>\n",
       "</div>"
      ],
      "text/plain": [
       "          AGE GENDER RCRI score Anemia category PreopEGFRMDRD  \\\n",
       "count   90785  90785      90785           90785         90785   \n",
       "unique      1      1          2               2             2   \n",
       "top     False  False      False           False         False   \n",
       "freq    90785  90785      63361           86747         79955   \n",
       "\n",
       "       GradeofKidneydisease DaysbetweenDeathandoperation @30daymortality  \\\n",
       "count                 90785                        90785           90785   \n",
       "unique                    1                            2               1   \n",
       "top                   False                         True           False   \n",
       "freq                  90785                        85190           90785   \n",
       "\n",
       "       Preoptransfusionwithin30days Intraop  ... CVARCRICategory  \\\n",
       "count                         90785   90785  ...           90785   \n",
       "unique                            1       1  ...               1   \n",
       "top                           False   False  ...           False   \n",
       "freq                          90785   90785  ...           90785   \n",
       "\n",
       "       IHDRCRICategory CHFRCRICategory DMinsulinRCRICategory  \\\n",
       "count            90785           90785                 90785   \n",
       "unique               1               1                     1   \n",
       "top              False           False                 False   \n",
       "freq             90785           90785                 90785   \n",
       "\n",
       "       CreatinineRCRICategory GradeofKidneyCategory Anemiacategorybinned  \\\n",
       "count                   90785                 90785                90785   \n",
       "unique                      1                     1                    2   \n",
       "top                     False                 False                 True   \n",
       "freq                    90785                 90785                62878   \n",
       "\n",
       "       RDW15.7 ASAcategorybinned ICUAdmgt24h  \n",
       "count    90785             90785       90785  \n",
       "unique       1                 1           1  \n",
       "top      False             False       False  \n",
       "freq     90785             90785       90785  \n",
       "\n",
       "[4 rows x 31 columns]"
      ]
     },
     "execution_count": 11,
     "metadata": {},
     "output_type": "execute_result"
    }
   ],
   "source": [
    "cares.isna().describe()"
   ]
  },
  {
   "cell_type": "markdown",
   "metadata": {
    "id": "1OmETl4Llxkh"
   },
   "source": [
    "Check Missing values\n",
    "\n",
    "**Note**: the paper got 79914 rows after cleaning missing values but we seem to cannot replicate this number"
   ]
  },
  {
   "cell_type": "code",
   "execution_count": 12,
   "metadata": {
    "colab": {
     "base_uri": "https://localhost:8080/"
    },
    "id": "u-xoMCKCmRra",
    "outputId": "4b71b343-8de1-4cbc-8191-f8e005a6ce06",
    "scrolled": true
   },
   "outputs": [
    {
     "name": "stdout",
     "output_type": "stream",
     "text": [
      "AGE\n",
      "61.0     2104\n",
      "65.0     2103\n",
      "64.0     2033\n",
      "63.0     1999\n",
      "60.0     1989\n",
      "         ... \n",
      "99.0        4\n",
      "100.0       2\n",
      "102.0       1\n",
      "101.0       1\n",
      "103.0       1\n",
      "Name: count, Length: 86, dtype: int64\n",
      "AGE\n",
      "False    90785\n",
      "Name: count, dtype: int64\n",
      "\n",
      "GENDER\n",
      "FEMALE    48708\n",
      "MALE      42077\n",
      "Name: count, dtype: int64\n",
      "GENDER\n",
      "False    90785\n",
      "Name: count, dtype: int64\n",
      "\n",
      "RCRI score\n",
      "0.0    47385\n",
      "1.0    12653\n",
      "2.0     2441\n",
      "3.0      679\n",
      "4.0      168\n",
      "5.0       33\n",
      "6.0        2\n",
      "Name: count, dtype: int64\n",
      "RCRI score\n",
      "False    63361\n",
      "True     27424\n",
      "Name: count, dtype: int64\n",
      "\n",
      "Anemia category\n",
      "none        62878\n",
      "mild        13006\n",
      "moderate    10439\n",
      "severe        424\n",
      "Name: count, dtype: int64\n",
      "Anemia category\n",
      "False    86747\n",
      "True      4038\n",
      "Name: count, dtype: int64\n",
      "\n",
      "PreopEGFRMDRD\n",
      "104.452527    50\n",
      "105.027160    49\n",
      "104.657013    46\n",
      "111.268426    46\n",
      "95.529518     45\n",
      "              ..\n",
      "54.267341      1\n",
      "46.530834      1\n",
      "14.005128      1\n",
      "44.728352      1\n",
      "38.424462      1\n",
      "Name: count, Length: 14893, dtype: int64\n",
      "PreopEGFRMDRD\n",
      "False    79955\n",
      "True     10830\n",
      "Name: count, dtype: int64\n",
      "\n",
      "GradeofKidneydisease\n",
      "g1       47948\n",
      "G2       23635\n",
      "BLANK    10830\n",
      "G3a       3425\n",
      "G5        2059\n",
      "G3b       1689\n",
      "G4        1199\n",
      "Name: count, dtype: int64\n",
      "GradeofKidneydisease\n",
      "False    90785\n",
      "Name: count, dtype: int64\n",
      "\n",
      "DaysbetweenDeathandoperation\n",
      "1.0       33\n",
      "7.0       26\n",
      "4.0       24\n",
      "6.0       23\n",
      "3.0       23\n",
      "          ..\n",
      "803.0      1\n",
      "1674.0     1\n",
      "1189.0     1\n",
      "1160.0     1\n",
      "1622.0     1\n",
      "Name: count, Length: 1408, dtype: int64\n",
      "DaysbetweenDeathandoperation\n",
      "True     85190\n",
      "False     5595\n",
      "Name: count, dtype: int64\n",
      "\n",
      "@30daymortality\n",
      "NO     90246\n",
      "YES      539\n",
      "Name: count, dtype: int64\n",
      "@30daymortality\n",
      "False    90785\n",
      "Name: count, dtype: int64\n",
      "\n",
      "Preoptransfusionwithin30days\n",
      "0.0     88905\n",
      "1.0      1017\n",
      "2.0       460\n",
      "3.0       182\n",
      "4.0        74\n",
      "5.0        47\n",
      "6.0        24\n",
      "7.0        23\n",
      "8.0        19\n",
      "11.0        8\n",
      "10.0        7\n",
      "9.0         6\n",
      "13.0        5\n",
      "14.0        4\n",
      "17.0        1\n",
      "12.0        1\n",
      "20.0        1\n",
      "21.0        1\n",
      "Name: count, dtype: int64\n",
      "Preoptransfusionwithin30days\n",
      "False    90785\n",
      "Name: count, dtype: int64\n",
      "\n",
      "Intraop\n",
      "0.0    85676\n",
      "1.0     5109\n",
      "Name: count, dtype: int64\n",
      "Intraop\n",
      "False    90785\n",
      "Name: count, dtype: int64\n",
      "\n",
      "Postopwithin30days\n",
      "0.0     89842\n",
      "1.0       608\n",
      "2.0       179\n",
      "3.0        62\n",
      "4.0        34\n",
      "5.0        23\n",
      "6.0        12\n",
      "7.0         9\n",
      "8.0         5\n",
      "9.0         3\n",
      "12.0        3\n",
      "15.0        2\n",
      "23.0        1\n",
      "16.0        1\n",
      "10.0        1\n",
      "Name: count, dtype: int64\n",
      "Postopwithin30days\n",
      "False    90785\n",
      "Name: count, dtype: int64\n",
      "\n",
      "Transfusionintraandpostop\n",
      "0.0     85664\n",
      "1.0      4187\n",
      "2.0       602\n",
      "3.0       176\n",
      "4.0        62\n",
      "5.0        34\n",
      "6.0        23\n",
      "7.0        12\n",
      "8.0         9\n",
      "9.0         5\n",
      "10.0        3\n",
      "13.0        3\n",
      "16.0        2\n",
      "24.0        1\n",
      "17.0        1\n",
      "11.0        1\n",
      "Name: count, dtype: int64\n",
      "Transfusionintraandpostop\n",
      "False    90785\n",
      "Name: count, dtype: int64\n",
      "\n",
      "AnaestypeCategory\n",
      "GA    76442\n",
      "RA    14343\n",
      "Name: count, dtype: int64\n",
      "AnaestypeCategory\n",
      "False    90785\n",
      "Name: count, dtype: int64\n",
      "\n",
      "PriorityCategory\n",
      "Elective     72331\n",
      "Emergency    18454\n",
      "Name: count, dtype: int64\n",
      "PriorityCategory\n",
      "False    90785\n",
      "Name: count, dtype: int64\n",
      "\n",
      "TransfusionIntraandpostopCategory\n",
      "0 units            85664\n",
      "1 unit              4187\n",
      "2 or more units      934\n",
      "Name: count, dtype: int64\n",
      "TransfusionIntraandpostopCategory\n",
      "False    90785\n",
      "Name: count, dtype: int64\n",
      "\n",
      "AGEcategory\n",
      "50-64    28227\n",
      "30-49    27078\n",
      "65-74    15837\n",
      "18-29    11052\n",
      "75-84     7256\n",
      ">=85      1335\n",
      "Name: count, dtype: int64\n",
      "AGEcategory\n",
      "False    90785\n",
      "Name: count, dtype: int64\n",
      "\n",
      "AGEcategoryOriginal\n",
      "50-69    37360\n",
      "30-49    27078\n",
      ">=70     15295\n",
      "18-29    11052\n",
      "Name: count, dtype: int64\n",
      "AGEcategoryOriginal\n",
      "False    90785\n",
      "Name: count, dtype: int64\n",
      "\n",
      "Mortality\n",
      "No death    85190\n",
      "Yes          5595\n",
      "Name: count, dtype: int64\n",
      "Mortality\n",
      "False    90785\n",
      "Name: count, dtype: int64\n",
      "\n",
      "thirtydaymortality\n",
      "No     90246\n",
      "Yes      539\n",
      "Name: count, dtype: int64\n",
      "thirtydaymortality\n",
      "False    90785\n",
      "Name: count, dtype: int64\n",
      "\n",
      "SurgRiskCategory\n",
      "Low         48049\n",
      "Moderate    39014\n",
      "High         3722\n",
      "Name: count, dtype: int64\n",
      "SurgRiskCategory\n",
      "False    90785\n",
      "Name: count, dtype: int64\n",
      "\n",
      "RaceCategory\n",
      "Chinese    64861\n",
      "Malay       8979\n",
      "Others      8927\n",
      "Indian      8012\n",
      "#NULL!         6\n",
      "Name: count, dtype: int64\n",
      "RaceCategory\n",
      "False    90785\n",
      "Name: count, dtype: int64\n",
      "\n",
      "CVARCRICategory\n",
      "no        60917\n",
      "#NULL!    28325\n",
      "yes        1543\n",
      "Name: count, dtype: int64\n",
      "CVARCRICategory\n",
      "False    90785\n",
      "Name: count, dtype: int64\n",
      "\n",
      "IHDRCRICategory\n",
      "no        57968\n",
      "#NULL!    28572\n",
      "yes        4245\n",
      "Name: count, dtype: int64\n",
      "IHDRCRICategory\n",
      "False    90785\n",
      "Name: count, dtype: int64\n",
      "\n",
      "CHFRCRICategory\n",
      "no        63739\n",
      "#NULL!    26259\n",
      "yes         787\n",
      "Name: count, dtype: int64\n",
      "CHFRCRICategory\n",
      "False    90785\n",
      "Name: count, dtype: int64\n",
      "\n",
      "DMinsulinRCRICategory\n",
      "no        61907\n",
      "#NULL!    26875\n",
      "yes        2003\n",
      "Name: count, dtype: int64\n",
      "DMinsulinRCRICategory\n",
      "False    90785\n",
      "Name: count, dtype: int64\n",
      "\n",
      "CreatinineRCRICategory\n",
      "no        72760\n",
      "#NULL!    15743\n",
      "yes        2282\n",
      "Name: count, dtype: int64\n",
      "CreatinineRCRICategory\n",
      "False    90785\n",
      "Name: count, dtype: int64\n",
      "\n",
      "GradeofKidneyCategory\n",
      "G1        47948\n",
      "G2        23635\n",
      "#NULL!    10830\n",
      "G3         5114\n",
      "G4-G5      3258\n",
      "Name: count, dtype: int64\n",
      "GradeofKidneyCategory\n",
      "False    90785\n",
      "Name: count, dtype: int64\n",
      "\n",
      "Anemiacategorybinned\n",
      "Mild               13006\n",
      "Moderate/Severe    10863\n",
      "#NULL!              4038\n",
      "Name: count, dtype: int64\n",
      "Anemiacategorybinned\n",
      "True     62878\n",
      "False    27907\n",
      "Name: count, dtype: int64\n",
      "\n",
      "RDW15.7\n",
      "<= 15.7    76069\n",
      ">15.7       8478\n",
      "#NULL!      6238\n",
      "Name: count, dtype: int64\n",
      "RDW15.7\n",
      "False    90785\n",
      "Name: count, dtype: int64\n",
      "\n",
      "ASAcategorybinned\n",
      "II        49435\n",
      "I         22047\n",
      "III       13405\n",
      "#NULL!     4819\n",
      "IV-VI      1079\n",
      "Name: count, dtype: int64\n",
      "ASAcategorybinned\n",
      "False    90785\n",
      "Name: count, dtype: int64\n",
      "\n",
      "ICUAdmgt24h\n",
      "no     89521\n",
      "yes     1264\n",
      "Name: count, dtype: int64\n",
      "ICUAdmgt24h\n",
      "False    90785\n",
      "Name: count, dtype: int64\n",
      "\n"
     ]
    }
   ],
   "source": [
    "for column_name in cares.columns:\n",
    "    print(cares[column_name].value_counts())\n",
    "    print(cares[column_name].isna().value_counts())\n",
    "    print()"
   ]
  },
  {
   "cell_type": "code",
   "execution_count": 13,
   "metadata": {
    "id": "AZ3XzA7O0toL"
   },
   "outputs": [],
   "source": [
    "from ydata_profiling import ProfileReport"
   ]
  },
  {
   "cell_type": "code",
   "execution_count": 14,
   "metadata": {
    "colab": {
     "base_uri": "https://localhost:8080/",
     "height": 199,
     "referenced_widgets": [
      "77794420db284672af2ded3b8a8b38e3",
      "59de0090fb7b4327bf2524470e1578f5",
      "74db0955422848f2aff50a60477cd64a",
      "bca0582949074d9a8dd7c2c28dac3da9",
      "e818a751cd6243dbae768e47d13459bd",
      "8da4f69f31bd4e7d822e7b85acb810ed",
      "48db6317b87049cd81b45d72a781588f",
      "6e448f86b9a1438eb52ce8994f5faa6a",
      "abae6af1e9ef40a9bd6495f7d94c3443",
      "a54ec1f20de84e20a87c1be1bef9bf2a",
      "50861ea913b5491d980a37032fa20015",
      "e064a6394dc84b7aaf4aff2735c733cf",
      "d77bec0c7a2b4c1da18890785b0482d5",
      "daa300ea26ec400db2d009e51603211e",
      "9ad8806172da47fc81c100d4bfe8a63e",
      "61d627b96feb484dbb8bdc99cfdef579",
      "9f4957ebef38445fb5b4e92261d6ebb1",
      "743589d75bac44afb0b7c0e3f3767b4c",
      "7592fa68ad2949f2b1611726c4372228",
      "fabd100b6ec14f2d9d6ed488263c9d8a",
      "fd214eefe883408aa025f096ea3ac1c6",
      "30d9bf7e7b714c89bf0cc966f10ecee3",
      "2dbbaf38cbb842f18a5df4b5387ddc02",
      "348d84f1bf9549ed891355c8bc827c86",
      "16c9f5eae4804b0b8c787e0367215616",
      "7cfecd808bc34f3a8dbc51b934c07061",
      "cc065289e42f4b2cae582672e692a122",
      "22631c16750d42528d7dcade0d4c25aa",
      "f7ea95fadd7b440d837eaf247443912a",
      "a17b9045d4df49adb4df93f9f1d0917c",
      "895edce721244404aa3449ab4a63780c",
      "05d013afb5d24f7085a1a86cec3aceee",
      "6a4b95c58fec4fd1a8df6f8daa2c4690",
      "5e998505692646cd8dce1075cba75ffa",
      "5f906cd1c8bc4f4db6c4e3889ed1e799",
      "fb2e57ef3fad4ddc900c98b6e3369734",
      "0f039ac8fdf944a999bc31e9729a4c00",
      "9b42f6eca91a40c98e439fb60718a866",
      "12c999c0bbea4601babd4c431e337ee9",
      "7c11a399fb9d496483cc6de6d3ccdca9",
      "35326bb513374f999df29846dd3fa5c1",
      "9a3752586e9446c5ab5451866127feaa",
      "50d93249e6d3408da53378e05b4f93ef",
      "18d68fccd14640aa92b4636a1e876c8a"
     ]
    },
    "id": "49zBmePmz2I9",
    "outputId": "3780f636-d689-4037-d92b-01c8c67e1b7d"
   },
   "outputs": [
    {
     "data": {
      "application/vnd.jupyter.widget-view+json": {
       "model_id": "8a17ff7fed5f4475a3d562a6697861e1",
       "version_major": 2,
       "version_minor": 0
      },
      "text/plain": [
       "Summarize dataset:   0%|          | 0/5 [00:00<?, ?it/s]"
      ]
     },
     "metadata": {},
     "output_type": "display_data"
    },
    {
     "data": {
      "application/vnd.jupyter.widget-view+json": {
       "model_id": "30e742c710ea4703bd1088e40cfe19d0",
       "version_major": 2,
       "version_minor": 0
      },
      "text/plain": [
       "Generate report structure:   0%|          | 0/1 [00:00<?, ?it/s]"
      ]
     },
     "metadata": {},
     "output_type": "display_data"
    },
    {
     "data": {
      "application/vnd.jupyter.widget-view+json": {
       "model_id": "95379979a9a647aaae45272334d0fae3",
       "version_major": 2,
       "version_minor": 0
      },
      "text/plain": [
       "Render HTML:   0%|          | 0/1 [00:00<?, ?it/s]"
      ]
     },
     "metadata": {},
     "output_type": "display_data"
    },
    {
     "data": {
      "application/vnd.jupyter.widget-view+json": {
       "model_id": "5076a2ee71b340628afc4d93876e69b7",
       "version_major": 2,
       "version_minor": 0
      },
      "text/plain": [
       "Export report to file:   0%|          | 0/1 [00:00<?, ?it/s]"
      ]
     },
     "metadata": {},
     "output_type": "display_data"
    }
   ],
   "source": [
    "# early profiling\n",
    "profile = ProfileReport(cares)\n",
    "profile.to_file(output_file='../output/pre_processed_data_profile.html')"
   ]
  },
  {
   "cell_type": "markdown",
   "metadata": {
    "id": "cBFC5RtA_6W_"
   },
   "source": [
    "## Data Cleaning"
   ]
  },
  {
   "cell_type": "markdown",
   "metadata": {
    "id": "tt5yhQh-m4Rc"
   },
   "source": [
    "Drop the exact duplicates if exist"
   ]
  },
  {
   "cell_type": "code",
   "execution_count": 15,
   "metadata": {
    "id": "Bt9gCIr8m6Xj"
   },
   "outputs": [],
   "source": [
    "# cares.drop_duplicates(inplace=True)"
   ]
  },
  {
   "cell_type": "code",
   "execution_count": 16,
   "metadata": {
    "colab": {
     "base_uri": "https://localhost:8080/"
    },
    "id": "m_ncNP7ZnJZI",
    "outputId": "8397c436-19ba-4150-f967-7f8d632deceb"
   },
   "outputs": [
    {
     "data": {
      "text/plain": [
       "(90785, 31)"
      ]
     },
     "execution_count": 16,
     "metadata": {},
     "output_type": "execute_result"
    }
   ],
   "source": [
    "cares.shape"
   ]
  },
  {
   "cell_type": "markdown",
   "metadata": {
    "id": "sMNu7uvuM_6-"
   },
   "source": []
  },
  {
   "cell_type": "markdown",
   "metadata": {
    "id": "2mMUWLdP_8Qr"
   },
   "source": [
    "### Labels\n",
    "- @30daymortality\n",
    "- thirtydaymortality\n",
    "- Mortality\n",
    "- DaysbetweenDeathandoperation\n",
    "- ICUAdmgt24h"
   ]
  },
  {
   "cell_type": "markdown",
   "metadata": {
    "id": "0d2JXqX31U8w"
   },
   "source": [
    "check if these 2 labels 30 days mortality are the same"
   ]
  },
  {
   "cell_type": "code",
   "execution_count": 17,
   "metadata": {
    "id": "RTew3GgZ1sYF"
   },
   "outputs": [],
   "source": [
    "cares[\"@30daymortality\"] = cares[\"@30daymortality\"] == \"YES\"\n",
    "cares[\"thirtydaymortality\"] = cares[\"thirtydaymortality\"] == \"Yes\""
   ]
  },
  {
   "cell_type": "code",
   "execution_count": 18,
   "metadata": {
    "colab": {
     "base_uri": "https://localhost:8080/"
    },
    "id": "K-82nfCY0uWk",
    "outputId": "06ffc11c-64b6-41f6-cc78-83c7ac8e554b"
   },
   "outputs": [
    {
     "data": {
      "text/plain": [
       "True"
      ]
     },
     "execution_count": 18,
     "metadata": {},
     "output_type": "execute_result"
    }
   ],
   "source": [
    "any(cares[\"@30daymortality\"] == cares[\"thirtydaymortality\"])"
   ]
  },
  {
   "cell_type": "code",
   "execution_count": 19,
   "metadata": {
    "id": "1iXN3wcPASFd"
   },
   "outputs": [],
   "source": [
    "cares.drop(\"@30daymortality\", axis=1, inplace=True)"
   ]
  },
  {
   "cell_type": "markdown",
   "metadata": {
    "id": "KJJrp-111f-q"
   },
   "source": [
    "^ Exactly the same. Can drop one"
   ]
  },
  {
   "cell_type": "code",
   "execution_count": 20,
   "metadata": {
    "colab": {
     "base_uri": "https://localhost:8080/"
    },
    "id": "haJWMdIG2CZs",
    "outputId": "2f98b3ba-1327-4fc5-da55-9d2bcb6ec6e3"
   },
   "outputs": [
    {
     "data": {
      "text/plain": [
       "count    5595.000000\n",
       "mean      476.782127\n",
       "std       421.866740\n",
       "min         0.000000\n",
       "25%       121.000000\n",
       "50%       355.000000\n",
       "75%       746.000000\n",
       "max      1783.000000\n",
       "Name: DaysbetweenDeathandoperation, dtype: float64"
      ]
     },
     "execution_count": 20,
     "metadata": {},
     "output_type": "execute_result"
    }
   ],
   "source": [
    "cares[\"DaysbetweenDeathandoperation\"].describe()"
   ]
  },
  {
   "cell_type": "markdown",
   "metadata": {
    "id": "LGVMjGgl3bIR"
   },
   "source": [
    "^ from 2012-01-01 to 2016-10-31 is only 1765 days. But some days are more than this number"
   ]
  },
  {
   "cell_type": "code",
   "execution_count": 21,
   "metadata": {
    "colab": {
     "base_uri": "https://localhost:8080/"
    },
    "id": "Sv2S7hgkNcz3",
    "outputId": "3f045ee4-3631-4f21-de3b-4bb35d24d1c3"
   },
   "outputs": [
    {
     "data": {
      "text/plain": [
       "ICUAdmgt24h\n",
       "no     89521\n",
       "yes     1264\n",
       "Name: count, dtype: int64"
      ]
     },
     "execution_count": 21,
     "metadata": {},
     "output_type": "execute_result"
    }
   ],
   "source": [
    "cares[\"ICUAdmgt24h\"].value_counts()"
   ]
  },
  {
   "cell_type": "code",
   "execution_count": 22,
   "metadata": {
    "colab": {
     "base_uri": "https://localhost:8080/"
    },
    "id": "dVgx46sqNvI6",
    "outputId": "4c557acf-218a-4e77-bb5c-7a10d8d94f69"
   },
   "outputs": [
    {
     "data": {
      "text/plain": [
       "ICUAdmgt24h\n",
       "False    90785\n",
       "Name: count, dtype: int64"
      ]
     },
     "execution_count": 22,
     "metadata": {},
     "output_type": "execute_result"
    }
   ],
   "source": [
    "cares[\"ICUAdmgt24h\"].isna().value_counts()"
   ]
  },
  {
   "cell_type": "markdown",
   "metadata": {
    "id": "20Y1A1aW7dKf"
   },
   "source": [
    "### Features"
   ]
  },
  {
   "cell_type": "code",
   "execution_count": 23,
   "metadata": {
    "colab": {
     "base_uri": "https://localhost:8080/"
    },
    "id": "6oxNDQ-K8xip",
    "outputId": "e12c733a-c5ab-452c-c1cb-3bc1b0b7e3d8"
   },
   "outputs": [
    {
     "data": {
      "text/plain": [
       "Index(['AGE', 'GENDER', 'RCRI score', 'Anemia category', 'PreopEGFRMDRD',\n",
       "       'GradeofKidneydisease', 'DaysbetweenDeathandoperation',\n",
       "       'Preoptransfusionwithin30days', 'Intraop', 'Postopwithin30days',\n",
       "       'Transfusionintraandpostop', 'AnaestypeCategory', 'PriorityCategory',\n",
       "       'TransfusionIntraandpostopCategory', 'AGEcategory',\n",
       "       'AGEcategoryOriginal', 'Mortality', 'thirtydaymortality',\n",
       "       'SurgRiskCategory', 'RaceCategory', 'CVARCRICategory',\n",
       "       'IHDRCRICategory', 'CHFRCRICategory', 'DMinsulinRCRICategory',\n",
       "       'CreatinineRCRICategory', 'GradeofKidneyCategory',\n",
       "       'Anemiacategorybinned', 'RDW15.7', 'ASAcategorybinned', 'ICUAdmgt24h'],\n",
       "      dtype='object')"
      ]
     },
     "execution_count": 23,
     "metadata": {},
     "output_type": "execute_result"
    }
   ],
   "source": [
    "cares.columns"
   ]
  },
  {
   "cell_type": "markdown",
   "metadata": {
    "id": "RfbO-qbF8QRj"
   },
   "source": [
    "#### Age\n",
    "make binning on age, making sure match with the paper. Use the same binning as the paper suggest"
   ]
  },
  {
   "cell_type": "code",
   "execution_count": 24,
   "metadata": {
    "colab": {
     "base_uri": "https://localhost:8080/"
    },
    "id": "MkU5m94m7s5u",
    "outputId": "99ad6db0-d44f-47db-ea52-f6ad63d5b4b7"
   },
   "outputs": [
    {
     "data": {
      "text/plain": [
       "count    90785.000000\n",
       "mean        52.253225\n",
       "std         17.087307\n",
       "min         18.000000\n",
       "25%         39.000000\n",
       "50%         54.000000\n",
       "75%         65.000000\n",
       "max        103.000000\n",
       "Name: AGE, dtype: float64"
      ]
     },
     "execution_count": 24,
     "metadata": {},
     "output_type": "execute_result"
    }
   ],
   "source": [
    "cares[\"AGE\"].describe()"
   ]
  },
  {
   "cell_type": "code",
   "execution_count": 25,
   "metadata": {
    "colab": {
     "base_uri": "https://localhost:8080/"
    },
    "id": "T68JA9NI80eM",
    "outputId": "dfe722d2-07b6-4d24-bde3-c0957fff404d"
   },
   "outputs": [
    {
     "data": {
      "text/plain": [
       "AGEcategoryOriginal\n",
       "18-29    11052\n",
       "30-49    27078\n",
       "50-69    37360\n",
       ">=70     15295\n",
       "Name: count, dtype: int64"
      ]
     },
     "execution_count": 25,
     "metadata": {},
     "output_type": "execute_result"
    }
   ],
   "source": [
    "cares[\"AGEcategoryOriginal\"].value_counts().sort_index()"
   ]
  },
  {
   "cell_type": "code",
   "execution_count": 26,
   "metadata": {
    "colab": {
     "base_uri": "https://localhost:8080/"
    },
    "id": "0_G-w7B034Ni",
    "outputId": "f4d6f864-084b-4020-aeb5-70241b3d9d29"
   },
   "outputs": [
    {
     "data": {
      "text/plain": [
       "AGEcategory\n",
       "18-29    11052\n",
       "30-49    27078\n",
       "50-64    28227\n",
       "65-74    15837\n",
       "75-84     7256\n",
       ">=85      1335\n",
       "Name: count, dtype: int64"
      ]
     },
     "execution_count": 26,
     "metadata": {},
     "output_type": "execute_result"
    }
   ],
   "source": [
    "cares[\"AGEcategory\"].value_counts().sort_index()"
   ]
  },
  {
   "cell_type": "code",
   "execution_count": 27,
   "metadata": {
    "id": "3pGfNpvi_vO6"
   },
   "outputs": [],
   "source": [
    "cares.drop([\"AGE\", \"AGEcategoryOriginal\"], axis=1, inplace=True)"
   ]
  },
  {
   "cell_type": "markdown",
   "metadata": {
    "id": "RYE9mKokAroy"
   },
   "source": [
    "#### Gender\n",
    "No need to do anything about gender"
   ]
  },
  {
   "cell_type": "code",
   "execution_count": 28,
   "metadata": {
    "colab": {
     "base_uri": "https://localhost:8080/"
    },
    "id": "57ve8Pey8dXB",
    "outputId": "970314aa-218b-47aa-a966-3eed952d4cd7"
   },
   "outputs": [
    {
     "data": {
      "text/plain": [
       "GENDER\n",
       "FEMALE    48708\n",
       "MALE      42077\n",
       "Name: count, dtype: int64"
      ]
     },
     "execution_count": 28,
     "metadata": {},
     "output_type": "execute_result"
    }
   ],
   "source": [
    "cares[\"GENDER\"].value_counts().sort_index()"
   ]
  },
  {
   "cell_type": "markdown",
   "metadata": {
    "id": "7YfGcsSF9rye"
   },
   "source": [
    "#### Race"
   ]
  },
  {
   "cell_type": "code",
   "execution_count": 29,
   "metadata": {
    "colab": {
     "base_uri": "https://localhost:8080/"
    },
    "id": "ZWU9gNBTAz3i",
    "outputId": "a2e408d7-dcad-48bd-8b0f-dba8be853bdb"
   },
   "outputs": [
    {
     "data": {
      "text/plain": [
       "RaceCategory\n",
       "#NULL!         6\n",
       "Chinese    64861\n",
       "Indian      8012\n",
       "Malay       8979\n",
       "Others      8927\n",
       "Name: count, dtype: int64"
      ]
     },
     "execution_count": 29,
     "metadata": {},
     "output_type": "execute_result"
    }
   ],
   "source": [
    "cares[\"RaceCategory\"].value_counts().sort_index()"
   ]
  },
  {
   "cell_type": "code",
   "execution_count": 30,
   "metadata": {
    "colab": {
     "base_uri": "https://localhost:8080/"
    },
    "id": "VKP_fe2aA2L2",
    "outputId": "30843bb2-ad87-4925-b071-1d720bf29d8a"
   },
   "outputs": [
    {
     "name": "stderr",
     "output_type": "stream",
     "text": [
      "/var/folders/d_/43yhfw3n2wx5mg7dg0cxjld00000gn/T/ipykernel_26929/2785854334.py:2: FutureWarning: A value is trying to be set on a copy of a DataFrame or Series through chained assignment using an inplace method.\n",
      "The behavior will change in pandas 3.0. This inplace method will never work because the intermediate object on which we are setting values always behaves as a copy.\n",
      "\n",
      "For example, when doing 'df[col].method(value, inplace=True)', try using 'df.method({col: value}, inplace=True)' or df[col] = df[col].method(value) instead, to perform the operation inplace on the original object.\n",
      "\n",
      "\n",
      "  cares[\"RaceCategory\"].replace('#NULL!',np.nan,inplace=True)\n"
     ]
    },
    {
     "data": {
      "text/plain": [
       "RaceCategory\n",
       "Chinese    64861\n",
       "Indian      8012\n",
       "Malay       8979\n",
       "Others      8927\n",
       "Name: count, dtype: int64"
      ]
     },
     "execution_count": 30,
     "metadata": {},
     "output_type": "execute_result"
    }
   ],
   "source": [
    "# change the NULL to NaN\n",
    "cares[\"RaceCategory\"].replace('#NULL!',np.nan,inplace=True)\n",
    "cares[\"RaceCategory\"].value_counts().sort_index()"
   ]
  },
  {
   "cell_type": "code",
   "execution_count": 31,
   "metadata": {
    "colab": {
     "base_uri": "https://localhost:8080/"
    },
    "id": "9DaVwU-YBCul",
    "outputId": "40884a51-d426-4329-eb66-165488f6e88c"
   },
   "outputs": [
    {
     "data": {
      "text/plain": [
       "RaceCategory\n",
       "False    90779\n",
       "True         6\n",
       "Name: count, dtype: int64"
      ]
     },
     "execution_count": 31,
     "metadata": {},
     "output_type": "execute_result"
    }
   ],
   "source": [
    "cares[\"RaceCategory\"].isna().value_counts()"
   ]
  },
  {
   "cell_type": "markdown",
   "metadata": {
    "id": "iS3h0iagBGu8"
   },
   "source": [
    "#### ASA Classification"
   ]
  },
  {
   "cell_type": "code",
   "execution_count": 32,
   "metadata": {
    "colab": {
     "base_uri": "https://localhost:8080/"
    },
    "id": "JOmW8jSlBUmr",
    "outputId": "45f10b8d-a3ab-4a9d-f722-6ecea8ca5a17"
   },
   "outputs": [
    {
     "data": {
      "text/plain": [
       "ASAcategorybinned\n",
       "#NULL!     4819\n",
       "I         22047\n",
       "II        49435\n",
       "III       13405\n",
       "IV-VI      1079\n",
       "Name: count, dtype: int64"
      ]
     },
     "execution_count": 32,
     "metadata": {},
     "output_type": "execute_result"
    }
   ],
   "source": [
    "cares[\"ASAcategorybinned\"].value_counts().sort_index()"
   ]
  },
  {
   "cell_type": "code",
   "execution_count": 33,
   "metadata": {
    "colab": {
     "base_uri": "https://localhost:8080/"
    },
    "id": "Z76eN8jJBhp5",
    "outputId": "dbcbdd2e-4a9d-4911-8435-ad835c6bfa5d"
   },
   "outputs": [
    {
     "name": "stderr",
     "output_type": "stream",
     "text": [
      "/var/folders/d_/43yhfw3n2wx5mg7dg0cxjld00000gn/T/ipykernel_26929/3308663460.py:2: FutureWarning: A value is trying to be set on a copy of a DataFrame or Series through chained assignment using an inplace method.\n",
      "The behavior will change in pandas 3.0. This inplace method will never work because the intermediate object on which we are setting values always behaves as a copy.\n",
      "\n",
      "For example, when doing 'df[col].method(value, inplace=True)', try using 'df.method({col: value}, inplace=True)' or df[col] = df[col].method(value) instead, to perform the operation inplace on the original object.\n",
      "\n",
      "\n",
      "  cares[\"ASAcategorybinned\"].replace('#NULL!',np.nan,inplace=True)\n"
     ]
    },
    {
     "data": {
      "text/plain": [
       "ASAcategorybinned\n",
       "I        22047\n",
       "II       49435\n",
       "III      13405\n",
       "IV-VI     1079\n",
       "Name: count, dtype: int64"
      ]
     },
     "execution_count": 33,
     "metadata": {},
     "output_type": "execute_result"
    }
   ],
   "source": [
    "# change the NULL to NaN\n",
    "cares[\"ASAcategorybinned\"].replace('#NULL!',np.nan,inplace=True)\n",
    "cares[\"ASAcategorybinned\"].value_counts().sort_index()"
   ]
  },
  {
   "cell_type": "code",
   "execution_count": 34,
   "metadata": {
    "colab": {
     "base_uri": "https://localhost:8080/"
    },
    "id": "yIRJ8JY6Bm5A",
    "outputId": "f94ea731-34be-45e9-eecc-dc5ddd5fb090"
   },
   "outputs": [
    {
     "data": {
      "text/plain": [
       "ASAcategorybinned\n",
       "False    85966\n",
       "True      4819\n",
       "Name: count, dtype: int64"
      ]
     },
     "execution_count": 34,
     "metadata": {},
     "output_type": "execute_result"
    }
   ],
   "source": [
    "cares[\"ASAcategorybinned\"].isna().value_counts()"
   ]
  },
  {
   "cell_type": "markdown",
   "metadata": {
    "id": "bIX7FjQrBpEG"
   },
   "source": [
    "#### Anemia\n",
    "There are 2 columns for anemia, make sure they're the same first"
   ]
  },
  {
   "cell_type": "code",
   "execution_count": 35,
   "metadata": {
    "colab": {
     "base_uri": "https://localhost:8080/"
    },
    "id": "Zq2i7R5xBvnw",
    "outputId": "1f13f152-f86d-4445-8741-76827a37896d"
   },
   "outputs": [
    {
     "data": {
      "text/plain": [
       "Anemia category\n",
       "none        62878\n",
       "mild        13006\n",
       "moderate    10439\n",
       "severe        424\n",
       "Name: count, dtype: int64"
      ]
     },
     "execution_count": 35,
     "metadata": {},
     "output_type": "execute_result"
    }
   ],
   "source": [
    "cares[\"Anemia category\"].value_counts()"
   ]
  },
  {
   "cell_type": "code",
   "execution_count": 36,
   "metadata": {
    "colab": {
     "base_uri": "https://localhost:8080/"
    },
    "id": "c-TzwlqyB0LW",
    "outputId": "38763f8e-516c-4ea4-f533-d3b86f5aa5e8"
   },
   "outputs": [
    {
     "data": {
      "text/plain": [
       "Anemiacategorybinned\n",
       "Mild               13006\n",
       "Moderate/Severe    10863\n",
       "#NULL!              4038\n",
       "Name: count, dtype: int64"
      ]
     },
     "execution_count": 36,
     "metadata": {},
     "output_type": "execute_result"
    }
   ],
   "source": [
    "cares[\"Anemiacategorybinned\"].value_counts()"
   ]
  },
  {
   "cell_type": "code",
   "execution_count": 37,
   "metadata": {
    "colab": {
     "base_uri": "https://localhost:8080/"
    },
    "id": "3wU6juy7B4fW",
    "outputId": "0d857475-9a03-4a8b-ee24-abb3e23f62d2"
   },
   "outputs": [
    {
     "name": "stdout",
     "output_type": "stream",
     "text": [
      "True\n",
      "True\n"
     ]
    }
   ],
   "source": [
    "print(all((cares[\"Anemia category\"] == \"mild\").index == (cares[\"Anemiacategorybinned\"] == \"Mild\").index))\n",
    "print(all((cares[\"Anemia category\"].isin([\"moderate\", \"severe\"])).index == (cares[\"Anemiacategorybinned\"] == \"Moderate/Severe\").index))"
   ]
  },
  {
   "cell_type": "markdown",
   "metadata": {
    "id": "q_kh4Z4pCIO1"
   },
   "source": [
    "After checking:\n",
    "- make `moderate` and `severe` in one category\n",
    "    - we agree on combining `moderate` and `severe` in 1 class because they equally need treatment in comparison to `none` and `mild`\n",
    "- remove `Anemiacategorybinned` column\n",
    "\n",
    "Because Anemia is ordinal data, can later convert them using labelencoding =\n",
    "```JSON\n",
    "{\n",
    "    \"none\": 0,\n",
    "    \"mild\": 1,\n",
    "    \"moderate/severe\": 2\n",
    "}\n",
    "```"
   ]
  },
  {
   "cell_type": "code",
   "execution_count": 38,
   "metadata": {
    "id": "xKNlitfJCicS"
   },
   "outputs": [
    {
     "name": "stderr",
     "output_type": "stream",
     "text": [
      "/var/folders/d_/43yhfw3n2wx5mg7dg0cxjld00000gn/T/ipykernel_26929/1160667628.py:1: FutureWarning: A value is trying to be set on a copy of a DataFrame or Series through chained assignment using an inplace method.\n",
      "The behavior will change in pandas 3.0. This inplace method will never work because the intermediate object on which we are setting values always behaves as a copy.\n",
      "\n",
      "For example, when doing 'df[col].method(value, inplace=True)', try using 'df.method({col: value}, inplace=True)' or df[col] = df[col].method(value) instead, to perform the operation inplace on the original object.\n",
      "\n",
      "\n",
      "  cares[\"Anemia category\"].replace('moderate', 'moderate/severe', inplace=True)\n",
      "/var/folders/d_/43yhfw3n2wx5mg7dg0cxjld00000gn/T/ipykernel_26929/1160667628.py:2: FutureWarning: A value is trying to be set on a copy of a DataFrame or Series through chained assignment using an inplace method.\n",
      "The behavior will change in pandas 3.0. This inplace method will never work because the intermediate object on which we are setting values always behaves as a copy.\n",
      "\n",
      "For example, when doing 'df[col].method(value, inplace=True)', try using 'df.method({col: value}, inplace=True)' or df[col] = df[col].method(value) instead, to perform the operation inplace on the original object.\n",
      "\n",
      "\n",
      "  cares[\"Anemia category\"].replace('severe', 'moderate/severe', inplace=True)\n"
     ]
    }
   ],
   "source": [
    "cares[\"Anemia category\"].replace('moderate', 'moderate/severe', inplace=True)\n",
    "cares[\"Anemia category\"].replace('severe', 'moderate/severe', inplace=True)"
   ]
  },
  {
   "cell_type": "code",
   "execution_count": 39,
   "metadata": {
    "colab": {
     "base_uri": "https://localhost:8080/"
    },
    "id": "2KWy4JpDCse8",
    "outputId": "4b42924a-82dd-4129-a4d5-18ed9658548b"
   },
   "outputs": [
    {
     "data": {
      "text/plain": [
       "Anemia category\n",
       "none               62878\n",
       "mild               13006\n",
       "moderate/severe    10863\n",
       "Name: count, dtype: int64"
      ]
     },
     "execution_count": 39,
     "metadata": {},
     "output_type": "execute_result"
    }
   ],
   "source": [
    "cares[\"Anemia category\"].value_counts()"
   ]
  },
  {
   "cell_type": "code",
   "execution_count": 40,
   "metadata": {
    "id": "xlXXQkSyCs9e"
   },
   "outputs": [],
   "source": [
    "cares.drop(\"Anemiacategorybinned\", axis=1, inplace=True)"
   ]
  },
  {
   "cell_type": "markdown",
   "metadata": {
    "id": "dRskzrbgFmLg"
   },
   "source": [
    "#### RDW"
   ]
  },
  {
   "cell_type": "code",
   "execution_count": 41,
   "metadata": {
    "colab": {
     "base_uri": "https://localhost:8080/"
    },
    "id": "flrHwby9DIHk",
    "outputId": "8d90d1cd-cc6d-4525-f188-f47c3c2756ff"
   },
   "outputs": [
    {
     "data": {
      "text/plain": [
       "RDW15.7\n",
       "<= 15.7    76069\n",
       ">15.7       8478\n",
       "#NULL!      6238\n",
       "Name: count, dtype: int64"
      ]
     },
     "execution_count": 41,
     "metadata": {},
     "output_type": "execute_result"
    }
   ],
   "source": [
    "cares[\"RDW15.7\"].value_counts()"
   ]
  },
  {
   "cell_type": "code",
   "execution_count": 42,
   "metadata": {
    "colab": {
     "base_uri": "https://localhost:8080/"
    },
    "id": "TxtZhTJsFrIQ",
    "outputId": "7a434675-2ae1-4342-fdb1-bd9bebafaa88"
   },
   "outputs": [
    {
     "name": "stderr",
     "output_type": "stream",
     "text": [
      "/var/folders/d_/43yhfw3n2wx5mg7dg0cxjld00000gn/T/ipykernel_26929/3947050491.py:1: FutureWarning: A value is trying to be set on a copy of a DataFrame or Series through chained assignment using an inplace method.\n",
      "The behavior will change in pandas 3.0. This inplace method will never work because the intermediate object on which we are setting values always behaves as a copy.\n",
      "\n",
      "For example, when doing 'df[col].method(value, inplace=True)', try using 'df.method({col: value}, inplace=True)' or df[col] = df[col].method(value) instead, to perform the operation inplace on the original object.\n",
      "\n",
      "\n",
      "  cares[\"RDW15.7\"].replace('#NULL!',np.nan,inplace=True)\n"
     ]
    },
    {
     "data": {
      "text/plain": [
       "RDW15.7\n",
       "<= 15.7    76069\n",
       ">15.7       8478\n",
       "Name: count, dtype: int64"
      ]
     },
     "execution_count": 42,
     "metadata": {},
     "output_type": "execute_result"
    }
   ],
   "source": [
    "cares[\"RDW15.7\"].replace('#NULL!',np.nan,inplace=True)\n",
    "cares[\"RDW15.7\"].value_counts()"
   ]
  },
  {
   "cell_type": "markdown",
   "metadata": {
    "id": "u-6SSrLCFxCr"
   },
   "source": [
    "#### Grade of CKD\n",
    "\n",
    "Source: https://www.kidney.org/professionals/explore-your-knowledge/how-to-classify-ckd"
   ]
  },
  {
   "cell_type": "code",
   "execution_count": 43,
   "metadata": {
    "colab": {
     "base_uri": "https://localhost:8080/"
    },
    "id": "7B--K048FzFD",
    "outputId": "b6744bcf-d193-4c33-a62d-9729b7149736"
   },
   "outputs": [
    {
     "data": {
      "text/plain": [
       "GradeofKidneyCategory\n",
       "G1        47948\n",
       "G2        23635\n",
       "#NULL!    10830\n",
       "G3         5114\n",
       "G4-G5      3258\n",
       "Name: count, dtype: int64"
      ]
     },
     "execution_count": 43,
     "metadata": {},
     "output_type": "execute_result"
    }
   ],
   "source": [
    "cares[\"GradeofKidneyCategory\"].value_counts()"
   ]
  },
  {
   "cell_type": "code",
   "execution_count": 44,
   "metadata": {
    "colab": {
     "base_uri": "https://localhost:8080/"
    },
    "id": "0g-0Vt13Fz8l",
    "outputId": "2530ce92-68a8-4c88-f6ba-ba1afb03c1ce"
   },
   "outputs": [
    {
     "name": "stderr",
     "output_type": "stream",
     "text": [
      "/var/folders/d_/43yhfw3n2wx5mg7dg0cxjld00000gn/T/ipykernel_26929/1637145181.py:1: FutureWarning: A value is trying to be set on a copy of a DataFrame or Series through chained assignment using an inplace method.\n",
      "The behavior will change in pandas 3.0. This inplace method will never work because the intermediate object on which we are setting values always behaves as a copy.\n",
      "\n",
      "For example, when doing 'df[col].method(value, inplace=True)', try using 'df.method({col: value}, inplace=True)' or df[col] = df[col].method(value) instead, to perform the operation inplace on the original object.\n",
      "\n",
      "\n",
      "  cares[\"GradeofKidneyCategory\"].replace('#NULL!', np.nan, inplace=True)\n"
     ]
    },
    {
     "data": {
      "text/plain": [
       "GradeofKidneyCategory\n",
       "G1       47948\n",
       "G2       23635\n",
       "G3        5114\n",
       "G4-G5     3258\n",
       "Name: count, dtype: int64"
      ]
     },
     "execution_count": 44,
     "metadata": {},
     "output_type": "execute_result"
    }
   ],
   "source": [
    "cares[\"GradeofKidneyCategory\"].replace('#NULL!', np.nan, inplace=True)\n",
    "cares[\"GradeofKidneyCategory\"].value_counts()"
   ]
  },
  {
   "cell_type": "code",
   "execution_count": 45,
   "metadata": {
    "colab": {
     "base_uri": "https://localhost:8080/"
    },
    "id": "qSIo-6J9Jfg7",
    "outputId": "c1b7bd5f-3e5c-41ad-e562-200a78a7f52b"
   },
   "outputs": [
    {
     "data": {
      "text/plain": [
       "AGEcategory\n",
       "18-29    3385\n",
       "30-49    5073\n",
       "50-64    1493\n",
       "65-74     638\n",
       "75-84     210\n",
       ">=85       31\n",
       "Name: count, dtype: int64"
      ]
     },
     "execution_count": 45,
     "metadata": {},
     "output_type": "execute_result"
    }
   ],
   "source": [
    "cares[cares[\"GradeofKidneyCategory\"].isna()][\"AGEcategory\"].value_counts().sort_index()"
   ]
  },
  {
   "cell_type": "code",
   "execution_count": 46,
   "metadata": {
    "colab": {
     "base_uri": "https://localhost:8080/"
    },
    "id": "91t7zGevI2PG",
    "outputId": "fb14123c-8064-4181-ba79-01cac51546e8"
   },
   "outputs": [
    {
     "data": {
      "text/plain": [
       "GradeofKidneydisease\n",
       "g1       47948\n",
       "G2       23635\n",
       "BLANK    10830\n",
       "G3a       3425\n",
       "G5        2059\n",
       "G3b       1689\n",
       "G4        1199\n",
       "Name: count, dtype: int64"
      ]
     },
     "execution_count": 46,
     "metadata": {},
     "output_type": "execute_result"
    }
   ],
   "source": [
    "cares[\"GradeofKidneydisease\"].value_counts()"
   ]
  },
  {
   "cell_type": "code",
   "execution_count": 47,
   "metadata": {
    "id": "_kckFyQpJVn-"
   },
   "outputs": [],
   "source": [
    "cares.drop(\"GradeofKidneydisease\", axis=1, inplace=True)"
   ]
  },
  {
   "cell_type": "markdown",
   "metadata": {
    "id": "wSgw48f5GBLV"
   },
   "source": [
    "#### CVA\n",
    "\n",
    "RCRI stands for \"Revised Cardiac Risk Index\". According to the paper, NULL here means the same as no.\n",
    "\n",
    "\n",
    "\"NULL\" here is assumed as \"not tested\". It is assumed as not tested because they are not susceptible of the risk, that's why we combine the \"NULL\" and the \"no\" class together"
   ]
  },
  {
   "cell_type": "code",
   "execution_count": 48,
   "metadata": {
    "colab": {
     "base_uri": "https://localhost:8080/"
    },
    "id": "a6Q1cxPpGGTP",
    "outputId": "adb94eec-bc8b-4556-851c-0d6e91800cda"
   },
   "outputs": [
    {
     "data": {
      "text/plain": [
       "CVARCRICategory\n",
       "no        60917\n",
       "#NULL!    28325\n",
       "yes        1543\n",
       "Name: count, dtype: int64"
      ]
     },
     "execution_count": 48,
     "metadata": {},
     "output_type": "execute_result"
    }
   ],
   "source": [
    "cares[\"CVARCRICategory\"].value_counts()"
   ]
  },
  {
   "cell_type": "code",
   "execution_count": 49,
   "metadata": {
    "colab": {
     "base_uri": "https://localhost:8080/"
    },
    "id": "M1VvCixOGHP1",
    "outputId": "d0d84601-3053-42cf-9983-4fc4b676367a"
   },
   "outputs": [
    {
     "name": "stderr",
     "output_type": "stream",
     "text": [
      "/var/folders/d_/43yhfw3n2wx5mg7dg0cxjld00000gn/T/ipykernel_26929/4003861605.py:1: FutureWarning: A value is trying to be set on a copy of a DataFrame or Series through chained assignment using an inplace method.\n",
      "The behavior will change in pandas 3.0. This inplace method will never work because the intermediate object on which we are setting values always behaves as a copy.\n",
      "\n",
      "For example, when doing 'df[col].method(value, inplace=True)', try using 'df.method({col: value}, inplace=True)' or df[col] = df[col].method(value) instead, to perform the operation inplace on the original object.\n",
      "\n",
      "\n",
      "  cares[\"CVARCRICategory\"].replace('#NULL!', 'no', inplace=True)\n"
     ]
    },
    {
     "data": {
      "text/plain": [
       "CVARCRICategory\n",
       "no     89242\n",
       "yes     1543\n",
       "Name: count, dtype: int64"
      ]
     },
     "execution_count": 49,
     "metadata": {},
     "output_type": "execute_result"
    }
   ],
   "source": [
    "cares[\"CVARCRICategory\"].replace('#NULL!', 'no', inplace=True)\n",
    "cares[\"CVARCRICategory\"].value_counts()"
   ]
  },
  {
   "cell_type": "markdown",
   "metadata": {
    "id": "ihBPjpF7GQpM"
   },
   "source": [
    "#### IHD"
   ]
  },
  {
   "cell_type": "code",
   "execution_count": 50,
   "metadata": {
    "colab": {
     "base_uri": "https://localhost:8080/"
    },
    "id": "elhXzO08GTM8",
    "outputId": "13e3a844-4d63-41dd-e523-8b8586cb074d"
   },
   "outputs": [
    {
     "data": {
      "text/plain": [
       "IHDRCRICategory\n",
       "no        57968\n",
       "#NULL!    28572\n",
       "yes        4245\n",
       "Name: count, dtype: int64"
      ]
     },
     "execution_count": 50,
     "metadata": {},
     "output_type": "execute_result"
    }
   ],
   "source": [
    "cares[\"IHDRCRICategory\"].value_counts()"
   ]
  },
  {
   "cell_type": "code",
   "execution_count": 51,
   "metadata": {
    "colab": {
     "base_uri": "https://localhost:8080/"
    },
    "id": "aXEq5nH9GYQl",
    "outputId": "5a4d78ec-baf0-41ec-c445-60646b33c933"
   },
   "outputs": [
    {
     "name": "stderr",
     "output_type": "stream",
     "text": [
      "/var/folders/d_/43yhfw3n2wx5mg7dg0cxjld00000gn/T/ipykernel_26929/3233727587.py:1: FutureWarning: A value is trying to be set on a copy of a DataFrame or Series through chained assignment using an inplace method.\n",
      "The behavior will change in pandas 3.0. This inplace method will never work because the intermediate object on which we are setting values always behaves as a copy.\n",
      "\n",
      "For example, when doing 'df[col].method(value, inplace=True)', try using 'df.method({col: value}, inplace=True)' or df[col] = df[col].method(value) instead, to perform the operation inplace on the original object.\n",
      "\n",
      "\n",
      "  cares[\"IHDRCRICategory\"].replace('#NULL!', 'no', inplace=True)\n"
     ]
    },
    {
     "data": {
      "text/plain": [
       "IHDRCRICategory\n",
       "no     86540\n",
       "yes     4245\n",
       "Name: count, dtype: int64"
      ]
     },
     "execution_count": 51,
     "metadata": {},
     "output_type": "execute_result"
    }
   ],
   "source": [
    "cares[\"IHDRCRICategory\"].replace('#NULL!', 'no', inplace=True)\n",
    "cares[\"IHDRCRICategory\"].value_counts()"
   ]
  },
  {
   "cell_type": "markdown",
   "metadata": {
    "id": "HdYxRPJ8Ga_Z"
   },
   "source": [
    "#### CHF"
   ]
  },
  {
   "cell_type": "code",
   "execution_count": 52,
   "metadata": {
    "colab": {
     "base_uri": "https://localhost:8080/"
    },
    "id": "WqBdY5wbGe08",
    "outputId": "1f9ad7fe-f0cc-4c71-e882-4b2e7a5109ca"
   },
   "outputs": [
    {
     "data": {
      "text/plain": [
       "CHFRCRICategory\n",
       "no        63739\n",
       "#NULL!    26259\n",
       "yes         787\n",
       "Name: count, dtype: int64"
      ]
     },
     "execution_count": 52,
     "metadata": {},
     "output_type": "execute_result"
    }
   ],
   "source": [
    "cares[\"CHFRCRICategory\"].value_counts()"
   ]
  },
  {
   "cell_type": "code",
   "execution_count": 53,
   "metadata": {
    "colab": {
     "base_uri": "https://localhost:8080/"
    },
    "id": "pAq6EZYPGgR2",
    "outputId": "46a5db30-9e74-4dd3-ee0c-abadb6a06ef9"
   },
   "outputs": [
    {
     "name": "stderr",
     "output_type": "stream",
     "text": [
      "/var/folders/d_/43yhfw3n2wx5mg7dg0cxjld00000gn/T/ipykernel_26929/3171126014.py:1: FutureWarning: A value is trying to be set on a copy of a DataFrame or Series through chained assignment using an inplace method.\n",
      "The behavior will change in pandas 3.0. This inplace method will never work because the intermediate object on which we are setting values always behaves as a copy.\n",
      "\n",
      "For example, when doing 'df[col].method(value, inplace=True)', try using 'df.method({col: value}, inplace=True)' or df[col] = df[col].method(value) instead, to perform the operation inplace on the original object.\n",
      "\n",
      "\n",
      "  cares[\"CHFRCRICategory\"].replace('#NULL!', 'no', inplace=True)\n"
     ]
    },
    {
     "data": {
      "text/plain": [
       "CHFRCRICategory\n",
       "no     89998\n",
       "yes      787\n",
       "Name: count, dtype: int64"
      ]
     },
     "execution_count": 53,
     "metadata": {},
     "output_type": "execute_result"
    }
   ],
   "source": [
    "cares[\"CHFRCRICategory\"].replace('#NULL!', 'no', inplace=True)\n",
    "cares[\"CHFRCRICategory\"].value_counts()"
   ]
  },
  {
   "cell_type": "markdown",
   "metadata": {
    "id": "CSiUV1s2Gi3C"
   },
   "source": [
    "#### DM on Insulin"
   ]
  },
  {
   "cell_type": "code",
   "execution_count": 54,
   "metadata": {
    "colab": {
     "base_uri": "https://localhost:8080/"
    },
    "id": "6NuBZfe_Gnfx",
    "outputId": "42f3e97c-1ff5-44fd-fbd8-5d1490b1eea8"
   },
   "outputs": [
    {
     "data": {
      "text/plain": [
       "DMinsulinRCRICategory\n",
       "no        61907\n",
       "#NULL!    26875\n",
       "yes        2003\n",
       "Name: count, dtype: int64"
      ]
     },
     "execution_count": 54,
     "metadata": {},
     "output_type": "execute_result"
    }
   ],
   "source": [
    "cares[\"DMinsulinRCRICategory\"].value_counts()"
   ]
  },
  {
   "cell_type": "code",
   "execution_count": 55,
   "metadata": {
    "colab": {
     "base_uri": "https://localhost:8080/"
    },
    "id": "BON3ZVt4Go1a",
    "outputId": "de820350-a777-4af5-b7fa-11d88205874d"
   },
   "outputs": [
    {
     "name": "stderr",
     "output_type": "stream",
     "text": [
      "/var/folders/d_/43yhfw3n2wx5mg7dg0cxjld00000gn/T/ipykernel_26929/4277227893.py:1: FutureWarning: A value is trying to be set on a copy of a DataFrame or Series through chained assignment using an inplace method.\n",
      "The behavior will change in pandas 3.0. This inplace method will never work because the intermediate object on which we are setting values always behaves as a copy.\n",
      "\n",
      "For example, when doing 'df[col].method(value, inplace=True)', try using 'df.method({col: value}, inplace=True)' or df[col] = df[col].method(value) instead, to perform the operation inplace on the original object.\n",
      "\n",
      "\n",
      "  cares[\"DMinsulinRCRICategory\"].replace('#NULL!', 'no', inplace=True)\n"
     ]
    },
    {
     "data": {
      "text/plain": [
       "DMinsulinRCRICategory\n",
       "no     88782\n",
       "yes     2003\n",
       "Name: count, dtype: int64"
      ]
     },
     "execution_count": 55,
     "metadata": {},
     "output_type": "execute_result"
    }
   ],
   "source": [
    "cares[\"DMinsulinRCRICategory\"].replace('#NULL!', 'no', inplace=True)\n",
    "cares[\"DMinsulinRCRICategory\"].value_counts()"
   ]
  },
  {
   "cell_type": "markdown",
   "metadata": {
    "id": "KAYET3Y4LDdO"
   },
   "source": [
    "#### Creatinine"
   ]
  },
  {
   "cell_type": "code",
   "execution_count": 56,
   "metadata": {
    "colab": {
     "base_uri": "https://localhost:8080/"
    },
    "id": "EIMoDrhOK8Yg",
    "outputId": "de6e7119-0cb6-4610-c388-61ed6c85b747"
   },
   "outputs": [
    {
     "data": {
      "text/plain": [
       "CreatinineRCRICategory\n",
       "no        72760\n",
       "#NULL!    15743\n",
       "yes        2282\n",
       "Name: count, dtype: int64"
      ]
     },
     "execution_count": 56,
     "metadata": {},
     "output_type": "execute_result"
    }
   ],
   "source": [
    "cares[\"CreatinineRCRICategory\"].value_counts()"
   ]
  },
  {
   "cell_type": "code",
   "execution_count": 57,
   "metadata": {
    "colab": {
     "base_uri": "https://localhost:8080/"
    },
    "id": "RCJimEKnLHpA",
    "outputId": "607b634e-836a-4b28-9ad1-55d81a72ece7"
   },
   "outputs": [
    {
     "name": "stderr",
     "output_type": "stream",
     "text": [
      "/var/folders/d_/43yhfw3n2wx5mg7dg0cxjld00000gn/T/ipykernel_26929/2377245786.py:1: FutureWarning: A value is trying to be set on a copy of a DataFrame or Series through chained assignment using an inplace method.\n",
      "The behavior will change in pandas 3.0. This inplace method will never work because the intermediate object on which we are setting values always behaves as a copy.\n",
      "\n",
      "For example, when doing 'df[col].method(value, inplace=True)', try using 'df.method({col: value}, inplace=True)' or df[col] = df[col].method(value) instead, to perform the operation inplace on the original object.\n",
      "\n",
      "\n",
      "  cares[\"CreatinineRCRICategory\"].replace('#NULL!', 'no', inplace=True)\n"
     ]
    },
    {
     "data": {
      "text/plain": [
       "CreatinineRCRICategory\n",
       "no     88503\n",
       "yes     2282\n",
       "Name: count, dtype: int64"
      ]
     },
     "execution_count": 57,
     "metadata": {},
     "output_type": "execute_result"
    }
   ],
   "source": [
    "cares[\"CreatinineRCRICategory\"].replace('#NULL!', 'no', inplace=True)\n",
    "cares[\"CreatinineRCRICategory\"].value_counts()"
   ]
  },
  {
   "cell_type": "markdown",
   "metadata": {
    "id": "RL9mVsidGswJ"
   },
   "source": [
    "#### Surgical Risk\n",
    "No need to do anything"
   ]
  },
  {
   "cell_type": "code",
   "execution_count": 58,
   "metadata": {
    "colab": {
     "base_uri": "https://localhost:8080/"
    },
    "id": "MUlAR4swIFQ4",
    "outputId": "5fc050d7-e22c-4c61-fc4a-89d7f40a7108"
   },
   "outputs": [
    {
     "data": {
      "text/plain": [
       "SurgRiskCategory\n",
       "Low         48049\n",
       "Moderate    39014\n",
       "High         3722\n",
       "Name: count, dtype: int64"
      ]
     },
     "execution_count": 58,
     "metadata": {},
     "output_type": "execute_result"
    }
   ],
   "source": [
    "cares[\"SurgRiskCategory\"].value_counts()"
   ]
  },
  {
   "cell_type": "code",
   "execution_count": 59,
   "metadata": {
    "colab": {
     "base_uri": "https://localhost:8080/"
    },
    "id": "h3lcEq2SIF4V",
    "outputId": "66bda9aa-79f7-4165-bd04-1fbca43d215d"
   },
   "outputs": [
    {
     "data": {
      "text/plain": [
       "SurgRiskCategory\n",
       "False    90785\n",
       "Name: count, dtype: int64"
      ]
     },
     "execution_count": 59,
     "metadata": {},
     "output_type": "execute_result"
    }
   ],
   "source": [
    "cares[\"SurgRiskCategory\"].isna().value_counts()"
   ]
  },
  {
   "cell_type": "markdown",
   "metadata": {
    "id": "r7cQQMfSIKgh"
   },
   "source": [
    "#### Priority of Surgery\n",
    "No need to do anything"
   ]
  },
  {
   "cell_type": "code",
   "execution_count": 60,
   "metadata": {
    "colab": {
     "base_uri": "https://localhost:8080/"
    },
    "id": "MVAG0Wu-IScG",
    "outputId": "29f1c25a-d457-4290-cc32-94d49dd44c09"
   },
   "outputs": [
    {
     "data": {
      "text/plain": [
       "PriorityCategory\n",
       "Elective     72331\n",
       "Emergency    18454\n",
       "Name: count, dtype: int64"
      ]
     },
     "execution_count": 60,
     "metadata": {},
     "output_type": "execute_result"
    }
   ],
   "source": [
    "cares[\"PriorityCategory\"].value_counts()"
   ]
  },
  {
   "cell_type": "code",
   "execution_count": 61,
   "metadata": {
    "colab": {
     "base_uri": "https://localhost:8080/"
    },
    "id": "-zQWHlRlIT0m",
    "outputId": "b3fd5459-8fd4-490c-9e47-4557c92810c0"
   },
   "outputs": [
    {
     "data": {
      "text/plain": [
       "PriorityCategory\n",
       "False    90785\n",
       "Name: count, dtype: int64"
      ]
     },
     "execution_count": 61,
     "metadata": {},
     "output_type": "execute_result"
    }
   ],
   "source": [
    "cares[\"PriorityCategory\"].isna().value_counts()"
   ]
  },
  {
   "cell_type": "code",
   "execution_count": 62,
   "metadata": {
    "colab": {
     "base_uri": "https://localhost:8080/",
     "height": 270
    },
    "id": "tgSgyrEhJ6lN",
    "outputId": "e1cc9b68-1c1a-49c4-f764-ecdcec80075e"
   },
   "outputs": [
    {
     "data": {
      "text/html": [
       "<div>\n",
       "<style scoped>\n",
       "    .dataframe tbody tr th:only-of-type {\n",
       "        vertical-align: middle;\n",
       "    }\n",
       "\n",
       "    .dataframe tbody tr th {\n",
       "        vertical-align: top;\n",
       "    }\n",
       "\n",
       "    .dataframe thead th {\n",
       "        text-align: right;\n",
       "    }\n",
       "</style>\n",
       "<table border=\"1\" class=\"dataframe\">\n",
       "  <thead>\n",
       "    <tr style=\"text-align: right;\">\n",
       "      <th></th>\n",
       "      <th>GENDER</th>\n",
       "      <th>RCRI score</th>\n",
       "      <th>Anemia category</th>\n",
       "      <th>PreopEGFRMDRD</th>\n",
       "      <th>DaysbetweenDeathandoperation</th>\n",
       "      <th>Preoptransfusionwithin30days</th>\n",
       "      <th>Intraop</th>\n",
       "      <th>Postopwithin30days</th>\n",
       "      <th>Transfusionintraandpostop</th>\n",
       "      <th>AnaestypeCategory</th>\n",
       "      <th>...</th>\n",
       "      <th>RaceCategory</th>\n",
       "      <th>CVARCRICategory</th>\n",
       "      <th>IHDRCRICategory</th>\n",
       "      <th>CHFRCRICategory</th>\n",
       "      <th>DMinsulinRCRICategory</th>\n",
       "      <th>CreatinineRCRICategory</th>\n",
       "      <th>GradeofKidneyCategory</th>\n",
       "      <th>RDW15.7</th>\n",
       "      <th>ASAcategorybinned</th>\n",
       "      <th>ICUAdmgt24h</th>\n",
       "    </tr>\n",
       "  </thead>\n",
       "  <tbody>\n",
       "    <tr>\n",
       "      <th>0</th>\n",
       "      <td>FEMALE</td>\n",
       "      <td>NaN</td>\n",
       "      <td>NaN</td>\n",
       "      <td>NaN</td>\n",
       "      <td>NaN</td>\n",
       "      <td>0.0</td>\n",
       "      <td>0.0</td>\n",
       "      <td>0.0</td>\n",
       "      <td>0.0</td>\n",
       "      <td>GA</td>\n",
       "      <td>...</td>\n",
       "      <td>Chinese</td>\n",
       "      <td>no</td>\n",
       "      <td>no</td>\n",
       "      <td>no</td>\n",
       "      <td>no</td>\n",
       "      <td>no</td>\n",
       "      <td>NaN</td>\n",
       "      <td>NaN</td>\n",
       "      <td>I</td>\n",
       "      <td>no</td>\n",
       "    </tr>\n",
       "    <tr>\n",
       "      <th>1</th>\n",
       "      <td>FEMALE</td>\n",
       "      <td>NaN</td>\n",
       "      <td>none</td>\n",
       "      <td>NaN</td>\n",
       "      <td>NaN</td>\n",
       "      <td>0.0</td>\n",
       "      <td>0.0</td>\n",
       "      <td>0.0</td>\n",
       "      <td>0.0</td>\n",
       "      <td>GA</td>\n",
       "      <td>...</td>\n",
       "      <td>Chinese</td>\n",
       "      <td>no</td>\n",
       "      <td>no</td>\n",
       "      <td>no</td>\n",
       "      <td>no</td>\n",
       "      <td>no</td>\n",
       "      <td>NaN</td>\n",
       "      <td>&lt;= 15.7</td>\n",
       "      <td>I</td>\n",
       "      <td>no</td>\n",
       "    </tr>\n",
       "    <tr>\n",
       "      <th>2</th>\n",
       "      <td>FEMALE</td>\n",
       "      <td>NaN</td>\n",
       "      <td>mild</td>\n",
       "      <td>152.538570</td>\n",
       "      <td>NaN</td>\n",
       "      <td>0.0</td>\n",
       "      <td>0.0</td>\n",
       "      <td>0.0</td>\n",
       "      <td>0.0</td>\n",
       "      <td>GA</td>\n",
       "      <td>...</td>\n",
       "      <td>Chinese</td>\n",
       "      <td>no</td>\n",
       "      <td>no</td>\n",
       "      <td>no</td>\n",
       "      <td>no</td>\n",
       "      <td>no</td>\n",
       "      <td>G1</td>\n",
       "      <td>&lt;= 15.7</td>\n",
       "      <td>I</td>\n",
       "      <td>no</td>\n",
       "    </tr>\n",
       "    <tr>\n",
       "      <th>3</th>\n",
       "      <td>MALE</td>\n",
       "      <td>NaN</td>\n",
       "      <td>moderate/severe</td>\n",
       "      <td>117.231496</td>\n",
       "      <td>NaN</td>\n",
       "      <td>0.0</td>\n",
       "      <td>1.0</td>\n",
       "      <td>0.0</td>\n",
       "      <td>1.0</td>\n",
       "      <td>GA</td>\n",
       "      <td>...</td>\n",
       "      <td>Chinese</td>\n",
       "      <td>no</td>\n",
       "      <td>no</td>\n",
       "      <td>no</td>\n",
       "      <td>no</td>\n",
       "      <td>no</td>\n",
       "      <td>G1</td>\n",
       "      <td>&lt;= 15.7</td>\n",
       "      <td>I</td>\n",
       "      <td>no</td>\n",
       "    </tr>\n",
       "    <tr>\n",
       "      <th>4</th>\n",
       "      <td>MALE</td>\n",
       "      <td>0.0</td>\n",
       "      <td>mild</td>\n",
       "      <td>98.651255</td>\n",
       "      <td>59.0</td>\n",
       "      <td>0.0</td>\n",
       "      <td>0.0</td>\n",
       "      <td>0.0</td>\n",
       "      <td>0.0</td>\n",
       "      <td>GA</td>\n",
       "      <td>...</td>\n",
       "      <td>Chinese</td>\n",
       "      <td>no</td>\n",
       "      <td>no</td>\n",
       "      <td>no</td>\n",
       "      <td>no</td>\n",
       "      <td>no</td>\n",
       "      <td>G1</td>\n",
       "      <td>&gt;15.7</td>\n",
       "      <td>II</td>\n",
       "      <td>no</td>\n",
       "    </tr>\n",
       "  </tbody>\n",
       "</table>\n",
       "<p>5 rows × 26 columns</p>\n",
       "</div>"
      ],
      "text/plain": [
       "   GENDER  RCRI score  Anemia category  PreopEGFRMDRD  \\\n",
       "0  FEMALE         NaN              NaN            NaN   \n",
       "1  FEMALE         NaN             none            NaN   \n",
       "2  FEMALE         NaN             mild     152.538570   \n",
       "3    MALE         NaN  moderate/severe     117.231496   \n",
       "4    MALE         0.0             mild      98.651255   \n",
       "\n",
       "   DaysbetweenDeathandoperation  Preoptransfusionwithin30days  Intraop  \\\n",
       "0                           NaN                           0.0      0.0   \n",
       "1                           NaN                           0.0      0.0   \n",
       "2                           NaN                           0.0      0.0   \n",
       "3                           NaN                           0.0      1.0   \n",
       "4                          59.0                           0.0      0.0   \n",
       "\n",
       "   Postopwithin30days  Transfusionintraandpostop AnaestypeCategory  ...  \\\n",
       "0                 0.0                        0.0                GA  ...   \n",
       "1                 0.0                        0.0                GA  ...   \n",
       "2                 0.0                        0.0                GA  ...   \n",
       "3                 0.0                        1.0                GA  ...   \n",
       "4                 0.0                        0.0                GA  ...   \n",
       "\n",
       "  RaceCategory CVARCRICategory IHDRCRICategory CHFRCRICategory  \\\n",
       "0      Chinese              no              no              no   \n",
       "1      Chinese              no              no              no   \n",
       "2      Chinese              no              no              no   \n",
       "3      Chinese              no              no              no   \n",
       "4      Chinese              no              no              no   \n",
       "\n",
       "   DMinsulinRCRICategory CreatinineRCRICategory GradeofKidneyCategory  \\\n",
       "0                     no                     no                   NaN   \n",
       "1                     no                     no                   NaN   \n",
       "2                     no                     no                    G1   \n",
       "3                     no                     no                    G1   \n",
       "4                     no                     no                    G1   \n",
       "\n",
       "   RDW15.7 ASAcategorybinned ICUAdmgt24h  \n",
       "0      NaN                 I          no  \n",
       "1  <= 15.7                 I          no  \n",
       "2  <= 15.7                 I          no  \n",
       "3  <= 15.7                 I          no  \n",
       "4    >15.7                II          no  \n",
       "\n",
       "[5 rows x 26 columns]"
      ]
     },
     "execution_count": 62,
     "metadata": {},
     "output_type": "execute_result"
    }
   ],
   "source": [
    "cares.head()"
   ]
  },
  {
   "cell_type": "code",
   "execution_count": 64,
   "metadata": {},
   "outputs": [
    {
     "data": {
      "application/vnd.jupyter.widget-view+json": {
       "model_id": "bc6a4353213a46a79a1a0667a6d4e9f3",
       "version_major": 2,
       "version_minor": 0
      },
      "text/plain": [
       "Summarize dataset:   0%|          | 0/5 [00:00<?, ?it/s]"
      ]
     },
     "metadata": {},
     "output_type": "display_data"
    },
    {
     "data": {
      "application/vnd.jupyter.widget-view+json": {
       "model_id": "59e0240192964a00acd24859f734cc0b",
       "version_major": 2,
       "version_minor": 0
      },
      "text/plain": [
       "Generate report structure:   0%|          | 0/1 [00:00<?, ?it/s]"
      ]
     },
     "metadata": {},
     "output_type": "display_data"
    },
    {
     "data": {
      "application/vnd.jupyter.widget-view+json": {
       "model_id": "aae7a67afa854cdea7daeda4bfbd19da",
       "version_major": 2,
       "version_minor": 0
      },
      "text/plain": [
       "Render HTML:   0%|          | 0/1 [00:00<?, ?it/s]"
      ]
     },
     "metadata": {},
     "output_type": "display_data"
    },
    {
     "data": {
      "application/vnd.jupyter.widget-view+json": {
       "model_id": "753e548dbf9e47a2aa2972e68923d53a",
       "version_major": 2,
       "version_minor": 0
      },
      "text/plain": [
       "Export report to file:   0%|          | 0/1 [00:00<?, ?it/s]"
      ]
     },
     "metadata": {},
     "output_type": "display_data"
    }
   ],
   "source": [
    "# post-processing profiling\n",
    "profile = ProfileReport(cares)\n",
    "profile.to_file(output_file='../output/post_processed_data_profile.html')"
   ]
  },
  {
   "cell_type": "markdown",
   "metadata": {
    "id": "hupo4P-RNyoT"
   },
   "source": [
    "## Save as CSV"
   ]
  },
  {
   "cell_type": "code",
   "execution_count": 65,
   "metadata": {
    "id": "Quw1BioANOnQ"
   },
   "outputs": [],
   "source": [
    "cares.to_csv(\"../data/CARES_dataset_clean.csv\", index=False)"
   ]
  },
  {
   "cell_type": "code",
   "execution_count": null,
   "metadata": {
    "id": "2dTmUIKIN6VR"
   },
   "outputs": [],
   "source": []
  }
 ],
 "metadata": {
  "accelerator": "GPU",
  "colab": {
   "gpuType": "T4",
   "provenance": [],
   "toc_visible": true
  },
  "kernelspec": {
   "display_name": "Python 3 (ipykernel)",
   "language": "python",
   "name": "python3"
  },
  "language_info": {
   "codemirror_mode": {
    "name": "ipython",
    "version": 3
   },
   "file_extension": ".py",
   "mimetype": "text/x-python",
   "name": "python",
   "nbconvert_exporter": "python",
   "pygments_lexer": "ipython3",
   "version": "3.9.15"
  },
  "widgets": {
   "application/vnd.jupyter.widget-state+json": {
    "05d013afb5d24f7085a1a86cec3aceee": {
     "model_module": "@jupyter-widgets/base",
     "model_module_version": "1.2.0",
     "model_name": "LayoutModel",
     "state": {
      "_model_module": "@jupyter-widgets/base",
      "_model_module_version": "1.2.0",
      "_model_name": "LayoutModel",
      "_view_count": null,
      "_view_module": "@jupyter-widgets/base",
      "_view_module_version": "1.2.0",
      "_view_name": "LayoutView",
      "align_content": null,
      "align_items": null,
      "align_self": null,
      "border": null,
      "bottom": null,
      "display": null,
      "flex": null,
      "flex_flow": null,
      "grid_area": null,
      "grid_auto_columns": null,
      "grid_auto_flow": null,
      "grid_auto_rows": null,
      "grid_column": null,
      "grid_gap": null,
      "grid_row": null,
      "grid_template_areas": null,
      "grid_template_columns": null,
      "grid_template_rows": null,
      "height": null,
      "justify_content": null,
      "justify_items": null,
      "left": null,
      "margin": null,
      "max_height": null,
      "max_width": null,
      "min_height": null,
      "min_width": null,
      "object_fit": null,
      "object_position": null,
      "order": null,
      "overflow": null,
      "overflow_x": null,
      "overflow_y": null,
      "padding": null,
      "right": null,
      "top": null,
      "visibility": null,
      "width": null
     }
    },
    "0f039ac8fdf944a999bc31e9729a4c00": {
     "model_module": "@jupyter-widgets/controls",
     "model_module_version": "1.5.0",
     "model_name": "HTMLModel",
     "state": {
      "_dom_classes": [],
      "_model_module": "@jupyter-widgets/controls",
      "_model_module_version": "1.5.0",
      "_model_name": "HTMLModel",
      "_view_count": null,
      "_view_module": "@jupyter-widgets/controls",
      "_view_module_version": "1.5.0",
      "_view_name": "HTMLView",
      "description": "",
      "description_tooltip": null,
      "layout": "IPY_MODEL_50d93249e6d3408da53378e05b4f93ef",
      "placeholder": "​",
      "style": "IPY_MODEL_18d68fccd14640aa92b4636a1e876c8a",
      "value": " 1/1 [00:00&lt;00:00, 27.62it/s]"
     }
    },
    "12c999c0bbea4601babd4c431e337ee9": {
     "model_module": "@jupyter-widgets/base",
     "model_module_version": "1.2.0",
     "model_name": "LayoutModel",
     "state": {
      "_model_module": "@jupyter-widgets/base",
      "_model_module_version": "1.2.0",
      "_model_name": "LayoutModel",
      "_view_count": null,
      "_view_module": "@jupyter-widgets/base",
      "_view_module_version": "1.2.0",
      "_view_name": "LayoutView",
      "align_content": null,
      "align_items": null,
      "align_self": null,
      "border": null,
      "bottom": null,
      "display": null,
      "flex": null,
      "flex_flow": null,
      "grid_area": null,
      "grid_auto_columns": null,
      "grid_auto_flow": null,
      "grid_auto_rows": null,
      "grid_column": null,
      "grid_gap": null,
      "grid_row": null,
      "grid_template_areas": null,
      "grid_template_columns": null,
      "grid_template_rows": null,
      "height": null,
      "justify_content": null,
      "justify_items": null,
      "left": null,
      "margin": null,
      "max_height": null,
      "max_width": null,
      "min_height": null,
      "min_width": null,
      "object_fit": null,
      "object_position": null,
      "order": null,
      "overflow": null,
      "overflow_x": null,
      "overflow_y": null,
      "padding": null,
      "right": null,
      "top": null,
      "visibility": null,
      "width": null
     }
    },
    "16c9f5eae4804b0b8c787e0367215616": {
     "model_module": "@jupyter-widgets/controls",
     "model_module_version": "1.5.0",
     "model_name": "FloatProgressModel",
     "state": {
      "_dom_classes": [],
      "_model_module": "@jupyter-widgets/controls",
      "_model_module_version": "1.5.0",
      "_model_name": "FloatProgressModel",
      "_view_count": null,
      "_view_module": "@jupyter-widgets/controls",
      "_view_module_version": "1.5.0",
      "_view_name": "ProgressView",
      "bar_style": "success",
      "description": "",
      "description_tooltip": null,
      "layout": "IPY_MODEL_a17b9045d4df49adb4df93f9f1d0917c",
      "max": 1,
      "min": 0,
      "orientation": "horizontal",
      "style": "IPY_MODEL_895edce721244404aa3449ab4a63780c",
      "value": 1
     }
    },
    "18d68fccd14640aa92b4636a1e876c8a": {
     "model_module": "@jupyter-widgets/controls",
     "model_module_version": "1.5.0",
     "model_name": "DescriptionStyleModel",
     "state": {
      "_model_module": "@jupyter-widgets/controls",
      "_model_module_version": "1.5.0",
      "_model_name": "DescriptionStyleModel",
      "_view_count": null,
      "_view_module": "@jupyter-widgets/base",
      "_view_module_version": "1.2.0",
      "_view_name": "StyleView",
      "description_width": ""
     }
    },
    "22631c16750d42528d7dcade0d4c25aa": {
     "model_module": "@jupyter-widgets/base",
     "model_module_version": "1.2.0",
     "model_name": "LayoutModel",
     "state": {
      "_model_module": "@jupyter-widgets/base",
      "_model_module_version": "1.2.0",
      "_model_name": "LayoutModel",
      "_view_count": null,
      "_view_module": "@jupyter-widgets/base",
      "_view_module_version": "1.2.0",
      "_view_name": "LayoutView",
      "align_content": null,
      "align_items": null,
      "align_self": null,
      "border": null,
      "bottom": null,
      "display": null,
      "flex": null,
      "flex_flow": null,
      "grid_area": null,
      "grid_auto_columns": null,
      "grid_auto_flow": null,
      "grid_auto_rows": null,
      "grid_column": null,
      "grid_gap": null,
      "grid_row": null,
      "grid_template_areas": null,
      "grid_template_columns": null,
      "grid_template_rows": null,
      "height": null,
      "justify_content": null,
      "justify_items": null,
      "left": null,
      "margin": null,
      "max_height": null,
      "max_width": null,
      "min_height": null,
      "min_width": null,
      "object_fit": null,
      "object_position": null,
      "order": null,
      "overflow": null,
      "overflow_x": null,
      "overflow_y": null,
      "padding": null,
      "right": null,
      "top": null,
      "visibility": null,
      "width": null
     }
    },
    "2dbbaf38cbb842f18a5df4b5387ddc02": {
     "model_module": "@jupyter-widgets/controls",
     "model_module_version": "1.5.0",
     "model_name": "HBoxModel",
     "state": {
      "_dom_classes": [],
      "_model_module": "@jupyter-widgets/controls",
      "_model_module_version": "1.5.0",
      "_model_name": "HBoxModel",
      "_view_count": null,
      "_view_module": "@jupyter-widgets/controls",
      "_view_module_version": "1.5.0",
      "_view_name": "HBoxView",
      "box_style": "",
      "children": [
       "IPY_MODEL_348d84f1bf9549ed891355c8bc827c86",
       "IPY_MODEL_16c9f5eae4804b0b8c787e0367215616",
       "IPY_MODEL_7cfecd808bc34f3a8dbc51b934c07061"
      ],
      "layout": "IPY_MODEL_cc065289e42f4b2cae582672e692a122"
     }
    },
    "30d9bf7e7b714c89bf0cc966f10ecee3": {
     "model_module": "@jupyter-widgets/controls",
     "model_module_version": "1.5.0",
     "model_name": "DescriptionStyleModel",
     "state": {
      "_model_module": "@jupyter-widgets/controls",
      "_model_module_version": "1.5.0",
      "_model_name": "DescriptionStyleModel",
      "_view_count": null,
      "_view_module": "@jupyter-widgets/base",
      "_view_module_version": "1.2.0",
      "_view_name": "StyleView",
      "description_width": ""
     }
    },
    "348d84f1bf9549ed891355c8bc827c86": {
     "model_module": "@jupyter-widgets/controls",
     "model_module_version": "1.5.0",
     "model_name": "HTMLModel",
     "state": {
      "_dom_classes": [],
      "_model_module": "@jupyter-widgets/controls",
      "_model_module_version": "1.5.0",
      "_model_name": "HTMLModel",
      "_view_count": null,
      "_view_module": "@jupyter-widgets/controls",
      "_view_module_version": "1.5.0",
      "_view_name": "HTMLView",
      "description": "",
      "description_tooltip": null,
      "layout": "IPY_MODEL_22631c16750d42528d7dcade0d4c25aa",
      "placeholder": "​",
      "style": "IPY_MODEL_f7ea95fadd7b440d837eaf247443912a",
      "value": "Render HTML: 100%"
     }
    },
    "35326bb513374f999df29846dd3fa5c1": {
     "model_module": "@jupyter-widgets/base",
     "model_module_version": "1.2.0",
     "model_name": "LayoutModel",
     "state": {
      "_model_module": "@jupyter-widgets/base",
      "_model_module_version": "1.2.0",
      "_model_name": "LayoutModel",
      "_view_count": null,
      "_view_module": "@jupyter-widgets/base",
      "_view_module_version": "1.2.0",
      "_view_name": "LayoutView",
      "align_content": null,
      "align_items": null,
      "align_self": null,
      "border": null,
      "bottom": null,
      "display": null,
      "flex": null,
      "flex_flow": null,
      "grid_area": null,
      "grid_auto_columns": null,
      "grid_auto_flow": null,
      "grid_auto_rows": null,
      "grid_column": null,
      "grid_gap": null,
      "grid_row": null,
      "grid_template_areas": null,
      "grid_template_columns": null,
      "grid_template_rows": null,
      "height": null,
      "justify_content": null,
      "justify_items": null,
      "left": null,
      "margin": null,
      "max_height": null,
      "max_width": null,
      "min_height": null,
      "min_width": null,
      "object_fit": null,
      "object_position": null,
      "order": null,
      "overflow": null,
      "overflow_x": null,
      "overflow_y": null,
      "padding": null,
      "right": null,
      "top": null,
      "visibility": null,
      "width": null
     }
    },
    "48db6317b87049cd81b45d72a781588f": {
     "model_module": "@jupyter-widgets/controls",
     "model_module_version": "1.5.0",
     "model_name": "DescriptionStyleModel",
     "state": {
      "_model_module": "@jupyter-widgets/controls",
      "_model_module_version": "1.5.0",
      "_model_name": "DescriptionStyleModel",
      "_view_count": null,
      "_view_module": "@jupyter-widgets/base",
      "_view_module_version": "1.2.0",
      "_view_name": "StyleView",
      "description_width": ""
     }
    },
    "50861ea913b5491d980a37032fa20015": {
     "model_module": "@jupyter-widgets/controls",
     "model_module_version": "1.5.0",
     "model_name": "DescriptionStyleModel",
     "state": {
      "_model_module": "@jupyter-widgets/controls",
      "_model_module_version": "1.5.0",
      "_model_name": "DescriptionStyleModel",
      "_view_count": null,
      "_view_module": "@jupyter-widgets/base",
      "_view_module_version": "1.2.0",
      "_view_name": "StyleView",
      "description_width": ""
     }
    },
    "50d93249e6d3408da53378e05b4f93ef": {
     "model_module": "@jupyter-widgets/base",
     "model_module_version": "1.2.0",
     "model_name": "LayoutModel",
     "state": {
      "_model_module": "@jupyter-widgets/base",
      "_model_module_version": "1.2.0",
      "_model_name": "LayoutModel",
      "_view_count": null,
      "_view_module": "@jupyter-widgets/base",
      "_view_module_version": "1.2.0",
      "_view_name": "LayoutView",
      "align_content": null,
      "align_items": null,
      "align_self": null,
      "border": null,
      "bottom": null,
      "display": null,
      "flex": null,
      "flex_flow": null,
      "grid_area": null,
      "grid_auto_columns": null,
      "grid_auto_flow": null,
      "grid_auto_rows": null,
      "grid_column": null,
      "grid_gap": null,
      "grid_row": null,
      "grid_template_areas": null,
      "grid_template_columns": null,
      "grid_template_rows": null,
      "height": null,
      "justify_content": null,
      "justify_items": null,
      "left": null,
      "margin": null,
      "max_height": null,
      "max_width": null,
      "min_height": null,
      "min_width": null,
      "object_fit": null,
      "object_position": null,
      "order": null,
      "overflow": null,
      "overflow_x": null,
      "overflow_y": null,
      "padding": null,
      "right": null,
      "top": null,
      "visibility": null,
      "width": null
     }
    },
    "59de0090fb7b4327bf2524470e1578f5": {
     "model_module": "@jupyter-widgets/controls",
     "model_module_version": "1.5.0",
     "model_name": "HTMLModel",
     "state": {
      "_dom_classes": [],
      "_model_module": "@jupyter-widgets/controls",
      "_model_module_version": "1.5.0",
      "_model_name": "HTMLModel",
      "_view_count": null,
      "_view_module": "@jupyter-widgets/controls",
      "_view_module_version": "1.5.0",
      "_view_name": "HTMLView",
      "description": "",
      "description_tooltip": null,
      "layout": "IPY_MODEL_8da4f69f31bd4e7d822e7b85acb810ed",
      "placeholder": "​",
      "style": "IPY_MODEL_48db6317b87049cd81b45d72a781588f",
      "value": "Summarize dataset: 100%"
     }
    },
    "5e998505692646cd8dce1075cba75ffa": {
     "model_module": "@jupyter-widgets/controls",
     "model_module_version": "1.5.0",
     "model_name": "HBoxModel",
     "state": {
      "_dom_classes": [],
      "_model_module": "@jupyter-widgets/controls",
      "_model_module_version": "1.5.0",
      "_model_name": "HBoxModel",
      "_view_count": null,
      "_view_module": "@jupyter-widgets/controls",
      "_view_module_version": "1.5.0",
      "_view_name": "HBoxView",
      "box_style": "",
      "children": [
       "IPY_MODEL_5f906cd1c8bc4f4db6c4e3889ed1e799",
       "IPY_MODEL_fb2e57ef3fad4ddc900c98b6e3369734",
       "IPY_MODEL_0f039ac8fdf944a999bc31e9729a4c00"
      ],
      "layout": "IPY_MODEL_9b42f6eca91a40c98e439fb60718a866"
     }
    },
    "5f906cd1c8bc4f4db6c4e3889ed1e799": {
     "model_module": "@jupyter-widgets/controls",
     "model_module_version": "1.5.0",
     "model_name": "HTMLModel",
     "state": {
      "_dom_classes": [],
      "_model_module": "@jupyter-widgets/controls",
      "_model_module_version": "1.5.0",
      "_model_name": "HTMLModel",
      "_view_count": null,
      "_view_module": "@jupyter-widgets/controls",
      "_view_module_version": "1.5.0",
      "_view_name": "HTMLView",
      "description": "",
      "description_tooltip": null,
      "layout": "IPY_MODEL_12c999c0bbea4601babd4c431e337ee9",
      "placeholder": "​",
      "style": "IPY_MODEL_7c11a399fb9d496483cc6de6d3ccdca9",
      "value": "Export report to file: 100%"
     }
    },
    "61d627b96feb484dbb8bdc99cfdef579": {
     "model_module": "@jupyter-widgets/base",
     "model_module_version": "1.2.0",
     "model_name": "LayoutModel",
     "state": {
      "_model_module": "@jupyter-widgets/base",
      "_model_module_version": "1.2.0",
      "_model_name": "LayoutModel",
      "_view_count": null,
      "_view_module": "@jupyter-widgets/base",
      "_view_module_version": "1.2.0",
      "_view_name": "LayoutView",
      "align_content": null,
      "align_items": null,
      "align_self": null,
      "border": null,
      "bottom": null,
      "display": null,
      "flex": null,
      "flex_flow": null,
      "grid_area": null,
      "grid_auto_columns": null,
      "grid_auto_flow": null,
      "grid_auto_rows": null,
      "grid_column": null,
      "grid_gap": null,
      "grid_row": null,
      "grid_template_areas": null,
      "grid_template_columns": null,
      "grid_template_rows": null,
      "height": null,
      "justify_content": null,
      "justify_items": null,
      "left": null,
      "margin": null,
      "max_height": null,
      "max_width": null,
      "min_height": null,
      "min_width": null,
      "object_fit": null,
      "object_position": null,
      "order": null,
      "overflow": null,
      "overflow_x": null,
      "overflow_y": null,
      "padding": null,
      "right": null,
      "top": null,
      "visibility": null,
      "width": null
     }
    },
    "6a4b95c58fec4fd1a8df6f8daa2c4690": {
     "model_module": "@jupyter-widgets/controls",
     "model_module_version": "1.5.0",
     "model_name": "DescriptionStyleModel",
     "state": {
      "_model_module": "@jupyter-widgets/controls",
      "_model_module_version": "1.5.0",
      "_model_name": "DescriptionStyleModel",
      "_view_count": null,
      "_view_module": "@jupyter-widgets/base",
      "_view_module_version": "1.2.0",
      "_view_name": "StyleView",
      "description_width": ""
     }
    },
    "6e448f86b9a1438eb52ce8994f5faa6a": {
     "model_module": "@jupyter-widgets/base",
     "model_module_version": "1.2.0",
     "model_name": "LayoutModel",
     "state": {
      "_model_module": "@jupyter-widgets/base",
      "_model_module_version": "1.2.0",
      "_model_name": "LayoutModel",
      "_view_count": null,
      "_view_module": "@jupyter-widgets/base",
      "_view_module_version": "1.2.0",
      "_view_name": "LayoutView",
      "align_content": null,
      "align_items": null,
      "align_self": null,
      "border": null,
      "bottom": null,
      "display": null,
      "flex": null,
      "flex_flow": null,
      "grid_area": null,
      "grid_auto_columns": null,
      "grid_auto_flow": null,
      "grid_auto_rows": null,
      "grid_column": null,
      "grid_gap": null,
      "grid_row": null,
      "grid_template_areas": null,
      "grid_template_columns": null,
      "grid_template_rows": null,
      "height": null,
      "justify_content": null,
      "justify_items": null,
      "left": null,
      "margin": null,
      "max_height": null,
      "max_width": null,
      "min_height": null,
      "min_width": null,
      "object_fit": null,
      "object_position": null,
      "order": null,
      "overflow": null,
      "overflow_x": null,
      "overflow_y": null,
      "padding": null,
      "right": null,
      "top": null,
      "visibility": null,
      "width": null
     }
    },
    "743589d75bac44afb0b7c0e3f3767b4c": {
     "model_module": "@jupyter-widgets/controls",
     "model_module_version": "1.5.0",
     "model_name": "DescriptionStyleModel",
     "state": {
      "_model_module": "@jupyter-widgets/controls",
      "_model_module_version": "1.5.0",
      "_model_name": "DescriptionStyleModel",
      "_view_count": null,
      "_view_module": "@jupyter-widgets/base",
      "_view_module_version": "1.2.0",
      "_view_name": "StyleView",
      "description_width": ""
     }
    },
    "74db0955422848f2aff50a60477cd64a": {
     "model_module": "@jupyter-widgets/controls",
     "model_module_version": "1.5.0",
     "model_name": "FloatProgressModel",
     "state": {
      "_dom_classes": [],
      "_model_module": "@jupyter-widgets/controls",
      "_model_module_version": "1.5.0",
      "_model_name": "FloatProgressModel",
      "_view_count": null,
      "_view_module": "@jupyter-widgets/controls",
      "_view_module_version": "1.5.0",
      "_view_name": "ProgressView",
      "bar_style": "success",
      "description": "",
      "description_tooltip": null,
      "layout": "IPY_MODEL_6e448f86b9a1438eb52ce8994f5faa6a",
      "max": 5,
      "min": 0,
      "orientation": "horizontal",
      "style": "IPY_MODEL_abae6af1e9ef40a9bd6495f7d94c3443",
      "value": 5
     }
    },
    "7592fa68ad2949f2b1611726c4372228": {
     "model_module": "@jupyter-widgets/base",
     "model_module_version": "1.2.0",
     "model_name": "LayoutModel",
     "state": {
      "_model_module": "@jupyter-widgets/base",
      "_model_module_version": "1.2.0",
      "_model_name": "LayoutModel",
      "_view_count": null,
      "_view_module": "@jupyter-widgets/base",
      "_view_module_version": "1.2.0",
      "_view_name": "LayoutView",
      "align_content": null,
      "align_items": null,
      "align_self": null,
      "border": null,
      "bottom": null,
      "display": null,
      "flex": null,
      "flex_flow": null,
      "grid_area": null,
      "grid_auto_columns": null,
      "grid_auto_flow": null,
      "grid_auto_rows": null,
      "grid_column": null,
      "grid_gap": null,
      "grid_row": null,
      "grid_template_areas": null,
      "grid_template_columns": null,
      "grid_template_rows": null,
      "height": null,
      "justify_content": null,
      "justify_items": null,
      "left": null,
      "margin": null,
      "max_height": null,
      "max_width": null,
      "min_height": null,
      "min_width": null,
      "object_fit": null,
      "object_position": null,
      "order": null,
      "overflow": null,
      "overflow_x": null,
      "overflow_y": null,
      "padding": null,
      "right": null,
      "top": null,
      "visibility": null,
      "width": null
     }
    },
    "77794420db284672af2ded3b8a8b38e3": {
     "model_module": "@jupyter-widgets/controls",
     "model_module_version": "1.5.0",
     "model_name": "HBoxModel",
     "state": {
      "_dom_classes": [],
      "_model_module": "@jupyter-widgets/controls",
      "_model_module_version": "1.5.0",
      "_model_name": "HBoxModel",
      "_view_count": null,
      "_view_module": "@jupyter-widgets/controls",
      "_view_module_version": "1.5.0",
      "_view_name": "HBoxView",
      "box_style": "",
      "children": [
       "IPY_MODEL_59de0090fb7b4327bf2524470e1578f5",
       "IPY_MODEL_74db0955422848f2aff50a60477cd64a",
       "IPY_MODEL_bca0582949074d9a8dd7c2c28dac3da9"
      ],
      "layout": "IPY_MODEL_e818a751cd6243dbae768e47d13459bd"
     }
    },
    "7c11a399fb9d496483cc6de6d3ccdca9": {
     "model_module": "@jupyter-widgets/controls",
     "model_module_version": "1.5.0",
     "model_name": "DescriptionStyleModel",
     "state": {
      "_model_module": "@jupyter-widgets/controls",
      "_model_module_version": "1.5.0",
      "_model_name": "DescriptionStyleModel",
      "_view_count": null,
      "_view_module": "@jupyter-widgets/base",
      "_view_module_version": "1.2.0",
      "_view_name": "StyleView",
      "description_width": ""
     }
    },
    "7cfecd808bc34f3a8dbc51b934c07061": {
     "model_module": "@jupyter-widgets/controls",
     "model_module_version": "1.5.0",
     "model_name": "HTMLModel",
     "state": {
      "_dom_classes": [],
      "_model_module": "@jupyter-widgets/controls",
      "_model_module_version": "1.5.0",
      "_model_name": "HTMLModel",
      "_view_count": null,
      "_view_module": "@jupyter-widgets/controls",
      "_view_module_version": "1.5.0",
      "_view_name": "HTMLView",
      "description": "",
      "description_tooltip": null,
      "layout": "IPY_MODEL_05d013afb5d24f7085a1a86cec3aceee",
      "placeholder": "​",
      "style": "IPY_MODEL_6a4b95c58fec4fd1a8df6f8daa2c4690",
      "value": " 1/1 [00:02&lt;00:00,  2.38s/it]"
     }
    },
    "895edce721244404aa3449ab4a63780c": {
     "model_module": "@jupyter-widgets/controls",
     "model_module_version": "1.5.0",
     "model_name": "ProgressStyleModel",
     "state": {
      "_model_module": "@jupyter-widgets/controls",
      "_model_module_version": "1.5.0",
      "_model_name": "ProgressStyleModel",
      "_view_count": null,
      "_view_module": "@jupyter-widgets/base",
      "_view_module_version": "1.2.0",
      "_view_name": "StyleView",
      "bar_color": null,
      "description_width": ""
     }
    },
    "8da4f69f31bd4e7d822e7b85acb810ed": {
     "model_module": "@jupyter-widgets/base",
     "model_module_version": "1.2.0",
     "model_name": "LayoutModel",
     "state": {
      "_model_module": "@jupyter-widgets/base",
      "_model_module_version": "1.2.0",
      "_model_name": "LayoutModel",
      "_view_count": null,
      "_view_module": "@jupyter-widgets/base",
      "_view_module_version": "1.2.0",
      "_view_name": "LayoutView",
      "align_content": null,
      "align_items": null,
      "align_self": null,
      "border": null,
      "bottom": null,
      "display": null,
      "flex": null,
      "flex_flow": null,
      "grid_area": null,
      "grid_auto_columns": null,
      "grid_auto_flow": null,
      "grid_auto_rows": null,
      "grid_column": null,
      "grid_gap": null,
      "grid_row": null,
      "grid_template_areas": null,
      "grid_template_columns": null,
      "grid_template_rows": null,
      "height": null,
      "justify_content": null,
      "justify_items": null,
      "left": null,
      "margin": null,
      "max_height": null,
      "max_width": null,
      "min_height": null,
      "min_width": null,
      "object_fit": null,
      "object_position": null,
      "order": null,
      "overflow": null,
      "overflow_x": null,
      "overflow_y": null,
      "padding": null,
      "right": null,
      "top": null,
      "visibility": null,
      "width": null
     }
    },
    "9a3752586e9446c5ab5451866127feaa": {
     "model_module": "@jupyter-widgets/controls",
     "model_module_version": "1.5.0",
     "model_name": "ProgressStyleModel",
     "state": {
      "_model_module": "@jupyter-widgets/controls",
      "_model_module_version": "1.5.0",
      "_model_name": "ProgressStyleModel",
      "_view_count": null,
      "_view_module": "@jupyter-widgets/base",
      "_view_module_version": "1.2.0",
      "_view_name": "StyleView",
      "bar_color": null,
      "description_width": ""
     }
    },
    "9ad8806172da47fc81c100d4bfe8a63e": {
     "model_module": "@jupyter-widgets/controls",
     "model_module_version": "1.5.0",
     "model_name": "HTMLModel",
     "state": {
      "_dom_classes": [],
      "_model_module": "@jupyter-widgets/controls",
      "_model_module_version": "1.5.0",
      "_model_name": "HTMLModel",
      "_view_count": null,
      "_view_module": "@jupyter-widgets/controls",
      "_view_module_version": "1.5.0",
      "_view_name": "HTMLView",
      "description": "",
      "description_tooltip": null,
      "layout": "IPY_MODEL_fd214eefe883408aa025f096ea3ac1c6",
      "placeholder": "​",
      "style": "IPY_MODEL_30d9bf7e7b714c89bf0cc966f10ecee3",
      "value": " 1/1 [00:14&lt;00:00, 14.10s/it]"
     }
    },
    "9b42f6eca91a40c98e439fb60718a866": {
     "model_module": "@jupyter-widgets/base",
     "model_module_version": "1.2.0",
     "model_name": "LayoutModel",
     "state": {
      "_model_module": "@jupyter-widgets/base",
      "_model_module_version": "1.2.0",
      "_model_name": "LayoutModel",
      "_view_count": null,
      "_view_module": "@jupyter-widgets/base",
      "_view_module_version": "1.2.0",
      "_view_name": "LayoutView",
      "align_content": null,
      "align_items": null,
      "align_self": null,
      "border": null,
      "bottom": null,
      "display": null,
      "flex": null,
      "flex_flow": null,
      "grid_area": null,
      "grid_auto_columns": null,
      "grid_auto_flow": null,
      "grid_auto_rows": null,
      "grid_column": null,
      "grid_gap": null,
      "grid_row": null,
      "grid_template_areas": null,
      "grid_template_columns": null,
      "grid_template_rows": null,
      "height": null,
      "justify_content": null,
      "justify_items": null,
      "left": null,
      "margin": null,
      "max_height": null,
      "max_width": null,
      "min_height": null,
      "min_width": null,
      "object_fit": null,
      "object_position": null,
      "order": null,
      "overflow": null,
      "overflow_x": null,
      "overflow_y": null,
      "padding": null,
      "right": null,
      "top": null,
      "visibility": null,
      "width": null
     }
    },
    "9f4957ebef38445fb5b4e92261d6ebb1": {
     "model_module": "@jupyter-widgets/base",
     "model_module_version": "1.2.0",
     "model_name": "LayoutModel",
     "state": {
      "_model_module": "@jupyter-widgets/base",
      "_model_module_version": "1.2.0",
      "_model_name": "LayoutModel",
      "_view_count": null,
      "_view_module": "@jupyter-widgets/base",
      "_view_module_version": "1.2.0",
      "_view_name": "LayoutView",
      "align_content": null,
      "align_items": null,
      "align_self": null,
      "border": null,
      "bottom": null,
      "display": null,
      "flex": null,
      "flex_flow": null,
      "grid_area": null,
      "grid_auto_columns": null,
      "grid_auto_flow": null,
      "grid_auto_rows": null,
      "grid_column": null,
      "grid_gap": null,
      "grid_row": null,
      "grid_template_areas": null,
      "grid_template_columns": null,
      "grid_template_rows": null,
      "height": null,
      "justify_content": null,
      "justify_items": null,
      "left": null,
      "margin": null,
      "max_height": null,
      "max_width": null,
      "min_height": null,
      "min_width": null,
      "object_fit": null,
      "object_position": null,
      "order": null,
      "overflow": null,
      "overflow_x": null,
      "overflow_y": null,
      "padding": null,
      "right": null,
      "top": null,
      "visibility": null,
      "width": null
     }
    },
    "a17b9045d4df49adb4df93f9f1d0917c": {
     "model_module": "@jupyter-widgets/base",
     "model_module_version": "1.2.0",
     "model_name": "LayoutModel",
     "state": {
      "_model_module": "@jupyter-widgets/base",
      "_model_module_version": "1.2.0",
      "_model_name": "LayoutModel",
      "_view_count": null,
      "_view_module": "@jupyter-widgets/base",
      "_view_module_version": "1.2.0",
      "_view_name": "LayoutView",
      "align_content": null,
      "align_items": null,
      "align_self": null,
      "border": null,
      "bottom": null,
      "display": null,
      "flex": null,
      "flex_flow": null,
      "grid_area": null,
      "grid_auto_columns": null,
      "grid_auto_flow": null,
      "grid_auto_rows": null,
      "grid_column": null,
      "grid_gap": null,
      "grid_row": null,
      "grid_template_areas": null,
      "grid_template_columns": null,
      "grid_template_rows": null,
      "height": null,
      "justify_content": null,
      "justify_items": null,
      "left": null,
      "margin": null,
      "max_height": null,
      "max_width": null,
      "min_height": null,
      "min_width": null,
      "object_fit": null,
      "object_position": null,
      "order": null,
      "overflow": null,
      "overflow_x": null,
      "overflow_y": null,
      "padding": null,
      "right": null,
      "top": null,
      "visibility": null,
      "width": null
     }
    },
    "a54ec1f20de84e20a87c1be1bef9bf2a": {
     "model_module": "@jupyter-widgets/base",
     "model_module_version": "1.2.0",
     "model_name": "LayoutModel",
     "state": {
      "_model_module": "@jupyter-widgets/base",
      "_model_module_version": "1.2.0",
      "_model_name": "LayoutModel",
      "_view_count": null,
      "_view_module": "@jupyter-widgets/base",
      "_view_module_version": "1.2.0",
      "_view_name": "LayoutView",
      "align_content": null,
      "align_items": null,
      "align_self": null,
      "border": null,
      "bottom": null,
      "display": null,
      "flex": null,
      "flex_flow": null,
      "grid_area": null,
      "grid_auto_columns": null,
      "grid_auto_flow": null,
      "grid_auto_rows": null,
      "grid_column": null,
      "grid_gap": null,
      "grid_row": null,
      "grid_template_areas": null,
      "grid_template_columns": null,
      "grid_template_rows": null,
      "height": null,
      "justify_content": null,
      "justify_items": null,
      "left": null,
      "margin": null,
      "max_height": null,
      "max_width": null,
      "min_height": null,
      "min_width": null,
      "object_fit": null,
      "object_position": null,
      "order": null,
      "overflow": null,
      "overflow_x": null,
      "overflow_y": null,
      "padding": null,
      "right": null,
      "top": null,
      "visibility": null,
      "width": null
     }
    },
    "abae6af1e9ef40a9bd6495f7d94c3443": {
     "model_module": "@jupyter-widgets/controls",
     "model_module_version": "1.5.0",
     "model_name": "ProgressStyleModel",
     "state": {
      "_model_module": "@jupyter-widgets/controls",
      "_model_module_version": "1.5.0",
      "_model_name": "ProgressStyleModel",
      "_view_count": null,
      "_view_module": "@jupyter-widgets/base",
      "_view_module_version": "1.2.0",
      "_view_name": "StyleView",
      "bar_color": null,
      "description_width": ""
     }
    },
    "bca0582949074d9a8dd7c2c28dac3da9": {
     "model_module": "@jupyter-widgets/controls",
     "model_module_version": "1.5.0",
     "model_name": "HTMLModel",
     "state": {
      "_dom_classes": [],
      "_model_module": "@jupyter-widgets/controls",
      "_model_module_version": "1.5.0",
      "_model_name": "HTMLModel",
      "_view_count": null,
      "_view_module": "@jupyter-widgets/controls",
      "_view_module_version": "1.5.0",
      "_view_name": "HTMLView",
      "description": "",
      "description_tooltip": null,
      "layout": "IPY_MODEL_a54ec1f20de84e20a87c1be1bef9bf2a",
      "placeholder": "​",
      "style": "IPY_MODEL_50861ea913b5491d980a37032fa20015",
      "value": " 90/90 [00:27&lt;00:00,  2.94it/s, Completed]"
     }
    },
    "cc065289e42f4b2cae582672e692a122": {
     "model_module": "@jupyter-widgets/base",
     "model_module_version": "1.2.0",
     "model_name": "LayoutModel",
     "state": {
      "_model_module": "@jupyter-widgets/base",
      "_model_module_version": "1.2.0",
      "_model_name": "LayoutModel",
      "_view_count": null,
      "_view_module": "@jupyter-widgets/base",
      "_view_module_version": "1.2.0",
      "_view_name": "LayoutView",
      "align_content": null,
      "align_items": null,
      "align_self": null,
      "border": null,
      "bottom": null,
      "display": null,
      "flex": null,
      "flex_flow": null,
      "grid_area": null,
      "grid_auto_columns": null,
      "grid_auto_flow": null,
      "grid_auto_rows": null,
      "grid_column": null,
      "grid_gap": null,
      "grid_row": null,
      "grid_template_areas": null,
      "grid_template_columns": null,
      "grid_template_rows": null,
      "height": null,
      "justify_content": null,
      "justify_items": null,
      "left": null,
      "margin": null,
      "max_height": null,
      "max_width": null,
      "min_height": null,
      "min_width": null,
      "object_fit": null,
      "object_position": null,
      "order": null,
      "overflow": null,
      "overflow_x": null,
      "overflow_y": null,
      "padding": null,
      "right": null,
      "top": null,
      "visibility": null,
      "width": null
     }
    },
    "d77bec0c7a2b4c1da18890785b0482d5": {
     "model_module": "@jupyter-widgets/controls",
     "model_module_version": "1.5.0",
     "model_name": "HTMLModel",
     "state": {
      "_dom_classes": [],
      "_model_module": "@jupyter-widgets/controls",
      "_model_module_version": "1.5.0",
      "_model_name": "HTMLModel",
      "_view_count": null,
      "_view_module": "@jupyter-widgets/controls",
      "_view_module_version": "1.5.0",
      "_view_name": "HTMLView",
      "description": "",
      "description_tooltip": null,
      "layout": "IPY_MODEL_9f4957ebef38445fb5b4e92261d6ebb1",
      "placeholder": "​",
      "style": "IPY_MODEL_743589d75bac44afb0b7c0e3f3767b4c",
      "value": "Generate report structure: 100%"
     }
    },
    "daa300ea26ec400db2d009e51603211e": {
     "model_module": "@jupyter-widgets/controls",
     "model_module_version": "1.5.0",
     "model_name": "FloatProgressModel",
     "state": {
      "_dom_classes": [],
      "_model_module": "@jupyter-widgets/controls",
      "_model_module_version": "1.5.0",
      "_model_name": "FloatProgressModel",
      "_view_count": null,
      "_view_module": "@jupyter-widgets/controls",
      "_view_module_version": "1.5.0",
      "_view_name": "ProgressView",
      "bar_style": "success",
      "description": "",
      "description_tooltip": null,
      "layout": "IPY_MODEL_7592fa68ad2949f2b1611726c4372228",
      "max": 1,
      "min": 0,
      "orientation": "horizontal",
      "style": "IPY_MODEL_fabd100b6ec14f2d9d6ed488263c9d8a",
      "value": 1
     }
    },
    "e064a6394dc84b7aaf4aff2735c733cf": {
     "model_module": "@jupyter-widgets/controls",
     "model_module_version": "1.5.0",
     "model_name": "HBoxModel",
     "state": {
      "_dom_classes": [],
      "_model_module": "@jupyter-widgets/controls",
      "_model_module_version": "1.5.0",
      "_model_name": "HBoxModel",
      "_view_count": null,
      "_view_module": "@jupyter-widgets/controls",
      "_view_module_version": "1.5.0",
      "_view_name": "HBoxView",
      "box_style": "",
      "children": [
       "IPY_MODEL_d77bec0c7a2b4c1da18890785b0482d5",
       "IPY_MODEL_daa300ea26ec400db2d009e51603211e",
       "IPY_MODEL_9ad8806172da47fc81c100d4bfe8a63e"
      ],
      "layout": "IPY_MODEL_61d627b96feb484dbb8bdc99cfdef579"
     }
    },
    "e818a751cd6243dbae768e47d13459bd": {
     "model_module": "@jupyter-widgets/base",
     "model_module_version": "1.2.0",
     "model_name": "LayoutModel",
     "state": {
      "_model_module": "@jupyter-widgets/base",
      "_model_module_version": "1.2.0",
      "_model_name": "LayoutModel",
      "_view_count": null,
      "_view_module": "@jupyter-widgets/base",
      "_view_module_version": "1.2.0",
      "_view_name": "LayoutView",
      "align_content": null,
      "align_items": null,
      "align_self": null,
      "border": null,
      "bottom": null,
      "display": null,
      "flex": null,
      "flex_flow": null,
      "grid_area": null,
      "grid_auto_columns": null,
      "grid_auto_flow": null,
      "grid_auto_rows": null,
      "grid_column": null,
      "grid_gap": null,
      "grid_row": null,
      "grid_template_areas": null,
      "grid_template_columns": null,
      "grid_template_rows": null,
      "height": null,
      "justify_content": null,
      "justify_items": null,
      "left": null,
      "margin": null,
      "max_height": null,
      "max_width": null,
      "min_height": null,
      "min_width": null,
      "object_fit": null,
      "object_position": null,
      "order": null,
      "overflow": null,
      "overflow_x": null,
      "overflow_y": null,
      "padding": null,
      "right": null,
      "top": null,
      "visibility": null,
      "width": null
     }
    },
    "f7ea95fadd7b440d837eaf247443912a": {
     "model_module": "@jupyter-widgets/controls",
     "model_module_version": "1.5.0",
     "model_name": "DescriptionStyleModel",
     "state": {
      "_model_module": "@jupyter-widgets/controls",
      "_model_module_version": "1.5.0",
      "_model_name": "DescriptionStyleModel",
      "_view_count": null,
      "_view_module": "@jupyter-widgets/base",
      "_view_module_version": "1.2.0",
      "_view_name": "StyleView",
      "description_width": ""
     }
    },
    "fabd100b6ec14f2d9d6ed488263c9d8a": {
     "model_module": "@jupyter-widgets/controls",
     "model_module_version": "1.5.0",
     "model_name": "ProgressStyleModel",
     "state": {
      "_model_module": "@jupyter-widgets/controls",
      "_model_module_version": "1.5.0",
      "_model_name": "ProgressStyleModel",
      "_view_count": null,
      "_view_module": "@jupyter-widgets/base",
      "_view_module_version": "1.2.0",
      "_view_name": "StyleView",
      "bar_color": null,
      "description_width": ""
     }
    },
    "fb2e57ef3fad4ddc900c98b6e3369734": {
     "model_module": "@jupyter-widgets/controls",
     "model_module_version": "1.5.0",
     "model_name": "FloatProgressModel",
     "state": {
      "_dom_classes": [],
      "_model_module": "@jupyter-widgets/controls",
      "_model_module_version": "1.5.0",
      "_model_name": "FloatProgressModel",
      "_view_count": null,
      "_view_module": "@jupyter-widgets/controls",
      "_view_module_version": "1.5.0",
      "_view_name": "ProgressView",
      "bar_style": "success",
      "description": "",
      "description_tooltip": null,
      "layout": "IPY_MODEL_35326bb513374f999df29846dd3fa5c1",
      "max": 1,
      "min": 0,
      "orientation": "horizontal",
      "style": "IPY_MODEL_9a3752586e9446c5ab5451866127feaa",
      "value": 1
     }
    },
    "fd214eefe883408aa025f096ea3ac1c6": {
     "model_module": "@jupyter-widgets/base",
     "model_module_version": "1.2.0",
     "model_name": "LayoutModel",
     "state": {
      "_model_module": "@jupyter-widgets/base",
      "_model_module_version": "1.2.0",
      "_model_name": "LayoutModel",
      "_view_count": null,
      "_view_module": "@jupyter-widgets/base",
      "_view_module_version": "1.2.0",
      "_view_name": "LayoutView",
      "align_content": null,
      "align_items": null,
      "align_self": null,
      "border": null,
      "bottom": null,
      "display": null,
      "flex": null,
      "flex_flow": null,
      "grid_area": null,
      "grid_auto_columns": null,
      "grid_auto_flow": null,
      "grid_auto_rows": null,
      "grid_column": null,
      "grid_gap": null,
      "grid_row": null,
      "grid_template_areas": null,
      "grid_template_columns": null,
      "grid_template_rows": null,
      "height": null,
      "justify_content": null,
      "justify_items": null,
      "left": null,
      "margin": null,
      "max_height": null,
      "max_width": null,
      "min_height": null,
      "min_width": null,
      "object_fit": null,
      "object_position": null,
      "order": null,
      "overflow": null,
      "overflow_x": null,
      "overflow_y": null,
      "padding": null,
      "right": null,
      "top": null,
      "visibility": null,
      "width": null
     }
    }
   }
  }
 },
 "nbformat": 4,
 "nbformat_minor": 4
}
