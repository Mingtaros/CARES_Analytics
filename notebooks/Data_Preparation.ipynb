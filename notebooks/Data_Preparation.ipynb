{
 "cells": [
  {
   "cell_type": "markdown",
   "metadata": {
    "id": "qvEF6GI_MzL7"
   },
   "source": [
    "# Data Preparation\n",
    "- This notebook has not considered in dropping duplicates / handling missing value imputation\n",
    "- Unprocessed columns are:\n",
    "    - RCRI score\n",
    "    - Preoptransfusionwithin30days\n",
    "    - Intraop\n",
    "    - Postopwithin30days\n",
    "    - TransfusionIntraandpostopCategory\n",
    "    - Transfusionintraandpostop\n",
    "    - AnaestypeCategory"
   ]
  },
  {
   "cell_type": "code",
   "execution_count": 82,
   "metadata": {
    "id": "ojyucFMDkpki"
   },
   "outputs": [],
   "source": [
    "import numpy as np\n",
    "import pandas as pd\n",
    "\n",
    "from tqdm.notebook import tqdm\n",
    "tqdm.pandas()"
   ]
  },
  {
   "cell_type": "code",
   "execution_count": 83,
   "metadata": {
    "colab": {
     "base_uri": "https://localhost:8080/",
     "height": 270
    },
    "id": "9qd8uBdokyh9",
    "outputId": "5d1b8e56-f6d6-48ef-9677-ef1198088d70"
   },
   "outputs": [
    {
     "data": {
      "text/html": [
       "<div>\n",
       "<style scoped>\n",
       "    .dataframe tbody tr th:only-of-type {\n",
       "        vertical-align: middle;\n",
       "    }\n",
       "\n",
       "    .dataframe tbody tr th {\n",
       "        vertical-align: top;\n",
       "    }\n",
       "\n",
       "    .dataframe thead th {\n",
       "        text-align: right;\n",
       "    }\n",
       "</style>\n",
       "<table border=\"1\" class=\"dataframe\">\n",
       "  <thead>\n",
       "    <tr style=\"text-align: right;\">\n",
       "      <th></th>\n",
       "      <th>Indexno</th>\n",
       "      <th>AGE</th>\n",
       "      <th>GENDER</th>\n",
       "      <th>RCRI score</th>\n",
       "      <th>Anemia category</th>\n",
       "      <th>PreopEGFRMDRD</th>\n",
       "      <th>GradeofKidneydisease</th>\n",
       "      <th>DaysbetweenDeathandoperation</th>\n",
       "      <th>@30daymortality</th>\n",
       "      <th>Preoptransfusionwithin30days</th>\n",
       "      <th>...</th>\n",
       "      <th>CVARCRICategory</th>\n",
       "      <th>IHDRCRICategory</th>\n",
       "      <th>CHFRCRICategory</th>\n",
       "      <th>DMinsulinRCRICategory</th>\n",
       "      <th>CreatinineRCRICategory</th>\n",
       "      <th>GradeofKidneyCategory</th>\n",
       "      <th>Anemiacategorybinned</th>\n",
       "      <th>RDW15.7</th>\n",
       "      <th>ASAcategorybinned</th>\n",
       "      <th>ICUAdmgt24h</th>\n",
       "    </tr>\n",
       "  </thead>\n",
       "  <tbody>\n",
       "    <tr>\n",
       "      <th>0</th>\n",
       "      <td>2</td>\n",
       "      <td>48.0</td>\n",
       "      <td>FEMALE</td>\n",
       "      <td>NaN</td>\n",
       "      <td>NaN</td>\n",
       "      <td>NaN</td>\n",
       "      <td>BLANK</td>\n",
       "      <td>NaN</td>\n",
       "      <td>NO</td>\n",
       "      <td>0.0</td>\n",
       "      <td>...</td>\n",
       "      <td>#NULL!</td>\n",
       "      <td>#NULL!</td>\n",
       "      <td>#NULL!</td>\n",
       "      <td>#NULL!</td>\n",
       "      <td>no</td>\n",
       "      <td>#NULL!</td>\n",
       "      <td>#NULL!</td>\n",
       "      <td>#NULL!</td>\n",
       "      <td>I</td>\n",
       "      <td>no</td>\n",
       "    </tr>\n",
       "    <tr>\n",
       "      <th>1</th>\n",
       "      <td>5</td>\n",
       "      <td>36.0</td>\n",
       "      <td>FEMALE</td>\n",
       "      <td>NaN</td>\n",
       "      <td>none</td>\n",
       "      <td>NaN</td>\n",
       "      <td>BLANK</td>\n",
       "      <td>NaN</td>\n",
       "      <td>NO</td>\n",
       "      <td>0.0</td>\n",
       "      <td>...</td>\n",
       "      <td>#NULL!</td>\n",
       "      <td>#NULL!</td>\n",
       "      <td>#NULL!</td>\n",
       "      <td>#NULL!</td>\n",
       "      <td>#NULL!</td>\n",
       "      <td>#NULL!</td>\n",
       "      <td>NaN</td>\n",
       "      <td>&lt;= 15.7</td>\n",
       "      <td>I</td>\n",
       "      <td>no</td>\n",
       "    </tr>\n",
       "    <tr>\n",
       "      <th>2</th>\n",
       "      <td>6</td>\n",
       "      <td>64.0</td>\n",
       "      <td>FEMALE</td>\n",
       "      <td>NaN</td>\n",
       "      <td>mild</td>\n",
       "      <td>152.538570</td>\n",
       "      <td>g1</td>\n",
       "      <td>NaN</td>\n",
       "      <td>NO</td>\n",
       "      <td>0.0</td>\n",
       "      <td>...</td>\n",
       "      <td>#NULL!</td>\n",
       "      <td>#NULL!</td>\n",
       "      <td>#NULL!</td>\n",
       "      <td>#NULL!</td>\n",
       "      <td>#NULL!</td>\n",
       "      <td>G1</td>\n",
       "      <td>Mild</td>\n",
       "      <td>&lt;= 15.7</td>\n",
       "      <td>I</td>\n",
       "      <td>no</td>\n",
       "    </tr>\n",
       "    <tr>\n",
       "      <th>3</th>\n",
       "      <td>9</td>\n",
       "      <td>73.0</td>\n",
       "      <td>MALE</td>\n",
       "      <td>NaN</td>\n",
       "      <td>moderate</td>\n",
       "      <td>117.231496</td>\n",
       "      <td>g1</td>\n",
       "      <td>NaN</td>\n",
       "      <td>NO</td>\n",
       "      <td>0.0</td>\n",
       "      <td>...</td>\n",
       "      <td>#NULL!</td>\n",
       "      <td>#NULL!</td>\n",
       "      <td>#NULL!</td>\n",
       "      <td>#NULL!</td>\n",
       "      <td>no</td>\n",
       "      <td>G1</td>\n",
       "      <td>Moderate/Severe</td>\n",
       "      <td>&lt;= 15.7</td>\n",
       "      <td>I</td>\n",
       "      <td>no</td>\n",
       "    </tr>\n",
       "    <tr>\n",
       "      <th>4</th>\n",
       "      <td>10</td>\n",
       "      <td>73.0</td>\n",
       "      <td>MALE</td>\n",
       "      <td>0.0</td>\n",
       "      <td>mild</td>\n",
       "      <td>98.651255</td>\n",
       "      <td>g1</td>\n",
       "      <td>59.0</td>\n",
       "      <td>NO</td>\n",
       "      <td>0.0</td>\n",
       "      <td>...</td>\n",
       "      <td>no</td>\n",
       "      <td>no</td>\n",
       "      <td>no</td>\n",
       "      <td>no</td>\n",
       "      <td>no</td>\n",
       "      <td>G1</td>\n",
       "      <td>Mild</td>\n",
       "      <td>&gt;15.7</td>\n",
       "      <td>II</td>\n",
       "      <td>no</td>\n",
       "    </tr>\n",
       "  </tbody>\n",
       "</table>\n",
       "<p>5 rows × 32 columns</p>\n",
       "</div>"
      ],
      "text/plain": [
       "  Indexno   AGE  GENDER  RCRI score Anemia category  PreopEGFRMDRD  \\\n",
       "0       2  48.0  FEMALE         NaN             NaN            NaN   \n",
       "1       5  36.0  FEMALE         NaN            none            NaN   \n",
       "2       6  64.0  FEMALE         NaN            mild     152.538570   \n",
       "3       9  73.0    MALE         NaN        moderate     117.231496   \n",
       "4      10  73.0    MALE         0.0            mild      98.651255   \n",
       "\n",
       "  GradeofKidneydisease  DaysbetweenDeathandoperation @30daymortality  \\\n",
       "0                BLANK                           NaN              NO   \n",
       "1                BLANK                           NaN              NO   \n",
       "2                   g1                           NaN              NO   \n",
       "3                   g1                           NaN              NO   \n",
       "4                   g1                          59.0              NO   \n",
       "\n",
       "   Preoptransfusionwithin30days  ...  CVARCRICategory  IHDRCRICategory  \\\n",
       "0                           0.0  ...           #NULL!           #NULL!   \n",
       "1                           0.0  ...           #NULL!           #NULL!   \n",
       "2                           0.0  ...           #NULL!           #NULL!   \n",
       "3                           0.0  ...           #NULL!           #NULL!   \n",
       "4                           0.0  ...               no               no   \n",
       "\n",
       "   CHFRCRICategory DMinsulinRCRICategory CreatinineRCRICategory  \\\n",
       "0           #NULL!                #NULL!                     no   \n",
       "1           #NULL!                #NULL!                 #NULL!   \n",
       "2           #NULL!                #NULL!                 #NULL!   \n",
       "3           #NULL!                #NULL!                     no   \n",
       "4               no                    no                     no   \n",
       "\n",
       "  GradeofKidneyCategory Anemiacategorybinned  RDW15.7 ASAcategorybinned  \\\n",
       "0                #NULL!               #NULL!   #NULL!                 I   \n",
       "1                #NULL!                  NaN  <= 15.7                 I   \n",
       "2                    G1                 Mild  <= 15.7                 I   \n",
       "3                    G1      Moderate/Severe  <= 15.7                 I   \n",
       "4                    G1                 Mild    >15.7                II   \n",
       "\n",
       "  ICUAdmgt24h  \n",
       "0          no  \n",
       "1          no  \n",
       "2          no  \n",
       "3          no  \n",
       "4          no  \n",
       "\n",
       "[5 rows x 32 columns]"
      ]
     },
     "execution_count": 83,
     "metadata": {},
     "output_type": "execute_result"
    }
   ],
   "source": [
    "cares_data_path = \"https://github.com/ISSS623-AHA/ISSS623_2024/raw/main/Group_Project/Group_Project-SGH/CARES_data.xlsx\"\n",
    "cares = pd.read_excel(cares_data_path, \"Sheet1\")\n",
    "cares.head()"
   ]
  },
  {
   "cell_type": "code",
   "execution_count": 84,
   "metadata": {
    "colab": {
     "base_uri": "https://localhost:8080/",
     "height": 287
    },
    "id": "5ImyE3TllzFL",
    "outputId": "a15efc51-241a-4389-8c50-a36a8278ca72"
   },
   "outputs": [
    {
     "data": {
      "text/html": [
       "<div>\n",
       "<style scoped>\n",
       "    .dataframe tbody tr th:only-of-type {\n",
       "        vertical-align: middle;\n",
       "    }\n",
       "\n",
       "    .dataframe tbody tr th {\n",
       "        vertical-align: top;\n",
       "    }\n",
       "\n",
       "    .dataframe thead th {\n",
       "        text-align: right;\n",
       "    }\n",
       "</style>\n",
       "<table border=\"1\" class=\"dataframe\">\n",
       "  <thead>\n",
       "    <tr style=\"text-align: right;\">\n",
       "      <th></th>\n",
       "      <th>Indexno</th>\n",
       "      <th>AGE</th>\n",
       "      <th>GENDER</th>\n",
       "      <th>RCRI score</th>\n",
       "      <th>Anemia category</th>\n",
       "      <th>PreopEGFRMDRD</th>\n",
       "      <th>GradeofKidneydisease</th>\n",
       "      <th>DaysbetweenDeathandoperation</th>\n",
       "      <th>@30daymortality</th>\n",
       "      <th>Preoptransfusionwithin30days</th>\n",
       "      <th>...</th>\n",
       "      <th>CVARCRICategory</th>\n",
       "      <th>IHDRCRICategory</th>\n",
       "      <th>CHFRCRICategory</th>\n",
       "      <th>DMinsulinRCRICategory</th>\n",
       "      <th>CreatinineRCRICategory</th>\n",
       "      <th>GradeofKidneyCategory</th>\n",
       "      <th>Anemiacategorybinned</th>\n",
       "      <th>RDW15.7</th>\n",
       "      <th>ASAcategorybinned</th>\n",
       "      <th>ICUAdmgt24h</th>\n",
       "    </tr>\n",
       "  </thead>\n",
       "  <tbody>\n",
       "    <tr>\n",
       "      <th>90783</th>\n",
       "      <td>121198</td>\n",
       "      <td>63.0</td>\n",
       "      <td>FEMALE</td>\n",
       "      <td>0.0</td>\n",
       "      <td>NaN</td>\n",
       "      <td>NaN</td>\n",
       "      <td>BLANK</td>\n",
       "      <td>NaN</td>\n",
       "      <td>NO</td>\n",
       "      <td>0.0</td>\n",
       "      <td>...</td>\n",
       "      <td>no</td>\n",
       "      <td>no</td>\n",
       "      <td>no</td>\n",
       "      <td>no</td>\n",
       "      <td>no</td>\n",
       "      <td>#NULL!</td>\n",
       "      <td>#NULL!</td>\n",
       "      <td>#NULL!</td>\n",
       "      <td>II</td>\n",
       "      <td>no</td>\n",
       "    </tr>\n",
       "    <tr>\n",
       "      <th>90784</th>\n",
       "      <td>121200</td>\n",
       "      <td>45.0</td>\n",
       "      <td>FEMALE</td>\n",
       "      <td>0.0</td>\n",
       "      <td>mild</td>\n",
       "      <td>125.902498</td>\n",
       "      <td>g1</td>\n",
       "      <td>NaN</td>\n",
       "      <td>NO</td>\n",
       "      <td>0.0</td>\n",
       "      <td>...</td>\n",
       "      <td>no</td>\n",
       "      <td>no</td>\n",
       "      <td>no</td>\n",
       "      <td>no</td>\n",
       "      <td>no</td>\n",
       "      <td>G1</td>\n",
       "      <td>Mild</td>\n",
       "      <td>&lt;= 15.7</td>\n",
       "      <td>II</td>\n",
       "      <td>no</td>\n",
       "    </tr>\n",
       "    <tr>\n",
       "      <th>90785</th>\n",
       "      <td>NaN</td>\n",
       "      <td>NaN</td>\n",
       "      <td>NaN</td>\n",
       "      <td>NaN</td>\n",
       "      <td>NaN</td>\n",
       "      <td>NaN</td>\n",
       "      <td>NaN</td>\n",
       "      <td>NaN</td>\n",
       "      <td>NaN</td>\n",
       "      <td>NaN</td>\n",
       "      <td>...</td>\n",
       "      <td>NaN</td>\n",
       "      <td>NaN</td>\n",
       "      <td>NaN</td>\n",
       "      <td>NaN</td>\n",
       "      <td>NaN</td>\n",
       "      <td>NaN</td>\n",
       "      <td>NaN</td>\n",
       "      <td>NaN</td>\n",
       "      <td>NaN</td>\n",
       "      <td>NaN</td>\n",
       "    </tr>\n",
       "    <tr>\n",
       "      <th>90786</th>\n",
       "      <td>NaN</td>\n",
       "      <td>NaN</td>\n",
       "      <td>NaN</td>\n",
       "      <td>NaN</td>\n",
       "      <td>NaN</td>\n",
       "      <td>NaN</td>\n",
       "      <td>NaN</td>\n",
       "      <td>NaN</td>\n",
       "      <td>NaN</td>\n",
       "      <td>NaN</td>\n",
       "      <td>...</td>\n",
       "      <td>NaN</td>\n",
       "      <td>NaN</td>\n",
       "      <td>NaN</td>\n",
       "      <td>NaN</td>\n",
       "      <td>NaN</td>\n",
       "      <td>NaN</td>\n",
       "      <td>NaN</td>\n",
       "      <td>NaN</td>\n",
       "      <td>NaN</td>\n",
       "      <td>NaN</td>\n",
       "    </tr>\n",
       "    <tr>\n",
       "      <th>90787</th>\n",
       "      <td>? Duplicates</td>\n",
       "      <td>NaN</td>\n",
       "      <td>NaN</td>\n",
       "      <td>NaN</td>\n",
       "      <td>NaN</td>\n",
       "      <td>NaN</td>\n",
       "      <td>NaN</td>\n",
       "      <td>NaN</td>\n",
       "      <td>NaN</td>\n",
       "      <td>NaN</td>\n",
       "      <td>...</td>\n",
       "      <td>NaN</td>\n",
       "      <td>NaN</td>\n",
       "      <td>NaN</td>\n",
       "      <td>NaN</td>\n",
       "      <td>NaN</td>\n",
       "      <td>NaN</td>\n",
       "      <td>NaN</td>\n",
       "      <td>NaN</td>\n",
       "      <td>NaN</td>\n",
       "      <td>NaN</td>\n",
       "    </tr>\n",
       "  </tbody>\n",
       "</table>\n",
       "<p>5 rows × 32 columns</p>\n",
       "</div>"
      ],
      "text/plain": [
       "            Indexno   AGE  GENDER  RCRI score Anemia category  PreopEGFRMDRD  \\\n",
       "90783        121198  63.0  FEMALE         0.0             NaN            NaN   \n",
       "90784        121200  45.0  FEMALE         0.0            mild     125.902498   \n",
       "90785           NaN   NaN     NaN         NaN             NaN            NaN   \n",
       "90786           NaN   NaN     NaN         NaN             NaN            NaN   \n",
       "90787  ? Duplicates   NaN     NaN         NaN             NaN            NaN   \n",
       "\n",
       "      GradeofKidneydisease  DaysbetweenDeathandoperation @30daymortality  \\\n",
       "90783                BLANK                           NaN              NO   \n",
       "90784                   g1                           NaN              NO   \n",
       "90785                  NaN                           NaN             NaN   \n",
       "90786                  NaN                           NaN             NaN   \n",
       "90787                  NaN                           NaN             NaN   \n",
       "\n",
       "       Preoptransfusionwithin30days  ...  CVARCRICategory  IHDRCRICategory  \\\n",
       "90783                           0.0  ...               no               no   \n",
       "90784                           0.0  ...               no               no   \n",
       "90785                           NaN  ...              NaN              NaN   \n",
       "90786                           NaN  ...              NaN              NaN   \n",
       "90787                           NaN  ...              NaN              NaN   \n",
       "\n",
       "       CHFRCRICategory DMinsulinRCRICategory CreatinineRCRICategory  \\\n",
       "90783               no                    no                     no   \n",
       "90784               no                    no                     no   \n",
       "90785              NaN                   NaN                    NaN   \n",
       "90786              NaN                   NaN                    NaN   \n",
       "90787              NaN                   NaN                    NaN   \n",
       "\n",
       "      GradeofKidneyCategory Anemiacategorybinned  RDW15.7 ASAcategorybinned  \\\n",
       "90783                #NULL!               #NULL!   #NULL!                II   \n",
       "90784                    G1                 Mild  <= 15.7                II   \n",
       "90785                   NaN                  NaN      NaN               NaN   \n",
       "90786                   NaN                  NaN      NaN               NaN   \n",
       "90787                   NaN                  NaN      NaN               NaN   \n",
       "\n",
       "      ICUAdmgt24h  \n",
       "90783          no  \n",
       "90784          no  \n",
       "90785         NaN  \n",
       "90786         NaN  \n",
       "90787         NaN  \n",
       "\n",
       "[5 rows x 32 columns]"
      ]
     },
     "execution_count": 84,
     "metadata": {},
     "output_type": "execute_result"
    }
   ],
   "source": [
    "cares.tail()"
   ]
  },
  {
   "cell_type": "code",
   "execution_count": 85,
   "metadata": {
    "colab": {
     "base_uri": "https://localhost:8080/"
    },
    "id": "-XF8Vcx1lzuX",
    "outputId": "a264c6ac-2cdc-4631-df04-470810d7fc73"
   },
   "outputs": [
    {
     "data": {
      "text/plain": [
       "(90788, 32)"
      ]
     },
     "execution_count": 85,
     "metadata": {},
     "output_type": "execute_result"
    }
   ],
   "source": [
    "cares.shape"
   ]
  },
  {
   "cell_type": "code",
   "execution_count": 86,
   "metadata": {
    "colab": {
     "base_uri": "https://localhost:8080/"
    },
    "id": "W0f9ns33y5d1",
    "outputId": "1b2a37b2-f084-40ac-edd4-87eaa388bd28"
   },
   "outputs": [
    {
     "data": {
      "text/plain": [
       "Index(['Indexno', 'AGE', 'GENDER', 'RCRI score', 'Anemia category',\n",
       "       'PreopEGFRMDRD', 'GradeofKidneydisease', 'DaysbetweenDeathandoperation',\n",
       "       '@30daymortality', 'Preoptransfusionwithin30days', 'Intraop',\n",
       "       'Postopwithin30days', 'Transfusionintraandpostop', 'AnaestypeCategory',\n",
       "       'PriorityCategory', 'TransfusionIntraandpostopCategory', 'AGEcategory',\n",
       "       'AGEcategoryOriginal', 'Mortality', 'thirtydaymortality',\n",
       "       'SurgRiskCategory', 'RaceCategory', 'CVARCRICategory',\n",
       "       'IHDRCRICategory', 'CHFRCRICategory', 'DMinsulinRCRICategory',\n",
       "       'CreatinineRCRICategory', 'GradeofKidneyCategory',\n",
       "       'Anemiacategorybinned', 'RDW15.7', 'ASAcategorybinned', 'ICUAdmgt24h'],\n",
       "      dtype='object')"
      ]
     },
     "execution_count": 86,
     "metadata": {},
     "output_type": "execute_result"
    }
   ],
   "source": [
    "cares.columns"
   ]
  },
  {
   "cell_type": "markdown",
   "metadata": {
    "id": "lTQOjoF4lEhh"
   },
   "source": [
    "## EDA"
   ]
  },
  {
   "cell_type": "code",
   "execution_count": 87,
   "metadata": {
    "colab": {
     "base_uri": "https://localhost:8080/",
     "height": 270
    },
    "id": "g3XLoOHmldhM",
    "outputId": "10ed2f21-d3c9-43cd-9179-852401d531ff"
   },
   "outputs": [
    {
     "data": {
      "text/html": [
       "<div>\n",
       "<style scoped>\n",
       "    .dataframe tbody tr th:only-of-type {\n",
       "        vertical-align: middle;\n",
       "    }\n",
       "\n",
       "    .dataframe tbody tr th {\n",
       "        vertical-align: top;\n",
       "    }\n",
       "\n",
       "    .dataframe thead th {\n",
       "        text-align: right;\n",
       "    }\n",
       "</style>\n",
       "<table border=\"1\" class=\"dataframe\">\n",
       "  <thead>\n",
       "    <tr style=\"text-align: right;\">\n",
       "      <th></th>\n",
       "      <th>Indexno</th>\n",
       "      <th>AGE</th>\n",
       "      <th>GENDER</th>\n",
       "      <th>RCRI score</th>\n",
       "      <th>Anemia category</th>\n",
       "      <th>PreopEGFRMDRD</th>\n",
       "      <th>GradeofKidneydisease</th>\n",
       "      <th>DaysbetweenDeathandoperation</th>\n",
       "      <th>@30daymortality</th>\n",
       "      <th>Preoptransfusionwithin30days</th>\n",
       "      <th>...</th>\n",
       "      <th>CVARCRICategory</th>\n",
       "      <th>IHDRCRICategory</th>\n",
       "      <th>CHFRCRICategory</th>\n",
       "      <th>DMinsulinRCRICategory</th>\n",
       "      <th>CreatinineRCRICategory</th>\n",
       "      <th>GradeofKidneyCategory</th>\n",
       "      <th>Anemiacategorybinned</th>\n",
       "      <th>RDW15.7</th>\n",
       "      <th>ASAcategorybinned</th>\n",
       "      <th>ICUAdmgt24h</th>\n",
       "    </tr>\n",
       "  </thead>\n",
       "  <tbody>\n",
       "    <tr>\n",
       "      <th>90780</th>\n",
       "      <td>121192</td>\n",
       "      <td>66.0</td>\n",
       "      <td>FEMALE</td>\n",
       "      <td>2.0</td>\n",
       "      <td>mild</td>\n",
       "      <td>48.339582</td>\n",
       "      <td>G3a</td>\n",
       "      <td>NaN</td>\n",
       "      <td>NO</td>\n",
       "      <td>0.0</td>\n",
       "      <td>...</td>\n",
       "      <td>no</td>\n",
       "      <td>no</td>\n",
       "      <td>no</td>\n",
       "      <td>yes</td>\n",
       "      <td>no</td>\n",
       "      <td>G3</td>\n",
       "      <td>Mild</td>\n",
       "      <td>&lt;= 15.7</td>\n",
       "      <td>II</td>\n",
       "      <td>no</td>\n",
       "    </tr>\n",
       "    <tr>\n",
       "      <th>90781</th>\n",
       "      <td>121194</td>\n",
       "      <td>50.0</td>\n",
       "      <td>MALE</td>\n",
       "      <td>1.0</td>\n",
       "      <td>moderate</td>\n",
       "      <td>126.592489</td>\n",
       "      <td>g1</td>\n",
       "      <td>NaN</td>\n",
       "      <td>NO</td>\n",
       "      <td>0.0</td>\n",
       "      <td>...</td>\n",
       "      <td>no</td>\n",
       "      <td>no</td>\n",
       "      <td>no</td>\n",
       "      <td>yes</td>\n",
       "      <td>no</td>\n",
       "      <td>G1</td>\n",
       "      <td>Moderate/Severe</td>\n",
       "      <td>&lt;= 15.7</td>\n",
       "      <td>#NULL!</td>\n",
       "      <td>no</td>\n",
       "    </tr>\n",
       "    <tr>\n",
       "      <th>90782</th>\n",
       "      <td>121197</td>\n",
       "      <td>58.0</td>\n",
       "      <td>FEMALE</td>\n",
       "      <td>NaN</td>\n",
       "      <td>none</td>\n",
       "      <td>86.306771</td>\n",
       "      <td>G2</td>\n",
       "      <td>NaN</td>\n",
       "      <td>NO</td>\n",
       "      <td>0.0</td>\n",
       "      <td>...</td>\n",
       "      <td>#NULL!</td>\n",
       "      <td>#NULL!</td>\n",
       "      <td>#NULL!</td>\n",
       "      <td>#NULL!</td>\n",
       "      <td>#NULL!</td>\n",
       "      <td>G2</td>\n",
       "      <td>NaN</td>\n",
       "      <td>&lt;= 15.7</td>\n",
       "      <td>#NULL!</td>\n",
       "      <td>no</td>\n",
       "    </tr>\n",
       "    <tr>\n",
       "      <th>90783</th>\n",
       "      <td>121198</td>\n",
       "      <td>63.0</td>\n",
       "      <td>FEMALE</td>\n",
       "      <td>0.0</td>\n",
       "      <td>NaN</td>\n",
       "      <td>NaN</td>\n",
       "      <td>BLANK</td>\n",
       "      <td>NaN</td>\n",
       "      <td>NO</td>\n",
       "      <td>0.0</td>\n",
       "      <td>...</td>\n",
       "      <td>no</td>\n",
       "      <td>no</td>\n",
       "      <td>no</td>\n",
       "      <td>no</td>\n",
       "      <td>no</td>\n",
       "      <td>#NULL!</td>\n",
       "      <td>#NULL!</td>\n",
       "      <td>#NULL!</td>\n",
       "      <td>II</td>\n",
       "      <td>no</td>\n",
       "    </tr>\n",
       "    <tr>\n",
       "      <th>90784</th>\n",
       "      <td>121200</td>\n",
       "      <td>45.0</td>\n",
       "      <td>FEMALE</td>\n",
       "      <td>0.0</td>\n",
       "      <td>mild</td>\n",
       "      <td>125.902498</td>\n",
       "      <td>g1</td>\n",
       "      <td>NaN</td>\n",
       "      <td>NO</td>\n",
       "      <td>0.0</td>\n",
       "      <td>...</td>\n",
       "      <td>no</td>\n",
       "      <td>no</td>\n",
       "      <td>no</td>\n",
       "      <td>no</td>\n",
       "      <td>no</td>\n",
       "      <td>G1</td>\n",
       "      <td>Mild</td>\n",
       "      <td>&lt;= 15.7</td>\n",
       "      <td>II</td>\n",
       "      <td>no</td>\n",
       "    </tr>\n",
       "  </tbody>\n",
       "</table>\n",
       "<p>5 rows × 32 columns</p>\n",
       "</div>"
      ],
      "text/plain": [
       "      Indexno   AGE  GENDER  RCRI score Anemia category  PreopEGFRMDRD  \\\n",
       "90780  121192  66.0  FEMALE         2.0            mild      48.339582   \n",
       "90781  121194  50.0    MALE         1.0        moderate     126.592489   \n",
       "90782  121197  58.0  FEMALE         NaN            none      86.306771   \n",
       "90783  121198  63.0  FEMALE         0.0             NaN            NaN   \n",
       "90784  121200  45.0  FEMALE         0.0            mild     125.902498   \n",
       "\n",
       "      GradeofKidneydisease  DaysbetweenDeathandoperation @30daymortality  \\\n",
       "90780                  G3a                           NaN              NO   \n",
       "90781                   g1                           NaN              NO   \n",
       "90782                   G2                           NaN              NO   \n",
       "90783                BLANK                           NaN              NO   \n",
       "90784                   g1                           NaN              NO   \n",
       "\n",
       "       Preoptransfusionwithin30days  ...  CVARCRICategory  IHDRCRICategory  \\\n",
       "90780                           0.0  ...               no               no   \n",
       "90781                           0.0  ...               no               no   \n",
       "90782                           0.0  ...           #NULL!           #NULL!   \n",
       "90783                           0.0  ...               no               no   \n",
       "90784                           0.0  ...               no               no   \n",
       "\n",
       "       CHFRCRICategory DMinsulinRCRICategory CreatinineRCRICategory  \\\n",
       "90780               no                   yes                     no   \n",
       "90781               no                   yes                     no   \n",
       "90782           #NULL!                #NULL!                 #NULL!   \n",
       "90783               no                    no                     no   \n",
       "90784               no                    no                     no   \n",
       "\n",
       "      GradeofKidneyCategory Anemiacategorybinned  RDW15.7 ASAcategorybinned  \\\n",
       "90780                    G3                 Mild  <= 15.7                II   \n",
       "90781                    G1      Moderate/Severe  <= 15.7            #NULL!   \n",
       "90782                    G2                  NaN  <= 15.7            #NULL!   \n",
       "90783                #NULL!               #NULL!   #NULL!                II   \n",
       "90784                    G1                 Mild  <= 15.7                II   \n",
       "\n",
       "      ICUAdmgt24h  \n",
       "90780          no  \n",
       "90781          no  \n",
       "90782          no  \n",
       "90783          no  \n",
       "90784          no  \n",
       "\n",
       "[5 rows x 32 columns]"
      ]
     },
     "execution_count": 87,
     "metadata": {},
     "output_type": "execute_result"
    }
   ],
   "source": [
    "# remove the last 3 rows because there's a weird \"? Duplicates\" cell on the excel file\n",
    "cares.drop(cares.index[-3:], axis=0, inplace=True)\n",
    "cares.tail()"
   ]
  },
  {
   "cell_type": "code",
   "execution_count": 88,
   "metadata": {
    "id": "SacXwFmbzDTk"
   },
   "outputs": [],
   "source": [
    "# drop index number\n",
    "cares.drop(\"Indexno\", axis=1, inplace=True)"
   ]
  },
  {
   "cell_type": "code",
   "execution_count": 89,
   "metadata": {
    "colab": {
     "base_uri": "https://localhost:8080/"
    },
    "id": "AUGC0se2lul4",
    "outputId": "4057a1ce-5d84-49c3-a24d-bf56f8655420"
   },
   "outputs": [
    {
     "data": {
      "text/plain": [
       "(90785, 31)"
      ]
     },
     "execution_count": 89,
     "metadata": {},
     "output_type": "execute_result"
    }
   ],
   "source": [
    "cares.shape"
   ]
  },
  {
   "cell_type": "code",
   "execution_count": 90,
   "metadata": {
    "colab": {
     "base_uri": "https://localhost:8080/",
     "height": 317
    },
    "id": "H8Wp8VPbnAci",
    "outputId": "d8418125-e8a1-4a24-b1ac-eb573a3a424e"
   },
   "outputs": [
    {
     "data": {
      "text/html": [
       "<div>\n",
       "<style scoped>\n",
       "    .dataframe tbody tr th:only-of-type {\n",
       "        vertical-align: middle;\n",
       "    }\n",
       "\n",
       "    .dataframe tbody tr th {\n",
       "        vertical-align: top;\n",
       "    }\n",
       "\n",
       "    .dataframe thead th {\n",
       "        text-align: right;\n",
       "    }\n",
       "</style>\n",
       "<table border=\"1\" class=\"dataframe\">\n",
       "  <thead>\n",
       "    <tr style=\"text-align: right;\">\n",
       "      <th></th>\n",
       "      <th>AGE</th>\n",
       "      <th>RCRI score</th>\n",
       "      <th>PreopEGFRMDRD</th>\n",
       "      <th>DaysbetweenDeathandoperation</th>\n",
       "      <th>Preoptransfusionwithin30days</th>\n",
       "      <th>Intraop</th>\n",
       "      <th>Postopwithin30days</th>\n",
       "      <th>Transfusionintraandpostop</th>\n",
       "    </tr>\n",
       "  </thead>\n",
       "  <tbody>\n",
       "    <tr>\n",
       "      <th>count</th>\n",
       "      <td>90785.000000</td>\n",
       "      <td>63361.000000</td>\n",
       "      <td>79955.000000</td>\n",
       "      <td>5595.000000</td>\n",
       "      <td>90785.000000</td>\n",
       "      <td>90785.000000</td>\n",
       "      <td>90785.000000</td>\n",
       "      <td>90785.000000</td>\n",
       "    </tr>\n",
       "    <tr>\n",
       "      <th>mean</th>\n",
       "      <td>52.253225</td>\n",
       "      <td>0.322296</td>\n",
       "      <td>96.426155</td>\n",
       "      <td>476.782127</td>\n",
       "      <td>0.042672</td>\n",
       "      <td>0.056276</td>\n",
       "      <td>0.018946</td>\n",
       "      <td>0.075222</td>\n",
       "    </tr>\n",
       "    <tr>\n",
       "      <th>std</th>\n",
       "      <td>17.087307</td>\n",
       "      <td>0.634789</td>\n",
       "      <td>33.954241</td>\n",
       "      <td>421.866740</td>\n",
       "      <td>0.405840</td>\n",
       "      <td>0.230455</td>\n",
       "      <td>0.260728</td>\n",
       "      <td>0.395623</td>\n",
       "    </tr>\n",
       "    <tr>\n",
       "      <th>min</th>\n",
       "      <td>18.000000</td>\n",
       "      <td>0.000000</td>\n",
       "      <td>2.541026</td>\n",
       "      <td>0.000000</td>\n",
       "      <td>0.000000</td>\n",
       "      <td>0.000000</td>\n",
       "      <td>0.000000</td>\n",
       "      <td>0.000000</td>\n",
       "    </tr>\n",
       "    <tr>\n",
       "      <th>25%</th>\n",
       "      <td>39.000000</td>\n",
       "      <td>0.000000</td>\n",
       "      <td>79.078715</td>\n",
       "      <td>121.000000</td>\n",
       "      <td>0.000000</td>\n",
       "      <td>0.000000</td>\n",
       "      <td>0.000000</td>\n",
       "      <td>0.000000</td>\n",
       "    </tr>\n",
       "    <tr>\n",
       "      <th>50%</th>\n",
       "      <td>54.000000</td>\n",
       "      <td>0.000000</td>\n",
       "      <td>96.398561</td>\n",
       "      <td>355.000000</td>\n",
       "      <td>0.000000</td>\n",
       "      <td>0.000000</td>\n",
       "      <td>0.000000</td>\n",
       "      <td>0.000000</td>\n",
       "    </tr>\n",
       "    <tr>\n",
       "      <th>75%</th>\n",
       "      <td>65.000000</td>\n",
       "      <td>1.000000</td>\n",
       "      <td>114.310169</td>\n",
       "      <td>746.000000</td>\n",
       "      <td>0.000000</td>\n",
       "      <td>0.000000</td>\n",
       "      <td>0.000000</td>\n",
       "      <td>0.000000</td>\n",
       "    </tr>\n",
       "    <tr>\n",
       "      <th>max</th>\n",
       "      <td>103.000000</td>\n",
       "      <td>6.000000</td>\n",
       "      <td>671.298147</td>\n",
       "      <td>1783.000000</td>\n",
       "      <td>21.000000</td>\n",
       "      <td>1.000000</td>\n",
       "      <td>23.000000</td>\n",
       "      <td>24.000000</td>\n",
       "    </tr>\n",
       "  </tbody>\n",
       "</table>\n",
       "</div>"
      ],
      "text/plain": [
       "                AGE    RCRI score  PreopEGFRMDRD  \\\n",
       "count  90785.000000  63361.000000   79955.000000   \n",
       "mean      52.253225      0.322296      96.426155   \n",
       "std       17.087307      0.634789      33.954241   \n",
       "min       18.000000      0.000000       2.541026   \n",
       "25%       39.000000      0.000000      79.078715   \n",
       "50%       54.000000      0.000000      96.398561   \n",
       "75%       65.000000      1.000000     114.310169   \n",
       "max      103.000000      6.000000     671.298147   \n",
       "\n",
       "       DaysbetweenDeathandoperation  Preoptransfusionwithin30days  \\\n",
       "count                   5595.000000                  90785.000000   \n",
       "mean                     476.782127                      0.042672   \n",
       "std                      421.866740                      0.405840   \n",
       "min                        0.000000                      0.000000   \n",
       "25%                      121.000000                      0.000000   \n",
       "50%                      355.000000                      0.000000   \n",
       "75%                      746.000000                      0.000000   \n",
       "max                     1783.000000                     21.000000   \n",
       "\n",
       "            Intraop  Postopwithin30days  Transfusionintraandpostop  \n",
       "count  90785.000000        90785.000000               90785.000000  \n",
       "mean       0.056276            0.018946                   0.075222  \n",
       "std        0.230455            0.260728                   0.395623  \n",
       "min        0.000000            0.000000                   0.000000  \n",
       "25%        0.000000            0.000000                   0.000000  \n",
       "50%        0.000000            0.000000                   0.000000  \n",
       "75%        0.000000            0.000000                   0.000000  \n",
       "max        1.000000           23.000000                  24.000000  "
      ]
     },
     "execution_count": 90,
     "metadata": {},
     "output_type": "execute_result"
    }
   ],
   "source": [
    "cares.describe()"
   ]
  },
  {
   "cell_type": "code",
   "execution_count": 91,
   "metadata": {
    "colab": {
     "base_uri": "https://localhost:8080/",
     "height": 239
    },
    "id": "JS89x-I-nCvM",
    "outputId": "52f79385-3b76-4970-ef05-eb66f7a4879d"
   },
   "outputs": [
    {
     "data": {
      "text/html": [
       "<div>\n",
       "<style scoped>\n",
       "    .dataframe tbody tr th:only-of-type {\n",
       "        vertical-align: middle;\n",
       "    }\n",
       "\n",
       "    .dataframe tbody tr th {\n",
       "        vertical-align: top;\n",
       "    }\n",
       "\n",
       "    .dataframe thead th {\n",
       "        text-align: right;\n",
       "    }\n",
       "</style>\n",
       "<table border=\"1\" class=\"dataframe\">\n",
       "  <thead>\n",
       "    <tr style=\"text-align: right;\">\n",
       "      <th></th>\n",
       "      <th>AGE</th>\n",
       "      <th>GENDER</th>\n",
       "      <th>RCRI score</th>\n",
       "      <th>Anemia category</th>\n",
       "      <th>PreopEGFRMDRD</th>\n",
       "      <th>GradeofKidneydisease</th>\n",
       "      <th>DaysbetweenDeathandoperation</th>\n",
       "      <th>@30daymortality</th>\n",
       "      <th>Preoptransfusionwithin30days</th>\n",
       "      <th>Intraop</th>\n",
       "      <th>...</th>\n",
       "      <th>CVARCRICategory</th>\n",
       "      <th>IHDRCRICategory</th>\n",
       "      <th>CHFRCRICategory</th>\n",
       "      <th>DMinsulinRCRICategory</th>\n",
       "      <th>CreatinineRCRICategory</th>\n",
       "      <th>GradeofKidneyCategory</th>\n",
       "      <th>Anemiacategorybinned</th>\n",
       "      <th>RDW15.7</th>\n",
       "      <th>ASAcategorybinned</th>\n",
       "      <th>ICUAdmgt24h</th>\n",
       "    </tr>\n",
       "  </thead>\n",
       "  <tbody>\n",
       "    <tr>\n",
       "      <th>count</th>\n",
       "      <td>90785</td>\n",
       "      <td>90785</td>\n",
       "      <td>90785</td>\n",
       "      <td>90785</td>\n",
       "      <td>90785</td>\n",
       "      <td>90785</td>\n",
       "      <td>90785</td>\n",
       "      <td>90785</td>\n",
       "      <td>90785</td>\n",
       "      <td>90785</td>\n",
       "      <td>...</td>\n",
       "      <td>90785</td>\n",
       "      <td>90785</td>\n",
       "      <td>90785</td>\n",
       "      <td>90785</td>\n",
       "      <td>90785</td>\n",
       "      <td>90785</td>\n",
       "      <td>90785</td>\n",
       "      <td>90785</td>\n",
       "      <td>90785</td>\n",
       "      <td>90785</td>\n",
       "    </tr>\n",
       "    <tr>\n",
       "      <th>unique</th>\n",
       "      <td>1</td>\n",
       "      <td>1</td>\n",
       "      <td>2</td>\n",
       "      <td>2</td>\n",
       "      <td>2</td>\n",
       "      <td>1</td>\n",
       "      <td>2</td>\n",
       "      <td>1</td>\n",
       "      <td>1</td>\n",
       "      <td>1</td>\n",
       "      <td>...</td>\n",
       "      <td>1</td>\n",
       "      <td>1</td>\n",
       "      <td>1</td>\n",
       "      <td>1</td>\n",
       "      <td>1</td>\n",
       "      <td>1</td>\n",
       "      <td>2</td>\n",
       "      <td>1</td>\n",
       "      <td>1</td>\n",
       "      <td>1</td>\n",
       "    </tr>\n",
       "    <tr>\n",
       "      <th>top</th>\n",
       "      <td>False</td>\n",
       "      <td>False</td>\n",
       "      <td>False</td>\n",
       "      <td>False</td>\n",
       "      <td>False</td>\n",
       "      <td>False</td>\n",
       "      <td>True</td>\n",
       "      <td>False</td>\n",
       "      <td>False</td>\n",
       "      <td>False</td>\n",
       "      <td>...</td>\n",
       "      <td>False</td>\n",
       "      <td>False</td>\n",
       "      <td>False</td>\n",
       "      <td>False</td>\n",
       "      <td>False</td>\n",
       "      <td>False</td>\n",
       "      <td>True</td>\n",
       "      <td>False</td>\n",
       "      <td>False</td>\n",
       "      <td>False</td>\n",
       "    </tr>\n",
       "    <tr>\n",
       "      <th>freq</th>\n",
       "      <td>90785</td>\n",
       "      <td>90785</td>\n",
       "      <td>63361</td>\n",
       "      <td>86747</td>\n",
       "      <td>79955</td>\n",
       "      <td>90785</td>\n",
       "      <td>85190</td>\n",
       "      <td>90785</td>\n",
       "      <td>90785</td>\n",
       "      <td>90785</td>\n",
       "      <td>...</td>\n",
       "      <td>90785</td>\n",
       "      <td>90785</td>\n",
       "      <td>90785</td>\n",
       "      <td>90785</td>\n",
       "      <td>90785</td>\n",
       "      <td>90785</td>\n",
       "      <td>62878</td>\n",
       "      <td>90785</td>\n",
       "      <td>90785</td>\n",
       "      <td>90785</td>\n",
       "    </tr>\n",
       "  </tbody>\n",
       "</table>\n",
       "<p>4 rows × 31 columns</p>\n",
       "</div>"
      ],
      "text/plain": [
       "          AGE GENDER RCRI score Anemia category PreopEGFRMDRD  \\\n",
       "count   90785  90785      90785           90785         90785   \n",
       "unique      1      1          2               2             2   \n",
       "top     False  False      False           False         False   \n",
       "freq    90785  90785      63361           86747         79955   \n",
       "\n",
       "       GradeofKidneydisease DaysbetweenDeathandoperation @30daymortality  \\\n",
       "count                 90785                        90785           90785   \n",
       "unique                    1                            2               1   \n",
       "top                   False                         True           False   \n",
       "freq                  90785                        85190           90785   \n",
       "\n",
       "       Preoptransfusionwithin30days Intraop  ... CVARCRICategory  \\\n",
       "count                         90785   90785  ...           90785   \n",
       "unique                            1       1  ...               1   \n",
       "top                           False   False  ...           False   \n",
       "freq                          90785   90785  ...           90785   \n",
       "\n",
       "       IHDRCRICategory CHFRCRICategory DMinsulinRCRICategory  \\\n",
       "count            90785           90785                 90785   \n",
       "unique               1               1                     1   \n",
       "top              False           False                 False   \n",
       "freq             90785           90785                 90785   \n",
       "\n",
       "       CreatinineRCRICategory GradeofKidneyCategory Anemiacategorybinned  \\\n",
       "count                   90785                 90785                90785   \n",
       "unique                      1                     1                    2   \n",
       "top                     False                 False                 True   \n",
       "freq                    90785                 90785                62878   \n",
       "\n",
       "       RDW15.7 ASAcategorybinned ICUAdmgt24h  \n",
       "count    90785             90785       90785  \n",
       "unique       1                 1           1  \n",
       "top      False             False       False  \n",
       "freq     90785             90785       90785  \n",
       "\n",
       "[4 rows x 31 columns]"
      ]
     },
     "execution_count": 91,
     "metadata": {},
     "output_type": "execute_result"
    }
   ],
   "source": [
    "cares.isna().describe()"
   ]
  },
  {
   "cell_type": "markdown",
   "metadata": {
    "id": "1OmETl4Llxkh"
   },
   "source": [
    "Check Missing values\n",
    "\n",
    "**Note**: the paper got 79914 rows after cleaning missing values but we seem to cannot replicate this number"
   ]
  },
  {
   "cell_type": "code",
   "execution_count": 92,
   "metadata": {
    "colab": {
     "base_uri": "https://localhost:8080/"
    },
    "id": "u-xoMCKCmRra",
    "outputId": "4b71b343-8de1-4cbc-8191-f8e005a6ce06",
    "scrolled": true
   },
   "outputs": [
    {
     "name": "stdout",
     "output_type": "stream",
     "text": [
      "AGE\n",
      "61.0     2104\n",
      "65.0     2103\n",
      "64.0     2033\n",
      "63.0     1999\n",
      "60.0     1989\n",
      "         ... \n",
      "99.0        4\n",
      "100.0       2\n",
      "102.0       1\n",
      "101.0       1\n",
      "103.0       1\n",
      "Name: count, Length: 86, dtype: int64\n",
      "AGE\n",
      "False    90785\n",
      "Name: count, dtype: int64\n",
      "\n",
      "GENDER\n",
      "FEMALE    48708\n",
      "MALE      42077\n",
      "Name: count, dtype: int64\n",
      "GENDER\n",
      "False    90785\n",
      "Name: count, dtype: int64\n",
      "\n",
      "RCRI score\n",
      "0.0    47385\n",
      "1.0    12653\n",
      "2.0     2441\n",
      "3.0      679\n",
      "4.0      168\n",
      "5.0       33\n",
      "6.0        2\n",
      "Name: count, dtype: int64\n",
      "RCRI score\n",
      "False    63361\n",
      "True     27424\n",
      "Name: count, dtype: int64\n",
      "\n",
      "Anemia category\n",
      "none        62878\n",
      "mild        13006\n",
      "moderate    10439\n",
      "severe        424\n",
      "Name: count, dtype: int64\n",
      "Anemia category\n",
      "False    86747\n",
      "True      4038\n",
      "Name: count, dtype: int64\n",
      "\n",
      "PreopEGFRMDRD\n",
      "104.452527    50\n",
      "105.027160    49\n",
      "104.657013    46\n",
      "111.268426    46\n",
      "95.529518     45\n",
      "              ..\n",
      "54.267341      1\n",
      "46.530834      1\n",
      "14.005128      1\n",
      "44.728352      1\n",
      "38.424462      1\n",
      "Name: count, Length: 14893, dtype: int64\n",
      "PreopEGFRMDRD\n",
      "False    79955\n",
      "True     10830\n",
      "Name: count, dtype: int64\n",
      "\n",
      "GradeofKidneydisease\n",
      "g1       47948\n",
      "G2       23635\n",
      "BLANK    10830\n",
      "G3a       3425\n",
      "G5        2059\n",
      "G3b       1689\n",
      "G4        1199\n",
      "Name: count, dtype: int64\n",
      "GradeofKidneydisease\n",
      "False    90785\n",
      "Name: count, dtype: int64\n",
      "\n",
      "DaysbetweenDeathandoperation\n",
      "1.0       33\n",
      "7.0       26\n",
      "4.0       24\n",
      "6.0       23\n",
      "3.0       23\n",
      "          ..\n",
      "803.0      1\n",
      "1674.0     1\n",
      "1189.0     1\n",
      "1160.0     1\n",
      "1622.0     1\n",
      "Name: count, Length: 1408, dtype: int64\n",
      "DaysbetweenDeathandoperation\n",
      "True     85190\n",
      "False     5595\n",
      "Name: count, dtype: int64\n",
      "\n",
      "@30daymortality\n",
      "NO     90246\n",
      "YES      539\n",
      "Name: count, dtype: int64\n",
      "@30daymortality\n",
      "False    90785\n",
      "Name: count, dtype: int64\n",
      "\n",
      "Preoptransfusionwithin30days\n",
      "0.0     88905\n",
      "1.0      1017\n",
      "2.0       460\n",
      "3.0       182\n",
      "4.0        74\n",
      "5.0        47\n",
      "6.0        24\n",
      "7.0        23\n",
      "8.0        19\n",
      "11.0        8\n",
      "10.0        7\n",
      "9.0         6\n",
      "13.0        5\n",
      "14.0        4\n",
      "17.0        1\n",
      "12.0        1\n",
      "20.0        1\n",
      "21.0        1\n",
      "Name: count, dtype: int64\n",
      "Preoptransfusionwithin30days\n",
      "False    90785\n",
      "Name: count, dtype: int64\n",
      "\n",
      "Intraop\n",
      "0.0    85676\n",
      "1.0     5109\n",
      "Name: count, dtype: int64\n",
      "Intraop\n",
      "False    90785\n",
      "Name: count, dtype: int64\n",
      "\n",
      "Postopwithin30days\n",
      "0.0     89842\n",
      "1.0       608\n",
      "2.0       179\n",
      "3.0        62\n",
      "4.0        34\n",
      "5.0        23\n",
      "6.0        12\n",
      "7.0         9\n",
      "8.0         5\n",
      "9.0         3\n",
      "12.0        3\n",
      "15.0        2\n",
      "23.0        1\n",
      "16.0        1\n",
      "10.0        1\n",
      "Name: count, dtype: int64\n",
      "Postopwithin30days\n",
      "False    90785\n",
      "Name: count, dtype: int64\n",
      "\n",
      "Transfusionintraandpostop\n",
      "0.0     85664\n",
      "1.0      4187\n",
      "2.0       602\n",
      "3.0       176\n",
      "4.0        62\n",
      "5.0        34\n",
      "6.0        23\n",
      "7.0        12\n",
      "8.0         9\n",
      "9.0         5\n",
      "10.0        3\n",
      "13.0        3\n",
      "16.0        2\n",
      "24.0        1\n",
      "17.0        1\n",
      "11.0        1\n",
      "Name: count, dtype: int64\n",
      "Transfusionintraandpostop\n",
      "False    90785\n",
      "Name: count, dtype: int64\n",
      "\n",
      "AnaestypeCategory\n",
      "GA    76442\n",
      "RA    14343\n",
      "Name: count, dtype: int64\n",
      "AnaestypeCategory\n",
      "False    90785\n",
      "Name: count, dtype: int64\n",
      "\n",
      "PriorityCategory\n",
      "Elective     72331\n",
      "Emergency    18454\n",
      "Name: count, dtype: int64\n",
      "PriorityCategory\n",
      "False    90785\n",
      "Name: count, dtype: int64\n",
      "\n",
      "TransfusionIntraandpostopCategory\n",
      "0 units            85664\n",
      "1 unit              4187\n",
      "2 or more units      934\n",
      "Name: count, dtype: int64\n",
      "TransfusionIntraandpostopCategory\n",
      "False    90785\n",
      "Name: count, dtype: int64\n",
      "\n",
      "AGEcategory\n",
      "50-64    28227\n",
      "30-49    27078\n",
      "65-74    15837\n",
      "18-29    11052\n",
      "75-84     7256\n",
      ">=85      1335\n",
      "Name: count, dtype: int64\n",
      "AGEcategory\n",
      "False    90785\n",
      "Name: count, dtype: int64\n",
      "\n",
      "AGEcategoryOriginal\n",
      "50-69    37360\n",
      "30-49    27078\n",
      ">=70     15295\n",
      "18-29    11052\n",
      "Name: count, dtype: int64\n",
      "AGEcategoryOriginal\n",
      "False    90785\n",
      "Name: count, dtype: int64\n",
      "\n",
      "Mortality\n",
      "No death    85190\n",
      "Yes          5595\n",
      "Name: count, dtype: int64\n",
      "Mortality\n",
      "False    90785\n",
      "Name: count, dtype: int64\n",
      "\n",
      "thirtydaymortality\n",
      "No     90246\n",
      "Yes      539\n",
      "Name: count, dtype: int64\n",
      "thirtydaymortality\n",
      "False    90785\n",
      "Name: count, dtype: int64\n",
      "\n",
      "SurgRiskCategory\n",
      "Low         48049\n",
      "Moderate    39014\n",
      "High         3722\n",
      "Name: count, dtype: int64\n",
      "SurgRiskCategory\n",
      "False    90785\n",
      "Name: count, dtype: int64\n",
      "\n",
      "RaceCategory\n",
      "Chinese    64861\n",
      "Malay       8979\n",
      "Others      8927\n",
      "Indian      8012\n",
      "#NULL!         6\n",
      "Name: count, dtype: int64\n",
      "RaceCategory\n",
      "False    90785\n",
      "Name: count, dtype: int64\n",
      "\n",
      "CVARCRICategory\n",
      "no        60917\n",
      "#NULL!    28325\n",
      "yes        1543\n",
      "Name: count, dtype: int64\n",
      "CVARCRICategory\n",
      "False    90785\n",
      "Name: count, dtype: int64\n",
      "\n",
      "IHDRCRICategory\n",
      "no        57968\n",
      "#NULL!    28572\n",
      "yes        4245\n",
      "Name: count, dtype: int64\n",
      "IHDRCRICategory\n",
      "False    90785\n",
      "Name: count, dtype: int64\n",
      "\n",
      "CHFRCRICategory\n",
      "no        63739\n",
      "#NULL!    26259\n",
      "yes         787\n",
      "Name: count, dtype: int64\n",
      "CHFRCRICategory\n",
      "False    90785\n",
      "Name: count, dtype: int64\n",
      "\n",
      "DMinsulinRCRICategory\n",
      "no        61907\n",
      "#NULL!    26875\n",
      "yes        2003\n",
      "Name: count, dtype: int64\n",
      "DMinsulinRCRICategory\n",
      "False    90785\n",
      "Name: count, dtype: int64\n",
      "\n",
      "CreatinineRCRICategory\n",
      "no        72760\n",
      "#NULL!    15743\n",
      "yes        2282\n",
      "Name: count, dtype: int64\n",
      "CreatinineRCRICategory\n",
      "False    90785\n",
      "Name: count, dtype: int64\n",
      "\n",
      "GradeofKidneyCategory\n",
      "G1        47948\n",
      "G2        23635\n",
      "#NULL!    10830\n",
      "G3         5114\n",
      "G4-G5      3258\n",
      "Name: count, dtype: int64\n",
      "GradeofKidneyCategory\n",
      "False    90785\n",
      "Name: count, dtype: int64\n",
      "\n",
      "Anemiacategorybinned\n",
      "Mild               13006\n",
      "Moderate/Severe    10863\n",
      "#NULL!              4038\n",
      "Name: count, dtype: int64\n",
      "Anemiacategorybinned\n",
      "True     62878\n",
      "False    27907\n",
      "Name: count, dtype: int64\n",
      "\n",
      "RDW15.7\n",
      "<= 15.7    76069\n",
      ">15.7       8478\n",
      "#NULL!      6238\n",
      "Name: count, dtype: int64\n",
      "RDW15.7\n",
      "False    90785\n",
      "Name: count, dtype: int64\n",
      "\n",
      "ASAcategorybinned\n",
      "II        49435\n",
      "I         22047\n",
      "III       13405\n",
      "#NULL!     4819\n",
      "IV-VI      1079\n",
      "Name: count, dtype: int64\n",
      "ASAcategorybinned\n",
      "False    90785\n",
      "Name: count, dtype: int64\n",
      "\n",
      "ICUAdmgt24h\n",
      "no     89521\n",
      "yes     1264\n",
      "Name: count, dtype: int64\n",
      "ICUAdmgt24h\n",
      "False    90785\n",
      "Name: count, dtype: int64\n",
      "\n"
     ]
    }
   ],
   "source": [
    "for column_name in cares.columns:\n",
    "    print(cares[column_name].value_counts())\n",
    "    print(cares[column_name].isna().value_counts())\n",
    "    print()"
   ]
  },
  {
   "cell_type": "code",
   "execution_count": 93,
   "metadata": {
    "id": "AZ3XzA7O0toL"
   },
   "outputs": [
    {
     "ename": "ModuleNotFoundError",
     "evalue": "No module named 'ydata_profiling'",
     "output_type": "error",
     "traceback": [
      "\u001b[0;31m---------------------------------------------------------------------------\u001b[0m",
      "\u001b[0;31mModuleNotFoundError\u001b[0m                       Traceback (most recent call last)",
      "Cell \u001b[0;32mIn[93], line 1\u001b[0m\n\u001b[0;32m----> 1\u001b[0m \u001b[38;5;28;01mfrom\u001b[39;00m \u001b[38;5;21;01mydata_profiling\u001b[39;00m \u001b[38;5;28;01mimport\u001b[39;00m ProfileReport\n",
      "\u001b[0;31mModuleNotFoundError\u001b[0m: No module named 'ydata_profiling'"
     ]
    }
   ],
   "source": [
    "from ydata_profiling import ProfileReport"
   ]
  },
  {
   "cell_type": "code",
   "execution_count": null,
   "metadata": {
    "colab": {
     "base_uri": "https://localhost:8080/",
     "height": 199,
     "referenced_widgets": [
      "77794420db284672af2ded3b8a8b38e3",
      "59de0090fb7b4327bf2524470e1578f5",
      "74db0955422848f2aff50a60477cd64a",
      "bca0582949074d9a8dd7c2c28dac3da9",
      "e818a751cd6243dbae768e47d13459bd",
      "8da4f69f31bd4e7d822e7b85acb810ed",
      "48db6317b87049cd81b45d72a781588f",
      "6e448f86b9a1438eb52ce8994f5faa6a",
      "abae6af1e9ef40a9bd6495f7d94c3443",
      "a54ec1f20de84e20a87c1be1bef9bf2a",
      "50861ea913b5491d980a37032fa20015",
      "e064a6394dc84b7aaf4aff2735c733cf",
      "d77bec0c7a2b4c1da18890785b0482d5",
      "daa300ea26ec400db2d009e51603211e",
      "9ad8806172da47fc81c100d4bfe8a63e",
      "61d627b96feb484dbb8bdc99cfdef579",
      "9f4957ebef38445fb5b4e92261d6ebb1",
      "743589d75bac44afb0b7c0e3f3767b4c",
      "7592fa68ad2949f2b1611726c4372228",
      "fabd100b6ec14f2d9d6ed488263c9d8a",
      "fd214eefe883408aa025f096ea3ac1c6",
      "30d9bf7e7b714c89bf0cc966f10ecee3",
      "2dbbaf38cbb842f18a5df4b5387ddc02",
      "348d84f1bf9549ed891355c8bc827c86",
      "16c9f5eae4804b0b8c787e0367215616",
      "7cfecd808bc34f3a8dbc51b934c07061",
      "cc065289e42f4b2cae582672e692a122",
      "22631c16750d42528d7dcade0d4c25aa",
      "f7ea95fadd7b440d837eaf247443912a",
      "a17b9045d4df49adb4df93f9f1d0917c",
      "895edce721244404aa3449ab4a63780c",
      "05d013afb5d24f7085a1a86cec3aceee",
      "6a4b95c58fec4fd1a8df6f8daa2c4690",
      "5e998505692646cd8dce1075cba75ffa",
      "5f906cd1c8bc4f4db6c4e3889ed1e799",
      "fb2e57ef3fad4ddc900c98b6e3369734",
      "0f039ac8fdf944a999bc31e9729a4c00",
      "9b42f6eca91a40c98e439fb60718a866",
      "12c999c0bbea4601babd4c431e337ee9",
      "7c11a399fb9d496483cc6de6d3ccdca9",
      "35326bb513374f999df29846dd3fa5c1",
      "9a3752586e9446c5ab5451866127feaa",
      "50d93249e6d3408da53378e05b4f93ef",
      "18d68fccd14640aa92b4636a1e876c8a"
     ]
    },
    "id": "49zBmePmz2I9",
    "outputId": "3780f636-d689-4037-d92b-01c8c67e1b7d"
   },
   "outputs": [],
   "source": [
    "# early profiling\n",
    "profile = ProfileReport(cares)\n",
    "profile.to_file(output_file='../output/pre_processed_data_profile.html')"
   ]
  },
  {
   "cell_type": "markdown",
   "metadata": {
    "id": "cBFC5RtA_6W_"
   },
   "source": [
    "## Data Cleaning"
   ]
  },
  {
   "cell_type": "markdown",
   "metadata": {
    "id": "tt5yhQh-m4Rc"
   },
   "source": [
    "Drop the exact duplicates if exist"
   ]
  },
  {
   "cell_type": "code",
   "execution_count": null,
   "metadata": {
    "id": "Bt9gCIr8m6Xj"
   },
   "outputs": [],
   "source": [
    "# cares.drop_duplicates(inplace=True)"
   ]
  },
  {
   "cell_type": "code",
   "execution_count": null,
   "metadata": {
    "colab": {
     "base_uri": "https://localhost:8080/"
    },
    "id": "m_ncNP7ZnJZI",
    "outputId": "8397c436-19ba-4150-f967-7f8d632deceb"
   },
   "outputs": [],
   "source": [
    "cares.shape"
   ]
  },
  {
   "cell_type": "markdown",
   "metadata": {
    "id": "2mMUWLdP_8Qr"
   },
   "source": [
    "### Labels\n",
    "- @30daymortality\n",
    "- thirtydaymortality\n",
    "- Mortality\n",
    "- DaysbetweenDeathandoperation\n",
    "- ICUAdmgt24h"
   ]
  },
  {
   "cell_type": "markdown",
   "metadata": {
    "id": "0d2JXqX31U8w"
   },
   "source": [
    "check if these 2 labels 30 days mortality are the same"
   ]
  },
  {
   "cell_type": "code",
   "execution_count": null,
   "metadata": {
    "id": "RTew3GgZ1sYF"
   },
   "outputs": [],
   "source": [
    "cares[\"@30daymortality\"] = cares[\"@30daymortality\"] == \"YES\"\n",
    "cares[\"thirtydaymortality\"] = cares[\"thirtydaymortality\"] == \"Yes\""
   ]
  },
  {
   "cell_type": "code",
   "execution_count": null,
   "metadata": {
    "colab": {
     "base_uri": "https://localhost:8080/"
    },
    "id": "K-82nfCY0uWk",
    "outputId": "06ffc11c-64b6-41f6-cc78-83c7ac8e554b"
   },
   "outputs": [],
   "source": [
    "any(cares[\"@30daymortality\"] == cares[\"thirtydaymortality\"])"
   ]
  },
  {
   "cell_type": "code",
   "execution_count": null,
   "metadata": {
    "id": "1iXN3wcPASFd"
   },
   "outputs": [],
   "source": [
    "cares.drop(\"@30daymortality\", axis=1, inplace=True)"
   ]
  },
  {
   "cell_type": "markdown",
   "metadata": {
    "id": "KJJrp-111f-q"
   },
   "source": [
    "^ Exactly the same. Can drop one"
   ]
  },
  {
   "cell_type": "code",
   "execution_count": null,
   "metadata": {
    "colab": {
     "base_uri": "https://localhost:8080/"
    },
    "id": "haJWMdIG2CZs",
    "outputId": "2f98b3ba-1327-4fc5-da55-9d2bcb6ec6e3"
   },
   "outputs": [],
   "source": [
    "cares[\"DaysbetweenDeathandoperation\"].describe()"
   ]
  },
  {
   "cell_type": "markdown",
   "metadata": {
    "id": "LGVMjGgl3bIR"
   },
   "source": [
    "^ from 2012-01-01 to 2016-10-31 is only 1765 days. But some days are more than this number"
   ]
  },
  {
   "cell_type": "code",
   "execution_count": null,
   "metadata": {
    "colab": {
     "base_uri": "https://localhost:8080/"
    },
    "id": "Sv2S7hgkNcz3",
    "outputId": "3f045ee4-3631-4f21-de3b-4bb35d24d1c3"
   },
   "outputs": [],
   "source": [
    "cares[\"ICUAdmgt24h\"].value_counts()"
   ]
  },
  {
   "cell_type": "code",
   "execution_count": null,
   "metadata": {
    "colab": {
     "base_uri": "https://localhost:8080/"
    },
    "id": "dVgx46sqNvI6",
    "outputId": "4c557acf-218a-4e77-bb5c-7a10d8d94f69"
   },
   "outputs": [],
   "source": [
    "cares[\"ICUAdmgt24h\"].isna().value_counts()"
   ]
  },
  {
   "cell_type": "markdown",
   "metadata": {
    "id": "20Y1A1aW7dKf"
   },
   "source": [
    "### Features"
   ]
  },
  {
   "cell_type": "code",
   "execution_count": null,
   "metadata": {
    "colab": {
     "base_uri": "https://localhost:8080/"
    },
    "id": "6oxNDQ-K8xip",
    "outputId": "e12c733a-c5ab-452c-c1cb-3bc1b0b7e3d8"
   },
   "outputs": [],
   "source": [
    "cares.columns"
   ]
  },
  {
   "cell_type": "markdown",
   "metadata": {
    "id": "RfbO-qbF8QRj"
   },
   "source": [
    "#### Age\n",
    "make binning on age, making sure match with the paper. Use the same binning as the paper suggest"
   ]
  },
  {
   "cell_type": "code",
   "execution_count": null,
   "metadata": {
    "colab": {
     "base_uri": "https://localhost:8080/"
    },
    "id": "MkU5m94m7s5u",
    "outputId": "99ad6db0-d44f-47db-ea52-f6ad63d5b4b7"
   },
   "outputs": [],
   "source": [
    "cares[\"AGE\"].describe()"
   ]
  },
  {
   "cell_type": "code",
   "execution_count": null,
   "metadata": {
    "colab": {
     "base_uri": "https://localhost:8080/"
    },
    "id": "T68JA9NI80eM",
    "outputId": "dfe722d2-07b6-4d24-bde3-c0957fff404d"
   },
   "outputs": [],
   "source": [
    "cares[\"AGEcategoryOriginal\"].value_counts().sort_index()"
   ]
  },
  {
   "cell_type": "code",
   "execution_count": null,
   "metadata": {
    "colab": {
     "base_uri": "https://localhost:8080/"
    },
    "id": "0_G-w7B034Ni",
    "outputId": "f4d6f864-084b-4020-aeb5-70241b3d9d29"
   },
   "outputs": [],
   "source": [
    "cares[\"AGEcategory\"].value_counts().sort_index()"
   ]
  },
  {
   "cell_type": "code",
   "execution_count": null,
   "metadata": {
    "id": "3pGfNpvi_vO6"
   },
   "outputs": [],
   "source": [
    "cares.drop([\"AGE\", \"AGEcategoryOriginal\"], axis=1, inplace=True)"
   ]
  },
  {
   "cell_type": "markdown",
   "metadata": {
    "id": "RYE9mKokAroy"
   },
   "source": [
    "#### Gender\n",
    "No need to do anything about gender"
   ]
  },
  {
   "cell_type": "code",
   "execution_count": null,
   "metadata": {
    "colab": {
     "base_uri": "https://localhost:8080/"
    },
    "id": "57ve8Pey8dXB",
    "outputId": "970314aa-218b-47aa-a966-3eed952d4cd7"
   },
   "outputs": [],
   "source": [
    "cares[\"GENDER\"].value_counts().sort_index()"
   ]
  },
  {
   "cell_type": "markdown",
   "metadata": {
    "id": "7YfGcsSF9rye"
   },
   "source": [
    "#### Race"
   ]
  },
  {
   "cell_type": "code",
   "execution_count": null,
   "metadata": {
    "colab": {
     "base_uri": "https://localhost:8080/"
    },
    "id": "ZWU9gNBTAz3i",
    "outputId": "a2e408d7-dcad-48bd-8b0f-dba8be853bdb"
   },
   "outputs": [],
   "source": [
    "cares[\"RaceCategory\"].value_counts().sort_index()"
   ]
  },
  {
   "cell_type": "code",
   "execution_count": null,
   "metadata": {
    "colab": {
     "base_uri": "https://localhost:8080/"
    },
    "id": "VKP_fe2aA2L2",
    "outputId": "30843bb2-ad87-4925-b071-1d720bf29d8a"
   },
   "outputs": [],
   "source": [
    "# change the NULL to NaN\n",
    "cares[\"RaceCategory\"].replace('#NULL!', \"Others\", inplace=True)\n",
    "cares[\"RaceCategory\"].value_counts().sort_index()"
   ]
  },
  {
   "cell_type": "code",
   "execution_count": null,
   "metadata": {
    "colab": {
     "base_uri": "https://localhost:8080/"
    },
    "id": "9DaVwU-YBCul",
    "outputId": "40884a51-d426-4329-eb66-165488f6e88c"
   },
   "outputs": [],
   "source": [
    "cares[\"RaceCategory\"].isna().value_counts()"
   ]
  },
  {
   "cell_type": "markdown",
   "metadata": {
    "id": "iS3h0iagBGu8"
   },
   "source": [
    "#### ASA Classification"
   ]
  },
  {
   "cell_type": "code",
   "execution_count": null,
   "metadata": {
    "colab": {
     "base_uri": "https://localhost:8080/"
    },
    "id": "JOmW8jSlBUmr",
    "outputId": "45f10b8d-a3ab-4a9d-f722-6ecea8ca5a17"
   },
   "outputs": [],
   "source": [
    "cares[\"ASAcategorybinned\"].value_counts().sort_index()"
   ]
  },
  {
   "cell_type": "code",
   "execution_count": null,
   "metadata": {
    "colab": {
     "base_uri": "https://localhost:8080/"
    },
    "id": "Z76eN8jJBhp5",
    "outputId": "dbcbdd2e-4a9d-4911-8435-ad835c6bfa5d"
   },
   "outputs": [],
   "source": [
    "# change the NULL to NaN\n",
    "cares[\"ASAcategorybinned\"].replace('#NULL!',np.nan,inplace=True)\n",
    "cares[\"ASAcategorybinned\"].value_counts().sort_index()"
   ]
  },
  {
   "cell_type": "code",
   "execution_count": null,
   "metadata": {
    "colab": {
     "base_uri": "https://localhost:8080/"
    },
    "id": "yIRJ8JY6Bm5A",
    "outputId": "f94ea731-34be-45e9-eecc-dc5ddd5fb090"
   },
   "outputs": [],
   "source": [
    "cares[\"ASAcategorybinned\"].isna().value_counts()"
   ]
  },
  {
   "cell_type": "code",
   "execution_count": null,
   "metadata": {},
   "outputs": [],
   "source": [
    "cares[\"AnaestypeCategory\"].value_counts()"
   ]
  },
  {
   "cell_type": "markdown",
   "metadata": {
    "id": "bIX7FjQrBpEG"
   },
   "source": [
    "#### Anemia\n",
    "There are 2 columns for anemia, make sure they're the same first"
   ]
  },
  {
   "cell_type": "code",
   "execution_count": null,
   "metadata": {
    "colab": {
     "base_uri": "https://localhost:8080/"
    },
    "id": "Zq2i7R5xBvnw",
    "outputId": "1f13f152-f86d-4445-8741-76827a37896d"
   },
   "outputs": [],
   "source": [
    "cares[\"Anemia category\"].value_counts()"
   ]
  },
  {
   "cell_type": "code",
   "execution_count": null,
   "metadata": {
    "colab": {
     "base_uri": "https://localhost:8080/"
    },
    "id": "c-TzwlqyB0LW",
    "outputId": "38763f8e-516c-4ea4-f533-d3b86f5aa5e8"
   },
   "outputs": [],
   "source": [
    "cares[\"Anemiacategorybinned\"].value_counts()"
   ]
  },
  {
   "cell_type": "code",
   "execution_count": null,
   "metadata": {
    "colab": {
     "base_uri": "https://localhost:8080/"
    },
    "id": "3wU6juy7B4fW",
    "outputId": "0d857475-9a03-4a8b-ee24-abb3e23f62d2"
   },
   "outputs": [],
   "source": [
    "print(all((cares[\"Anemia category\"] == \"mild\").index == (cares[\"Anemiacategorybinned\"] == \"Mild\").index))\n",
    "print(all((cares[\"Anemia category\"].isin([\"moderate\", \"severe\"])).index == (cares[\"Anemiacategorybinned\"] == \"Moderate/Severe\").index))"
   ]
  },
  {
   "cell_type": "markdown",
   "metadata": {
    "id": "q_kh4Z4pCIO1"
   },
   "source": [
    "After checking:\n",
    "- make `moderate` and `severe` in one category\n",
    "    - we agree on combining `moderate` and `severe` in 1 class because they equally need treatment in comparison to `none` and `mild`\n",
    "- remove `Anemiacategorybinned` column\n",
    "\n",
    "Because Anemia is ordinal data, can later convert them using labelencoding =\n",
    "```JSON\n",
    "{\n",
    "    \"none\": 0,\n",
    "    \"mild\": 1,\n",
    "    \"moderate/severe\": 2\n",
    "}\n",
    "```"
   ]
  },
  {
   "cell_type": "code",
   "execution_count": null,
   "metadata": {
    "id": "xKNlitfJCicS"
   },
   "outputs": [],
   "source": [
    "cares[\"Anemia category\"].replace('moderate', 'moderate/severe', inplace=True)\n",
    "cares[\"Anemia category\"].replace('severe', 'moderate/severe', inplace=True)"
   ]
  },
  {
   "cell_type": "code",
   "execution_count": null,
   "metadata": {
    "colab": {
     "base_uri": "https://localhost:8080/"
    },
    "id": "2KWy4JpDCse8",
    "outputId": "4b42924a-82dd-4129-a4d5-18ed9658548b"
   },
   "outputs": [],
   "source": [
    "cares[\"Anemia category\"].value_counts()"
   ]
  },
  {
   "cell_type": "code",
   "execution_count": null,
   "metadata": {
    "id": "xlXXQkSyCs9e"
   },
   "outputs": [],
   "source": [
    "cares.drop(\"Anemiacategorybinned\", axis=1, inplace=True)"
   ]
  },
  {
   "cell_type": "markdown",
   "metadata": {
    "id": "dRskzrbgFmLg"
   },
   "source": [
    "#### RDW"
   ]
  },
  {
   "cell_type": "code",
   "execution_count": null,
   "metadata": {
    "colab": {
     "base_uri": "https://localhost:8080/"
    },
    "id": "flrHwby9DIHk",
    "outputId": "8d90d1cd-cc6d-4525-f188-f47c3c2756ff"
   },
   "outputs": [],
   "source": [
    "cares[\"RDW15.7\"].value_counts()"
   ]
  },
  {
   "cell_type": "code",
   "execution_count": null,
   "metadata": {
    "colab": {
     "base_uri": "https://localhost:8080/"
    },
    "id": "TxtZhTJsFrIQ",
    "outputId": "7a434675-2ae1-4342-fdb1-bd9bebafaa88"
   },
   "outputs": [],
   "source": [
    "cares[\"RDW15.7\"].replace('#NULL!', np.nan, inplace=True)\n",
    "cares[\"RDW15.7\"].value_counts()"
   ]
  },
  {
   "cell_type": "markdown",
   "metadata": {
    "id": "u-6SSrLCFxCr"
   },
   "source": [
    "#### Grade of CKD\n",
    "\n",
    "Source: https://www.kidney.org/professionals/explore-your-knowledge/how-to-classify-ckd"
   ]
  },
  {
   "cell_type": "code",
   "execution_count": null,
   "metadata": {
    "colab": {
     "base_uri": "https://localhost:8080/"
    },
    "id": "7B--K048FzFD",
    "outputId": "b6744bcf-d193-4c33-a62d-9729b7149736"
   },
   "outputs": [],
   "source": [
    "cares[\"GradeofKidneyCategory\"].value_counts()"
   ]
  },
  {
   "cell_type": "code",
   "execution_count": null,
   "metadata": {
    "colab": {
     "base_uri": "https://localhost:8080/"
    },
    "id": "0g-0Vt13Fz8l",
    "outputId": "2530ce92-68a8-4c88-f6ba-ba1afb03c1ce"
   },
   "outputs": [],
   "source": [
    "cares[\"GradeofKidneyCategory\"].replace('#NULL!', np.nan, inplace=True)\n",
    "cares[\"GradeofKidneyCategory\"].value_counts()"
   ]
  },
  {
   "cell_type": "code",
   "execution_count": null,
   "metadata": {
    "colab": {
     "base_uri": "https://localhost:8080/"
    },
    "id": "qSIo-6J9Jfg7",
    "outputId": "c1b7bd5f-3e5c-41ad-e562-200a78a7f52b"
   },
   "outputs": [],
   "source": [
    "cares[cares[\"GradeofKidneyCategory\"].isna()][\"AGEcategory\"].value_counts().sort_index()"
   ]
  },
  {
   "cell_type": "code",
   "execution_count": null,
   "metadata": {
    "colab": {
     "base_uri": "https://localhost:8080/"
    },
    "id": "91t7zGevI2PG",
    "outputId": "fb14123c-8064-4181-ba79-01cac51546e8"
   },
   "outputs": [],
   "source": [
    "cares[\"GradeofKidneydisease\"].value_counts()"
   ]
  },
  {
   "cell_type": "code",
   "execution_count": null,
   "metadata": {
    "id": "_kckFyQpJVn-"
   },
   "outputs": [],
   "source": [
    "cares.drop(\"GradeofKidneydisease\", axis=1, inplace=True)"
   ]
  },
  {
   "cell_type": "markdown",
   "metadata": {
    "id": "wSgw48f5GBLV"
   },
   "source": [
    "#### CVA\n",
    "\n",
    "RCRI stands for \"Revised Cardiac Risk Index\". According to the paper, NULL here means the same as no.\n",
    "\n",
    "\n",
    "\"NULL\" here is assumed as \"not tested\". It is assumed as not tested because they are not susceptible of the risk, that's why we combine the \"NULL\" and the \"no\" class together"
   ]
  },
  {
   "cell_type": "code",
   "execution_count": null,
   "metadata": {
    "colab": {
     "base_uri": "https://localhost:8080/"
    },
    "id": "a6Q1cxPpGGTP",
    "outputId": "adb94eec-bc8b-4556-851c-0d6e91800cda"
   },
   "outputs": [],
   "source": [
    "cares[\"CVARCRICategory\"].value_counts()"
   ]
  },
  {
   "cell_type": "code",
   "execution_count": null,
   "metadata": {
    "colab": {
     "base_uri": "https://localhost:8080/"
    },
    "id": "M1VvCixOGHP1",
    "outputId": "d0d84601-3053-42cf-9983-4fc4b676367a"
   },
   "outputs": [],
   "source": [
    "cares[\"CVARCRICategory\"].replace('#NULL!', 'no', inplace=True)\n",
    "cares[\"CVARCRICategory\"].value_counts()"
   ]
  },
  {
   "cell_type": "markdown",
   "metadata": {
    "id": "ihBPjpF7GQpM"
   },
   "source": [
    "#### IHD"
   ]
  },
  {
   "cell_type": "code",
   "execution_count": null,
   "metadata": {
    "colab": {
     "base_uri": "https://localhost:8080/"
    },
    "id": "elhXzO08GTM8",
    "outputId": "13e3a844-4d63-41dd-e523-8b8586cb074d"
   },
   "outputs": [],
   "source": [
    "cares[\"IHDRCRICategory\"].value_counts()"
   ]
  },
  {
   "cell_type": "code",
   "execution_count": null,
   "metadata": {
    "colab": {
     "base_uri": "https://localhost:8080/"
    },
    "id": "aXEq5nH9GYQl",
    "outputId": "5a4d78ec-baf0-41ec-c445-60646b33c933"
   },
   "outputs": [],
   "source": [
    "cares[\"IHDRCRICategory\"].replace('#NULL!', 'no', inplace=True)\n",
    "cares[\"IHDRCRICategory\"].value_counts()"
   ]
  },
  {
   "cell_type": "markdown",
   "metadata": {
    "id": "HdYxRPJ8Ga_Z"
   },
   "source": [
    "#### CHF"
   ]
  },
  {
   "cell_type": "code",
   "execution_count": null,
   "metadata": {
    "colab": {
     "base_uri": "https://localhost:8080/"
    },
    "id": "WqBdY5wbGe08",
    "outputId": "1f9ad7fe-f0cc-4c71-e882-4b2e7a5109ca"
   },
   "outputs": [],
   "source": [
    "cares[\"CHFRCRICategory\"].value_counts()"
   ]
  },
  {
   "cell_type": "code",
   "execution_count": null,
   "metadata": {
    "colab": {
     "base_uri": "https://localhost:8080/"
    },
    "id": "pAq6EZYPGgR2",
    "outputId": "46a5db30-9e74-4dd3-ee0c-abadb6a06ef9"
   },
   "outputs": [],
   "source": [
    "cares[\"CHFRCRICategory\"].replace('#NULL!', 'no', inplace=True)\n",
    "cares[\"CHFRCRICategory\"].value_counts()"
   ]
  },
  {
   "cell_type": "markdown",
   "metadata": {
    "id": "CSiUV1s2Gi3C"
   },
   "source": [
    "#### DM on Insulin"
   ]
  },
  {
   "cell_type": "code",
   "execution_count": null,
   "metadata": {
    "colab": {
     "base_uri": "https://localhost:8080/"
    },
    "id": "6NuBZfe_Gnfx",
    "outputId": "42f3e97c-1ff5-44fd-fbd8-5d1490b1eea8"
   },
   "outputs": [],
   "source": [
    "cares[\"DMinsulinRCRICategory\"].value_counts()"
   ]
  },
  {
   "cell_type": "code",
   "execution_count": null,
   "metadata": {
    "colab": {
     "base_uri": "https://localhost:8080/"
    },
    "id": "BON3ZVt4Go1a",
    "outputId": "de820350-a777-4af5-b7fa-11d88205874d"
   },
   "outputs": [],
   "source": [
    "cares[\"DMinsulinRCRICategory\"].replace('#NULL!', 'no', inplace=True)\n",
    "cares[\"DMinsulinRCRICategory\"].value_counts()"
   ]
  },
  {
   "cell_type": "markdown",
   "metadata": {
    "id": "KAYET3Y4LDdO"
   },
   "source": [
    "#### Creatinine"
   ]
  },
  {
   "cell_type": "code",
   "execution_count": null,
   "metadata": {
    "colab": {
     "base_uri": "https://localhost:8080/"
    },
    "id": "EIMoDrhOK8Yg",
    "outputId": "de6e7119-0cb6-4610-c388-61ed6c85b747"
   },
   "outputs": [],
   "source": [
    "cares[\"CreatinineRCRICategory\"].value_counts()"
   ]
  },
  {
   "cell_type": "code",
   "execution_count": null,
   "metadata": {
    "colab": {
     "base_uri": "https://localhost:8080/"
    },
    "id": "RCJimEKnLHpA",
    "outputId": "607b634e-836a-4b28-9ad1-55d81a72ece7"
   },
   "outputs": [],
   "source": [
    "cares[\"CreatinineRCRICategory\"].replace('#NULL!', 'no', inplace=True)\n",
    "cares[\"CreatinineRCRICategory\"].value_counts()"
   ]
  },
  {
   "cell_type": "markdown",
   "metadata": {
    "id": "RL9mVsidGswJ"
   },
   "source": [
    "#### Surgical Risk\n",
    "No need to do anything"
   ]
  },
  {
   "cell_type": "code",
   "execution_count": null,
   "metadata": {
    "colab": {
     "base_uri": "https://localhost:8080/"
    },
    "id": "MUlAR4swIFQ4",
    "outputId": "5fc050d7-e22c-4c61-fc4a-89d7f40a7108"
   },
   "outputs": [],
   "source": [
    "cares[\"SurgRiskCategory\"].value_counts()"
   ]
  },
  {
   "cell_type": "code",
   "execution_count": null,
   "metadata": {
    "colab": {
     "base_uri": "https://localhost:8080/"
    },
    "id": "h3lcEq2SIF4V",
    "outputId": "66bda9aa-79f7-4165-bd04-1fbca43d215d"
   },
   "outputs": [],
   "source": [
    "cares[\"SurgRiskCategory\"].isna().value_counts()"
   ]
  },
  {
   "cell_type": "markdown",
   "metadata": {
    "id": "r7cQQMfSIKgh"
   },
   "source": [
    "#### Priority of Surgery\n",
    "No need to do anything"
   ]
  },
  {
   "cell_type": "code",
   "execution_count": null,
   "metadata": {
    "colab": {
     "base_uri": "https://localhost:8080/"
    },
    "id": "MVAG0Wu-IScG",
    "outputId": "29f1c25a-d457-4290-cc32-94d49dd44c09"
   },
   "outputs": [],
   "source": [
    "cares[\"PriorityCategory\"].value_counts()"
   ]
  },
  {
   "cell_type": "code",
   "execution_count": null,
   "metadata": {
    "colab": {
     "base_uri": "https://localhost:8080/"
    },
    "id": "-zQWHlRlIT0m",
    "outputId": "b3fd5459-8fd4-490c-9e47-4557c92810c0"
   },
   "outputs": [],
   "source": [
    "cares[\"PriorityCategory\"].isna().value_counts()"
   ]
  },
  {
   "cell_type": "code",
   "execution_count": null,
   "metadata": {
    "colab": {
     "base_uri": "https://localhost:8080/",
     "height": 270
    },
    "id": "tgSgyrEhJ6lN",
    "outputId": "e1cc9b68-1c1a-49c4-f764-ecdcec80075e"
   },
   "outputs": [],
   "source": [
    "cares.head()"
   ]
  },
  {
   "cell_type": "code",
   "execution_count": null,
   "metadata": {},
   "outputs": [],
   "source": [
    "# post-processing profiling\n",
    "profile = ProfileReport(cares)\n",
    "profile.to_file(output_file='../output/post_processed_data_profile.html')"
   ]
  },
  {
   "cell_type": "markdown",
   "metadata": {
    "id": "hupo4P-RNyoT"
   },
   "source": [
    "## Save as CSV"
   ]
  },
  {
   "cell_type": "code",
   "execution_count": null,
   "metadata": {
    "id": "Quw1BioANOnQ"
   },
   "outputs": [],
   "source": [
    "cares.to_csv(\"../data/CARES_dataset_clean.csv\", index=False)"
   ]
  },
  {
   "cell_type": "markdown",
   "metadata": {
    "id": "2dTmUIKIN6VR"
   },
   "source": [
    "## Data Preparation (Part II)\n",
    "- Drop duplicated records\n",
    "- Missing value imputation \n",
    "- Feature Engineering\n",
    "\n",
    "**Research Papers**\n",
    "\n",
    "**Justifications**"
   ]
  },
  {
   "cell_type": "code",
   "execution_count": 309,
   "metadata": {},
   "outputs": [],
   "source": [
    "# Import dependencies\n",
    "import pandas as pd\n",
    "import seaborn as sns\n",
    "import matplotlib.pyplot as plt\n",
    "import duckdb\n",
    "from duckdb import sql"
   ]
  },
  {
   "cell_type": "code",
   "execution_count": 310,
   "metadata": {},
   "outputs": [],
   "source": [
    "# Import dataset\n",
    "data = pd.read_csv(\"../data/CARES_dataset_clean.csv\")"
   ]
  },
  {
   "cell_type": "markdown",
   "metadata": {},
   "source": [
    "### Drop duplicated cols"
   ]
  },
  {
   "cell_type": "code",
   "execution_count": 311,
   "metadata": {},
   "outputs": [],
   "source": [
    "# Remove duplicated records with respect to all columns\n",
    "data = data.drop_duplicates()\n",
    "data.reset_index(drop=True, inplace=True)"
   ]
  },
  {
   "cell_type": "code",
   "execution_count": 312,
   "metadata": {},
   "outputs": [
    {
     "data": {
      "text/plain": [
       "73201"
      ]
     },
     "execution_count": 312,
     "metadata": {},
     "output_type": "execute_result"
    }
   ],
   "source": [
    "len(data)"
   ]
  },
  {
   "cell_type": "code",
   "execution_count": 313,
   "metadata": {},
   "outputs": [
    {
     "name": "stdout",
     "output_type": "stream",
     "text": [
      "<class 'pandas.core.frame.DataFrame'>\n",
      "RangeIndex: 73201 entries, 0 to 73200\n",
      "Data columns (total 26 columns):\n",
      " #   Column                             Non-Null Count  Dtype  \n",
      "---  ------                             --------------  -----  \n",
      " 0   GENDER                             73201 non-null  object \n",
      " 1   RCRI score                         50370 non-null  float64\n",
      " 2   Anemia category                    72216 non-null  object \n",
      " 3   PreopEGFRMDRD                      70069 non-null  float64\n",
      " 4   DaysbetweenDeathandoperation       5595 non-null   float64\n",
      " 5   Preoptransfusionwithin30days       73201 non-null  float64\n",
      " 6   Intraop                            73201 non-null  float64\n",
      " 7   Postopwithin30days                 73201 non-null  float64\n",
      " 8   Transfusionintraandpostop          73201 non-null  float64\n",
      " 9   AnaestypeCategory                  73201 non-null  object \n",
      " 10  PriorityCategory                   73201 non-null  object \n",
      " 11  TransfusionIntraandpostopCategory  73201 non-null  object \n",
      " 12  AGEcategory                        73201 non-null  object \n",
      " 13  Mortality                          73201 non-null  object \n",
      " 14  thirtydaymortality                 73201 non-null  bool   \n",
      " 15  SurgRiskCategory                   73201 non-null  object \n",
      " 16  RaceCategory                       73201 non-null  object \n",
      " 17  CVARCRICategory                    73201 non-null  object \n",
      " 18  IHDRCRICategory                    73201 non-null  object \n",
      " 19  CHFRCRICategory                    73201 non-null  object \n",
      " 20  DMinsulinRCRICategory              73201 non-null  object \n",
      " 21  CreatinineRCRICategory             73201 non-null  object \n",
      " 22  GradeofKidneyCategory              70069 non-null  object \n",
      " 23  RDW15.7                            71170 non-null  object \n",
      " 24  ASAcategorybinned                  69374 non-null  object \n",
      " 25  ICUAdmgt24h                        73201 non-null  object \n",
      "dtypes: bool(1), float64(7), object(18)\n",
      "memory usage: 14.0+ MB\n"
     ]
    }
   ],
   "source": [
    "data.info()"
   ]
  },
  {
   "cell_type": "code",
   "execution_count": 314,
   "metadata": {},
   "outputs": [],
   "source": [
    "# Define categorical, numeric & target columns\n",
    "# Define the target columns\n",
    "target_cols = ['ICUAdmgt24h', 'thirtydaymortality', 'Mortality']\n",
    "\n",
    "# Select categorical columns and exclude target columns\n",
    "cat_cols = data.select_dtypes(include=['object', 'category']).columns.to_list()\n",
    "cat_cols = [col for col in cat_cols if col not in target_cols]\n",
    "\n",
    "# Select numerical columns and exclude target columns\n",
    "num_cols = data.select_dtypes(include=['number']).columns.tolist()\n",
    "num_cols = [col for col in num_cols if col not in target_cols]"
   ]
  },
  {
   "cell_type": "code",
   "execution_count": 315,
   "metadata": {},
   "outputs": [
    {
     "data": {
      "text/plain": [
       "['GENDER',\n",
       " 'Anemia category',\n",
       " 'AnaestypeCategory',\n",
       " 'PriorityCategory',\n",
       " 'TransfusionIntraandpostopCategory',\n",
       " 'AGEcategory',\n",
       " 'SurgRiskCategory',\n",
       " 'RaceCategory',\n",
       " 'CVARCRICategory',\n",
       " 'IHDRCRICategory',\n",
       " 'CHFRCRICategory',\n",
       " 'DMinsulinRCRICategory',\n",
       " 'CreatinineRCRICategory',\n",
       " 'GradeofKidneyCategory',\n",
       " 'RDW15.7',\n",
       " 'ASAcategorybinned']"
      ]
     },
     "execution_count": 315,
     "metadata": {},
     "output_type": "execute_result"
    }
   ],
   "source": [
    "cat_cols"
   ]
  },
  {
   "cell_type": "code",
   "execution_count": 316,
   "metadata": {},
   "outputs": [
    {
     "data": {
      "text/plain": [
       "['RCRI score',\n",
       " 'PreopEGFRMDRD',\n",
       " 'DaysbetweenDeathandoperation',\n",
       " 'Preoptransfusionwithin30days',\n",
       " 'Intraop',\n",
       " 'Postopwithin30days',\n",
       " 'Transfusionintraandpostop']"
      ]
     },
     "execution_count": 316,
     "metadata": {},
     "output_type": "execute_result"
    }
   ],
   "source": [
    "num_cols"
   ]
  },
  {
   "cell_type": "code",
   "execution_count": 317,
   "metadata": {},
   "outputs": [
    {
     "data": {
      "text/plain": [
       "['ICUAdmgt24h', 'thirtydaymortality', 'Mortality']"
      ]
     },
     "execution_count": 317,
     "metadata": {},
     "output_type": "execute_result"
    }
   ],
   "source": [
    "target_cols"
   ]
  },
  {
   "cell_type": "markdown",
   "metadata": {},
   "source": [
    "### Review missing data %"
   ]
  },
  {
   "cell_type": "code",
   "execution_count": null,
   "metadata": {},
   "outputs": [],
   "source": []
  },
  {
   "cell_type": "code",
   "execution_count": 318,
   "metadata": {},
   "outputs": [
    {
     "name": "stdout",
     "output_type": "stream",
     "text": [
      "Percentage of missing data in target columns:\n",
      "ICUAdmgt24h           0.0\n",
      "thirtydaymortality    0.0\n",
      "Mortality             0.0\n",
      "dtype: float64\n",
      "\n",
      "Percentage of missing data in categorical columns:\n",
      "GENDER                               0.000000\n",
      "Anemia category                      1.345610\n",
      "AnaestypeCategory                    0.000000\n",
      "PriorityCategory                     0.000000\n",
      "TransfusionIntraandpostopCategory    0.000000\n",
      "AGEcategory                          0.000000\n",
      "SurgRiskCategory                     0.000000\n",
      "RaceCategory                         0.000000\n",
      "CVARCRICategory                      0.000000\n",
      "IHDRCRICategory                      0.000000\n",
      "CHFRCRICategory                      0.000000\n",
      "DMinsulinRCRICategory                0.000000\n",
      "CreatinineRCRICategory               0.000000\n",
      "GradeofKidneyCategory                4.278630\n",
      "RDW15.7                              2.774552\n",
      "ASAcategorybinned                    5.228071\n",
      "dtype: float64\n",
      "\n",
      "Percentage of missing data in numerical columns:\n",
      "RCRI score                      31.189465\n",
      "PreopEGFRMDRD                    4.278630\n",
      "DaysbetweenDeathandoperation    92.356662\n",
      "Preoptransfusionwithin30days     0.000000\n",
      "Intraop                          0.000000\n",
      "Postopwithin30days               0.000000\n",
      "Transfusionintraandpostop        0.000000\n",
      "dtype: float64\n"
     ]
    }
   ],
   "source": [
    "# Function to calculate the percentage of missing data for given columns\n",
    "def calculate_missing_data_percentage(data, columns):\n",
    "    missing_data = data[columns].isnull().mean() * 100\n",
    "    return missing_data\n",
    "\n",
    "# Calculate the percentage of missing data for target columns\n",
    "missing_target_cols = calculate_missing_data_percentage(data, target_cols)\n",
    "print(\"Percentage of missing data in target columns:\")\n",
    "print(missing_target_cols)\n",
    "\n",
    "# Calculate the percentage of missing data for categorical columns\n",
    "missing_cat_cols = calculate_missing_data_percentage(data, cat_cols)\n",
    "print(\"\\nPercentage of missing data in categorical columns:\")\n",
    "print(missing_cat_cols)\n",
    "\n",
    "# Calculate the percentage of missing data for numerical columns\n",
    "missing_num_cols = calculate_missing_data_percentage(data, num_cols)\n",
    "print(\"\\nPercentage of missing data in numerical columns:\")\n",
    "print(missing_num_cols)"
   ]
  },
  {
   "cell_type": "markdown",
   "metadata": {},
   "source": [
    "### Observations & Imputation Strategies\n",
    "- *Drop 'DaysbetweenDeathandoperation' - Missing rate too high*\n",
    "- *Drop 'PreopEGFRMDRD' - Non-significance based on univariate analysis.*\n",
    "- *Drop missing records for Anemia category (1.3% missing), GradeofKidneyCategory, RDW15.7 due to low missing rates*\n",
    "- *Critical cols for imputation: RCRI score (31% missing)*\n",
    "- *Important cols for imputation: ASAcategorybinned.\n",
    "\n",
    "1. **RCRI score**\n",
    "- ***Definition:*** *Revised Cardiac Risk Index. Six independent predictors of complications were identified and included in a Revised Cardiac Risk Index: high-risk type of surgery, history of ischemic heart disease, history of congestive heart failure, history of cerebrovascular disease, preoperative treatment with insulin, and preoperative serum creatinine >2.0 mg/dL.*\n",
    "- Paper: https://www.ahajournals.org/doi/full/10.1161/01.CIR.100.10.1043\n",
    "- Important predictors (based on paper): 'SurgRiskCategory', 'CHFRCRICategory', 'CVARCRICategory'.\n",
    "\n",
    "2. **ASA PS Score**\n",
    "- **Definition:** The American Society of Anesthesiologists Physical Status classification system (ASA PS) is a method of characterizing patient operative risk on a scale of 1-5, where 1 is normal health and 5 is moribund. Every anesthesiologist is trained in this measure, and it is performed before every procedure in which a patient undergoes anesthesia. We measured the independent predictive value of ASA-PS for complications and mortality in the ACS-NSQIP database by multivariate regression. We conducted analogous regressions after standardizing ASA-PS to control for interprocedural variations in risk in the overall model and sub-analyses by surgical specialty and the most common procedures.\n",
    "- Paper: https://pubmed.ncbi.nlm.nih.gov/25937154/, https://www.asahq.org/standards-and-practice-parameters/statement-on-asa-physical-status-classification-system\n",
    "- **Insights:** Seems like Age & Cardiac-associated factors are linked to ASA PS scores for patients.\n",
    "- Explore Correlations of ASA PS scores with variables: 'AGEcategory', 'RCRI_score'"
   ]
  },
  {
   "cell_type": "code",
   "execution_count": 319,
   "metadata": {},
   "outputs": [],
   "source": [
    "# DROP\n",
    "data.drop(['PreopEGFRMDRD', 'DaysbetweenDeathandoperation'], axis=1, inplace=True)\n",
    "data.dropna(subset=['Anemia category', 'GradeofKidneyCategory', 'RDW15.7'], inplace=True)"
   ]
  },
  {
   "cell_type": "code",
   "execution_count": 320,
   "metadata": {},
   "outputs": [],
   "source": [
    "# Define categorical, numeric & target columns\n",
    "# Define the target columns\n",
    "target_cols = ['ICUAdmgt24h', 'thirtydaymortality', 'Mortality']\n",
    "\n",
    "# Select categorical columns and exclude target columns\n",
    "cat_cols = data.select_dtypes(include=['object', 'category']).columns.to_list()\n",
    "cat_cols = [col for col in cat_cols if col not in target_cols]\n",
    "\n",
    "# Select numerical columns and exclude target columns\n",
    "num_cols = data.select_dtypes(include=['number']).columns.tolist()\n",
    "num_cols = [col for col in num_cols if col not in target_cols]"
   ]
  },
  {
   "cell_type": "code",
   "execution_count": 321,
   "metadata": {},
   "outputs": [
    {
     "name": "stdout",
     "output_type": "stream",
     "text": [
      "Percentage of missing data in target columns:\n",
      "ICUAdmgt24h           0.0\n",
      "thirtydaymortality    0.0\n",
      "Mortality             0.0\n",
      "dtype: float64\n",
      "\n",
      "Percentage of missing data in categorical columns:\n",
      "GENDER                               0.000000\n",
      "Anemia category                      0.000000\n",
      "AnaestypeCategory                    0.000000\n",
      "PriorityCategory                     0.000000\n",
      "TransfusionIntraandpostopCategory    0.000000\n",
      "AGEcategory                          0.000000\n",
      "SurgRiskCategory                     0.000000\n",
      "RaceCategory                         0.000000\n",
      "CVARCRICategory                      0.000000\n",
      "IHDRCRICategory                      0.000000\n",
      "CHFRCRICategory                      0.000000\n",
      "DMinsulinRCRICategory                0.000000\n",
      "CreatinineRCRICategory               0.000000\n",
      "GradeofKidneyCategory                0.000000\n",
      "RDW15.7                              0.000000\n",
      "ASAcategorybinned                    4.933469\n",
      "dtype: float64\n",
      "\n",
      "Percentage of missing data in numerical columns:\n",
      "RCRI score                      30.866838\n",
      "Preoptransfusionwithin30days     0.000000\n",
      "Intraop                          0.000000\n",
      "Postopwithin30days               0.000000\n",
      "Transfusionintraandpostop        0.000000\n",
      "dtype: float64\n"
     ]
    }
   ],
   "source": [
    "# Function to calculate the percentage of missing data for given columns\n",
    "def calculate_missing_data_percentage(data, columns):\n",
    "    missing_data = data[columns].isnull().mean() * 100\n",
    "    return missing_data\n",
    "\n",
    "# Calculate the percentage of missing data for target columns\n",
    "missing_target_cols = calculate_missing_data_percentage(data, target_cols)\n",
    "print(\"Percentage of missing data in target columns:\")\n",
    "print(missing_target_cols)\n",
    "\n",
    "# Calculate the percentage of missing data for categorical columns\n",
    "missing_cat_cols = calculate_missing_data_percentage(data, cat_cols)\n",
    "print(\"\\nPercentage of missing data in categorical columns:\")\n",
    "print(missing_cat_cols)\n",
    "\n",
    "# Calculate the percentage of missing data for numerical columns\n",
    "missing_num_cols = calculate_missing_data_percentage(data, num_cols)\n",
    "print(\"\\nPercentage of missing data in numerical columns:\")\n",
    "print(missing_num_cols)"
   ]
  },
  {
   "cell_type": "code",
   "execution_count": 322,
   "metadata": {},
   "outputs": [
    {
     "data": {
      "text/plain": [
       "<Axes: >"
      ]
     },
     "execution_count": 322,
     "metadata": {},
     "output_type": "execute_result"
    },
    {
     "data": {
      "image/png": "[encoded data removed]",
      "text/plain": [
       "<Figure size 640x480 with 1 Axes>"
      ]
     },
     "metadata": {},
     "output_type": "display_data"
    }
   ],
   "source": [
    "# Convert float values to strings and remove decimal places\n",
    "data['RCRI score'] = data['RCRI score'].astype('Int64')\n",
    "data['RCRI score'] = data['RCRI score'].astype(str)\n",
    "data['RCRI score'].hist(bins=10)"
   ]
  },
  {
   "cell_type": "code",
   "execution_count": 323,
   "metadata": {},
   "outputs": [
    {
     "data": {
      "text/plain": [
       "RCRI score\n",
       "0       33558\n",
       "<NA>    21504\n",
       "1       11367\n",
       "2        2367\n",
       "3         670\n",
       "4         166\n",
       "5          33\n",
       "6           2\n",
       "Name: count, dtype: int64"
      ]
     },
     "execution_count": 323,
     "metadata": {},
     "output_type": "execute_result"
    }
   ],
   "source": [
    "data['RCRI score'].value_counts()"
   ]
  },
  {
   "cell_type": "markdown",
   "metadata": {},
   "source": [
    "### Review pairplot for predictors"
   ]
  },
  {
   "cell_type": "code",
   "execution_count": 324,
   "metadata": {},
   "outputs": [],
   "source": [
    "# Replace '<NA>' strings with NaN in the 'RCRI_score' column\n",
    "data['RCRI score'] = data['RCRI score'].replace('<NA>', np.nan)"
   ]
  },
  {
   "cell_type": "code",
   "execution_count": 325,
   "metadata": {},
   "outputs": [
    {
     "name": "stderr",
     "output_type": "stream",
     "text": [
      "/var/folders/cw/kl_62dc55m98jwry7cttqyyr0000gn/T/ipykernel_42548/3152462398.py:3: SettingWithCopyWarning: \n",
      "A value is trying to be set on a copy of a slice from a DataFrame\n",
      "\n",
      "See the caveats in the documentation: https://pandas.pydata.org/pandas-docs/stable/user_guide/indexing.html#returning-a-view-versus-a-copy\n",
      "  subset1.rename(columns={'RCRI score': 'RCRI_score'}, inplace=True)\n"
     ]
    },
    {
     "data": {
      "text/html": [
       "<div>\n",
       "<style scoped>\n",
       "    .dataframe tbody tr th:only-of-type {\n",
       "        vertical-align: middle;\n",
       "    }\n",
       "\n",
       "    .dataframe tbody tr th {\n",
       "        vertical-align: top;\n",
       "    }\n",
       "\n",
       "    .dataframe thead th {\n",
       "        text-align: right;\n",
       "    }\n",
       "</style>\n",
       "<table border=\"1\" class=\"dataframe\">\n",
       "  <thead>\n",
       "    <tr style=\"text-align: right;\">\n",
       "      <th></th>\n",
       "      <th>RCRI_score</th>\n",
       "      <th>SurgRiskCategory</th>\n",
       "      <th>CHFRCRICategory</th>\n",
       "      <th>CVARCRICategory</th>\n",
       "    </tr>\n",
       "  </thead>\n",
       "  <tbody>\n",
       "    <tr>\n",
       "      <th>4</th>\n",
       "      <td>0</td>\n",
       "      <td>Low</td>\n",
       "      <td>no</td>\n",
       "      <td>no</td>\n",
       "    </tr>\n",
       "    <tr>\n",
       "      <th>8</th>\n",
       "      <td>0</td>\n",
       "      <td>Moderate</td>\n",
       "      <td>no</td>\n",
       "      <td>no</td>\n",
       "    </tr>\n",
       "    <tr>\n",
       "      <th>9</th>\n",
       "      <td>1</td>\n",
       "      <td>Moderate</td>\n",
       "      <td>no</td>\n",
       "      <td>no</td>\n",
       "    </tr>\n",
       "    <tr>\n",
       "      <th>10</th>\n",
       "      <td>0</td>\n",
       "      <td>Low</td>\n",
       "      <td>no</td>\n",
       "      <td>no</td>\n",
       "    </tr>\n",
       "    <tr>\n",
       "      <th>11</th>\n",
       "      <td>1</td>\n",
       "      <td>Moderate</td>\n",
       "      <td>no</td>\n",
       "      <td>no</td>\n",
       "    </tr>\n",
       "  </tbody>\n",
       "</table>\n",
       "</div>"
      ],
      "text/plain": [
       "   RCRI_score SurgRiskCategory CHFRCRICategory CVARCRICategory\n",
       "4           0              Low              no              no\n",
       "8           0         Moderate              no              no\n",
       "9           1         Moderate              no              no\n",
       "10          0              Low              no              no\n",
       "11          1         Moderate              no              no"
      ]
     },
     "execution_count": 325,
     "metadata": {},
     "output_type": "execute_result"
    }
   ],
   "source": [
    "subset = data[['RCRI score', 'SurgRiskCategory', 'CHFRCRICategory', 'CVARCRICategory']]\n",
    "subset1 = subset.loc[(~subset['RCRI score'].isnull())]\n",
    "subset1.rename(columns={'RCRI score': 'RCRI_score'}, inplace=True)\n",
    "subset1.head()"
   ]
  },
  {
   "cell_type": "code",
   "execution_count": 326,
   "metadata": {},
   "outputs": [
    {
     "data": {
      "text/plain": [
       "RCRI_score\n",
       "0    0.696759\n",
       "1    0.236011\n",
       "2    0.049146\n",
       "3    0.013911\n",
       "4    0.003447\n",
       "5    0.000685\n",
       "6    0.000042\n",
       "Name: proportion, dtype: float64"
      ]
     },
     "execution_count": 326,
     "metadata": {},
     "output_type": "execute_result"
    }
   ],
   "source": [
    "subset1['RCRI_score'].value_counts(normalize=True)"
   ]
  },
  {
   "cell_type": "code",
   "execution_count": 327,
   "metadata": {},
   "outputs": [
    {
     "data": {
      "text/html": [
       "<div>\n",
       "<style scoped>\n",
       "    .dataframe tbody tr th:only-of-type {\n",
       "        vertical-align: middle;\n",
       "    }\n",
       "\n",
       "    .dataframe tbody tr th {\n",
       "        vertical-align: top;\n",
       "    }\n",
       "\n",
       "    .dataframe thead th {\n",
       "        text-align: right;\n",
       "    }\n",
       "</style>\n",
       "<table border=\"1\" class=\"dataframe\">\n",
       "  <thead>\n",
       "    <tr style=\"text-align: right;\">\n",
       "      <th>RCRI_score</th>\n",
       "      <th>0</th>\n",
       "      <th>1</th>\n",
       "      <th>2</th>\n",
       "      <th>3</th>\n",
       "      <th>4</th>\n",
       "      <th>5</th>\n",
       "      <th>6</th>\n",
       "    </tr>\n",
       "    <tr>\n",
       "      <th>SurgRiskCategory</th>\n",
       "      <th></th>\n",
       "      <th></th>\n",
       "      <th></th>\n",
       "      <th></th>\n",
       "      <th></th>\n",
       "      <th></th>\n",
       "      <th></th>\n",
       "    </tr>\n",
       "  </thead>\n",
       "  <tbody>\n",
       "    <tr>\n",
       "      <th>High</th>\n",
       "      <td>0.210349</td>\n",
       "      <td>0.592764</td>\n",
       "      <td>0.145141</td>\n",
       "      <td>0.042491</td>\n",
       "      <td>0.007573</td>\n",
       "      <td>0.001683</td>\n",
       "      <td>0.000000</td>\n",
       "    </tr>\n",
       "    <tr>\n",
       "      <th>Low</th>\n",
       "      <td>0.821379</td>\n",
       "      <td>0.131483</td>\n",
       "      <td>0.032697</td>\n",
       "      <td>0.011015</td>\n",
       "      <td>0.002862</td>\n",
       "      <td>0.000477</td>\n",
       "      <td>0.000087</td>\n",
       "    </tr>\n",
       "    <tr>\n",
       "      <th>Moderate</th>\n",
       "      <td>0.621183</td>\n",
       "      <td>0.304761</td>\n",
       "      <td>0.055795</td>\n",
       "      <td>0.013861</td>\n",
       "      <td>0.003608</td>\n",
       "      <td>0.000792</td>\n",
       "      <td>0.000000</td>\n",
       "    </tr>\n",
       "  </tbody>\n",
       "</table>\n",
       "</div>"
      ],
      "text/plain": [
       "RCRI_score               0         1         2         3         4         5  \\\n",
       "SurgRiskCategory                                                               \n",
       "High              0.210349  0.592764  0.145141  0.042491  0.007573  0.001683   \n",
       "Low               0.821379  0.131483  0.032697  0.011015  0.002862  0.000477   \n",
       "Moderate          0.621183  0.304761  0.055795  0.013861  0.003608  0.000792   \n",
       "\n",
       "RCRI_score               6  \n",
       "SurgRiskCategory            \n",
       "High              0.000000  \n",
       "Low               0.000087  \n",
       "Moderate          0.000000  "
      ]
     },
     "execution_count": 327,
     "metadata": {},
     "output_type": "execute_result"
    }
   ],
   "source": [
    "col = 'SurgRiskCategory'\n",
    "target_col = 'RCRI_score'\n",
    "crosstab = pd.crosstab(subset1[col], subset1[target_col], normalize='index')\n",
    "crosstab"
   ]
  },
  {
   "cell_type": "code",
   "execution_count": 328,
   "metadata": {},
   "outputs": [],
   "source": [
    "import pandas as pd\n",
    "import matplotlib.pyplot as plt\n",
    "import seaborn as sns\n",
    "\n",
    "def plot_categorical_proportions(subset1):\n",
    "    '''Plot proportion of RCRI_score counts in each category normalized across RCRI_score categories'''\n",
    "    \n",
    "    # Define the target column\n",
    "    target_col = 'RCRI_score'\n",
    "    \n",
    "    # Get the list of other columns to plot against the target\n",
    "    other_cols = [col for col in subset1.columns if col != target_col]\n",
    "    \n",
    "    # Set the plot style\n",
    "    sns.set(style=\"whitegrid\")\n",
    "    \n",
    "    # Create a proportion plot for each categorical variable\n",
    "    for col in other_cols:\n",
    "        # Create a cross-tabulation of the categorical column and the target column\n",
    "        crosstab = pd.crosstab(subset1[col], subset1[target_col], normalize='columns')\n",
    "        \n",
    "        # Plot the proportions using a stacked bar plot\n",
    "        crosstab.plot(kind='bar', stacked=True, figsize=(10, 6))\n",
    "        \n",
    "        # Set the title and labels\n",
    "        plt.title(f'Proportion Plot of {col} by {target_col}')\n",
    "        plt.xlabel(col)\n",
    "        plt.ylabel('Proportion')\n",
    "        \n",
    "        # Add a legend\n",
    "        plt.legend(title=target_col, bbox_to_anchor=(1.05, 1), loc='upper left')\n",
    "        \n",
    "        # Adjust the layout and show the plot\n",
    "        plt.tight_layout()\n",
    "        plt.show()"
   ]
  },
  {
   "cell_type": "code",
   "execution_count": 329,
   "metadata": {},
   "outputs": [
    {
     "data": {
      "image/png": "[encoded data removed]",
      "text/plain": [
       "<Figure size 1000x600 with 1 Axes>"
      ]
     },
     "metadata": {},
     "output_type": "display_data"
    },
    {
     "data": {
      "image/png": "[encoded data removed]",
      "text/plain": [
       "<Figure size 1000x600 with 1 Axes>"
      ]
     },
     "metadata": {},
     "output_type": "display_data"
    },
    {
     "data": {
      "image/png": "[encoded data removed]",
      "text/plain": [
       "<Figure size 1000x600 with 1 Axes>"
      ]
     },
     "metadata": {},
     "output_type": "display_data"
    }
   ],
   "source": [
    "plot_categorical_proportions(subset1)"
   ]
  },
  {
   "cell_type": "markdown",
   "metadata": {},
   "source": [
    "### Findings: \n",
    "- Drop 'SurgRiskCategory' as predictor as no clear r/s is seen. \n",
    "- Clear relationships seen for other risk factors 'CHFRCRICategory', 'CVARCRICategory'. \n",
    "- Train simple RF model on remaining categories for imputation. "
   ]
  },
  {
   "cell_type": "code",
   "execution_count": 330,
   "metadata": {},
   "outputs": [
    {
     "data": {
      "text/html": [
       "<div>\n",
       "<style scoped>\n",
       "    .dataframe tbody tr th:only-of-type {\n",
       "        vertical-align: middle;\n",
       "    }\n",
       "\n",
       "    .dataframe tbody tr th {\n",
       "        vertical-align: top;\n",
       "    }\n",
       "\n",
       "    .dataframe thead th {\n",
       "        text-align: right;\n",
       "    }\n",
       "</style>\n",
       "<table border=\"1\" class=\"dataframe\">\n",
       "  <thead>\n",
       "    <tr style=\"text-align: right;\">\n",
       "      <th></th>\n",
       "      <th>RCRI_score</th>\n",
       "      <th>CHFRCRICategory</th>\n",
       "      <th>CVARCRICategory</th>\n",
       "    </tr>\n",
       "  </thead>\n",
       "  <tbody>\n",
       "    <tr>\n",
       "      <th>4</th>\n",
       "      <td>0</td>\n",
       "      <td>no</td>\n",
       "      <td>no</td>\n",
       "    </tr>\n",
       "    <tr>\n",
       "      <th>8</th>\n",
       "      <td>0</td>\n",
       "      <td>no</td>\n",
       "      <td>no</td>\n",
       "    </tr>\n",
       "    <tr>\n",
       "      <th>9</th>\n",
       "      <td>1</td>\n",
       "      <td>no</td>\n",
       "      <td>no</td>\n",
       "    </tr>\n",
       "    <tr>\n",
       "      <th>10</th>\n",
       "      <td>0</td>\n",
       "      <td>no</td>\n",
       "      <td>no</td>\n",
       "    </tr>\n",
       "    <tr>\n",
       "      <th>11</th>\n",
       "      <td>1</td>\n",
       "      <td>no</td>\n",
       "      <td>no</td>\n",
       "    </tr>\n",
       "  </tbody>\n",
       "</table>\n",
       "</div>"
      ],
      "text/plain": [
       "   RCRI_score CHFRCRICategory CVARCRICategory\n",
       "4           0              no              no\n",
       "8           0              no              no\n",
       "9           1              no              no\n",
       "10          0              no              no\n",
       "11          1              no              no"
      ]
     },
     "execution_count": 330,
     "metadata": {},
     "output_type": "execute_result"
    }
   ],
   "source": [
    "subset2 = subset1.drop('SurgRiskCategory', axis=1)\n",
    "subset2.head()"
   ]
  },
  {
   "cell_type": "markdown",
   "metadata": {},
   "source": [
    "### Run imputations with simple RF model. \n",
    "- Fit to subset2 (records with non-missing RCRI_scores) for training\n",
    "- Run inference on records with missing RCRI_scores\n",
    "- Impute to dataset. "
   ]
  },
  {
   "cell_type": "code",
   "execution_count": 331,
   "metadata": {},
   "outputs": [],
   "source": [
    "df = data.copy()"
   ]
  },
  {
   "cell_type": "code",
   "execution_count": 332,
   "metadata": {},
   "outputs": [
    {
     "data": {
      "text/plain": [
       "21504"
      ]
     },
     "execution_count": 332,
     "metadata": {},
     "output_type": "execute_result"
    }
   ],
   "source": [
    "df['RCRI score'].isnull().sum()"
   ]
  },
  {
   "cell_type": "code",
   "execution_count": 333,
   "metadata": {},
   "outputs": [],
   "source": [
    "import pandas as pd\n",
    "import numpy as np\n",
    "from sklearn.ensemble import RandomForestClassifier\n",
    "from sklearn.model_selection import train_test_split\n",
    "from sklearn.metrics import classification_report\n",
    "from sklearn.preprocessing import OneHotEncoder\n",
    "from sklearn.compose import ColumnTransformer\n",
    "from sklearn.pipeline import Pipeline\n",
    "\n",
    "def impute_rcri_score(subset2, data):\n",
    "    # Rename the column 'RCRI score' to 'RCRI_score' in both dataframes\n",
    "    subset2.rename(columns={'RCRI score': 'RCRI_score'}, inplace=True)\n",
    "    data.rename(columns={'RCRI score': 'RCRI_score'}, inplace=True)\n",
    "    \n",
    "    # Define the features and target column\n",
    "    features = ['CHFRCRICategory', 'CVARCRICategory']\n",
    "    target_col = 'RCRI_score'\n",
    "    \n",
    "    # Separate features and target in subset2\n",
    "    X = subset2[features]\n",
    "    y = subset2[target_col]\n",
    "    \n",
    "    # Set up the one-hot encoder\n",
    "    preprocessor = ColumnTransformer(\n",
    "        transformers=[\n",
    "            ('cat', OneHotEncoder(handle_unknown='ignore'), features)\n",
    "        ]\n",
    "    )\n",
    "    \n",
    "    # Define the Random Forest model with class weights\n",
    "    rf = RandomForestClassifier(class_weight='balanced', random_state=42)\n",
    "    \n",
    "    # Create a pipeline that first applies one-hot encoding then trains the Random Forest model\n",
    "    pipeline = Pipeline(steps=[\n",
    "        ('preprocessor', preprocessor),\n",
    "        ('classifier', rf)\n",
    "    ])\n",
    "    \n",
    "    # Split the data into training and validation sets\n",
    "    X_train, X_val, y_train, y_val = train_test_split(X, y, test_size=0.2, random_state=42)\n",
    "    \n",
    "    # Train the pipeline\n",
    "    pipeline.fit(X_train, y_train)\n",
    "    \n",
    "    # Evaluate the model on the validation set\n",
    "    y_val_pred = pipeline.predict(X_val)\n",
    "    print(\"Validation Set Classification Report:\")\n",
    "    print(classification_report(y_val, y_val_pred))\n",
    "    \n",
    "    # Identify rows with missing 'RCRI_score' in the data\n",
    "    missing_rcri_score = data[target_col].isnull()\n",
    "    \n",
    "    # Prepare features for rows with missing 'RCRI_score'\n",
    "    X_missing = data.loc[missing_rcri_score, features]\n",
    "    \n",
    "    # Impute the missing values using the trained pipeline\n",
    "    imputed_rcri_scores = pipeline.predict(X_missing)\n",
    "    \n",
    "    # Impute the missing values in the original data\n",
    "    data.loc[missing_rcri_score, target_col] = imputed_rcri_scores\n",
    "    \n",
    "    return data"
   ]
  },
  {
   "cell_type": "code",
   "execution_count": 334,
   "metadata": {},
   "outputs": [
    {
     "name": "stdout",
     "output_type": "stream",
     "text": [
      "Validation Set Classification Report:\n",
      "              precision    recall  f1-score   support\n",
      "\n",
      "           0       0.73      1.00      0.84      6698\n",
      "           1       0.00      0.00      0.00      2296\n",
      "           2       0.00      0.00      0.00       477\n",
      "           3       0.00      0.00      0.00       129\n",
      "           4       0.05      0.58      0.08        31\n",
      "           5       0.00      0.00      0.00         2\n",
      "           6       0.00      0.00      0.00         0\n",
      "\n",
      "    accuracy                           0.70      9633\n",
      "   macro avg       0.11      0.23      0.13      9633\n",
      "weighted avg       0.51      0.70      0.59      9633\n",
      "\n"
     ]
    },
    {
     "name": "stderr",
     "output_type": "stream",
     "text": [
      "/Users/jinkettyee/opt/anaconda3/envs/playground_py_3_9_15/lib/python3.9/site-packages/sklearn/metrics/_classification.py:1471: UndefinedMetricWarning: Precision and F-score are ill-defined and being set to 0.0 in labels with no predicted samples. Use `zero_division` parameter to control this behavior.\n",
      "  _warn_prf(average, modifier, msg_start, len(result))\n",
      "/Users/jinkettyee/opt/anaconda3/envs/playground_py_3_9_15/lib/python3.9/site-packages/sklearn/metrics/_classification.py:1471: UndefinedMetricWarning: Recall and F-score are ill-defined and being set to 0.0 in labels with no true samples. Use `zero_division` parameter to control this behavior.\n",
      "  _warn_prf(average, modifier, msg_start, len(result))\n",
      "/Users/jinkettyee/opt/anaconda3/envs/playground_py_3_9_15/lib/python3.9/site-packages/sklearn/metrics/_classification.py:1471: UndefinedMetricWarning: Precision and F-score are ill-defined and being set to 0.0 in labels with no predicted samples. Use `zero_division` parameter to control this behavior.\n",
      "  _warn_prf(average, modifier, msg_start, len(result))\n",
      "/Users/jinkettyee/opt/anaconda3/envs/playground_py_3_9_15/lib/python3.9/site-packages/sklearn/metrics/_classification.py:1471: UndefinedMetricWarning: Recall and F-score are ill-defined and being set to 0.0 in labels with no true samples. Use `zero_division` parameter to control this behavior.\n",
      "  _warn_prf(average, modifier, msg_start, len(result))\n",
      "/Users/jinkettyee/opt/anaconda3/envs/playground_py_3_9_15/lib/python3.9/site-packages/sklearn/metrics/_classification.py:1471: UndefinedMetricWarning: Precision and F-score are ill-defined and being set to 0.0 in labels with no predicted samples. Use `zero_division` parameter to control this behavior.\n",
      "  _warn_prf(average, modifier, msg_start, len(result))\n",
      "/Users/jinkettyee/opt/anaconda3/envs/playground_py_3_9_15/lib/python3.9/site-packages/sklearn/metrics/_classification.py:1471: UndefinedMetricWarning: Recall and F-score are ill-defined and being set to 0.0 in labels with no true samples. Use `zero_division` parameter to control this behavior.\n",
      "  _warn_prf(average, modifier, msg_start, len(result))\n"
     ]
    }
   ],
   "source": [
    "data = impute_rcri_score(subset2, data)"
   ]
  },
  {
   "cell_type": "code",
   "execution_count": 335,
   "metadata": {},
   "outputs": [
    {
     "data": {
      "text/plain": [
       "21504"
      ]
     },
     "execution_count": 335,
     "metadata": {},
     "output_type": "execute_result"
    }
   ],
   "source": [
    "df['RCRI score'].isnull().sum()"
   ]
  },
  {
   "cell_type": "code",
   "execution_count": 336,
   "metadata": {},
   "outputs": [
    {
     "data": {
      "text/plain": [
       "RCRI score\n",
       "0    33558\n",
       "1    11367\n",
       "2     2367\n",
       "3      670\n",
       "4      166\n",
       "5       33\n",
       "6        2\n",
       "Name: count, dtype: int64"
      ]
     },
     "execution_count": 336,
     "metadata": {},
     "output_type": "execute_result"
    }
   ],
   "source": [
    "df['RCRI score'].value_counts()"
   ]
  },
  {
   "cell_type": "code",
   "execution_count": 337,
   "metadata": {},
   "outputs": [
    {
     "data": {
      "text/plain": [
       "0"
      ]
     },
     "execution_count": 337,
     "metadata": {},
     "output_type": "execute_result"
    }
   ],
   "source": [
    "data['RCRI_score'].isnull().sum()"
   ]
  },
  {
   "cell_type": "code",
   "execution_count": 338,
   "metadata": {},
   "outputs": [
    {
     "data": {
      "text/plain": [
       "RCRI_score\n",
       "0    55021\n",
       "1    11367\n",
       "2     2367\n",
       "3      670\n",
       "4      206\n",
       "5       33\n",
       "6        3\n",
       "Name: count, dtype: int64"
      ]
     },
     "execution_count": 338,
     "metadata": {},
     "output_type": "execute_result"
    }
   ],
   "source": [
    "data['RCRI_score'].value_counts()"
   ]
  },
  {
   "cell_type": "code",
   "execution_count": 339,
   "metadata": {},
   "outputs": [
    {
     "data": {
      "text/plain": [
       "Index(['GENDER', 'RCRI_score', 'Anemia category',\n",
       "       'Preoptransfusionwithin30days', 'Intraop', 'Postopwithin30days',\n",
       "       'Transfusionintraandpostop', 'AnaestypeCategory', 'PriorityCategory',\n",
       "       'TransfusionIntraandpostopCategory', 'AGEcategory', 'Mortality',\n",
       "       'thirtydaymortality', 'SurgRiskCategory', 'RaceCategory',\n",
       "       'CVARCRICategory', 'IHDRCRICategory', 'CHFRCRICategory',\n",
       "       'DMinsulinRCRICategory', 'CreatinineRCRICategory',\n",
       "       'GradeofKidneyCategory', 'RDW15.7', 'ASAcategorybinned', 'ICUAdmgt24h'],\n",
       "      dtype='object')"
      ]
     },
     "execution_count": 339,
     "metadata": {},
     "output_type": "execute_result"
    }
   ],
   "source": [
    "data.columns"
   ]
  },
  {
   "cell_type": "code",
   "execution_count": 340,
   "metadata": {},
   "outputs": [],
   "source": [
    "# Define categorical, numeric & target columns\n",
    "# Define the target columns\n",
    "target_cols = ['ICUAdmgt24h', 'thirtydaymortality', 'Mortality']\n",
    "\n",
    "# Select categorical columns and exclude target columns\n",
    "cat_cols = data.select_dtypes(include=['object', 'category']).columns.to_list()\n",
    "cat_cols = [col for col in cat_cols if col not in target_cols]\n",
    "\n",
    "# Select numerical columns and exclude target columns\n",
    "num_cols = data.select_dtypes(include=['number']).columns.tolist()\n",
    "num_cols = [col for col in num_cols if col not in target_cols]"
   ]
  },
  {
   "cell_type": "code",
   "execution_count": 341,
   "metadata": {
    "jp-MarkdownHeadingCollapsed": true,
    "tags": []
   },
   "outputs": [
    {
     "name": "stdout",
     "output_type": "stream",
     "text": [
      "Percentage of missing data in target columns:\n",
      "ICUAdmgt24h           0.0\n",
      "thirtydaymortality    0.0\n",
      "Mortality             0.0\n",
      "dtype: float64\n",
      "\n",
      "Percentage of missing data in categorical columns:\n",
      "GENDER                               0.000000\n",
      "RCRI_score                           0.000000\n",
      "Anemia category                      0.000000\n",
      "AnaestypeCategory                    0.000000\n",
      "PriorityCategory                     0.000000\n",
      "TransfusionIntraandpostopCategory    0.000000\n",
      "AGEcategory                          0.000000\n",
      "SurgRiskCategory                     0.000000\n",
      "RaceCategory                         0.000000\n",
      "CVARCRICategory                      0.000000\n",
      "IHDRCRICategory                      0.000000\n",
      "CHFRCRICategory                      0.000000\n",
      "DMinsulinRCRICategory                0.000000\n",
      "CreatinineRCRICategory               0.000000\n",
      "GradeofKidneyCategory                0.000000\n",
      "RDW15.7                              0.000000\n",
      "ASAcategorybinned                    4.933469\n",
      "dtype: float64\n",
      "\n",
      "Percentage of missing data in numerical columns:\n",
      "Preoptransfusionwithin30days    0.0\n",
      "Intraop                         0.0\n",
      "Postopwithin30days              0.0\n",
      "Transfusionintraandpostop       0.0\n",
      "dtype: float64\n"
     ]
    }
   ],
   "source": [
    "# Function to calculate the percentage of missing data for given columns\n",
    "def calculate_missing_data_percentage(data, columns):\n",
    "    missing_data = data[columns].isnull().mean() * 100\n",
    "    return missing_data\n",
    "\n",
    "# Calculate the percentage of missing data for target columns\n",
    "missing_target_cols = calculate_missing_data_percentage(data, target_cols)\n",
    "print(\"Percentage of missing data in target columns:\")\n",
    "print(missing_target_cols)\n",
    "\n",
    "# Calculate the percentage of missing data for categorical columns\n",
    "missing_cat_cols = calculate_missing_data_percentage(data, cat_cols)\n",
    "print(\"\\nPercentage of missing data in categorical columns:\")\n",
    "print(missing_cat_cols)\n",
    "\n",
    "# Calculate the percentage of missing data for numerical columns\n",
    "missing_num_cols = calculate_missing_data_percentage(data, num_cols)\n",
    "print(\"\\nPercentage of missing data in numerical columns:\")\n",
    "print(missing_num_cols)"
   ]
  },
  {
   "cell_type": "markdown",
   "metadata": {},
   "source": [
    "### 'ASAcategorybinned'\n",
    "- **Definition:** The American Society of Anesthesiologists Physical Status classification system (ASA PS) is a method of characterizing patient operative risk on a scale of 1-5, where 1 is normal health and 5 is moribund. Every anesthesiologist is trained in this measure, and it is performed before every procedure in which a patient undergoes anesthesia. We measured the independent predictive value of ASA-PS for complications and mortality in the ACS-NSQIP database by multivariate regression. We conducted analogous regressions after standardizing ASA-PS to control for interprocedural variations in risk in the overall model and sub-analyses by surgical specialty and the most common procedures.\n",
    "- Paper: https://pubmed.ncbi.nlm.nih.gov/25937154/, https://www.asahq.org/standards-and-practice-parameters/statement-on-asa-physical-status-classification-system\n",
    "- **Insights:** Seems like Age & Cardiac-associated factors are linked to ASA PS scores for patients.\n",
    "- Explore Correlations of ASA PS scores with variables: 'AGEcategory', 'RCRI_score'"
   ]
  },
  {
   "cell_type": "code",
   "execution_count": 342,
   "metadata": {},
   "outputs": [
    {
     "data": {
      "text/plain": [
       "ASAcategorybinned\n",
       "II       0.564759\n",
       "I        0.226287\n",
       "III      0.193296\n",
       "IV-VI    0.015658\n",
       "Name: proportion, dtype: float64"
      ]
     },
     "execution_count": 342,
     "metadata": {},
     "output_type": "execute_result"
    }
   ],
   "source": [
    "data['ASAcategorybinned'].value_counts(normalize=True)"
   ]
  },
  {
   "cell_type": "code",
   "execution_count": 343,
   "metadata": {},
   "outputs": [
    {
     "data": {
      "text/plain": [
       "dtype('O')"
      ]
     },
     "execution_count": 343,
     "metadata": {},
     "output_type": "execute_result"
    }
   ],
   "source": [
    "data['ASAcategorybinned'].dtypes"
   ]
  },
  {
   "cell_type": "code",
   "execution_count": 344,
   "metadata": {},
   "outputs": [
    {
     "data": {
      "text/html": [
       "<div>\n",
       "<style scoped>\n",
       "    .dataframe tbody tr th:only-of-type {\n",
       "        vertical-align: middle;\n",
       "    }\n",
       "\n",
       "    .dataframe tbody tr th {\n",
       "        vertical-align: top;\n",
       "    }\n",
       "\n",
       "    .dataframe thead th {\n",
       "        text-align: right;\n",
       "    }\n",
       "</style>\n",
       "<table border=\"1\" class=\"dataframe\">\n",
       "  <thead>\n",
       "    <tr style=\"text-align: right;\">\n",
       "      <th></th>\n",
       "      <th>AGEcategory</th>\n",
       "      <th>ASAcategorybinned</th>\n",
       "      <th>RCRI_score</th>\n",
       "    </tr>\n",
       "  </thead>\n",
       "  <tbody>\n",
       "    <tr>\n",
       "      <th>2</th>\n",
       "      <td>50-64</td>\n",
       "      <td>I</td>\n",
       "      <td>0</td>\n",
       "    </tr>\n",
       "    <tr>\n",
       "      <th>3</th>\n",
       "      <td>65-74</td>\n",
       "      <td>I</td>\n",
       "      <td>0</td>\n",
       "    </tr>\n",
       "    <tr>\n",
       "      <th>4</th>\n",
       "      <td>65-74</td>\n",
       "      <td>II</td>\n",
       "      <td>0</td>\n",
       "    </tr>\n",
       "    <tr>\n",
       "      <th>5</th>\n",
       "      <td>50-64</td>\n",
       "      <td>I</td>\n",
       "      <td>0</td>\n",
       "    </tr>\n",
       "    <tr>\n",
       "      <th>6</th>\n",
       "      <td>30-49</td>\n",
       "      <td>II</td>\n",
       "      <td>0</td>\n",
       "    </tr>\n",
       "  </tbody>\n",
       "</table>\n",
       "</div>"
      ],
      "text/plain": [
       "  AGEcategory ASAcategorybinned RCRI_score\n",
       "2       50-64                 I          0\n",
       "3       65-74                 I          0\n",
       "4       65-74                II          0\n",
       "5       50-64                 I          0\n",
       "6       30-49                II          0"
      ]
     },
     "execution_count": 344,
     "metadata": {},
     "output_type": "execute_result"
    }
   ],
   "source": [
    "subset = data.loc[~data['ASAcategorybinned'].isnull()][['AGEcategory','ASAcategorybinned', 'RCRI_score']]\n",
    "subset.head()"
   ]
  },
  {
   "cell_type": "code",
   "execution_count": 345,
   "metadata": {},
   "outputs": [
    {
     "data": {
      "text/plain": [
       "AGEcategory\n",
       "50-64    21117\n",
       "30-49    18276\n",
       "65-74    12647\n",
       "18-29     6520\n",
       "75-84     6452\n",
       ">=85      1218\n",
       "Name: count, dtype: int64"
      ]
     },
     "execution_count": 345,
     "metadata": {},
     "output_type": "execute_result"
    }
   ],
   "source": [
    "subset['AGEcategory'].value_counts()"
   ]
  },
  {
   "cell_type": "code",
   "execution_count": 350,
   "metadata": {},
   "outputs": [
    {
     "data": {
      "text/html": [
       "<div>\n",
       "<style scoped>\n",
       "    .dataframe tbody tr th:only-of-type {\n",
       "        vertical-align: middle;\n",
       "    }\n",
       "\n",
       "    .dataframe tbody tr th {\n",
       "        vertical-align: top;\n",
       "    }\n",
       "\n",
       "    .dataframe thead th {\n",
       "        text-align: right;\n",
       "    }\n",
       "</style>\n",
       "<table border=\"1\" class=\"dataframe\">\n",
       "  <thead>\n",
       "    <tr style=\"text-align: right;\">\n",
       "      <th>ASAcategorybinned</th>\n",
       "      <th>I</th>\n",
       "      <th>II</th>\n",
       "      <th>III</th>\n",
       "      <th>IV-VI</th>\n",
       "    </tr>\n",
       "    <tr>\n",
       "      <th>AGEcategory</th>\n",
       "      <th></th>\n",
       "      <th></th>\n",
       "      <th></th>\n",
       "      <th></th>\n",
       "    </tr>\n",
       "  </thead>\n",
       "  <tbody>\n",
       "    <tr>\n",
       "      <th>18-29</th>\n",
       "      <td>0.555828</td>\n",
       "      <td>0.395245</td>\n",
       "      <td>0.041871</td>\n",
       "      <td>0.007055</td>\n",
       "    </tr>\n",
       "    <tr>\n",
       "      <th>30-49</th>\n",
       "      <td>0.386244</td>\n",
       "      <td>0.514664</td>\n",
       "      <td>0.090337</td>\n",
       "      <td>0.008755</td>\n",
       "    </tr>\n",
       "    <tr>\n",
       "      <th>50-64</th>\n",
       "      <td>0.163802</td>\n",
       "      <td>0.622200</td>\n",
       "      <td>0.199555</td>\n",
       "      <td>0.014443</td>\n",
       "    </tr>\n",
       "    <tr>\n",
       "      <th>65-74</th>\n",
       "      <td>0.055586</td>\n",
       "      <td>0.640705</td>\n",
       "      <td>0.284020</td>\n",
       "      <td>0.019688</td>\n",
       "    </tr>\n",
       "    <tr>\n",
       "      <th>75-84</th>\n",
       "      <td>0.019994</td>\n",
       "      <td>0.564941</td>\n",
       "      <td>0.383912</td>\n",
       "      <td>0.031153</td>\n",
       "    </tr>\n",
       "    <tr>\n",
       "      <th>&gt;=85</th>\n",
       "      <td>0.010673</td>\n",
       "      <td>0.438424</td>\n",
       "      <td>0.488506</td>\n",
       "      <td>0.062397</td>\n",
       "    </tr>\n",
       "  </tbody>\n",
       "</table>\n",
       "</div>"
      ],
      "text/plain": [
       "ASAcategorybinned         I        II       III     IV-VI\n",
       "AGEcategory                                              \n",
       "18-29              0.555828  0.395245  0.041871  0.007055\n",
       "30-49              0.386244  0.514664  0.090337  0.008755\n",
       "50-64              0.163802  0.622200  0.199555  0.014443\n",
       "65-74              0.055586  0.640705  0.284020  0.019688\n",
       "75-84              0.019994  0.564941  0.383912  0.031153\n",
       ">=85               0.010673  0.438424  0.488506  0.062397"
      ]
     },
     "execution_count": 350,
     "metadata": {},
     "output_type": "execute_result"
    }
   ],
   "source": [
    "col = 'AGEcategory'\n",
    "target_col = 'ASAcategorybinned'\n",
    "crosstab = pd.crosstab(subset[col], subset[target_col], normalize='index')\n",
    "crosstab"
   ]
  },
  {
   "cell_type": "code",
   "execution_count": 346,
   "metadata": {},
   "outputs": [],
   "source": [
    "# explore age as a predictor of ASA PS scores\n",
    "def plot_categorical_proportions(subset1):\n",
    "    '''Plot proportion of RCRI_score counts in each category normalized across RCRI_score categories'''\n",
    "    \n",
    "    # Define the target column\n",
    "    target_col = 'ASAcategorybinned'\n",
    "    \n",
    "    # Get the list of other columns to plot against the target\n",
    "    other_cols = [col for col in subset1.columns if col != target_col]\n",
    "    \n",
    "    # Set the plot style\n",
    "    sns.set(style=\"whitegrid\")\n",
    "    \n",
    "    # Create a proportion plot for each categorical variable\n",
    "    for col in other_cols:\n",
    "        # Create a cross-tabulation of the categorical column and the target column\n",
    "        crosstab = pd.crosstab(subset1[col], subset1[target_col], normalize='index')\n",
    "        \n",
    "        # Plot the proportions using a stacked bar plot\n",
    "        crosstab.plot(kind='bar', stacked=True, figsize=(10, 6))\n",
    "        \n",
    "        # Set the title and labels\n",
    "        plt.title(f'Proportion Plot of {col} by {target_col}')\n",
    "        plt.xlabel(col)\n",
    "        plt.ylabel('Proportion')\n",
    "        \n",
    "        # Add a legend\n",
    "        plt.legend(title=target_col, bbox_to_anchor=(1.05, 1), loc='upper left')\n",
    "        \n",
    "        # Adjust the layout and show the plot\n",
    "        plt.tight_layout()\n",
    "        plt.show()"
   ]
  },
  {
   "cell_type": "code",
   "execution_count": 347,
   "metadata": {},
   "outputs": [
    {
     "data": {
      "image/png": "[encoded data removed]",
      "text/plain": [
       "<Figure size 1000x600 with 1 Axes>"
      ]
     },
     "metadata": {},
     "output_type": "display_data"
    },
    {
     "data": {
      "image/png": "[encoded data removed]",
      "text/plain": [
       "<Figure size 1000x600 with 1 Axes>"
      ]
     },
     "metadata": {},
     "output_type": "display_data"
    }
   ],
   "source": [
    "plot_categorical_proportions(subset)"
   ]
  },
  {
   "cell_type": "markdown",
   "metadata": {
    "tags": []
   },
   "source": [
    "#### Findings\n",
    "- Age category seems to be a strong determinant of ASA PS scores.\n",
    "- *I.E. When age category increases, normalized (age) proportions of lower bound scores (ASA PS of I & II) gradually decreases while proportions of upper bounds (III & IV-VI) gradually increases. \n",
    "- Impute ASA PS scores based on normalized %s across age categories. \n",
    "- Only consider this imputation method because missing % is low (~4.9%)"
   ]
  },
  {
   "cell_type": "code",
   "execution_count": 348,
   "metadata": {},
   "outputs": [
    {
     "data": {
      "text/html": [
       "<div>\n",
       "<style scoped>\n",
       "    .dataframe tbody tr th:only-of-type {\n",
       "        vertical-align: middle;\n",
       "    }\n",
       "\n",
       "    .dataframe tbody tr th {\n",
       "        vertical-align: top;\n",
       "    }\n",
       "\n",
       "    .dataframe thead th {\n",
       "        text-align: right;\n",
       "    }\n",
       "</style>\n",
       "<table border=\"1\" class=\"dataframe\">\n",
       "  <thead>\n",
       "    <tr style=\"text-align: right;\">\n",
       "      <th></th>\n",
       "      <th>AGEcategory</th>\n",
       "      <th>ASAcategorybinned</th>\n",
       "    </tr>\n",
       "  </thead>\n",
       "  <tbody>\n",
       "    <tr>\n",
       "      <th>2</th>\n",
       "      <td>50-64</td>\n",
       "      <td>I</td>\n",
       "    </tr>\n",
       "    <tr>\n",
       "      <th>3</th>\n",
       "      <td>65-74</td>\n",
       "      <td>I</td>\n",
       "    </tr>\n",
       "    <tr>\n",
       "      <th>4</th>\n",
       "      <td>65-74</td>\n",
       "      <td>II</td>\n",
       "    </tr>\n",
       "    <tr>\n",
       "      <th>5</th>\n",
       "      <td>50-64</td>\n",
       "      <td>I</td>\n",
       "    </tr>\n",
       "    <tr>\n",
       "      <th>6</th>\n",
       "      <td>30-49</td>\n",
       "      <td>II</td>\n",
       "    </tr>\n",
       "  </tbody>\n",
       "</table>\n",
       "</div>"
      ],
      "text/plain": [
       "  AGEcategory ASAcategorybinned\n",
       "2       50-64                 I\n",
       "3       65-74                 I\n",
       "4       65-74                II\n",
       "5       50-64                 I\n",
       "6       30-49                II"
      ]
     },
     "execution_count": 348,
     "metadata": {},
     "output_type": "execute_result"
    }
   ],
   "source": [
    "subset.drop('RCRI_score', axis=1, inplace=True)\n",
    "subset.head()"
   ]
  },
  {
   "cell_type": "markdown",
   "metadata": {},
   "source": [
    "### Probabilistic imputation"
   ]
  },
  {
   "cell_type": "code",
   "execution_count": 351,
   "metadata": {},
   "outputs": [],
   "source": [
    "import pandas as pd\n",
    "import numpy as np\n",
    "\n",
    "def impute_missing_values(data, crosstab, age_col='AGEcategory', target_col='ASAcategorybinned'):\n",
    "    \"\"\"\n",
    "    Impute missing values in the target column based on the crosstab probabilities.\n",
    "\n",
    "    Parameters:\n",
    "    - data (pd.DataFrame): The main dataset with missing values to be imputed.\n",
    "    - crosstab (pd.DataFrame): Normalized crosstab with probabilities of each ASAcategorybinned given AGEcategory.\n",
    "    - age_col (str): The name of the column in data representing age categories.\n",
    "    - target_col (str): The name of the column in data to impute.\n",
    "\n",
    "    Returns:\n",
    "    - pd.DataFrame: The dataset with missing values imputed.\n",
    "    \"\"\"\n",
    "    \n",
    "    # Ensure the target column exists in the DataFrame\n",
    "    if target_col not in data.columns:\n",
    "        raise ValueError(f\"{target_col} not found in data columns.\")\n",
    "    \n",
    "    # Ensure the age column exists in the DataFrame\n",
    "    if age_col not in data.columns:\n",
    "        raise ValueError(f\"{age_col} not found in data columns.\")\n",
    "    \n",
    "    # Get the unique age categories\n",
    "    age_categories = crosstab.index\n",
    "    \n",
    "    # Define a function to impute values based on age category\n",
    "    def impute_row(row):\n",
    "        if pd.isna(row[target_col]):\n",
    "            age_category = row[age_col]\n",
    "            if age_category in age_categories:\n",
    "                probabilities = crosstab.loc[age_category].values\n",
    "                choices = crosstab.columns\n",
    "                imputed_value = np.random.choice(choices, p=probabilities)\n",
    "                return imputed_value\n",
    "            else:\n",
    "                # If age category is not found in crosstab, return NaN or a default value\n",
    "                return np.nan\n",
    "        else:\n",
    "            return row[target_col]\n",
    "    \n",
    "    # Apply the imputation function to each row\n",
    "    data[target_col] = data.apply(impute_row, axis=1)\n",
    "    \n",
    "    return data"
   ]
  },
  {
   "cell_type": "code",
   "execution_count": 352,
   "metadata": {},
   "outputs": [
    {
     "data": {
      "text/html": [
       "<div>\n",
       "<style scoped>\n",
       "    .dataframe tbody tr th:only-of-type {\n",
       "        vertical-align: middle;\n",
       "    }\n",
       "\n",
       "    .dataframe tbody tr th {\n",
       "        vertical-align: top;\n",
       "    }\n",
       "\n",
       "    .dataframe thead th {\n",
       "        text-align: right;\n",
       "    }\n",
       "</style>\n",
       "<table border=\"1\" class=\"dataframe\">\n",
       "  <thead>\n",
       "    <tr style=\"text-align: right;\">\n",
       "      <th></th>\n",
       "      <th>GENDER</th>\n",
       "      <th>RCRI_score</th>\n",
       "      <th>Anemia category</th>\n",
       "      <th>Preoptransfusionwithin30days</th>\n",
       "      <th>Intraop</th>\n",
       "      <th>Postopwithin30days</th>\n",
       "      <th>Transfusionintraandpostop</th>\n",
       "      <th>AnaestypeCategory</th>\n",
       "      <th>PriorityCategory</th>\n",
       "      <th>TransfusionIntraandpostopCategory</th>\n",
       "      <th>...</th>\n",
       "      <th>RaceCategory</th>\n",
       "      <th>CVARCRICategory</th>\n",
       "      <th>IHDRCRICategory</th>\n",
       "      <th>CHFRCRICategory</th>\n",
       "      <th>DMinsulinRCRICategory</th>\n",
       "      <th>CreatinineRCRICategory</th>\n",
       "      <th>GradeofKidneyCategory</th>\n",
       "      <th>RDW15.7</th>\n",
       "      <th>ASAcategorybinned</th>\n",
       "      <th>ICUAdmgt24h</th>\n",
       "    </tr>\n",
       "  </thead>\n",
       "  <tbody>\n",
       "    <tr>\n",
       "      <th>2</th>\n",
       "      <td>FEMALE</td>\n",
       "      <td>0</td>\n",
       "      <td>mild</td>\n",
       "      <td>0.0</td>\n",
       "      <td>0.0</td>\n",
       "      <td>0.0</td>\n",
       "      <td>0.0</td>\n",
       "      <td>GA</td>\n",
       "      <td>Elective</td>\n",
       "      <td>0 units</td>\n",
       "      <td>...</td>\n",
       "      <td>Chinese</td>\n",
       "      <td>no</td>\n",
       "      <td>no</td>\n",
       "      <td>no</td>\n",
       "      <td>no</td>\n",
       "      <td>no</td>\n",
       "      <td>G1</td>\n",
       "      <td>&lt;= 15.7</td>\n",
       "      <td>I</td>\n",
       "      <td>no</td>\n",
       "    </tr>\n",
       "    <tr>\n",
       "      <th>3</th>\n",
       "      <td>MALE</td>\n",
       "      <td>0</td>\n",
       "      <td>moderate/severe</td>\n",
       "      <td>0.0</td>\n",
       "      <td>1.0</td>\n",
       "      <td>0.0</td>\n",
       "      <td>1.0</td>\n",
       "      <td>GA</td>\n",
       "      <td>Elective</td>\n",
       "      <td>1 unit</td>\n",
       "      <td>...</td>\n",
       "      <td>Chinese</td>\n",
       "      <td>no</td>\n",
       "      <td>no</td>\n",
       "      <td>no</td>\n",
       "      <td>no</td>\n",
       "      <td>no</td>\n",
       "      <td>G1</td>\n",
       "      <td>&lt;= 15.7</td>\n",
       "      <td>I</td>\n",
       "      <td>no</td>\n",
       "    </tr>\n",
       "    <tr>\n",
       "      <th>4</th>\n",
       "      <td>MALE</td>\n",
       "      <td>0</td>\n",
       "      <td>mild</td>\n",
       "      <td>0.0</td>\n",
       "      <td>0.0</td>\n",
       "      <td>0.0</td>\n",
       "      <td>0.0</td>\n",
       "      <td>GA</td>\n",
       "      <td>Elective</td>\n",
       "      <td>0 units</td>\n",
       "      <td>...</td>\n",
       "      <td>Chinese</td>\n",
       "      <td>no</td>\n",
       "      <td>no</td>\n",
       "      <td>no</td>\n",
       "      <td>no</td>\n",
       "      <td>no</td>\n",
       "      <td>G1</td>\n",
       "      <td>&gt;15.7</td>\n",
       "      <td>II</td>\n",
       "      <td>no</td>\n",
       "    </tr>\n",
       "    <tr>\n",
       "      <th>5</th>\n",
       "      <td>MALE</td>\n",
       "      <td>0</td>\n",
       "      <td>none</td>\n",
       "      <td>0.0</td>\n",
       "      <td>0.0</td>\n",
       "      <td>0.0</td>\n",
       "      <td>0.0</td>\n",
       "      <td>GA</td>\n",
       "      <td>Emergency</td>\n",
       "      <td>0 units</td>\n",
       "      <td>...</td>\n",
       "      <td>Indian</td>\n",
       "      <td>no</td>\n",
       "      <td>no</td>\n",
       "      <td>no</td>\n",
       "      <td>no</td>\n",
       "      <td>no</td>\n",
       "      <td>G1</td>\n",
       "      <td>&lt;= 15.7</td>\n",
       "      <td>I</td>\n",
       "      <td>no</td>\n",
       "    </tr>\n",
       "    <tr>\n",
       "      <th>6</th>\n",
       "      <td>FEMALE</td>\n",
       "      <td>0</td>\n",
       "      <td>none</td>\n",
       "      <td>0.0</td>\n",
       "      <td>0.0</td>\n",
       "      <td>0.0</td>\n",
       "      <td>0.0</td>\n",
       "      <td>GA</td>\n",
       "      <td>Elective</td>\n",
       "      <td>0 units</td>\n",
       "      <td>...</td>\n",
       "      <td>Chinese</td>\n",
       "      <td>no</td>\n",
       "      <td>no</td>\n",
       "      <td>no</td>\n",
       "      <td>no</td>\n",
       "      <td>no</td>\n",
       "      <td>G2</td>\n",
       "      <td>&lt;= 15.7</td>\n",
       "      <td>II</td>\n",
       "      <td>no</td>\n",
       "    </tr>\n",
       "    <tr>\n",
       "      <th>...</th>\n",
       "      <td>...</td>\n",
       "      <td>...</td>\n",
       "      <td>...</td>\n",
       "      <td>...</td>\n",
       "      <td>...</td>\n",
       "      <td>...</td>\n",
       "      <td>...</td>\n",
       "      <td>...</td>\n",
       "      <td>...</td>\n",
       "      <td>...</td>\n",
       "      <td>...</td>\n",
       "      <td>...</td>\n",
       "      <td>...</td>\n",
       "      <td>...</td>\n",
       "      <td>...</td>\n",
       "      <td>...</td>\n",
       "      <td>...</td>\n",
       "      <td>...</td>\n",
       "      <td>...</td>\n",
       "      <td>...</td>\n",
       "      <td>...</td>\n",
       "    </tr>\n",
       "    <tr>\n",
       "      <th>73195</th>\n",
       "      <td>MALE</td>\n",
       "      <td>0</td>\n",
       "      <td>none</td>\n",
       "      <td>0.0</td>\n",
       "      <td>0.0</td>\n",
       "      <td>0.0</td>\n",
       "      <td>0.0</td>\n",
       "      <td>GA</td>\n",
       "      <td>Elective</td>\n",
       "      <td>0 units</td>\n",
       "      <td>...</td>\n",
       "      <td>Others</td>\n",
       "      <td>no</td>\n",
       "      <td>no</td>\n",
       "      <td>no</td>\n",
       "      <td>no</td>\n",
       "      <td>no</td>\n",
       "      <td>G2</td>\n",
       "      <td>&lt;= 15.7</td>\n",
       "      <td>II</td>\n",
       "      <td>no</td>\n",
       "    </tr>\n",
       "    <tr>\n",
       "      <th>73196</th>\n",
       "      <td>FEMALE</td>\n",
       "      <td>0</td>\n",
       "      <td>none</td>\n",
       "      <td>0.0</td>\n",
       "      <td>0.0</td>\n",
       "      <td>0.0</td>\n",
       "      <td>0.0</td>\n",
       "      <td>GA</td>\n",
       "      <td>Elective</td>\n",
       "      <td>0 units</td>\n",
       "      <td>...</td>\n",
       "      <td>Others</td>\n",
       "      <td>no</td>\n",
       "      <td>no</td>\n",
       "      <td>no</td>\n",
       "      <td>no</td>\n",
       "      <td>no</td>\n",
       "      <td>G3</td>\n",
       "      <td>&lt;= 15.7</td>\n",
       "      <td>II</td>\n",
       "      <td>no</td>\n",
       "    </tr>\n",
       "    <tr>\n",
       "      <th>73198</th>\n",
       "      <td>FEMALE</td>\n",
       "      <td>2</td>\n",
       "      <td>mild</td>\n",
       "      <td>0.0</td>\n",
       "      <td>0.0</td>\n",
       "      <td>0.0</td>\n",
       "      <td>0.0</td>\n",
       "      <td>GA</td>\n",
       "      <td>Elective</td>\n",
       "      <td>0 units</td>\n",
       "      <td>...</td>\n",
       "      <td>Others</td>\n",
       "      <td>no</td>\n",
       "      <td>no</td>\n",
       "      <td>no</td>\n",
       "      <td>yes</td>\n",
       "      <td>no</td>\n",
       "      <td>G3</td>\n",
       "      <td>&lt;= 15.7</td>\n",
       "      <td>II</td>\n",
       "      <td>no</td>\n",
       "    </tr>\n",
       "    <tr>\n",
       "      <th>73199</th>\n",
       "      <td>MALE</td>\n",
       "      <td>1</td>\n",
       "      <td>moderate/severe</td>\n",
       "      <td>0.0</td>\n",
       "      <td>0.0</td>\n",
       "      <td>0.0</td>\n",
       "      <td>0.0</td>\n",
       "      <td>GA</td>\n",
       "      <td>Emergency</td>\n",
       "      <td>0 units</td>\n",
       "      <td>...</td>\n",
       "      <td>Others</td>\n",
       "      <td>no</td>\n",
       "      <td>no</td>\n",
       "      <td>no</td>\n",
       "      <td>yes</td>\n",
       "      <td>no</td>\n",
       "      <td>G1</td>\n",
       "      <td>&lt;= 15.7</td>\n",
       "      <td>II</td>\n",
       "      <td>no</td>\n",
       "    </tr>\n",
       "    <tr>\n",
       "      <th>73200</th>\n",
       "      <td>FEMALE</td>\n",
       "      <td>0</td>\n",
       "      <td>none</td>\n",
       "      <td>0.0</td>\n",
       "      <td>0.0</td>\n",
       "      <td>0.0</td>\n",
       "      <td>0.0</td>\n",
       "      <td>GA</td>\n",
       "      <td>Elective</td>\n",
       "      <td>0 units</td>\n",
       "      <td>...</td>\n",
       "      <td>Others</td>\n",
       "      <td>no</td>\n",
       "      <td>no</td>\n",
       "      <td>no</td>\n",
       "      <td>no</td>\n",
       "      <td>no</td>\n",
       "      <td>G2</td>\n",
       "      <td>&lt;= 15.7</td>\n",
       "      <td>II</td>\n",
       "      <td>no</td>\n",
       "    </tr>\n",
       "  </tbody>\n",
       "</table>\n",
       "<p>69667 rows × 24 columns</p>\n",
       "</div>"
      ],
      "text/plain": [
       "       GENDER RCRI_score  Anemia category  Preoptransfusionwithin30days  \\\n",
       "2      FEMALE          0             mild                           0.0   \n",
       "3        MALE          0  moderate/severe                           0.0   \n",
       "4        MALE          0             mild                           0.0   \n",
       "5        MALE          0             none                           0.0   \n",
       "6      FEMALE          0             none                           0.0   \n",
       "...       ...        ...              ...                           ...   \n",
       "73195    MALE          0             none                           0.0   \n",
       "73196  FEMALE          0             none                           0.0   \n",
       "73198  FEMALE          2             mild                           0.0   \n",
       "73199    MALE          1  moderate/severe                           0.0   \n",
       "73200  FEMALE          0             none                           0.0   \n",
       "\n",
       "       Intraop  Postopwithin30days  Transfusionintraandpostop  \\\n",
       "2          0.0                 0.0                        0.0   \n",
       "3          1.0                 0.0                        1.0   \n",
       "4          0.0                 0.0                        0.0   \n",
       "5          0.0                 0.0                        0.0   \n",
       "6          0.0                 0.0                        0.0   \n",
       "...        ...                 ...                        ...   \n",
       "73195      0.0                 0.0                        0.0   \n",
       "73196      0.0                 0.0                        0.0   \n",
       "73198      0.0                 0.0                        0.0   \n",
       "73199      0.0                 0.0                        0.0   \n",
       "73200      0.0                 0.0                        0.0   \n",
       "\n",
       "      AnaestypeCategory PriorityCategory TransfusionIntraandpostopCategory  \\\n",
       "2                    GA         Elective                           0 units   \n",
       "3                    GA         Elective                            1 unit   \n",
       "4                    GA         Elective                           0 units   \n",
       "5                    GA        Emergency                           0 units   \n",
       "6                    GA         Elective                           0 units   \n",
       "...                 ...              ...                               ...   \n",
       "73195                GA         Elective                           0 units   \n",
       "73196                GA         Elective                           0 units   \n",
       "73198                GA         Elective                           0 units   \n",
       "73199                GA        Emergency                           0 units   \n",
       "73200                GA         Elective                           0 units   \n",
       "\n",
       "       ... RaceCategory CVARCRICategory  IHDRCRICategory CHFRCRICategory  \\\n",
       "2      ...      Chinese              no               no              no   \n",
       "3      ...      Chinese              no               no              no   \n",
       "4      ...      Chinese              no               no              no   \n",
       "5      ...       Indian              no               no              no   \n",
       "6      ...      Chinese              no               no              no   \n",
       "...    ...          ...             ...              ...             ...   \n",
       "73195  ...       Others              no               no              no   \n",
       "73196  ...       Others              no               no              no   \n",
       "73198  ...       Others              no               no              no   \n",
       "73199  ...       Others              no               no              no   \n",
       "73200  ...       Others              no               no              no   \n",
       "\n",
       "      DMinsulinRCRICategory CreatinineRCRICategory GradeofKidneyCategory  \\\n",
       "2                        no                     no                    G1   \n",
       "3                        no                     no                    G1   \n",
       "4                        no                     no                    G1   \n",
       "5                        no                     no                    G1   \n",
       "6                        no                     no                    G2   \n",
       "...                     ...                    ...                   ...   \n",
       "73195                    no                     no                    G2   \n",
       "73196                    no                     no                    G3   \n",
       "73198                   yes                     no                    G3   \n",
       "73199                   yes                     no                    G1   \n",
       "73200                    no                     no                    G2   \n",
       "\n",
       "       RDW15.7 ASAcategorybinned ICUAdmgt24h  \n",
       "2      <= 15.7                 I          no  \n",
       "3      <= 15.7                 I          no  \n",
       "4        >15.7                II          no  \n",
       "5      <= 15.7                 I          no  \n",
       "6      <= 15.7                II          no  \n",
       "...        ...               ...         ...  \n",
       "73195  <= 15.7                II          no  \n",
       "73196  <= 15.7                II          no  \n",
       "73198  <= 15.7                II          no  \n",
       "73199  <= 15.7                II          no  \n",
       "73200  <= 15.7                II          no  \n",
       "\n",
       "[69667 rows x 24 columns]"
      ]
     },
     "execution_count": 352,
     "metadata": {},
     "output_type": "execute_result"
    }
   ],
   "source": [
    "col = 'AGEcategory'\n",
    "target_col = 'ASAcategorybinned'\n",
    "crosstab = pd.crosstab(subset[col], subset[target_col], normalize='index')\n",
    "df = data.copy()\n",
    "impute_missing_values(data, crosstab, age_col='AGEcategory', target_col='ASAcategorybinned')"
   ]
  },
  {
   "cell_type": "code",
   "execution_count": 353,
   "metadata": {},
   "outputs": [
    {
     "data": {
      "text/plain": [
       "0"
      ]
     },
     "execution_count": 353,
     "metadata": {},
     "output_type": "execute_result"
    }
   ],
   "source": [
    "data['ASAcategorybinned'].isnull().sum()"
   ]
  },
  {
   "cell_type": "code",
   "execution_count": 354,
   "metadata": {},
   "outputs": [
    {
     "data": {
      "text/plain": [
       "ASAcategorybinned\n",
       "II       37404\n",
       "I        14987\n",
       "III      12802\n",
       "IV-VI     1037\n",
       "Name: count, dtype: int64"
      ]
     },
     "execution_count": 354,
     "metadata": {},
     "output_type": "execute_result"
    }
   ],
   "source": [
    "df['ASAcategorybinned'].value_counts()"
   ]
  },
  {
   "cell_type": "code",
   "execution_count": 355,
   "metadata": {},
   "outputs": [
    {
     "data": {
      "text/plain": [
       "ASAcategorybinned\n",
       "II       39286\n",
       "I        15870\n",
       "III      13420\n",
       "IV-VI     1091\n",
       "Name: count, dtype: int64"
      ]
     },
     "execution_count": 355,
     "metadata": {},
     "output_type": "execute_result"
    }
   ],
   "source": [
    "data['ASAcategorybinned'].value_counts()"
   ]
  },
  {
   "cell_type": "code",
   "execution_count": 356,
   "metadata": {},
   "outputs": [],
   "source": [
    "# Define categorical, numeric & target columns\n",
    "# Define the target columns\n",
    "target_cols = ['ICUAdmgt24h', 'thirtydaymortality', 'Mortality']\n",
    "\n",
    "# Select categorical columns and exclude target columns\n",
    "cat_cols = data.select_dtypes(include=['object', 'category']).columns.to_list()\n",
    "cat_cols = [col for col in cat_cols if col not in target_cols]\n",
    "\n",
    "# Select numerical columns and exclude target columns\n",
    "num_cols = data.select_dtypes(include=['number']).columns.tolist()\n",
    "num_cols = [col for col in num_cols if col not in target_cols]"
   ]
  },
  {
   "cell_type": "code",
   "execution_count": 357,
   "metadata": {},
   "outputs": [
    {
     "name": "stdout",
     "output_type": "stream",
     "text": [
      "Percentage of missing data in target columns:\n",
      "ICUAdmgt24h           0.0\n",
      "thirtydaymortality    0.0\n",
      "Mortality             0.0\n",
      "dtype: float64\n",
      "\n",
      "Percentage of missing data in categorical columns:\n",
      "GENDER                               0.0\n",
      "RCRI_score                           0.0\n",
      "Anemia category                      0.0\n",
      "AnaestypeCategory                    0.0\n",
      "PriorityCategory                     0.0\n",
      "TransfusionIntraandpostopCategory    0.0\n",
      "AGEcategory                          0.0\n",
      "SurgRiskCategory                     0.0\n",
      "RaceCategory                         0.0\n",
      "CVARCRICategory                      0.0\n",
      "IHDRCRICategory                      0.0\n",
      "CHFRCRICategory                      0.0\n",
      "DMinsulinRCRICategory                0.0\n",
      "CreatinineRCRICategory               0.0\n",
      "GradeofKidneyCategory                0.0\n",
      "RDW15.7                              0.0\n",
      "ASAcategorybinned                    0.0\n",
      "dtype: float64\n",
      "\n",
      "Percentage of missing data in numerical columns:\n",
      "Preoptransfusionwithin30days    0.0\n",
      "Intraop                         0.0\n",
      "Postopwithin30days              0.0\n",
      "Transfusionintraandpostop       0.0\n",
      "dtype: float64\n"
     ]
    }
   ],
   "source": [
    "# Function to calculate the percentage of missing data for given columns\n",
    "def calculate_missing_data_percentage(data, columns):\n",
    "    missing_data = data[columns].isnull().mean() * 100\n",
    "    return missing_data\n",
    "\n",
    "# Calculate the percentage of missing data for target columns\n",
    "missing_target_cols = calculate_missing_data_percentage(data, target_cols)\n",
    "print(\"Percentage of missing data in target columns:\")\n",
    "print(missing_target_cols)\n",
    "\n",
    "# Calculate the percentage of missing data for categorical columns\n",
    "missing_cat_cols = calculate_missing_data_percentage(data, cat_cols)\n",
    "print(\"\\nPercentage of missing data in categorical columns:\")\n",
    "print(missing_cat_cols)\n",
    "\n",
    "# Calculate the percentage of missing data for numerical columns\n",
    "missing_num_cols = calculate_missing_data_percentage(data, num_cols)\n",
    "print(\"\\nPercentage of missing data in numerical columns:\")\n",
    "print(missing_num_cols)"
   ]
  },
  {
   "cell_type": "code",
   "execution_count": 359,
   "metadata": {},
   "outputs": [
    {
     "data": {
      "text/plain": [
       "69667"
      ]
     },
     "execution_count": 359,
     "metadata": {},
     "output_type": "execute_result"
    }
   ],
   "source": [
    "len(data)"
   ]
  },
  {
   "cell_type": "code",
   "execution_count": 358,
   "metadata": {},
   "outputs": [],
   "source": [
    "data.to_csv('../data/CARES_data_imputedv1.csv', index=False)"
   ]
  },
  {
   "cell_type": "code",
   "execution_count": null,
   "metadata": {},
   "outputs": [],
   "source": []
  }
 ],
 "metadata": {
  "accelerator": "GPU",
  "colab": {
   "gpuType": "T4",
   "provenance": [],
   "toc_visible": true
  },
  "kernelspec": {
   "display_name": "Python 3 (ipykernel)",
   "language": "python",
   "name": "python3"
  },
  "language_info": {
   "codemirror_mode": {
    "name": "ipython",
    "version": 3
   },
   "file_extension": ".py",
   "mimetype": "text/x-python",
   "name": "python",
   "nbconvert_exporter": "python",
   "pygments_lexer": "ipython3",
   "version": "3.9.15"
  },
  "widgets": {
   "application/vnd.jupyter.widget-state+json": {
    "05d013afb5d24f7085a1a86cec3aceee": {
     "model_module": "@jupyter-widgets/base",
     "model_module_version": "1.2.0",
     "model_name": "LayoutModel",
     "state": {
      "_model_module": "@jupyter-widgets/base",
      "_model_module_version": "1.2.0",
      "_model_name": "LayoutModel",
      "_view_count": null,
      "_view_module": "@jupyter-widgets/base",
      "_view_module_version": "1.2.0",
      "_view_name": "LayoutView",
      "align_content": null,
      "align_items": null,
      "align_self": null,
      "border": null,
      "bottom": null,
      "display": null,
      "flex": null,
      "flex_flow": null,
      "grid_area": null,
      "grid_auto_columns": null,
      "grid_auto_flow": null,
      "grid_auto_rows": null,
      "grid_column": null,
      "grid_gap": null,
      "grid_row": null,
      "grid_template_areas": null,
      "grid_template_columns": null,
      "grid_template_rows": null,
      "height": null,
      "justify_content": null,
      "justify_items": null,
      "left": null,
      "margin": null,
      "max_height": null,
      "max_width": null,
      "min_height": null,
      "min_width": null,
      "object_fit": null,
      "object_position": null,
      "order": null,
      "overflow": null,
      "overflow_x": null,
      "overflow_y": null,
      "padding": null,
      "right": null,
      "top": null,
      "visibility": null,
      "width": null
     }
    },
    "0f039ac8fdf944a999bc31e9729a4c00": {
     "model_module": "@jupyter-widgets/controls",
     "model_module_version": "1.5.0",
     "model_name": "HTMLModel",
     "state": {
      "_dom_classes": [],
      "_model_module": "@jupyter-widgets/controls",
      "_model_module_version": "1.5.0",
      "_model_name": "HTMLModel",
      "_view_count": null,
      "_view_module": "@jupyter-widgets/controls",
      "_view_module_version": "1.5.0",
      "_view_name": "HTMLView",
      "description": "",
      "description_tooltip": null,
      "layout": "IPY_MODEL_50d93249e6d3408da53378e05b4f93ef",
      "placeholder": "​",
      "style": "IPY_MODEL_18d68fccd14640aa92b4636a1e876c8a",
      "value": " 1/1 [00:00&lt;00:00, 27.62it/s]"
     }
    },
    "12c999c0bbea4601babd4c431e337ee9": {
     "model_module": "@jupyter-widgets/base",
     "model_module_version": "1.2.0",
     "model_name": "LayoutModel",
     "state": {
      "_model_module": "@jupyter-widgets/base",
      "_model_module_version": "1.2.0",
      "_model_name": "LayoutModel",
      "_view_count": null,
      "_view_module": "@jupyter-widgets/base",
      "_view_module_version": "1.2.0",
      "_view_name": "LayoutView",
      "align_content": null,
      "align_items": null,
      "align_self": null,
      "border": null,
      "bottom": null,
      "display": null,
      "flex": null,
      "flex_flow": null,
      "grid_area": null,
      "grid_auto_columns": null,
      "grid_auto_flow": null,
      "grid_auto_rows": null,
      "grid_column": null,
      "grid_gap": null,
      "grid_row": null,
      "grid_template_areas": null,
      "grid_template_columns": null,
      "grid_template_rows": null,
      "height": null,
      "justify_content": null,
      "justify_items": null,
      "left": null,
      "margin": null,
      "max_height": null,
      "max_width": null,
      "min_height": null,
      "min_width": null,
      "object_fit": null,
      "object_position": null,
      "order": null,
      "overflow": null,
      "overflow_x": null,
      "overflow_y": null,
      "padding": null,
      "right": null,
      "top": null,
      "visibility": null,
      "width": null
     }
    },
    "16c9f5eae4804b0b8c787e0367215616": {
     "model_module": "@jupyter-widgets/controls",
     "model_module_version": "1.5.0",
     "model_name": "FloatProgressModel",
     "state": {
      "_dom_classes": [],
      "_model_module": "@jupyter-widgets/controls",
      "_model_module_version": "1.5.0",
      "_model_name": "FloatProgressModel",
      "_view_count": null,
      "_view_module": "@jupyter-widgets/controls",
      "_view_module_version": "1.5.0",
      "_view_name": "ProgressView",
      "bar_style": "success",
      "description": "",
      "description_tooltip": null,
      "layout": "IPY_MODEL_a17b9045d4df49adb4df93f9f1d0917c",
      "max": 1,
      "min": 0,
      "orientation": "horizontal",
      "style": "IPY_MODEL_895edce721244404aa3449ab4a63780c",
      "value": 1
     }
    },
    "18d68fccd14640aa92b4636a1e876c8a": {
     "model_module": "@jupyter-widgets/controls",
     "model_module_version": "1.5.0",
     "model_name": "DescriptionStyleModel",
     "state": {
      "_model_module": "@jupyter-widgets/controls",
      "_model_module_version": "1.5.0",
      "_model_name": "DescriptionStyleModel",
      "_view_count": null,
      "_view_module": "@jupyter-widgets/base",
      "_view_module_version": "1.2.0",
      "_view_name": "StyleView",
      "description_width": ""
     }
    },
    "22631c16750d42528d7dcade0d4c25aa": {
     "model_module": "@jupyter-widgets/base",
     "model_module_version": "1.2.0",
     "model_name": "LayoutModel",
     "state": {
      "_model_module": "@jupyter-widgets/base",
      "_model_module_version": "1.2.0",
      "_model_name": "LayoutModel",
      "_view_count": null,
      "_view_module": "@jupyter-widgets/base",
      "_view_module_version": "1.2.0",
      "_view_name": "LayoutView",
      "align_content": null,
      "align_items": null,
      "align_self": null,
      "border": null,
      "bottom": null,
      "display": null,
      "flex": null,
      "flex_flow": null,
      "grid_area": null,
      "grid_auto_columns": null,
      "grid_auto_flow": null,
      "grid_auto_rows": null,
      "grid_column": null,
      "grid_gap": null,
      "grid_row": null,
      "grid_template_areas": null,
      "grid_template_columns": null,
      "grid_template_rows": null,
      "height": null,
      "justify_content": null,
      "justify_items": null,
      "left": null,
      "margin": null,
      "max_height": null,
      "max_width": null,
      "min_height": null,
      "min_width": null,
      "object_fit": null,
      "object_position": null,
      "order": null,
      "overflow": null,
      "overflow_x": null,
      "overflow_y": null,
      "padding": null,
      "right": null,
      "top": null,
      "visibility": null,
      "width": null
     }
    },
    "2dbbaf38cbb842f18a5df4b5387ddc02": {
     "model_module": "@jupyter-widgets/controls",
     "model_module_version": "1.5.0",
     "model_name": "HBoxModel",
     "state": {
      "_dom_classes": [],
      "_model_module": "@jupyter-widgets/controls",
      "_model_module_version": "1.5.0",
      "_model_name": "HBoxModel",
      "_view_count": null,
      "_view_module": "@jupyter-widgets/controls",
      "_view_module_version": "1.5.0",
      "_view_name": "HBoxView",
      "box_style": "",
      "children": [
       "IPY_MODEL_348d84f1bf9549ed891355c8bc827c86",
       "IPY_MODEL_16c9f5eae4804b0b8c787e0367215616",
       "IPY_MODEL_7cfecd808bc34f3a8dbc51b934c07061"
      ],
      "layout": "IPY_MODEL_cc065289e42f4b2cae582672e692a122"
     }
    },
    "30d9bf7e7b714c89bf0cc966f10ecee3": {
     "model_module": "@jupyter-widgets/controls",
     "model_module_version": "1.5.0",
     "model_name": "DescriptionStyleModel",
     "state": {
      "_model_module": "@jupyter-widgets/controls",
      "_model_module_version": "1.5.0",
      "_model_name": "DescriptionStyleModel",
      "_view_count": null,
      "_view_module": "@jupyter-widgets/base",
      "_view_module_version": "1.2.0",
      "_view_name": "StyleView",
      "description_width": ""
     }
    },
    "348d84f1bf9549ed891355c8bc827c86": {
     "model_module": "@jupyter-widgets/controls",
     "model_module_version": "1.5.0",
     "model_name": "HTMLModel",
     "state": {
      "_dom_classes": [],
      "_model_module": "@jupyter-widgets/controls",
      "_model_module_version": "1.5.0",
      "_model_name": "HTMLModel",
      "_view_count": null,
      "_view_module": "@jupyter-widgets/controls",
      "_view_module_version": "1.5.0",
      "_view_name": "HTMLView",
      "description": "",
      "description_tooltip": null,
      "layout": "IPY_MODEL_22631c16750d42528d7dcade0d4c25aa",
      "placeholder": "​",
      "style": "IPY_MODEL_f7ea95fadd7b440d837eaf247443912a",
      "value": "Render HTML: 100%"
     }
    },
    "35326bb513374f999df29846dd3fa5c1": {
     "model_module": "@jupyter-widgets/base",
     "model_module_version": "1.2.0",
     "model_name": "LayoutModel",
     "state": {
      "_model_module": "@jupyter-widgets/base",
      "_model_module_version": "1.2.0",
      "_model_name": "LayoutModel",
      "_view_count": null,
      "_view_module": "@jupyter-widgets/base",
      "_view_module_version": "1.2.0",
      "_view_name": "LayoutView",
      "align_content": null,
      "align_items": null,
      "align_self": null,
      "border": null,
      "bottom": null,
      "display": null,
      "flex": null,
      "flex_flow": null,
      "grid_area": null,
      "grid_auto_columns": null,
      "grid_auto_flow": null,
      "grid_auto_rows": null,
      "grid_column": null,
      "grid_gap": null,
      "grid_row": null,
      "grid_template_areas": null,
      "grid_template_columns": null,
      "grid_template_rows": null,
      "height": null,
      "justify_content": null,
      "justify_items": null,
      "left": null,
      "margin": null,
      "max_height": null,
      "max_width": null,
      "min_height": null,
      "min_width": null,
      "object_fit": null,
      "object_position": null,
      "order": null,
      "overflow": null,
      "overflow_x": null,
      "overflow_y": null,
      "padding": null,
      "right": null,
      "top": null,
      "visibility": null,
      "width": null
     }
    },
    "48db6317b87049cd81b45d72a781588f": {
     "model_module": "@jupyter-widgets/controls",
     "model_module_version": "1.5.0",
     "model_name": "DescriptionStyleModel",
     "state": {
      "_model_module": "@jupyter-widgets/controls",
      "_model_module_version": "1.5.0",
      "_model_name": "DescriptionStyleModel",
      "_view_count": null,
      "_view_module": "@jupyter-widgets/base",
      "_view_module_version": "1.2.0",
      "_view_name": "StyleView",
      "description_width": ""
     }
    },
    "50861ea913b5491d980a37032fa20015": {
     "model_module": "@jupyter-widgets/controls",
     "model_module_version": "1.5.0",
     "model_name": "DescriptionStyleModel",
     "state": {
      "_model_module": "@jupyter-widgets/controls",
      "_model_module_version": "1.5.0",
      "_model_name": "DescriptionStyleModel",
      "_view_count": null,
      "_view_module": "@jupyter-widgets/base",
      "_view_module_version": "1.2.0",
      "_view_name": "StyleView",
      "description_width": ""
     }
    },
    "50d93249e6d3408da53378e05b4f93ef": {
     "model_module": "@jupyter-widgets/base",
     "model_module_version": "1.2.0",
     "model_name": "LayoutModel",
     "state": {
      "_model_module": "@jupyter-widgets/base",
      "_model_module_version": "1.2.0",
      "_model_name": "LayoutModel",
      "_view_count": null,
      "_view_module": "@jupyter-widgets/base",
      "_view_module_version": "1.2.0",
      "_view_name": "LayoutView",
      "align_content": null,
      "align_items": null,
      "align_self": null,
      "border": null,
      "bottom": null,
      "display": null,
      "flex": null,
      "flex_flow": null,
      "grid_area": null,
      "grid_auto_columns": null,
      "grid_auto_flow": null,
      "grid_auto_rows": null,
      "grid_column": null,
      "grid_gap": null,
      "grid_row": null,
      "grid_template_areas": null,
      "grid_template_columns": null,
      "grid_template_rows": null,
      "height": null,
      "justify_content": null,
      "justify_items": null,
      "left": null,
      "margin": null,
      "max_height": null,
      "max_width": null,
      "min_height": null,
      "min_width": null,
      "object_fit": null,
      "object_position": null,
      "order": null,
      "overflow": null,
      "overflow_x": null,
      "overflow_y": null,
      "padding": null,
      "right": null,
      "top": null,
      "visibility": null,
      "width": null
     }
    },
    "59de0090fb7b4327bf2524470e1578f5": {
     "model_module": "@jupyter-widgets/controls",
     "model_module_version": "1.5.0",
     "model_name": "HTMLModel",
     "state": {
      "_dom_classes": [],
      "_model_module": "@jupyter-widgets/controls",
      "_model_module_version": "1.5.0",
      "_model_name": "HTMLModel",
      "_view_count": null,
      "_view_module": "@jupyter-widgets/controls",
      "_view_module_version": "1.5.0",
      "_view_name": "HTMLView",
      "description": "",
      "description_tooltip": null,
      "layout": "IPY_MODEL_8da4f69f31bd4e7d822e7b85acb810ed",
      "placeholder": "​",
      "style": "IPY_MODEL_48db6317b87049cd81b45d72a781588f",
      "value": "Summarize dataset: 100%"
     }
    },
    "5e998505692646cd8dce1075cba75ffa": {
     "model_module": "@jupyter-widgets/controls",
     "model_module_version": "1.5.0",
     "model_name": "HBoxModel",
     "state": {
      "_dom_classes": [],
      "_model_module": "@jupyter-widgets/controls",
      "_model_module_version": "1.5.0",
      "_model_name": "HBoxModel",
      "_view_count": null,
      "_view_module": "@jupyter-widgets/controls",
      "_view_module_version": "1.5.0",
      "_view_name": "HBoxView",
      "box_style": "",
      "children": [
       "IPY_MODEL_5f906cd1c8bc4f4db6c4e3889ed1e799",
       "IPY_MODEL_fb2e57ef3fad4ddc900c98b6e3369734",
       "IPY_MODEL_0f039ac8fdf944a999bc31e9729a4c00"
      ],
      "layout": "IPY_MODEL_9b42f6eca91a40c98e439fb60718a866"
     }
    },
    "5f906cd1c8bc4f4db6c4e3889ed1e799": {
     "model_module": "@jupyter-widgets/controls",
     "model_module_version": "1.5.0",
     "model_name": "HTMLModel",
     "state": {
      "_dom_classes": [],
      "_model_module": "@jupyter-widgets/controls",
      "_model_module_version": "1.5.0",
      "_model_name": "HTMLModel",
      "_view_count": null,
      "_view_module": "@jupyter-widgets/controls",
      "_view_module_version": "1.5.0",
      "_view_name": "HTMLView",
      "description": "",
      "description_tooltip": null,
      "layout": "IPY_MODEL_12c999c0bbea4601babd4c431e337ee9",
      "placeholder": "​",
      "style": "IPY_MODEL_7c11a399fb9d496483cc6de6d3ccdca9",
      "value": "Export report to file: 100%"
     }
    },
    "61d627b96feb484dbb8bdc99cfdef579": {
     "model_module": "@jupyter-widgets/base",
     "model_module_version": "1.2.0",
     "model_name": "LayoutModel",
     "state": {
      "_model_module": "@jupyter-widgets/base",
      "_model_module_version": "1.2.0",
      "_model_name": "LayoutModel",
      "_view_count": null,
      "_view_module": "@jupyter-widgets/base",
      "_view_module_version": "1.2.0",
      "_view_name": "LayoutView",
      "align_content": null,
      "align_items": null,
      "align_self": null,
      "border": null,
      "bottom": null,
      "display": null,
      "flex": null,
      "flex_flow": null,
      "grid_area": null,
      "grid_auto_columns": null,
      "grid_auto_flow": null,
      "grid_auto_rows": null,
      "grid_column": null,
      "grid_gap": null,
      "grid_row": null,
      "grid_template_areas": null,
      "grid_template_columns": null,
      "grid_template_rows": null,
      "height": null,
      "justify_content": null,
      "justify_items": null,
      "left": null,
      "margin": null,
      "max_height": null,
      "max_width": null,
      "min_height": null,
      "min_width": null,
      "object_fit": null,
      "object_position": null,
      "order": null,
      "overflow": null,
      "overflow_x": null,
      "overflow_y": null,
      "padding": null,
      "right": null,
      "top": null,
      "visibility": null,
      "width": null
     }
    },
    "6a4b95c58fec4fd1a8df6f8daa2c4690": {
     "model_module": "@jupyter-widgets/controls",
     "model_module_version": "1.5.0",
     "model_name": "DescriptionStyleModel",
     "state": {
      "_model_module": "@jupyter-widgets/controls",
      "_model_module_version": "1.5.0",
      "_model_name": "DescriptionStyleModel",
      "_view_count": null,
      "_view_module": "@jupyter-widgets/base",
      "_view_module_version": "1.2.0",
      "_view_name": "StyleView",
      "description_width": ""
     }
    },
    "6e448f86b9a1438eb52ce8994f5faa6a": {
     "model_module": "@jupyter-widgets/base",
     "model_module_version": "1.2.0",
     "model_name": "LayoutModel",
     "state": {
      "_model_module": "@jupyter-widgets/base",
      "_model_module_version": "1.2.0",
      "_model_name": "LayoutModel",
      "_view_count": null,
      "_view_module": "@jupyter-widgets/base",
      "_view_module_version": "1.2.0",
      "_view_name": "LayoutView",
      "align_content": null,
      "align_items": null,
      "align_self": null,
      "border": null,
      "bottom": null,
      "display": null,
      "flex": null,
      "flex_flow": null,
      "grid_area": null,
      "grid_auto_columns": null,
      "grid_auto_flow": null,
      "grid_auto_rows": null,
      "grid_column": null,
      "grid_gap": null,
      "grid_row": null,
      "grid_template_areas": null,
      "grid_template_columns": null,
      "grid_template_rows": null,
      "height": null,
      "justify_content": null,
      "justify_items": null,
      "left": null,
      "margin": null,
      "max_height": null,
      "max_width": null,
      "min_height": null,
      "min_width": null,
      "object_fit": null,
      "object_position": null,
      "order": null,
      "overflow": null,
      "overflow_x": null,
      "overflow_y": null,
      "padding": null,
      "right": null,
      "top": null,
      "visibility": null,
      "width": null
     }
    },
    "743589d75bac44afb0b7c0e3f3767b4c": {
     "model_module": "@jupyter-widgets/controls",
     "model_module_version": "1.5.0",
     "model_name": "DescriptionStyleModel",
     "state": {
      "_model_module": "@jupyter-widgets/controls",
      "_model_module_version": "1.5.0",
      "_model_name": "DescriptionStyleModel",
      "_view_count": null,
      "_view_module": "@jupyter-widgets/base",
      "_view_module_version": "1.2.0",
      "_view_name": "StyleView",
      "description_width": ""
     }
    },
    "74db0955422848f2aff50a60477cd64a": {
     "model_module": "@jupyter-widgets/controls",
     "model_module_version": "1.5.0",
     "model_name": "FloatProgressModel",
     "state": {
      "_dom_classes": [],
      "_model_module": "@jupyter-widgets/controls",
      "_model_module_version": "1.5.0",
      "_model_name": "FloatProgressModel",
      "_view_count": null,
      "_view_module": "@jupyter-widgets/controls",
      "_view_module_version": "1.5.0",
      "_view_name": "ProgressView",
      "bar_style": "success",
      "description": "",
      "description_tooltip": null,
      "layout": "IPY_MODEL_6e448f86b9a1438eb52ce8994f5faa6a",
      "max": 5,
      "min": 0,
      "orientation": "horizontal",
      "style": "IPY_MODEL_abae6af1e9ef40a9bd6495f7d94c3443",
      "value": 5
     }
    },
    "7592fa68ad2949f2b1611726c4372228": {
     "model_module": "@jupyter-widgets/base",
     "model_module_version": "1.2.0",
     "model_name": "LayoutModel",
     "state": {
      "_model_module": "@jupyter-widgets/base",
      "_model_module_version": "1.2.0",
      "_model_name": "LayoutModel",
      "_view_count": null,
      "_view_module": "@jupyter-widgets/base",
      "_view_module_version": "1.2.0",
      "_view_name": "LayoutView",
      "align_content": null,
      "align_items": null,
      "align_self": null,
      "border": null,
      "bottom": null,
      "display": null,
      "flex": null,
      "flex_flow": null,
      "grid_area": null,
      "grid_auto_columns": null,
      "grid_auto_flow": null,
      "grid_auto_rows": null,
      "grid_column": null,
      "grid_gap": null,
      "grid_row": null,
      "grid_template_areas": null,
      "grid_template_columns": null,
      "grid_template_rows": null,
      "height": null,
      "justify_content": null,
      "justify_items": null,
      "left": null,
      "margin": null,
      "max_height": null,
      "max_width": null,
      "min_height": null,
      "min_width": null,
      "object_fit": null,
      "object_position": null,
      "order": null,
      "overflow": null,
      "overflow_x": null,
      "overflow_y": null,
      "padding": null,
      "right": null,
      "top": null,
      "visibility": null,
      "width": null
     }
    },
    "77794420db284672af2ded3b8a8b38e3": {
     "model_module": "@jupyter-widgets/controls",
     "model_module_version": "1.5.0",
     "model_name": "HBoxModel",
     "state": {
      "_dom_classes": [],
      "_model_module": "@jupyter-widgets/controls",
      "_model_module_version": "1.5.0",
      "_model_name": "HBoxModel",
      "_view_count": null,
      "_view_module": "@jupyter-widgets/controls",
      "_view_module_version": "1.5.0",
      "_view_name": "HBoxView",
      "box_style": "",
      "children": [
       "IPY_MODEL_59de0090fb7b4327bf2524470e1578f5",
       "IPY_MODEL_74db0955422848f2aff50a60477cd64a",
       "IPY_MODEL_bca0582949074d9a8dd7c2c28dac3da9"
      ],
      "layout": "IPY_MODEL_e818a751cd6243dbae768e47d13459bd"
     }
    },
    "7c11a399fb9d496483cc6de6d3ccdca9": {
     "model_module": "@jupyter-widgets/controls",
     "model_module_version": "1.5.0",
     "model_name": "DescriptionStyleModel",
     "state": {
      "_model_module": "@jupyter-widgets/controls",
      "_model_module_version": "1.5.0",
      "_model_name": "DescriptionStyleModel",
      "_view_count": null,
      "_view_module": "@jupyter-widgets/base",
      "_view_module_version": "1.2.0",
      "_view_name": "StyleView",
      "description_width": ""
     }
    },
    "7cfecd808bc34f3a8dbc51b934c07061": {
     "model_module": "@jupyter-widgets/controls",
     "model_module_version": "1.5.0",
     "model_name": "HTMLModel",
     "state": {
      "_dom_classes": [],
      "_model_module": "@jupyter-widgets/controls",
      "_model_module_version": "1.5.0",
      "_model_name": "HTMLModel",
      "_view_count": null,
      "_view_module": "@jupyter-widgets/controls",
      "_view_module_version": "1.5.0",
      "_view_name": "HTMLView",
      "description": "",
      "description_tooltip": null,
      "layout": "IPY_MODEL_05d013afb5d24f7085a1a86cec3aceee",
      "placeholder": "​",
      "style": "IPY_MODEL_6a4b95c58fec4fd1a8df6f8daa2c4690",
      "value": " 1/1 [00:02&lt;00:00,  2.38s/it]"
     }
    },
    "895edce721244404aa3449ab4a63780c": {
     "model_module": "@jupyter-widgets/controls",
     "model_module_version": "1.5.0",
     "model_name": "ProgressStyleModel",
     "state": {
      "_model_module": "@jupyter-widgets/controls",
      "_model_module_version": "1.5.0",
      "_model_name": "ProgressStyleModel",
      "_view_count": null,
      "_view_module": "@jupyter-widgets/base",
      "_view_module_version": "1.2.0",
      "_view_name": "StyleView",
      "bar_color": null,
      "description_width": ""
     }
    },
    "8da4f69f31bd4e7d822e7b85acb810ed": {
     "model_module": "@jupyter-widgets/base",
     "model_module_version": "1.2.0",
     "model_name": "LayoutModel",
     "state": {
      "_model_module": "@jupyter-widgets/base",
      "_model_module_version": "1.2.0",
      "_model_name": "LayoutModel",
      "_view_count": null,
      "_view_module": "@jupyter-widgets/base",
      "_view_module_version": "1.2.0",
      "_view_name": "LayoutView",
      "align_content": null,
      "align_items": null,
      "align_self": null,
      "border": null,
      "bottom": null,
      "display": null,
      "flex": null,
      "flex_flow": null,
      "grid_area": null,
      "grid_auto_columns": null,
      "grid_auto_flow": null,
      "grid_auto_rows": null,
      "grid_column": null,
      "grid_gap": null,
      "grid_row": null,
      "grid_template_areas": null,
      "grid_template_columns": null,
      "grid_template_rows": null,
      "height": null,
      "justify_content": null,
      "justify_items": null,
      "left": null,
      "margin": null,
      "max_height": null,
      "max_width": null,
      "min_height": null,
      "min_width": null,
      "object_fit": null,
      "object_position": null,
      "order": null,
      "overflow": null,
      "overflow_x": null,
      "overflow_y": null,
      "padding": null,
      "right": null,
      "top": null,
      "visibility": null,
      "width": null
     }
    },
    "9a3752586e9446c5ab5451866127feaa": {
     "model_module": "@jupyter-widgets/controls",
     "model_module_version": "1.5.0",
     "model_name": "ProgressStyleModel",
     "state": {
      "_model_module": "@jupyter-widgets/controls",
      "_model_module_version": "1.5.0",
      "_model_name": "ProgressStyleModel",
      "_view_count": null,
      "_view_module": "@jupyter-widgets/base",
      "_view_module_version": "1.2.0",
      "_view_name": "StyleView",
      "bar_color": null,
      "description_width": ""
     }
    },
    "9ad8806172da47fc81c100d4bfe8a63e": {
     "model_module": "@jupyter-widgets/controls",
     "model_module_version": "1.5.0",
     "model_name": "HTMLModel",
     "state": {
      "_dom_classes": [],
      "_model_module": "@jupyter-widgets/controls",
      "_model_module_version": "1.5.0",
      "_model_name": "HTMLModel",
      "_view_count": null,
      "_view_module": "@jupyter-widgets/controls",
      "_view_module_version": "1.5.0",
      "_view_name": "HTMLView",
      "description": "",
      "description_tooltip": null,
      "layout": "IPY_MODEL_fd214eefe883408aa025f096ea3ac1c6",
      "placeholder": "​",
      "style": "IPY_MODEL_30d9bf7e7b714c89bf0cc966f10ecee3",
      "value": " 1/1 [00:14&lt;00:00, 14.10s/it]"
     }
    },
    "9b42f6eca91a40c98e439fb60718a866": {
     "model_module": "@jupyter-widgets/base",
     "model_module_version": "1.2.0",
     "model_name": "LayoutModel",
     "state": {
      "_model_module": "@jupyter-widgets/base",
      "_model_module_version": "1.2.0",
      "_model_name": "LayoutModel",
      "_view_count": null,
      "_view_module": "@jupyter-widgets/base",
      "_view_module_version": "1.2.0",
      "_view_name": "LayoutView",
      "align_content": null,
      "align_items": null,
      "align_self": null,
      "border": null,
      "bottom": null,
      "display": null,
      "flex": null,
      "flex_flow": null,
      "grid_area": null,
      "grid_auto_columns": null,
      "grid_auto_flow": null,
      "grid_auto_rows": null,
      "grid_column": null,
      "grid_gap": null,
      "grid_row": null,
      "grid_template_areas": null,
      "grid_template_columns": null,
      "grid_template_rows": null,
      "height": null,
      "justify_content": null,
      "justify_items": null,
      "left": null,
      "margin": null,
      "max_height": null,
      "max_width": null,
      "min_height": null,
      "min_width": null,
      "object_fit": null,
      "object_position": null,
      "order": null,
      "overflow": null,
      "overflow_x": null,
      "overflow_y": null,
      "padding": null,
      "right": null,
      "top": null,
      "visibility": null,
      "width": null
     }
    },
    "9f4957ebef38445fb5b4e92261d6ebb1": {
     "model_module": "@jupyter-widgets/base",
     "model_module_version": "1.2.0",
     "model_name": "LayoutModel",
     "state": {
      "_model_module": "@jupyter-widgets/base",
      "_model_module_version": "1.2.0",
      "_model_name": "LayoutModel",
      "_view_count": null,
      "_view_module": "@jupyter-widgets/base",
      "_view_module_version": "1.2.0",
      "_view_name": "LayoutView",
      "align_content": null,
      "align_items": null,
      "align_self": null,
      "border": null,
      "bottom": null,
      "display": null,
      "flex": null,
      "flex_flow": null,
      "grid_area": null,
      "grid_auto_columns": null,
      "grid_auto_flow": null,
      "grid_auto_rows": null,
      "grid_column": null,
      "grid_gap": null,
      "grid_row": null,
      "grid_template_areas": null,
      "grid_template_columns": null,
      "grid_template_rows": null,
      "height": null,
      "justify_content": null,
      "justify_items": null,
      "left": null,
      "margin": null,
      "max_height": null,
      "max_width": null,
      "min_height": null,
      "min_width": null,
      "object_fit": null,
      "object_position": null,
      "order": null,
      "overflow": null,
      "overflow_x": null,
      "overflow_y": null,
      "padding": null,
      "right": null,
      "top": null,
      "visibility": null,
      "width": null
     }
    },
    "a17b9045d4df49adb4df93f9f1d0917c": {
     "model_module": "@jupyter-widgets/base",
     "model_module_version": "1.2.0",
     "model_name": "LayoutModel",
     "state": {
      "_model_module": "@jupyter-widgets/base",
      "_model_module_version": "1.2.0",
      "_model_name": "LayoutModel",
      "_view_count": null,
      "_view_module": "@jupyter-widgets/base",
      "_view_module_version": "1.2.0",
      "_view_name": "LayoutView",
      "align_content": null,
      "align_items": null,
      "align_self": null,
      "border": null,
      "bottom": null,
      "display": null,
      "flex": null,
      "flex_flow": null,
      "grid_area": null,
      "grid_auto_columns": null,
      "grid_auto_flow": null,
      "grid_auto_rows": null,
      "grid_column": null,
      "grid_gap": null,
      "grid_row": null,
      "grid_template_areas": null,
      "grid_template_columns": null,
      "grid_template_rows": null,
      "height": null,
      "justify_content": null,
      "justify_items": null,
      "left": null,
      "margin": null,
      "max_height": null,
      "max_width": null,
      "min_height": null,
      "min_width": null,
      "object_fit": null,
      "object_position": null,
      "order": null,
      "overflow": null,
      "overflow_x": null,
      "overflow_y": null,
      "padding": null,
      "right": null,
      "top": null,
      "visibility": null,
      "width": null
     }
    },
    "a54ec1f20de84e20a87c1be1bef9bf2a": {
     "model_module": "@jupyter-widgets/base",
     "model_module_version": "1.2.0",
     "model_name": "LayoutModel",
     "state": {
      "_model_module": "@jupyter-widgets/base",
      "_model_module_version": "1.2.0",
      "_model_name": "LayoutModel",
      "_view_count": null,
      "_view_module": "@jupyter-widgets/base",
      "_view_module_version": "1.2.0",
      "_view_name": "LayoutView",
      "align_content": null,
      "align_items": null,
      "align_self": null,
      "border": null,
      "bottom": null,
      "display": null,
      "flex": null,
      "flex_flow": null,
      "grid_area": null,
      "grid_auto_columns": null,
      "grid_auto_flow": null,
      "grid_auto_rows": null,
      "grid_column": null,
      "grid_gap": null,
      "grid_row": null,
      "grid_template_areas": null,
      "grid_template_columns": null,
      "grid_template_rows": null,
      "height": null,
      "justify_content": null,
      "justify_items": null,
      "left": null,
      "margin": null,
      "max_height": null,
      "max_width": null,
      "min_height": null,
      "min_width": null,
      "object_fit": null,
      "object_position": null,
      "order": null,
      "overflow": null,
      "overflow_x": null,
      "overflow_y": null,
      "padding": null,
      "right": null,
      "top": null,
      "visibility": null,
      "width": null
     }
    },
    "abae6af1e9ef40a9bd6495f7d94c3443": {
     "model_module": "@jupyter-widgets/controls",
     "model_module_version": "1.5.0",
     "model_name": "ProgressStyleModel",
     "state": {
      "_model_module": "@jupyter-widgets/controls",
      "_model_module_version": "1.5.0",
      "_model_name": "ProgressStyleModel",
      "_view_count": null,
      "_view_module": "@jupyter-widgets/base",
      "_view_module_version": "1.2.0",
      "_view_name": "StyleView",
      "bar_color": null,
      "description_width": ""
     }
    },
    "bca0582949074d9a8dd7c2c28dac3da9": {
     "model_module": "@jupyter-widgets/controls",
     "model_module_version": "1.5.0",
     "model_name": "HTMLModel",
     "state": {
      "_dom_classes": [],
      "_model_module": "@jupyter-widgets/controls",
      "_model_module_version": "1.5.0",
      "_model_name": "HTMLModel",
      "_view_count": null,
      "_view_module": "@jupyter-widgets/controls",
      "_view_module_version": "1.5.0",
      "_view_name": "HTMLView",
      "description": "",
      "description_tooltip": null,
      "layout": "IPY_MODEL_a54ec1f20de84e20a87c1be1bef9bf2a",
      "placeholder": "​",
      "style": "IPY_MODEL_50861ea913b5491d980a37032fa20015",
      "value": " 90/90 [00:27&lt;00:00,  2.94it/s, Completed]"
     }
    },
    "cc065289e42f4b2cae582672e692a122": {
     "model_module": "@jupyter-widgets/base",
     "model_module_version": "1.2.0",
     "model_name": "LayoutModel",
     "state": {
      "_model_module": "@jupyter-widgets/base",
      "_model_module_version": "1.2.0",
      "_model_name": "LayoutModel",
      "_view_count": null,
      "_view_module": "@jupyter-widgets/base",
      "_view_module_version": "1.2.0",
      "_view_name": "LayoutView",
      "align_content": null,
      "align_items": null,
      "align_self": null,
      "border": null,
      "bottom": null,
      "display": null,
      "flex": null,
      "flex_flow": null,
      "grid_area": null,
      "grid_auto_columns": null,
      "grid_auto_flow": null,
      "grid_auto_rows": null,
      "grid_column": null,
      "grid_gap": null,
      "grid_row": null,
      "grid_template_areas": null,
      "grid_template_columns": null,
      "grid_template_rows": null,
      "height": null,
      "justify_content": null,
      "justify_items": null,
      "left": null,
      "margin": null,
      "max_height": null,
      "max_width": null,
      "min_height": null,
      "min_width": null,
      "object_fit": null,
      "object_position": null,
      "order": null,
      "overflow": null,
      "overflow_x": null,
      "overflow_y": null,
      "padding": null,
      "right": null,
      "top": null,
      "visibility": null,
      "width": null
     }
    },
    "d77bec0c7a2b4c1da18890785b0482d5": {
     "model_module": "@jupyter-widgets/controls",
     "model_module_version": "1.5.0",
     "model_name": "HTMLModel",
     "state": {
      "_dom_classes": [],
      "_model_module": "@jupyter-widgets/controls",
      "_model_module_version": "1.5.0",
      "_model_name": "HTMLModel",
      "_view_count": null,
      "_view_module": "@jupyter-widgets/controls",
      "_view_module_version": "1.5.0",
      "_view_name": "HTMLView",
      "description": "",
      "description_tooltip": null,
      "layout": "IPY_MODEL_9f4957ebef38445fb5b4e92261d6ebb1",
      "placeholder": "​",
      "style": "IPY_MODEL_743589d75bac44afb0b7c0e3f3767b4c",
      "value": "Generate report structure: 100%"
     }
    },
    "daa300ea26ec400db2d009e51603211e": {
     "model_module": "@jupyter-widgets/controls",
     "model_module_version": "1.5.0",
     "model_name": "FloatProgressModel",
     "state": {
      "_dom_classes": [],
      "_model_module": "@jupyter-widgets/controls",
      "_model_module_version": "1.5.0",
      "_model_name": "FloatProgressModel",
      "_view_count": null,
      "_view_module": "@jupyter-widgets/controls",
      "_view_module_version": "1.5.0",
      "_view_name": "ProgressView",
      "bar_style": "success",
      "description": "",
      "description_tooltip": null,
      "layout": "IPY_MODEL_7592fa68ad2949f2b1611726c4372228",
      "max": 1,
      "min": 0,
      "orientation": "horizontal",
      "style": "IPY_MODEL_fabd100b6ec14f2d9d6ed488263c9d8a",
      "value": 1
     }
    },
    "e064a6394dc84b7aaf4aff2735c733cf": {
     "model_module": "@jupyter-widgets/controls",
     "model_module_version": "1.5.0",
     "model_name": "HBoxModel",
     "state": {
      "_dom_classes": [],
      "_model_module": "@jupyter-widgets/controls",
      "_model_module_version": "1.5.0",
      "_model_name": "HBoxModel",
      "_view_count": null,
      "_view_module": "@jupyter-widgets/controls",
      "_view_module_version": "1.5.0",
      "_view_name": "HBoxView",
      "box_style": "",
      "children": [
       "IPY_MODEL_d77bec0c7a2b4c1da18890785b0482d5",
       "IPY_MODEL_daa300ea26ec400db2d009e51603211e",
       "IPY_MODEL_9ad8806172da47fc81c100d4bfe8a63e"
      ],
      "layout": "IPY_MODEL_61d627b96feb484dbb8bdc99cfdef579"
     }
    },
    "e818a751cd6243dbae768e47d13459bd": {
     "model_module": "@jupyter-widgets/base",
     "model_module_version": "1.2.0",
     "model_name": "LayoutModel",
     "state": {
      "_model_module": "@jupyter-widgets/base",
      "_model_module_version": "1.2.0",
      "_model_name": "LayoutModel",
      "_view_count": null,
      "_view_module": "@jupyter-widgets/base",
      "_view_module_version": "1.2.0",
      "_view_name": "LayoutView",
      "align_content": null,
      "align_items": null,
      "align_self": null,
      "border": null,
      "bottom": null,
      "display": null,
      "flex": null,
      "flex_flow": null,
      "grid_area": null,
      "grid_auto_columns": null,
      "grid_auto_flow": null,
      "grid_auto_rows": null,
      "grid_column": null,
      "grid_gap": null,
      "grid_row": null,
      "grid_template_areas": null,
      "grid_template_columns": null,
      "grid_template_rows": null,
      "height": null,
      "justify_content": null,
      "justify_items": null,
      "left": null,
      "margin": null,
      "max_height": null,
      "max_width": null,
      "min_height": null,
      "min_width": null,
      "object_fit": null,
      "object_position": null,
      "order": null,
      "overflow": null,
      "overflow_x": null,
      "overflow_y": null,
      "padding": null,
      "right": null,
      "top": null,
      "visibility": null,
      "width": null
     }
    },
    "f7ea95fadd7b440d837eaf247443912a": {
     "model_module": "@jupyter-widgets/controls",
     "model_module_version": "1.5.0",
     "model_name": "DescriptionStyleModel",
     "state": {
      "_model_module": "@jupyter-widgets/controls",
      "_model_module_version": "1.5.0",
      "_model_name": "DescriptionStyleModel",
      "_view_count": null,
      "_view_module": "@jupyter-widgets/base",
      "_view_module_version": "1.2.0",
      "_view_name": "StyleView",
      "description_width": ""
     }
    },
    "fabd100b6ec14f2d9d6ed488263c9d8a": {
     "model_module": "@jupyter-widgets/controls",
     "model_module_version": "1.5.0",
     "model_name": "ProgressStyleModel",
     "state": {
      "_model_module": "@jupyter-widgets/controls",
      "_model_module_version": "1.5.0",
      "_model_name": "ProgressStyleModel",
      "_view_count": null,
      "_view_module": "@jupyter-widgets/base",
      "_view_module_version": "1.2.0",
      "_view_name": "StyleView",
      "bar_color": null,
      "description_width": ""
     }
    },
    "fb2e57ef3fad4ddc900c98b6e3369734": {
     "model_module": "@jupyter-widgets/controls",
     "model_module_version": "1.5.0",
     "model_name": "FloatProgressModel",
     "state": {
      "_dom_classes": [],
      "_model_module": "@jupyter-widgets/controls",
      "_model_module_version": "1.5.0",
      "_model_name": "FloatProgressModel",
      "_view_count": null,
      "_view_module": "@jupyter-widgets/controls",
      "_view_module_version": "1.5.0",
      "_view_name": "ProgressView",
      "bar_style": "success",
      "description": "",
      "description_tooltip": null,
      "layout": "IPY_MODEL_35326bb513374f999df29846dd3fa5c1",
      "max": 1,
      "min": 0,
      "orientation": "horizontal",
      "style": "IPY_MODEL_9a3752586e9446c5ab5451866127feaa",
      "value": 1
     }
    },
    "fd214eefe883408aa025f096ea3ac1c6": {
     "model_module": "@jupyter-widgets/base",
     "model_module_version": "1.2.0",
     "model_name": "LayoutModel",
     "state": {
      "_model_module": "@jupyter-widgets/base",
      "_model_module_version": "1.2.0",
      "_model_name": "LayoutModel",
      "_view_count": null,
      "_view_module": "@jupyter-widgets/base",
      "_view_module_version": "1.2.0",
      "_view_name": "LayoutView",
      "align_content": null,
      "align_items": null,
      "align_self": null,
      "border": null,
      "bottom": null,
      "display": null,
      "flex": null,
      "flex_flow": null,
      "grid_area": null,
      "grid_auto_columns": null,
      "grid_auto_flow": null,
      "grid_auto_rows": null,
      "grid_column": null,
      "grid_gap": null,
      "grid_row": null,
      "grid_template_areas": null,
      "grid_template_columns": null,
      "grid_template_rows": null,
      "height": null,
      "justify_content": null,
      "justify_items": null,
      "left": null,
      "margin": null,
      "max_height": null,
      "max_width": null,
      "min_height": null,
      "min_width": null,
      "object_fit": null,
      "object_position": null,
      "order": null,
      "overflow": null,
      "overflow_x": null,
      "overflow_y": null,
      "padding": null,
      "right": null,
      "top": null,
      "visibility": null,
      "width": null
     }
    }
   }
  }
 },
 "nbformat": 4,
 "nbformat_minor": 4
}
