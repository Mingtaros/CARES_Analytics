{
  "nbformat": 4,
  "nbformat_minor": 0,
  "metadata": {
    "colab": {
      "provenance": [],
      "toc_visible": true,
      "gpuType": "T4"
    },
    "kernelspec": {
      "name": "python3",
      "display_name": "Python 3"
    },
    "language_info": {
      "name": "python"
    },
    "accelerator": "GPU",
    "widgets": {
      "application/vnd.jupyter.widget-state+json": {
        "77794420db284672af2ded3b8a8b38e3": {
          "model_module": "@jupyter-widgets/controls",
          "model_name": "HBoxModel",
          "model_module_version": "1.5.0",
          "state": {
            "_dom_classes": [],
            "_model_module": "@jupyter-widgets/controls",
            "_model_module_version": "1.5.0",
            "_model_name": "HBoxModel",
            "_view_count": null,
            "_view_module": "@jupyter-widgets/controls",
            "_view_module_version": "1.5.0",
            "_view_name": "HBoxView",
            "box_style": "",
            "children": [
              "IPY_MODEL_59de0090fb7b4327bf2524470e1578f5",
              "IPY_MODEL_74db0955422848f2aff50a60477cd64a",
              "IPY_MODEL_bca0582949074d9a8dd7c2c28dac3da9"
            ],
            "layout": "IPY_MODEL_e818a751cd6243dbae768e47d13459bd"
          }
        },
        "59de0090fb7b4327bf2524470e1578f5": {
          "model_module": "@jupyter-widgets/controls",
          "model_name": "HTMLModel",
          "model_module_version": "1.5.0",
          "state": {
            "_dom_classes": [],
            "_model_module": "@jupyter-widgets/controls",
            "_model_module_version": "1.5.0",
            "_model_name": "HTMLModel",
            "_view_count": null,
            "_view_module": "@jupyter-widgets/controls",
            "_view_module_version": "1.5.0",
            "_view_name": "HTMLView",
            "description": "",
            "description_tooltip": null,
            "layout": "IPY_MODEL_8da4f69f31bd4e7d822e7b85acb810ed",
            "placeholder": "​",
            "style": "IPY_MODEL_48db6317b87049cd81b45d72a781588f",
            "value": "Summarize dataset: 100%"
          }
        },
        "74db0955422848f2aff50a60477cd64a": {
          "model_module": "@jupyter-widgets/controls",
          "model_name": "FloatProgressModel",
          "model_module_version": "1.5.0",
          "state": {
            "_dom_classes": [],
            "_model_module": "@jupyter-widgets/controls",
            "_model_module_version": "1.5.0",
            "_model_name": "FloatProgressModel",
            "_view_count": null,
            "_view_module": "@jupyter-widgets/controls",
            "_view_module_version": "1.5.0",
            "_view_name": "ProgressView",
            "bar_style": "success",
            "description": "",
            "description_tooltip": null,
            "layout": "IPY_MODEL_6e448f86b9a1438eb52ce8994f5faa6a",
            "max": 5,
            "min": 0,
            "orientation": "horizontal",
            "style": "IPY_MODEL_abae6af1e9ef40a9bd6495f7d94c3443",
            "value": 5
          }
        },
        "bca0582949074d9a8dd7c2c28dac3da9": {
          "model_module": "@jupyter-widgets/controls",
          "model_name": "HTMLModel",
          "model_module_version": "1.5.0",
          "state": {
            "_dom_classes": [],
            "_model_module": "@jupyter-widgets/controls",
            "_model_module_version": "1.5.0",
            "_model_name": "HTMLModel",
            "_view_count": null,
            "_view_module": "@jupyter-widgets/controls",
            "_view_module_version": "1.5.0",
            "_view_name": "HTMLView",
            "description": "",
            "description_tooltip": null,
            "layout": "IPY_MODEL_a54ec1f20de84e20a87c1be1bef9bf2a",
            "placeholder": "​",
            "style": "IPY_MODEL_50861ea913b5491d980a37032fa20015",
            "value": " 90/90 [00:27&lt;00:00,  2.94it/s, Completed]"
          }
        },
        "e818a751cd6243dbae768e47d13459bd": {
          "model_module": "@jupyter-widgets/base",
          "model_name": "LayoutModel",
          "model_module_version": "1.2.0",
          "state": {
            "_model_module": "@jupyter-widgets/base",
            "_model_module_version": "1.2.0",
            "_model_name": "LayoutModel",
            "_view_count": null,
            "_view_module": "@jupyter-widgets/base",
            "_view_module_version": "1.2.0",
            "_view_name": "LayoutView",
            "align_content": null,
            "align_items": null,
            "align_self": null,
            "border": null,
            "bottom": null,
            "display": null,
            "flex": null,
            "flex_flow": null,
            "grid_area": null,
            "grid_auto_columns": null,
            "grid_auto_flow": null,
            "grid_auto_rows": null,
            "grid_column": null,
            "grid_gap": null,
            "grid_row": null,
            "grid_template_areas": null,
            "grid_template_columns": null,
            "grid_template_rows": null,
            "height": null,
            "justify_content": null,
            "justify_items": null,
            "left": null,
            "margin": null,
            "max_height": null,
            "max_width": null,
            "min_height": null,
            "min_width": null,
            "object_fit": null,
            "object_position": null,
            "order": null,
            "overflow": null,
            "overflow_x": null,
            "overflow_y": null,
            "padding": null,
            "right": null,
            "top": null,
            "visibility": null,
            "width": null
          }
        },
        "8da4f69f31bd4e7d822e7b85acb810ed": {
          "model_module": "@jupyter-widgets/base",
          "model_name": "LayoutModel",
          "model_module_version": "1.2.0",
          "state": {
            "_model_module": "@jupyter-widgets/base",
            "_model_module_version": "1.2.0",
            "_model_name": "LayoutModel",
            "_view_count": null,
            "_view_module": "@jupyter-widgets/base",
            "_view_module_version": "1.2.0",
            "_view_name": "LayoutView",
            "align_content": null,
            "align_items": null,
            "align_self": null,
            "border": null,
            "bottom": null,
            "display": null,
            "flex": null,
            "flex_flow": null,
            "grid_area": null,
            "grid_auto_columns": null,
            "grid_auto_flow": null,
            "grid_auto_rows": null,
            "grid_column": null,
            "grid_gap": null,
            "grid_row": null,
            "grid_template_areas": null,
            "grid_template_columns": null,
            "grid_template_rows": null,
            "height": null,
            "justify_content": null,
            "justify_items": null,
            "left": null,
            "margin": null,
            "max_height": null,
            "max_width": null,
            "min_height": null,
            "min_width": null,
            "object_fit": null,
            "object_position": null,
            "order": null,
            "overflow": null,
            "overflow_x": null,
            "overflow_y": null,
            "padding": null,
            "right": null,
            "top": null,
            "visibility": null,
            "width": null
          }
        },
        "48db6317b87049cd81b45d72a781588f": {
          "model_module": "@jupyter-widgets/controls",
          "model_name": "DescriptionStyleModel",
          "model_module_version": "1.5.0",
          "state": {
            "_model_module": "@jupyter-widgets/controls",
            "_model_module_version": "1.5.0",
            "_model_name": "DescriptionStyleModel",
            "_view_count": null,
            "_view_module": "@jupyter-widgets/base",
            "_view_module_version": "1.2.0",
            "_view_name": "StyleView",
            "description_width": ""
          }
        },
        "6e448f86b9a1438eb52ce8994f5faa6a": {
          "model_module": "@jupyter-widgets/base",
          "model_name": "LayoutModel",
          "model_module_version": "1.2.0",
          "state": {
            "_model_module": "@jupyter-widgets/base",
            "_model_module_version": "1.2.0",
            "_model_name": "LayoutModel",
            "_view_count": null,
            "_view_module": "@jupyter-widgets/base",
            "_view_module_version": "1.2.0",
            "_view_name": "LayoutView",
            "align_content": null,
            "align_items": null,
            "align_self": null,
            "border": null,
            "bottom": null,
            "display": null,
            "flex": null,
            "flex_flow": null,
            "grid_area": null,
            "grid_auto_columns": null,
            "grid_auto_flow": null,
            "grid_auto_rows": null,
            "grid_column": null,
            "grid_gap": null,
            "grid_row": null,
            "grid_template_areas": null,
            "grid_template_columns": null,
            "grid_template_rows": null,
            "height": null,
            "justify_content": null,
            "justify_items": null,
            "left": null,
            "margin": null,
            "max_height": null,
            "max_width": null,
            "min_height": null,
            "min_width": null,
            "object_fit": null,
            "object_position": null,
            "order": null,
            "overflow": null,
            "overflow_x": null,
            "overflow_y": null,
            "padding": null,
            "right": null,
            "top": null,
            "visibility": null,
            "width": null
          }
        },
        "abae6af1e9ef40a9bd6495f7d94c3443": {
          "model_module": "@jupyter-widgets/controls",
          "model_name": "ProgressStyleModel",
          "model_module_version": "1.5.0",
          "state": {
            "_model_module": "@jupyter-widgets/controls",
            "_model_module_version": "1.5.0",
            "_model_name": "ProgressStyleModel",
            "_view_count": null,
            "_view_module": "@jupyter-widgets/base",
            "_view_module_version": "1.2.0",
            "_view_name": "StyleView",
            "bar_color": null,
            "description_width": ""
          }
        },
        "a54ec1f20de84e20a87c1be1bef9bf2a": {
          "model_module": "@jupyter-widgets/base",
          "model_name": "LayoutModel",
          "model_module_version": "1.2.0",
          "state": {
            "_model_module": "@jupyter-widgets/base",
            "_model_module_version": "1.2.0",
            "_model_name": "LayoutModel",
            "_view_count": null,
            "_view_module": "@jupyter-widgets/base",
            "_view_module_version": "1.2.0",
            "_view_name": "LayoutView",
            "align_content": null,
            "align_items": null,
            "align_self": null,
            "border": null,
            "bottom": null,
            "display": null,
            "flex": null,
            "flex_flow": null,
            "grid_area": null,
            "grid_auto_columns": null,
            "grid_auto_flow": null,
            "grid_auto_rows": null,
            "grid_column": null,
            "grid_gap": null,
            "grid_row": null,
            "grid_template_areas": null,
            "grid_template_columns": null,
            "grid_template_rows": null,
            "height": null,
            "justify_content": null,
            "justify_items": null,
            "left": null,
            "margin": null,
            "max_height": null,
            "max_width": null,
            "min_height": null,
            "min_width": null,
            "object_fit": null,
            "object_position": null,
            "order": null,
            "overflow": null,
            "overflow_x": null,
            "overflow_y": null,
            "padding": null,
            "right": null,
            "top": null,
            "visibility": null,
            "width": null
          }
        },
        "50861ea913b5491d980a37032fa20015": {
          "model_module": "@jupyter-widgets/controls",
          "model_name": "DescriptionStyleModel",
          "model_module_version": "1.5.0",
          "state": {
            "_model_module": "@jupyter-widgets/controls",
            "_model_module_version": "1.5.0",
            "_model_name": "DescriptionStyleModel",
            "_view_count": null,
            "_view_module": "@jupyter-widgets/base",
            "_view_module_version": "1.2.0",
            "_view_name": "StyleView",
            "description_width": ""
          }
        },
        "e064a6394dc84b7aaf4aff2735c733cf": {
          "model_module": "@jupyter-widgets/controls",
          "model_name": "HBoxModel",
          "model_module_version": "1.5.0",
          "state": {
            "_dom_classes": [],
            "_model_module": "@jupyter-widgets/controls",
            "_model_module_version": "1.5.0",
            "_model_name": "HBoxModel",
            "_view_count": null,
            "_view_module": "@jupyter-widgets/controls",
            "_view_module_version": "1.5.0",
            "_view_name": "HBoxView",
            "box_style": "",
            "children": [
              "IPY_MODEL_d77bec0c7a2b4c1da18890785b0482d5",
              "IPY_MODEL_daa300ea26ec400db2d009e51603211e",
              "IPY_MODEL_9ad8806172da47fc81c100d4bfe8a63e"
            ],
            "layout": "IPY_MODEL_61d627b96feb484dbb8bdc99cfdef579"
          }
        },
        "d77bec0c7a2b4c1da18890785b0482d5": {
          "model_module": "@jupyter-widgets/controls",
          "model_name": "HTMLModel",
          "model_module_version": "1.5.0",
          "state": {
            "_dom_classes": [],
            "_model_module": "@jupyter-widgets/controls",
            "_model_module_version": "1.5.0",
            "_model_name": "HTMLModel",
            "_view_count": null,
            "_view_module": "@jupyter-widgets/controls",
            "_view_module_version": "1.5.0",
            "_view_name": "HTMLView",
            "description": "",
            "description_tooltip": null,
            "layout": "IPY_MODEL_9f4957ebef38445fb5b4e92261d6ebb1",
            "placeholder": "​",
            "style": "IPY_MODEL_743589d75bac44afb0b7c0e3f3767b4c",
            "value": "Generate report structure: 100%"
          }
        },
        "daa300ea26ec400db2d009e51603211e": {
          "model_module": "@jupyter-widgets/controls",
          "model_name": "FloatProgressModel",
          "model_module_version": "1.5.0",
          "state": {
            "_dom_classes": [],
            "_model_module": "@jupyter-widgets/controls",
            "_model_module_version": "1.5.0",
            "_model_name": "FloatProgressModel",
            "_view_count": null,
            "_view_module": "@jupyter-widgets/controls",
            "_view_module_version": "1.5.0",
            "_view_name": "ProgressView",
            "bar_style": "success",
            "description": "",
            "description_tooltip": null,
            "layout": "IPY_MODEL_7592fa68ad2949f2b1611726c4372228",
            "max": 1,
            "min": 0,
            "orientation": "horizontal",
            "style": "IPY_MODEL_fabd100b6ec14f2d9d6ed488263c9d8a",
            "value": 1
          }
        },
        "9ad8806172da47fc81c100d4bfe8a63e": {
          "model_module": "@jupyter-widgets/controls",
          "model_name": "HTMLModel",
          "model_module_version": "1.5.0",
          "state": {
            "_dom_classes": [],
            "_model_module": "@jupyter-widgets/controls",
            "_model_module_version": "1.5.0",
            "_model_name": "HTMLModel",
            "_view_count": null,
            "_view_module": "@jupyter-widgets/controls",
            "_view_module_version": "1.5.0",
            "_view_name": "HTMLView",
            "description": "",
            "description_tooltip": null,
            "layout": "IPY_MODEL_fd214eefe883408aa025f096ea3ac1c6",
            "placeholder": "​",
            "style": "IPY_MODEL_30d9bf7e7b714c89bf0cc966f10ecee3",
            "value": " 1/1 [00:14&lt;00:00, 14.10s/it]"
          }
        },
        "61d627b96feb484dbb8bdc99cfdef579": {
          "model_module": "@jupyter-widgets/base",
          "model_name": "LayoutModel",
          "model_module_version": "1.2.0",
          "state": {
            "_model_module": "@jupyter-widgets/base",
            "_model_module_version": "1.2.0",
            "_model_name": "LayoutModel",
            "_view_count": null,
            "_view_module": "@jupyter-widgets/base",
            "_view_module_version": "1.2.0",
            "_view_name": "LayoutView",
            "align_content": null,
            "align_items": null,
            "align_self": null,
            "border": null,
            "bottom": null,
            "display": null,
            "flex": null,
            "flex_flow": null,
            "grid_area": null,
            "grid_auto_columns": null,
            "grid_auto_flow": null,
            "grid_auto_rows": null,
            "grid_column": null,
            "grid_gap": null,
            "grid_row": null,
            "grid_template_areas": null,
            "grid_template_columns": null,
            "grid_template_rows": null,
            "height": null,
            "justify_content": null,
            "justify_items": null,
            "left": null,
            "margin": null,
            "max_height": null,
            "max_width": null,
            "min_height": null,
            "min_width": null,
            "object_fit": null,
            "object_position": null,
            "order": null,
            "overflow": null,
            "overflow_x": null,
            "overflow_y": null,
            "padding": null,
            "right": null,
            "top": null,
            "visibility": null,
            "width": null
          }
        },
        "9f4957ebef38445fb5b4e92261d6ebb1": {
          "model_module": "@jupyter-widgets/base",
          "model_name": "LayoutModel",
          "model_module_version": "1.2.0",
          "state": {
            "_model_module": "@jupyter-widgets/base",
            "_model_module_version": "1.2.0",
            "_model_name": "LayoutModel",
            "_view_count": null,
            "_view_module": "@jupyter-widgets/base",
            "_view_module_version": "1.2.0",
            "_view_name": "LayoutView",
            "align_content": null,
            "align_items": null,
            "align_self": null,
            "border": null,
            "bottom": null,
            "display": null,
            "flex": null,
            "flex_flow": null,
            "grid_area": null,
            "grid_auto_columns": null,
            "grid_auto_flow": null,
            "grid_auto_rows": null,
            "grid_column": null,
            "grid_gap": null,
            "grid_row": null,
            "grid_template_areas": null,
            "grid_template_columns": null,
            "grid_template_rows": null,
            "height": null,
            "justify_content": null,
            "justify_items": null,
            "left": null,
            "margin": null,
            "max_height": null,
            "max_width": null,
            "min_height": null,
            "min_width": null,
            "object_fit": null,
            "object_position": null,
            "order": null,
            "overflow": null,
            "overflow_x": null,
            "overflow_y": null,
            "padding": null,
            "right": null,
            "top": null,
            "visibility": null,
            "width": null
          }
        },
        "743589d75bac44afb0b7c0e3f3767b4c": {
          "model_module": "@jupyter-widgets/controls",
          "model_name": "DescriptionStyleModel",
          "model_module_version": "1.5.0",
          "state": {
            "_model_module": "@jupyter-widgets/controls",
            "_model_module_version": "1.5.0",
            "_model_name": "DescriptionStyleModel",
            "_view_count": null,
            "_view_module": "@jupyter-widgets/base",
            "_view_module_version": "1.2.0",
            "_view_name": "StyleView",
            "description_width": ""
          }
        },
        "7592fa68ad2949f2b1611726c4372228": {
          "model_module": "@jupyter-widgets/base",
          "model_name": "LayoutModel",
          "model_module_version": "1.2.0",
          "state": {
            "_model_module": "@jupyter-widgets/base",
            "_model_module_version": "1.2.0",
            "_model_name": "LayoutModel",
            "_view_count": null,
            "_view_module": "@jupyter-widgets/base",
            "_view_module_version": "1.2.0",
            "_view_name": "LayoutView",
            "align_content": null,
            "align_items": null,
            "align_self": null,
            "border": null,
            "bottom": null,
            "display": null,
            "flex": null,
            "flex_flow": null,
            "grid_area": null,
            "grid_auto_columns": null,
            "grid_auto_flow": null,
            "grid_auto_rows": null,
            "grid_column": null,
            "grid_gap": null,
            "grid_row": null,
            "grid_template_areas": null,
            "grid_template_columns": null,
            "grid_template_rows": null,
            "height": null,
            "justify_content": null,
            "justify_items": null,
            "left": null,
            "margin": null,
            "max_height": null,
            "max_width": null,
            "min_height": null,
            "min_width": null,
            "object_fit": null,
            "object_position": null,
            "order": null,
            "overflow": null,
            "overflow_x": null,
            "overflow_y": null,
            "padding": null,
            "right": null,
            "top": null,
            "visibility": null,
            "width": null
          }
        },
        "fabd100b6ec14f2d9d6ed488263c9d8a": {
          "model_module": "@jupyter-widgets/controls",
          "model_name": "ProgressStyleModel",
          "model_module_version": "1.5.0",
          "state": {
            "_model_module": "@jupyter-widgets/controls",
            "_model_module_version": "1.5.0",
            "_model_name": "ProgressStyleModel",
            "_view_count": null,
            "_view_module": "@jupyter-widgets/base",
            "_view_module_version": "1.2.0",
            "_view_name": "StyleView",
            "bar_color": null,
            "description_width": ""
          }
        },
        "fd214eefe883408aa025f096ea3ac1c6": {
          "model_module": "@jupyter-widgets/base",
          "model_name": "LayoutModel",
          "model_module_version": "1.2.0",
          "state": {
            "_model_module": "@jupyter-widgets/base",
            "_model_module_version": "1.2.0",
            "_model_name": "LayoutModel",
            "_view_count": null,
            "_view_module": "@jupyter-widgets/base",
            "_view_module_version": "1.2.0",
            "_view_name": "LayoutView",
            "align_content": null,
            "align_items": null,
            "align_self": null,
            "border": null,
            "bottom": null,
            "display": null,
            "flex": null,
            "flex_flow": null,
            "grid_area": null,
            "grid_auto_columns": null,
            "grid_auto_flow": null,
            "grid_auto_rows": null,
            "grid_column": null,
            "grid_gap": null,
            "grid_row": null,
            "grid_template_areas": null,
            "grid_template_columns": null,
            "grid_template_rows": null,
            "height": null,
            "justify_content": null,
            "justify_items": null,
            "left": null,
            "margin": null,
            "max_height": null,
            "max_width": null,
            "min_height": null,
            "min_width": null,
            "object_fit": null,
            "object_position": null,
            "order": null,
            "overflow": null,
            "overflow_x": null,
            "overflow_y": null,
            "padding": null,
            "right": null,
            "top": null,
            "visibility": null,
            "width": null
          }
        },
        "30d9bf7e7b714c89bf0cc966f10ecee3": {
          "model_module": "@jupyter-widgets/controls",
          "model_name": "DescriptionStyleModel",
          "model_module_version": "1.5.0",
          "state": {
            "_model_module": "@jupyter-widgets/controls",
            "_model_module_version": "1.5.0",
            "_model_name": "DescriptionStyleModel",
            "_view_count": null,
            "_view_module": "@jupyter-widgets/base",
            "_view_module_version": "1.2.0",
            "_view_name": "StyleView",
            "description_width": ""
          }
        },
        "2dbbaf38cbb842f18a5df4b5387ddc02": {
          "model_module": "@jupyter-widgets/controls",
          "model_name": "HBoxModel",
          "model_module_version": "1.5.0",
          "state": {
            "_dom_classes": [],
            "_model_module": "@jupyter-widgets/controls",
            "_model_module_version": "1.5.0",
            "_model_name": "HBoxModel",
            "_view_count": null,
            "_view_module": "@jupyter-widgets/controls",
            "_view_module_version": "1.5.0",
            "_view_name": "HBoxView",
            "box_style": "",
            "children": [
              "IPY_MODEL_348d84f1bf9549ed891355c8bc827c86",
              "IPY_MODEL_16c9f5eae4804b0b8c787e0367215616",
              "IPY_MODEL_7cfecd808bc34f3a8dbc51b934c07061"
            ],
            "layout": "IPY_MODEL_cc065289e42f4b2cae582672e692a122"
          }
        },
        "348d84f1bf9549ed891355c8bc827c86": {
          "model_module": "@jupyter-widgets/controls",
          "model_name": "HTMLModel",
          "model_module_version": "1.5.0",
          "state": {
            "_dom_classes": [],
            "_model_module": "@jupyter-widgets/controls",
            "_model_module_version": "1.5.0",
            "_model_name": "HTMLModel",
            "_view_count": null,
            "_view_module": "@jupyter-widgets/controls",
            "_view_module_version": "1.5.0",
            "_view_name": "HTMLView",
            "description": "",
            "description_tooltip": null,
            "layout": "IPY_MODEL_22631c16750d42528d7dcade0d4c25aa",
            "placeholder": "​",
            "style": "IPY_MODEL_f7ea95fadd7b440d837eaf247443912a",
            "value": "Render HTML: 100%"
          }
        },
        "16c9f5eae4804b0b8c787e0367215616": {
          "model_module": "@jupyter-widgets/controls",
          "model_name": "FloatProgressModel",
          "model_module_version": "1.5.0",
          "state": {
            "_dom_classes": [],
            "_model_module": "@jupyter-widgets/controls",
            "_model_module_version": "1.5.0",
            "_model_name": "FloatProgressModel",
            "_view_count": null,
            "_view_module": "@jupyter-widgets/controls",
            "_view_module_version": "1.5.0",
            "_view_name": "ProgressView",
            "bar_style": "success",
            "description": "",
            "description_tooltip": null,
            "layout": "IPY_MODEL_a17b9045d4df49adb4df93f9f1d0917c",
            "max": 1,
            "min": 0,
            "orientation": "horizontal",
            "style": "IPY_MODEL_895edce721244404aa3449ab4a63780c",
            "value": 1
          }
        },
        "7cfecd808bc34f3a8dbc51b934c07061": {
          "model_module": "@jupyter-widgets/controls",
          "model_name": "HTMLModel",
          "model_module_version": "1.5.0",
          "state": {
            "_dom_classes": [],
            "_model_module": "@jupyter-widgets/controls",
            "_model_module_version": "1.5.0",
            "_model_name": "HTMLModel",
            "_view_count": null,
            "_view_module": "@jupyter-widgets/controls",
            "_view_module_version": "1.5.0",
            "_view_name": "HTMLView",
            "description": "",
            "description_tooltip": null,
            "layout": "IPY_MODEL_05d013afb5d24f7085a1a86cec3aceee",
            "placeholder": "​",
            "style": "IPY_MODEL_6a4b95c58fec4fd1a8df6f8daa2c4690",
            "value": " 1/1 [00:02&lt;00:00,  2.38s/it]"
          }
        },
        "cc065289e42f4b2cae582672e692a122": {
          "model_module": "@jupyter-widgets/base",
          "model_name": "LayoutModel",
          "model_module_version": "1.2.0",
          "state": {
            "_model_module": "@jupyter-widgets/base",
            "_model_module_version": "1.2.0",
            "_model_name": "LayoutModel",
            "_view_count": null,
            "_view_module": "@jupyter-widgets/base",
            "_view_module_version": "1.2.0",
            "_view_name": "LayoutView",
            "align_content": null,
            "align_items": null,
            "align_self": null,
            "border": null,
            "bottom": null,
            "display": null,
            "flex": null,
            "flex_flow": null,
            "grid_area": null,
            "grid_auto_columns": null,
            "grid_auto_flow": null,
            "grid_auto_rows": null,
            "grid_column": null,
            "grid_gap": null,
            "grid_row": null,
            "grid_template_areas": null,
            "grid_template_columns": null,
            "grid_template_rows": null,
            "height": null,
            "justify_content": null,
            "justify_items": null,
            "left": null,
            "margin": null,
            "max_height": null,
            "max_width": null,
            "min_height": null,
            "min_width": null,
            "object_fit": null,
            "object_position": null,
            "order": null,
            "overflow": null,
            "overflow_x": null,
            "overflow_y": null,
            "padding": null,
            "right": null,
            "top": null,
            "visibility": null,
            "width": null
          }
        },
        "22631c16750d42528d7dcade0d4c25aa": {
          "model_module": "@jupyter-widgets/base",
          "model_name": "LayoutModel",
          "model_module_version": "1.2.0",
          "state": {
            "_model_module": "@jupyter-widgets/base",
            "_model_module_version": "1.2.0",
            "_model_name": "LayoutModel",
            "_view_count": null,
            "_view_module": "@jupyter-widgets/base",
            "_view_module_version": "1.2.0",
            "_view_name": "LayoutView",
            "align_content": null,
            "align_items": null,
            "align_self": null,
            "border": null,
            "bottom": null,
            "display": null,
            "flex": null,
            "flex_flow": null,
            "grid_area": null,
            "grid_auto_columns": null,
            "grid_auto_flow": null,
            "grid_auto_rows": null,
            "grid_column": null,
            "grid_gap": null,
            "grid_row": null,
            "grid_template_areas": null,
            "grid_template_columns": null,
            "grid_template_rows": null,
            "height": null,
            "justify_content": null,
            "justify_items": null,
            "left": null,
            "margin": null,
            "max_height": null,
            "max_width": null,
            "min_height": null,
            "min_width": null,
            "object_fit": null,
            "object_position": null,
            "order": null,
            "overflow": null,
            "overflow_x": null,
            "overflow_y": null,
            "padding": null,
            "right": null,
            "top": null,
            "visibility": null,
            "width": null
          }
        },
        "f7ea95fadd7b440d837eaf247443912a": {
          "model_module": "@jupyter-widgets/controls",
          "model_name": "DescriptionStyleModel",
          "model_module_version": "1.5.0",
          "state": {
            "_model_module": "@jupyter-widgets/controls",
            "_model_module_version": "1.5.0",
            "_model_name": "DescriptionStyleModel",
            "_view_count": null,
            "_view_module": "@jupyter-widgets/base",
            "_view_module_version": "1.2.0",
            "_view_name": "StyleView",
            "description_width": ""
          }
        },
        "a17b9045d4df49adb4df93f9f1d0917c": {
          "model_module": "@jupyter-widgets/base",
          "model_name": "LayoutModel",
          "model_module_version": "1.2.0",
          "state": {
            "_model_module": "@jupyter-widgets/base",
            "_model_module_version": "1.2.0",
            "_model_name": "LayoutModel",
            "_view_count": null,
            "_view_module": "@jupyter-widgets/base",
            "_view_module_version": "1.2.0",
            "_view_name": "LayoutView",
            "align_content": null,
            "align_items": null,
            "align_self": null,
            "border": null,
            "bottom": null,
            "display": null,
            "flex": null,
            "flex_flow": null,
            "grid_area": null,
            "grid_auto_columns": null,
            "grid_auto_flow": null,
            "grid_auto_rows": null,
            "grid_column": null,
            "grid_gap": null,
            "grid_row": null,
            "grid_template_areas": null,
            "grid_template_columns": null,
            "grid_template_rows": null,
            "height": null,
            "justify_content": null,
            "justify_items": null,
            "left": null,
            "margin": null,
            "max_height": null,
            "max_width": null,
            "min_height": null,
            "min_width": null,
            "object_fit": null,
            "object_position": null,
            "order": null,
            "overflow": null,
            "overflow_x": null,
            "overflow_y": null,
            "padding": null,
            "right": null,
            "top": null,
            "visibility": null,
            "width": null
          }
        },
        "895edce721244404aa3449ab4a63780c": {
          "model_module": "@jupyter-widgets/controls",
          "model_name": "ProgressStyleModel",
          "model_module_version": "1.5.0",
          "state": {
            "_model_module": "@jupyter-widgets/controls",
            "_model_module_version": "1.5.0",
            "_model_name": "ProgressStyleModel",
            "_view_count": null,
            "_view_module": "@jupyter-widgets/base",
            "_view_module_version": "1.2.0",
            "_view_name": "StyleView",
            "bar_color": null,
            "description_width": ""
          }
        },
        "05d013afb5d24f7085a1a86cec3aceee": {
          "model_module": "@jupyter-widgets/base",
          "model_name": "LayoutModel",
          "model_module_version": "1.2.0",
          "state": {
            "_model_module": "@jupyter-widgets/base",
            "_model_module_version": "1.2.0",
            "_model_name": "LayoutModel",
            "_view_count": null,
            "_view_module": "@jupyter-widgets/base",
            "_view_module_version": "1.2.0",
            "_view_name": "LayoutView",
            "align_content": null,
            "align_items": null,
            "align_self": null,
            "border": null,
            "bottom": null,
            "display": null,
            "flex": null,
            "flex_flow": null,
            "grid_area": null,
            "grid_auto_columns": null,
            "grid_auto_flow": null,
            "grid_auto_rows": null,
            "grid_column": null,
            "grid_gap": null,
            "grid_row": null,
            "grid_template_areas": null,
            "grid_template_columns": null,
            "grid_template_rows": null,
            "height": null,
            "justify_content": null,
            "justify_items": null,
            "left": null,
            "margin": null,
            "max_height": null,
            "max_width": null,
            "min_height": null,
            "min_width": null,
            "object_fit": null,
            "object_position": null,
            "order": null,
            "overflow": null,
            "overflow_x": null,
            "overflow_y": null,
            "padding": null,
            "right": null,
            "top": null,
            "visibility": null,
            "width": null
          }
        },
        "6a4b95c58fec4fd1a8df6f8daa2c4690": {
          "model_module": "@jupyter-widgets/controls",
          "model_name": "DescriptionStyleModel",
          "model_module_version": "1.5.0",
          "state": {
            "_model_module": "@jupyter-widgets/controls",
            "_model_module_version": "1.5.0",
            "_model_name": "DescriptionStyleModel",
            "_view_count": null,
            "_view_module": "@jupyter-widgets/base",
            "_view_module_version": "1.2.0",
            "_view_name": "StyleView",
            "description_width": ""
          }
        },
        "5e998505692646cd8dce1075cba75ffa": {
          "model_module": "@jupyter-widgets/controls",
          "model_name": "HBoxModel",
          "model_module_version": "1.5.0",
          "state": {
            "_dom_classes": [],
            "_model_module": "@jupyter-widgets/controls",
            "_model_module_version": "1.5.0",
            "_model_name": "HBoxModel",
            "_view_count": null,
            "_view_module": "@jupyter-widgets/controls",
            "_view_module_version": "1.5.0",
            "_view_name": "HBoxView",
            "box_style": "",
            "children": [
              "IPY_MODEL_5f906cd1c8bc4f4db6c4e3889ed1e799",
              "IPY_MODEL_fb2e57ef3fad4ddc900c98b6e3369734",
              "IPY_MODEL_0f039ac8fdf944a999bc31e9729a4c00"
            ],
            "layout": "IPY_MODEL_9b42f6eca91a40c98e439fb60718a866"
          }
        },
        "5f906cd1c8bc4f4db6c4e3889ed1e799": {
          "model_module": "@jupyter-widgets/controls",
          "model_name": "HTMLModel",
          "model_module_version": "1.5.0",
          "state": {
            "_dom_classes": [],
            "_model_module": "@jupyter-widgets/controls",
            "_model_module_version": "1.5.0",
            "_model_name": "HTMLModel",
            "_view_count": null,
            "_view_module": "@jupyter-widgets/controls",
            "_view_module_version": "1.5.0",
            "_view_name": "HTMLView",
            "description": "",
            "description_tooltip": null,
            "layout": "IPY_MODEL_12c999c0bbea4601babd4c431e337ee9",
            "placeholder": "​",
            "style": "IPY_MODEL_7c11a399fb9d496483cc6de6d3ccdca9",
            "value": "Export report to file: 100%"
          }
        },
        "fb2e57ef3fad4ddc900c98b6e3369734": {
          "model_module": "@jupyter-widgets/controls",
          "model_name": "FloatProgressModel",
          "model_module_version": "1.5.0",
          "state": {
            "_dom_classes": [],
            "_model_module": "@jupyter-widgets/controls",
            "_model_module_version": "1.5.0",
            "_model_name": "FloatProgressModel",
            "_view_count": null,
            "_view_module": "@jupyter-widgets/controls",
            "_view_module_version": "1.5.0",
            "_view_name": "ProgressView",
            "bar_style": "success",
            "description": "",
            "description_tooltip": null,
            "layout": "IPY_MODEL_35326bb513374f999df29846dd3fa5c1",
            "max": 1,
            "min": 0,
            "orientation": "horizontal",
            "style": "IPY_MODEL_9a3752586e9446c5ab5451866127feaa",
            "value": 1
          }
        },
        "0f039ac8fdf944a999bc31e9729a4c00": {
          "model_module": "@jupyter-widgets/controls",
          "model_name": "HTMLModel",
          "model_module_version": "1.5.0",
          "state": {
            "_dom_classes": [],
            "_model_module": "@jupyter-widgets/controls",
            "_model_module_version": "1.5.0",
            "_model_name": "HTMLModel",
            "_view_count": null,
            "_view_module": "@jupyter-widgets/controls",
            "_view_module_version": "1.5.0",
            "_view_name": "HTMLView",
            "description": "",
            "description_tooltip": null,
            "layout": "IPY_MODEL_50d93249e6d3408da53378e05b4f93ef",
            "placeholder": "​",
            "style": "IPY_MODEL_18d68fccd14640aa92b4636a1e876c8a",
            "value": " 1/1 [00:00&lt;00:00, 27.62it/s]"
          }
        },
        "9b42f6eca91a40c98e439fb60718a866": {
          "model_module": "@jupyter-widgets/base",
          "model_name": "LayoutModel",
          "model_module_version": "1.2.0",
          "state": {
            "_model_module": "@jupyter-widgets/base",
            "_model_module_version": "1.2.0",
            "_model_name": "LayoutModel",
            "_view_count": null,
            "_view_module": "@jupyter-widgets/base",
            "_view_module_version": "1.2.0",
            "_view_name": "LayoutView",
            "align_content": null,
            "align_items": null,
            "align_self": null,
            "border": null,
            "bottom": null,
            "display": null,
            "flex": null,
            "flex_flow": null,
            "grid_area": null,
            "grid_auto_columns": null,
            "grid_auto_flow": null,
            "grid_auto_rows": null,
            "grid_column": null,
            "grid_gap": null,
            "grid_row": null,
            "grid_template_areas": null,
            "grid_template_columns": null,
            "grid_template_rows": null,
            "height": null,
            "justify_content": null,
            "justify_items": null,
            "left": null,
            "margin": null,
            "max_height": null,
            "max_width": null,
            "min_height": null,
            "min_width": null,
            "object_fit": null,
            "object_position": null,
            "order": null,
            "overflow": null,
            "overflow_x": null,
            "overflow_y": null,
            "padding": null,
            "right": null,
            "top": null,
            "visibility": null,
            "width": null
          }
        },
        "12c999c0bbea4601babd4c431e337ee9": {
          "model_module": "@jupyter-widgets/base",
          "model_name": "LayoutModel",
          "model_module_version": "1.2.0",
          "state": {
            "_model_module": "@jupyter-widgets/base",
            "_model_module_version": "1.2.0",
            "_model_name": "LayoutModel",
            "_view_count": null,
            "_view_module": "@jupyter-widgets/base",
            "_view_module_version": "1.2.0",
            "_view_name": "LayoutView",
            "align_content": null,
            "align_items": null,
            "align_self": null,
            "border": null,
            "bottom": null,
            "display": null,
            "flex": null,
            "flex_flow": null,
            "grid_area": null,
            "grid_auto_columns": null,
            "grid_auto_flow": null,
            "grid_auto_rows": null,
            "grid_column": null,
            "grid_gap": null,
            "grid_row": null,
            "grid_template_areas": null,
            "grid_template_columns": null,
            "grid_template_rows": null,
            "height": null,
            "justify_content": null,
            "justify_items": null,
            "left": null,
            "margin": null,
            "max_height": null,
            "max_width": null,
            "min_height": null,
            "min_width": null,
            "object_fit": null,
            "object_position": null,
            "order": null,
            "overflow": null,
            "overflow_x": null,
            "overflow_y": null,
            "padding": null,
            "right": null,
            "top": null,
            "visibility": null,
            "width": null
          }
        },
        "7c11a399fb9d496483cc6de6d3ccdca9": {
          "model_module": "@jupyter-widgets/controls",
          "model_name": "DescriptionStyleModel",
          "model_module_version": "1.5.0",
          "state": {
            "_model_module": "@jupyter-widgets/controls",
            "_model_module_version": "1.5.0",
            "_model_name": "DescriptionStyleModel",
            "_view_count": null,
            "_view_module": "@jupyter-widgets/base",
            "_view_module_version": "1.2.0",
            "_view_name": "StyleView",
            "description_width": ""
          }
        },
        "35326bb513374f999df29846dd3fa5c1": {
          "model_module": "@jupyter-widgets/base",
          "model_name": "LayoutModel",
          "model_module_version": "1.2.0",
          "state": {
            "_model_module": "@jupyter-widgets/base",
            "_model_module_version": "1.2.0",
            "_model_name": "LayoutModel",
            "_view_count": null,
            "_view_module": "@jupyter-widgets/base",
            "_view_module_version": "1.2.0",
            "_view_name": "LayoutView",
            "align_content": null,
            "align_items": null,
            "align_self": null,
            "border": null,
            "bottom": null,
            "display": null,
            "flex": null,
            "flex_flow": null,
            "grid_area": null,
            "grid_auto_columns": null,
            "grid_auto_flow": null,
            "grid_auto_rows": null,
            "grid_column": null,
            "grid_gap": null,
            "grid_row": null,
            "grid_template_areas": null,
            "grid_template_columns": null,
            "grid_template_rows": null,
            "height": null,
            "justify_content": null,
            "justify_items": null,
            "left": null,
            "margin": null,
            "max_height": null,
            "max_width": null,
            "min_height": null,
            "min_width": null,
            "object_fit": null,
            "object_position": null,
            "order": null,
            "overflow": null,
            "overflow_x": null,
            "overflow_y": null,
            "padding": null,
            "right": null,
            "top": null,
            "visibility": null,
            "width": null
          }
        },
        "9a3752586e9446c5ab5451866127feaa": {
          "model_module": "@jupyter-widgets/controls",
          "model_name": "ProgressStyleModel",
          "model_module_version": "1.5.0",
          "state": {
            "_model_module": "@jupyter-widgets/controls",
            "_model_module_version": "1.5.0",
            "_model_name": "ProgressStyleModel",
            "_view_count": null,
            "_view_module": "@jupyter-widgets/base",
            "_view_module_version": "1.2.0",
            "_view_name": "StyleView",
            "bar_color": null,
            "description_width": ""
          }
        },
        "50d93249e6d3408da53378e05b4f93ef": {
          "model_module": "@jupyter-widgets/base",
          "model_name": "LayoutModel",
          "model_module_version": "1.2.0",
          "state": {
            "_model_module": "@jupyter-widgets/base",
            "_model_module_version": "1.2.0",
            "_model_name": "LayoutModel",
            "_view_count": null,
            "_view_module": "@jupyter-widgets/base",
            "_view_module_version": "1.2.0",
            "_view_name": "LayoutView",
            "align_content": null,
            "align_items": null,
            "align_self": null,
            "border": null,
            "bottom": null,
            "display": null,
            "flex": null,
            "flex_flow": null,
            "grid_area": null,
            "grid_auto_columns": null,
            "grid_auto_flow": null,
            "grid_auto_rows": null,
            "grid_column": null,
            "grid_gap": null,
            "grid_row": null,
            "grid_template_areas": null,
            "grid_template_columns": null,
            "grid_template_rows": null,
            "height": null,
            "justify_content": null,
            "justify_items": null,
            "left": null,
            "margin": null,
            "max_height": null,
            "max_width": null,
            "min_height": null,
            "min_width": null,
            "object_fit": null,
            "object_position": null,
            "order": null,
            "overflow": null,
            "overflow_x": null,
            "overflow_y": null,
            "padding": null,
            "right": null,
            "top": null,
            "visibility": null,
            "width": null
          }
        },
        "18d68fccd14640aa92b4636a1e876c8a": {
          "model_module": "@jupyter-widgets/controls",
          "model_name": "DescriptionStyleModel",
          "model_module_version": "1.5.0",
          "state": {
            "_model_module": "@jupyter-widgets/controls",
            "_model_module_version": "1.5.0",
            "_model_name": "DescriptionStyleModel",
            "_view_count": null,
            "_view_module": "@jupyter-widgets/base",
            "_view_module_version": "1.2.0",
            "_view_name": "StyleView",
            "description_width": ""
          }
        }
      }
    }
  },
  "cells": [
    {
      "cell_type": "markdown",
      "source": [
        "# Data Preparation\n",
        "- This notebook has not considered in dropping duplicates / handling missing value imputation\n",
        "- Unprocessed columns are:\n",
        "    - RCRI score\n",
        "    - Preoptransfusionwithin30days\n",
        "    - Intraop\n",
        "    - Postopwithin30days\n",
        "    - TransfusionIntraandpostopCategory\n",
        "    - Transfusionintraandpostop\n",
        "    - AnaestypeCategory"
      ],
      "metadata": {
        "id": "qvEF6GI_MzL7"
      }
    },
    {
      "cell_type": "code",
      "execution_count": 1,
      "metadata": {
        "colab": {
          "base_uri": "https://localhost:8080/"
        },
        "id": "FBYE_tuKkcLA",
        "outputId": "578191ca-3261-48d4-8a39-4edb5490f109"
      },
      "outputs": [
        {
          "output_type": "stream",
          "name": "stdout",
          "text": [
            "Collecting ydata-profiling\n",
            "  Downloading ydata_profiling-4.9.0-py2.py3-none-any.whl.metadata (20 kB)\n",
            "Requirement already satisfied: scipy<1.14,>=1.4.1 in /usr/local/lib/python3.10/dist-packages (from ydata-profiling) (1.11.4)\n",
            "Requirement already satisfied: pandas!=1.4.0,<3,>1.1 in /usr/local/lib/python3.10/dist-packages (from ydata-profiling) (2.0.3)\n",
            "Requirement already satisfied: matplotlib<3.10,>=3.5 in /usr/local/lib/python3.10/dist-packages (from ydata-profiling) (3.7.1)\n",
            "Requirement already satisfied: pydantic>=2 in /usr/local/lib/python3.10/dist-packages (from ydata-profiling) (2.8.2)\n",
            "Requirement already satisfied: PyYAML<6.1,>=5.0.0 in /usr/local/lib/python3.10/dist-packages (from ydata-profiling) (6.0.1)\n",
            "Requirement already satisfied: jinja2<3.2,>=2.11.1 in /usr/local/lib/python3.10/dist-packages (from ydata-profiling) (3.1.4)\n",
            "Collecting visions<0.7.7,>=0.7.5 (from visions[type_image_path]<0.7.7,>=0.7.5->ydata-profiling)\n",
            "  Downloading visions-0.7.6-py3-none-any.whl.metadata (11 kB)\n",
            "Requirement already satisfied: numpy<2,>=1.16.0 in /usr/local/lib/python3.10/dist-packages (from ydata-profiling) (1.25.2)\n",
            "Collecting htmlmin==0.1.12 (from ydata-profiling)\n",
            "  Downloading htmlmin-0.1.12.tar.gz (19 kB)\n",
            "  Preparing metadata (setup.py) ... \u001b[?25l\u001b[?25hdone\n",
            "Collecting phik<0.13,>=0.11.1 (from ydata-profiling)\n",
            "  Downloading phik-0.12.4-cp310-cp310-manylinux_2_17_x86_64.manylinux2014_x86_64.whl.metadata (5.6 kB)\n",
            "Requirement already satisfied: requests<3,>=2.24.0 in /usr/local/lib/python3.10/dist-packages (from ydata-profiling) (2.31.0)\n",
            "Requirement already satisfied: tqdm<5,>=4.48.2 in /usr/local/lib/python3.10/dist-packages (from ydata-profiling) (4.66.4)\n",
            "Requirement already satisfied: seaborn<0.14,>=0.10.1 in /usr/local/lib/python3.10/dist-packages (from ydata-profiling) (0.13.1)\n",
            "Collecting multimethod<2,>=1.4 (from ydata-profiling)\n",
            "  Downloading multimethod-1.12-py3-none-any.whl.metadata (9.6 kB)\n",
            "Requirement already satisfied: statsmodels<1,>=0.13.2 in /usr/local/lib/python3.10/dist-packages (from ydata-profiling) (0.14.2)\n",
            "Collecting typeguard<5,>=3 (from ydata-profiling)\n",
            "  Downloading typeguard-4.3.0-py3-none-any.whl.metadata (3.7 kB)\n",
            "Collecting imagehash==4.3.1 (from ydata-profiling)\n",
            "  Downloading ImageHash-4.3.1-py2.py3-none-any.whl.metadata (8.0 kB)\n",
            "Requirement already satisfied: wordcloud>=1.9.1 in /usr/local/lib/python3.10/dist-packages (from ydata-profiling) (1.9.3)\n",
            "Collecting dacite>=1.8 (from ydata-profiling)\n",
            "  Downloading dacite-1.8.1-py3-none-any.whl.metadata (15 kB)\n",
            "Requirement already satisfied: numba<1,>=0.56.0 in /usr/local/lib/python3.10/dist-packages (from ydata-profiling) (0.58.1)\n",
            "Requirement already satisfied: PyWavelets in /usr/local/lib/python3.10/dist-packages (from imagehash==4.3.1->ydata-profiling) (1.6.0)\n",
            "Requirement already satisfied: pillow in /usr/local/lib/python3.10/dist-packages (from imagehash==4.3.1->ydata-profiling) (9.4.0)\n",
            "Requirement already satisfied: MarkupSafe>=2.0 in /usr/local/lib/python3.10/dist-packages (from jinja2<3.2,>=2.11.1->ydata-profiling) (2.1.5)\n",
            "Requirement already satisfied: contourpy>=1.0.1 in /usr/local/lib/python3.10/dist-packages (from matplotlib<3.10,>=3.5->ydata-profiling) (1.2.1)\n",
            "Requirement already satisfied: cycler>=0.10 in /usr/local/lib/python3.10/dist-packages (from matplotlib<3.10,>=3.5->ydata-profiling) (0.12.1)\n",
            "Requirement already satisfied: fonttools>=4.22.0 in /usr/local/lib/python3.10/dist-packages (from matplotlib<3.10,>=3.5->ydata-profiling) (4.53.1)\n",
            "Requirement already satisfied: kiwisolver>=1.0.1 in /usr/local/lib/python3.10/dist-packages (from matplotlib<3.10,>=3.5->ydata-profiling) (1.4.5)\n",
            "Requirement already satisfied: packaging>=20.0 in /usr/local/lib/python3.10/dist-packages (from matplotlib<3.10,>=3.5->ydata-profiling) (24.1)\n",
            "Requirement already satisfied: pyparsing>=2.3.1 in /usr/local/lib/python3.10/dist-packages (from matplotlib<3.10,>=3.5->ydata-profiling) (3.1.2)\n",
            "Requirement already satisfied: python-dateutil>=2.7 in /usr/local/lib/python3.10/dist-packages (from matplotlib<3.10,>=3.5->ydata-profiling) (2.8.2)\n",
            "Requirement already satisfied: llvmlite<0.42,>=0.41.0dev0 in /usr/local/lib/python3.10/dist-packages (from numba<1,>=0.56.0->ydata-profiling) (0.41.1)\n",
            "Requirement already satisfied: pytz>=2020.1 in /usr/local/lib/python3.10/dist-packages (from pandas!=1.4.0,<3,>1.1->ydata-profiling) (2023.4)\n",
            "Requirement already satisfied: tzdata>=2022.1 in /usr/local/lib/python3.10/dist-packages (from pandas!=1.4.0,<3,>1.1->ydata-profiling) (2024.1)\n",
            "Requirement already satisfied: joblib>=0.14.1 in /usr/local/lib/python3.10/dist-packages (from phik<0.13,>=0.11.1->ydata-profiling) (1.4.2)\n",
            "Requirement already satisfied: annotated-types>=0.4.0 in /usr/local/lib/python3.10/dist-packages (from pydantic>=2->ydata-profiling) (0.7.0)\n",
            "Requirement already satisfied: pydantic-core==2.20.1 in /usr/local/lib/python3.10/dist-packages (from pydantic>=2->ydata-profiling) (2.20.1)\n",
            "Requirement already satisfied: typing-extensions>=4.6.1 in /usr/local/lib/python3.10/dist-packages (from pydantic>=2->ydata-profiling) (4.12.2)\n",
            "Requirement already satisfied: charset-normalizer<4,>=2 in /usr/local/lib/python3.10/dist-packages (from requests<3,>=2.24.0->ydata-profiling) (3.3.2)\n",
            "Requirement already satisfied: idna<4,>=2.5 in /usr/local/lib/python3.10/dist-packages (from requests<3,>=2.24.0->ydata-profiling) (3.7)\n",
            "Requirement already satisfied: urllib3<3,>=1.21.1 in /usr/local/lib/python3.10/dist-packages (from requests<3,>=2.24.0->ydata-profiling) (2.0.7)\n",
            "Requirement already satisfied: certifi>=2017.4.17 in /usr/local/lib/python3.10/dist-packages (from requests<3,>=2.24.0->ydata-profiling) (2024.7.4)\n",
            "Requirement already satisfied: patsy>=0.5.6 in /usr/local/lib/python3.10/dist-packages (from statsmodels<1,>=0.13.2->ydata-profiling) (0.5.6)\n",
            "Requirement already satisfied: attrs>=19.3.0 in /usr/local/lib/python3.10/dist-packages (from visions<0.7.7,>=0.7.5->visions[type_image_path]<0.7.7,>=0.7.5->ydata-profiling) (23.2.0)\n",
            "Requirement already satisfied: networkx>=2.4 in /usr/local/lib/python3.10/dist-packages (from visions<0.7.7,>=0.7.5->visions[type_image_path]<0.7.7,>=0.7.5->ydata-profiling) (3.3)\n",
            "Requirement already satisfied: six in /usr/local/lib/python3.10/dist-packages (from patsy>=0.5.6->statsmodels<1,>=0.13.2->ydata-profiling) (1.16.0)\n",
            "Downloading ydata_profiling-4.9.0-py2.py3-none-any.whl (356 kB)\n",
            "\u001b[2K   \u001b[90m━━━━━━━━━━━━━━━━━━━━━━━━━━━━━━━━━━━━━━━━\u001b[0m \u001b[32m356.2/356.2 kB\u001b[0m \u001b[31m8.0 MB/s\u001b[0m eta \u001b[36m0:00:00\u001b[0m\n",
            "\u001b[?25hDownloading ImageHash-4.3.1-py2.py3-none-any.whl (296 kB)\n",
            "\u001b[2K   \u001b[90m━━━━━━━━━━━━━━━━━━━━━━━━━━━━━━━━━━━━━━━━\u001b[0m \u001b[32m296.5/296.5 kB\u001b[0m \u001b[31m11.1 MB/s\u001b[0m eta \u001b[36m0:00:00\u001b[0m\n",
            "\u001b[?25hDownloading dacite-1.8.1-py3-none-any.whl (14 kB)\n",
            "Downloading multimethod-1.12-py3-none-any.whl (10 kB)\n",
            "Downloading phik-0.12.4-cp310-cp310-manylinux_2_17_x86_64.manylinux2014_x86_64.whl (686 kB)\n",
            "\u001b[2K   \u001b[90m━━━━━━━━━━━━━━━━━━━━━━━━━━━━━━━━━━━━━━━━\u001b[0m \u001b[32m686.1/686.1 kB\u001b[0m \u001b[31m21.8 MB/s\u001b[0m eta \u001b[36m0:00:00\u001b[0m\n",
            "\u001b[?25hDownloading typeguard-4.3.0-py3-none-any.whl (35 kB)\n",
            "Downloading visions-0.7.6-py3-none-any.whl (104 kB)\n",
            "\u001b[2K   \u001b[90m━━━━━━━━━━━━━━━━━━━━━━━━━━━━━━━━━━━━━━━━\u001b[0m \u001b[32m104.8/104.8 kB\u001b[0m \u001b[31m6.4 MB/s\u001b[0m eta \u001b[36m0:00:00\u001b[0m\n",
            "\u001b[?25hBuilding wheels for collected packages: htmlmin\n",
            "  Building wheel for htmlmin (setup.py) ... \u001b[?25l\u001b[?25hdone\n",
            "  Created wheel for htmlmin: filename=htmlmin-0.1.12-py3-none-any.whl size=27081 sha256=4cb1cf431e86c0914c9c380faee83c3fed9936fa74eb7a6200360d03fabff5d2\n",
            "  Stored in directory: /root/.cache/pip/wheels/dd/91/29/a79cecb328d01739e64017b6fb9a1ab9d8cb1853098ec5966d\n",
            "Successfully built htmlmin\n",
            "Installing collected packages: htmlmin, typeguard, multimethod, dacite, imagehash, visions, phik, ydata-profiling\n",
            "Successfully installed dacite-1.8.1 htmlmin-0.1.12 imagehash-4.3.1 multimethod-1.12 phik-0.12.4 typeguard-4.3.0 visions-0.7.6 ydata-profiling-4.9.0\n"
          ]
        }
      ],
      "source": [
        "!pip install ydata-profiling"
      ]
    },
    {
      "cell_type": "code",
      "source": [
        "import numpy as np\n",
        "import pandas as pd\n",
        "\n",
        "from tqdm.notebook import tqdm"
      ],
      "metadata": {
        "id": "ojyucFMDkpki"
      },
      "execution_count": 2,
      "outputs": []
    },
    {
      "cell_type": "code",
      "source": [
        "cares_data_path = \"https://github.com/ISSS623-AHA/ISSS623_2024/raw/main/Group_Project/Group_Project-SGH/CARES_data.xlsx\"\n",
        "cares = pd.read_excel(cares_data_path, \"Sheet1\")\n",
        "cares.head()"
      ],
      "metadata": {
        "colab": {
          "base_uri": "https://localhost:8080/",
          "height": 270
        },
        "id": "9qd8uBdokyh9",
        "outputId": "5d1b8e56-f6d6-48ef-9677-ef1198088d70"
      },
      "execution_count": 244,
      "outputs": [
        {
          "output_type": "execute_result",
          "data": {
            "text/plain": [
              "  Indexno   AGE  GENDER  RCRI score Anemia category  PreopEGFRMDRD  \\\n",
              "0       2  48.0  FEMALE         NaN             NaN            NaN   \n",
              "1       5  36.0  FEMALE         NaN            none            NaN   \n",
              "2       6  64.0  FEMALE         NaN            mild     152.538570   \n",
              "3       9  73.0    MALE         NaN        moderate     117.231496   \n",
              "4      10  73.0    MALE         0.0            mild      98.651255   \n",
              "\n",
              "  GradeofKidneydisease  DaysbetweenDeathandoperation @30daymortality  \\\n",
              "0                BLANK                           NaN              NO   \n",
              "1                BLANK                           NaN              NO   \n",
              "2                   g1                           NaN              NO   \n",
              "3                   g1                           NaN              NO   \n",
              "4                   g1                          59.0              NO   \n",
              "\n",
              "   Preoptransfusionwithin30days  ...  CVARCRICategory  IHDRCRICategory  \\\n",
              "0                           0.0  ...           #NULL!           #NULL!   \n",
              "1                           0.0  ...           #NULL!           #NULL!   \n",
              "2                           0.0  ...           #NULL!           #NULL!   \n",
              "3                           0.0  ...           #NULL!           #NULL!   \n",
              "4                           0.0  ...               no               no   \n",
              "\n",
              "   CHFRCRICategory DMinsulinRCRICategory CreatinineRCRICategory  \\\n",
              "0           #NULL!                #NULL!                     no   \n",
              "1           #NULL!                #NULL!                 #NULL!   \n",
              "2           #NULL!                #NULL!                 #NULL!   \n",
              "3           #NULL!                #NULL!                     no   \n",
              "4               no                    no                     no   \n",
              "\n",
              "  GradeofKidneyCategory Anemiacategorybinned  RDW15.7 ASAcategorybinned  \\\n",
              "0                #NULL!               #NULL!   #NULL!                 I   \n",
              "1                #NULL!                  NaN  <= 15.7                 I   \n",
              "2                    G1                 Mild  <= 15.7                 I   \n",
              "3                    G1      Moderate/Severe  <= 15.7                 I   \n",
              "4                    G1                 Mild    >15.7                II   \n",
              "\n",
              "  ICUAdmgt24h  \n",
              "0          no  \n",
              "1          no  \n",
              "2          no  \n",
              "3          no  \n",
              "4          no  \n",
              "\n",
              "[5 rows x 32 columns]"
            ],
            "text/html": [
              "\n",
              "  <div id=\"df-1a7c422b-da34-4e5b-adb8-5671d031fcf6\" class=\"colab-df-container\">\n",
              "    <div>\n",
              "<style scoped>\n",
              "    .dataframe tbody tr th:only-of-type {\n",
              "        vertical-align: middle;\n",
              "    }\n",
              "\n",
              "    .dataframe tbody tr th {\n",
              "        vertical-align: top;\n",
              "    }\n",
              "\n",
              "    .dataframe thead th {\n",
              "        text-align: right;\n",
              "    }\n",
              "</style>\n",
              "<table border=\"1\" class=\"dataframe\">\n",
              "  <thead>\n",
              "    <tr style=\"text-align: right;\">\n",
              "      <th></th>\n",
              "      <th>Indexno</th>\n",
              "      <th>AGE</th>\n",
              "      <th>GENDER</th>\n",
              "      <th>RCRI score</th>\n",
              "      <th>Anemia category</th>\n",
              "      <th>PreopEGFRMDRD</th>\n",
              "      <th>GradeofKidneydisease</th>\n",
              "      <th>DaysbetweenDeathandoperation</th>\n",
              "      <th>@30daymortality</th>\n",
              "      <th>Preoptransfusionwithin30days</th>\n",
              "      <th>...</th>\n",
              "      <th>CVARCRICategory</th>\n",
              "      <th>IHDRCRICategory</th>\n",
              "      <th>CHFRCRICategory</th>\n",
              "      <th>DMinsulinRCRICategory</th>\n",
              "      <th>CreatinineRCRICategory</th>\n",
              "      <th>GradeofKidneyCategory</th>\n",
              "      <th>Anemiacategorybinned</th>\n",
              "      <th>RDW15.7</th>\n",
              "      <th>ASAcategorybinned</th>\n",
              "      <th>ICUAdmgt24h</th>\n",
              "    </tr>\n",
              "  </thead>\n",
              "  <tbody>\n",
              "    <tr>\n",
              "      <th>0</th>\n",
              "      <td>2</td>\n",
              "      <td>48.0</td>\n",
              "      <td>FEMALE</td>\n",
              "      <td>NaN</td>\n",
              "      <td>NaN</td>\n",
              "      <td>NaN</td>\n",
              "      <td>BLANK</td>\n",
              "      <td>NaN</td>\n",
              "      <td>NO</td>\n",
              "      <td>0.0</td>\n",
              "      <td>...</td>\n",
              "      <td>#NULL!</td>\n",
              "      <td>#NULL!</td>\n",
              "      <td>#NULL!</td>\n",
              "      <td>#NULL!</td>\n",
              "      <td>no</td>\n",
              "      <td>#NULL!</td>\n",
              "      <td>#NULL!</td>\n",
              "      <td>#NULL!</td>\n",
              "      <td>I</td>\n",
              "      <td>no</td>\n",
              "    </tr>\n",
              "    <tr>\n",
              "      <th>1</th>\n",
              "      <td>5</td>\n",
              "      <td>36.0</td>\n",
              "      <td>FEMALE</td>\n",
              "      <td>NaN</td>\n",
              "      <td>none</td>\n",
              "      <td>NaN</td>\n",
              "      <td>BLANK</td>\n",
              "      <td>NaN</td>\n",
              "      <td>NO</td>\n",
              "      <td>0.0</td>\n",
              "      <td>...</td>\n",
              "      <td>#NULL!</td>\n",
              "      <td>#NULL!</td>\n",
              "      <td>#NULL!</td>\n",
              "      <td>#NULL!</td>\n",
              "      <td>#NULL!</td>\n",
              "      <td>#NULL!</td>\n",
              "      <td>NaN</td>\n",
              "      <td>&lt;= 15.7</td>\n",
              "      <td>I</td>\n",
              "      <td>no</td>\n",
              "    </tr>\n",
              "    <tr>\n",
              "      <th>2</th>\n",
              "      <td>6</td>\n",
              "      <td>64.0</td>\n",
              "      <td>FEMALE</td>\n",
              "      <td>NaN</td>\n",
              "      <td>mild</td>\n",
              "      <td>152.538570</td>\n",
              "      <td>g1</td>\n",
              "      <td>NaN</td>\n",
              "      <td>NO</td>\n",
              "      <td>0.0</td>\n",
              "      <td>...</td>\n",
              "      <td>#NULL!</td>\n",
              "      <td>#NULL!</td>\n",
              "      <td>#NULL!</td>\n",
              "      <td>#NULL!</td>\n",
              "      <td>#NULL!</td>\n",
              "      <td>G1</td>\n",
              "      <td>Mild</td>\n",
              "      <td>&lt;= 15.7</td>\n",
              "      <td>I</td>\n",
              "      <td>no</td>\n",
              "    </tr>\n",
              "    <tr>\n",
              "      <th>3</th>\n",
              "      <td>9</td>\n",
              "      <td>73.0</td>\n",
              "      <td>MALE</td>\n",
              "      <td>NaN</td>\n",
              "      <td>moderate</td>\n",
              "      <td>117.231496</td>\n",
              "      <td>g1</td>\n",
              "      <td>NaN</td>\n",
              "      <td>NO</td>\n",
              "      <td>0.0</td>\n",
              "      <td>...</td>\n",
              "      <td>#NULL!</td>\n",
              "      <td>#NULL!</td>\n",
              "      <td>#NULL!</td>\n",
              "      <td>#NULL!</td>\n",
              "      <td>no</td>\n",
              "      <td>G1</td>\n",
              "      <td>Moderate/Severe</td>\n",
              "      <td>&lt;= 15.7</td>\n",
              "      <td>I</td>\n",
              "      <td>no</td>\n",
              "    </tr>\n",
              "    <tr>\n",
              "      <th>4</th>\n",
              "      <td>10</td>\n",
              "      <td>73.0</td>\n",
              "      <td>MALE</td>\n",
              "      <td>0.0</td>\n",
              "      <td>mild</td>\n",
              "      <td>98.651255</td>\n",
              "      <td>g1</td>\n",
              "      <td>59.0</td>\n",
              "      <td>NO</td>\n",
              "      <td>0.0</td>\n",
              "      <td>...</td>\n",
              "      <td>no</td>\n",
              "      <td>no</td>\n",
              "      <td>no</td>\n",
              "      <td>no</td>\n",
              "      <td>no</td>\n",
              "      <td>G1</td>\n",
              "      <td>Mild</td>\n",
              "      <td>&gt;15.7</td>\n",
              "      <td>II</td>\n",
              "      <td>no</td>\n",
              "    </tr>\n",
              "  </tbody>\n",
              "</table>\n",
              "<p>5 rows × 32 columns</p>\n",
              "</div>\n",
              "    <div class=\"colab-df-buttons\">\n",
              "\n",
              "  <div class=\"colab-df-container\">\n",
              "    <button class=\"colab-df-convert\" onclick=\"convertToInteractive('df-1a7c422b-da34-4e5b-adb8-5671d031fcf6')\"\n",
              "            title=\"Convert this dataframe to an interactive table.\"\n",
              "            style=\"display:none;\">\n",
              "\n",
              "  <svg xmlns=\"http://www.w3.org/2000/svg\" height=\"24px\" viewBox=\"0 -960 960 960\">\n",
              "    <path d=\"M120-120v-720h720v720H120Zm60-500h600v-160H180v160Zm220 220h160v-160H400v160Zm0 220h160v-160H400v160ZM180-400h160v-160H180v160Zm440 0h160v-160H620v160ZM180-180h160v-160H180v160Zm440 0h160v-160H620v160Z\"/>\n",
              "  </svg>\n",
              "    </button>\n",
              "\n",
              "  <style>\n",
              "    .colab-df-container {\n",
              "      display:flex;\n",
              "      gap: 12px;\n",
              "    }\n",
              "\n",
              "    .colab-df-convert {\n",
              "      background-color: #E8F0FE;\n",
              "      border: none;\n",
              "      border-radius: 50%;\n",
              "      cursor: pointer;\n",
              "      display: none;\n",
              "      fill: #1967D2;\n",
              "      height: 32px;\n",
              "      padding: 0 0 0 0;\n",
              "      width: 32px;\n",
              "    }\n",
              "\n",
              "    .colab-df-convert:hover {\n",
              "      background-color: #E2EBFA;\n",
              "      box-shadow: 0px 1px 2px rgba(60, 64, 67, 0.3), 0px 1px 3px 1px rgba(60, 64, 67, 0.15);\n",
              "      fill: #174EA6;\n",
              "    }\n",
              "\n",
              "    .colab-df-buttons div {\n",
              "      margin-bottom: 4px;\n",
              "    }\n",
              "\n",
              "    [theme=dark] .colab-df-convert {\n",
              "      background-color: #3B4455;\n",
              "      fill: #D2E3FC;\n",
              "    }\n",
              "\n",
              "    [theme=dark] .colab-df-convert:hover {\n",
              "      background-color: #434B5C;\n",
              "      box-shadow: 0px 1px 3px 1px rgba(0, 0, 0, 0.15);\n",
              "      filter: drop-shadow(0px 1px 2px rgba(0, 0, 0, 0.3));\n",
              "      fill: #FFFFFF;\n",
              "    }\n",
              "  </style>\n",
              "\n",
              "    <script>\n",
              "      const buttonEl =\n",
              "        document.querySelector('#df-1a7c422b-da34-4e5b-adb8-5671d031fcf6 button.colab-df-convert');\n",
              "      buttonEl.style.display =\n",
              "        google.colab.kernel.accessAllowed ? 'block' : 'none';\n",
              "\n",
              "      async function convertToInteractive(key) {\n",
              "        const element = document.querySelector('#df-1a7c422b-da34-4e5b-adb8-5671d031fcf6');\n",
              "        const dataTable =\n",
              "          await google.colab.kernel.invokeFunction('convertToInteractive',\n",
              "                                                    [key], {});\n",
              "        if (!dataTable) return;\n",
              "\n",
              "        const docLinkHtml = 'Like what you see? Visit the ' +\n",
              "          '<a target=\"_blank\" href=https://colab.research.google.com/notebooks/data_table.ipynb>data table notebook</a>'\n",
              "          + ' to learn more about interactive tables.';\n",
              "        element.innerHTML = '';\n",
              "        dataTable['output_type'] = 'display_data';\n",
              "        await google.colab.output.renderOutput(dataTable, element);\n",
              "        const docLink = document.createElement('div');\n",
              "        docLink.innerHTML = docLinkHtml;\n",
              "        element.appendChild(docLink);\n",
              "      }\n",
              "    </script>\n",
              "  </div>\n",
              "\n",
              "\n",
              "<div id=\"df-459f1c8a-b5ca-4795-9b87-3e2f3d60e21b\">\n",
              "  <button class=\"colab-df-quickchart\" onclick=\"quickchart('df-459f1c8a-b5ca-4795-9b87-3e2f3d60e21b')\"\n",
              "            title=\"Suggest charts\"\n",
              "            style=\"display:none;\">\n",
              "\n",
              "<svg xmlns=\"http://www.w3.org/2000/svg\" height=\"24px\"viewBox=\"0 0 24 24\"\n",
              "     width=\"24px\">\n",
              "    <g>\n",
              "        <path d=\"M19 3H5c-1.1 0-2 .9-2 2v14c0 1.1.9 2 2 2h14c1.1 0 2-.9 2-2V5c0-1.1-.9-2-2-2zM9 17H7v-7h2v7zm4 0h-2V7h2v10zm4 0h-2v-4h2v4z\"/>\n",
              "    </g>\n",
              "</svg>\n",
              "  </button>\n",
              "\n",
              "<style>\n",
              "  .colab-df-quickchart {\n",
              "      --bg-color: #E8F0FE;\n",
              "      --fill-color: #1967D2;\n",
              "      --hover-bg-color: #E2EBFA;\n",
              "      --hover-fill-color: #174EA6;\n",
              "      --disabled-fill-color: #AAA;\n",
              "      --disabled-bg-color: #DDD;\n",
              "  }\n",
              "\n",
              "  [theme=dark] .colab-df-quickchart {\n",
              "      --bg-color: #3B4455;\n",
              "      --fill-color: #D2E3FC;\n",
              "      --hover-bg-color: #434B5C;\n",
              "      --hover-fill-color: #FFFFFF;\n",
              "      --disabled-bg-color: #3B4455;\n",
              "      --disabled-fill-color: #666;\n",
              "  }\n",
              "\n",
              "  .colab-df-quickchart {\n",
              "    background-color: var(--bg-color);\n",
              "    border: none;\n",
              "    border-radius: 50%;\n",
              "    cursor: pointer;\n",
              "    display: none;\n",
              "    fill: var(--fill-color);\n",
              "    height: 32px;\n",
              "    padding: 0;\n",
              "    width: 32px;\n",
              "  }\n",
              "\n",
              "  .colab-df-quickchart:hover {\n",
              "    background-color: var(--hover-bg-color);\n",
              "    box-shadow: 0 1px 2px rgba(60, 64, 67, 0.3), 0 1px 3px 1px rgba(60, 64, 67, 0.15);\n",
              "    fill: var(--button-hover-fill-color);\n",
              "  }\n",
              "\n",
              "  .colab-df-quickchart-complete:disabled,\n",
              "  .colab-df-quickchart-complete:disabled:hover {\n",
              "    background-color: var(--disabled-bg-color);\n",
              "    fill: var(--disabled-fill-color);\n",
              "    box-shadow: none;\n",
              "  }\n",
              "\n",
              "  .colab-df-spinner {\n",
              "    border: 2px solid var(--fill-color);\n",
              "    border-color: transparent;\n",
              "    border-bottom-color: var(--fill-color);\n",
              "    animation:\n",
              "      spin 1s steps(1) infinite;\n",
              "  }\n",
              "\n",
              "  @keyframes spin {\n",
              "    0% {\n",
              "      border-color: transparent;\n",
              "      border-bottom-color: var(--fill-color);\n",
              "      border-left-color: var(--fill-color);\n",
              "    }\n",
              "    20% {\n",
              "      border-color: transparent;\n",
              "      border-left-color: var(--fill-color);\n",
              "      border-top-color: var(--fill-color);\n",
              "    }\n",
              "    30% {\n",
              "      border-color: transparent;\n",
              "      border-left-color: var(--fill-color);\n",
              "      border-top-color: var(--fill-color);\n",
              "      border-right-color: var(--fill-color);\n",
              "    }\n",
              "    40% {\n",
              "      border-color: transparent;\n",
              "      border-right-color: var(--fill-color);\n",
              "      border-top-color: var(--fill-color);\n",
              "    }\n",
              "    60% {\n",
              "      border-color: transparent;\n",
              "      border-right-color: var(--fill-color);\n",
              "    }\n",
              "    80% {\n",
              "      border-color: transparent;\n",
              "      border-right-color: var(--fill-color);\n",
              "      border-bottom-color: var(--fill-color);\n",
              "    }\n",
              "    90% {\n",
              "      border-color: transparent;\n",
              "      border-bottom-color: var(--fill-color);\n",
              "    }\n",
              "  }\n",
              "</style>\n",
              "\n",
              "  <script>\n",
              "    async function quickchart(key) {\n",
              "      const quickchartButtonEl =\n",
              "        document.querySelector('#' + key + ' button');\n",
              "      quickchartButtonEl.disabled = true;  // To prevent multiple clicks.\n",
              "      quickchartButtonEl.classList.add('colab-df-spinner');\n",
              "      try {\n",
              "        const charts = await google.colab.kernel.invokeFunction(\n",
              "            'suggestCharts', [key], {});\n",
              "      } catch (error) {\n",
              "        console.error('Error during call to suggestCharts:', error);\n",
              "      }\n",
              "      quickchartButtonEl.classList.remove('colab-df-spinner');\n",
              "      quickchartButtonEl.classList.add('colab-df-quickchart-complete');\n",
              "    }\n",
              "    (() => {\n",
              "      let quickchartButtonEl =\n",
              "        document.querySelector('#df-459f1c8a-b5ca-4795-9b87-3e2f3d60e21b button');\n",
              "      quickchartButtonEl.style.display =\n",
              "        google.colab.kernel.accessAllowed ? 'block' : 'none';\n",
              "    })();\n",
              "  </script>\n",
              "</div>\n",
              "\n",
              "    </div>\n",
              "  </div>\n"
            ],
            "application/vnd.google.colaboratory.intrinsic+json": {
              "type": "dataframe",
              "variable_name": "cares"
            }
          },
          "metadata": {},
          "execution_count": 244
        }
      ]
    },
    {
      "cell_type": "code",
      "source": [
        "cares.tail()"
      ],
      "metadata": {
        "colab": {
          "base_uri": "https://localhost:8080/",
          "height": 287
        },
        "id": "5ImyE3TllzFL",
        "outputId": "a15efc51-241a-4389-8c50-a36a8278ca72"
      },
      "execution_count": 245,
      "outputs": [
        {
          "output_type": "execute_result",
          "data": {
            "text/plain": [
              "            Indexno   AGE  GENDER  RCRI score Anemia category  PreopEGFRMDRD  \\\n",
              "90783        121198  63.0  FEMALE         0.0             NaN            NaN   \n",
              "90784        121200  45.0  FEMALE         0.0            mild     125.902498   \n",
              "90785           NaN   NaN     NaN         NaN             NaN            NaN   \n",
              "90786           NaN   NaN     NaN         NaN             NaN            NaN   \n",
              "90787  ? Duplicates   NaN     NaN         NaN             NaN            NaN   \n",
              "\n",
              "      GradeofKidneydisease  DaysbetweenDeathandoperation @30daymortality  \\\n",
              "90783                BLANK                           NaN              NO   \n",
              "90784                   g1                           NaN              NO   \n",
              "90785                  NaN                           NaN             NaN   \n",
              "90786                  NaN                           NaN             NaN   \n",
              "90787                  NaN                           NaN             NaN   \n",
              "\n",
              "       Preoptransfusionwithin30days  ...  CVARCRICategory  IHDRCRICategory  \\\n",
              "90783                           0.0  ...               no               no   \n",
              "90784                           0.0  ...               no               no   \n",
              "90785                           NaN  ...              NaN              NaN   \n",
              "90786                           NaN  ...              NaN              NaN   \n",
              "90787                           NaN  ...              NaN              NaN   \n",
              "\n",
              "       CHFRCRICategory DMinsulinRCRICategory CreatinineRCRICategory  \\\n",
              "90783               no                    no                     no   \n",
              "90784               no                    no                     no   \n",
              "90785              NaN                   NaN                    NaN   \n",
              "90786              NaN                   NaN                    NaN   \n",
              "90787              NaN                   NaN                    NaN   \n",
              "\n",
              "      GradeofKidneyCategory Anemiacategorybinned  RDW15.7 ASAcategorybinned  \\\n",
              "90783                #NULL!               #NULL!   #NULL!                II   \n",
              "90784                    G1                 Mild  <= 15.7                II   \n",
              "90785                   NaN                  NaN      NaN               NaN   \n",
              "90786                   NaN                  NaN      NaN               NaN   \n",
              "90787                   NaN                  NaN      NaN               NaN   \n",
              "\n",
              "      ICUAdmgt24h  \n",
              "90783          no  \n",
              "90784          no  \n",
              "90785         NaN  \n",
              "90786         NaN  \n",
              "90787         NaN  \n",
              "\n",
              "[5 rows x 32 columns]"
            ],
            "text/html": [
              "\n",
              "  <div id=\"df-930b117f-50f2-43e9-9232-76c78dbd5eea\" class=\"colab-df-container\">\n",
              "    <div>\n",
              "<style scoped>\n",
              "    .dataframe tbody tr th:only-of-type {\n",
              "        vertical-align: middle;\n",
              "    }\n",
              "\n",
              "    .dataframe tbody tr th {\n",
              "        vertical-align: top;\n",
              "    }\n",
              "\n",
              "    .dataframe thead th {\n",
              "        text-align: right;\n",
              "    }\n",
              "</style>\n",
              "<table border=\"1\" class=\"dataframe\">\n",
              "  <thead>\n",
              "    <tr style=\"text-align: right;\">\n",
              "      <th></th>\n",
              "      <th>Indexno</th>\n",
              "      <th>AGE</th>\n",
              "      <th>GENDER</th>\n",
              "      <th>RCRI score</th>\n",
              "      <th>Anemia category</th>\n",
              "      <th>PreopEGFRMDRD</th>\n",
              "      <th>GradeofKidneydisease</th>\n",
              "      <th>DaysbetweenDeathandoperation</th>\n",
              "      <th>@30daymortality</th>\n",
              "      <th>Preoptransfusionwithin30days</th>\n",
              "      <th>...</th>\n",
              "      <th>CVARCRICategory</th>\n",
              "      <th>IHDRCRICategory</th>\n",
              "      <th>CHFRCRICategory</th>\n",
              "      <th>DMinsulinRCRICategory</th>\n",
              "      <th>CreatinineRCRICategory</th>\n",
              "      <th>GradeofKidneyCategory</th>\n",
              "      <th>Anemiacategorybinned</th>\n",
              "      <th>RDW15.7</th>\n",
              "      <th>ASAcategorybinned</th>\n",
              "      <th>ICUAdmgt24h</th>\n",
              "    </tr>\n",
              "  </thead>\n",
              "  <tbody>\n",
              "    <tr>\n",
              "      <th>90783</th>\n",
              "      <td>121198</td>\n",
              "      <td>63.0</td>\n",
              "      <td>FEMALE</td>\n",
              "      <td>0.0</td>\n",
              "      <td>NaN</td>\n",
              "      <td>NaN</td>\n",
              "      <td>BLANK</td>\n",
              "      <td>NaN</td>\n",
              "      <td>NO</td>\n",
              "      <td>0.0</td>\n",
              "      <td>...</td>\n",
              "      <td>no</td>\n",
              "      <td>no</td>\n",
              "      <td>no</td>\n",
              "      <td>no</td>\n",
              "      <td>no</td>\n",
              "      <td>#NULL!</td>\n",
              "      <td>#NULL!</td>\n",
              "      <td>#NULL!</td>\n",
              "      <td>II</td>\n",
              "      <td>no</td>\n",
              "    </tr>\n",
              "    <tr>\n",
              "      <th>90784</th>\n",
              "      <td>121200</td>\n",
              "      <td>45.0</td>\n",
              "      <td>FEMALE</td>\n",
              "      <td>0.0</td>\n",
              "      <td>mild</td>\n",
              "      <td>125.902498</td>\n",
              "      <td>g1</td>\n",
              "      <td>NaN</td>\n",
              "      <td>NO</td>\n",
              "      <td>0.0</td>\n",
              "      <td>...</td>\n",
              "      <td>no</td>\n",
              "      <td>no</td>\n",
              "      <td>no</td>\n",
              "      <td>no</td>\n",
              "      <td>no</td>\n",
              "      <td>G1</td>\n",
              "      <td>Mild</td>\n",
              "      <td>&lt;= 15.7</td>\n",
              "      <td>II</td>\n",
              "      <td>no</td>\n",
              "    </tr>\n",
              "    <tr>\n",
              "      <th>90785</th>\n",
              "      <td>NaN</td>\n",
              "      <td>NaN</td>\n",
              "      <td>NaN</td>\n",
              "      <td>NaN</td>\n",
              "      <td>NaN</td>\n",
              "      <td>NaN</td>\n",
              "      <td>NaN</td>\n",
              "      <td>NaN</td>\n",
              "      <td>NaN</td>\n",
              "      <td>NaN</td>\n",
              "      <td>...</td>\n",
              "      <td>NaN</td>\n",
              "      <td>NaN</td>\n",
              "      <td>NaN</td>\n",
              "      <td>NaN</td>\n",
              "      <td>NaN</td>\n",
              "      <td>NaN</td>\n",
              "      <td>NaN</td>\n",
              "      <td>NaN</td>\n",
              "      <td>NaN</td>\n",
              "      <td>NaN</td>\n",
              "    </tr>\n",
              "    <tr>\n",
              "      <th>90786</th>\n",
              "      <td>NaN</td>\n",
              "      <td>NaN</td>\n",
              "      <td>NaN</td>\n",
              "      <td>NaN</td>\n",
              "      <td>NaN</td>\n",
              "      <td>NaN</td>\n",
              "      <td>NaN</td>\n",
              "      <td>NaN</td>\n",
              "      <td>NaN</td>\n",
              "      <td>NaN</td>\n",
              "      <td>...</td>\n",
              "      <td>NaN</td>\n",
              "      <td>NaN</td>\n",
              "      <td>NaN</td>\n",
              "      <td>NaN</td>\n",
              "      <td>NaN</td>\n",
              "      <td>NaN</td>\n",
              "      <td>NaN</td>\n",
              "      <td>NaN</td>\n",
              "      <td>NaN</td>\n",
              "      <td>NaN</td>\n",
              "    </tr>\n",
              "    <tr>\n",
              "      <th>90787</th>\n",
              "      <td>? Duplicates</td>\n",
              "      <td>NaN</td>\n",
              "      <td>NaN</td>\n",
              "      <td>NaN</td>\n",
              "      <td>NaN</td>\n",
              "      <td>NaN</td>\n",
              "      <td>NaN</td>\n",
              "      <td>NaN</td>\n",
              "      <td>NaN</td>\n",
              "      <td>NaN</td>\n",
              "      <td>...</td>\n",
              "      <td>NaN</td>\n",
              "      <td>NaN</td>\n",
              "      <td>NaN</td>\n",
              "      <td>NaN</td>\n",
              "      <td>NaN</td>\n",
              "      <td>NaN</td>\n",
              "      <td>NaN</td>\n",
              "      <td>NaN</td>\n",
              "      <td>NaN</td>\n",
              "      <td>NaN</td>\n",
              "    </tr>\n",
              "  </tbody>\n",
              "</table>\n",
              "<p>5 rows × 32 columns</p>\n",
              "</div>\n",
              "    <div class=\"colab-df-buttons\">\n",
              "\n",
              "  <div class=\"colab-df-container\">\n",
              "    <button class=\"colab-df-convert\" onclick=\"convertToInteractive('df-930b117f-50f2-43e9-9232-76c78dbd5eea')\"\n",
              "            title=\"Convert this dataframe to an interactive table.\"\n",
              "            style=\"display:none;\">\n",
              "\n",
              "  <svg xmlns=\"http://www.w3.org/2000/svg\" height=\"24px\" viewBox=\"0 -960 960 960\">\n",
              "    <path d=\"M120-120v-720h720v720H120Zm60-500h600v-160H180v160Zm220 220h160v-160H400v160Zm0 220h160v-160H400v160ZM180-400h160v-160H180v160Zm440 0h160v-160H620v160ZM180-180h160v-160H180v160Zm440 0h160v-160H620v160Z\"/>\n",
              "  </svg>\n",
              "    </button>\n",
              "\n",
              "  <style>\n",
              "    .colab-df-container {\n",
              "      display:flex;\n",
              "      gap: 12px;\n",
              "    }\n",
              "\n",
              "    .colab-df-convert {\n",
              "      background-color: #E8F0FE;\n",
              "      border: none;\n",
              "      border-radius: 50%;\n",
              "      cursor: pointer;\n",
              "      display: none;\n",
              "      fill: #1967D2;\n",
              "      height: 32px;\n",
              "      padding: 0 0 0 0;\n",
              "      width: 32px;\n",
              "    }\n",
              "\n",
              "    .colab-df-convert:hover {\n",
              "      background-color: #E2EBFA;\n",
              "      box-shadow: 0px 1px 2px rgba(60, 64, 67, 0.3), 0px 1px 3px 1px rgba(60, 64, 67, 0.15);\n",
              "      fill: #174EA6;\n",
              "    }\n",
              "\n",
              "    .colab-df-buttons div {\n",
              "      margin-bottom: 4px;\n",
              "    }\n",
              "\n",
              "    [theme=dark] .colab-df-convert {\n",
              "      background-color: #3B4455;\n",
              "      fill: #D2E3FC;\n",
              "    }\n",
              "\n",
              "    [theme=dark] .colab-df-convert:hover {\n",
              "      background-color: #434B5C;\n",
              "      box-shadow: 0px 1px 3px 1px rgba(0, 0, 0, 0.15);\n",
              "      filter: drop-shadow(0px 1px 2px rgba(0, 0, 0, 0.3));\n",
              "      fill: #FFFFFF;\n",
              "    }\n",
              "  </style>\n",
              "\n",
              "    <script>\n",
              "      const buttonEl =\n",
              "        document.querySelector('#df-930b117f-50f2-43e9-9232-76c78dbd5eea button.colab-df-convert');\n",
              "      buttonEl.style.display =\n",
              "        google.colab.kernel.accessAllowed ? 'block' : 'none';\n",
              "\n",
              "      async function convertToInteractive(key) {\n",
              "        const element = document.querySelector('#df-930b117f-50f2-43e9-9232-76c78dbd5eea');\n",
              "        const dataTable =\n",
              "          await google.colab.kernel.invokeFunction('convertToInteractive',\n",
              "                                                    [key], {});\n",
              "        if (!dataTable) return;\n",
              "\n",
              "        const docLinkHtml = 'Like what you see? Visit the ' +\n",
              "          '<a target=\"_blank\" href=https://colab.research.google.com/notebooks/data_table.ipynb>data table notebook</a>'\n",
              "          + ' to learn more about interactive tables.';\n",
              "        element.innerHTML = '';\n",
              "        dataTable['output_type'] = 'display_data';\n",
              "        await google.colab.output.renderOutput(dataTable, element);\n",
              "        const docLink = document.createElement('div');\n",
              "        docLink.innerHTML = docLinkHtml;\n",
              "        element.appendChild(docLink);\n",
              "      }\n",
              "    </script>\n",
              "  </div>\n",
              "\n",
              "\n",
              "<div id=\"df-1da2b427-d376-407e-86c6-67a2a3c5acd7\">\n",
              "  <button class=\"colab-df-quickchart\" onclick=\"quickchart('df-1da2b427-d376-407e-86c6-67a2a3c5acd7')\"\n",
              "            title=\"Suggest charts\"\n",
              "            style=\"display:none;\">\n",
              "\n",
              "<svg xmlns=\"http://www.w3.org/2000/svg\" height=\"24px\"viewBox=\"0 0 24 24\"\n",
              "     width=\"24px\">\n",
              "    <g>\n",
              "        <path d=\"M19 3H5c-1.1 0-2 .9-2 2v14c0 1.1.9 2 2 2h14c1.1 0 2-.9 2-2V5c0-1.1-.9-2-2-2zM9 17H7v-7h2v7zm4 0h-2V7h2v10zm4 0h-2v-4h2v4z\"/>\n",
              "    </g>\n",
              "</svg>\n",
              "  </button>\n",
              "\n",
              "<style>\n",
              "  .colab-df-quickchart {\n",
              "      --bg-color: #E8F0FE;\n",
              "      --fill-color: #1967D2;\n",
              "      --hover-bg-color: #E2EBFA;\n",
              "      --hover-fill-color: #174EA6;\n",
              "      --disabled-fill-color: #AAA;\n",
              "      --disabled-bg-color: #DDD;\n",
              "  }\n",
              "\n",
              "  [theme=dark] .colab-df-quickchart {\n",
              "      --bg-color: #3B4455;\n",
              "      --fill-color: #D2E3FC;\n",
              "      --hover-bg-color: #434B5C;\n",
              "      --hover-fill-color: #FFFFFF;\n",
              "      --disabled-bg-color: #3B4455;\n",
              "      --disabled-fill-color: #666;\n",
              "  }\n",
              "\n",
              "  .colab-df-quickchart {\n",
              "    background-color: var(--bg-color);\n",
              "    border: none;\n",
              "    border-radius: 50%;\n",
              "    cursor: pointer;\n",
              "    display: none;\n",
              "    fill: var(--fill-color);\n",
              "    height: 32px;\n",
              "    padding: 0;\n",
              "    width: 32px;\n",
              "  }\n",
              "\n",
              "  .colab-df-quickchart:hover {\n",
              "    background-color: var(--hover-bg-color);\n",
              "    box-shadow: 0 1px 2px rgba(60, 64, 67, 0.3), 0 1px 3px 1px rgba(60, 64, 67, 0.15);\n",
              "    fill: var(--button-hover-fill-color);\n",
              "  }\n",
              "\n",
              "  .colab-df-quickchart-complete:disabled,\n",
              "  .colab-df-quickchart-complete:disabled:hover {\n",
              "    background-color: var(--disabled-bg-color);\n",
              "    fill: var(--disabled-fill-color);\n",
              "    box-shadow: none;\n",
              "  }\n",
              "\n",
              "  .colab-df-spinner {\n",
              "    border: 2px solid var(--fill-color);\n",
              "    border-color: transparent;\n",
              "    border-bottom-color: var(--fill-color);\n",
              "    animation:\n",
              "      spin 1s steps(1) infinite;\n",
              "  }\n",
              "\n",
              "  @keyframes spin {\n",
              "    0% {\n",
              "      border-color: transparent;\n",
              "      border-bottom-color: var(--fill-color);\n",
              "      border-left-color: var(--fill-color);\n",
              "    }\n",
              "    20% {\n",
              "      border-color: transparent;\n",
              "      border-left-color: var(--fill-color);\n",
              "      border-top-color: var(--fill-color);\n",
              "    }\n",
              "    30% {\n",
              "      border-color: transparent;\n",
              "      border-left-color: var(--fill-color);\n",
              "      border-top-color: var(--fill-color);\n",
              "      border-right-color: var(--fill-color);\n",
              "    }\n",
              "    40% {\n",
              "      border-color: transparent;\n",
              "      border-right-color: var(--fill-color);\n",
              "      border-top-color: var(--fill-color);\n",
              "    }\n",
              "    60% {\n",
              "      border-color: transparent;\n",
              "      border-right-color: var(--fill-color);\n",
              "    }\n",
              "    80% {\n",
              "      border-color: transparent;\n",
              "      border-right-color: var(--fill-color);\n",
              "      border-bottom-color: var(--fill-color);\n",
              "    }\n",
              "    90% {\n",
              "      border-color: transparent;\n",
              "      border-bottom-color: var(--fill-color);\n",
              "    }\n",
              "  }\n",
              "</style>\n",
              "\n",
              "  <script>\n",
              "    async function quickchart(key) {\n",
              "      const quickchartButtonEl =\n",
              "        document.querySelector('#' + key + ' button');\n",
              "      quickchartButtonEl.disabled = true;  // To prevent multiple clicks.\n",
              "      quickchartButtonEl.classList.add('colab-df-spinner');\n",
              "      try {\n",
              "        const charts = await google.colab.kernel.invokeFunction(\n",
              "            'suggestCharts', [key], {});\n",
              "      } catch (error) {\n",
              "        console.error('Error during call to suggestCharts:', error);\n",
              "      }\n",
              "      quickchartButtonEl.classList.remove('colab-df-spinner');\n",
              "      quickchartButtonEl.classList.add('colab-df-quickchart-complete');\n",
              "    }\n",
              "    (() => {\n",
              "      let quickchartButtonEl =\n",
              "        document.querySelector('#df-1da2b427-d376-407e-86c6-67a2a3c5acd7 button');\n",
              "      quickchartButtonEl.style.display =\n",
              "        google.colab.kernel.accessAllowed ? 'block' : 'none';\n",
              "    })();\n",
              "  </script>\n",
              "</div>\n",
              "\n",
              "    </div>\n",
              "  </div>\n"
            ],
            "application/vnd.google.colaboratory.intrinsic+json": {
              "type": "dataframe"
            }
          },
          "metadata": {},
          "execution_count": 245
        }
      ]
    },
    {
      "cell_type": "code",
      "source": [
        "cares.shape"
      ],
      "metadata": {
        "colab": {
          "base_uri": "https://localhost:8080/"
        },
        "id": "-XF8Vcx1lzuX",
        "outputId": "a264c6ac-2cdc-4631-df04-470810d7fc73"
      },
      "execution_count": 246,
      "outputs": [
        {
          "output_type": "execute_result",
          "data": {
            "text/plain": [
              "(90788, 32)"
            ]
          },
          "metadata": {},
          "execution_count": 246
        }
      ]
    },
    {
      "cell_type": "code",
      "source": [
        "cares.columns"
      ],
      "metadata": {
        "colab": {
          "base_uri": "https://localhost:8080/"
        },
        "id": "W0f9ns33y5d1",
        "outputId": "1b2a37b2-f084-40ac-edd4-87eaa388bd28"
      },
      "execution_count": 247,
      "outputs": [
        {
          "output_type": "execute_result",
          "data": {
            "text/plain": [
              "Index(['Indexno', 'AGE', 'GENDER', 'RCRI score', 'Anemia category',\n",
              "       'PreopEGFRMDRD', 'GradeofKidneydisease', 'DaysbetweenDeathandoperation',\n",
              "       '@30daymortality', 'Preoptransfusionwithin30days', 'Intraop',\n",
              "       'Postopwithin30days', 'Transfusionintraandpostop', 'AnaestypeCategory',\n",
              "       'PriorityCategory', 'TransfusionIntraandpostopCategory', 'AGEcategory',\n",
              "       'AGEcategoryOriginal', 'Mortality', 'thirtydaymortality',\n",
              "       'SurgRiskCategory', 'RaceCategory', 'CVARCRICategory',\n",
              "       'IHDRCRICategory', 'CHFRCRICategory', 'DMinsulinRCRICategory',\n",
              "       'CreatinineRCRICategory', 'GradeofKidneyCategory',\n",
              "       'Anemiacategorybinned', 'RDW15.7', 'ASAcategorybinned', 'ICUAdmgt24h'],\n",
              "      dtype='object')"
            ]
          },
          "metadata": {},
          "execution_count": 247
        }
      ]
    },
    {
      "cell_type": "markdown",
      "source": [
        "## EDA"
      ],
      "metadata": {
        "id": "lTQOjoF4lEhh"
      }
    },
    {
      "cell_type": "code",
      "source": [
        "# remove the last 3 rows because there's a weird \"? Duplicates\" cell on the excel file\n",
        "cares.drop(cares.index[-3:], axis=0, inplace=True)\n",
        "cares.tail()"
      ],
      "metadata": {
        "colab": {
          "base_uri": "https://localhost:8080/",
          "height": 270
        },
        "id": "g3XLoOHmldhM",
        "outputId": "10ed2f21-d3c9-43cd-9179-852401d531ff"
      },
      "execution_count": 248,
      "outputs": [
        {
          "output_type": "execute_result",
          "data": {
            "text/plain": [
              "      Indexno   AGE  GENDER  RCRI score Anemia category  PreopEGFRMDRD  \\\n",
              "90780  121192  66.0  FEMALE         2.0            mild      48.339582   \n",
              "90781  121194  50.0    MALE         1.0        moderate     126.592489   \n",
              "90782  121197  58.0  FEMALE         NaN            none      86.306771   \n",
              "90783  121198  63.0  FEMALE         0.0             NaN            NaN   \n",
              "90784  121200  45.0  FEMALE         0.0            mild     125.902498   \n",
              "\n",
              "      GradeofKidneydisease  DaysbetweenDeathandoperation @30daymortality  \\\n",
              "90780                  G3a                           NaN              NO   \n",
              "90781                   g1                           NaN              NO   \n",
              "90782                   G2                           NaN              NO   \n",
              "90783                BLANK                           NaN              NO   \n",
              "90784                   g1                           NaN              NO   \n",
              "\n",
              "       Preoptransfusionwithin30days  ...  CVARCRICategory  IHDRCRICategory  \\\n",
              "90780                           0.0  ...               no               no   \n",
              "90781                           0.0  ...               no               no   \n",
              "90782                           0.0  ...           #NULL!           #NULL!   \n",
              "90783                           0.0  ...               no               no   \n",
              "90784                           0.0  ...               no               no   \n",
              "\n",
              "       CHFRCRICategory DMinsulinRCRICategory CreatinineRCRICategory  \\\n",
              "90780               no                   yes                     no   \n",
              "90781               no                   yes                     no   \n",
              "90782           #NULL!                #NULL!                 #NULL!   \n",
              "90783               no                    no                     no   \n",
              "90784               no                    no                     no   \n",
              "\n",
              "      GradeofKidneyCategory Anemiacategorybinned  RDW15.7 ASAcategorybinned  \\\n",
              "90780                    G3                 Mild  <= 15.7                II   \n",
              "90781                    G1      Moderate/Severe  <= 15.7            #NULL!   \n",
              "90782                    G2                  NaN  <= 15.7            #NULL!   \n",
              "90783                #NULL!               #NULL!   #NULL!                II   \n",
              "90784                    G1                 Mild  <= 15.7                II   \n",
              "\n",
              "      ICUAdmgt24h  \n",
              "90780          no  \n",
              "90781          no  \n",
              "90782          no  \n",
              "90783          no  \n",
              "90784          no  \n",
              "\n",
              "[5 rows x 32 columns]"
            ],
            "text/html": [
              "\n",
              "  <div id=\"df-1974a8f8-3b24-4810-a100-247746d38e68\" class=\"colab-df-container\">\n",
              "    <div>\n",
              "<style scoped>\n",
              "    .dataframe tbody tr th:only-of-type {\n",
              "        vertical-align: middle;\n",
              "    }\n",
              "\n",
              "    .dataframe tbody tr th {\n",
              "        vertical-align: top;\n",
              "    }\n",
              "\n",
              "    .dataframe thead th {\n",
              "        text-align: right;\n",
              "    }\n",
              "</style>\n",
              "<table border=\"1\" class=\"dataframe\">\n",
              "  <thead>\n",
              "    <tr style=\"text-align: right;\">\n",
              "      <th></th>\n",
              "      <th>Indexno</th>\n",
              "      <th>AGE</th>\n",
              "      <th>GENDER</th>\n",
              "      <th>RCRI score</th>\n",
              "      <th>Anemia category</th>\n",
              "      <th>PreopEGFRMDRD</th>\n",
              "      <th>GradeofKidneydisease</th>\n",
              "      <th>DaysbetweenDeathandoperation</th>\n",
              "      <th>@30daymortality</th>\n",
              "      <th>Preoptransfusionwithin30days</th>\n",
              "      <th>...</th>\n",
              "      <th>CVARCRICategory</th>\n",
              "      <th>IHDRCRICategory</th>\n",
              "      <th>CHFRCRICategory</th>\n",
              "      <th>DMinsulinRCRICategory</th>\n",
              "      <th>CreatinineRCRICategory</th>\n",
              "      <th>GradeofKidneyCategory</th>\n",
              "      <th>Anemiacategorybinned</th>\n",
              "      <th>RDW15.7</th>\n",
              "      <th>ASAcategorybinned</th>\n",
              "      <th>ICUAdmgt24h</th>\n",
              "    </tr>\n",
              "  </thead>\n",
              "  <tbody>\n",
              "    <tr>\n",
              "      <th>90780</th>\n",
              "      <td>121192</td>\n",
              "      <td>66.0</td>\n",
              "      <td>FEMALE</td>\n",
              "      <td>2.0</td>\n",
              "      <td>mild</td>\n",
              "      <td>48.339582</td>\n",
              "      <td>G3a</td>\n",
              "      <td>NaN</td>\n",
              "      <td>NO</td>\n",
              "      <td>0.0</td>\n",
              "      <td>...</td>\n",
              "      <td>no</td>\n",
              "      <td>no</td>\n",
              "      <td>no</td>\n",
              "      <td>yes</td>\n",
              "      <td>no</td>\n",
              "      <td>G3</td>\n",
              "      <td>Mild</td>\n",
              "      <td>&lt;= 15.7</td>\n",
              "      <td>II</td>\n",
              "      <td>no</td>\n",
              "    </tr>\n",
              "    <tr>\n",
              "      <th>90781</th>\n",
              "      <td>121194</td>\n",
              "      <td>50.0</td>\n",
              "      <td>MALE</td>\n",
              "      <td>1.0</td>\n",
              "      <td>moderate</td>\n",
              "      <td>126.592489</td>\n",
              "      <td>g1</td>\n",
              "      <td>NaN</td>\n",
              "      <td>NO</td>\n",
              "      <td>0.0</td>\n",
              "      <td>...</td>\n",
              "      <td>no</td>\n",
              "      <td>no</td>\n",
              "      <td>no</td>\n",
              "      <td>yes</td>\n",
              "      <td>no</td>\n",
              "      <td>G1</td>\n",
              "      <td>Moderate/Severe</td>\n",
              "      <td>&lt;= 15.7</td>\n",
              "      <td>#NULL!</td>\n",
              "      <td>no</td>\n",
              "    </tr>\n",
              "    <tr>\n",
              "      <th>90782</th>\n",
              "      <td>121197</td>\n",
              "      <td>58.0</td>\n",
              "      <td>FEMALE</td>\n",
              "      <td>NaN</td>\n",
              "      <td>none</td>\n",
              "      <td>86.306771</td>\n",
              "      <td>G2</td>\n",
              "      <td>NaN</td>\n",
              "      <td>NO</td>\n",
              "      <td>0.0</td>\n",
              "      <td>...</td>\n",
              "      <td>#NULL!</td>\n",
              "      <td>#NULL!</td>\n",
              "      <td>#NULL!</td>\n",
              "      <td>#NULL!</td>\n",
              "      <td>#NULL!</td>\n",
              "      <td>G2</td>\n",
              "      <td>NaN</td>\n",
              "      <td>&lt;= 15.7</td>\n",
              "      <td>#NULL!</td>\n",
              "      <td>no</td>\n",
              "    </tr>\n",
              "    <tr>\n",
              "      <th>90783</th>\n",
              "      <td>121198</td>\n",
              "      <td>63.0</td>\n",
              "      <td>FEMALE</td>\n",
              "      <td>0.0</td>\n",
              "      <td>NaN</td>\n",
              "      <td>NaN</td>\n",
              "      <td>BLANK</td>\n",
              "      <td>NaN</td>\n",
              "      <td>NO</td>\n",
              "      <td>0.0</td>\n",
              "      <td>...</td>\n",
              "      <td>no</td>\n",
              "      <td>no</td>\n",
              "      <td>no</td>\n",
              "      <td>no</td>\n",
              "      <td>no</td>\n",
              "      <td>#NULL!</td>\n",
              "      <td>#NULL!</td>\n",
              "      <td>#NULL!</td>\n",
              "      <td>II</td>\n",
              "      <td>no</td>\n",
              "    </tr>\n",
              "    <tr>\n",
              "      <th>90784</th>\n",
              "      <td>121200</td>\n",
              "      <td>45.0</td>\n",
              "      <td>FEMALE</td>\n",
              "      <td>0.0</td>\n",
              "      <td>mild</td>\n",
              "      <td>125.902498</td>\n",
              "      <td>g1</td>\n",
              "      <td>NaN</td>\n",
              "      <td>NO</td>\n",
              "      <td>0.0</td>\n",
              "      <td>...</td>\n",
              "      <td>no</td>\n",
              "      <td>no</td>\n",
              "      <td>no</td>\n",
              "      <td>no</td>\n",
              "      <td>no</td>\n",
              "      <td>G1</td>\n",
              "      <td>Mild</td>\n",
              "      <td>&lt;= 15.7</td>\n",
              "      <td>II</td>\n",
              "      <td>no</td>\n",
              "    </tr>\n",
              "  </tbody>\n",
              "</table>\n",
              "<p>5 rows × 32 columns</p>\n",
              "</div>\n",
              "    <div class=\"colab-df-buttons\">\n",
              "\n",
              "  <div class=\"colab-df-container\">\n",
              "    <button class=\"colab-df-convert\" onclick=\"convertToInteractive('df-1974a8f8-3b24-4810-a100-247746d38e68')\"\n",
              "            title=\"Convert this dataframe to an interactive table.\"\n",
              "            style=\"display:none;\">\n",
              "\n",
              "  <svg xmlns=\"http://www.w3.org/2000/svg\" height=\"24px\" viewBox=\"0 -960 960 960\">\n",
              "    <path d=\"M120-120v-720h720v720H120Zm60-500h600v-160H180v160Zm220 220h160v-160H400v160Zm0 220h160v-160H400v160ZM180-400h160v-160H180v160Zm440 0h160v-160H620v160ZM180-180h160v-160H180v160Zm440 0h160v-160H620v160Z\"/>\n",
              "  </svg>\n",
              "    </button>\n",
              "\n",
              "  <style>\n",
              "    .colab-df-container {\n",
              "      display:flex;\n",
              "      gap: 12px;\n",
              "    }\n",
              "\n",
              "    .colab-df-convert {\n",
              "      background-color: #E8F0FE;\n",
              "      border: none;\n",
              "      border-radius: 50%;\n",
              "      cursor: pointer;\n",
              "      display: none;\n",
              "      fill: #1967D2;\n",
              "      height: 32px;\n",
              "      padding: 0 0 0 0;\n",
              "      width: 32px;\n",
              "    }\n",
              "\n",
              "    .colab-df-convert:hover {\n",
              "      background-color: #E2EBFA;\n",
              "      box-shadow: 0px 1px 2px rgba(60, 64, 67, 0.3), 0px 1px 3px 1px rgba(60, 64, 67, 0.15);\n",
              "      fill: #174EA6;\n",
              "    }\n",
              "\n",
              "    .colab-df-buttons div {\n",
              "      margin-bottom: 4px;\n",
              "    }\n",
              "\n",
              "    [theme=dark] .colab-df-convert {\n",
              "      background-color: #3B4455;\n",
              "      fill: #D2E3FC;\n",
              "    }\n",
              "\n",
              "    [theme=dark] .colab-df-convert:hover {\n",
              "      background-color: #434B5C;\n",
              "      box-shadow: 0px 1px 3px 1px rgba(0, 0, 0, 0.15);\n",
              "      filter: drop-shadow(0px 1px 2px rgba(0, 0, 0, 0.3));\n",
              "      fill: #FFFFFF;\n",
              "    }\n",
              "  </style>\n",
              "\n",
              "    <script>\n",
              "      const buttonEl =\n",
              "        document.querySelector('#df-1974a8f8-3b24-4810-a100-247746d38e68 button.colab-df-convert');\n",
              "      buttonEl.style.display =\n",
              "        google.colab.kernel.accessAllowed ? 'block' : 'none';\n",
              "\n",
              "      async function convertToInteractive(key) {\n",
              "        const element = document.querySelector('#df-1974a8f8-3b24-4810-a100-247746d38e68');\n",
              "        const dataTable =\n",
              "          await google.colab.kernel.invokeFunction('convertToInteractive',\n",
              "                                                    [key], {});\n",
              "        if (!dataTable) return;\n",
              "\n",
              "        const docLinkHtml = 'Like what you see? Visit the ' +\n",
              "          '<a target=\"_blank\" href=https://colab.research.google.com/notebooks/data_table.ipynb>data table notebook</a>'\n",
              "          + ' to learn more about interactive tables.';\n",
              "        element.innerHTML = '';\n",
              "        dataTable['output_type'] = 'display_data';\n",
              "        await google.colab.output.renderOutput(dataTable, element);\n",
              "        const docLink = document.createElement('div');\n",
              "        docLink.innerHTML = docLinkHtml;\n",
              "        element.appendChild(docLink);\n",
              "      }\n",
              "    </script>\n",
              "  </div>\n",
              "\n",
              "\n",
              "<div id=\"df-583f6506-b2b8-4faf-9174-d11c5f5ba372\">\n",
              "  <button class=\"colab-df-quickchart\" onclick=\"quickchart('df-583f6506-b2b8-4faf-9174-d11c5f5ba372')\"\n",
              "            title=\"Suggest charts\"\n",
              "            style=\"display:none;\">\n",
              "\n",
              "<svg xmlns=\"http://www.w3.org/2000/svg\" height=\"24px\"viewBox=\"0 0 24 24\"\n",
              "     width=\"24px\">\n",
              "    <g>\n",
              "        <path d=\"M19 3H5c-1.1 0-2 .9-2 2v14c0 1.1.9 2 2 2h14c1.1 0 2-.9 2-2V5c0-1.1-.9-2-2-2zM9 17H7v-7h2v7zm4 0h-2V7h2v10zm4 0h-2v-4h2v4z\"/>\n",
              "    </g>\n",
              "</svg>\n",
              "  </button>\n",
              "\n",
              "<style>\n",
              "  .colab-df-quickchart {\n",
              "      --bg-color: #E8F0FE;\n",
              "      --fill-color: #1967D2;\n",
              "      --hover-bg-color: #E2EBFA;\n",
              "      --hover-fill-color: #174EA6;\n",
              "      --disabled-fill-color: #AAA;\n",
              "      --disabled-bg-color: #DDD;\n",
              "  }\n",
              "\n",
              "  [theme=dark] .colab-df-quickchart {\n",
              "      --bg-color: #3B4455;\n",
              "      --fill-color: #D2E3FC;\n",
              "      --hover-bg-color: #434B5C;\n",
              "      --hover-fill-color: #FFFFFF;\n",
              "      --disabled-bg-color: #3B4455;\n",
              "      --disabled-fill-color: #666;\n",
              "  }\n",
              "\n",
              "  .colab-df-quickchart {\n",
              "    background-color: var(--bg-color);\n",
              "    border: none;\n",
              "    border-radius: 50%;\n",
              "    cursor: pointer;\n",
              "    display: none;\n",
              "    fill: var(--fill-color);\n",
              "    height: 32px;\n",
              "    padding: 0;\n",
              "    width: 32px;\n",
              "  }\n",
              "\n",
              "  .colab-df-quickchart:hover {\n",
              "    background-color: var(--hover-bg-color);\n",
              "    box-shadow: 0 1px 2px rgba(60, 64, 67, 0.3), 0 1px 3px 1px rgba(60, 64, 67, 0.15);\n",
              "    fill: var(--button-hover-fill-color);\n",
              "  }\n",
              "\n",
              "  .colab-df-quickchart-complete:disabled,\n",
              "  .colab-df-quickchart-complete:disabled:hover {\n",
              "    background-color: var(--disabled-bg-color);\n",
              "    fill: var(--disabled-fill-color);\n",
              "    box-shadow: none;\n",
              "  }\n",
              "\n",
              "  .colab-df-spinner {\n",
              "    border: 2px solid var(--fill-color);\n",
              "    border-color: transparent;\n",
              "    border-bottom-color: var(--fill-color);\n",
              "    animation:\n",
              "      spin 1s steps(1) infinite;\n",
              "  }\n",
              "\n",
              "  @keyframes spin {\n",
              "    0% {\n",
              "      border-color: transparent;\n",
              "      border-bottom-color: var(--fill-color);\n",
              "      border-left-color: var(--fill-color);\n",
              "    }\n",
              "    20% {\n",
              "      border-color: transparent;\n",
              "      border-left-color: var(--fill-color);\n",
              "      border-top-color: var(--fill-color);\n",
              "    }\n",
              "    30% {\n",
              "      border-color: transparent;\n",
              "      border-left-color: var(--fill-color);\n",
              "      border-top-color: var(--fill-color);\n",
              "      border-right-color: var(--fill-color);\n",
              "    }\n",
              "    40% {\n",
              "      border-color: transparent;\n",
              "      border-right-color: var(--fill-color);\n",
              "      border-top-color: var(--fill-color);\n",
              "    }\n",
              "    60% {\n",
              "      border-color: transparent;\n",
              "      border-right-color: var(--fill-color);\n",
              "    }\n",
              "    80% {\n",
              "      border-color: transparent;\n",
              "      border-right-color: var(--fill-color);\n",
              "      border-bottom-color: var(--fill-color);\n",
              "    }\n",
              "    90% {\n",
              "      border-color: transparent;\n",
              "      border-bottom-color: var(--fill-color);\n",
              "    }\n",
              "  }\n",
              "</style>\n",
              "\n",
              "  <script>\n",
              "    async function quickchart(key) {\n",
              "      const quickchartButtonEl =\n",
              "        document.querySelector('#' + key + ' button');\n",
              "      quickchartButtonEl.disabled = true;  // To prevent multiple clicks.\n",
              "      quickchartButtonEl.classList.add('colab-df-spinner');\n",
              "      try {\n",
              "        const charts = await google.colab.kernel.invokeFunction(\n",
              "            'suggestCharts', [key], {});\n",
              "      } catch (error) {\n",
              "        console.error('Error during call to suggestCharts:', error);\n",
              "      }\n",
              "      quickchartButtonEl.classList.remove('colab-df-spinner');\n",
              "      quickchartButtonEl.classList.add('colab-df-quickchart-complete');\n",
              "    }\n",
              "    (() => {\n",
              "      let quickchartButtonEl =\n",
              "        document.querySelector('#df-583f6506-b2b8-4faf-9174-d11c5f5ba372 button');\n",
              "      quickchartButtonEl.style.display =\n",
              "        google.colab.kernel.accessAllowed ? 'block' : 'none';\n",
              "    })();\n",
              "  </script>\n",
              "</div>\n",
              "\n",
              "    </div>\n",
              "  </div>\n"
            ],
            "application/vnd.google.colaboratory.intrinsic+json": {
              "type": "dataframe"
            }
          },
          "metadata": {},
          "execution_count": 248
        }
      ]
    },
    {
      "cell_type": "code",
      "source": [
        "# drop index number\n",
        "cares.drop(\"Indexno\", axis=1, inplace=True)"
      ],
      "metadata": {
        "id": "SacXwFmbzDTk"
      },
      "execution_count": 249,
      "outputs": []
    },
    {
      "cell_type": "code",
      "source": [
        "cares.shape"
      ],
      "metadata": {
        "colab": {
          "base_uri": "https://localhost:8080/"
        },
        "id": "AUGC0se2lul4",
        "outputId": "4057a1ce-5d84-49c3-a24d-bf56f8655420"
      },
      "execution_count": 250,
      "outputs": [
        {
          "output_type": "execute_result",
          "data": {
            "text/plain": [
              "(90785, 31)"
            ]
          },
          "metadata": {},
          "execution_count": 250
        }
      ]
    },
    {
      "cell_type": "code",
      "source": [
        "cares.describe()"
      ],
      "metadata": {
        "colab": {
          "base_uri": "https://localhost:8080/",
          "height": 317
        },
        "id": "H8Wp8VPbnAci",
        "outputId": "d8418125-e8a1-4a24-b1ac-eb573a3a424e"
      },
      "execution_count": 251,
      "outputs": [
        {
          "output_type": "execute_result",
          "data": {
            "text/plain": [
              "                AGE    RCRI score  PreopEGFRMDRD  \\\n",
              "count  90785.000000  63361.000000   79955.000000   \n",
              "mean      52.253225      0.322296      96.426155   \n",
              "std       17.087307      0.634789      33.954241   \n",
              "min       18.000000      0.000000       2.541026   \n",
              "25%       39.000000      0.000000      79.078715   \n",
              "50%       54.000000      0.000000      96.398561   \n",
              "75%       65.000000      1.000000     114.310169   \n",
              "max      103.000000      6.000000     671.298147   \n",
              "\n",
              "       DaysbetweenDeathandoperation  Preoptransfusionwithin30days  \\\n",
              "count                   5595.000000                  90785.000000   \n",
              "mean                     476.782127                      0.042672   \n",
              "std                      421.866740                      0.405840   \n",
              "min                        0.000000                      0.000000   \n",
              "25%                      121.000000                      0.000000   \n",
              "50%                      355.000000                      0.000000   \n",
              "75%                      746.000000                      0.000000   \n",
              "max                     1783.000000                     21.000000   \n",
              "\n",
              "            Intraop  Postopwithin30days  Transfusionintraandpostop  \n",
              "count  90785.000000        90785.000000               90785.000000  \n",
              "mean       0.056276            0.018946                   0.075222  \n",
              "std        0.230455            0.260728                   0.395623  \n",
              "min        0.000000            0.000000                   0.000000  \n",
              "25%        0.000000            0.000000                   0.000000  \n",
              "50%        0.000000            0.000000                   0.000000  \n",
              "75%        0.000000            0.000000                   0.000000  \n",
              "max        1.000000           23.000000                  24.000000  "
            ],
            "text/html": [
              "\n",
              "  <div id=\"df-693259d0-02d5-41ab-976a-42cfa884aec1\" class=\"colab-df-container\">\n",
              "    <div>\n",
              "<style scoped>\n",
              "    .dataframe tbody tr th:only-of-type {\n",
              "        vertical-align: middle;\n",
              "    }\n",
              "\n",
              "    .dataframe tbody tr th {\n",
              "        vertical-align: top;\n",
              "    }\n",
              "\n",
              "    .dataframe thead th {\n",
              "        text-align: right;\n",
              "    }\n",
              "</style>\n",
              "<table border=\"1\" class=\"dataframe\">\n",
              "  <thead>\n",
              "    <tr style=\"text-align: right;\">\n",
              "      <th></th>\n",
              "      <th>AGE</th>\n",
              "      <th>RCRI score</th>\n",
              "      <th>PreopEGFRMDRD</th>\n",
              "      <th>DaysbetweenDeathandoperation</th>\n",
              "      <th>Preoptransfusionwithin30days</th>\n",
              "      <th>Intraop</th>\n",
              "      <th>Postopwithin30days</th>\n",
              "      <th>Transfusionintraandpostop</th>\n",
              "    </tr>\n",
              "  </thead>\n",
              "  <tbody>\n",
              "    <tr>\n",
              "      <th>count</th>\n",
              "      <td>90785.000000</td>\n",
              "      <td>63361.000000</td>\n",
              "      <td>79955.000000</td>\n",
              "      <td>5595.000000</td>\n",
              "      <td>90785.000000</td>\n",
              "      <td>90785.000000</td>\n",
              "      <td>90785.000000</td>\n",
              "      <td>90785.000000</td>\n",
              "    </tr>\n",
              "    <tr>\n",
              "      <th>mean</th>\n",
              "      <td>52.253225</td>\n",
              "      <td>0.322296</td>\n",
              "      <td>96.426155</td>\n",
              "      <td>476.782127</td>\n",
              "      <td>0.042672</td>\n",
              "      <td>0.056276</td>\n",
              "      <td>0.018946</td>\n",
              "      <td>0.075222</td>\n",
              "    </tr>\n",
              "    <tr>\n",
              "      <th>std</th>\n",
              "      <td>17.087307</td>\n",
              "      <td>0.634789</td>\n",
              "      <td>33.954241</td>\n",
              "      <td>421.866740</td>\n",
              "      <td>0.405840</td>\n",
              "      <td>0.230455</td>\n",
              "      <td>0.260728</td>\n",
              "      <td>0.395623</td>\n",
              "    </tr>\n",
              "    <tr>\n",
              "      <th>min</th>\n",
              "      <td>18.000000</td>\n",
              "      <td>0.000000</td>\n",
              "      <td>2.541026</td>\n",
              "      <td>0.000000</td>\n",
              "      <td>0.000000</td>\n",
              "      <td>0.000000</td>\n",
              "      <td>0.000000</td>\n",
              "      <td>0.000000</td>\n",
              "    </tr>\n",
              "    <tr>\n",
              "      <th>25%</th>\n",
              "      <td>39.000000</td>\n",
              "      <td>0.000000</td>\n",
              "      <td>79.078715</td>\n",
              "      <td>121.000000</td>\n",
              "      <td>0.000000</td>\n",
              "      <td>0.000000</td>\n",
              "      <td>0.000000</td>\n",
              "      <td>0.000000</td>\n",
              "    </tr>\n",
              "    <tr>\n",
              "      <th>50%</th>\n",
              "      <td>54.000000</td>\n",
              "      <td>0.000000</td>\n",
              "      <td>96.398561</td>\n",
              "      <td>355.000000</td>\n",
              "      <td>0.000000</td>\n",
              "      <td>0.000000</td>\n",
              "      <td>0.000000</td>\n",
              "      <td>0.000000</td>\n",
              "    </tr>\n",
              "    <tr>\n",
              "      <th>75%</th>\n",
              "      <td>65.000000</td>\n",
              "      <td>1.000000</td>\n",
              "      <td>114.310169</td>\n",
              "      <td>746.000000</td>\n",
              "      <td>0.000000</td>\n",
              "      <td>0.000000</td>\n",
              "      <td>0.000000</td>\n",
              "      <td>0.000000</td>\n",
              "    </tr>\n",
              "    <tr>\n",
              "      <th>max</th>\n",
              "      <td>103.000000</td>\n",
              "      <td>6.000000</td>\n",
              "      <td>671.298147</td>\n",
              "      <td>1783.000000</td>\n",
              "      <td>21.000000</td>\n",
              "      <td>1.000000</td>\n",
              "      <td>23.000000</td>\n",
              "      <td>24.000000</td>\n",
              "    </tr>\n",
              "  </tbody>\n",
              "</table>\n",
              "</div>\n",
              "    <div class=\"colab-df-buttons\">\n",
              "\n",
              "  <div class=\"colab-df-container\">\n",
              "    <button class=\"colab-df-convert\" onclick=\"convertToInteractive('df-693259d0-02d5-41ab-976a-42cfa884aec1')\"\n",
              "            title=\"Convert this dataframe to an interactive table.\"\n",
              "            style=\"display:none;\">\n",
              "\n",
              "  <svg xmlns=\"http://www.w3.org/2000/svg\" height=\"24px\" viewBox=\"0 -960 960 960\">\n",
              "    <path d=\"M120-120v-720h720v720H120Zm60-500h600v-160H180v160Zm220 220h160v-160H400v160Zm0 220h160v-160H400v160ZM180-400h160v-160H180v160Zm440 0h160v-160H620v160ZM180-180h160v-160H180v160Zm440 0h160v-160H620v160Z\"/>\n",
              "  </svg>\n",
              "    </button>\n",
              "\n",
              "  <style>\n",
              "    .colab-df-container {\n",
              "      display:flex;\n",
              "      gap: 12px;\n",
              "    }\n",
              "\n",
              "    .colab-df-convert {\n",
              "      background-color: #E8F0FE;\n",
              "      border: none;\n",
              "      border-radius: 50%;\n",
              "      cursor: pointer;\n",
              "      display: none;\n",
              "      fill: #1967D2;\n",
              "      height: 32px;\n",
              "      padding: 0 0 0 0;\n",
              "      width: 32px;\n",
              "    }\n",
              "\n",
              "    .colab-df-convert:hover {\n",
              "      background-color: #E2EBFA;\n",
              "      box-shadow: 0px 1px 2px rgba(60, 64, 67, 0.3), 0px 1px 3px 1px rgba(60, 64, 67, 0.15);\n",
              "      fill: #174EA6;\n",
              "    }\n",
              "\n",
              "    .colab-df-buttons div {\n",
              "      margin-bottom: 4px;\n",
              "    }\n",
              "\n",
              "    [theme=dark] .colab-df-convert {\n",
              "      background-color: #3B4455;\n",
              "      fill: #D2E3FC;\n",
              "    }\n",
              "\n",
              "    [theme=dark] .colab-df-convert:hover {\n",
              "      background-color: #434B5C;\n",
              "      box-shadow: 0px 1px 3px 1px rgba(0, 0, 0, 0.15);\n",
              "      filter: drop-shadow(0px 1px 2px rgba(0, 0, 0, 0.3));\n",
              "      fill: #FFFFFF;\n",
              "    }\n",
              "  </style>\n",
              "\n",
              "    <script>\n",
              "      const buttonEl =\n",
              "        document.querySelector('#df-693259d0-02d5-41ab-976a-42cfa884aec1 button.colab-df-convert');\n",
              "      buttonEl.style.display =\n",
              "        google.colab.kernel.accessAllowed ? 'block' : 'none';\n",
              "\n",
              "      async function convertToInteractive(key) {\n",
              "        const element = document.querySelector('#df-693259d0-02d5-41ab-976a-42cfa884aec1');\n",
              "        const dataTable =\n",
              "          await google.colab.kernel.invokeFunction('convertToInteractive',\n",
              "                                                    [key], {});\n",
              "        if (!dataTable) return;\n",
              "\n",
              "        const docLinkHtml = 'Like what you see? Visit the ' +\n",
              "          '<a target=\"_blank\" href=https://colab.research.google.com/notebooks/data_table.ipynb>data table notebook</a>'\n",
              "          + ' to learn more about interactive tables.';\n",
              "        element.innerHTML = '';\n",
              "        dataTable['output_type'] = 'display_data';\n",
              "        await google.colab.output.renderOutput(dataTable, element);\n",
              "        const docLink = document.createElement('div');\n",
              "        docLink.innerHTML = docLinkHtml;\n",
              "        element.appendChild(docLink);\n",
              "      }\n",
              "    </script>\n",
              "  </div>\n",
              "\n",
              "\n",
              "<div id=\"df-6d5ed06e-6289-476f-87f7-957e45158183\">\n",
              "  <button class=\"colab-df-quickchart\" onclick=\"quickchart('df-6d5ed06e-6289-476f-87f7-957e45158183')\"\n",
              "            title=\"Suggest charts\"\n",
              "            style=\"display:none;\">\n",
              "\n",
              "<svg xmlns=\"http://www.w3.org/2000/svg\" height=\"24px\"viewBox=\"0 0 24 24\"\n",
              "     width=\"24px\">\n",
              "    <g>\n",
              "        <path d=\"M19 3H5c-1.1 0-2 .9-2 2v14c0 1.1.9 2 2 2h14c1.1 0 2-.9 2-2V5c0-1.1-.9-2-2-2zM9 17H7v-7h2v7zm4 0h-2V7h2v10zm4 0h-2v-4h2v4z\"/>\n",
              "    </g>\n",
              "</svg>\n",
              "  </button>\n",
              "\n",
              "<style>\n",
              "  .colab-df-quickchart {\n",
              "      --bg-color: #E8F0FE;\n",
              "      --fill-color: #1967D2;\n",
              "      --hover-bg-color: #E2EBFA;\n",
              "      --hover-fill-color: #174EA6;\n",
              "      --disabled-fill-color: #AAA;\n",
              "      --disabled-bg-color: #DDD;\n",
              "  }\n",
              "\n",
              "  [theme=dark] .colab-df-quickchart {\n",
              "      --bg-color: #3B4455;\n",
              "      --fill-color: #D2E3FC;\n",
              "      --hover-bg-color: #434B5C;\n",
              "      --hover-fill-color: #FFFFFF;\n",
              "      --disabled-bg-color: #3B4455;\n",
              "      --disabled-fill-color: #666;\n",
              "  }\n",
              "\n",
              "  .colab-df-quickchart {\n",
              "    background-color: var(--bg-color);\n",
              "    border: none;\n",
              "    border-radius: 50%;\n",
              "    cursor: pointer;\n",
              "    display: none;\n",
              "    fill: var(--fill-color);\n",
              "    height: 32px;\n",
              "    padding: 0;\n",
              "    width: 32px;\n",
              "  }\n",
              "\n",
              "  .colab-df-quickchart:hover {\n",
              "    background-color: var(--hover-bg-color);\n",
              "    box-shadow: 0 1px 2px rgba(60, 64, 67, 0.3), 0 1px 3px 1px rgba(60, 64, 67, 0.15);\n",
              "    fill: var(--button-hover-fill-color);\n",
              "  }\n",
              "\n",
              "  .colab-df-quickchart-complete:disabled,\n",
              "  .colab-df-quickchart-complete:disabled:hover {\n",
              "    background-color: var(--disabled-bg-color);\n",
              "    fill: var(--disabled-fill-color);\n",
              "    box-shadow: none;\n",
              "  }\n",
              "\n",
              "  .colab-df-spinner {\n",
              "    border: 2px solid var(--fill-color);\n",
              "    border-color: transparent;\n",
              "    border-bottom-color: var(--fill-color);\n",
              "    animation:\n",
              "      spin 1s steps(1) infinite;\n",
              "  }\n",
              "\n",
              "  @keyframes spin {\n",
              "    0% {\n",
              "      border-color: transparent;\n",
              "      border-bottom-color: var(--fill-color);\n",
              "      border-left-color: var(--fill-color);\n",
              "    }\n",
              "    20% {\n",
              "      border-color: transparent;\n",
              "      border-left-color: var(--fill-color);\n",
              "      border-top-color: var(--fill-color);\n",
              "    }\n",
              "    30% {\n",
              "      border-color: transparent;\n",
              "      border-left-color: var(--fill-color);\n",
              "      border-top-color: var(--fill-color);\n",
              "      border-right-color: var(--fill-color);\n",
              "    }\n",
              "    40% {\n",
              "      border-color: transparent;\n",
              "      border-right-color: var(--fill-color);\n",
              "      border-top-color: var(--fill-color);\n",
              "    }\n",
              "    60% {\n",
              "      border-color: transparent;\n",
              "      border-right-color: var(--fill-color);\n",
              "    }\n",
              "    80% {\n",
              "      border-color: transparent;\n",
              "      border-right-color: var(--fill-color);\n",
              "      border-bottom-color: var(--fill-color);\n",
              "    }\n",
              "    90% {\n",
              "      border-color: transparent;\n",
              "      border-bottom-color: var(--fill-color);\n",
              "    }\n",
              "  }\n",
              "</style>\n",
              "\n",
              "  <script>\n",
              "    async function quickchart(key) {\n",
              "      const quickchartButtonEl =\n",
              "        document.querySelector('#' + key + ' button');\n",
              "      quickchartButtonEl.disabled = true;  // To prevent multiple clicks.\n",
              "      quickchartButtonEl.classList.add('colab-df-spinner');\n",
              "      try {\n",
              "        const charts = await google.colab.kernel.invokeFunction(\n",
              "            'suggestCharts', [key], {});\n",
              "      } catch (error) {\n",
              "        console.error('Error during call to suggestCharts:', error);\n",
              "      }\n",
              "      quickchartButtonEl.classList.remove('colab-df-spinner');\n",
              "      quickchartButtonEl.classList.add('colab-df-quickchart-complete');\n",
              "    }\n",
              "    (() => {\n",
              "      let quickchartButtonEl =\n",
              "        document.querySelector('#df-6d5ed06e-6289-476f-87f7-957e45158183 button');\n",
              "      quickchartButtonEl.style.display =\n",
              "        google.colab.kernel.accessAllowed ? 'block' : 'none';\n",
              "    })();\n",
              "  </script>\n",
              "</div>\n",
              "\n",
              "    </div>\n",
              "  </div>\n"
            ],
            "application/vnd.google.colaboratory.intrinsic+json": {
              "type": "dataframe",
              "summary": "{\n  \"name\": \"cares\",\n  \"rows\": 8,\n  \"fields\": [\n    {\n      \"column\": \"AGE\",\n      \"properties\": {\n        \"dtype\": \"number\",\n        \"std\": 32079.76247420839,\n        \"min\": 17.087307303283396,\n        \"max\": 90785.0,\n        \"num_unique_values\": 8,\n        \"samples\": [\n          52.253224651649504,\n          54.0,\n          90785.0\n        ],\n        \"semantic_type\": \"\",\n        \"description\": \"\"\n      }\n    },\n    {\n      \"column\": \"RCRI score\",\n      \"properties\": {\n        \"dtype\": \"number\",\n        \"std\": 22401.094578628607,\n        \"min\": 0.0,\n        \"max\": 63361.0,\n        \"num_unique_values\": 6,\n        \"samples\": [\n          63361.0,\n          0.32229604962042896,\n          6.0\n        ],\n        \"semantic_type\": \"\",\n        \"description\": \"\"\n      }\n    },\n    {\n      \"column\": \"PreopEGFRMDRD\",\n      \"properties\": {\n        \"dtype\": \"number\",\n        \"std\": 28213.912586947295,\n        \"min\": 2.541025589637244,\n        \"max\": 79955.0,\n        \"num_unique_values\": 8,\n        \"samples\": [\n          96.42615515896141,\n          96.39856108377884,\n          79955.0\n        ],\n        \"semantic_type\": \"\",\n        \"description\": \"\"\n      }\n    },\n    {\n      \"column\": \"DaysbetweenDeathandoperation\",\n      \"properties\": {\n        \"dtype\": \"number\",\n        \"std\": 1863.4663343960676,\n        \"min\": 0.0,\n        \"max\": 5595.0,\n        \"num_unique_values\": 8,\n        \"samples\": [\n          476.782126899017,\n          355.0,\n          5595.0\n        ],\n        \"semantic_type\": \"\",\n        \"description\": \"\"\n      }\n    },\n    {\n      \"column\": \"Preoptransfusionwithin30days\",\n      \"properties\": {\n        \"dtype\": \"number\",\n        \"std\": 32096.26208708052,\n        \"min\": 0.0,\n        \"max\": 90785.0,\n        \"num_unique_values\": 5,\n        \"samples\": [\n          0.042672247617998565,\n          21.0,\n          0.4058401170066775\n        ],\n        \"semantic_type\": \"\",\n        \"description\": \"\"\n      }\n    },\n    {\n      \"column\": \"Intraop\",\n      \"properties\": {\n        \"dtype\": \"number\",\n        \"std\": 32097.279577122197,\n        \"min\": 0.0,\n        \"max\": 90785.0,\n        \"num_unique_values\": 5,\n        \"samples\": [\n          0.056275816489508176,\n          1.0,\n          0.23045484149882636\n        ],\n        \"semantic_type\": \"\",\n        \"description\": \"\"\n      }\n    },\n    {\n      \"column\": \"Postopwithin30days\",\n      \"properties\": {\n        \"dtype\": \"number\",\n        \"std\": 32096.16976904353,\n        \"min\": 0.0,\n        \"max\": 90785.0,\n        \"num_unique_values\": 5,\n        \"samples\": [\n          0.01894586110040205,\n          23.0,\n          0.26072798761719734\n        ],\n        \"semantic_type\": \"\",\n        \"description\": \"\"\n      }\n    },\n    {\n      \"column\": \"Transfusionintraandpostop\",\n      \"properties\": {\n        \"dtype\": \"number\",\n        \"std\": 32096.109692540605,\n        \"min\": 0.0,\n        \"max\": 90785.0,\n        \"num_unique_values\": 5,\n        \"samples\": [\n          0.07522167758991023,\n          24.0,\n          0.3956232946654272\n        ],\n        \"semantic_type\": \"\",\n        \"description\": \"\"\n      }\n    }\n  ]\n}"
            }
          },
          "metadata": {},
          "execution_count": 251
        }
      ]
    },
    {
      "cell_type": "code",
      "source": [
        "cares.isna().describe()"
      ],
      "metadata": {
        "colab": {
          "base_uri": "https://localhost:8080/",
          "height": 239
        },
        "id": "JS89x-I-nCvM",
        "outputId": "52f79385-3b76-4970-ef05-eb66f7a4879d"
      },
      "execution_count": 252,
      "outputs": [
        {
          "output_type": "execute_result",
          "data": {
            "text/plain": [
              "          AGE GENDER RCRI score Anemia category PreopEGFRMDRD  \\\n",
              "count   90785  90785      90785           90785         90785   \n",
              "unique      1      1          2               2             2   \n",
              "top     False  False      False           False         False   \n",
              "freq    90785  90785      63361           86747         79955   \n",
              "\n",
              "       GradeofKidneydisease DaysbetweenDeathandoperation @30daymortality  \\\n",
              "count                 90785                        90785           90785   \n",
              "unique                    1                            2               1   \n",
              "top                   False                         True           False   \n",
              "freq                  90785                        85190           90785   \n",
              "\n",
              "       Preoptransfusionwithin30days Intraop  ... CVARCRICategory  \\\n",
              "count                         90785   90785  ...           90785   \n",
              "unique                            1       1  ...               1   \n",
              "top                           False   False  ...           False   \n",
              "freq                          90785   90785  ...           90785   \n",
              "\n",
              "       IHDRCRICategory CHFRCRICategory DMinsulinRCRICategory  \\\n",
              "count            90785           90785                 90785   \n",
              "unique               1               1                     1   \n",
              "top              False           False                 False   \n",
              "freq             90785           90785                 90785   \n",
              "\n",
              "       CreatinineRCRICategory GradeofKidneyCategory Anemiacategorybinned  \\\n",
              "count                   90785                 90785                90785   \n",
              "unique                      1                     1                    2   \n",
              "top                     False                 False                 True   \n",
              "freq                    90785                 90785                62878   \n",
              "\n",
              "       RDW15.7 ASAcategorybinned ICUAdmgt24h  \n",
              "count    90785             90785       90785  \n",
              "unique       1                 1           1  \n",
              "top      False             False       False  \n",
              "freq     90785             90785       90785  \n",
              "\n",
              "[4 rows x 31 columns]"
            ],
            "text/html": [
              "\n",
              "  <div id=\"df-7be914c4-7fbd-4871-a37d-4883303893e1\" class=\"colab-df-container\">\n",
              "    <div>\n",
              "<style scoped>\n",
              "    .dataframe tbody tr th:only-of-type {\n",
              "        vertical-align: middle;\n",
              "    }\n",
              "\n",
              "    .dataframe tbody tr th {\n",
              "        vertical-align: top;\n",
              "    }\n",
              "\n",
              "    .dataframe thead th {\n",
              "        text-align: right;\n",
              "    }\n",
              "</style>\n",
              "<table border=\"1\" class=\"dataframe\">\n",
              "  <thead>\n",
              "    <tr style=\"text-align: right;\">\n",
              "      <th></th>\n",
              "      <th>AGE</th>\n",
              "      <th>GENDER</th>\n",
              "      <th>RCRI score</th>\n",
              "      <th>Anemia category</th>\n",
              "      <th>PreopEGFRMDRD</th>\n",
              "      <th>GradeofKidneydisease</th>\n",
              "      <th>DaysbetweenDeathandoperation</th>\n",
              "      <th>@30daymortality</th>\n",
              "      <th>Preoptransfusionwithin30days</th>\n",
              "      <th>Intraop</th>\n",
              "      <th>...</th>\n",
              "      <th>CVARCRICategory</th>\n",
              "      <th>IHDRCRICategory</th>\n",
              "      <th>CHFRCRICategory</th>\n",
              "      <th>DMinsulinRCRICategory</th>\n",
              "      <th>CreatinineRCRICategory</th>\n",
              "      <th>GradeofKidneyCategory</th>\n",
              "      <th>Anemiacategorybinned</th>\n",
              "      <th>RDW15.7</th>\n",
              "      <th>ASAcategorybinned</th>\n",
              "      <th>ICUAdmgt24h</th>\n",
              "    </tr>\n",
              "  </thead>\n",
              "  <tbody>\n",
              "    <tr>\n",
              "      <th>count</th>\n",
              "      <td>90785</td>\n",
              "      <td>90785</td>\n",
              "      <td>90785</td>\n",
              "      <td>90785</td>\n",
              "      <td>90785</td>\n",
              "      <td>90785</td>\n",
              "      <td>90785</td>\n",
              "      <td>90785</td>\n",
              "      <td>90785</td>\n",
              "      <td>90785</td>\n",
              "      <td>...</td>\n",
              "      <td>90785</td>\n",
              "      <td>90785</td>\n",
              "      <td>90785</td>\n",
              "      <td>90785</td>\n",
              "      <td>90785</td>\n",
              "      <td>90785</td>\n",
              "      <td>90785</td>\n",
              "      <td>90785</td>\n",
              "      <td>90785</td>\n",
              "      <td>90785</td>\n",
              "    </tr>\n",
              "    <tr>\n",
              "      <th>unique</th>\n",
              "      <td>1</td>\n",
              "      <td>1</td>\n",
              "      <td>2</td>\n",
              "      <td>2</td>\n",
              "      <td>2</td>\n",
              "      <td>1</td>\n",
              "      <td>2</td>\n",
              "      <td>1</td>\n",
              "      <td>1</td>\n",
              "      <td>1</td>\n",
              "      <td>...</td>\n",
              "      <td>1</td>\n",
              "      <td>1</td>\n",
              "      <td>1</td>\n",
              "      <td>1</td>\n",
              "      <td>1</td>\n",
              "      <td>1</td>\n",
              "      <td>2</td>\n",
              "      <td>1</td>\n",
              "      <td>1</td>\n",
              "      <td>1</td>\n",
              "    </tr>\n",
              "    <tr>\n",
              "      <th>top</th>\n",
              "      <td>False</td>\n",
              "      <td>False</td>\n",
              "      <td>False</td>\n",
              "      <td>False</td>\n",
              "      <td>False</td>\n",
              "      <td>False</td>\n",
              "      <td>True</td>\n",
              "      <td>False</td>\n",
              "      <td>False</td>\n",
              "      <td>False</td>\n",
              "      <td>...</td>\n",
              "      <td>False</td>\n",
              "      <td>False</td>\n",
              "      <td>False</td>\n",
              "      <td>False</td>\n",
              "      <td>False</td>\n",
              "      <td>False</td>\n",
              "      <td>True</td>\n",
              "      <td>False</td>\n",
              "      <td>False</td>\n",
              "      <td>False</td>\n",
              "    </tr>\n",
              "    <tr>\n",
              "      <th>freq</th>\n",
              "      <td>90785</td>\n",
              "      <td>90785</td>\n",
              "      <td>63361</td>\n",
              "      <td>86747</td>\n",
              "      <td>79955</td>\n",
              "      <td>90785</td>\n",
              "      <td>85190</td>\n",
              "      <td>90785</td>\n",
              "      <td>90785</td>\n",
              "      <td>90785</td>\n",
              "      <td>...</td>\n",
              "      <td>90785</td>\n",
              "      <td>90785</td>\n",
              "      <td>90785</td>\n",
              "      <td>90785</td>\n",
              "      <td>90785</td>\n",
              "      <td>90785</td>\n",
              "      <td>62878</td>\n",
              "      <td>90785</td>\n",
              "      <td>90785</td>\n",
              "      <td>90785</td>\n",
              "    </tr>\n",
              "  </tbody>\n",
              "</table>\n",
              "<p>4 rows × 31 columns</p>\n",
              "</div>\n",
              "    <div class=\"colab-df-buttons\">\n",
              "\n",
              "  <div class=\"colab-df-container\">\n",
              "    <button class=\"colab-df-convert\" onclick=\"convertToInteractive('df-7be914c4-7fbd-4871-a37d-4883303893e1')\"\n",
              "            title=\"Convert this dataframe to an interactive table.\"\n",
              "            style=\"display:none;\">\n",
              "\n",
              "  <svg xmlns=\"http://www.w3.org/2000/svg\" height=\"24px\" viewBox=\"0 -960 960 960\">\n",
              "    <path d=\"M120-120v-720h720v720H120Zm60-500h600v-160H180v160Zm220 220h160v-160H400v160Zm0 220h160v-160H400v160ZM180-400h160v-160H180v160Zm440 0h160v-160H620v160ZM180-180h160v-160H180v160Zm440 0h160v-160H620v160Z\"/>\n",
              "  </svg>\n",
              "    </button>\n",
              "\n",
              "  <style>\n",
              "    .colab-df-container {\n",
              "      display:flex;\n",
              "      gap: 12px;\n",
              "    }\n",
              "\n",
              "    .colab-df-convert {\n",
              "      background-color: #E8F0FE;\n",
              "      border: none;\n",
              "      border-radius: 50%;\n",
              "      cursor: pointer;\n",
              "      display: none;\n",
              "      fill: #1967D2;\n",
              "      height: 32px;\n",
              "      padding: 0 0 0 0;\n",
              "      width: 32px;\n",
              "    }\n",
              "\n",
              "    .colab-df-convert:hover {\n",
              "      background-color: #E2EBFA;\n",
              "      box-shadow: 0px 1px 2px rgba(60, 64, 67, 0.3), 0px 1px 3px 1px rgba(60, 64, 67, 0.15);\n",
              "      fill: #174EA6;\n",
              "    }\n",
              "\n",
              "    .colab-df-buttons div {\n",
              "      margin-bottom: 4px;\n",
              "    }\n",
              "\n",
              "    [theme=dark] .colab-df-convert {\n",
              "      background-color: #3B4455;\n",
              "      fill: #D2E3FC;\n",
              "    }\n",
              "\n",
              "    [theme=dark] .colab-df-convert:hover {\n",
              "      background-color: #434B5C;\n",
              "      box-shadow: 0px 1px 3px 1px rgba(0, 0, 0, 0.15);\n",
              "      filter: drop-shadow(0px 1px 2px rgba(0, 0, 0, 0.3));\n",
              "      fill: #FFFFFF;\n",
              "    }\n",
              "  </style>\n",
              "\n",
              "    <script>\n",
              "      const buttonEl =\n",
              "        document.querySelector('#df-7be914c4-7fbd-4871-a37d-4883303893e1 button.colab-df-convert');\n",
              "      buttonEl.style.display =\n",
              "        google.colab.kernel.accessAllowed ? 'block' : 'none';\n",
              "\n",
              "      async function convertToInteractive(key) {\n",
              "        const element = document.querySelector('#df-7be914c4-7fbd-4871-a37d-4883303893e1');\n",
              "        const dataTable =\n",
              "          await google.colab.kernel.invokeFunction('convertToInteractive',\n",
              "                                                    [key], {});\n",
              "        if (!dataTable) return;\n",
              "\n",
              "        const docLinkHtml = 'Like what you see? Visit the ' +\n",
              "          '<a target=\"_blank\" href=https://colab.research.google.com/notebooks/data_table.ipynb>data table notebook</a>'\n",
              "          + ' to learn more about interactive tables.';\n",
              "        element.innerHTML = '';\n",
              "        dataTable['output_type'] = 'display_data';\n",
              "        await google.colab.output.renderOutput(dataTable, element);\n",
              "        const docLink = document.createElement('div');\n",
              "        docLink.innerHTML = docLinkHtml;\n",
              "        element.appendChild(docLink);\n",
              "      }\n",
              "    </script>\n",
              "  </div>\n",
              "\n",
              "\n",
              "<div id=\"df-655dcd01-8cb4-4f55-ad5b-97bdad72ec06\">\n",
              "  <button class=\"colab-df-quickchart\" onclick=\"quickchart('df-655dcd01-8cb4-4f55-ad5b-97bdad72ec06')\"\n",
              "            title=\"Suggest charts\"\n",
              "            style=\"display:none;\">\n",
              "\n",
              "<svg xmlns=\"http://www.w3.org/2000/svg\" height=\"24px\"viewBox=\"0 0 24 24\"\n",
              "     width=\"24px\">\n",
              "    <g>\n",
              "        <path d=\"M19 3H5c-1.1 0-2 .9-2 2v14c0 1.1.9 2 2 2h14c1.1 0 2-.9 2-2V5c0-1.1-.9-2-2-2zM9 17H7v-7h2v7zm4 0h-2V7h2v10zm4 0h-2v-4h2v4z\"/>\n",
              "    </g>\n",
              "</svg>\n",
              "  </button>\n",
              "\n",
              "<style>\n",
              "  .colab-df-quickchart {\n",
              "      --bg-color: #E8F0FE;\n",
              "      --fill-color: #1967D2;\n",
              "      --hover-bg-color: #E2EBFA;\n",
              "      --hover-fill-color: #174EA6;\n",
              "      --disabled-fill-color: #AAA;\n",
              "      --disabled-bg-color: #DDD;\n",
              "  }\n",
              "\n",
              "  [theme=dark] .colab-df-quickchart {\n",
              "      --bg-color: #3B4455;\n",
              "      --fill-color: #D2E3FC;\n",
              "      --hover-bg-color: #434B5C;\n",
              "      --hover-fill-color: #FFFFFF;\n",
              "      --disabled-bg-color: #3B4455;\n",
              "      --disabled-fill-color: #666;\n",
              "  }\n",
              "\n",
              "  .colab-df-quickchart {\n",
              "    background-color: var(--bg-color);\n",
              "    border: none;\n",
              "    border-radius: 50%;\n",
              "    cursor: pointer;\n",
              "    display: none;\n",
              "    fill: var(--fill-color);\n",
              "    height: 32px;\n",
              "    padding: 0;\n",
              "    width: 32px;\n",
              "  }\n",
              "\n",
              "  .colab-df-quickchart:hover {\n",
              "    background-color: var(--hover-bg-color);\n",
              "    box-shadow: 0 1px 2px rgba(60, 64, 67, 0.3), 0 1px 3px 1px rgba(60, 64, 67, 0.15);\n",
              "    fill: var(--button-hover-fill-color);\n",
              "  }\n",
              "\n",
              "  .colab-df-quickchart-complete:disabled,\n",
              "  .colab-df-quickchart-complete:disabled:hover {\n",
              "    background-color: var(--disabled-bg-color);\n",
              "    fill: var(--disabled-fill-color);\n",
              "    box-shadow: none;\n",
              "  }\n",
              "\n",
              "  .colab-df-spinner {\n",
              "    border: 2px solid var(--fill-color);\n",
              "    border-color: transparent;\n",
              "    border-bottom-color: var(--fill-color);\n",
              "    animation:\n",
              "      spin 1s steps(1) infinite;\n",
              "  }\n",
              "\n",
              "  @keyframes spin {\n",
              "    0% {\n",
              "      border-color: transparent;\n",
              "      border-bottom-color: var(--fill-color);\n",
              "      border-left-color: var(--fill-color);\n",
              "    }\n",
              "    20% {\n",
              "      border-color: transparent;\n",
              "      border-left-color: var(--fill-color);\n",
              "      border-top-color: var(--fill-color);\n",
              "    }\n",
              "    30% {\n",
              "      border-color: transparent;\n",
              "      border-left-color: var(--fill-color);\n",
              "      border-top-color: var(--fill-color);\n",
              "      border-right-color: var(--fill-color);\n",
              "    }\n",
              "    40% {\n",
              "      border-color: transparent;\n",
              "      border-right-color: var(--fill-color);\n",
              "      border-top-color: var(--fill-color);\n",
              "    }\n",
              "    60% {\n",
              "      border-color: transparent;\n",
              "      border-right-color: var(--fill-color);\n",
              "    }\n",
              "    80% {\n",
              "      border-color: transparent;\n",
              "      border-right-color: var(--fill-color);\n",
              "      border-bottom-color: var(--fill-color);\n",
              "    }\n",
              "    90% {\n",
              "      border-color: transparent;\n",
              "      border-bottom-color: var(--fill-color);\n",
              "    }\n",
              "  }\n",
              "</style>\n",
              "\n",
              "  <script>\n",
              "    async function quickchart(key) {\n",
              "      const quickchartButtonEl =\n",
              "        document.querySelector('#' + key + ' button');\n",
              "      quickchartButtonEl.disabled = true;  // To prevent multiple clicks.\n",
              "      quickchartButtonEl.classList.add('colab-df-spinner');\n",
              "      try {\n",
              "        const charts = await google.colab.kernel.invokeFunction(\n",
              "            'suggestCharts', [key], {});\n",
              "      } catch (error) {\n",
              "        console.error('Error during call to suggestCharts:', error);\n",
              "      }\n",
              "      quickchartButtonEl.classList.remove('colab-df-spinner');\n",
              "      quickchartButtonEl.classList.add('colab-df-quickchart-complete');\n",
              "    }\n",
              "    (() => {\n",
              "      let quickchartButtonEl =\n",
              "        document.querySelector('#df-655dcd01-8cb4-4f55-ad5b-97bdad72ec06 button');\n",
              "      quickchartButtonEl.style.display =\n",
              "        google.colab.kernel.accessAllowed ? 'block' : 'none';\n",
              "    })();\n",
              "  </script>\n",
              "</div>\n",
              "\n",
              "    </div>\n",
              "  </div>\n"
            ],
            "application/vnd.google.colaboratory.intrinsic+json": {
              "type": "dataframe"
            }
          },
          "metadata": {},
          "execution_count": 252
        }
      ]
    },
    {
      "cell_type": "markdown",
      "source": [
        "Check Missing values\n",
        "\n",
        "**Note**: the paper got 79914 rows after cleaning missing values but we seem to cannot replicate this number"
      ],
      "metadata": {
        "id": "1OmETl4Llxkh"
      }
    },
    {
      "cell_type": "code",
      "source": [
        "for column_name in cares.columns:\n",
        "    print(cares[column_name].value_counts())\n",
        "    print(cares[column_name].isna().value_counts())\n",
        "    print()"
      ],
      "metadata": {
        "colab": {
          "base_uri": "https://localhost:8080/"
        },
        "id": "u-xoMCKCmRra",
        "outputId": "4b71b343-8de1-4cbc-8191-f8e005a6ce06"
      },
      "execution_count": 255,
      "outputs": [
        {
          "output_type": "stream",
          "name": "stdout",
          "text": [
            "AGE\n",
            "61.0     2104\n",
            "65.0     2103\n",
            "64.0     2033\n",
            "63.0     1999\n",
            "60.0     1989\n",
            "         ... \n",
            "99.0        4\n",
            "100.0       2\n",
            "102.0       1\n",
            "101.0       1\n",
            "103.0       1\n",
            "Name: count, Length: 86, dtype: int64\n",
            "AGE\n",
            "False    90785\n",
            "Name: count, dtype: int64\n",
            "\n",
            "GENDER\n",
            "FEMALE    48708\n",
            "MALE      42077\n",
            "Name: count, dtype: int64\n",
            "GENDER\n",
            "False    90785\n",
            "Name: count, dtype: int64\n",
            "\n",
            "RCRI score\n",
            "0.0    47385\n",
            "1.0    12653\n",
            "2.0     2441\n",
            "3.0      679\n",
            "4.0      168\n",
            "5.0       33\n",
            "6.0        2\n",
            "Name: count, dtype: int64\n",
            "RCRI score\n",
            "False    63361\n",
            "True     27424\n",
            "Name: count, dtype: int64\n",
            "\n",
            "Anemia category\n",
            "none        62878\n",
            "mild        13006\n",
            "moderate    10439\n",
            "severe        424\n",
            "Name: count, dtype: int64\n",
            "Anemia category\n",
            "False    86747\n",
            "True      4038\n",
            "Name: count, dtype: int64\n",
            "\n",
            "PreopEGFRMDRD\n",
            "104.452527    50\n",
            "105.027160    49\n",
            "104.657013    46\n",
            "111.268426    46\n",
            "94.305741     45\n",
            "              ..\n",
            "58.698060      1\n",
            "48.111542      1\n",
            "47.121433      1\n",
            "15.372082      1\n",
            "30.991084      1\n",
            "Name: count, Length: 14893, dtype: int64\n",
            "PreopEGFRMDRD\n",
            "False    79955\n",
            "True     10830\n",
            "Name: count, dtype: int64\n",
            "\n",
            "GradeofKidneydisease\n",
            "g1       47948\n",
            "G2       23635\n",
            "BLANK    10830\n",
            "G3a       3425\n",
            "G5        2059\n",
            "G3b       1689\n",
            "G4        1199\n",
            "Name: count, dtype: int64\n",
            "GradeofKidneydisease\n",
            "False    90785\n",
            "Name: count, dtype: int64\n",
            "\n",
            "DaysbetweenDeathandoperation\n",
            "1.0       33\n",
            "7.0       26\n",
            "4.0       24\n",
            "3.0       23\n",
            "6.0       23\n",
            "          ..\n",
            "1500.0     1\n",
            "1571.0     1\n",
            "906.0      1\n",
            "1466.0     1\n",
            "825.0      1\n",
            "Name: count, Length: 1408, dtype: int64\n",
            "DaysbetweenDeathandoperation\n",
            "True     85190\n",
            "False     5595\n",
            "Name: count, dtype: int64\n",
            "\n",
            "@30daymortality\n",
            "NO     90246\n",
            "YES      539\n",
            "Name: count, dtype: int64\n",
            "@30daymortality\n",
            "False    90785\n",
            "Name: count, dtype: int64\n",
            "\n",
            "Preoptransfusionwithin30days\n",
            "0.0     88905\n",
            "1.0      1017\n",
            "2.0       460\n",
            "3.0       182\n",
            "4.0        74\n",
            "5.0        47\n",
            "6.0        24\n",
            "7.0        23\n",
            "8.0        19\n",
            "11.0        8\n",
            "10.0        7\n",
            "9.0         6\n",
            "13.0        5\n",
            "14.0        4\n",
            "17.0        1\n",
            "12.0        1\n",
            "20.0        1\n",
            "21.0        1\n",
            "Name: count, dtype: int64\n",
            "Preoptransfusionwithin30days\n",
            "False    90785\n",
            "Name: count, dtype: int64\n",
            "\n",
            "Intraop\n",
            "0.0    85676\n",
            "1.0     5109\n",
            "Name: count, dtype: int64\n",
            "Intraop\n",
            "False    90785\n",
            "Name: count, dtype: int64\n",
            "\n",
            "Postopwithin30days\n",
            "0.0     89842\n",
            "1.0       608\n",
            "2.0       179\n",
            "3.0        62\n",
            "4.0        34\n",
            "5.0        23\n",
            "6.0        12\n",
            "7.0         9\n",
            "8.0         5\n",
            "12.0        3\n",
            "9.0         3\n",
            "15.0        2\n",
            "23.0        1\n",
            "16.0        1\n",
            "10.0        1\n",
            "Name: count, dtype: int64\n",
            "Postopwithin30days\n",
            "False    90785\n",
            "Name: count, dtype: int64\n",
            "\n",
            "Transfusionintraandpostop\n",
            "0.0     85664\n",
            "1.0      4187\n",
            "2.0       602\n",
            "3.0       176\n",
            "4.0        62\n",
            "5.0        34\n",
            "6.0        23\n",
            "7.0        12\n",
            "8.0         9\n",
            "9.0         5\n",
            "13.0        3\n",
            "10.0        3\n",
            "16.0        2\n",
            "24.0        1\n",
            "17.0        1\n",
            "11.0        1\n",
            "Name: count, dtype: int64\n",
            "Transfusionintraandpostop\n",
            "False    90785\n",
            "Name: count, dtype: int64\n",
            "\n",
            "AnaestypeCategory\n",
            "GA    76442\n",
            "RA    14343\n",
            "Name: count, dtype: int64\n",
            "AnaestypeCategory\n",
            "False    90785\n",
            "Name: count, dtype: int64\n",
            "\n",
            "PriorityCategory\n",
            "Elective     72331\n",
            "Emergency    18454\n",
            "Name: count, dtype: int64\n",
            "PriorityCategory\n",
            "False    90785\n",
            "Name: count, dtype: int64\n",
            "\n",
            "TransfusionIntraandpostopCategory\n",
            "0 units            85664\n",
            "1 unit              4187\n",
            "2 or more units      934\n",
            "Name: count, dtype: int64\n",
            "TransfusionIntraandpostopCategory\n",
            "False    90785\n",
            "Name: count, dtype: int64\n",
            "\n",
            "AGEcategory\n",
            "50-64    28227\n",
            "30-49    27078\n",
            "65-74    15837\n",
            "18-29    11052\n",
            "75-84     7256\n",
            ">=85      1335\n",
            "Name: count, dtype: int64\n",
            "AGEcategory\n",
            "False    90785\n",
            "Name: count, dtype: int64\n",
            "\n",
            "AGEcategoryOriginal\n",
            "50-69    37360\n",
            "30-49    27078\n",
            ">=70     15295\n",
            "18-29    11052\n",
            "Name: count, dtype: int64\n",
            "AGEcategoryOriginal\n",
            "False    90785\n",
            "Name: count, dtype: int64\n",
            "\n",
            "Mortality\n",
            "No death    85190\n",
            "Yes          5595\n",
            "Name: count, dtype: int64\n",
            "Mortality\n",
            "False    90785\n",
            "Name: count, dtype: int64\n",
            "\n",
            "thirtydaymortality\n",
            "No     90246\n",
            "Yes      539\n",
            "Name: count, dtype: int64\n",
            "thirtydaymortality\n",
            "False    90785\n",
            "Name: count, dtype: int64\n",
            "\n",
            "SurgRiskCategory\n",
            "Low         48049\n",
            "Moderate    39014\n",
            "High         3722\n",
            "Name: count, dtype: int64\n",
            "SurgRiskCategory\n",
            "False    90785\n",
            "Name: count, dtype: int64\n",
            "\n",
            "RaceCategory\n",
            "Chinese    64861\n",
            "Malay       8979\n",
            "Others      8927\n",
            "Indian      8012\n",
            "#NULL!         6\n",
            "Name: count, dtype: int64\n",
            "RaceCategory\n",
            "False    90785\n",
            "Name: count, dtype: int64\n",
            "\n",
            "CVARCRICategory\n",
            "no        60917\n",
            "#NULL!    28325\n",
            "yes        1543\n",
            "Name: count, dtype: int64\n",
            "CVARCRICategory\n",
            "False    90785\n",
            "Name: count, dtype: int64\n",
            "\n",
            "IHDRCRICategory\n",
            "no        57968\n",
            "#NULL!    28572\n",
            "yes        4245\n",
            "Name: count, dtype: int64\n",
            "IHDRCRICategory\n",
            "False    90785\n",
            "Name: count, dtype: int64\n",
            "\n",
            "CHFRCRICategory\n",
            "no        63739\n",
            "#NULL!    26259\n",
            "yes         787\n",
            "Name: count, dtype: int64\n",
            "CHFRCRICategory\n",
            "False    90785\n",
            "Name: count, dtype: int64\n",
            "\n",
            "DMinsulinRCRICategory\n",
            "no        61907\n",
            "#NULL!    26875\n",
            "yes        2003\n",
            "Name: count, dtype: int64\n",
            "DMinsulinRCRICategory\n",
            "False    90785\n",
            "Name: count, dtype: int64\n",
            "\n",
            "CreatinineRCRICategory\n",
            "no        72760\n",
            "#NULL!    15743\n",
            "yes        2282\n",
            "Name: count, dtype: int64\n",
            "CreatinineRCRICategory\n",
            "False    90785\n",
            "Name: count, dtype: int64\n",
            "\n",
            "GradeofKidneyCategory\n",
            "G1        47948\n",
            "G2        23635\n",
            "#NULL!    10830\n",
            "G3         5114\n",
            "G4-G5      3258\n",
            "Name: count, dtype: int64\n",
            "GradeofKidneyCategory\n",
            "False    90785\n",
            "Name: count, dtype: int64\n",
            "\n",
            "Anemiacategorybinned\n",
            "Mild               13006\n",
            "Moderate/Severe    10863\n",
            "#NULL!              4038\n",
            "Name: count, dtype: int64\n",
            "Anemiacategorybinned\n",
            "True     62878\n",
            "False    27907\n",
            "Name: count, dtype: int64\n",
            "\n",
            "RDW15.7\n",
            "<= 15.7    76069\n",
            ">15.7       8478\n",
            "#NULL!      6238\n",
            "Name: count, dtype: int64\n",
            "RDW15.7\n",
            "False    90785\n",
            "Name: count, dtype: int64\n",
            "\n",
            "ASAcategorybinned\n",
            "II        49435\n",
            "I         22047\n",
            "III       13405\n",
            "#NULL!     4819\n",
            "IV-VI      1079\n",
            "Name: count, dtype: int64\n",
            "ASAcategorybinned\n",
            "False    90785\n",
            "Name: count, dtype: int64\n",
            "\n",
            "ICUAdmgt24h\n",
            "no     89521\n",
            "yes     1264\n",
            "Name: count, dtype: int64\n",
            "ICUAdmgt24h\n",
            "False    90785\n",
            "Name: count, dtype: int64\n",
            "\n"
          ]
        }
      ]
    },
    {
      "cell_type": "code",
      "source": [
        "from ydata_profiling import ProfileReport"
      ],
      "metadata": {
        "id": "AZ3XzA7O0toL"
      },
      "execution_count": 256,
      "outputs": []
    },
    {
      "cell_type": "code",
      "source": [
        "# early profiling\n",
        "profile = ProfileReport(cares)\n",
        "profile.to_file(output_file='pre_processed_data_profile.html')"
      ],
      "metadata": {
        "colab": {
          "base_uri": "https://localhost:8080/",
          "height": 199,
          "referenced_widgets": [
            "77794420db284672af2ded3b8a8b38e3",
            "59de0090fb7b4327bf2524470e1578f5",
            "74db0955422848f2aff50a60477cd64a",
            "bca0582949074d9a8dd7c2c28dac3da9",
            "e818a751cd6243dbae768e47d13459bd",
            "8da4f69f31bd4e7d822e7b85acb810ed",
            "48db6317b87049cd81b45d72a781588f",
            "6e448f86b9a1438eb52ce8994f5faa6a",
            "abae6af1e9ef40a9bd6495f7d94c3443",
            "a54ec1f20de84e20a87c1be1bef9bf2a",
            "50861ea913b5491d980a37032fa20015",
            "e064a6394dc84b7aaf4aff2735c733cf",
            "d77bec0c7a2b4c1da18890785b0482d5",
            "daa300ea26ec400db2d009e51603211e",
            "9ad8806172da47fc81c100d4bfe8a63e",
            "61d627b96feb484dbb8bdc99cfdef579",
            "9f4957ebef38445fb5b4e92261d6ebb1",
            "743589d75bac44afb0b7c0e3f3767b4c",
            "7592fa68ad2949f2b1611726c4372228",
            "fabd100b6ec14f2d9d6ed488263c9d8a",
            "fd214eefe883408aa025f096ea3ac1c6",
            "30d9bf7e7b714c89bf0cc966f10ecee3",
            "2dbbaf38cbb842f18a5df4b5387ddc02",
            "348d84f1bf9549ed891355c8bc827c86",
            "16c9f5eae4804b0b8c787e0367215616",
            "7cfecd808bc34f3a8dbc51b934c07061",
            "cc065289e42f4b2cae582672e692a122",
            "22631c16750d42528d7dcade0d4c25aa",
            "f7ea95fadd7b440d837eaf247443912a",
            "a17b9045d4df49adb4df93f9f1d0917c",
            "895edce721244404aa3449ab4a63780c",
            "05d013afb5d24f7085a1a86cec3aceee",
            "6a4b95c58fec4fd1a8df6f8daa2c4690",
            "5e998505692646cd8dce1075cba75ffa",
            "5f906cd1c8bc4f4db6c4e3889ed1e799",
            "fb2e57ef3fad4ddc900c98b6e3369734",
            "0f039ac8fdf944a999bc31e9729a4c00",
            "9b42f6eca91a40c98e439fb60718a866",
            "12c999c0bbea4601babd4c431e337ee9",
            "7c11a399fb9d496483cc6de6d3ccdca9",
            "35326bb513374f999df29846dd3fa5c1",
            "9a3752586e9446c5ab5451866127feaa",
            "50d93249e6d3408da53378e05b4f93ef",
            "18d68fccd14640aa92b4636a1e876c8a"
          ]
        },
        "id": "49zBmePmz2I9",
        "outputId": "3780f636-d689-4037-d92b-01c8c67e1b7d"
      },
      "execution_count": 257,
      "outputs": [
        {
          "output_type": "stream",
          "name": "stderr",
          "text": [
            "/usr/local/lib/python3.10/dist-packages/ydata_profiling/profile_report.py:363: UserWarning: Try running command: 'pip install --upgrade Pillow' to avoid ValueError\n",
            "  warnings.warn(\n"
          ]
        },
        {
          "output_type": "display_data",
          "data": {
            "text/plain": [
              "Summarize dataset:   0%|          | 0/5 [00:00<?, ?it/s]"
            ],
            "application/vnd.jupyter.widget-view+json": {
              "version_major": 2,
              "version_minor": 0,
              "model_id": "77794420db284672af2ded3b8a8b38e3"
            }
          },
          "metadata": {}
        },
        {
          "output_type": "display_data",
          "data": {
            "text/plain": [
              "Generate report structure:   0%|          | 0/1 [00:00<?, ?it/s]"
            ],
            "application/vnd.jupyter.widget-view+json": {
              "version_major": 2,
              "version_minor": 0,
              "model_id": "e064a6394dc84b7aaf4aff2735c733cf"
            }
          },
          "metadata": {}
        },
        {
          "output_type": "display_data",
          "data": {
            "text/plain": [
              "Render HTML:   0%|          | 0/1 [00:00<?, ?it/s]"
            ],
            "application/vnd.jupyter.widget-view+json": {
              "version_major": 2,
              "version_minor": 0,
              "model_id": "2dbbaf38cbb842f18a5df4b5387ddc02"
            }
          },
          "metadata": {}
        },
        {
          "output_type": "display_data",
          "data": {
            "text/plain": [
              "Export report to file:   0%|          | 0/1 [00:00<?, ?it/s]"
            ],
            "application/vnd.jupyter.widget-view+json": {
              "version_major": 2,
              "version_minor": 0,
              "model_id": "5e998505692646cd8dce1075cba75ffa"
            }
          },
          "metadata": {}
        }
      ]
    },
    {
      "cell_type": "markdown",
      "source": [
        "## Data Cleaning"
      ],
      "metadata": {
        "id": "cBFC5RtA_6W_"
      }
    },
    {
      "cell_type": "markdown",
      "source": [
        "Drop the exact duplicates if exist"
      ],
      "metadata": {
        "id": "tt5yhQh-m4Rc"
      }
    },
    {
      "cell_type": "code",
      "source": [
        "# cares.drop_duplicates(inplace=True)"
      ],
      "metadata": {
        "id": "Bt9gCIr8m6Xj"
      },
      "execution_count": 253,
      "outputs": []
    },
    {
      "cell_type": "code",
      "source": [
        "cares.shape"
      ],
      "metadata": {
        "colab": {
          "base_uri": "https://localhost:8080/"
        },
        "id": "m_ncNP7ZnJZI",
        "outputId": "8397c436-19ba-4150-f967-7f8d632deceb"
      },
      "execution_count": 254,
      "outputs": [
        {
          "output_type": "execute_result",
          "data": {
            "text/plain": [
              "(90785, 31)"
            ]
          },
          "metadata": {},
          "execution_count": 254
        }
      ]
    },
    {
      "cell_type": "markdown",
      "source": [],
      "metadata": {
        "id": "sMNu7uvuM_6-"
      }
    },
    {
      "cell_type": "markdown",
      "source": [
        "### Labels\n",
        "- @30daymortality\n",
        "- thirtydaymortality\n",
        "- Mortality\n",
        "- DaysbetweenDeathandoperation\n",
        "- ICUAdmgt24h"
      ],
      "metadata": {
        "id": "2mMUWLdP_8Qr"
      }
    },
    {
      "cell_type": "markdown",
      "source": [
        "check if these 2 labels 30 days mortality are the same"
      ],
      "metadata": {
        "id": "0d2JXqX31U8w"
      }
    },
    {
      "cell_type": "code",
      "source": [
        "cares[\"@30daymortality\"] = cares[\"@30daymortality\"] == \"YES\"\n",
        "cares[\"thirtydaymortality\"] = cares[\"thirtydaymortality\"] == \"Yes\""
      ],
      "metadata": {
        "id": "RTew3GgZ1sYF"
      },
      "execution_count": 258,
      "outputs": []
    },
    {
      "cell_type": "code",
      "source": [
        "any(cares[\"@30daymortality\"] == cares[\"thirtydaymortality\"])"
      ],
      "metadata": {
        "colab": {
          "base_uri": "https://localhost:8080/"
        },
        "id": "K-82nfCY0uWk",
        "outputId": "06ffc11c-64b6-41f6-cc78-83c7ac8e554b"
      },
      "execution_count": 259,
      "outputs": [
        {
          "output_type": "execute_result",
          "data": {
            "text/plain": [
              "True"
            ]
          },
          "metadata": {},
          "execution_count": 259
        }
      ]
    },
    {
      "cell_type": "code",
      "source": [
        "cares.drop(\"@30daymortality\", axis=1, inplace=True)"
      ],
      "metadata": {
        "id": "1iXN3wcPASFd"
      },
      "execution_count": 260,
      "outputs": []
    },
    {
      "cell_type": "markdown",
      "source": [
        "^ Exactly the same. Can drop one"
      ],
      "metadata": {
        "id": "KJJrp-111f-q"
      }
    },
    {
      "cell_type": "code",
      "source": [
        "cares[\"DaysbetweenDeathandoperation\"].describe()"
      ],
      "metadata": {
        "colab": {
          "base_uri": "https://localhost:8080/"
        },
        "id": "haJWMdIG2CZs",
        "outputId": "2f98b3ba-1327-4fc5-da55-9d2bcb6ec6e3"
      },
      "execution_count": 261,
      "outputs": [
        {
          "output_type": "execute_result",
          "data": {
            "text/plain": [
              "count    5595.000000\n",
              "mean      476.782127\n",
              "std       421.866740\n",
              "min         0.000000\n",
              "25%       121.000000\n",
              "50%       355.000000\n",
              "75%       746.000000\n",
              "max      1783.000000\n",
              "Name: DaysbetweenDeathandoperation, dtype: float64"
            ]
          },
          "metadata": {},
          "execution_count": 261
        }
      ]
    },
    {
      "cell_type": "markdown",
      "source": [
        "^ from 2012-01-01 to 2016-10-31 is only 1765 days. But some days are more than this number"
      ],
      "metadata": {
        "id": "LGVMjGgl3bIR"
      }
    },
    {
      "cell_type": "code",
      "source": [
        "cares[\"ICUAdmgt24h\"].value_counts()"
      ],
      "metadata": {
        "colab": {
          "base_uri": "https://localhost:8080/"
        },
        "id": "Sv2S7hgkNcz3",
        "outputId": "3f045ee4-3631-4f21-de3b-4bb35d24d1c3"
      },
      "execution_count": 307,
      "outputs": [
        {
          "output_type": "execute_result",
          "data": {
            "text/plain": [
              "ICUAdmgt24h\n",
              "no     89521\n",
              "yes     1264\n",
              "Name: count, dtype: int64"
            ]
          },
          "metadata": {},
          "execution_count": 307
        }
      ]
    },
    {
      "cell_type": "code",
      "source": [
        "cares[\"ICUAdmgt24h\"].isna().value_counts()"
      ],
      "metadata": {
        "colab": {
          "base_uri": "https://localhost:8080/"
        },
        "id": "dVgx46sqNvI6",
        "outputId": "4c557acf-218a-4e77-bb5c-7a10d8d94f69"
      },
      "execution_count": 308,
      "outputs": [
        {
          "output_type": "execute_result",
          "data": {
            "text/plain": [
              "ICUAdmgt24h\n",
              "False    90785\n",
              "Name: count, dtype: int64"
            ]
          },
          "metadata": {},
          "execution_count": 308
        }
      ]
    },
    {
      "cell_type": "markdown",
      "source": [
        "### Features"
      ],
      "metadata": {
        "id": "20Y1A1aW7dKf"
      }
    },
    {
      "cell_type": "code",
      "source": [
        "cares.columns"
      ],
      "metadata": {
        "colab": {
          "base_uri": "https://localhost:8080/"
        },
        "id": "6oxNDQ-K8xip",
        "outputId": "e12c733a-c5ab-452c-c1cb-3bc1b0b7e3d8"
      },
      "execution_count": 262,
      "outputs": [
        {
          "output_type": "execute_result",
          "data": {
            "text/plain": [
              "Index(['AGE', 'GENDER', 'RCRI score', 'Anemia category', 'PreopEGFRMDRD',\n",
              "       'GradeofKidneydisease', 'DaysbetweenDeathandoperation',\n",
              "       'Preoptransfusionwithin30days', 'Intraop', 'Postopwithin30days',\n",
              "       'Transfusionintraandpostop', 'AnaestypeCategory', 'PriorityCategory',\n",
              "       'TransfusionIntraandpostopCategory', 'AGEcategory',\n",
              "       'AGEcategoryOriginal', 'Mortality', 'thirtydaymortality',\n",
              "       'SurgRiskCategory', 'RaceCategory', 'CVARCRICategory',\n",
              "       'IHDRCRICategory', 'CHFRCRICategory', 'DMinsulinRCRICategory',\n",
              "       'CreatinineRCRICategory', 'GradeofKidneyCategory',\n",
              "       'Anemiacategorybinned', 'RDW15.7', 'ASAcategorybinned', 'ICUAdmgt24h'],\n",
              "      dtype='object')"
            ]
          },
          "metadata": {},
          "execution_count": 262
        }
      ]
    },
    {
      "cell_type": "markdown",
      "source": [
        "#### Age\n",
        "make binning on age, making sure match with the paper. Use the same binning as the paper suggest"
      ],
      "metadata": {
        "id": "RfbO-qbF8QRj"
      }
    },
    {
      "cell_type": "code",
      "source": [
        "cares[\"AGE\"].describe()"
      ],
      "metadata": {
        "colab": {
          "base_uri": "https://localhost:8080/"
        },
        "id": "MkU5m94m7s5u",
        "outputId": "99ad6db0-d44f-47db-ea52-f6ad63d5b4b7"
      },
      "execution_count": 263,
      "outputs": [
        {
          "output_type": "execute_result",
          "data": {
            "text/plain": [
              "count    90785.000000\n",
              "mean        52.253225\n",
              "std         17.087307\n",
              "min         18.000000\n",
              "25%         39.000000\n",
              "50%         54.000000\n",
              "75%         65.000000\n",
              "max        103.000000\n",
              "Name: AGE, dtype: float64"
            ]
          },
          "metadata": {},
          "execution_count": 263
        }
      ]
    },
    {
      "cell_type": "code",
      "source": [
        "cares[\"AGEcategoryOriginal\"].value_counts().sort_index()"
      ],
      "metadata": {
        "colab": {
          "base_uri": "https://localhost:8080/"
        },
        "id": "T68JA9NI80eM",
        "outputId": "dfe722d2-07b6-4d24-bde3-c0957fff404d"
      },
      "execution_count": 264,
      "outputs": [
        {
          "output_type": "execute_result",
          "data": {
            "text/plain": [
              "AGEcategoryOriginal\n",
              "18-29    11052\n",
              "30-49    27078\n",
              "50-69    37360\n",
              ">=70     15295\n",
              "Name: count, dtype: int64"
            ]
          },
          "metadata": {},
          "execution_count": 264
        }
      ]
    },
    {
      "cell_type": "code",
      "source": [
        "cares[\"AGEcategory\"].value_counts().sort_index()"
      ],
      "metadata": {
        "colab": {
          "base_uri": "https://localhost:8080/"
        },
        "id": "0_G-w7B034Ni",
        "outputId": "f4d6f864-084b-4020-aeb5-70241b3d9d29"
      },
      "execution_count": 265,
      "outputs": [
        {
          "output_type": "execute_result",
          "data": {
            "text/plain": [
              "AGEcategory\n",
              "18-29    11052\n",
              "30-49    27078\n",
              "50-64    28227\n",
              "65-74    15837\n",
              "75-84     7256\n",
              ">=85      1335\n",
              "Name: count, dtype: int64"
            ]
          },
          "metadata": {},
          "execution_count": 265
        }
      ]
    },
    {
      "cell_type": "code",
      "source": [
        "cares.drop([\"AGE\", \"AGEcategoryOriginal\"], axis=1, inplace=True)"
      ],
      "metadata": {
        "id": "3pGfNpvi_vO6"
      },
      "execution_count": 266,
      "outputs": []
    },
    {
      "cell_type": "markdown",
      "source": [
        "#### Gender\n",
        "No need to do anything about gender"
      ],
      "metadata": {
        "id": "RYE9mKokAroy"
      }
    },
    {
      "cell_type": "code",
      "source": [
        "cares[\"GENDER\"].value_counts().sort_index()"
      ],
      "metadata": {
        "colab": {
          "base_uri": "https://localhost:8080/"
        },
        "id": "57ve8Pey8dXB",
        "outputId": "970314aa-218b-47aa-a966-3eed952d4cd7"
      },
      "execution_count": 267,
      "outputs": [
        {
          "output_type": "execute_result",
          "data": {
            "text/plain": [
              "GENDER\n",
              "FEMALE    48708\n",
              "MALE      42077\n",
              "Name: count, dtype: int64"
            ]
          },
          "metadata": {},
          "execution_count": 267
        }
      ]
    },
    {
      "cell_type": "markdown",
      "source": [
        "#### Race"
      ],
      "metadata": {
        "id": "7YfGcsSF9rye"
      }
    },
    {
      "cell_type": "code",
      "source": [
        "cares[\"RaceCategory\"].value_counts().sort_index()"
      ],
      "metadata": {
        "colab": {
          "base_uri": "https://localhost:8080/"
        },
        "id": "ZWU9gNBTAz3i",
        "outputId": "a2e408d7-dcad-48bd-8b0f-dba8be853bdb"
      },
      "execution_count": 268,
      "outputs": [
        {
          "output_type": "execute_result",
          "data": {
            "text/plain": [
              "RaceCategory\n",
              "#NULL!         6\n",
              "Chinese    64861\n",
              "Indian      8012\n",
              "Malay       8979\n",
              "Others      8927\n",
              "Name: count, dtype: int64"
            ]
          },
          "metadata": {},
          "execution_count": 268
        }
      ]
    },
    {
      "cell_type": "code",
      "source": [
        "# change the NULL to NaN\n",
        "cares[\"RaceCategory\"].replace('#NULL!',np.nan,inplace=True)\n",
        "cares[\"RaceCategory\"].value_counts().sort_index()"
      ],
      "metadata": {
        "id": "VKP_fe2aA2L2",
        "colab": {
          "base_uri": "https://localhost:8080/"
        },
        "outputId": "30843bb2-ad87-4925-b071-1d720bf29d8a"
      },
      "execution_count": 269,
      "outputs": [
        {
          "output_type": "execute_result",
          "data": {
            "text/plain": [
              "RaceCategory\n",
              "Chinese    64861\n",
              "Indian      8012\n",
              "Malay       8979\n",
              "Others      8927\n",
              "Name: count, dtype: int64"
            ]
          },
          "metadata": {},
          "execution_count": 269
        }
      ]
    },
    {
      "cell_type": "code",
      "source": [
        "cares[\"RaceCategory\"].isna().value_counts()"
      ],
      "metadata": {
        "colab": {
          "base_uri": "https://localhost:8080/"
        },
        "id": "9DaVwU-YBCul",
        "outputId": "40884a51-d426-4329-eb66-165488f6e88c"
      },
      "execution_count": 270,
      "outputs": [
        {
          "output_type": "execute_result",
          "data": {
            "text/plain": [
              "RaceCategory\n",
              "False    90779\n",
              "True         6\n",
              "Name: count, dtype: int64"
            ]
          },
          "metadata": {},
          "execution_count": 270
        }
      ]
    },
    {
      "cell_type": "markdown",
      "source": [
        "#### ASA Classification"
      ],
      "metadata": {
        "id": "iS3h0iagBGu8"
      }
    },
    {
      "cell_type": "code",
      "source": [
        "cares[\"ASAcategorybinned\"].value_counts().sort_index()"
      ],
      "metadata": {
        "colab": {
          "base_uri": "https://localhost:8080/"
        },
        "id": "JOmW8jSlBUmr",
        "outputId": "45f10b8d-a3ab-4a9d-f722-6ecea8ca5a17"
      },
      "execution_count": 271,
      "outputs": [
        {
          "output_type": "execute_result",
          "data": {
            "text/plain": [
              "ASAcategorybinned\n",
              "#NULL!     4819\n",
              "I         22047\n",
              "II        49435\n",
              "III       13405\n",
              "IV-VI      1079\n",
              "Name: count, dtype: int64"
            ]
          },
          "metadata": {},
          "execution_count": 271
        }
      ]
    },
    {
      "cell_type": "code",
      "source": [
        "# change the NULL to NaN\n",
        "cares[\"ASAcategorybinned\"].replace('#NULL!',np.nan,inplace=True)\n",
        "cares[\"ASAcategorybinned\"].value_counts().sort_index()"
      ],
      "metadata": {
        "colab": {
          "base_uri": "https://localhost:8080/"
        },
        "id": "Z76eN8jJBhp5",
        "outputId": "dbcbdd2e-4a9d-4911-8435-ad835c6bfa5d"
      },
      "execution_count": 272,
      "outputs": [
        {
          "output_type": "execute_result",
          "data": {
            "text/plain": [
              "ASAcategorybinned\n",
              "I        22047\n",
              "II       49435\n",
              "III      13405\n",
              "IV-VI     1079\n",
              "Name: count, dtype: int64"
            ]
          },
          "metadata": {},
          "execution_count": 272
        }
      ]
    },
    {
      "cell_type": "code",
      "source": [
        "cares[\"ASAcategorybinned\"].isna().value_counts()"
      ],
      "metadata": {
        "colab": {
          "base_uri": "https://localhost:8080/"
        },
        "id": "yIRJ8JY6Bm5A",
        "outputId": "f94ea731-34be-45e9-eecc-dc5ddd5fb090"
      },
      "execution_count": 273,
      "outputs": [
        {
          "output_type": "execute_result",
          "data": {
            "text/plain": [
              "ASAcategorybinned\n",
              "False    85966\n",
              "True      4819\n",
              "Name: count, dtype: int64"
            ]
          },
          "metadata": {},
          "execution_count": 273
        }
      ]
    },
    {
      "cell_type": "markdown",
      "source": [
        "#### Anemia\n",
        "There are 2 columns for anemia, make sure they're the same first"
      ],
      "metadata": {
        "id": "bIX7FjQrBpEG"
      }
    },
    {
      "cell_type": "code",
      "source": [
        "cares[\"Anemia category\"].value_counts()"
      ],
      "metadata": {
        "colab": {
          "base_uri": "https://localhost:8080/"
        },
        "id": "Zq2i7R5xBvnw",
        "outputId": "1f13f152-f86d-4445-8741-76827a37896d"
      },
      "execution_count": 274,
      "outputs": [
        {
          "output_type": "execute_result",
          "data": {
            "text/plain": [
              "Anemia category\n",
              "none        62878\n",
              "mild        13006\n",
              "moderate    10439\n",
              "severe        424\n",
              "Name: count, dtype: int64"
            ]
          },
          "metadata": {},
          "execution_count": 274
        }
      ]
    },
    {
      "cell_type": "code",
      "source": [
        "cares[\"Anemiacategorybinned\"].value_counts()"
      ],
      "metadata": {
        "colab": {
          "base_uri": "https://localhost:8080/"
        },
        "id": "c-TzwlqyB0LW",
        "outputId": "38763f8e-516c-4ea4-f533-d3b86f5aa5e8"
      },
      "execution_count": 275,
      "outputs": [
        {
          "output_type": "execute_result",
          "data": {
            "text/plain": [
              "Anemiacategorybinned\n",
              "Mild               13006\n",
              "Moderate/Severe    10863\n",
              "#NULL!              4038\n",
              "Name: count, dtype: int64"
            ]
          },
          "metadata": {},
          "execution_count": 275
        }
      ]
    },
    {
      "cell_type": "code",
      "source": [
        "print(all((cares[\"Anemia category\"] == \"mild\").index == (cares[\"Anemiacategorybinned\"] == \"Mild\").index))\n",
        "print(all((cares[\"Anemia category\"].isin([\"moderate\", \"severe\"])).index == (cares[\"Anemiacategorybinned\"] == \"Moderate/Severe\").index))"
      ],
      "metadata": {
        "colab": {
          "base_uri": "https://localhost:8080/"
        },
        "id": "3wU6juy7B4fW",
        "outputId": "0d857475-9a03-4a8b-ee24-abb3e23f62d2"
      },
      "execution_count": 276,
      "outputs": [
        {
          "output_type": "stream",
          "name": "stdout",
          "text": [
            "True\n",
            "True\n"
          ]
        }
      ]
    },
    {
      "cell_type": "markdown",
      "source": [
        "After checking:\n",
        "- make `moderate` and `severe` in one category\n",
        "    - we agree on combining `moderate` and `severe` in 1 class because they equally need treatment in comparison to `none` and `mild`\n",
        "- remove `Anemiacategorybinned` column\n",
        "\n",
        "Because Anemia is ordinal data, can later convert them using labelencoding =\n",
        "```JSON\n",
        "{\n",
        "    \"none\": 0,\n",
        "    \"mild\": 1,\n",
        "    \"moderate/severe\": 2\n",
        "}\n",
        "```"
      ],
      "metadata": {
        "id": "q_kh4Z4pCIO1"
      }
    },
    {
      "cell_type": "code",
      "source": [
        "cares[\"Anemia category\"].replace('moderate', 'moderate/severe', inplace=True)\n",
        "cares[\"Anemia category\"].replace('severe', 'moderate/severe', inplace=True)"
      ],
      "metadata": {
        "id": "xKNlitfJCicS"
      },
      "execution_count": 277,
      "outputs": []
    },
    {
      "cell_type": "code",
      "source": [
        "cares[\"Anemia category\"].value_counts()"
      ],
      "metadata": {
        "colab": {
          "base_uri": "https://localhost:8080/"
        },
        "id": "2KWy4JpDCse8",
        "outputId": "4b42924a-82dd-4129-a4d5-18ed9658548b"
      },
      "execution_count": 278,
      "outputs": [
        {
          "output_type": "execute_result",
          "data": {
            "text/plain": [
              "Anemia category\n",
              "none               62878\n",
              "mild               13006\n",
              "moderate/severe    10863\n",
              "Name: count, dtype: int64"
            ]
          },
          "metadata": {},
          "execution_count": 278
        }
      ]
    },
    {
      "cell_type": "code",
      "source": [
        "cares.drop(\"Anemiacategorybinned\", axis=1, inplace=True)"
      ],
      "metadata": {
        "id": "xlXXQkSyCs9e"
      },
      "execution_count": 279,
      "outputs": []
    },
    {
      "cell_type": "markdown",
      "source": [
        "#### RDW"
      ],
      "metadata": {
        "id": "dRskzrbgFmLg"
      }
    },
    {
      "cell_type": "code",
      "source": [
        "cares[\"RDW15.7\"].value_counts()"
      ],
      "metadata": {
        "colab": {
          "base_uri": "https://localhost:8080/"
        },
        "id": "flrHwby9DIHk",
        "outputId": "8d90d1cd-cc6d-4525-f188-f47c3c2756ff"
      },
      "execution_count": 280,
      "outputs": [
        {
          "output_type": "execute_result",
          "data": {
            "text/plain": [
              "RDW15.7\n",
              "<= 15.7    76069\n",
              ">15.7       8478\n",
              "#NULL!      6238\n",
              "Name: count, dtype: int64"
            ]
          },
          "metadata": {},
          "execution_count": 280
        }
      ]
    },
    {
      "cell_type": "code",
      "source": [
        "cares[\"RDW15.7\"].replace('#NULL!',np.nan,inplace=True)\n",
        "cares[\"RDW15.7\"].value_counts()"
      ],
      "metadata": {
        "colab": {
          "base_uri": "https://localhost:8080/"
        },
        "id": "TxtZhTJsFrIQ",
        "outputId": "7a434675-2ae1-4342-fdb1-bd9bebafaa88"
      },
      "execution_count": 281,
      "outputs": [
        {
          "output_type": "execute_result",
          "data": {
            "text/plain": [
              "RDW15.7\n",
              "<= 15.7    76069\n",
              ">15.7       8478\n",
              "Name: count, dtype: int64"
            ]
          },
          "metadata": {},
          "execution_count": 281
        }
      ]
    },
    {
      "cell_type": "markdown",
      "source": [
        "#### Grade of CKD\n",
        "\n",
        "Source: https://www.kidney.org/professionals/explore-your-knowledge/how-to-classify-ckd"
      ],
      "metadata": {
        "id": "u-6SSrLCFxCr"
      }
    },
    {
      "cell_type": "code",
      "source": [
        "cares[\"GradeofKidneyCategory\"].value_counts()"
      ],
      "metadata": {
        "colab": {
          "base_uri": "https://localhost:8080/"
        },
        "id": "7B--K048FzFD",
        "outputId": "b6744bcf-d193-4c33-a62d-9729b7149736"
      },
      "execution_count": 282,
      "outputs": [
        {
          "output_type": "execute_result",
          "data": {
            "text/plain": [
              "GradeofKidneyCategory\n",
              "G1        47948\n",
              "G2        23635\n",
              "#NULL!    10830\n",
              "G3         5114\n",
              "G4-G5      3258\n",
              "Name: count, dtype: int64"
            ]
          },
          "metadata": {},
          "execution_count": 282
        }
      ]
    },
    {
      "cell_type": "code",
      "source": [
        "cares[\"GradeofKidneyCategory\"].replace('#NULL!', np.nan, inplace=True)\n",
        "cares[\"GradeofKidneyCategory\"].value_counts()"
      ],
      "metadata": {
        "colab": {
          "base_uri": "https://localhost:8080/"
        },
        "id": "0g-0Vt13Fz8l",
        "outputId": "2530ce92-68a8-4c88-f6ba-ba1afb03c1ce"
      },
      "execution_count": 283,
      "outputs": [
        {
          "output_type": "execute_result",
          "data": {
            "text/plain": [
              "GradeofKidneyCategory\n",
              "G1       47948\n",
              "G2       23635\n",
              "G3        5114\n",
              "G4-G5     3258\n",
              "Name: count, dtype: int64"
            ]
          },
          "metadata": {},
          "execution_count": 283
        }
      ]
    },
    {
      "cell_type": "code",
      "source": [
        "cares[cares[\"GradeofKidneyCategory\"].isna()][\"AGEcategory\"].value_counts().sort_index()"
      ],
      "metadata": {
        "colab": {
          "base_uri": "https://localhost:8080/"
        },
        "id": "qSIo-6J9Jfg7",
        "outputId": "c1b7bd5f-3e5c-41ad-e562-200a78a7f52b"
      },
      "execution_count": 285,
      "outputs": [
        {
          "output_type": "execute_result",
          "data": {
            "text/plain": [
              "AGEcategory\n",
              "18-29    3385\n",
              "30-49    5073\n",
              "50-64    1493\n",
              "65-74     638\n",
              "75-84     210\n",
              ">=85       31\n",
              "Name: count, dtype: int64"
            ]
          },
          "metadata": {},
          "execution_count": 285
        }
      ]
    },
    {
      "cell_type": "code",
      "source": [
        "cares[\"GradeofKidneydisease\"].value_counts()"
      ],
      "metadata": {
        "colab": {
          "base_uri": "https://localhost:8080/"
        },
        "id": "91t7zGevI2PG",
        "outputId": "fb14123c-8064-4181-ba79-01cac51546e8"
      },
      "execution_count": 286,
      "outputs": [
        {
          "output_type": "execute_result",
          "data": {
            "text/plain": [
              "GradeofKidneydisease\n",
              "g1       47948\n",
              "G2       23635\n",
              "BLANK    10830\n",
              "G3a       3425\n",
              "G5        2059\n",
              "G3b       1689\n",
              "G4        1199\n",
              "Name: count, dtype: int64"
            ]
          },
          "metadata": {},
          "execution_count": 286
        }
      ]
    },
    {
      "cell_type": "code",
      "source": [
        "cares.drop(\"GradeofKidneydisease\", axis=1, inplace=True)"
      ],
      "metadata": {
        "id": "_kckFyQpJVn-"
      },
      "execution_count": 287,
      "outputs": []
    },
    {
      "cell_type": "markdown",
      "source": [
        "#### CVA\n",
        "\n",
        "RCRI stands for \"Revised Cardiac Risk Index\". According to the paper, NULL here means the same as no.\n",
        "\n",
        "\n",
        "\"NULL\" here is assumed as \"not tested\". It is assumed as not tested because they are not susceptible of the risk, that's why we combine the \"NULL\" and the \"no\" class together"
      ],
      "metadata": {
        "id": "wSgw48f5GBLV"
      }
    },
    {
      "cell_type": "code",
      "source": [
        "cares[\"CVARCRICategory\"].value_counts()"
      ],
      "metadata": {
        "colab": {
          "base_uri": "https://localhost:8080/"
        },
        "id": "a6Q1cxPpGGTP",
        "outputId": "adb94eec-bc8b-4556-851c-0d6e91800cda"
      },
      "execution_count": 288,
      "outputs": [
        {
          "output_type": "execute_result",
          "data": {
            "text/plain": [
              "CVARCRICategory\n",
              "no        60917\n",
              "#NULL!    28325\n",
              "yes        1543\n",
              "Name: count, dtype: int64"
            ]
          },
          "metadata": {},
          "execution_count": 288
        }
      ]
    },
    {
      "cell_type": "code",
      "source": [
        "cares[\"CVARCRICategory\"].replace('#NULL!', 'no', inplace=True)\n",
        "cares[\"CVARCRICategory\"].value_counts()"
      ],
      "metadata": {
        "colab": {
          "base_uri": "https://localhost:8080/"
        },
        "id": "M1VvCixOGHP1",
        "outputId": "d0d84601-3053-42cf-9983-4fc4b676367a"
      },
      "execution_count": 289,
      "outputs": [
        {
          "output_type": "execute_result",
          "data": {
            "text/plain": [
              "CVARCRICategory\n",
              "no     89242\n",
              "yes     1543\n",
              "Name: count, dtype: int64"
            ]
          },
          "metadata": {},
          "execution_count": 289
        }
      ]
    },
    {
      "cell_type": "markdown",
      "source": [
        "#### IHD"
      ],
      "metadata": {
        "id": "ihBPjpF7GQpM"
      }
    },
    {
      "cell_type": "code",
      "source": [
        "cares[\"IHDRCRICategory\"].value_counts()"
      ],
      "metadata": {
        "colab": {
          "base_uri": "https://localhost:8080/"
        },
        "id": "elhXzO08GTM8",
        "outputId": "13e3a844-4d63-41dd-e523-8b8586cb074d"
      },
      "execution_count": 290,
      "outputs": [
        {
          "output_type": "execute_result",
          "data": {
            "text/plain": [
              "IHDRCRICategory\n",
              "no        57968\n",
              "#NULL!    28572\n",
              "yes        4245\n",
              "Name: count, dtype: int64"
            ]
          },
          "metadata": {},
          "execution_count": 290
        }
      ]
    },
    {
      "cell_type": "code",
      "source": [
        "cares[\"IHDRCRICategory\"].replace('#NULL!', 'no', inplace=True)\n",
        "cares[\"IHDRCRICategory\"].value_counts()"
      ],
      "metadata": {
        "colab": {
          "base_uri": "https://localhost:8080/"
        },
        "id": "aXEq5nH9GYQl",
        "outputId": "5a4d78ec-baf0-41ec-c445-60646b33c933"
      },
      "execution_count": 291,
      "outputs": [
        {
          "output_type": "execute_result",
          "data": {
            "text/plain": [
              "IHDRCRICategory\n",
              "no     86540\n",
              "yes     4245\n",
              "Name: count, dtype: int64"
            ]
          },
          "metadata": {},
          "execution_count": 291
        }
      ]
    },
    {
      "cell_type": "markdown",
      "source": [
        "#### CHF"
      ],
      "metadata": {
        "id": "HdYxRPJ8Ga_Z"
      }
    },
    {
      "cell_type": "code",
      "source": [
        "cares[\"CHFRCRICategory\"].value_counts()"
      ],
      "metadata": {
        "colab": {
          "base_uri": "https://localhost:8080/"
        },
        "id": "WqBdY5wbGe08",
        "outputId": "1f9ad7fe-f0cc-4c71-e882-4b2e7a5109ca"
      },
      "execution_count": 292,
      "outputs": [
        {
          "output_type": "execute_result",
          "data": {
            "text/plain": [
              "CHFRCRICategory\n",
              "no        63739\n",
              "#NULL!    26259\n",
              "yes         787\n",
              "Name: count, dtype: int64"
            ]
          },
          "metadata": {},
          "execution_count": 292
        }
      ]
    },
    {
      "cell_type": "code",
      "source": [
        "cares[\"CHFRCRICategory\"].replace('#NULL!', 'no', inplace=True)\n",
        "cares[\"CHFRCRICategory\"].value_counts()"
      ],
      "metadata": {
        "colab": {
          "base_uri": "https://localhost:8080/"
        },
        "id": "pAq6EZYPGgR2",
        "outputId": "46a5db30-9e74-4dd3-ee0c-abadb6a06ef9"
      },
      "execution_count": 293,
      "outputs": [
        {
          "output_type": "execute_result",
          "data": {
            "text/plain": [
              "CHFRCRICategory\n",
              "no     89998\n",
              "yes      787\n",
              "Name: count, dtype: int64"
            ]
          },
          "metadata": {},
          "execution_count": 293
        }
      ]
    },
    {
      "cell_type": "markdown",
      "source": [
        "#### DM on Insulin"
      ],
      "metadata": {
        "id": "CSiUV1s2Gi3C"
      }
    },
    {
      "cell_type": "code",
      "source": [
        "cares[\"DMinsulinRCRICategory\"].value_counts()"
      ],
      "metadata": {
        "colab": {
          "base_uri": "https://localhost:8080/"
        },
        "id": "6NuBZfe_Gnfx",
        "outputId": "42f3e97c-1ff5-44fd-fbd8-5d1490b1eea8"
      },
      "execution_count": 294,
      "outputs": [
        {
          "output_type": "execute_result",
          "data": {
            "text/plain": [
              "DMinsulinRCRICategory\n",
              "no        61907\n",
              "#NULL!    26875\n",
              "yes        2003\n",
              "Name: count, dtype: int64"
            ]
          },
          "metadata": {},
          "execution_count": 294
        }
      ]
    },
    {
      "cell_type": "code",
      "source": [
        "cares[\"DMinsulinRCRICategory\"].replace('#NULL!', 'no', inplace=True)\n",
        "cares[\"DMinsulinRCRICategory\"].value_counts()"
      ],
      "metadata": {
        "colab": {
          "base_uri": "https://localhost:8080/"
        },
        "id": "BON3ZVt4Go1a",
        "outputId": "de820350-a777-4af5-b7fa-11d88205874d"
      },
      "execution_count": 295,
      "outputs": [
        {
          "output_type": "execute_result",
          "data": {
            "text/plain": [
              "DMinsulinRCRICategory\n",
              "no     88782\n",
              "yes     2003\n",
              "Name: count, dtype: int64"
            ]
          },
          "metadata": {},
          "execution_count": 295
        }
      ]
    },
    {
      "cell_type": "markdown",
      "source": [
        "#### Creatinine"
      ],
      "metadata": {
        "id": "KAYET3Y4LDdO"
      }
    },
    {
      "cell_type": "code",
      "source": [
        "cares[\"CreatinineRCRICategory\"].value_counts()"
      ],
      "metadata": {
        "colab": {
          "base_uri": "https://localhost:8080/"
        },
        "id": "EIMoDrhOK8Yg",
        "outputId": "de6e7119-0cb6-4610-c388-61ed6c85b747"
      },
      "execution_count": 303,
      "outputs": [
        {
          "output_type": "execute_result",
          "data": {
            "text/plain": [
              "CreatinineRCRICategory\n",
              "no        72760\n",
              "#NULL!    15743\n",
              "yes        2282\n",
              "Name: count, dtype: int64"
            ]
          },
          "metadata": {},
          "execution_count": 303
        }
      ]
    },
    {
      "cell_type": "code",
      "source": [
        "cares[\"CreatinineRCRICategory\"].replace('#NULL!', 'no', inplace=True)\n",
        "cares[\"CreatinineRCRICategory\"].value_counts()"
      ],
      "metadata": {
        "colab": {
          "base_uri": "https://localhost:8080/"
        },
        "id": "RCJimEKnLHpA",
        "outputId": "607b634e-836a-4b28-9ad1-55d81a72ece7"
      },
      "execution_count": 304,
      "outputs": [
        {
          "output_type": "execute_result",
          "data": {
            "text/plain": [
              "CreatinineRCRICategory\n",
              "no     88503\n",
              "yes     2282\n",
              "Name: count, dtype: int64"
            ]
          },
          "metadata": {},
          "execution_count": 304
        }
      ]
    },
    {
      "cell_type": "markdown",
      "source": [
        "#### Surgical Risk\n",
        "No need to do anything"
      ],
      "metadata": {
        "id": "RL9mVsidGswJ"
      }
    },
    {
      "cell_type": "code",
      "source": [
        "cares[\"SurgRiskCategory\"].value_counts()"
      ],
      "metadata": {
        "colab": {
          "base_uri": "https://localhost:8080/"
        },
        "id": "MUlAR4swIFQ4",
        "outputId": "5fc050d7-e22c-4c61-fc4a-89d7f40a7108"
      },
      "execution_count": 296,
      "outputs": [
        {
          "output_type": "execute_result",
          "data": {
            "text/plain": [
              "SurgRiskCategory\n",
              "Low         48049\n",
              "Moderate    39014\n",
              "High         3722\n",
              "Name: count, dtype: int64"
            ]
          },
          "metadata": {},
          "execution_count": 296
        }
      ]
    },
    {
      "cell_type": "code",
      "source": [
        "cares[\"SurgRiskCategory\"].isna().value_counts()"
      ],
      "metadata": {
        "colab": {
          "base_uri": "https://localhost:8080/"
        },
        "id": "h3lcEq2SIF4V",
        "outputId": "66bda9aa-79f7-4165-bd04-1fbca43d215d"
      },
      "execution_count": 297,
      "outputs": [
        {
          "output_type": "execute_result",
          "data": {
            "text/plain": [
              "SurgRiskCategory\n",
              "False    90785\n",
              "Name: count, dtype: int64"
            ]
          },
          "metadata": {},
          "execution_count": 297
        }
      ]
    },
    {
      "cell_type": "markdown",
      "source": [
        "#### Priority of Surgery\n",
        "No need to do anything"
      ],
      "metadata": {
        "id": "r7cQQMfSIKgh"
      }
    },
    {
      "cell_type": "code",
      "source": [
        "cares[\"PriorityCategory\"].value_counts()"
      ],
      "metadata": {
        "colab": {
          "base_uri": "https://localhost:8080/"
        },
        "id": "MVAG0Wu-IScG",
        "outputId": "29f1c25a-d457-4290-cc32-94d49dd44c09"
      },
      "execution_count": 298,
      "outputs": [
        {
          "output_type": "execute_result",
          "data": {
            "text/plain": [
              "PriorityCategory\n",
              "Elective     72331\n",
              "Emergency    18454\n",
              "Name: count, dtype: int64"
            ]
          },
          "metadata": {},
          "execution_count": 298
        }
      ]
    },
    {
      "cell_type": "code",
      "source": [
        "cares[\"PriorityCategory\"].isna().value_counts()"
      ],
      "metadata": {
        "colab": {
          "base_uri": "https://localhost:8080/"
        },
        "id": "-zQWHlRlIT0m",
        "outputId": "b3fd5459-8fd4-490c-9e47-4557c92810c0"
      },
      "execution_count": 299,
      "outputs": [
        {
          "output_type": "execute_result",
          "data": {
            "text/plain": [
              "PriorityCategory\n",
              "False    90785\n",
              "Name: count, dtype: int64"
            ]
          },
          "metadata": {},
          "execution_count": 299
        }
      ]
    },
    {
      "cell_type": "code",
      "source": [
        "cares.head()"
      ],
      "metadata": {
        "colab": {
          "base_uri": "https://localhost:8080/",
          "height": 270
        },
        "id": "tgSgyrEhJ6lN",
        "outputId": "e1cc9b68-1c1a-49c4-f764-ecdcec80075e"
      },
      "execution_count": 305,
      "outputs": [
        {
          "output_type": "execute_result",
          "data": {
            "text/plain": [
              "   GENDER  RCRI score  Anemia category  PreopEGFRMDRD  \\\n",
              "0  FEMALE         NaN              NaN            NaN   \n",
              "1  FEMALE         NaN             none            NaN   \n",
              "2  FEMALE         NaN             mild     152.538570   \n",
              "3    MALE         NaN  moderate/severe     117.231496   \n",
              "4    MALE         0.0             mild      98.651255   \n",
              "\n",
              "   DaysbetweenDeathandoperation  Preoptransfusionwithin30days  Intraop  \\\n",
              "0                           NaN                           0.0      0.0   \n",
              "1                           NaN                           0.0      0.0   \n",
              "2                           NaN                           0.0      0.0   \n",
              "3                           NaN                           0.0      1.0   \n",
              "4                          59.0                           0.0      0.0   \n",
              "\n",
              "   Postopwithin30days  Transfusionintraandpostop AnaestypeCategory  ...  \\\n",
              "0                 0.0                        0.0                GA  ...   \n",
              "1                 0.0                        0.0                GA  ...   \n",
              "2                 0.0                        0.0                GA  ...   \n",
              "3                 0.0                        1.0                GA  ...   \n",
              "4                 0.0                        0.0                GA  ...   \n",
              "\n",
              "  RaceCategory CVARCRICategory IHDRCRICategory CHFRCRICategory  \\\n",
              "0      Chinese              no              no              no   \n",
              "1      Chinese              no              no              no   \n",
              "2      Chinese              no              no              no   \n",
              "3      Chinese              no              no              no   \n",
              "4      Chinese              no              no              no   \n",
              "\n",
              "   DMinsulinRCRICategory CreatinineRCRICategory GradeofKidneyCategory  \\\n",
              "0                     no                     no                   NaN   \n",
              "1                     no                     no                   NaN   \n",
              "2                     no                     no                    G1   \n",
              "3                     no                     no                    G1   \n",
              "4                     no                     no                    G1   \n",
              "\n",
              "   RDW15.7 ASAcategorybinned ICUAdmgt24h  \n",
              "0      NaN                 I          no  \n",
              "1  <= 15.7                 I          no  \n",
              "2  <= 15.7                 I          no  \n",
              "3  <= 15.7                 I          no  \n",
              "4    >15.7                II          no  \n",
              "\n",
              "[5 rows x 26 columns]"
            ],
            "text/html": [
              "\n",
              "  <div id=\"df-5234ce2f-c7e3-4595-9590-ad95f5e0a2c1\" class=\"colab-df-container\">\n",
              "    <div>\n",
              "<style scoped>\n",
              "    .dataframe tbody tr th:only-of-type {\n",
              "        vertical-align: middle;\n",
              "    }\n",
              "\n",
              "    .dataframe tbody tr th {\n",
              "        vertical-align: top;\n",
              "    }\n",
              "\n",
              "    .dataframe thead th {\n",
              "        text-align: right;\n",
              "    }\n",
              "</style>\n",
              "<table border=\"1\" class=\"dataframe\">\n",
              "  <thead>\n",
              "    <tr style=\"text-align: right;\">\n",
              "      <th></th>\n",
              "      <th>GENDER</th>\n",
              "      <th>RCRI score</th>\n",
              "      <th>Anemia category</th>\n",
              "      <th>PreopEGFRMDRD</th>\n",
              "      <th>DaysbetweenDeathandoperation</th>\n",
              "      <th>Preoptransfusionwithin30days</th>\n",
              "      <th>Intraop</th>\n",
              "      <th>Postopwithin30days</th>\n",
              "      <th>Transfusionintraandpostop</th>\n",
              "      <th>AnaestypeCategory</th>\n",
              "      <th>...</th>\n",
              "      <th>RaceCategory</th>\n",
              "      <th>CVARCRICategory</th>\n",
              "      <th>IHDRCRICategory</th>\n",
              "      <th>CHFRCRICategory</th>\n",
              "      <th>DMinsulinRCRICategory</th>\n",
              "      <th>CreatinineRCRICategory</th>\n",
              "      <th>GradeofKidneyCategory</th>\n",
              "      <th>RDW15.7</th>\n",
              "      <th>ASAcategorybinned</th>\n",
              "      <th>ICUAdmgt24h</th>\n",
              "    </tr>\n",
              "  </thead>\n",
              "  <tbody>\n",
              "    <tr>\n",
              "      <th>0</th>\n",
              "      <td>FEMALE</td>\n",
              "      <td>NaN</td>\n",
              "      <td>NaN</td>\n",
              "      <td>NaN</td>\n",
              "      <td>NaN</td>\n",
              "      <td>0.0</td>\n",
              "      <td>0.0</td>\n",
              "      <td>0.0</td>\n",
              "      <td>0.0</td>\n",
              "      <td>GA</td>\n",
              "      <td>...</td>\n",
              "      <td>Chinese</td>\n",
              "      <td>no</td>\n",
              "      <td>no</td>\n",
              "      <td>no</td>\n",
              "      <td>no</td>\n",
              "      <td>no</td>\n",
              "      <td>NaN</td>\n",
              "      <td>NaN</td>\n",
              "      <td>I</td>\n",
              "      <td>no</td>\n",
              "    </tr>\n",
              "    <tr>\n",
              "      <th>1</th>\n",
              "      <td>FEMALE</td>\n",
              "      <td>NaN</td>\n",
              "      <td>none</td>\n",
              "      <td>NaN</td>\n",
              "      <td>NaN</td>\n",
              "      <td>0.0</td>\n",
              "      <td>0.0</td>\n",
              "      <td>0.0</td>\n",
              "      <td>0.0</td>\n",
              "      <td>GA</td>\n",
              "      <td>...</td>\n",
              "      <td>Chinese</td>\n",
              "      <td>no</td>\n",
              "      <td>no</td>\n",
              "      <td>no</td>\n",
              "      <td>no</td>\n",
              "      <td>no</td>\n",
              "      <td>NaN</td>\n",
              "      <td>&lt;= 15.7</td>\n",
              "      <td>I</td>\n",
              "      <td>no</td>\n",
              "    </tr>\n",
              "    <tr>\n",
              "      <th>2</th>\n",
              "      <td>FEMALE</td>\n",
              "      <td>NaN</td>\n",
              "      <td>mild</td>\n",
              "      <td>152.538570</td>\n",
              "      <td>NaN</td>\n",
              "      <td>0.0</td>\n",
              "      <td>0.0</td>\n",
              "      <td>0.0</td>\n",
              "      <td>0.0</td>\n",
              "      <td>GA</td>\n",
              "      <td>...</td>\n",
              "      <td>Chinese</td>\n",
              "      <td>no</td>\n",
              "      <td>no</td>\n",
              "      <td>no</td>\n",
              "      <td>no</td>\n",
              "      <td>no</td>\n",
              "      <td>G1</td>\n",
              "      <td>&lt;= 15.7</td>\n",
              "      <td>I</td>\n",
              "      <td>no</td>\n",
              "    </tr>\n",
              "    <tr>\n",
              "      <th>3</th>\n",
              "      <td>MALE</td>\n",
              "      <td>NaN</td>\n",
              "      <td>moderate/severe</td>\n",
              "      <td>117.231496</td>\n",
              "      <td>NaN</td>\n",
              "      <td>0.0</td>\n",
              "      <td>1.0</td>\n",
              "      <td>0.0</td>\n",
              "      <td>1.0</td>\n",
              "      <td>GA</td>\n",
              "      <td>...</td>\n",
              "      <td>Chinese</td>\n",
              "      <td>no</td>\n",
              "      <td>no</td>\n",
              "      <td>no</td>\n",
              "      <td>no</td>\n",
              "      <td>no</td>\n",
              "      <td>G1</td>\n",
              "      <td>&lt;= 15.7</td>\n",
              "      <td>I</td>\n",
              "      <td>no</td>\n",
              "    </tr>\n",
              "    <tr>\n",
              "      <th>4</th>\n",
              "      <td>MALE</td>\n",
              "      <td>0.0</td>\n",
              "      <td>mild</td>\n",
              "      <td>98.651255</td>\n",
              "      <td>59.0</td>\n",
              "      <td>0.0</td>\n",
              "      <td>0.0</td>\n",
              "      <td>0.0</td>\n",
              "      <td>0.0</td>\n",
              "      <td>GA</td>\n",
              "      <td>...</td>\n",
              "      <td>Chinese</td>\n",
              "      <td>no</td>\n",
              "      <td>no</td>\n",
              "      <td>no</td>\n",
              "      <td>no</td>\n",
              "      <td>no</td>\n",
              "      <td>G1</td>\n",
              "      <td>&gt;15.7</td>\n",
              "      <td>II</td>\n",
              "      <td>no</td>\n",
              "    </tr>\n",
              "  </tbody>\n",
              "</table>\n",
              "<p>5 rows × 26 columns</p>\n",
              "</div>\n",
              "    <div class=\"colab-df-buttons\">\n",
              "\n",
              "  <div class=\"colab-df-container\">\n",
              "    <button class=\"colab-df-convert\" onclick=\"convertToInteractive('df-5234ce2f-c7e3-4595-9590-ad95f5e0a2c1')\"\n",
              "            title=\"Convert this dataframe to an interactive table.\"\n",
              "            style=\"display:none;\">\n",
              "\n",
              "  <svg xmlns=\"http://www.w3.org/2000/svg\" height=\"24px\" viewBox=\"0 -960 960 960\">\n",
              "    <path d=\"M120-120v-720h720v720H120Zm60-500h600v-160H180v160Zm220 220h160v-160H400v160Zm0 220h160v-160H400v160ZM180-400h160v-160H180v160Zm440 0h160v-160H620v160ZM180-180h160v-160H180v160Zm440 0h160v-160H620v160Z\"/>\n",
              "  </svg>\n",
              "    </button>\n",
              "\n",
              "  <style>\n",
              "    .colab-df-container {\n",
              "      display:flex;\n",
              "      gap: 12px;\n",
              "    }\n",
              "\n",
              "    .colab-df-convert {\n",
              "      background-color: #E8F0FE;\n",
              "      border: none;\n",
              "      border-radius: 50%;\n",
              "      cursor: pointer;\n",
              "      display: none;\n",
              "      fill: #1967D2;\n",
              "      height: 32px;\n",
              "      padding: 0 0 0 0;\n",
              "      width: 32px;\n",
              "    }\n",
              "\n",
              "    .colab-df-convert:hover {\n",
              "      background-color: #E2EBFA;\n",
              "      box-shadow: 0px 1px 2px rgba(60, 64, 67, 0.3), 0px 1px 3px 1px rgba(60, 64, 67, 0.15);\n",
              "      fill: #174EA6;\n",
              "    }\n",
              "\n",
              "    .colab-df-buttons div {\n",
              "      margin-bottom: 4px;\n",
              "    }\n",
              "\n",
              "    [theme=dark] .colab-df-convert {\n",
              "      background-color: #3B4455;\n",
              "      fill: #D2E3FC;\n",
              "    }\n",
              "\n",
              "    [theme=dark] .colab-df-convert:hover {\n",
              "      background-color: #434B5C;\n",
              "      box-shadow: 0px 1px 3px 1px rgba(0, 0, 0, 0.15);\n",
              "      filter: drop-shadow(0px 1px 2px rgba(0, 0, 0, 0.3));\n",
              "      fill: #FFFFFF;\n",
              "    }\n",
              "  </style>\n",
              "\n",
              "    <script>\n",
              "      const buttonEl =\n",
              "        document.querySelector('#df-5234ce2f-c7e3-4595-9590-ad95f5e0a2c1 button.colab-df-convert');\n",
              "      buttonEl.style.display =\n",
              "        google.colab.kernel.accessAllowed ? 'block' : 'none';\n",
              "\n",
              "      async function convertToInteractive(key) {\n",
              "        const element = document.querySelector('#df-5234ce2f-c7e3-4595-9590-ad95f5e0a2c1');\n",
              "        const dataTable =\n",
              "          await google.colab.kernel.invokeFunction('convertToInteractive',\n",
              "                                                    [key], {});\n",
              "        if (!dataTable) return;\n",
              "\n",
              "        const docLinkHtml = 'Like what you see? Visit the ' +\n",
              "          '<a target=\"_blank\" href=https://colab.research.google.com/notebooks/data_table.ipynb>data table notebook</a>'\n",
              "          + ' to learn more about interactive tables.';\n",
              "        element.innerHTML = '';\n",
              "        dataTable['output_type'] = 'display_data';\n",
              "        await google.colab.output.renderOutput(dataTable, element);\n",
              "        const docLink = document.createElement('div');\n",
              "        docLink.innerHTML = docLinkHtml;\n",
              "        element.appendChild(docLink);\n",
              "      }\n",
              "    </script>\n",
              "  </div>\n",
              "\n",
              "\n",
              "<div id=\"df-f7c4f585-0aab-4b91-b5c6-c569c62bc667\">\n",
              "  <button class=\"colab-df-quickchart\" onclick=\"quickchart('df-f7c4f585-0aab-4b91-b5c6-c569c62bc667')\"\n",
              "            title=\"Suggest charts\"\n",
              "            style=\"display:none;\">\n",
              "\n",
              "<svg xmlns=\"http://www.w3.org/2000/svg\" height=\"24px\"viewBox=\"0 0 24 24\"\n",
              "     width=\"24px\">\n",
              "    <g>\n",
              "        <path d=\"M19 3H5c-1.1 0-2 .9-2 2v14c0 1.1.9 2 2 2h14c1.1 0 2-.9 2-2V5c0-1.1-.9-2-2-2zM9 17H7v-7h2v7zm4 0h-2V7h2v10zm4 0h-2v-4h2v4z\"/>\n",
              "    </g>\n",
              "</svg>\n",
              "  </button>\n",
              "\n",
              "<style>\n",
              "  .colab-df-quickchart {\n",
              "      --bg-color: #E8F0FE;\n",
              "      --fill-color: #1967D2;\n",
              "      --hover-bg-color: #E2EBFA;\n",
              "      --hover-fill-color: #174EA6;\n",
              "      --disabled-fill-color: #AAA;\n",
              "      --disabled-bg-color: #DDD;\n",
              "  }\n",
              "\n",
              "  [theme=dark] .colab-df-quickchart {\n",
              "      --bg-color: #3B4455;\n",
              "      --fill-color: #D2E3FC;\n",
              "      --hover-bg-color: #434B5C;\n",
              "      --hover-fill-color: #FFFFFF;\n",
              "      --disabled-bg-color: #3B4455;\n",
              "      --disabled-fill-color: #666;\n",
              "  }\n",
              "\n",
              "  .colab-df-quickchart {\n",
              "    background-color: var(--bg-color);\n",
              "    border: none;\n",
              "    border-radius: 50%;\n",
              "    cursor: pointer;\n",
              "    display: none;\n",
              "    fill: var(--fill-color);\n",
              "    height: 32px;\n",
              "    padding: 0;\n",
              "    width: 32px;\n",
              "  }\n",
              "\n",
              "  .colab-df-quickchart:hover {\n",
              "    background-color: var(--hover-bg-color);\n",
              "    box-shadow: 0 1px 2px rgba(60, 64, 67, 0.3), 0 1px 3px 1px rgba(60, 64, 67, 0.15);\n",
              "    fill: var(--button-hover-fill-color);\n",
              "  }\n",
              "\n",
              "  .colab-df-quickchart-complete:disabled,\n",
              "  .colab-df-quickchart-complete:disabled:hover {\n",
              "    background-color: var(--disabled-bg-color);\n",
              "    fill: var(--disabled-fill-color);\n",
              "    box-shadow: none;\n",
              "  }\n",
              "\n",
              "  .colab-df-spinner {\n",
              "    border: 2px solid var(--fill-color);\n",
              "    border-color: transparent;\n",
              "    border-bottom-color: var(--fill-color);\n",
              "    animation:\n",
              "      spin 1s steps(1) infinite;\n",
              "  }\n",
              "\n",
              "  @keyframes spin {\n",
              "    0% {\n",
              "      border-color: transparent;\n",
              "      border-bottom-color: var(--fill-color);\n",
              "      border-left-color: var(--fill-color);\n",
              "    }\n",
              "    20% {\n",
              "      border-color: transparent;\n",
              "      border-left-color: var(--fill-color);\n",
              "      border-top-color: var(--fill-color);\n",
              "    }\n",
              "    30% {\n",
              "      border-color: transparent;\n",
              "      border-left-color: var(--fill-color);\n",
              "      border-top-color: var(--fill-color);\n",
              "      border-right-color: var(--fill-color);\n",
              "    }\n",
              "    40% {\n",
              "      border-color: transparent;\n",
              "      border-right-color: var(--fill-color);\n",
              "      border-top-color: var(--fill-color);\n",
              "    }\n",
              "    60% {\n",
              "      border-color: transparent;\n",
              "      border-right-color: var(--fill-color);\n",
              "    }\n",
              "    80% {\n",
              "      border-color: transparent;\n",
              "      border-right-color: var(--fill-color);\n",
              "      border-bottom-color: var(--fill-color);\n",
              "    }\n",
              "    90% {\n",
              "      border-color: transparent;\n",
              "      border-bottom-color: var(--fill-color);\n",
              "    }\n",
              "  }\n",
              "</style>\n",
              "\n",
              "  <script>\n",
              "    async function quickchart(key) {\n",
              "      const quickchartButtonEl =\n",
              "        document.querySelector('#' + key + ' button');\n",
              "      quickchartButtonEl.disabled = true;  // To prevent multiple clicks.\n",
              "      quickchartButtonEl.classList.add('colab-df-spinner');\n",
              "      try {\n",
              "        const charts = await google.colab.kernel.invokeFunction(\n",
              "            'suggestCharts', [key], {});\n",
              "      } catch (error) {\n",
              "        console.error('Error during call to suggestCharts:', error);\n",
              "      }\n",
              "      quickchartButtonEl.classList.remove('colab-df-spinner');\n",
              "      quickchartButtonEl.classList.add('colab-df-quickchart-complete');\n",
              "    }\n",
              "    (() => {\n",
              "      let quickchartButtonEl =\n",
              "        document.querySelector('#df-f7c4f585-0aab-4b91-b5c6-c569c62bc667 button');\n",
              "      quickchartButtonEl.style.display =\n",
              "        google.colab.kernel.accessAllowed ? 'block' : 'none';\n",
              "    })();\n",
              "  </script>\n",
              "</div>\n",
              "\n",
              "    </div>\n",
              "  </div>\n"
            ],
            "application/vnd.google.colaboratory.intrinsic+json": {
              "type": "dataframe",
              "variable_name": "cares"
            }
          },
          "metadata": {},
          "execution_count": 305
        }
      ]
    },
    {
      "cell_type": "markdown",
      "source": [
        "## Save as CSV"
      ],
      "metadata": {
        "id": "hupo4P-RNyoT"
      }
    },
    {
      "cell_type": "code",
      "source": [
        "cares.to_csv(\"CARES_dataset_clean.csv\", index=False)"
      ],
      "metadata": {
        "id": "Quw1BioANOnQ"
      },
      "execution_count": 309,
      "outputs": []
    },
    {
      "cell_type": "code",
      "source": [],
      "metadata": {
        "id": "2dTmUIKIN6VR"
      },
      "execution_count": null,
      "outputs": []
    }
  ]
}