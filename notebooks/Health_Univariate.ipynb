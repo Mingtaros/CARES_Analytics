{
 "cells": [
  {
   "cell_type": "code",
   "execution_count": 103,
   "id": "1acd55b9-e486-4492-a5d0-b709b7279e58",
   "metadata": {},
   "outputs": [],
   "source": [
    "import numpy as np\n",
    "import pandas as pd\n",
    "\n",
    "from tqdm.notebook import tqdm\n",
    "tqdm.pandas()"
   ]
  },
  {
   "cell_type": "code",
   "execution_count": 104,
   "id": "3766cbfa-4f47-46e9-afc2-6334f39072e3",
   "metadata": {},
   "outputs": [
    {
     "data": {
      "text/html": [
       "<div>\n",
       "<style scoped>\n",
       "    .dataframe tbody tr th:only-of-type {\n",
       "        vertical-align: middle;\n",
       "    }\n",
       "\n",
       "    .dataframe tbody tr th {\n",
       "        vertical-align: top;\n",
       "    }\n",
       "\n",
       "    .dataframe thead th {\n",
       "        text-align: right;\n",
       "    }\n",
       "</style>\n",
       "<table border=\"1\" class=\"dataframe\">\n",
       "  <thead>\n",
       "    <tr style=\"text-align: right;\">\n",
       "      <th></th>\n",
       "      <th>GENDER</th>\n",
       "      <th>RCRI_score</th>\n",
       "      <th>Anemia category</th>\n",
       "      <th>Preoptransfusionwithin30days</th>\n",
       "      <th>Intraop</th>\n",
       "      <th>Postopwithin30days</th>\n",
       "      <th>Transfusionintraandpostop</th>\n",
       "      <th>AnaestypeCategory</th>\n",
       "      <th>PriorityCategory</th>\n",
       "      <th>TransfusionIntraandpostopCategory</th>\n",
       "      <th>...</th>\n",
       "      <th>RaceCategory</th>\n",
       "      <th>CVARCRICategory</th>\n",
       "      <th>IHDRCRICategory</th>\n",
       "      <th>CHFRCRICategory</th>\n",
       "      <th>DMinsulinRCRICategory</th>\n",
       "      <th>CreatinineRCRICategory</th>\n",
       "      <th>GradeofKidneyCategory</th>\n",
       "      <th>RDW15.7</th>\n",
       "      <th>ASAcategorybinned</th>\n",
       "      <th>ICUAdmgt24h</th>\n",
       "    </tr>\n",
       "  </thead>\n",
       "  <tbody>\n",
       "    <tr>\n",
       "      <th>0</th>\n",
       "      <td>FEMALE</td>\n",
       "      <td>0</td>\n",
       "      <td>mild</td>\n",
       "      <td>0</td>\n",
       "      <td>0</td>\n",
       "      <td>0</td>\n",
       "      <td>0</td>\n",
       "      <td>GA</td>\n",
       "      <td>Elective</td>\n",
       "      <td>0 units</td>\n",
       "      <td>...</td>\n",
       "      <td>Chinese</td>\n",
       "      <td>no</td>\n",
       "      <td>no</td>\n",
       "      <td>no</td>\n",
       "      <td>no</td>\n",
       "      <td>no</td>\n",
       "      <td>G1</td>\n",
       "      <td>&lt;= 15.7</td>\n",
       "      <td>I</td>\n",
       "      <td>no</td>\n",
       "    </tr>\n",
       "    <tr>\n",
       "      <th>1</th>\n",
       "      <td>MALE</td>\n",
       "      <td>0</td>\n",
       "      <td>moderate/severe</td>\n",
       "      <td>0</td>\n",
       "      <td>1</td>\n",
       "      <td>0</td>\n",
       "      <td>1</td>\n",
       "      <td>GA</td>\n",
       "      <td>Elective</td>\n",
       "      <td>1 unit</td>\n",
       "      <td>...</td>\n",
       "      <td>Chinese</td>\n",
       "      <td>no</td>\n",
       "      <td>no</td>\n",
       "      <td>no</td>\n",
       "      <td>no</td>\n",
       "      <td>no</td>\n",
       "      <td>G1</td>\n",
       "      <td>&lt;= 15.7</td>\n",
       "      <td>I</td>\n",
       "      <td>no</td>\n",
       "    </tr>\n",
       "    <tr>\n",
       "      <th>2</th>\n",
       "      <td>MALE</td>\n",
       "      <td>0</td>\n",
       "      <td>mild</td>\n",
       "      <td>0</td>\n",
       "      <td>0</td>\n",
       "      <td>0</td>\n",
       "      <td>0</td>\n",
       "      <td>GA</td>\n",
       "      <td>Elective</td>\n",
       "      <td>0 units</td>\n",
       "      <td>...</td>\n",
       "      <td>Chinese</td>\n",
       "      <td>no</td>\n",
       "      <td>no</td>\n",
       "      <td>no</td>\n",
       "      <td>no</td>\n",
       "      <td>no</td>\n",
       "      <td>G1</td>\n",
       "      <td>&gt;15.7</td>\n",
       "      <td>II</td>\n",
       "      <td>no</td>\n",
       "    </tr>\n",
       "    <tr>\n",
       "      <th>3</th>\n",
       "      <td>MALE</td>\n",
       "      <td>0</td>\n",
       "      <td>none</td>\n",
       "      <td>0</td>\n",
       "      <td>0</td>\n",
       "      <td>0</td>\n",
       "      <td>0</td>\n",
       "      <td>GA</td>\n",
       "      <td>Emergency</td>\n",
       "      <td>0 units</td>\n",
       "      <td>...</td>\n",
       "      <td>Indian</td>\n",
       "      <td>no</td>\n",
       "      <td>no</td>\n",
       "      <td>no</td>\n",
       "      <td>no</td>\n",
       "      <td>no</td>\n",
       "      <td>G1</td>\n",
       "      <td>&lt;= 15.7</td>\n",
       "      <td>I</td>\n",
       "      <td>no</td>\n",
       "    </tr>\n",
       "    <tr>\n",
       "      <th>4</th>\n",
       "      <td>FEMALE</td>\n",
       "      <td>0</td>\n",
       "      <td>none</td>\n",
       "      <td>0</td>\n",
       "      <td>0</td>\n",
       "      <td>0</td>\n",
       "      <td>0</td>\n",
       "      <td>GA</td>\n",
       "      <td>Elective</td>\n",
       "      <td>0 units</td>\n",
       "      <td>...</td>\n",
       "      <td>Chinese</td>\n",
       "      <td>no</td>\n",
       "      <td>no</td>\n",
       "      <td>no</td>\n",
       "      <td>no</td>\n",
       "      <td>no</td>\n",
       "      <td>G2</td>\n",
       "      <td>&lt;= 15.7</td>\n",
       "      <td>II</td>\n",
       "      <td>no</td>\n",
       "    </tr>\n",
       "  </tbody>\n",
       "</table>\n",
       "<p>5 rows × 24 columns</p>\n",
       "</div>"
      ],
      "text/plain": [
       "   GENDER  RCRI_score  Anemia category  Preoptransfusionwithin30days  Intraop  \\\n",
       "0  FEMALE           0             mild                             0        0   \n",
       "1    MALE           0  moderate/severe                             0        1   \n",
       "2    MALE           0             mild                             0        0   \n",
       "3    MALE           0             none                             0        0   \n",
       "4  FEMALE           0             none                             0        0   \n",
       "\n",
       "   Postopwithin30days  Transfusionintraandpostop AnaestypeCategory  \\\n",
       "0                   0                          0                GA   \n",
       "1                   0                          1                GA   \n",
       "2                   0                          0                GA   \n",
       "3                   0                          0                GA   \n",
       "4                   0                          0                GA   \n",
       "\n",
       "  PriorityCategory TransfusionIntraandpostopCategory  ... RaceCategory  \\\n",
       "0         Elective                           0 units  ...      Chinese   \n",
       "1         Elective                            1 unit  ...      Chinese   \n",
       "2         Elective                           0 units  ...      Chinese   \n",
       "3        Emergency                           0 units  ...       Indian   \n",
       "4         Elective                           0 units  ...      Chinese   \n",
       "\n",
       "  CVARCRICategory  IHDRCRICategory CHFRCRICategory DMinsulinRCRICategory  \\\n",
       "0              no               no              no                    no   \n",
       "1              no               no              no                    no   \n",
       "2              no               no              no                    no   \n",
       "3              no               no              no                    no   \n",
       "4              no               no              no                    no   \n",
       "\n",
       "  CreatinineRCRICategory GradeofKidneyCategory  RDW15.7 ASAcategorybinned  \\\n",
       "0                     no                    G1  <= 15.7                 I   \n",
       "1                     no                    G1  <= 15.7                 I   \n",
       "2                     no                    G1    >15.7                II   \n",
       "3                     no                    G1  <= 15.7                 I   \n",
       "4                     no                    G2  <= 15.7                II   \n",
       "\n",
       "  ICUAdmgt24h  \n",
       "0          no  \n",
       "1          no  \n",
       "2          no  \n",
       "3          no  \n",
       "4          no  \n",
       "\n",
       "[5 rows x 24 columns]"
      ]
     },
     "execution_count": 104,
     "metadata": {},
     "output_type": "execute_result"
    }
   ],
   "source": [
    "cares_data_path = \"C:/Users/aksha/OneDrive/Documents/mitb_sem2.5/Health_Analytics/Health_Leo/CARES_data_imputedv1.csv\"\n",
    "data = pd.read_csv(cares_data_path)\n",
    "data.head()"
   ]
  },
  {
   "cell_type": "code",
   "execution_count": 105,
   "id": "0afe8b9c-9794-4ec5-8e2e-691d8536e029",
   "metadata": {},
   "outputs": [
    {
     "data": {
      "text/plain": [
       "GENDER                               0\n",
       "RCRI_score                           0\n",
       "Anemia category                      0\n",
       "Preoptransfusionwithin30days         0\n",
       "Intraop                              0\n",
       "Postopwithin30days                   0\n",
       "Transfusionintraandpostop            0\n",
       "AnaestypeCategory                    0\n",
       "PriorityCategory                     0\n",
       "TransfusionIntraandpostopCategory    0\n",
       "AGEcategory                          0\n",
       "Mortality                            0\n",
       "thirtydaymortality                   0\n",
       "SurgRiskCategory                     0\n",
       "RaceCategory                         0\n",
       "CVARCRICategory                      0\n",
       "IHDRCRICategory                      0\n",
       "CHFRCRICategory                      0\n",
       "DMinsulinRCRICategory                0\n",
       "CreatinineRCRICategory               0\n",
       "GradeofKidneyCategory                0\n",
       "RDW15.7                              0\n",
       "ASAcategorybinned                    0\n",
       "ICUAdmgt24h                          0\n",
       "dtype: int64"
      ]
     },
     "execution_count": 105,
     "metadata": {},
     "output_type": "execute_result"
    }
   ],
   "source": [
    "data.isna().sum()"
   ]
  },
  {
   "cell_type": "code",
   "execution_count": 106,
   "id": "6314a9cb-d738-41d5-b82d-fb7e5c6a24dc",
   "metadata": {},
   "outputs": [
    {
     "data": {
      "text/plain": [
       "(69667, 24)"
      ]
     },
     "execution_count": 106,
     "metadata": {},
     "output_type": "execute_result"
    }
   ],
   "source": [
    "data.shape"
   ]
  },
  {
   "cell_type": "code",
   "execution_count": 107,
   "id": "315fa0ea-2ade-42d9-9bbf-4da02e796570",
   "metadata": {},
   "outputs": [
    {
     "data": {
      "text/plain": [
       "GENDER                               object\n",
       "RCRI_score                            int64\n",
       "Anemia category                      object\n",
       "Preoptransfusionwithin30days          int64\n",
       "Intraop                               int64\n",
       "Postopwithin30days                    int64\n",
       "Transfusionintraandpostop             int64\n",
       "AnaestypeCategory                    object\n",
       "PriorityCategory                     object\n",
       "TransfusionIntraandpostopCategory    object\n",
       "AGEcategory                          object\n",
       "Mortality                            object\n",
       "thirtydaymortality                     bool\n",
       "SurgRiskCategory                     object\n",
       "RaceCategory                         object\n",
       "CVARCRICategory                      object\n",
       "IHDRCRICategory                      object\n",
       "CHFRCRICategory                      object\n",
       "DMinsulinRCRICategory                object\n",
       "CreatinineRCRICategory               object\n",
       "GradeofKidneyCategory                object\n",
       "RDW15.7                              object\n",
       "ASAcategorybinned                    object\n",
       "ICUAdmgt24h                          object\n",
       "dtype: object"
      ]
     },
     "execution_count": 107,
     "metadata": {},
     "output_type": "execute_result"
    }
   ],
   "source": [
    "data.dtypes"
   ]
  },
  {
   "cell_type": "code",
   "execution_count": null,
   "id": "36174047-93c3-4859-9b71-e4a8cec511d4",
   "metadata": {},
   "outputs": [],
   "source": []
  },
  {
   "cell_type": "markdown",
   "id": "5ebdea2b-983a-4796-a191-c53b42002cfd",
   "metadata": {},
   "source": [
    "<b>Gender"
   ]
  },
  {
   "cell_type": "code",
   "execution_count": 108,
   "id": "bc13156d-37d7-4c83-b280-349d6266a7a9",
   "metadata": {},
   "outputs": [
    {
     "name": "stdout",
     "output_type": "stream",
     "text": [
      "Frequency Count for each Gender:\n",
      "GENDER\n",
      "FEMALE    35099\n",
      "MALE      34568\n",
      "Name: count, dtype: int64\n",
      "\n",
      "Mortality Rate for each Gender:\n",
      "GENDER\n",
      "FEMALE    0.067295\n",
      "MALE      0.086149\n",
      "Name: Mortality, dtype: float64\n"
     ]
    }
   ],
   "source": [
    "# Frequency Count: Counting the number of occurrences for each gender\n",
    "gender_counts = data['GENDER'].value_counts()\n",
    "print(\"Frequency Count for each Gender:\")\n",
    "print(gender_counts)\n",
    "\n",
    "# Calculating Mortality Rate: Proportion of deaths for each gender\n",
    "mortality_rate = data.groupby('GENDER')['Mortality'].apply(lambda x: (x == 'Yes').mean())\n",
    "print(\"\\nMortality Rate for each Gender:\")\n",
    "print(mortality_rate)"
   ]
  },
  {
   "cell_type": "markdown",
   "id": "e01f970c-3ac2-45fb-a7fa-337567cf5b3f",
   "metadata": {},
   "source": [
    "<b>Chi-Square Test of Independence<br>\n",
    "Null Hypothesis (H0): There is no association between gender and mortality; they are independent.<br>\n",
    "Alternative Hypothesis (H1): There is an association between gender and mortality; they are not independent."
   ]
  },
  {
   "cell_type": "code",
   "execution_count": 109,
   "id": "7a9a02e1-8e9b-4d8b-b4fc-e12f7486ca32",
   "metadata": {},
   "outputs": [],
   "source": [
    "from scipy import stats"
   ]
  },
  {
   "cell_type": "code",
   "execution_count": 110,
   "id": "f9036075-0c5c-4a1e-9086-4e90d60c570f",
   "metadata": {},
   "outputs": [
    {
     "name": "stdout",
     "output_type": "stream",
     "text": [
      "Contingency Table:\n",
      "Mortality  No death   Yes\n",
      "GENDER                   \n",
      "FEMALE        32737  2362\n",
      "MALE          31590  2978\n"
     ]
    }
   ],
   "source": [
    "# Create a contingency table\n",
    "contingency_table = pd.crosstab(data['GENDER'], data['Mortality'])\n",
    "print(\"Contingency Table:\")\n",
    "print(contingency_table)"
   ]
  },
  {
   "cell_type": "code",
   "execution_count": 111,
   "id": "e5924168-0a61-4c4e-aeca-4a8fdab60eef",
   "metadata": {},
   "outputs": [],
   "source": [
    "# Perform Chi-Square Test of Independence\n",
    "chi2, p, dof, expected = stats.chi2_contingency(contingency_table)"
   ]
  },
  {
   "cell_type": "code",
   "execution_count": 112,
   "id": "538457b3-8fed-4eb6-a13f-cef9a620ffab",
   "metadata": {},
   "outputs": [
    {
     "name": "stdout",
     "output_type": "stream",
     "text": [
      "\n",
      "Chi-Square Test Results:\n",
      "Chi2 Statistic: 87.20269819554039\n",
      "P-value: 9.7950080692153e-21\n",
      "Degrees of Freedom: 1\n",
      "Expected Frequencies:\n",
      "[[32408.64933182  2690.35066818]\n",
      " [31918.35066818  2649.64933182]]\n"
     ]
    }
   ],
   "source": [
    "print(\"\\nChi-Square Test Results:\")\n",
    "print(f\"Chi2 Statistic: {chi2}\")\n",
    "print(f\"P-value: {p}\")\n",
    "print(f\"Degrees of Freedom: {dof}\")\n",
    "print(\"Expected Frequencies:\") #Expected frequencies (if there were no relationship between gender and mortality) \n",
    "print(expected)"
   ]
  },
  {
   "cell_type": "markdown",
   "id": "96baf71e-e0cc-4e47-a665-779713837cff",
   "metadata": {},
   "source": [
    "<b>The p-value is significantly smaller than the common significance level (e.g., 0.05), indicating that the observed association between gender and mortality is statistically significant."
   ]
  },
  {
   "cell_type": "code",
   "execution_count": null,
   "id": "3aad2350-5b80-476e-92a2-b97d1e21421f",
   "metadata": {},
   "outputs": [],
   "source": []
  },
  {
   "cell_type": "markdown",
   "id": "ee21bd62-3450-46cf-b80f-3a48ac6aebef",
   "metadata": {},
   "source": [
    "<b>RCRI Score"
   ]
  },
  {
   "cell_type": "code",
   "execution_count": 113,
   "id": "17ed5e81-6426-439e-a826-7619693befd7",
   "metadata": {},
   "outputs": [
    {
     "name": "stdout",
     "output_type": "stream",
     "text": [
      "Summary Statistics for RCRI Score:\n",
      "Mean: 0.2744197396184707\n",
      "Median: 0.0\n",
      "Standard Deviation: 0.6091160443592442\n",
      "Range: 6\n",
      "\n",
      "Mortality Rate for each RCRI Score:\n",
      "RCRI_score\n",
      "0    0.057633\n",
      "1    0.115774\n",
      "2    0.220955\n",
      "3    0.347761\n",
      "4    0.368932\n",
      "5    0.606061\n",
      "6    0.333333\n",
      "Name: Mortality, dtype: float64\n"
     ]
    }
   ],
   "source": [
    "# Converting Mortality column to a categorical type with explicit categories\n",
    "data['Mortality'] = pd.Categorical(data['Mortality'], categories=['No death', 'Yes'])\n",
    "\n",
    "# Summary Statistics for RCRI_score\n",
    "mean_rcri = data['RCRI_score'].mean()\n",
    "median_rcri = data['RCRI_score'].median()\n",
    "std_rcri = data['RCRI_score'].std()\n",
    "range_rcri = data['RCRI_score'].max() - data['RCRI_score'].min()\n",
    "\n",
    "print(\"Summary Statistics for RCRI Score:\")\n",
    "print(f\"Mean: {mean_rcri}\")\n",
    "print(f\"Median: {median_rcri}\")\n",
    "print(f\"Standard Deviation: {std_rcri}\")\n",
    "print(f\"Range: {range_rcri}\")\n",
    "\n",
    "# Mortality Rate Calculation for each RCRI score\n",
    "mortality_rate = data.groupby('RCRI_score')['Mortality'].apply(lambda x: (x == 'Yes').mean())\n",
    "print(\"\\nMortality Rate for each RCRI Score:\")\n",
    "print(mortality_rate)"
   ]
  },
  {
   "cell_type": "markdown",
   "id": "88742ace-1a88-416d-b25c-0fed44a545a2",
   "metadata": {},
   "source": [
    "<b>Logistic regression will allow us to assess the odds of mortality as a function of the RCRI score and understand how the risk changes with different scores.<br>\n",
    "<i>Null Hypothesis (H0): The RCRI score does not predict the odds of mortality.<br>\n",
    "Alternative Hypothesis (H1): The RCRI score predicts the odds of mortality."
   ]
  },
  {
   "cell_type": "code",
   "execution_count": 114,
   "id": "1b2f7881-adda-4a9f-97ff-b304614c0469",
   "metadata": {},
   "outputs": [],
   "source": [
    "# Convert 'Mortality' to a binary numeric variable (0 for 'No death', 1 for 'Yes')\n",
    "data['Mortality_numeric'] = (data['Mortality'] == 'Yes').astype(int)"
   ]
  },
  {
   "cell_type": "code",
   "execution_count": 115,
   "id": "3779fb1d-76b8-4007-961f-d3b69007824d",
   "metadata": {},
   "outputs": [
    {
     "name": "stdout",
     "output_type": "stream",
     "text": [
      "Optimization terminated successfully.\n",
      "         Current function value: 0.259198\n",
      "         Iterations 7\n",
      "                           Logit Regression Results                           \n",
      "==============================================================================\n",
      "Dep. Variable:      Mortality_numeric   No. Observations:                69667\n",
      "Model:                          Logit   Df Residuals:                    69665\n",
      "Method:                           MLE   Df Model:                            1\n",
      "Date:                Wed, 07 Aug 2024   Pseudo R-squ.:                 0.04182\n",
      "Time:                        20:37:37   Log-Likelihood:                -18058.\n",
      "converged:                       True   LL-Null:                       -18846.\n",
      "Covariance Type:            nonrobust   LLR p-value:                     0.000\n",
      "==============================================================================\n",
      "                 coef    std err          z      P>|z|      [0.025      0.975]\n",
      "------------------------------------------------------------------------------\n",
      "const         -2.7760      0.017   -162.477      0.000      -2.810      -2.743\n",
      "RCRI_score     0.7058      0.017     42.506      0.000       0.673       0.738\n",
      "==============================================================================\n"
     ]
    }
   ],
   "source": [
    "import statsmodels.api as sm\n",
    "\n",
    "# Logistic Regression\n",
    "X = sm.add_constant(data['RCRI_score'])  # Adding a constant (intercept)\n",
    "y = data['Mortality_numeric']\n",
    "\n",
    "model = sm.Logit(y, X)\n",
    "result = model.fit()\n",
    "\n",
    "print(result.summary())"
   ]
  },
  {
   "cell_type": "markdown",
   "id": "85bd176b-db27-4d31-9a0d-da48c0591d7d",
   "metadata": {},
   "source": [
    "<b>RCRI Score: Each unit increase in the RCRI score increases the log-odds of mortality by approximately 0.7058.<br>\n",
    "Odds Ratio: exp(0.7058) ≈ 2.03<br>\n",
    "This means that for each additional point in the RCRI score, the odds of mortality are approximately 2 times higher.<br>"
   ]
  },
  {
   "cell_type": "code",
   "execution_count": null,
   "id": "924b0e31-d0c6-4105-b823-4a0fd53941b0",
   "metadata": {},
   "outputs": [],
   "source": []
  },
  {
   "cell_type": "markdown",
   "id": "6aac8669-45a2-4fb7-99a5-1f62b9b8cb4f",
   "metadata": {},
   "source": [
    "<b>Anemia Category"
   ]
  },
  {
   "cell_type": "code",
   "execution_count": 116,
   "id": "a9389946-8271-462c-bea4-19085ab1ccb2",
   "metadata": {},
   "outputs": [
    {
     "name": "stdout",
     "output_type": "stream",
     "text": [
      "Frequency Count for each Anemia Category:\n",
      "Anemia category\n",
      "none               48116\n",
      "mild               11590\n",
      "moderate/severe     9961\n",
      "Name: count, dtype: int64\n",
      "\n",
      "Mortality Rate for each Anemia Category:\n",
      "Anemia category\n",
      "mild               0.115617\n",
      "moderate/severe    0.230800\n",
      "none               0.035352\n",
      "Name: Mortality_numeric, dtype: float64\n"
     ]
    }
   ],
   "source": [
    "# Converting Mortality column to a binary numeric variable (0 for 'No death', 1 for 'Yes')\n",
    "# data['Mortality_numeric'] = (data['Mortality'] == 'Yes').astype(int)\n",
    "\n",
    "# Frequency Count for each Anemia Category\n",
    "frequency_count = data['Anemia category'].value_counts()\n",
    "print(\"Frequency Count for each Anemia Category:\")\n",
    "print(frequency_count)\n",
    "\n",
    "# Mortality Rate Calculation for each Anemia Category\n",
    "mortality_rate = data.groupby('Anemia category')['Mortality_numeric'].mean()\n",
    "print(\"\\nMortality Rate for each Anemia Category:\")\n",
    "print(mortality_rate)"
   ]
  },
  {
   "cell_type": "code",
   "execution_count": 117,
   "id": "89c012e8-02f1-4d4a-ba4d-e6c329ebb754",
   "metadata": {},
   "outputs": [
    {
     "name": "stdout",
     "output_type": "stream",
     "text": [
      "Chi-Square Statistic: 4752.48001382974\n",
      "P-value: 0.0\n",
      "Degrees of Freedom: 2\n",
      "Expected Frequencies:\n",
      "[[10701.62243243   888.37756757]\n",
      " [ 9197.48585413   763.51414587]\n",
      " [44427.89171344  3688.10828656]]\n",
      "There is a significant association between Anemia category and Mortality.\n"
     ]
    }
   ],
   "source": [
    "# Convert Mortality column to a binary numeric variable (0 for 'No death', 1 for 'Yes')\n",
    "# data['Mortality_numeric'] = (data['Mortality'] == 'Yes').astype(int)\n",
    "\n",
    "# Create a contingency table\n",
    "contingency_table = pd.crosstab(data['Anemia category'], data['Mortality_numeric'])\n",
    "\n",
    "# Perform Chi-Square Test\n",
    "chi2_stat, p_value, dof, expected = stats.chi2_contingency(contingency_table)\n",
    "\n",
    "# Print results\n",
    "print(\"Chi-Square Statistic:\", chi2_stat)\n",
    "print(\"P-value:\", p_value)\n",
    "print(\"Degrees of Freedom:\", dof)\n",
    "print(\"Expected Frequencies:\")\n",
    "print(expected)\n",
    "\n",
    "# Interpret results\n",
    "alpha = 0.05\n",
    "if p_value < alpha:\n",
    "    print(\"There is a significant association between Anemia category and Mortality.\")\n",
    "else:\n",
    "    print(\"There is no significant association between Anemia category and Mortality.\")"
   ]
  },
  {
   "cell_type": "code",
   "execution_count": null,
   "id": "ccea4b4e-2d80-448e-a7df-4dd5d197a3fe",
   "metadata": {},
   "outputs": [],
   "source": []
  },
  {
   "cell_type": "markdown",
   "id": "bf700ca1-9fbc-406f-82f1-c1d2a04c2ac1",
   "metadata": {},
   "source": [
    "<b>Preop Transfusion within 30 Days"
   ]
  },
  {
   "cell_type": "code",
   "execution_count": 118,
   "id": "4a0c9efa-ff71-4809-a417-5f0e2b89f108",
   "metadata": {},
   "outputs": [
    {
     "name": "stdout",
     "output_type": "stream",
     "text": [
      "Frequency Count for Preoperative Transfusion:\n",
      "Preoptransfusionwithin30days\n",
      "0     67882\n",
      "1       958\n",
      "2       436\n",
      "3       176\n",
      "4        73\n",
      "5        44\n",
      "7        23\n",
      "6        23\n",
      "8        19\n",
      "10        7\n",
      "11        7\n",
      "9         6\n",
      "13        5\n",
      "14        4\n",
      "17        1\n",
      "12        1\n",
      "20        1\n",
      "21        1\n",
      "Name: count, dtype: int64\n"
     ]
    }
   ],
   "source": [
    "# Convert Mortality column to a binary numeric variable (0 for 'No death', 1 for 'Yes')\n",
    "# data['Mortality_numeric'] = (data['Mortality'] == 'Yes').astype(int)\n",
    "\n",
    "# Frequency Count for Preoperative Transfusion\n",
    "frequency_count = data['Preoptransfusionwithin30days'].value_counts()\n",
    "print(\"Frequency Count for Preoperative Transfusion:\")\n",
    "print(frequency_count)"
   ]
  },
  {
   "cell_type": "code",
   "execution_count": 119,
   "id": "de479974-3bb3-4326-b23e-bebd6edb6f4b",
   "metadata": {},
   "outputs": [
    {
     "name": "stdout",
     "output_type": "stream",
     "text": [
      "Fisher's Exact Test Results:\n",
      "Contingency Table:\n",
      "Mortality_numeric      0     1\n",
      "Transfusion_Group             \n",
      "Any transfusion     1187   598\n",
      "No transfusion     63140  4742\n",
      "Odds Ratio: 0.14907557977547373\n",
      "P-value: 4.704868993621319e-226\n"
     ]
    }
   ],
   "source": [
    "from scipy.stats import fisher_exact\n",
    "\n",
    "# Combine transfusion categories into two groups\n",
    "data['Transfusion_Group'] = data['Preoptransfusionwithin30days'].apply(lambda x: 'No transfusion' if x == 0 else 'Any transfusion')\n",
    "\n",
    "# Create a 2x2 contingency table\n",
    "contingency_table = pd.crosstab(data['Transfusion_Group'], data['Mortality_numeric'])\n",
    "\n",
    "# Perform Fisher's Exact Test\n",
    "oddsratio, p_value = fisher_exact(contingency_table)\n",
    "\n",
    "print(\"Fisher's Exact Test Results:\")\n",
    "print(f\"Contingency Table:\\n{contingency_table}\")\n",
    "print(f\"Odds Ratio: {oddsratio}\")\n",
    "print(f\"P-value: {p_value}\")"
   ]
  },
  {
   "cell_type": "markdown",
   "id": "f64caea9-871d-4b41-8740-3505235177a6",
   "metadata": {},
   "source": [
    "Explanation:<br>\n",
    "\n",
    "Any transfusion: Patients who received at least one unit of transfusion.<br>\n",
    "1187: Number of patients in this group who did not die.<br>\n",
    "598: Number of patients in this group who died.<br><br>\n",
    "No transfusion: Patients who received no transfusion.<br>\n",
    "63140: Number of patients in this group who did not die.<br>\n",
    "4742: Number of patients in this group who died.<br><br>\n",
    "<b>The p-value is extremely small which indicates that there is a very strong statistical evidence against the null hypothesis.<br>\n",
    "The odds of mortality in the transfusion group are about 0.15 times (or 15%) of the odds in the no transfusion group, suggesting a protective effect of transfusions against mortality."
   ]
  },
  {
   "cell_type": "code",
   "execution_count": null,
   "id": "57ad11d1-86d2-461b-8d0b-219ea4521493",
   "metadata": {},
   "outputs": [],
   "source": []
  },
  {
   "cell_type": "markdown",
   "id": "11fc8a27-0bb8-4a25-a2a1-d9ac8fc3a6a9",
   "metadata": {},
   "source": [
    "<b>Transfusionintraandpostop"
   ]
  },
  {
   "cell_type": "code",
   "execution_count": 120,
   "id": "2e1689f9-f8c0-4789-a385-5e3e7323a3a2",
   "metadata": {},
   "outputs": [
    {
     "name": "stdout",
     "output_type": "stream",
     "text": [
      "Frequency Count for Transfusion intra and post operation:\n",
      "Transfusionintraandpostop\n",
      "0     64953\n",
      "1      3794\n",
      "2       589\n",
      "3       176\n",
      "4        61\n",
      "5        34\n",
      "6        23\n",
      "7        12\n",
      "8         9\n",
      "9         5\n",
      "10        3\n",
      "13        3\n",
      "16        2\n",
      "24        1\n",
      "17        1\n",
      "11        1\n",
      "Name: count, dtype: int64\n"
     ]
    }
   ],
   "source": [
    "# Convert Mortality column to a binary numeric variable (0 for 'No death', 1 for 'Yes')\n",
    "# data['Mortality_numeric'] = (data['Mortality'] == 'Yes').astype(int)\n",
    "\n",
    "# Frequency Count for Preoperative Transfusion\n",
    "frequency_count = data['Transfusionintraandpostop'].value_counts()\n",
    "print(\"Frequency Count for Transfusion intra and post operation:\")\n",
    "print(frequency_count)"
   ]
  },
  {
   "cell_type": "code",
   "execution_count": 121,
   "id": "c2102679-1749-4781-9fce-65e6b34f4910",
   "metadata": {},
   "outputs": [
    {
     "name": "stdout",
     "output_type": "stream",
     "text": [
      "Fisher's Exact Test Results:\n",
      "Contingency Table:\n",
      "Mortality_numeric      0     1\n",
      "Transfusion_Group             \n",
      "Any transfusion     3520  1194\n",
      "No transfusion     60807  4146\n",
      "Odds Ratio: 0.20100833074874924\n",
      "P-value: 0.0\n"
     ]
    }
   ],
   "source": [
    "from scipy.stats import fisher_exact\n",
    "\n",
    "# Combine transfusion categories into two groups\n",
    "data['Transfusion_Group'] = data['Transfusionintraandpostop'].apply(lambda x: 'No transfusion' if x == 0 else 'Any transfusion')\n",
    "\n",
    "# Create a 2x2 contingency table\n",
    "contingency_table = pd.crosstab(data['Transfusion_Group'], data['Mortality_numeric'])\n",
    "\n",
    "# Perform Fisher's Exact Test\n",
    "oddsratio, p_value = fisher_exact(contingency_table)\n",
    "\n",
    "print(\"Fisher's Exact Test Results:\")\n",
    "print(f\"Contingency Table:\\n{contingency_table}\")\n",
    "print(f\"Odds Ratio: {oddsratio}\")\n",
    "print(f\"P-value: {p_value}\")"
   ]
  },
  {
   "cell_type": "markdown",
   "id": "be8b836b-ad69-40f8-a1c9-75ce67df4c53",
   "metadata": {},
   "source": [
    "Explanation:<br>\n",
    "\n",
    "Any transfusion: Patients who received at least one unit of transfusion.<br>\n",
    "3520: Number of patients who did not die.<br>\n",
    "1194: Number of patients who died.<br>\n",
    "No transfusion: Patients who received no transfusion.<br>\n",
    "60807: Number of patients who did not die.<br>\n",
    "4146: Number of patients who died.<br><br>\n",
    "<b>The p-value is extremely small which indicates that there is a very strong statistical evidence against the null hypothesis.<br>\n",
    "The odds of mortality for patients with any transfusion are about 20% of the odds for patients with no transfusion, suggesting a protective effect of transfusion against mortality."
   ]
  },
  {
   "cell_type": "markdown",
   "id": "99db2c08-a018-4bc3-88c8-184373ddc665",
   "metadata": {},
   "source": []
  },
  {
   "cell_type": "markdown",
   "id": "5068560e-58a0-42f1-9cf9-4c1113f18c69",
   "metadata": {},
   "source": [
    "<b>AnaestypeCategory"
   ]
  },
  {
   "cell_type": "code",
   "execution_count": 122,
   "id": "af18a346-11a2-4968-9cfa-8be9ebcd84a1",
   "metadata": {},
   "outputs": [
    {
     "name": "stdout",
     "output_type": "stream",
     "text": [
      "Frequency Count for each Anesthesia Type:\n",
      "AnaestypeCategory\n",
      "GA    58364\n",
      "RA    11303\n",
      "Name: count, dtype: int64\n",
      "\n",
      "Mortality Rate for each Anesthesia Type:\n",
      "AnaestypeCategory\n",
      "GA    0.070848\n",
      "RA    0.106609\n",
      "Name: Mortality_numeric, dtype: float64\n"
     ]
    }
   ],
   "source": [
    "# Frequency count of each anesthesia type\n",
    "frequency_count = data['AnaestypeCategory'].value_counts()\n",
    "\n",
    "# Mortality rate for each anesthesia type\n",
    "mortality_rate = data.groupby('AnaestypeCategory')['Mortality_numeric'].mean()\n",
    "\n",
    "# Display the results\n",
    "print(\"Frequency Count for each Anesthesia Type:\")\n",
    "print(frequency_count)\n",
    "print(\"\\nMortality Rate for each Anesthesia Type:\")\n",
    "print(mortality_rate)"
   ]
  },
  {
   "cell_type": "markdown",
   "id": "56fc9f81-2289-4374-94d5-58e3b09420d2",
   "metadata": {},
   "source": [
    "<b>Frequency: General anesthesia is much more common than regional anesthesia in this dataset.<br>\n",
    "Mortality Rate: The mortality rate is higher for patients who underwent surgery with regional anesthesia compared to those with general anesthesia (10.66% vs. 7.08%)."
   ]
  },
  {
   "cell_type": "code",
   "execution_count": 123,
   "id": "96330af1-d1d0-41f2-9c23-fe81d5c4e828",
   "metadata": {},
   "outputs": [
    {
     "name": "stdout",
     "output_type": "stream",
     "text": [
      "\n",
      "Chi-Square Test Results:\n",
      "Chi2 Statistic: 170.5895799900371\n",
      "P-value: 5.5004422705253526e-39\n",
      "Degrees of Freedom: 1\n"
     ]
    }
   ],
   "source": [
    "# Create a contingency table\n",
    "contingency_table = pd.crosstab(data['AnaestypeCategory'], data['Mortality_numeric'])\n",
    "\n",
    "# Perform Chi-Square test\n",
    "chi2, p, dof, expected = stats.chi2_contingency(contingency_table)\n",
    "\n",
    "# Display the results\n",
    "print(\"\\nChi-Square Test Results:\")\n",
    "print(f\"Chi2 Statistic: {chi2}\")\n",
    "print(f\"P-value: {p}\")\n",
    "print(f\"Degrees of Freedom: {dof}\")"
   ]
  },
  {
   "cell_type": "markdown",
   "id": "acd9b102-2e89-4896-8fb1-139209227b08",
   "metadata": {},
   "source": [
    "<b>There is a statistically significant association between the type of anesthesia and mortality rates."
   ]
  },
  {
   "cell_type": "code",
   "execution_count": null,
   "id": "0104f2d3-c20d-4d65-83cb-868ca5801dc0",
   "metadata": {},
   "outputs": [],
   "source": []
  },
  {
   "cell_type": "markdown",
   "id": "5ff3fd62-6d50-49bb-8e73-f3e6f2480cb9",
   "metadata": {},
   "source": [
    "<b>Race Category"
   ]
  },
  {
   "cell_type": "code",
   "execution_count": 124,
   "id": "f48b05cb-4dcf-4bc5-8a8d-1008319e3a86",
   "metadata": {},
   "outputs": [
    {
     "name": "stdout",
     "output_type": "stream",
     "text": [
      "Frequency Count for each Priority Category:\n",
      "RaceCategory\n",
      "Chinese    48605\n",
      "Malay       7431\n",
      "Others      7019\n",
      "Indian      6612\n",
      "Name: count, dtype: int64\n"
     ]
    }
   ],
   "source": [
    "frequency_count = data['RaceCategory'].value_counts()\n",
    "print(\"Frequency Count for each Priority Category:\")\n",
    "print(frequency_count)"
   ]
  },
  {
   "cell_type": "code",
   "execution_count": 125,
   "id": "d3ea1695-9464-43ff-8e20-a2b4ab373ccb",
   "metadata": {},
   "outputs": [
    {
     "name": "stdout",
     "output_type": "stream",
     "text": [
      "\n",
      "Contingency Table:\n",
      "Mortality_numeric      0     1\n",
      "RaceCategory                  \n",
      "Chinese            44350  4255\n",
      "Indian              6270   342\n",
      "Malay               6869   562\n",
      "Others              6838   181\n",
      "\n",
      "Chi-Square Test Results:\n",
      "Chi2 Statistic: 396.19707389151836\n",
      "P-value: 1.475320109998201e-85\n",
      "Degrees of Freedom: 3\n"
     ]
    }
   ],
   "source": [
    "# Contingency Table\n",
    "contingency_table = pd.crosstab(data['RaceCategory'], data['Mortality_numeric'])\n",
    "print(\"\\nContingency Table:\")\n",
    "print(contingency_table)\n",
    "\n",
    "# Chi-Square Test\n",
    "chi2, p, dof, expected = stats.chi2_contingency(contingency_table)\n",
    "print(\"\\nChi-Square Test Results:\")\n",
    "print(f\"Chi2 Statistic: {chi2}\")\n",
    "print(f\"P-value: {p}\")\n",
    "print(f\"Degrees of Freedom: {dof}\")"
   ]
  },
  {
   "cell_type": "markdown",
   "id": "a00831c9-b232-47b7-8cea-c201cfbbdf95",
   "metadata": {},
   "source": [
    "<b> There is a statistically significant association between the Race and patient mortality."
   ]
  },
  {
   "cell_type": "code",
   "execution_count": null,
   "id": "dbb360e2-be4a-4104-a57b-81f09bd8d743",
   "metadata": {},
   "outputs": [],
   "source": []
  },
  {
   "cell_type": "markdown",
   "id": "36cdd6e6-b005-4b80-9032-35155e022c9b",
   "metadata": {},
   "source": [
    "<b>Age Category"
   ]
  },
  {
   "cell_type": "code",
   "execution_count": 60,
   "id": "846fbea0-133b-498b-a4cd-15f278f6e1a7",
   "metadata": {},
   "outputs": [
    {
     "name": "stdout",
     "output_type": "stream",
     "text": [
      "Frequency Count for each Age Category:\n",
      "AGEcategory\n",
      "50-64    22110\n",
      "30-49    19419\n",
      "65-74    13139\n",
      "18-29     6983\n",
      "75-84     6724\n",
      ">=85      1292\n",
      "Name: count, dtype: int64\n",
      "\n",
      "Mortality Rate for each Age Category:\n",
      "AGEcategory\n",
      "18-29    0.006015\n",
      "30-49    0.023791\n",
      "50-64    0.078019\n",
      "65-74    0.117056\n",
      "75-84    0.179952\n",
      ">=85     0.280960\n",
      "Name: Mortality_numeric, dtype: float64\n"
     ]
    }
   ],
   "source": [
    "# Frequency Count\n",
    "age_category_count = data['AGEcategory'].value_counts()\n",
    "print(\"Frequency Count for each Age Category:\")\n",
    "print(age_category_count)\n",
    "\n",
    "# Mortality Rate\n",
    "age_category_mortality_rate = data.groupby('AGEcategory')['Mortality_numeric'].mean()\n",
    "print(\"\\nMortality Rate for each Age Category:\")\n",
    "print(age_category_mortality_rate)"
   ]
  },
  {
   "cell_type": "code",
   "execution_count": 63,
   "id": "3bd29e76-a399-484f-a077-a25c5ef2d7a9",
   "metadata": {},
   "outputs": [
    {
     "name": "stdout",
     "output_type": "stream",
     "text": [
      "\n",
      "Contingency Table:\n",
      "Mortality_numeric      0     1\n",
      "AGEcategory                   \n",
      "18-29               6941    42\n",
      "30-49              18957   462\n",
      "50-64              20385  1725\n",
      "65-74              11601  1538\n",
      "75-84               5514  1210\n",
      ">=85                 929   363\n",
      "\n",
      "Chi-Square Test Results:\n",
      "Chi2 Statistic: 3338.422281464878\n",
      "P-value: 0.0\n",
      "Degrees of Freedom: 5\n"
     ]
    }
   ],
   "source": [
    "# Contingency Table\n",
    "contingency_table_age = pd.crosstab(data['AGEcategory'], data['Mortality_numeric'])\n",
    "print(\"\\nContingency Table:\")\n",
    "print(contingency_table_age)\n",
    "\n",
    "# Chi-Square Test\n",
    "chi2_age, p_age, dof_age, expected_age = stats.chi2_contingency(contingency_table_age)\n",
    "print(\"\\nChi-Square Test Results:\")\n",
    "print(f\"Chi2 Statistic: {chi2_age}\")\n",
    "print(f\"P-value: {p_age}\")\n",
    "print(f\"Degrees of Freedom: {dof_age}\")"
   ]
  },
  {
   "cell_type": "markdown",
   "id": "0d54c18e-03d1-4879-a445-c94ea9627d82",
   "metadata": {},
   "source": [
    "<b> There is a statistically significant association between age and patient mortality."
   ]
  },
  {
   "cell_type": "code",
   "execution_count": null,
   "id": "d7fdc4e3-f64d-4972-ae17-13c45fe11cbb",
   "metadata": {},
   "outputs": [],
   "source": []
  },
  {
   "cell_type": "markdown",
   "id": "e8d6e456-c181-4ade-bbe2-83ba7334e4bd",
   "metadata": {},
   "source": [
    "<b> ASA category"
   ]
  },
  {
   "cell_type": "code",
   "execution_count": 64,
   "id": "12d62418-675a-4908-bc82-8f6c244a0763",
   "metadata": {},
   "outputs": [
    {
     "name": "stdout",
     "output_type": "stream",
     "text": [
      "Frequency Count for each ASA Category:\n",
      "ASAcategorybinned\n",
      "II       39286\n",
      "I        15870\n",
      "III      13420\n",
      "IV-VI     1091\n",
      "Name: count, dtype: int64\n",
      "\n",
      "Mortality Rate for each ASA Category:\n",
      "ASAcategorybinned\n",
      "I        0.010334\n",
      "II       0.050247\n",
      "III      0.205291\n",
      "IV-VI    0.409716\n",
      "Name: Mortality_numeric, dtype: float64\n"
     ]
    }
   ],
   "source": [
    "# Frequency Count\n",
    "asa_category_count = data['ASAcategorybinned'].value_counts()\n",
    "print(\"Frequency Count for each ASA Category:\")\n",
    "print(asa_category_count)\n",
    "\n",
    "# Mortality Rate\n",
    "asa_category_mortality_rate = data.groupby('ASAcategorybinned')['Mortality_numeric'].mean()\n",
    "print(\"\\nMortality Rate for each ASA Category:\")\n",
    "print(asa_category_mortality_rate)"
   ]
  },
  {
   "cell_type": "code",
   "execution_count": 65,
   "id": "03907e82-ad98-45c0-8ceb-22628117e034",
   "metadata": {},
   "outputs": [
    {
     "name": "stdout",
     "output_type": "stream",
     "text": [
      "\n",
      "Contingency Table:\n",
      "Mortality_numeric      0     1\n",
      "ASAcategorybinned             \n",
      "I                  15706   164\n",
      "II                 37312  1974\n",
      "III                10665  2755\n",
      "IV-VI                644   447\n",
      "\n",
      "Chi-Square Test Results:\n",
      "Chi2 Statistic: 6220.945926622753\n",
      "P-value: 0.0\n",
      "Degrees of Freedom: 3\n"
     ]
    }
   ],
   "source": [
    "# Contingency Table\n",
    "contingency_table_asa = pd.crosstab(data['ASAcategorybinned'], data['Mortality_numeric'])\n",
    "print(\"\\nContingency Table:\")\n",
    "print(contingency_table_asa)\n",
    "\n",
    "# Chi-Square Test\n",
    "chi2_asa, p_asa, dof_asa, expected_asa = stats.chi2_contingency(contingency_table_asa)\n",
    "print(\"\\nChi-Square Test Results:\")\n",
    "print(f\"Chi2 Statistic: {chi2_asa}\")\n",
    "print(f\"P-value: {p_asa}\")\n",
    "print(f\"Degrees of Freedom: {dof_asa}\")"
   ]
  },
  {
   "cell_type": "markdown",
   "id": "d072b78b-d814-4b54-a0e2-4877d4f32eb3",
   "metadata": {},
   "source": [
    "<b> There is a statistically significant association between ASA category and patient mortality."
   ]
  },
  {
   "cell_type": "code",
   "execution_count": null,
   "id": "9ec5dcff-860a-4de0-9d55-d2978206f4e5",
   "metadata": {},
   "outputs": [],
   "source": []
  },
  {
   "cell_type": "markdown",
   "id": "f4a5c615-bfec-4e0a-a429-aa3f2b947833",
   "metadata": {},
   "source": [
    "<b> ICU Admission within 24 Hours"
   ]
  },
  {
   "cell_type": "code",
   "execution_count": 66,
   "id": "3fa59f60-7bc0-4aea-b0a5-e2b96606703b",
   "metadata": {},
   "outputs": [
    {
     "name": "stdout",
     "output_type": "stream",
     "text": [
      "Frequency Count for ICU Admission Status:\n",
      "ICUAdmgt24h\n",
      "no     68498\n",
      "yes     1169\n",
      "Name: count, dtype: int64\n",
      "\n",
      "Mortality Rate for ICU Admission Status:\n",
      "ICUAdmgt24h\n",
      "no     0.071316\n",
      "yes    0.389222\n",
      "Name: Mortality_numeric, dtype: float64\n"
     ]
    }
   ],
   "source": [
    "# Frequency Count\n",
    "icu_admission_count = data['ICUAdmgt24h'].value_counts()\n",
    "print(\"Frequency Count for ICU Admission Status:\")\n",
    "print(icu_admission_count)\n",
    "\n",
    "# Mortality Rate\n",
    "icu_admission_mortality_rate = data.groupby('ICUAdmgt24h')['Mortality_numeric'].mean()\n",
    "print(\"\\nMortality Rate for ICU Admission Status:\")\n",
    "print(icu_admission_mortality_rate)"
   ]
  },
  {
   "cell_type": "code",
   "execution_count": 69,
   "id": "6af42a8b-c806-4a2e-881f-92ded189f9f6",
   "metadata": {},
   "outputs": [
    {
     "name": "stdout",
     "output_type": "stream",
     "text": [
      "\n",
      "Contingency Table:\n",
      "Mortality_numeric      0     1\n",
      "ICUAdmgt24h                   \n",
      "no                 63613  4885\n",
      "yes                  714   455\n",
      "\n",
      "Chi-Square Test Results:\n",
      "Chi2 Statistic: 1636.7862069880257\n",
      "P-value: 0.0\n",
      "Degrees of Freedom: 1\n",
      "Expected Frequencies:\n",
      "[[63247.60426027  5250.39573973]\n",
      " [ 1079.39573973    89.60426027]]\n"
     ]
    }
   ],
   "source": [
    "# Contingency Table\n",
    "contingency_table_icu = pd.crosstab(data['ICUAdmgt24h'], data['Mortality_numeric'])\n",
    "print(\"\\nContingency Table:\")\n",
    "print(contingency_table_icu)\n",
    "\n",
    "# Chi-Square Test\n",
    "chi2_icu, p_icu, dof_icu, expected_icu = stats.chi2_contingency(contingency_table_icu)\n",
    "print(\"\\nChi-Square Test Results:\")\n",
    "print(f\"Chi2 Statistic: {chi2_icu}\")\n",
    "print(f\"P-value: {p_icu}\")\n",
    "print(f\"Degrees of Freedom: {dof_icu}\")\n",
    "print(\"Expected Frequencies:\")\n",
    "print(expected_icu)"
   ]
  },
  {
   "cell_type": "markdown",
   "id": "743230cb-30fa-46a6-b808-8322a33f64ce",
   "metadata": {},
   "source": [
    "<b> There is a statistically significant association between ICUAdmgt24h and patient mortality."
   ]
  },
  {
   "cell_type": "code",
   "execution_count": null,
   "id": "e0cca4e2-3d28-49be-bd4e-0fbb7e7cf776",
   "metadata": {},
   "outputs": [],
   "source": []
  },
  {
   "cell_type": "markdown",
   "id": "5ac58ad7-0bdd-4fda-95bf-1a5d15384a48",
   "metadata": {},
   "source": [
    "## Multivariate Logistic to factor in all"
   ]
  },
  {
   "cell_type": "markdown",
   "id": "9486091d-d644-4e46-8089-73e5f858bcfc",
   "metadata": {},
   "source": [
    "Logistic Regression Details\n",
    "Single Dependent Variable: In logistic regression, even though the dependent variable (e.g., mortality) is binary (Yes/No), the model considers the effects of multiple independent variables simultaneously. This is why logistic regression is considered a multivariate technique.\n",
    "\n",
    "Independent Variables: These can include a mix of categorical and continuous predictors. The goal is to understand how each predictor, while accounting for the presence of others, affects the probability of the outcome."
   ]
  },
  {
   "cell_type": "code",
   "execution_count": 74,
   "id": "41d9f223-7126-4fe0-89f1-6e4793d89d7a",
   "metadata": {},
   "outputs": [
    {
     "name": "stdout",
     "output_type": "stream",
     "text": [
      "Optimization terminated successfully.\n",
      "         Current function value: 0.211216\n",
      "         Iterations 8\n",
      "                           Logit Regression Results                           \n",
      "==============================================================================\n",
      "Dep. Variable:      Mortality_numeric   No. Observations:                69667\n",
      "Model:                          Logit   Df Residuals:                    69647\n",
      "Method:                           MLE   Df Model:                           19\n",
      "Date:                Wed, 07 Aug 2024   Pseudo R-squ.:                  0.2192\n",
      "Time:                        19:22:24   Log-Likelihood:                -14715.\n",
      "converged:                       True   LL-Null:                       -18846.\n",
      "Covariance Type:            nonrobust   LLR p-value:                     0.000\n",
      "=====================================================================================================\n",
      "                                        coef    std err          z      P>|z|      [0.025      0.975]\n",
      "-----------------------------------------------------------------------------------------------------\n",
      "const                                -4.8541      0.061    -79.938      0.000      -4.973      -4.735\n",
      "RCRI_score                            0.2040      0.038      5.386      0.000       0.130       0.278\n",
      "Preoptransfusionwithin30days          0.0719      0.024      3.027      0.002       0.025       0.118\n",
      "Intraop                               0.4358        nan        nan        nan         nan         nan\n",
      "Postopwithin30days                   -0.1847        nan        nan        nan         nan         nan\n",
      "Transfusionintraandpostop             0.2511        nan        nan        nan         nan         nan\n",
      "AnaestypeCategory                    -0.0530      0.040     -1.316      0.188      -0.132       0.026\n",
      "PriorityCategory                      0.4788      0.035     13.672      0.000       0.410       0.547\n",
      "TransfusionIntraandpostopCategory    -0.0007      0.127     -0.005      0.996      -0.250       0.248\n",
      "AGEcategory                           0.4088      0.015     27.482      0.000       0.380       0.438\n",
      "SurgRiskCategory                     -0.2270      0.024     -9.291      0.000      -0.275      -0.179\n",
      "RaceCategory                         -0.1800      0.019     -9.473      0.000      -0.217      -0.143\n",
      "CVARCRICategory                      -0.1524      0.086     -1.764      0.078      -0.322       0.017\n",
      "IHDRCRICategory                      -0.3155      0.067     -4.723      0.000      -0.446      -0.185\n",
      "CHFRCRICategory                       0.0199      0.103      0.194      0.846      -0.181       0.221\n",
      "DMinsulinRCRICategory                -0.0678      0.081     -0.837      0.403      -0.227       0.091\n",
      "CreatinineRCRICategory               -0.1145      0.076     -1.513      0.130      -0.263       0.034\n",
      "GradeofKidneyCategory                 0.2624      0.020     13.142      0.000       0.223       0.301\n",
      "RDW15.7                               0.9373      0.039     23.866      0.000       0.860       1.014\n",
      "ASAcategorybinned                     0.8860      0.027     32.882      0.000       0.833       0.939\n",
      "ICUAdmgt24h                           0.6836      0.077      8.871      0.000       0.533       0.835\n",
      "=====================================================================================================\n"
     ]
    }
   ],
   "source": [
    "from sklearn.preprocessing import LabelEncoder\n",
    "\n",
    "# Convert categorical variables to numeric using Label Encoding\n",
    "label_encoders = {}\n",
    "for col in ['GENDER', 'Anemia category', 'AnaestypeCategory', 'PriorityCategory',\n",
    "            'TransfusionIntraandpostopCategory', 'AGEcategory', 'SurgRiskCategory',\n",
    "            'RaceCategory', 'CVARCRICategory', 'IHDRCRICategory', 'CHFRCRICategory',\n",
    "            'DMinsulinRCRICategory', 'CreatinineRCRICategory', 'GradeofKidneyCategory',\n",
    "            'RDW15.7', 'ASAcategorybinned', 'ICUAdmgt24h']:\n",
    "    le = LabelEncoder()\n",
    "    data[col] = le.fit_transform(data[col].astype(str))  # Ensure all data is string for encoding\n",
    "    label_encoders[col] = le\n",
    "\n",
    "# Convert target variable 'Mortality' to binary\n",
    "data['Mortality_numeric'] = (data['Mortality'] == 'Yes').astype(int)\n",
    "\n",
    "# Define the independent and dependent variables\n",
    "X = data[['RCRI_score', 'Preoptransfusionwithin30days', 'Intraop', 'Postopwithin30days', \n",
    "          'Transfusionintraandpostop', 'AnaestypeCategory', 'PriorityCategory', \n",
    "          'TransfusionIntraandpostopCategory', 'AGEcategory', 'SurgRiskCategory', \n",
    "          'RaceCategory', 'CVARCRICategory', 'IHDRCRICategory', 'CHFRCRICategory', \n",
    "          'DMinsulinRCRICategory', 'CreatinineRCRICategory', 'GradeofKidneyCategory', \n",
    "          'RDW15.7', 'ASAcategorybinned', 'ICUAdmgt24h']]\n",
    "\n",
    "y = data['Mortality_numeric']\n",
    "\n",
    "# Add a constant to the model (intercept)\n",
    "X = sm.add_constant(X)\n",
    "\n",
    "# Ensure there are no missing values\n",
    "X = X.dropna()\n",
    "y = y.loc[X.index]  # Align y with X\n",
    "\n",
    "# Fit the logistic regression model\n",
    "model = sm.Logit(y, X)\n",
    "result = model.fit()\n",
    "\n",
    "# Print the summary of the logistic regression\n",
    "print(result.summary())"
   ]
  },
  {
   "cell_type": "markdown",
   "id": "21293256-d408-4067-85f9-cea128a934e1",
   "metadata": {},
   "source": [
    "Note:<br><b>Chi-Square Tests: These tests assess the association between two variables independently. They do not account for other variables that might also be influencing the outcome.\n",
    "<b><br>\n",
    "Logistic Regression: When multiple variables are included in a logistic regression model, the effect of each variable is assessed while holding other variables constant. If some variables are highly correlated with each other (multicollinearity), it can affect the coefficients and significance levels of individual predictors."
   ]
  },
  {
   "cell_type": "markdown",
   "id": "4bdfdf4c-0e25-4244-a606-4d244116bc5f",
   "metadata": {},
   "source": [
    "In the logistic regression results, variables with p-values less than the conventional significance level of 0.05 are considered statistically significant. In this case, variables such as RCRI_score, Preoptransfusionwithin30days, PriorityCategory, AGEcategory, SurgRiskCategory, RaceCategory, IHDRCRICategory, GradeofKidneyCategory, RDW15.7, ASAcategorybinned, and ICUAdmgt24h are significant, with p-values well below 0.05. This suggests that these variables have a meaningful association with the likelihood of mortality, meaning their effects are not likely due to random chance.\n",
    "\n",
    "On the other hand, variables such as Intraop, Postopwithin30days, Transfusionintraandpostop, AnaestypeCategory, TransfusionIntraandpostopCategory, CVARCRICategory, CHFRCRICategory, DMinsulinRCRICategory, and CreatinineRCRICategory either have missing values or p-values greater than 0.05, suggesting that they do not have a statistically significant impact on mortality in this model. These non-significant results might differ from individual chi-square tests because the logistic regression model accounts for the effects of all predictors simultaneously, allowing for the assessment of each variable's effect while controlling for others. Chi-square tests, on the other hand, evaluate the association between each variable and mortality independently, which can sometimes lead to different conclusions due to the lack of control for confounding variables."
   ]
  },
  {
   "cell_type": "code",
   "execution_count": null,
   "id": "d1ee0ac0-a458-448b-90f8-e8b7f2275d08",
   "metadata": {},
   "outputs": [],
   "source": []
  }
 ],
 "metadata": {
  "kernelspec": {
   "display_name": "Python 3 (ipykernel)",
   "language": "python",
   "name": "python3"
  },
  "language_info": {
   "codemirror_mode": {
    "name": "ipython",
    "version": 3
   },
   "file_extension": ".py",
   "mimetype": "text/x-python",
   "name": "python",
   "nbconvert_exporter": "python",
   "pygments_lexer": "ipython3",
   "version": "3.12.1"
  }
 },
 "nbformat": 4,
 "nbformat_minor": 5
}
