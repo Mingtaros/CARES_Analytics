{
 "cells": [
  {
   "cell_type": "markdown",
   "id": "56a9e7fb-7475-46d2-b1ff-f5c9e25e1327",
   "metadata": {},
   "source": [
    "## Exploratory Modelling of Imputed Dataset (Clean)"
   ]
  },
  {
   "cell_type": "code",
   "execution_count": 40,
   "id": "efe69e88-95d4-426f-b706-d672f4c7562e",
   "metadata": {},
   "outputs": [],
   "source": [
    "# import dependencies\n",
    "import pandas as pd\n",
    "import duckdb\n",
    "from duckdb import sql"
   ]
  },
  {
   "cell_type": "code",
   "execution_count": 19,
   "id": "53a3c594-a700-465b-b10b-892692e45494",
   "metadata": {},
   "outputs": [],
   "source": [
    "# import dataset\n",
    "data = pd.read_csv('../data/CARES_data_imputedv1.csv', dtype={'RCRI_score':str})"
   ]
  },
  {
   "cell_type": "code",
   "execution_count": 41,
   "id": "5b17d3fd-714e-4fb7-95fd-b16cde21fd2a",
   "metadata": {},
   "outputs": [],
   "source": [
    "# convert ICU variable to [0,1]\n",
    "data['ICUAdmgt24h'] = data['ICUAdmgt24h'].replace({'yes': 1, 'no': 0})"
   ]
  },
  {
   "cell_type": "code",
   "execution_count": 42,
   "id": "9ef97de2-fd42-44dc-abfd-b945c673a302",
   "metadata": {},
   "outputs": [
    {
     "name": "stdout",
     "output_type": "stream",
     "text": [
      "<class 'pandas.core.frame.DataFrame'>\n",
      "RangeIndex: 69667 entries, 0 to 69666\n",
      "Data columns (total 24 columns):\n",
      " #   Column                             Non-Null Count  Dtype  \n",
      "---  ------                             --------------  -----  \n",
      " 0   GENDER                             69667 non-null  object \n",
      " 1   RCRI_score                         69667 non-null  object \n",
      " 2   Anemia category                    69667 non-null  object \n",
      " 3   Preoptransfusionwithin30days       69667 non-null  float64\n",
      " 4   Intraop                            69667 non-null  float64\n",
      " 5   Postopwithin30days                 69667 non-null  float64\n",
      " 6   Transfusionintraandpostop          69667 non-null  float64\n",
      " 7   AnaestypeCategory                  69667 non-null  object \n",
      " 8   PriorityCategory                   69667 non-null  object \n",
      " 9   TransfusionIntraandpostopCategory  69667 non-null  object \n",
      " 10  AGEcategory                        69667 non-null  object \n",
      " 11  Mortality                          69667 non-null  object \n",
      " 12  thirtydaymortality                 69667 non-null  bool   \n",
      " 13  SurgRiskCategory                   69667 non-null  object \n",
      " 14  RaceCategory                       69667 non-null  object \n",
      " 15  CVARCRICategory                    69667 non-null  object \n",
      " 16  IHDRCRICategory                    69667 non-null  object \n",
      " 17  CHFRCRICategory                    69667 non-null  object \n",
      " 18  DMinsulinRCRICategory              69667 non-null  object \n",
      " 19  CreatinineRCRICategory             69667 non-null  object \n",
      " 20  GradeofKidneyCategory              69667 non-null  object \n",
      " 21  RDW15.7                            69667 non-null  object \n",
      " 22  ASAcategorybinned                  69667 non-null  object \n",
      " 23  ICUAdmgt24h                        69667 non-null  int64  \n",
      "dtypes: bool(1), float64(4), int64(1), object(18)\n",
      "memory usage: 12.3+ MB\n"
     ]
    }
   ],
   "source": [
    "data.info()"
   ]
  },
  {
   "cell_type": "markdown",
   "id": "94b44218-36de-4552-a37d-11fb475e2b52",
   "metadata": {},
   "source": [
    "### Multivariate Analysis for Categorical Response \"ICUAdmg24h\""
   ]
  },
  {
   "cell_type": "code",
   "execution_count": 44,
   "id": "2148876b-ce7e-4a2f-851e-7c5290aa3436",
   "metadata": {},
   "outputs": [],
   "source": [
    "# Define categorical, numeric & target columns\n",
    "# Define the target columns\n",
    "target_cols = ['ICUAdmgt24h', 'thirtydaymortality', 'Mortality']\n",
    "\n",
    "# Select categorical columns and exclude target columns\n",
    "cat_cols = data.select_dtypes(include=['object', 'category']).columns.to_list()\n",
    "cat_cols = [col for col in cat_cols if col not in target_cols]\n",
    "\n",
    "# Select numerical columns and exclude target columns\n",
    "num_cols = data.select_dtypes(include=['number']).columns.tolist()\n",
    "num_cols = [col for col in num_cols if col not in target_cols]"
   ]
  },
  {
   "cell_type": "code",
   "execution_count": 45,
   "id": "4e08c85a-8f06-45ee-a537-23b604c5a58f",
   "metadata": {},
   "outputs": [
    {
     "data": {
      "text/html": [
       "<div>\n",
       "<style scoped>\n",
       "    .dataframe tbody tr th:only-of-type {\n",
       "        vertical-align: middle;\n",
       "    }\n",
       "\n",
       "    .dataframe tbody tr th {\n",
       "        vertical-align: top;\n",
       "    }\n",
       "\n",
       "    .dataframe thead th {\n",
       "        text-align: right;\n",
       "    }\n",
       "</style>\n",
       "<table border=\"1\" class=\"dataframe\">\n",
       "  <thead>\n",
       "    <tr style=\"text-align: right;\">\n",
       "      <th></th>\n",
       "      <th>Column</th>\n",
       "      <th>Number of Unique Values</th>\n",
       "      <th>Unique Values</th>\n",
       "    </tr>\n",
       "  </thead>\n",
       "  <tbody>\n",
       "    <tr>\n",
       "      <th>0</th>\n",
       "      <td>GENDER</td>\n",
       "      <td>2</td>\n",
       "      <td>[FEMALE, MALE]</td>\n",
       "    </tr>\n",
       "    <tr>\n",
       "      <th>1</th>\n",
       "      <td>RCRI_score</td>\n",
       "      <td>7</td>\n",
       "      <td>[0, 1, 2, 4, 3, 6, 5]</td>\n",
       "    </tr>\n",
       "    <tr>\n",
       "      <th>2</th>\n",
       "      <td>Anemia category</td>\n",
       "      <td>3</td>\n",
       "      <td>[mild, moderate/severe, none]</td>\n",
       "    </tr>\n",
       "    <tr>\n",
       "      <th>3</th>\n",
       "      <td>AnaestypeCategory</td>\n",
       "      <td>2</td>\n",
       "      <td>[GA, RA]</td>\n",
       "    </tr>\n",
       "    <tr>\n",
       "      <th>4</th>\n",
       "      <td>PriorityCategory</td>\n",
       "      <td>2</td>\n",
       "      <td>[Elective, Emergency]</td>\n",
       "    </tr>\n",
       "    <tr>\n",
       "      <th>5</th>\n",
       "      <td>TransfusionIntraandpostopCategory</td>\n",
       "      <td>3</td>\n",
       "      <td>[0 units, 1 unit, 2 or more units]</td>\n",
       "    </tr>\n",
       "    <tr>\n",
       "      <th>6</th>\n",
       "      <td>AGEcategory</td>\n",
       "      <td>6</td>\n",
       "      <td>[50-64, 65-74, 30-49, 75-84, 18-29, &gt;=85]</td>\n",
       "    </tr>\n",
       "    <tr>\n",
       "      <th>7</th>\n",
       "      <td>SurgRiskCategory</td>\n",
       "      <td>3</td>\n",
       "      <td>[Low, Moderate, High]</td>\n",
       "    </tr>\n",
       "    <tr>\n",
       "      <th>8</th>\n",
       "      <td>RaceCategory</td>\n",
       "      <td>4</td>\n",
       "      <td>[Chinese, Indian, Others, Malay]</td>\n",
       "    </tr>\n",
       "    <tr>\n",
       "      <th>9</th>\n",
       "      <td>CVARCRICategory</td>\n",
       "      <td>2</td>\n",
       "      <td>[no, yes]</td>\n",
       "    </tr>\n",
       "    <tr>\n",
       "      <th>10</th>\n",
       "      <td>IHDRCRICategory</td>\n",
       "      <td>2</td>\n",
       "      <td>[no, yes]</td>\n",
       "    </tr>\n",
       "    <tr>\n",
       "      <th>11</th>\n",
       "      <td>CHFRCRICategory</td>\n",
       "      <td>2</td>\n",
       "      <td>[no, yes]</td>\n",
       "    </tr>\n",
       "    <tr>\n",
       "      <th>12</th>\n",
       "      <td>DMinsulinRCRICategory</td>\n",
       "      <td>2</td>\n",
       "      <td>[no, yes]</td>\n",
       "    </tr>\n",
       "    <tr>\n",
       "      <th>13</th>\n",
       "      <td>CreatinineRCRICategory</td>\n",
       "      <td>2</td>\n",
       "      <td>[no, yes]</td>\n",
       "    </tr>\n",
       "    <tr>\n",
       "      <th>14</th>\n",
       "      <td>GradeofKidneyCategory</td>\n",
       "      <td>4</td>\n",
       "      <td>[G1, G2, G4-G5, G3]</td>\n",
       "    </tr>\n",
       "    <tr>\n",
       "      <th>15</th>\n",
       "      <td>RDW15.7</td>\n",
       "      <td>2</td>\n",
       "      <td>[&lt;= 15.7, &gt;15.7]</td>\n",
       "    </tr>\n",
       "    <tr>\n",
       "      <th>16</th>\n",
       "      <td>ASAcategorybinned</td>\n",
       "      <td>4</td>\n",
       "      <td>[I, II, III, IV-VI]</td>\n",
       "    </tr>\n",
       "  </tbody>\n",
       "</table>\n",
       "</div>"
      ],
      "text/plain": [
       "                               Column  Number of Unique Values  \\\n",
       "0                              GENDER                        2   \n",
       "1                          RCRI_score                        7   \n",
       "2                     Anemia category                        3   \n",
       "3                   AnaestypeCategory                        2   \n",
       "4                    PriorityCategory                        2   \n",
       "5   TransfusionIntraandpostopCategory                        3   \n",
       "6                         AGEcategory                        6   \n",
       "7                    SurgRiskCategory                        3   \n",
       "8                        RaceCategory                        4   \n",
       "9                     CVARCRICategory                        2   \n",
       "10                    IHDRCRICategory                        2   \n",
       "11                    CHFRCRICategory                        2   \n",
       "12              DMinsulinRCRICategory                        2   \n",
       "13             CreatinineRCRICategory                        2   \n",
       "14              GradeofKidneyCategory                        4   \n",
       "15                            RDW15.7                        2   \n",
       "16                  ASAcategorybinned                        4   \n",
       "\n",
       "                                Unique Values  \n",
       "0                              [FEMALE, MALE]  \n",
       "1                       [0, 1, 2, 4, 3, 6, 5]  \n",
       "2               [mild, moderate/severe, none]  \n",
       "3                                    [GA, RA]  \n",
       "4                       [Elective, Emergency]  \n",
       "5          [0 units, 1 unit, 2 or more units]  \n",
       "6   [50-64, 65-74, 30-49, 75-84, 18-29, >=85]  \n",
       "7                       [Low, Moderate, High]  \n",
       "8            [Chinese, Indian, Others, Malay]  \n",
       "9                                   [no, yes]  \n",
       "10                                  [no, yes]  \n",
       "11                                  [no, yes]  \n",
       "12                                  [no, yes]  \n",
       "13                                  [no, yes]  \n",
       "14                        [G1, G2, G4-G5, G3]  \n",
       "15                           [<= 15.7, >15.7]  \n",
       "16                        [I, II, III, IV-VI]  "
      ]
     },
     "execution_count": 45,
     "metadata": {},
     "output_type": "execute_result"
    }
   ],
   "source": [
    "# See what are the unique categories present in the categorical columns\n",
    "summary_cat_data = {\n",
    "    'Column': [],\n",
    "    'Number of Unique Values': [],\n",
    "    'Unique Values': []\n",
    "}\n",
    "\n",
    "for column in cat_cols:\n",
    "    summary_cat_data['Column'].append(column)\n",
    "    summary_cat_data['Number of Unique Values'].append(data[column].nunique())\n",
    "    summary_cat_data['Unique Values'].append(data[column].unique())\n",
    "\n",
    "summary_df = pd.DataFrame(summary_cat_data)\n",
    "summary_df\n",
    "# There are no NaN values in the columns"
   ]
  },
  {
   "cell_type": "code",
   "execution_count": 46,
   "id": "49a0f188-45b3-47c4-ae12-78a8c3b24af1",
   "metadata": {},
   "outputs": [
    {
     "data": {
      "text/plain": [
       "Index(['Preoptransfusionwithin30days', 'Intraop', 'Postopwithin30days',\n",
       "       'Transfusionintraandpostop', 'Mortality', 'thirtydaymortality',\n",
       "       'ICUAdmgt24h', 'GENDER_MALE', 'RCRI_score_1', 'RCRI_score_2',\n",
       "       'RCRI_score_3', 'RCRI_score_4', 'RCRI_score_5', 'RCRI_score_6',\n",
       "       'Anemia category_moderate/severe', 'Anemia category_none',\n",
       "       'AnaestypeCategory_RA', 'PriorityCategory_Emergency',\n",
       "       'TransfusionIntraandpostopCategory_1 unit',\n",
       "       'TransfusionIntraandpostopCategory_2 or more units',\n",
       "       'AGEcategory_30-49', 'AGEcategory_50-64', 'AGEcategory_65-74',\n",
       "       'AGEcategory_75-84', 'AGEcategory_>=85', 'SurgRiskCategory_Low',\n",
       "       'SurgRiskCategory_Moderate', 'RaceCategory_Indian',\n",
       "       'RaceCategory_Malay', 'RaceCategory_Others', 'CVARCRICategory_yes',\n",
       "       'IHDRCRICategory_yes', 'CHFRCRICategory_yes',\n",
       "       'DMinsulinRCRICategory_yes', 'CreatinineRCRICategory_yes',\n",
       "       'GradeofKidneyCategory_G2', 'GradeofKidneyCategory_G3',\n",
       "       'GradeofKidneyCategory_G4-G5', 'RDW15.7_>15.7', 'ASAcategorybinned_II',\n",
       "       'ASAcategorybinned_III', 'ASAcategorybinned_IV-VI'],\n",
       "      dtype='object')"
      ]
     },
     "execution_count": 46,
     "metadata": {},
     "output_type": "execute_result"
    }
   ],
   "source": [
    "# One-hot encode the 'AKIN' and 'age_category' columns with drop_first to prevent multicollinearity\n",
    "encoded_data = pd.get_dummies(data, columns=cat_cols, drop_first=True)\n",
    "encoded_data.columns"
   ]
  },
  {
   "cell_type": "code",
   "execution_count": 47,
   "id": "14502d4e-774a-451f-9fb4-84f1c80e50c1",
   "metadata": {},
   "outputs": [
    {
     "name": "stdout",
     "output_type": "stream",
     "text": [
      "Numerical and boolean columns: ['Preoptransfusionwithin30days', 'Intraop', 'Postopwithin30days', 'Transfusionintraandpostop', 'thirtydaymortality', 'ICUAdmgt24h', 'GENDER_MALE', 'RCRI_score_1', 'RCRI_score_2', 'RCRI_score_3', 'RCRI_score_4', 'RCRI_score_5', 'RCRI_score_6', 'Anemia category_moderate/severe', 'Anemia category_none', 'AnaestypeCategory_RA', 'PriorityCategory_Emergency', 'TransfusionIntraandpostopCategory_1 unit', 'TransfusionIntraandpostopCategory_2 or more units', 'AGEcategory_30-49', 'AGEcategory_50-64', 'AGEcategory_65-74', 'AGEcategory_75-84', 'AGEcategory_>=85', 'SurgRiskCategory_Low', 'SurgRiskCategory_Moderate', 'RaceCategory_Indian', 'RaceCategory_Malay', 'RaceCategory_Others', 'CVARCRICategory_yes', 'IHDRCRICategory_yes', 'CHFRCRICategory_yes', 'DMinsulinRCRICategory_yes', 'CreatinineRCRICategory_yes', 'GradeofKidneyCategory_G2', 'GradeofKidneyCategory_G3', 'GradeofKidneyCategory_G4-G5', 'RDW15.7_>15.7', 'ASAcategorybinned_II', 'ASAcategorybinned_III', 'ASAcategorybinned_IV-VI']\n"
     ]
    }
   ],
   "source": [
    "# Function to get all numerical and boolean columns\n",
    "def get_numeric_and_bool_columns(data):\n",
    "    \"\"\"\n",
    "    Obtain all numerical and boolean columns from a dataset.\n",
    "\n",
    "    Parameters:\n",
    "    - data (pd.DataFrame): The dataset from which to extract columns.\n",
    "\n",
    "    Returns:\n",
    "    - list: A list of column names that are numerical or boolean.\n",
    "    \"\"\"\n",
    "    # Select columns with numeric and bool data types\n",
    "    numeric_and_bool_cols = data.select_dtypes(include=['number', 'bool']).columns.tolist()\n",
    "    return numeric_and_bool_cols\n",
    "\n",
    "# Get the list of numerical and boolean columns\n",
    "encoded_col = get_numeric_and_bool_columns(encoded_data)\n",
    "\n",
    "# Print the result\n",
    "print(\"Numerical and boolean columns:\", encoded_col)"
   ]
  },
  {
   "cell_type": "markdown",
   "id": "41bf268b-df02-452b-8f00-cf3c9260eafc",
   "metadata": {},
   "source": [
    "### Estimate Logistic Regression Model (for feature importance)"
   ]
  },
  {
   "cell_type": "code",
   "execution_count": 55,
   "id": "a1f8f5a8-9e5f-4847-ad51-042e2c83f87b",
   "metadata": {},
   "outputs": [
    {
     "name": "stdout",
     "output_type": "stream",
     "text": [
      "Warning: Maximum number of iterations has been exceeded.\n",
      "         Current function value: 0.071261\n",
      "         Iterations: 35\n",
      "                           Logit Regression Results                           \n",
      "==============================================================================\n",
      "Dep. Variable:            ICUAdmgt24h   No. Observations:                69667\n",
      "Model:                          Logit   Df Residuals:                    69648\n",
      "Method:                           MLE   Df Model:                           18\n",
      "Date:                Sat, 03 Aug 2024   Pseudo R-squ.:                  0.1639\n",
      "Time:                        19:08:01   Log-Likelihood:                -4964.5\n",
      "converged:                      False   LL-Null:                       -5937.5\n",
      "Covariance Type:            nonrobust   LLR p-value:                     0.000\n",
      "===================================================================================================\n",
      "                                      coef    std err          z      P>|z|      [0.025      0.975]\n",
      "---------------------------------------------------------------------------------------------------\n",
      "const                              -6.1641      0.219    -28.101      0.000      -6.594      -5.734\n",
      "GENDER_MALE                         0.4190      0.064      6.554      0.000       0.294       0.544\n",
      "RCRI_score_1                        0.6173      0.072      8.519      0.000       0.475       0.759\n",
      "RCRI_score_2                        0.6075      0.103      5.879      0.000       0.405       0.810\n",
      "RCRI_score_3                        0.6876      0.149      4.600      0.000       0.395       0.981\n",
      "RCRI_score_4                        0.4322      0.268      1.610      0.107      -0.094       0.958\n",
      "RCRI_score_5                        0.6166      0.575      1.072      0.284      -0.511       1.744\n",
      "RCRI_score_6                      -12.5656   2405.841     -0.005      0.996   -4727.927    4702.796\n",
      "Anemia category_moderate/severe     0.3242      0.087      3.720      0.000       0.153       0.495\n",
      "Anemia category_none               -0.2181      0.084     -2.608      0.009      -0.382      -0.054\n",
      "AGEcategory_30-49                   0.0979      0.181      0.542      0.588      -0.256       0.452\n",
      "AGEcategory_50-64                   0.2403      0.175      1.375      0.169      -0.102       0.583\n",
      "AGEcategory_65-74                   0.4294      0.177      2.420      0.016       0.082       0.777\n",
      "AGEcategory_75-84                   0.5456      0.183      2.987      0.003       0.188       0.904\n",
      "AGEcategory_>=85                    0.3980      0.225      1.767      0.077      -0.043       0.839\n",
      "RDW15.7_>15.7                       0.2094      0.082      2.568      0.010       0.050       0.369\n",
      "ASAcategorybinned_II                0.8962      0.165      5.426      0.000       0.572       1.220\n",
      "ASAcategorybinned_III               1.9450      0.170     11.459      0.000       1.612       2.278\n",
      "ASAcategorybinned_IV-VI             3.8703      0.180     21.490      0.000       3.517       4.223\n",
      "===================================================================================================\n"
     ]
    },
    {
     "name": "stderr",
     "output_type": "stream",
     "text": [
      "/Users/jinkettyee/opt/anaconda3/envs/playground_py_3_9_15/lib/python3.9/site-packages/statsmodels/base/model.py:604: ConvergenceWarning: Maximum Likelihood optimization failed to converge. Check mle_retvals\n",
      "  warnings.warn(\"Maximum Likelihood optimization failed to \"\n"
     ]
    }
   ],
   "source": [
    "import statsmodels.api as sm\n",
    "\n",
    "# Define the variables for the logistic regression model\n",
    "X = encoded_data[['GENDER_MALE', 'RCRI_score_1', 'RCRI_score_2', 'RCRI_score_3', 'RCRI_score_4', 'RCRI_score_5', 'RCRI_score_6', 'Anemia category_moderate/severe', 'Anemia category_none', 'AGEcategory_30-49', 'AGEcategory_50-64', 'AGEcategory_65-74','AGEcategory_75-84', 'AGEcategory_>=85', 'RDW15.7_>15.7', 'ASAcategorybinned_II', 'ASAcategorybinned_III', 'ASAcategorybinned_IV-VI']]\n",
    "y = encoded_data['ICUAdmgt24h']\n",
    "\n",
    "# Convert the data to ensure compatibility with the logistic regression model package\n",
    "X = X.astype(float)\n",
    "y = y.astype(float)\n",
    "\n",
    "X = sm.add_constant(X)\n",
    "\n",
    "# Fit the logistic regression model\n",
    "logit_model = sm.Logit(y, X)\n",
    "result = logit_model.fit()\n",
    "\n",
    "# Display the summary of the logistic regression model\n",
    "summary = result.summary()\n",
    "print(summary)"
   ]
  },
  {
   "cell_type": "markdown",
   "id": "06e88be7-d63a-428a-91ae-1c7ca79c6733",
   "metadata": {},
   "source": [
    "### Findings/Conclusions:\n",
    "1. ASAcategorybinned_IV-VI\n",
    "- Coefficient: 3.8703\n",
    "- Interpretation: A presence of ASA PS Score of (IV-VI) increases the log-odds of ICU admission (24H) by 3.8703. This translates to an odds ratio of (e^3.8703\\approx 47.96), indicating that an ASA PS Score of (IV-VI) increases the ods of ICU admission (24H) by approximately 50 times!, holding other factors constant."
   ]
  },
  {
   "cell_type": "code",
   "execution_count": null,
   "id": "b27a5dcb-f9fe-462f-9c51-ce0458af34cd",
   "metadata": {},
   "outputs": [],
   "source": []
  }
 ],
 "metadata": {
  "kernelspec": {
   "display_name": "Python 3 (ipykernel)",
   "language": "python",
   "name": "python3"
  },
  "language_info": {
   "codemirror_mode": {
    "name": "ipython",
    "version": 3
   },
   "file_extension": ".py",
   "mimetype": "text/x-python",
   "name": "python",
   "nbconvert_exporter": "python",
   "pygments_lexer": "ipython3",
   "version": "3.9.15"
  }
 },
 "nbformat": 4,
 "nbformat_minor": 5
}
